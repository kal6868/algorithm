{
 "cells": [
  {
   "cell_type": "markdown",
   "id": "9e72909e",
   "metadata": {},
   "source": [
    "# 저자 풀이"
   ]
  },
  {
   "cell_type": "code",
   "execution_count": 16,
   "id": "2a9556b6",
   "metadata": {},
   "outputs": [
    {
     "name": "stdout",
     "output_type": "stream",
     "text": [
      "K1KA5CB7\n",
      "ABCKK13\n"
     ]
    }
   ],
   "source": [
    "data = input()\n",
    "result = []\n",
    "value = 0\n",
    "\n",
    "# 문자를 하나씩 확인하며\n",
    "for x in data:\n",
    "    # 알파벳인 경우 결과 리스트에 삽입\n",
    "    if x.isalpha():\n",
    "        result.append(x)\n",
    "    # 숫자는 따로 더하기\n",
    "    else:\n",
    "        value += int(x)\n",
    "\n",
    "# 알파벳을 오름차순으로 정렬\n",
    "result.sort()\n",
    "\n",
    "# 숫자가 하나라도 존재하는 경우 가장 뒤에 삽입\n",
    "if value != 0:\n",
    "    result.append(str(value))\n",
    "\n",
    "# 최종 결과 출력(리스트를 문자열로 변환하여 출력)\n",
    "print(''.join(result))"
   ]
  },
  {
   "cell_type": "markdown",
   "id": "c77826c2",
   "metadata": {},
   "source": [
    "# 내 풀이"
   ]
  },
  {
   "cell_type": "code",
   "execution_count": 13,
   "id": "6b86be37",
   "metadata": {},
   "outputs": [],
   "source": [
    "def solution(data):\n",
    "    str_data = []\n",
    "    int_data = 0\n",
    "    for i in data:\n",
    "        if i.isdigit():\n",
    "            int_data += int(i)\n",
    "        else:\n",
    "            str_data.append(i)\n",
    "            \n",
    "    str_data = ''.join(sorted(str_data))\n",
    "    int_data = str(int_data)\n",
    "    answer = str_data + str(int_data)\n",
    "    return answer"
   ]
  },
  {
   "cell_type": "code",
   "execution_count": 14,
   "id": "6d4c92a4",
   "metadata": {},
   "outputs": [
    {
     "name": "stdout",
     "output_type": "stream",
     "text": [
      "ABCKK13\n",
      "ADDIJJJKKLSS20\n"
     ]
    }
   ],
   "source": [
    "for data in ['K1KA5CB7', 'AJKDLSI412K4JSJ9D']:\n",
    "    print(solution(data))"
   ]
  },
  {
   "cell_type": "markdown",
   "id": "3e8d5e30",
   "metadata": {},
   "source": [
    "# Note"
   ]
  },
  {
   "cell_type": "markdown",
   "id": "def3ddeb",
   "metadata": {},
   "source": [
    "* for문을 사용하여 data를 탐색하면서 isdigit함수를 이용해 문자열이면 str_data List에 담고, 숫자형인 문자열이면 int로 숫자형으로 변환하여 int_data에 더해준다.\n",
    "* 탐색이 끝나면 str_data를 정렬후 join을 사용하여 다 붙여주고, 맨 뒤쪽에 숫자들의 합산을 다시 문자열로 변경하여 붙여준다."
   ]
  }
 ],
 "metadata": {
  "kernelspec": {
   "display_name": "Python 3 (ipykernel)",
   "language": "python",
   "name": "python3"
  },
  "language_info": {
   "codemirror_mode": {
    "name": "ipython",
    "version": 3
   },
   "file_extension": ".py",
   "mimetype": "text/x-python",
   "name": "python",
   "nbconvert_exporter": "python",
   "pygments_lexer": "ipython3",
   "version": "3.9.13"
  }
 },
 "nbformat": 4,
 "nbformat_minor": 5
}
