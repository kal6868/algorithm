{
 "cells": [
  {
   "cell_type": "markdown",
   "id": "48b6449f",
   "metadata": {},
   "source": [
    "## 저자풀이"
   ]
  },
  {
   "cell_type": "code",
   "execution_count": null,
   "id": "dc65e25b",
   "metadata": {},
   "outputs": [],
   "source": [
    "# N 입력받기\n",
    "n = int(input())\n",
    "x, y = 1, 1\n",
    "plans = input().split()\n",
    "\n",
    "# L, R, U, D에 따른 이동 방향\n",
    "dx = [0, 0, -1, 1]\n",
    "dy = [-1, 1, 0, 0]\n",
    "move_types = ['L', 'R', 'U', 'D']\n",
    "\n",
    "# 이동 계획을 하나씩 확인\n",
    "for plan in plans:\n",
    "    # 이동 후 좌표 구하기\n",
    "    for i in range(len(move_types)):\n",
    "        if plan == move_types[i]:\n",
    "            nx = x + dx[i]\n",
    "            ny = y + dy[i]\n",
    "    # 공간을 벗어나는 경우 무시\n",
    "    if nx < 1 or ny < 1 or nx > n or ny > n:\n",
    "        continue\n",
    "    # 이동 수행\n",
    "    x, y = nx, ny\n",
    "\n",
    "print(x, y)"
   ]
  },
  {
   "cell_type": "markdown",
   "id": "58770c07",
   "metadata": {},
   "source": [
    "## 내 풀이"
   ]
  },
  {
   "cell_type": "code",
   "execution_count": 5,
   "id": "b5bda77a",
   "metadata": {},
   "outputs": [],
   "source": [
    "def answer(n, movement):\n",
    "    moves = list(movement)\n",
    "    x, y = 1, 1\n",
    "    # x,y의 표현법에 따라서 달라짐\n",
    "    dx = [0, 0, -1, 1]\n",
    "    dy = [-1, 1, 0, 0]\n",
    "    move_type = ['L', 'R', 'U', 'D']\n",
    "    \n",
    "    for move in moves:\n",
    "        i = move_type.index(move)\n",
    "        nx = x + dx[i]\n",
    "        ny = y + dy[i]\n",
    "        if (nx < 1) or (ny < 1) or (nx > n) or (ny > n):\n",
    "            continue\n",
    "        x, y = nx, ny\n",
    "    return x, y\n",
    "    "
   ]
  },
  {
   "cell_type": "code",
   "execution_count": 6,
   "id": "a1402e55",
   "metadata": {
    "scrolled": true
   },
   "outputs": [
    {
     "name": "stdout",
     "output_type": "stream",
     "text": [
      "(3, 4)\n"
     ]
    }
   ],
   "source": [
    "n, movement = 5, 'RRRUDD'\n",
    "print(answer(n, movement))"
   ]
  },
  {
   "cell_type": "markdown",
   "id": "8271a5ed",
   "metadata": {},
   "source": [
    "## Note"
   ]
  },
  {
   "cell_type": "markdown",
   "id": "f8dcc977",
   "metadata": {},
   "source": [
    "* 시작점 x, y을 할당하고 (해당 문제에선 x, y = 1, 1이나 경우에 따라선 x, y = 0. 0인 경우도 존재) 좌표에 맞게 한번 이동시 x값의 위치변화와 y값의 위치변화를 명시하고, 이동시 해당 값을 적용한다.(Dictionary로 만드는 것도 가능)\n",
    "* 이동을 할 때 마다 이동에 맞는 x, y값을 현재 x, y 값에 적용한다(nx, ny). 다만, 적용 값인 nx, ny 가 좌표 평면을 벗어나면(이 문제에서는 1, 5) 해당 값은 적용하지 않는다.\n",
    "* 저자는 move_type 전체를 탐색해서 index을 찾았지만 나는 list.index('str')를 이용해서 인덱스를 찾아냈다. 원소가 중복되는 것이 없을 때만 사용이 가능하다."
   ]
  }
 ],
 "metadata": {
  "kernelspec": {
   "display_name": "Python 3 (ipykernel)",
   "language": "python",
   "name": "python3"
  },
  "language_info": {
   "codemirror_mode": {
    "name": "ipython",
    "version": 3
   },
   "file_extension": ".py",
   "mimetype": "text/x-python",
   "name": "python",
   "nbconvert_exporter": "python",
   "pygments_lexer": "ipython3",
   "version": "3.9.7"
  }
 },
 "nbformat": 4,
 "nbformat_minor": 5
}
