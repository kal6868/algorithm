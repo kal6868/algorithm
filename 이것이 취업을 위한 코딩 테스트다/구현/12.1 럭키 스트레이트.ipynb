{
 "cells": [
  {
   "cell_type": "markdown",
   "id": "701e8252",
   "metadata": {},
   "source": [
    "## 저자 풀이"
   ]
  },
  {
   "cell_type": "code",
   "execution_count": 1,
   "id": "d252b40b",
   "metadata": {
    "scrolled": true
   },
   "outputs": [
    {
     "name": "stdout",
     "output_type": "stream",
     "text": [
      "123402\n",
      "LUCKY\n"
     ]
    }
   ],
   "source": [
    "n = input()\n",
    "length = len(n) # 점수 값의 총 자릿수\n",
    "summary = 0\n",
    "\n",
    "# 왼쪽 부분의 자릿수의 합 더하기\n",
    "for i in range(length // 2):\n",
    "    summary += int(n[i])\n",
    "\n",
    "# 오른쪽 부분의 자릿수의 합 빼기\n",
    "for i in range(length // 2, length):\n",
    "    summary -= int(n[i])\n",
    "\n",
    "# 왼쪽 부분과 오른쪽 부분의 자릿수 합이 동일한지 검사\n",
    "if summary == 0:\n",
    "    print(\"LUCKY\")\n",
    "else:\n",
    "    print(\"READY\")"
   ]
  },
  {
   "cell_type": "markdown",
   "id": "88f9a136",
   "metadata": {},
   "source": [
    "# 내 풀이"
   ]
  },
  {
   "cell_type": "code",
   "execution_count": 2,
   "id": "af861dd2",
   "metadata": {},
   "outputs": [],
   "source": [
    "data = '123402'\n",
    "def solution(data):\n",
    "    h = int(len(data)/2)\n",
    "    left_p, right_p = data[:h], data[h:]\n",
    "    left_sum = sum(map(int, list(left_p)))\n",
    "    right_sum = sum(map(int, list(right_p)))\n",
    "    if left_sum == right_sum:\n",
    "        return 'LUCKY'\n",
    "    else:\n",
    "        return 'READY'"
   ]
  },
  {
   "cell_type": "code",
   "execution_count": 3,
   "id": "ffdf3ab4",
   "metadata": {},
   "outputs": [
    {
     "name": "stdout",
     "output_type": "stream",
     "text": [
      "LUCKY\n",
      "READY\n"
     ]
    }
   ],
   "source": [
    "for data in ['123402', '7755']:\n",
    "    print(solution(data))"
   ]
  },
  {
   "cell_type": "markdown",
   "id": "bf66075f",
   "metadata": {},
   "source": [
    "# Note"
   ]
  },
  {
   "cell_type": "markdown",
   "id": "b8d17683",
   "metadata": {},
   "source": [
    " * 입력되는 수의 자릿수는 항상 짝수이므로 2로 나눠 정 가운데 index를 구한다.\n",
    " * 가운데를 기준으로 왼쪽 부분과 오른쪽 부분으로 분리한다. 문자열 형식의 데이터를 분리하고 숫자형으로 바꾼 뒤 List에 담고, 합계를 구한다.\n",
    " * 두 List의 합이 같으면 'LUCKY'를 반환하고, 다르면 'READY'를 반환한다.\n",
    " * 저자는 왼쪽부분의 합과 오른쪽 부분의 합을 빼는 방식을 사용하였다."
   ]
  }
 ],
 "metadata": {
  "kernelspec": {
   "display_name": "Python 3 (ipykernel)",
   "language": "python",
   "name": "python3"
  },
  "language_info": {
   "codemirror_mode": {
    "name": "ipython",
    "version": 3
   },
   "file_extension": ".py",
   "mimetype": "text/x-python",
   "name": "python",
   "nbconvert_exporter": "python",
   "pygments_lexer": "ipython3",
   "version": "3.9.7"
  }
 },
 "nbformat": 4,
 "nbformat_minor": 5
}
