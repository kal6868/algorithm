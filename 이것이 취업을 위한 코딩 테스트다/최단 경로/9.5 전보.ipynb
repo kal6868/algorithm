{
 "cells": [
  {
   "cell_type": "markdown",
   "id": "701e8252",
   "metadata": {},
   "source": [
    "## Dijkstra algorithm"
   ]
  },
  {
   "cell_type": "code",
   "execution_count": 1,
   "id": "d252b40b",
   "metadata": {
    "scrolled": true
   },
   "outputs": [
    {
     "name": "stdout",
     "output_type": "stream",
     "text": [
      "3 2 1\n",
      "1 2 4\n",
      "1 3 2\n",
      "2 4\n"
     ]
    }
   ],
   "source": [
    "import heapq\n",
    "import sys\n",
    "# input = sys.stdin.readline\n",
    "INF = int(1e9) # 무한을 의미하는 값으로 10억을 설정\n",
    "\n",
    "# 노드의 개수, 간선의 개수, 시작 노드를 입력받기\n",
    "n, m, start = map(int, input().split())\n",
    "# 각 노드에 연결되어 있는 노드에 대한 정보를 담는 리스트를 만들기\n",
    "graph = [[] for i in range(n + 1)]\n",
    "# 최단 거리 테이블을 모두 무한으로 초기화\n",
    "distance = [INF] * (n + 1)\n",
    "\n",
    "# 모든 간선 정보를 입력받기\n",
    "for _ in range(m):\n",
    "    x, y, z = map(int, input().split())\n",
    "    # X번 노드에서 Y번 노드로 가는 비용이 Z라는 의미\n",
    "    graph[x].append((y, z))\n",
    "\n",
    "def dijkstra(start):\n",
    "   q = []\n",
    "   # 시작 노드로 가기 위한 최단 경로는 0으로 설정하여, 큐에 삽입\n",
    "   heapq.heappush(q, (0, start))\n",
    "   distance[start] = 0\n",
    "   while q: # 큐가 비어있지 않다면\n",
    "        # 가장 최단 거리가 짧은 노드에 대한 정보를 꺼내기\n",
    "        dist, now = heapq.heappop(q)\n",
    "        if distance[now] < dist:\n",
    "            continue\n",
    "        # 현재 노드와 연결된 다른 인접한 노드들을 확인\n",
    "        for i in graph[now]:\n",
    "            cost = dist + i[1]\n",
    "            # 현재 노드를 거쳐서, 다른 노드로 이동하는 거리가 더 짧은 경우\n",
    "            if cost < distance[i[0]]:\n",
    "                distance[i[0]] = cost\n",
    "                heapq.heappush(q, (cost, i[0]))\n",
    "\n",
    "# 다익스트라 알고리즘을 수행\n",
    "dijkstra(start)\n",
    "\n",
    "# 도달할 수 있는 노드의 개수\n",
    "count = 0\n",
    "# 도달할 수 있는 노드 중에서, 가장 멀리 있는 노드와의 최단 거리\n",
    "max_distance = 0\n",
    "for d in distance:\n",
    "    # 도달할 수 있는 노드인 경우\n",
    "    if d != 1e9:\n",
    "        count += 1\n",
    "        max_distance = max(max_distance, d)\n",
    "\n",
    "# 시작 노드는 제외해야 하므로 count - 1을 출력\n",
    "print(count - 1, max_distance)\n"
   ]
  },
  {
   "cell_type": "code",
   "execution_count": 2,
   "id": "b69d2eb9",
   "metadata": {},
   "outputs": [],
   "source": [
    "num_node, num_edge, start = 3, 2, 1\n",
    "path = [[1,2,4], [1,3,2]]"
   ]
  },
  {
   "cell_type": "markdown",
   "id": "da866a6c",
   "metadata": {},
   "source": [
    "## 내 풀이"
   ]
  },
  {
   "cell_type": "code",
   "execution_count": 3,
   "id": "ca75f2fe",
   "metadata": {},
   "outputs": [],
   "source": [
    "def dijkstra(num_node, num_edge, start, path):\n",
    "    graph = [[] for _ in range(num_node + 1)]\n",
    "    distance = [float(\"inf\")] * (num_node + 1)\n",
    "    \n",
    "    for start_node, end_node, dist in path:\n",
    "        graph[start_node].append(( end_node, dist))\n",
    "        \n",
    "    q = []\n",
    "    heapq.heappush(q, (0, start))\n",
    "    distance[start] = 0\n",
    "    \n",
    "    while q:\n",
    "        dist, now = heapq.heappop(q)\n",
    "        if distance[now] < dist:\n",
    "            continue\n",
    "        else:\n",
    "            for i in graph[now]:\n",
    "                cost = dist + i[1]\n",
    "                if cost < distance[i[0]]:\n",
    "                    distance[i[0]] = cost\n",
    "                    heapq.heappush(q, (cost, i[0]))\n",
    "    for i, d in enumerate(distance):\n",
    "        if (d != 0) and (d != float('inf')):\n",
    "            print(f'Destination {i} City, Requires {d} Seconds')"
   ]
  },
  {
   "cell_type": "code",
   "execution_count": 4,
   "id": "48d8e87b",
   "metadata": {},
   "outputs": [
    {
     "name": "stdout",
     "output_type": "stream",
     "text": [
      "Destination 2 City, Requires 4 Seconds\n",
      "Destination 3 City, Requires 2 Seconds\n"
     ]
    }
   ],
   "source": [
    "dijkstra(num_node, num_edge, start, path)"
   ]
  },
  {
   "cell_type": "markdown",
   "id": "246b9d6d",
   "metadata": {},
   "source": [
    "* 우선순위 큐를 사용한 다익스트라 알고리즘을 사용해서 해당 node까지의 최소 거리를 구한다.\n",
    "* 각 node의 연결 경로와 거리를 저장한 2차원 리스트인 Graph를 먼저 만들고, 해당 노드까지의 최소 거리를 저장할 distance List를 만든다(초기 값은 inf).\n",
    "* (0, 시작 노드)를 먼저 우선순위 큐에 담아 놓고, heappop을 사용해서 꺼내온 뒤, graph 정보를 연결되어 있는 node의 거리를 distance에 업데이트 한다. 그 후, 거리가 가장 가까운 node를 시작 node로 설정하고, 해당 node에 연결된 node의 거리가 기존의 거리보다 짧거나, 최초 시작 노드에서 연결 되지 않은 경우 distance의 거리를 업데이트 한다. 이 과정을 반복하면 distance에 node의 최단 거리가 저장된다."
   ]
  }
 ],
 "metadata": {
  "kernelspec": {
   "display_name": "Python 3 (ipykernel)",
   "language": "python",
   "name": "python3"
  },
  "language_info": {
   "codemirror_mode": {
    "name": "ipython",
    "version": 3
   },
   "file_extension": ".py",
   "mimetype": "text/x-python",
   "name": "python",
   "nbconvert_exporter": "python",
   "pygments_lexer": "ipython3",
   "version": "3.9.7"
  }
 },
 "nbformat": 4,
 "nbformat_minor": 5
}
