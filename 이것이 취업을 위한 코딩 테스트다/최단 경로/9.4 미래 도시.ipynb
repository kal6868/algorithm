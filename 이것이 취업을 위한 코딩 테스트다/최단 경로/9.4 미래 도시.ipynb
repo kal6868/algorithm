{
 "cells": [
  {
   "cell_type": "markdown",
   "id": "701e8252",
   "metadata": {},
   "source": [
    "## 저자풀이"
   ]
  },
  {
   "cell_type": "code",
   "execution_count": 39,
   "id": "b69d2eb9",
   "metadata": {},
   "outputs": [
    {
     "name": "stdout",
     "output_type": "stream",
     "text": [
      "5 7\n",
      "1 2\n",
      "1 3\n",
      "1 4\n",
      "2 4\n",
      "3 4\n",
      "3 5\n",
      "4 5\n",
      "4 5\n",
      "3\n"
     ]
    }
   ],
   "source": [
    "INF = int(1e9) # 무한을 의미하는 값으로 10억을 설정\n",
    "\n",
    "# 노드의 개수 및 간선의 개수를 입력받기\n",
    "n, m = map(int, input().split())\n",
    "# 2차원 리스트(그래프 표현)를 만들고, 모든 값을 무한으로 초기화\n",
    "graph = [[INF] * (n + 1) for _ in range(n + 1)]\n",
    "\n",
    "# 자기 자신에서 자기 자신으로 가는 비용은 0으로 초기화\n",
    "for a in range(1, n + 1):\n",
    "    for b in range(1, n + 1):\n",
    "        if a == b:\n",
    "            graph[a][b] = 0\n",
    "\n",
    "# 각 간선에 대한 정보를 입력 받아, 그 값으로 초기화\n",
    "for _ in range(m):\n",
    "    # A와 B가 서로에게 가는 비용은 1이라고 설정\n",
    "    a, b = map(int, input().split())\n",
    "    graph[a][b] = 1\n",
    "    graph[b][a] = 1\n",
    "\n",
    "# 거쳐 갈 노드 X와 최종 목적지 노드 K를 입력받기\n",
    "x, k = map(int, input().split())\n",
    "\n",
    "# 점화식에 따라 플로이드 워셜 알고리즘을 수행\n",
    "for k in range(1, n + 1):\n",
    "    for a in range(1, n + 1):\n",
    "        for b in range(1, n + 1):\n",
    "            graph[a][b] = min(graph[a][b], graph[a][k] + graph[k][b])\n",
    "\n",
    "# 수행된 결과를 출력\n",
    "distance = graph[1][k] + graph[k][x]\n",
    "\n",
    "# 도달할 수 없는 경우, -1을 출력\n",
    "if distance >= 1e9:\n",
    "    print(\"-1\")\n",
    "# 도달할 수 있다면, 최단 거리를 출력\n",
    "else:\n",
    "    print(distance)"
   ]
  },
  {
   "cell_type": "markdown",
   "id": "da866a6c",
   "metadata": {},
   "source": [
    "## 내 풀이"
   ]
  },
  {
   "cell_type": "code",
   "execution_count": 37,
   "id": "ca75f2fe",
   "metadata": {},
   "outputs": [],
   "source": [
    "def solution(n, path, x, k):\n",
    "    graph = [[float(\"inf\")] * (n+1) for _ in range(n+1)]\n",
    "    \n",
    "    for a in range(1, n+1):\n",
    "        for b in range(1, n+1):\n",
    "            if a == b:\n",
    "                graph[a][b] = 0\n",
    "    for a, b in path:\n",
    "        graph[a][b] = 1\n",
    "        graph[b][a] = 1\n",
    "    \n",
    "    for k in range(n+1):\n",
    "        for a in range(n+1):\n",
    "            for b in range(n+1):\n",
    "                graph[a][b] = min(graph[a][b], graph[a][k] + graph[k][b])\n",
    "                \n",
    "    for _ in graph:\n",
    "        print(_, end = '\\n')\n",
    "        \n",
    "    distance = graph[1][k] + graph[k][x]\n",
    "    \n",
    "    if distance == float(\"inf\"):\n",
    "        return -1\n",
    "    else:\n",
    "        return distance"
   ]
  },
  {
   "cell_type": "code",
   "execution_count": 38,
   "id": "48d8e87b",
   "metadata": {},
   "outputs": [
    {
     "name": "stdout",
     "output_type": "stream",
     "text": [
      "[inf, inf, inf, inf, inf, inf]\n",
      "[inf, 0, 1, 1, 1, 2]\n",
      "[inf, 1, 0, 2, 1, 2]\n",
      "[inf, 1, 2, 0, 1, 1]\n",
      "[inf, 1, 1, 1, 0, 1]\n",
      "[inf, 2, 2, 1, 1, 0]\n"
     ]
    },
    {
     "data": {
      "text/plain": [
       "3"
      ]
     },
     "execution_count": 38,
     "metadata": {},
     "output_type": "execute_result"
    }
   ],
   "source": [
    "path = [[1, 2], [1, 3], [1, 4], [2, 4], [3, 4], [3, 5], [4, 5]]\n",
    "n, x, k = 5, 4, 5\n",
    "solution(n, path, x, k)"
   ]
  },
  {
   "cell_type": "markdown",
   "id": "77a3c758",
   "metadata": {},
   "source": [
    "## Note"
   ]
  },
  {
   "cell_type": "markdown",
   "id": "2540a609",
   "metadata": {},
   "source": [
    "* 시작 지점(노드 \\#1)에서 목적 지점(노드 \\#n)으로 가는 방법 중 거리가 가장 짦은 최단 경로를 갱신하는 플로이드 워셜 알고리즘을 적용\n",
    "* 모든 요소가 inf로 채워진 2차원 배열을 만들고(n+1을 하는 이유는 시작 노드를 0이 아닌 1로 사용하기 위함), 이어진 노드들은 노드의 거리로 요소를 업데이트 한다. 자기 자신과의 거리에는 0으로 설정한다.(대각선에 위치한 요소들은 0이 된다는 것)\n",
    "* 삼중 for문을 사용해서, 해당 거리를 일직선으로 가는 것보다, 다른 경로로 우회할 때, 거리가 더 짧은 경로가 있다면, 더 짧은 거리로 최신화 하고 일직선으로 이어지지 않은 거리는 inf로 설정해놨기 때문에, 일직선으로 이어지지 않았다면 우회하는 경로 중 가장 짧은 거리로 업데이트 된다."
   ]
  }
 ],
 "metadata": {
  "kernelspec": {
   "display_name": "Python 3 (ipykernel)",
   "language": "python",
   "name": "python3"
  },
  "language_info": {
   "codemirror_mode": {
    "name": "ipython",
    "version": 3
   },
   "file_extension": ".py",
   "mimetype": "text/x-python",
   "name": "python",
   "nbconvert_exporter": "python",
   "pygments_lexer": "ipython3",
   "version": "3.9.7"
  }
 },
 "nbformat": 4,
 "nbformat_minor": 5
}
