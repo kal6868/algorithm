{
 "cells": [
  {
   "cell_type": "markdown",
   "id": "da866a6c",
   "metadata": {},
   "source": [
    "## Floyd-Warshall algorithm"
   ]
  },
  {
   "cell_type": "code",
   "execution_count": 1,
   "id": "a404b98d",
   "metadata": {},
   "outputs": [],
   "source": [
    "num_node = 4\n",
    "num_egde = 7\n",
    "path = [[1, 2, 4], [1, 4, 6], [2, 1, 3], [2, 3, 7], [3, 1, 5], [3, 4, 4], [4, 3, 2]]"
   ]
  },
  {
   "cell_type": "code",
   "execution_count": 2,
   "id": "ce7ad606",
   "metadata": {},
   "outputs": [],
   "source": [
    "# 노드 개수, 간선 개수, 경로\n",
    "def floyd_warshall(num_node, num_egde, path):\n",
    "    \n",
    "    # (num_node +1 X num_node +1) 크기의 2차원 List 배열을 만들고 모든 요소를 inf로 채운다 \n",
    "    # 시작 node 번호를 1로 설정하고자 num_node +1을 사용\n",
    "    graph = [[float('inf')] * (num_node + 1) for _ in range(num_node + 1)]\n",
    "    \n",
    "    # 대각선(자기 자신한테 이동하는 거리)는 0으로 설정\n",
    "    for a in range(1, num_node + 1):\n",
    "        for b in range(1, num_node + 1):\n",
    "            if a == b:\n",
    "                graph[a][b] = 0\n",
    "    \n",
    "    # 이어진 node의 거리는 inf에서 설정된 거리로 업데이트\n",
    "    for a, b, c in path:\n",
    "        graph[a][b] = c\n",
    "        \n",
    "    # 이어진 node의 거리보다, 다른 node를 거쳐서 이동하는 거리가 더 짧은 경우, node간 거리를 다른 node를 우회한 거리로 설정\n",
    "    # 이어지지 않았어도, 다른 node를 우회에서 도착하는 거리중 가장 짧은 거리로 node간 거리를 설정\n",
    "    for k in range(1, num_node + 1):\n",
    "        for a in range(1, num_node + 1):\n",
    "            for b in range(1, num_node + 1):\n",
    "                graph[a][b] = min(graph[a][b], graph[a][k]+graph[k][b])\n",
    "    \n",
    "    for _ in graph:\n",
    "        print(_, end='\\n')"
   ]
  },
  {
   "cell_type": "code",
   "execution_count": 3,
   "id": "3a01cbc9",
   "metadata": {},
   "outputs": [
    {
     "name": "stdout",
     "output_type": "stream",
     "text": [
      "[inf, inf, inf, inf, inf]\n",
      "[inf, 0, 4, 8, 6]\n",
      "[inf, 3, 0, 7, 9]\n",
      "[inf, 5, 9, 0, 4]\n",
      "[inf, 7, 11, 2, 0]\n"
     ]
    }
   ],
   "source": [
    "floyd_warshall(num_node, num_egde, path)"
   ]
  },
  {
   "cell_type": "code",
   "execution_count": null,
   "id": "0c6cfbc4",
   "metadata": {},
   "outputs": [],
   "source": []
  }
 ],
 "metadata": {
  "kernelspec": {
   "display_name": "Python 3 (ipykernel)",
   "language": "python",
   "name": "python3"
  },
  "language_info": {
   "codemirror_mode": {
    "name": "ipython",
    "version": 3
   },
   "file_extension": ".py",
   "mimetype": "text/x-python",
   "name": "python",
   "nbconvert_exporter": "python",
   "pygments_lexer": "ipython3",
   "version": "3.9.7"
  }
 },
 "nbformat": 4,
 "nbformat_minor": 5
}
