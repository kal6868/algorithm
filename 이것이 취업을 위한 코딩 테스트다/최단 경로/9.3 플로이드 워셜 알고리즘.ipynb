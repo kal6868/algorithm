{
 "cells": [
  {
   "cell_type": "markdown",
   "id": "701e8252",
   "metadata": {},
   "source": [
    "## Dijkstra algorithm"
   ]
  },
  {
   "cell_type": "code",
   "execution_count": 1,
   "id": "d252b40b",
   "metadata": {
    "scrolled": true
   },
   "outputs": [],
   "source": [
    "def dijkstra(num_node, num_edge, start, path):\n",
    "    \n",
    "    # (num_node +1) 개수만큼 빈 List를 List 안에 채운다 \n",
    "    # 시작 node 번호를 1로 설정하고자 num_node +1을 사용\n",
    "    graph = [[] for _ in range(num_node + 1)]\n",
    "    \n",
    "    # Node의 수 만큼 inf를 리스트 안에 추가하고, 시작 노드의 거리는 0으로 설정한다.\n",
    "    distance = [float(\"inf\")] * (num_node+1)\n",
    "    distance[start] = 0\n",
    "    \n",
    "    for start_node, end_node, dst in path:\n",
    "        # [0번 노드 :[].  1번 노드:[(도착지: 2번 노드, 거리: 2), (도착지: 3번 노드, 거리: 5), (도착지: 4번 노드, 거리: 1)], [...], ...] \n",
    "        graph[start_node].append((end_node, dst))\n",
    "        \n",
    "    q = []\n",
    "    # (거리(0), 시작점)\n",
    "    heapq.heappush(q, (0, start))\n",
    "    while q:\n",
    "        dist, now = heapq.heappop(q)\n",
    "        # 도착한 노드가 이미 처리된 적이 있고, 그 값이 지금 계산된 값보다 작으면 거리를 새로 설정하지 않는다.\n",
    "        if distance[now] < dist:\n",
    "            continue\n",
    "        for i in graph[now]:\n",
    "            # 시작 node에서 이전 node까지의 거리 + 이전 node에서 현재 node까지의 거리\n",
    "            cost = dist + i[1]\n",
    "            # 시작 node와 연결되지 않은 노드들의 값을 업데이트\n",
    "            # 시작 node와 연결된 경우, node를 우회해서 도착하는 게 더 거리가 가까우면 더 낮은 값으로 거리 값을 업데이트\n",
    "            if cost < distance[i[0]]:\n",
    "                distance[i[0]] = cost\n",
    "                heapq.heappush(q, (cost, i[0]))\n",
    "    print(\"graph\", graph, \"dst\", distance)"
   ]
  },
  {
   "cell_type": "code",
   "execution_count": 2,
   "id": "b69d2eb9",
   "metadata": {},
   "outputs": [],
   "source": [
    "num_node, num_edge, start = 6, 11, 1\n",
    "path = [[1, 2, 2], [1, 3, 5], [1, 4, 1], [2, 3, 3], [2, 4, 2], [3, 2, 3], [3, 6, 5], [4, 3, 3], [4, 5, 1], [5, 3, 1], [5, 6, 2]]"
   ]
  },
  {
   "cell_type": "code",
   "execution_count": 3,
   "id": "48d8e87b",
   "metadata": {},
   "outputs": [
    {
     "ename": "NameError",
     "evalue": "name 'heapq' is not defined",
     "output_type": "error",
     "traceback": [
      "\u001b[1;31m---------------------------------------------------------------------------\u001b[0m",
      "\u001b[1;31mNameError\u001b[0m                                 Traceback (most recent call last)",
      "\u001b[1;32mC:\\Users\\WORKSP~1\\AppData\\Local\\Temp/ipykernel_4944/3387820457.py\u001b[0m in \u001b[0;36m<module>\u001b[1;34m\u001b[0m\n\u001b[1;32m----> 1\u001b[1;33m \u001b[0mdijkstra\u001b[0m\u001b[1;33m(\u001b[0m\u001b[0mnum_node\u001b[0m\u001b[1;33m,\u001b[0m \u001b[0mnum_edge\u001b[0m\u001b[1;33m,\u001b[0m \u001b[0mstart\u001b[0m\u001b[1;33m,\u001b[0m \u001b[0mpath\u001b[0m\u001b[1;33m)\u001b[0m\u001b[1;33m\u001b[0m\u001b[1;33m\u001b[0m\u001b[0m\n\u001b[0m",
      "\u001b[1;32mC:\\Users\\WORKSP~1\\AppData\\Local\\Temp/ipykernel_4944/1070302763.py\u001b[0m in \u001b[0;36mdijkstra\u001b[1;34m(num_node, num_edge, start, path)\u001b[0m\n\u001b[0;32m     15\u001b[0m     \u001b[0mq\u001b[0m \u001b[1;33m=\u001b[0m \u001b[1;33m[\u001b[0m\u001b[1;33m]\u001b[0m\u001b[1;33m\u001b[0m\u001b[1;33m\u001b[0m\u001b[0m\n\u001b[0;32m     16\u001b[0m     \u001b[1;31m# (거리(0), 시작점)\u001b[0m\u001b[1;33m\u001b[0m\u001b[1;33m\u001b[0m\u001b[0m\n\u001b[1;32m---> 17\u001b[1;33m     \u001b[0mheapq\u001b[0m\u001b[1;33m.\u001b[0m\u001b[0mheappush\u001b[0m\u001b[1;33m(\u001b[0m\u001b[0mq\u001b[0m\u001b[1;33m,\u001b[0m \u001b[1;33m(\u001b[0m\u001b[1;36m0\u001b[0m\u001b[1;33m,\u001b[0m \u001b[0mstart\u001b[0m\u001b[1;33m)\u001b[0m\u001b[1;33m)\u001b[0m\u001b[1;33m\u001b[0m\u001b[1;33m\u001b[0m\u001b[0m\n\u001b[0m\u001b[0;32m     18\u001b[0m     \u001b[1;32mwhile\u001b[0m \u001b[0mq\u001b[0m\u001b[1;33m:\u001b[0m\u001b[1;33m\u001b[0m\u001b[1;33m\u001b[0m\u001b[0m\n\u001b[0;32m     19\u001b[0m         \u001b[0mdist\u001b[0m\u001b[1;33m,\u001b[0m \u001b[0mnow\u001b[0m \u001b[1;33m=\u001b[0m \u001b[0mheapq\u001b[0m\u001b[1;33m.\u001b[0m\u001b[0mheappop\u001b[0m\u001b[1;33m(\u001b[0m\u001b[0mq\u001b[0m\u001b[1;33m)\u001b[0m\u001b[1;33m\u001b[0m\u001b[1;33m\u001b[0m\u001b[0m\n",
      "\u001b[1;31mNameError\u001b[0m: name 'heapq' is not defined"
     ]
    }
   ],
   "source": [
    "dijkstra(num_node, num_edge, start, path)"
   ]
  }
 ],
 "metadata": {
  "kernelspec": {
   "display_name": "Python 3 (ipykernel)",
   "language": "python",
   "name": "python3"
  },
  "language_info": {
   "codemirror_mode": {
    "name": "ipython",
    "version": 3
   },
   "file_extension": ".py",
   "mimetype": "text/x-python",
   "name": "python",
   "nbconvert_exporter": "python",
   "pygments_lexer": "ipython3",
   "version": "3.9.7"
  }
 },
 "nbformat": 4,
 "nbformat_minor": 5
}
