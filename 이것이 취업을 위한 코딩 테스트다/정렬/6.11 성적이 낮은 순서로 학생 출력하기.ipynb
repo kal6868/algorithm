{
 "cells": [
  {
   "cell_type": "markdown",
   "id": "701e8252",
   "metadata": {},
   "source": [
    "## 저자풀이"
   ]
  },
  {
   "cell_type": "code",
   "execution_count": 1,
   "id": "b69d2eb9",
   "metadata": {},
   "outputs": [
    {
     "name": "stdout",
     "output_type": "stream",
     "text": [
      "2\n",
      "홍길동 95\n",
      "이순신 77\n",
      "이순신 홍길동 "
     ]
    }
   ],
   "source": [
    "# N 입력 받기\n",
    "n = int(input())\n",
    "\n",
    "# N명의 학생 정보를 입력 받아 리스트에 저장\n",
    "array = []\n",
    "for i in range(n):\n",
    "    input_data = input().split()\n",
    "    # 이름은 문자열 그대로, 점수는 정수형으로 변환하여 저장\n",
    "    array.append((input_data[0], int(input_data[1])))\n",
    "\n",
    "# 키(Key)를 이용하여, 점수를 기준으로 정렬\n",
    "array = sorted(array, key=lambda student: student[1])\n",
    "\n",
    "# 정렬이 수행된 결과를 출력\n",
    "for student in array:\n",
    "    print(student[0], end=' ')"
   ]
  },
  {
   "cell_type": "markdown",
   "id": "da866a6c",
   "metadata": {},
   "source": [
    "## 내 풀이"
   ]
  },
  {
   "cell_type": "code",
   "execution_count": 2,
   "id": "ca75f2fe",
   "metadata": {},
   "outputs": [],
   "source": [
    "def solution(n, array):\n",
    "    t_list = []\n",
    "    for name, score in array:\n",
    "        t_list.append((name, score))\n",
    "    t_list = sorted(t_list, key=lambda x: x[1])\n",
    "    answer = [data[0] for data in t_list]\n",
    "    return answer"
   ]
  },
  {
   "cell_type": "code",
   "execution_count": 3,
   "id": "6fdddd22",
   "metadata": {
    "scrolled": false
   },
   "outputs": [
    {
     "data": {
      "text/plain": [
       "['이순신', '홍길동']"
      ]
     },
     "execution_count": 3,
     "metadata": {},
     "output_type": "execute_result"
    }
   ],
   "source": [
    "solution(2, [['홍길동', 95], ['이순신', 77]])"
   ]
  },
  {
   "cell_type": "markdown",
   "id": "77a3c758",
   "metadata": {},
   "source": [
    "## Note"
   ]
  },
  {
   "cell_type": "markdown",
   "id": "2540a609",
   "metadata": {},
   "source": [
    "* 학생의 이름과 점수를 tuple 형식으로 묶은 뒤 하나의 List에 담아두고, key = lambda를 사용해서 점수만 기준으로 정렬하면 된다."
   ]
  }
 ],
 "metadata": {
  "kernelspec": {
   "display_name": "Python 3 (ipykernel)",
   "language": "python",
   "name": "python3"
  },
  "language_info": {
   "codemirror_mode": {
    "name": "ipython",
    "version": 3
   },
   "file_extension": ".py",
   "mimetype": "text/x-python",
   "name": "python",
   "nbconvert_exporter": "python",
   "pygments_lexer": "ipython3",
   "version": "3.9.7"
  }
 },
 "nbformat": 4,
 "nbformat_minor": 5
}
