{
 "cells": [
  {
   "attachments": {},
   "cell_type": "markdown",
   "metadata": {},
   "source": [
    "# 저자풀이"
   ]
  },
  {
   "cell_type": "code",
   "execution_count": 1,
   "metadata": {},
   "outputs": [
    {
     "name": "stdout",
     "output_type": "stream",
     "text": [
      "'Donghyuk'\n",
      "'Sangkeun'\n",
      "'Sunyoung'\n",
      "'nsj'\n",
      "'Wonseob'\n",
      "'Sanghyun'\n",
      "'Sei'\n",
      "'Kangsoo'\n",
      "'Haebin'\n",
      "'Junkyu'\n",
      "'Soong'\n",
      "'Taewhan'\n"
     ]
    }
   ],
   "source": [
    "n = int(input())\n",
    "students = [] # 학생 정보를 담을 리스트\n",
    "\n",
    "# 모든 학생 정보를 입력 받기\n",
    "for _ in range(n):\n",
    "    students.append(input().split())\n",
    "\n",
    "'''\n",
    "[ 정렬 기준 ]\n",
    "1) 두 번째 원소를 기준으로 내림차순 정렬\n",
    "2) 두 번째 원소가 같은 경우, 세 번째 원소를 기준으로 오름차순 정렬\n",
    "3) 세 번째 원소가 같은 경우, 네 번째 원소를 기준으로 내림차순 정렬\n",
    "4) 네 번째 원소가 같은 경우, 첫 번째 원소를 기준으로 오름차순 정렬\n",
    "'''\n",
    "students.sort(key=lambda x: (-int(x[1]), int(x[2]), -int(x[3]), x[0]))\n",
    "\n",
    "# 정렬된 학생 정보에서 이름만 출력\n",
    "for student in students:\n",
    "    print(student[0])"
   ]
  },
  {
   "attachments": {},
   "cell_type": "markdown",
   "metadata": {},
   "source": [
    "# 내 풀이"
   ]
  },
  {
   "cell_type": "code",
   "execution_count": 2,
   "metadata": {},
   "outputs": [],
   "source": [
    "def solution(data):\n",
    "    data = sorted(data, key=lambda x: (-x[1], x[2], -x[3], x[0]))\n",
    "    names = [x[0] for x in data]\n",
    "    for n in names:\n",
    "        print(n)"
   ]
  },
  {
   "cell_type": "code",
   "execution_count": 3,
   "metadata": {},
   "outputs": [],
   "source": [
    "data = [['Junkyu', 50, 60, 100], ['Sangkeun', 80, 60, 50], ['Sunyoung', 80, 70, 100], ['Soong', 50, 60, 90], ['Haebin', 50, 60, 100], ['Kangsoo', 60, 80, 100], ['Donghyuk', 80, 60, 100], ['Sei', 70, 70, 70], ['Wonseob', 70, 70, 90], ['Sanghyun', 70, 70, 80], ['nsj', 80, 80, 80], ['Taewhan', 50, 60, 90]]"
   ]
  },
  {
   "cell_type": "code",
   "execution_count": 4,
   "metadata": {},
   "outputs": [
    {
     "name": "stdout",
     "output_type": "stream",
     "text": [
      "Donghyuk\n",
      "Sangkeun\n",
      "Sunyoung\n",
      "nsj\n",
      "Wonseob\n",
      "Sanghyun\n",
      "Sei\n",
      "Kangsoo\n",
      "Haebin\n",
      "Junkyu\n",
      "Soong\n",
      "Taewhan\n"
     ]
    }
   ],
   "source": [
    "solution(data)"
   ]
  },
  {
   "attachments": {},
   "cell_type": "markdown",
   "metadata": {},
   "source": [
    "# Note"
   ]
  },
  {
   "attachments": {},
   "cell_type": "markdown",
   "metadata": {},
   "source": [
    "* 내림차순과 오름차순이 혼재 되어있는 경우, sorted의 key Parameter에 lambda : (x[오름차순 할 데이터의 인덱스], -x[내림차순 할 데이터의 인덱스]) 형식을 사용한다."
   ]
  }
 ],
 "metadata": {
  "kernelspec": {
   "display_name": "base",
   "language": "python",
   "name": "python3"
  },
  "language_info": {
   "codemirror_mode": {
    "name": "ipython",
    "version": 3
   },
   "file_extension": ".py",
   "mimetype": "text/x-python",
   "name": "python",
   "nbconvert_exporter": "python",
   "pygments_lexer": "ipython3",
   "version": "3.9.13"
  },
  "orig_nbformat": 4,
  "vscode": {
   "interpreter": {
    "hash": "ab6a50001256278c6b0a56b88ac15dfc85f5aded329eb5bb27936fb9ff6e3cf3"
   }
  }
 },
 "nbformat": 4,
 "nbformat_minor": 2
}
