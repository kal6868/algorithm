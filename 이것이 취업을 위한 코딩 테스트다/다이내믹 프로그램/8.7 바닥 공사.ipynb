{
 "cells": [
  {
   "cell_type": "markdown",
   "id": "701e8252",
   "metadata": {},
   "source": [
    "## 저자풀이"
   ]
  },
  {
   "cell_type": "code",
   "execution_count": 1,
   "id": "b69d2eb9",
   "metadata": {},
   "outputs": [
    {
     "name": "stdout",
     "output_type": "stream",
     "text": [
      "3\n",
      "5\n"
     ]
    }
   ],
   "source": [
    "# 정수 N을 입력 받기\n",
    "n = int(input())\n",
    "\n",
    "# 앞서 계산된 결과를 저장하기 위한 DP 테이블 초기화\n",
    "d = [0] * 1001\n",
    "\n",
    "# 다이나믹 프로그래밍(Dynamic Programming) 진행 (보텀업)\n",
    "d[1] = 1\n",
    "d[2] = 3\n",
    "for i in range(3, n + 1):\n",
    "    d[i] = (d[i - 1] + 2 * d[i - 2]) % 796796\n",
    "\n",
    "# 계산된 결과 출력\n",
    "print(d[n])"
   ]
  },
  {
   "cell_type": "markdown",
   "id": "da866a6c",
   "metadata": {},
   "source": [
    "## 내 풀이"
   ]
  },
  {
   "cell_type": "code",
   "execution_count": 2,
   "id": "ca75f2fe",
   "metadata": {},
   "outputs": [],
   "source": [
    "# 1, 3, 5,  8, 18...\n",
    "# 피보나치 수열과 동일한 풀이\n",
    "def solution(n):\n",
    "    a = 1\n",
    "    b = 3\n",
    "    for _ in range(n-2):\n",
    "        a = a*2 + b\n",
    "        b, a = a, b\n",
    "    return b % 796796"
   ]
  },
  {
   "cell_type": "code",
   "execution_count": 3,
   "id": "48d8e87b",
   "metadata": {},
   "outputs": [
    {
     "data": {
      "text/plain": [
       "5"
      ]
     },
     "execution_count": 3,
     "metadata": {},
     "output_type": "execute_result"
    }
   ],
   "source": [
    "solution(3)"
   ]
  },
  {
   "cell_type": "code",
   "execution_count": 4,
   "id": "6ab68194",
   "metadata": {},
   "outputs": [],
   "source": [
    "def solution(n):\n",
    "    dp = [0] * (n*2)\n",
    "\n",
    "    dp[1] = 1\n",
    "    dp[2] = 3\n",
    "    for i in range(3, n + 1):\n",
    "        dp[i] = (dp[i - 1] + 2 * dp[i - 2]) % 796796\n",
    "\n",
    "    return dp[i]"
   ]
  },
  {
   "cell_type": "code",
   "execution_count": 5,
   "id": "3df1de84",
   "metadata": {},
   "outputs": [
    {
     "data": {
      "text/plain": [
       "5"
      ]
     },
     "execution_count": 5,
     "metadata": {},
     "output_type": "execute_result"
    }
   ],
   "source": [
    "solution(3)"
   ]
  },
  {
   "cell_type": "markdown",
   "id": "77a3c758",
   "metadata": {},
   "source": [
    "## Note"
   ]
  },
  {
   "cell_type": "markdown",
   "id": "2540a609",
   "metadata": {},
   "source": [
    "* 타일을 채우는 문제는 언제나 규칙이 존재하므로 해당되는 수열을 찾으면 된다.\n",
    "* 1, 3, 5, 8,... 으로 a(t) = 2 * a(t-2) + a(t-1)의 규칙이 존재하는 것을 찾을 수 있다.\n",
    "* 저자는 dp를 사용해서 배열을 만든 뒤 초기값 d\\[1\\], d\\[2\\]를 설정하고, 세 번째 요소부터 d\\[i\\] = (2 * d\\[i-2\\] + d\\[i-1\\])를 채워주는 방식을 사용했다\n"
   ]
  }
 ],
 "metadata": {
  "kernelspec": {
   "display_name": "Python 3 (ipykernel)",
   "language": "python",
   "name": "python3"
  },
  "language_info": {
   "codemirror_mode": {
    "name": "ipython",
    "version": 3
   },
   "file_extension": ".py",
   "mimetype": "text/x-python",
   "name": "python",
   "nbconvert_exporter": "python",
   "pygments_lexer": "ipython3",
   "version": "3.9.7"
  }
 },
 "nbformat": 4,
 "nbformat_minor": 5
}
