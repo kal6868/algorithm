{
 "cells": [
  {
   "cell_type": "markdown",
   "id": "701e8252",
   "metadata": {},
   "source": [
    "## 저자풀이"
   ]
  },
  {
   "cell_type": "code",
   "execution_count": 1,
   "id": "b69d2eb9",
   "metadata": {},
   "outputs": [
    {
     "name": "stdout",
     "output_type": "stream",
     "text": [
      "4\n",
      "1 3 1 5\n",
      "8\n"
     ]
    }
   ],
   "source": [
    "# 정수 X를 입력 받기\n",
    "x = int(input())\n",
    "\n",
    "# 앞서 계산된 결과를 저장하기 위한 DP 테이블 초기화\n",
    "d = [0] * 1000001\n",
    "\n",
    "# 다이나믹 프로그래밍(Dynamic Programming) 진행(보텀업)\n",
    "for i in range(2, x + 1):\n",
    "    # 현재의 수에서 1을 빼는 경우\n",
    "    d[i] = d[i - 1] + 1\n",
    "    # 현재의 수가 2로 나누어 떨어지는 경우\n",
    "    if i % 2 == 0:\n",
    "        d[i] = min(d[i], d[i // 2] + 1)\n",
    "    # 현재의 수가 3으로 나누어 떨어지는 경우\n",
    "    if i % 3 == 0:\n",
    "        d[i] = min(d[i], d[i // 3] + 1)\n",
    "    # 현재의 수가 5로 나누어 떨어지는 경우\n",
    "    if i % 5 == 0:\n",
    "        d[i] = min(d[i], d[i // 5] + 1)\n",
    "\n",
    "print(d[x])"
   ]
  },
  {
   "cell_type": "markdown",
   "id": "da866a6c",
   "metadata": {},
   "source": [
    "## 내 풀이"
   ]
  },
  {
   "cell_type": "code",
   "execution_count": 28,
   "id": "ca75f2fe",
   "metadata": {},
   "outputs": [],
   "source": [
    "def solution(x):\n",
    "    dp = [0]* (x*2)\n",
    "    for i in range(2, x+1):\n",
    "        dp[i] = dp[i-1] + 1\n",
    "        if i % 2 == 0:\n",
    "            dp[i] = min(dp[i], dp[i // 2] + 1)\n",
    "            \n",
    "        if i % 3 == 0:\n",
    "            dp[i] = min(dp[i], dp[i // 3]+ 1)\n",
    "            \n",
    "        if i % 5 == 0:\n",
    "            dp[i] = min(dp[i], dp[i // 5] +1)\n",
    "    answer = dp[i]\n",
    "    return answer"
   ]
  },
  {
   "cell_type": "code",
   "execution_count": 29,
   "id": "48d8e87b",
   "metadata": {},
   "outputs": [
    {
     "data": {
      "text/plain": [
       "3"
      ]
     },
     "execution_count": 29,
     "metadata": {},
     "output_type": "execute_result"
    }
   ],
   "source": [
    "solution(26)"
   ]
  },
  {
   "cell_type": "markdown",
   "id": "77a3c758",
   "metadata": {},
   "source": [
    "## Note"
   ]
  },
  {
   "cell_type": "markdown",
   "id": "2540a609",
   "metadata": {},
   "source": [
    "* 입력받은 숫자의 2배 만큼 길이의 dp를 생성한다. 그리고 2부터 올라가면서 최소값을 dp해 갱신해나가면 된다.(해당 조건을 만족하는 수식이 존재)\n",
    "* dp에 채워지는 값은 i번째 수가 최소한으로 연산될 수 있는 횟수이다. 먼저 이전 값에서 1을 뺀다고 가정했을 때, 연산횟수는 단순히 +1이 된다.\n",
    "* 하지만 해당 i번째 수가 2, 3, 5로 나눠 떨어지는 경우 (ex. 25 -> i:5 = 1, i:25 = 2) i를 2, 3, 5로 나눈 값 중 최소값에서 이번 연산값 +1이므로 dp\\[i\\]에는 최소값을 넣어주면 된다. \n",
    "* 해당 과정을 입력받은 수까지 반복한다."
   ]
  }
 ],
 "metadata": {
  "kernelspec": {
   "display_name": "Python 3 (ipykernel)",
   "language": "python",
   "name": "python3"
  },
  "language_info": {
   "codemirror_mode": {
    "name": "ipython",
    "version": 3
   },
   "file_extension": ".py",
   "mimetype": "text/x-python",
   "name": "python",
   "nbconvert_exporter": "python",
   "pygments_lexer": "ipython3",
   "version": "3.9.7"
  }
 },
 "nbformat": 4,
 "nbformat_minor": 5
}
