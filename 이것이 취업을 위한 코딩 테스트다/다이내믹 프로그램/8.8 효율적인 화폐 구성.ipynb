{
 "cells": [
  {
   "cell_type": "markdown",
   "id": "701e8252",
   "metadata": {},
   "source": [
    "## 저자풀이"
   ]
  },
  {
   "cell_type": "code",
   "execution_count": 5,
   "id": "b69d2eb9",
   "metadata": {},
   "outputs": [
    {
     "name": "stdout",
     "output_type": "stream",
     "text": [
      "2 15\n",
      "2\n",
      "3\n",
      "n, m, array: 2 15 [2, 3]\n",
      "5\n"
     ]
    }
   ],
   "source": [
    "# 정수 N, M을 입력 받기\n",
    "n, m = map(int, input().split())\n",
    "# N개의 화폐 단위 정보를 입력 받기\n",
    "array = []\n",
    "for i in range(n):\n",
    "    array.append(int(input()))\n",
    "print(\"n, m, array:\",n, m, array)\n",
    "# 한 번 계산된 결과를 저장하기 위한 DP 테이블 초기화\n",
    "d = [10001] * (m + 1)\n",
    "\n",
    "# 다이나믹 프로그래밍(Dynamic Programming) 진행(보텀업)\n",
    "d[0] = 0\n",
    "for i in range(n):\n",
    "    for j in range(array[i], m + 1):\n",
    "        if d[j - array[i]] != 10001: # (i - k)원을 만드는 방법이 존재하는 경우\n",
    "            d[j] = min(d[j], d[j - array[i]] + 1)\n",
    "\n",
    "# 계산된 결과 출력\n",
    "if d[m] == 10001: # 최종적으로 M원을 만드는 방법이 없는 경우\n",
    "    print(-1)\n",
    "else:\n",
    "    print(d[m])"
   ]
  },
  {
   "cell_type": "markdown",
   "id": "da866a6c",
   "metadata": {},
   "source": [
    "## 내 풀이"
   ]
  },
  {
   "cell_type": "code",
   "execution_count": 7,
   "id": "d0c174fd",
   "metadata": {},
   "outputs": [],
   "source": [
    "n, m = 2, 15\n",
    "array = [2, 3]"
   ]
  },
  {
   "cell_type": "code",
   "execution_count": 12,
   "id": "55e2c44c",
   "metadata": {},
   "outputs": [],
   "source": [
    "def solution(n, m, array):\n",
    "    dp = [float(\"inf\")] * (m+1)\n",
    "    dp[0] = 0\n",
    "    for i in array:\n",
    "        for j in range(i, m+1):\n",
    "            dp[j] = min(dp[j], dp[j-i] + 1)\n",
    "    if dp[m] == float(\"inf\"):\n",
    "        return -1\n",
    "    else:\n",
    "        return dp[m] "
   ]
  },
  {
   "cell_type": "code",
   "execution_count": 14,
   "id": "0c7c215a",
   "metadata": {},
   "outputs": [
    {
     "data": {
      "text/plain": [
       "5"
      ]
     },
     "execution_count": 14,
     "metadata": {},
     "output_type": "execute_result"
    }
   ],
   "source": [
    "n, m = 2, 15\n",
    "array = [2, 3]\n",
    "solution(n, m, array)"
   ]
  },
  {
   "cell_type": "code",
   "execution_count": 13,
   "id": "addbabe8",
   "metadata": {},
   "outputs": [
    {
     "data": {
      "text/plain": [
       "-1"
      ]
     },
     "execution_count": 13,
     "metadata": {},
     "output_type": "execute_result"
    }
   ],
   "source": [
    "n, m = 3, 4\n",
    "array = [3, 5, 7]\n",
    "solution(n, m, array)"
   ]
  },
  {
   "cell_type": "code",
   "execution_count": 15,
   "id": "3df1de84",
   "metadata": {},
   "outputs": [
    {
     "data": {
      "text/plain": [
       "2"
      ]
     },
     "execution_count": 15,
     "metadata": {},
     "output_type": "execute_result"
    }
   ],
   "source": [
    "n, m = 3, 7\n",
    "array = [2, 3, 5]\n",
    "solution(n, m, array)"
   ]
  },
  {
   "cell_type": "markdown",
   "id": "77a3c758",
   "metadata": {},
   "source": [
    "## Note"
   ]
  },
  {
   "cell_type": "markdown",
   "id": "2540a609",
   "metadata": {},
   "source": [
    "* 목표 숫자의 +1 길이의 List를 만들고 inf(굉장히 큰 수)로 채우고 맨 첫번째 값을 0으로 만든다.\n",
    "* j는 array에서 선택된 현재 숫자부터 시작하므로, 맨 처음 j-i는 0이 된다. 따라서 해당 index의 값은 min(inf, 1)이므로, 해당 index의 값은 1로 변한된다. 따라서 해당 숫자의 배수 번째 index는 해당 숫자로 나눈 몫으로 변한다.\n",
    "* ex. 숫자가 2일때, 2번 index의 값은 min(inf, 0+1)이므로 1이고, 3번 index 값은 min(inf, inf+1)이므로 inf가 그대로 남는다. 해당 과정을 반복하면 해당 index의 값에는 화폐를 최소한으로 사용하는 횟수로 변경된다.\n",
    "* ex. 화폐 : 2,3,5 목표 값 : 7인 경우 마지막 5의 for문이 실행될때, min(현재 7번 index의 값, (7-5)번 index의 값+1)로 하면서 업데이트 된다."
   ]
  }
 ],
 "metadata": {
  "kernelspec": {
   "display_name": "Python 3 (ipykernel)",
   "language": "python",
   "name": "python3"
  },
  "language_info": {
   "codemirror_mode": {
    "name": "ipython",
    "version": 3
   },
   "file_extension": ".py",
   "mimetype": "text/x-python",
   "name": "python",
   "nbconvert_exporter": "python",
   "pygments_lexer": "ipython3",
   "version": "3.9.7"
  }
 },
 "nbformat": 4,
 "nbformat_minor": 5
}
