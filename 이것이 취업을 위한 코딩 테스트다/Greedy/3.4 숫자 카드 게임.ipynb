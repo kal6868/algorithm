{
 "cells": [
  {
   "cell_type": "markdown",
   "id": "701e8252",
   "metadata": {},
   "source": [
    "## 저자풀이"
   ]
  },
  {
   "cell_type": "code",
   "execution_count": null,
   "id": "b69d2eb9",
   "metadata": {},
   "outputs": [],
   "source": [
    "# N, M을 공백을 기준으로 구분하여 입력 받기\n",
    "n, m = map(int, input().split())\n",
    "\n",
    "result = 0\n",
    "# 한 줄씩 입력 받아 확인하기\n",
    "for i in range(n):\n",
    "    data = list(map(int, input().split()))\n",
    "    # 현재 줄에서 '가장 작은 수' 찾기\n",
    "    min_value = 10001\n",
    "    for a in data:\n",
    "        min_value = min(min_value, a)\n",
    "    # '가장 작은 수'들 중에서 가장 큰 수 찾기\n",
    "    result = max(result, min_value)\n",
    "\n",
    "print(result) # 최종 답안 출력"
   ]
  },
  {
   "cell_type": "markdown",
   "id": "da866a6c",
   "metadata": {},
   "source": [
    "## 내 풀이"
   ]
  },
  {
   "cell_type": "code",
   "execution_count": 24,
   "id": "3a042813",
   "metadata": {},
   "outputs": [],
   "source": [
    "n, m, card_order = 3, 3, '312414222'"
   ]
  },
  {
   "cell_type": "code",
   "execution_count": 37,
   "id": "ca75f2fe",
   "metadata": {},
   "outputs": [],
   "source": [
    "# 내 풀이\n",
    "def answer(n, m, card_order):\n",
    "    card_list = [list(card_order[c_index:c_index + m]) for c_index in range(0, len(card_order), m)]\n",
    "    card_list = [list(map(int, card_row)) for card_row in card_list]\n",
    "    answer_candidate = [min(card_row) for card_row in card_list]\n",
    "    return max(answer_candidate)"
   ]
  },
  {
   "cell_type": "code",
   "execution_count": 40,
   "id": "6fdddd22",
   "metadata": {},
   "outputs": [
    {
     "name": "stdout",
     "output_type": "stream",
     "text": [
      "2\n",
      "3\n"
     ]
    }
   ],
   "source": [
    "for n, m, card_order in [[3, 3, '312414222'], [2, 4, '73183334']]:\n",
    "    print(answer(n, m, card_order))"
   ]
  },
  {
   "cell_type": "markdown",
   "id": "77a3c758",
   "metadata": {},
   "source": [
    "## Note"
   ]
  },
  {
   "cell_type": "markdown",
   "id": "2540a609",
   "metadata": {},
   "source": [
    "* 각 행의 가장 작은 수를 찾고, 가장 작은 수들 중에서 가장 큰 수를 찾으면 된다.\n",
    "* 저자는 입력 조건보다 큰 수를 할당하고 최소값을 찾아 그 중 큰 값을 찾았다. 나는 배열을 2중 List로 변경한 다음 각 List의 최소 값을 찾고 그 중 최대 값을 찾았다."
   ]
  }
 ],
 "metadata": {
  "kernelspec": {
   "display_name": "Python 3 (ipykernel)",
   "language": "python",
   "name": "python3"
  },
  "language_info": {
   "codemirror_mode": {
    "name": "ipython",
    "version": 3
   },
   "file_extension": ".py",
   "mimetype": "text/x-python",
   "name": "python",
   "nbconvert_exporter": "python",
   "pygments_lexer": "ipython3",
   "version": "3.9.7"
  }
 },
 "nbformat": 4,
 "nbformat_minor": 5
}
