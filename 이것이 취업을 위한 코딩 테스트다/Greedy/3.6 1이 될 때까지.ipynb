{
 "cells": [
  {
   "cell_type": "markdown",
   "id": "3ebcc6a8",
   "metadata": {},
   "source": [
    "## 저자풀이"
   ]
  },
  {
   "cell_type": "code",
   "execution_count": null,
   "id": "731d8a62",
   "metadata": {},
   "outputs": [],
   "source": [
    "# H를 입력받기\n",
    "h = int(input())\n",
    "\n",
    "count = 0\n",
    "for i in range(h + 1):\n",
    "    for j in range(60):\n",
    "        for k in range(60):\n",
    "            # 매 시각 안에 '3'이 포함되어 있다면 카운트 증가\n",
    "            if '3' in str(i) + str(j) + str(k):\n",
    "                count += 1\n",
    "\n",
    "print(count)"
   ]
  },
  {
   "cell_type": "markdown",
   "id": "937d8145",
   "metadata": {},
   "source": [
    "## 내 풀이"
   ]
  },
  {
   "cell_type": "code",
   "execution_count": 2,
   "id": "99fe1f26",
   "metadata": {},
   "outputs": [],
   "source": [
    "def answer(n, k):\n",
    "    answer = 0\n",
    "    while n > 1:\n",
    "        if n % k != 0:\n",
    "            n -= 1\n",
    "            answer += 1\n",
    "        else:\n",
    "            n /= k\n",
    "            answer += 1\n",
    "    return answer"
   ]
  },
  {
   "cell_type": "code",
   "execution_count": 12,
   "id": "db57edb6",
   "metadata": {},
   "outputs": [],
   "source": [
    "# 좀 더 복잡한 풀이\n",
    "def answer(n, k):\n",
    "    answer = 0   \n",
    "    while n > 1:\n",
    "    # 나누었는데 k의 배수가 아닐 경우 : 30/3 = 10\n",
    "    # 배수인 경우 n-target은 0이 된다.\n",
    "        target = (n//k)*k\n",
    "        answer += (n-target)\n",
    "        n = target\n",
    "        if n< k:\n",
    "            break\n",
    "        n /= k\n",
    "        answer += 1\n",
    "    #k 보다 작은 n이 1 이상일 경우\n",
    "    answer += (n-1)\n",
    "    return int(answer)"
   ]
  },
  {
   "cell_type": "code",
   "execution_count": 15,
   "id": "ca730bd6",
   "metadata": {
    "scrolled": true
   },
   "outputs": [
    {
     "name": "stdout",
     "output_type": "stream",
     "text": [
      "2\n"
     ]
    }
   ],
   "source": [
    "print(answer(25, 5))"
   ]
  },
  {
   "cell_type": "markdown",
   "id": "1c5d959d",
   "metadata": {},
   "source": [
    "## Note"
   ]
  },
  {
   "cell_type": "markdown",
   "id": "95c13486",
   "metadata": {},
   "source": [
    "* N이 K의 배수가 될 때까지 1을 빼고, answer(횟수)에 1씩 더해준다. N의 K의 배수가 되면 반복해서 나눠주기만 하면 n은 1이 된다. 나눠주는 횟수만큼 answer에 1을 더해준다.\n",
    "* 저자는 더 나아가, N이 어마어마하게 큰 수일 때를 대비하여 먼저 N을 K로 나눈 몫을 K에 곱하여 N에 가장 가까운 K의 배수를 만들고 그 값을 K에서 뺀 뒤 N으로 나누는 방식을 제시하였다."
   ]
  }
 ],
 "metadata": {
  "kernelspec": {
   "display_name": "Python 3 (ipykernel)",
   "language": "python",
   "name": "python3"
  },
  "language_info": {
   "codemirror_mode": {
    "name": "ipython",
    "version": 3
   },
   "file_extension": ".py",
   "mimetype": "text/x-python",
   "name": "python",
   "nbconvert_exporter": "python",
   "pygments_lexer": "ipython3",
   "version": "3.9.7"
  }
 },
 "nbformat": 4,
 "nbformat_minor": 5
}
