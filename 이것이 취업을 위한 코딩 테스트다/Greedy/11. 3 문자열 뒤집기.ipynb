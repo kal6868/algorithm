{
 "cells": [
  {
   "cell_type": "markdown",
   "id": "701e8252",
   "metadata": {},
   "source": [
    "## 저자 풀이"
   ]
  },
  {
   "cell_type": "code",
   "execution_count": 1,
   "id": "d252b40b",
   "metadata": {
    "scrolled": true
   },
   "outputs": [
    {
     "name": "stdout",
     "output_type": "stream",
     "text": [
      "0001100\n",
      "1\n"
     ]
    }
   ],
   "source": [
    "data = input()\n",
    "count0 = 0 # 전부 0으로 바꾸는 경우\n",
    "count1 = 0 # 전부 1로 바꾸는 경우\n",
    "\n",
    "# 첫 번째 원소에 대해서 처리\n",
    "if data[0] == '1':\n",
    "    count0 += 1\n",
    "else:\n",
    "    count1 += 1\n",
    "\n",
    "# 두 번째 원소부터 모든 원소를 확인하며\n",
    "for i in range(len(data) - 1):\n",
    "    if data[i] != data[i + 1]:\n",
    "        # 다음 수에서 1로 바뀌는 경우\n",
    "        if data[i + 1] == '1':\n",
    "            count0 += 1\n",
    "        # 다음 수에서 0으로 바뀌는 경우\n",
    "        else:\n",
    "            count1 += 1\n",
    "\n",
    "print(min(count0, count1))"
   ]
  },
  {
   "cell_type": "markdown",
   "id": "88f9a136",
   "metadata": {},
   "source": [
    "# 내 풀이"
   ]
  },
  {
   "cell_type": "code",
   "execution_count": 4,
   "id": "af861dd2",
   "metadata": {},
   "outputs": [],
   "source": [
    "data = '0001100'\n",
    "def solution(data):\n",
    "    lst_zero = []\n",
    "    lst_one = []\n",
    "    i = 0\n",
    "    for j in range(0, len(data)-1):\n",
    "        if data[j] != data[j+1]:\n",
    "            num_char = data[i:j+1]\n",
    "            i = j+1\n",
    "            if '0' in num_char:\n",
    "                lst_zero.append(num_char)\n",
    "            else:\n",
    "                lst_one.append(num_char)\n",
    "    num_char = data[i:len(data)]\n",
    "    if '0' in num_char:\n",
    "        lst_zero.append(num_char)\n",
    "    else:\n",
    "        lst_one.append(num_char)\n",
    "    answer = min(len(lst_zero), len(lst_one))\n",
    "    return answer"
   ]
  },
  {
   "cell_type": "code",
   "execution_count": 5,
   "id": "ffdf3ab4",
   "metadata": {},
   "outputs": [
    {
     "name": "stdout",
     "output_type": "stream",
     "text": [
      "1\n"
     ]
    }
   ],
   "source": [
    "print(solution(data))"
   ]
  },
  {
   "cell_type": "markdown",
   "id": "bf66075f",
   "metadata": {},
   "source": [
    "# Note"
   ]
  },
  {
   "cell_type": "markdown",
   "id": "b8d17683",
   "metadata": {},
   "source": [
    " * for문으로 문자열을 탐색하다가 숫자가 변하는 인덱스를 찾고, 시작점(초기값: 0)에서 해당 인덱스의 값이 연속된 0이면 lst_zero에 추가하고, 연속된 1이면 lst_one에 추가한다. 그리고 해당 인덱스+1으로 i값을 업데이트 한다. 마지막으로 연속된 숫자열은 탐색이 되지 않으므로, 마지막 숫자가 변한 인덱스에서 문자열의 맨 끝을 탐색해서 0의 연속이면 lst_zero에, 1의 연속이면 lst_one에 추가한다. 두 List의 요소의 개수 중 적은 것을 반환한다.\n",
    " * 저자는 count0, count1을 0으로 설정해 놓고 숫자가 바뀌는 순간 count0, count1에 숫자를 더해주는 방식을 사용하였다."
   ]
  }
 ],
 "metadata": {
  "kernelspec": {
   "display_name": "Python 3 (ipykernel)",
   "language": "python",
   "name": "python3"
  },
  "language_info": {
   "codemirror_mode": {
    "name": "ipython",
    "version": 3
   },
   "file_extension": ".py",
   "mimetype": "text/x-python",
   "name": "python",
   "nbconvert_exporter": "python",
   "pygments_lexer": "ipython3",
   "version": "3.9.7"
  }
 },
 "nbformat": 4,
 "nbformat_minor": 5
}
