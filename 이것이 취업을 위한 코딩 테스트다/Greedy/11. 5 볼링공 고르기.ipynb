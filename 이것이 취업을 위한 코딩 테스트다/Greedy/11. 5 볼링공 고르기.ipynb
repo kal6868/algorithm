{
 "cells": [
  {
   "cell_type": "markdown",
   "id": "701e8252",
   "metadata": {},
   "source": [
    "## 저자 풀이"
   ]
  },
  {
   "cell_type": "code",
   "execution_count": 1,
   "id": "d252b40b",
   "metadata": {
    "scrolled": true
   },
   "outputs": [
    {
     "name": "stdout",
     "output_type": "stream",
     "text": [
      "5 3\n",
      "1 3 2 3 2\n",
      "8\n"
     ]
    }
   ],
   "source": [
    "n, m = map(int, input().split())\n",
    "data = list(map(int, input().split()))\n",
    "\n",
    "# 1부터 10까지의 무게를 담을 수 있는 리스트\n",
    "array = [0] * 11\n",
    "\n",
    "for x in data:\n",
    "    # 각 무게에 해당하는 볼링공의 개수 카운트\n",
    "    array[x] += 1\n",
    "\n",
    "result = 0\n",
    "# 1부터 m까지의 각 무게에 대하여 처리\n",
    "for i in range(1, m + 1):\n",
    "    n -= array[i] # 무게가 i인 볼링공의 개수(A가 선택할 수 있는 개수) 제외\n",
    "    result += array[i] * n # B가 선택하는 경우의 수와 곱해주기\n",
    "\n",
    "print(result)"
   ]
  },
  {
   "cell_type": "markdown",
   "id": "88f9a136",
   "metadata": {},
   "source": [
    "# 내 풀이"
   ]
  },
  {
   "cell_type": "code",
   "execution_count": 2,
   "id": "af861dd2",
   "metadata": {},
   "outputs": [],
   "source": [
    "from itertools import combinations\n",
    "data = '13232'\n",
    "def solution(data):\n",
    "    l_data = list(map(int, data))\n",
    "    combs = [balls for balls in combinations(l_data, 2) if balls[0] != balls[1]]\n",
    "    print(combs)\n",
    "    return len(combs)"
   ]
  },
  {
   "cell_type": "code",
   "execution_count": 3,
   "id": "ffdf3ab4",
   "metadata": {},
   "outputs": [
    {
     "name": "stdout",
     "output_type": "stream",
     "text": [
      "[(1, 3), (1, 2), (1, 3), (1, 2), (3, 2), (3, 2), (2, 3), (3, 2)]\n",
      "8\n"
     ]
    }
   ],
   "source": [
    "print(solution(data))"
   ]
  },
  {
   "cell_type": "markdown",
   "id": "bf66075f",
   "metadata": {},
   "source": [
    "# Note"
   ]
  },
  {
   "cell_type": "markdown",
   "id": "b8d17683",
   "metadata": {},
   "source": [
    " * data의 모든 숫자를 int로 바꾼뒤 l_data라는 list에 추가한다. 그리고 itertools의 combinations를 사용해서 2개씩 조합할 수 있는 모든 경우의 수를 계산한다.\n",
    " * 경우의 수 중에서 볼링공의 무게가 같은 경우는 제외하고 combs라는 List에 추가하고, combs의 요소 개수를 반환한다."
   ]
  }
 ],
 "metadata": {
  "kernelspec": {
   "display_name": "Python 3 (ipykernel)",
   "language": "python",
   "name": "python3"
  },
  "language_info": {
   "codemirror_mode": {
    "name": "ipython",
    "version": 3
   },
   "file_extension": ".py",
   "mimetype": "text/x-python",
   "name": "python",
   "nbconvert_exporter": "python",
   "pygments_lexer": "ipython3",
   "version": "3.9.7"
  }
 },
 "nbformat": 4,
 "nbformat_minor": 5
}
