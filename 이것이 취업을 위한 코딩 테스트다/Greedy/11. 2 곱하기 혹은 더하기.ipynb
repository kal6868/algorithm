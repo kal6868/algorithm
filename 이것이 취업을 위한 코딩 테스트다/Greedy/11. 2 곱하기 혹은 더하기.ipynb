{
 "cells": [
  {
   "cell_type": "markdown",
   "id": "701e8252",
   "metadata": {},
   "source": [
    "## 저자 풀이"
   ]
  },
  {
   "cell_type": "code",
   "execution_count": 1,
   "id": "d252b40b",
   "metadata": {
    "scrolled": true
   },
   "outputs": [
    {
     "name": "stdout",
     "output_type": "stream",
     "text": [
      "02984\n",
      "576\n"
     ]
    }
   ],
   "source": [
    "data = input()\n",
    "\n",
    "# 첫 번째 문자를 숫자로 변경하여 대입\n",
    "result = int(data[0])\n",
    "\n",
    "for i in range(1, len(data)):\n",
    "    # 두 수 중에서 하나라도 '0' 혹은 '1'인 경우, 곱하기보다는 더하기 수행\n",
    "    num = int(data[i])\n",
    "    if num <= 1 or result <= 1:\n",
    "        result += num\n",
    "    else:\n",
    "        result *= num\n",
    "\n",
    "print(result)"
   ]
  },
  {
   "cell_type": "markdown",
   "id": "88f9a136",
   "metadata": {},
   "source": [
    "# 내 풀이"
   ]
  },
  {
   "cell_type": "code",
   "execution_count": 2,
   "id": "af861dd2",
   "metadata": {},
   "outputs": [],
   "source": [
    "from collections import deque\n",
    "data = '02984'\n",
    "def solution(data):\n",
    "    l_data = list(data)\n",
    "    l_data = deque(list(map(int, l_data)))\n",
    "    rst = l_data.popleft()\n",
    "    while l_data:\n",
    "        num = l_data.popleft()\n",
    "        if rst < 1 or num < 1:\n",
    "            rst += num\n",
    "        else:\n",
    "            rst *= num\n",
    "    return rst"
   ]
  },
  {
   "cell_type": "code",
   "execution_count": 3,
   "id": "ffdf3ab4",
   "metadata": {},
   "outputs": [
    {
     "name": "stdout",
     "output_type": "stream",
     "text": [
      "576\n"
     ]
    }
   ],
   "source": [
    "print(solution(data))"
   ]
  },
  {
   "cell_type": "markdown",
   "id": "bf66075f",
   "metadata": {},
   "source": [
    "# Note"
   ]
  },
  {
   "cell_type": "markdown",
   "id": "b8d17683",
   "metadata": {},
   "source": [
    " * 문자열을 List(l_data)로 바꾼뒤 모든 요소를 str에서 int로 변경한 뒤 deque에 넣는다.\n",
    " * l_data에서 맨 처음 요소를 하나 꺼내서 rst로 명명한 뒤, l_data에 요소가 없을때까지, 왼쪽에서 하나씩 꺼낸다(num).\n",
    " * rst나 num이 둘중에 하나라도 0이면 rst + num 계산을 하고, 둘 다 0이 아니면 rst * num을 계산한다.  \n",
    " * 저자는 맨 앞 숫자를 result로 명명하고, 1번 인덱스부터 끝까지 동일한 연산을 반복했다."
   ]
  }
 ],
 "metadata": {
  "kernelspec": {
   "display_name": "Python 3 (ipykernel)",
   "language": "python",
   "name": "python3"
  },
  "language_info": {
   "codemirror_mode": {
    "name": "ipython",
    "version": 3
   },
   "file_extension": ".py",
   "mimetype": "text/x-python",
   "name": "python",
   "nbconvert_exporter": "python",
   "pygments_lexer": "ipython3",
   "version": "3.9.7"
  }
 },
 "nbformat": 4,
 "nbformat_minor": 5
}
