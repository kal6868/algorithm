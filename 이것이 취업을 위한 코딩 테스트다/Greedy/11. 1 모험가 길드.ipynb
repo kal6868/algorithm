{
 "cells": [
  {
   "cell_type": "markdown",
   "id": "701e8252",
   "metadata": {},
   "source": [
    "## 저자 풀이"
   ]
  },
  {
   "cell_type": "code",
   "execution_count": 1,
   "id": "d252b40b",
   "metadata": {
    "scrolled": true
   },
   "outputs": [
    {
     "name": "stdout",
     "output_type": "stream",
     "text": [
      "5\n",
      "2 3 1 2 2\n",
      "2\n"
     ]
    }
   ],
   "source": [
    "n = int(input())\n",
    "data = list(map(int, input().split()))\n",
    "data.sort()\n",
    "\n",
    "result = 0 # 총 그룹의 수\n",
    "count = 0 # 현재 그룹에 포함된 모험가의 수\n",
    "\n",
    "for i in data: # 공포도를 낮은 것부터 하나씩 확인하며\n",
    "    count += 1 # 현재 그룹에 해당 모험가를 포함시키기\n",
    "    if count >= i: # 현재 그룹에 포함된 모험가의 수가 현재의 공포도 이상이라면, 그룹 결성\n",
    "        result += 1 # 총 그룹의 수 증가시키기\n",
    "        count = 0 # 현재 그룹에 포함된 모험가의 수 초기화\n",
    "\n",
    "print(result) # 총 그룹의 수 출력"
   ]
  },
  {
   "cell_type": "markdown",
   "id": "88f9a136",
   "metadata": {},
   "source": [
    "# 내 풀이"
   ]
  },
  {
   "cell_type": "code",
   "execution_count": 2,
   "id": "af861dd2",
   "metadata": {},
   "outputs": [],
   "source": [
    "N, data = 5, [2, 3, 1, 2, 2]\n",
    "def solution(N, data):\n",
    "    people = sorted(data)\n",
    "    g_count = 0\n",
    "    group = []\n",
    "    for i in people:\n",
    "        group.append(i)\n",
    "        if len(group) >= i:\n",
    "            g_count += 1\n",
    "            group = []\n",
    "    return g_count"
   ]
  },
  {
   "cell_type": "code",
   "execution_count": 3,
   "id": "ffdf3ab4",
   "metadata": {},
   "outputs": [
    {
     "data": {
      "text/plain": [
       "2"
      ]
     },
     "execution_count": 3,
     "metadata": {},
     "output_type": "execute_result"
    }
   ],
   "source": [
    "solution(N, data)"
   ]
  },
  {
   "cell_type": "markdown",
   "id": "bf66075f",
   "metadata": {},
   "source": [
    "# Note"
   ]
  },
  {
   "cell_type": "markdown",
   "id": "b8d17683",
   "metadata": {},
   "source": [
    " * data를 정렬 후, group으로 명명된 List에 순서대로 담는다. 다만, 현재 추가된 인원이 방금 추가된 인원의 공포심보다 많으면 group이 완성된 것으로 보고 g_count에 1을 더하고 group을 초기화한다.\n",
    " * 저자는 List를 사용하지 않고 풀었는데, 이 방법이 데이터가 훨씬 많으면 더 빠를 것으로 추측한다."
   ]
  }
 ],
 "metadata": {
  "kernelspec": {
   "display_name": "Python 3 (ipykernel)",
   "language": "python",
   "name": "python3"
  },
  "language_info": {
   "codemirror_mode": {
    "name": "ipython",
    "version": 3
   },
   "file_extension": ".py",
   "mimetype": "text/x-python",
   "name": "python",
   "nbconvert_exporter": "python",
   "pygments_lexer": "ipython3",
   "version": "3.9.7"
  }
 },
 "nbformat": 4,
 "nbformat_minor": 5
}
