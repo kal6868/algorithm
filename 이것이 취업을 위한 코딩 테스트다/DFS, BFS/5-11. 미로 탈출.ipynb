{
 "cells": [
  {
   "cell_type": "code",
   "execution_count": 15,
   "id": "cb794067",
   "metadata": {},
   "outputs": [],
   "source": [
    "from collections import deque\n",
    "\n",
    "def bfs(x, y):\n",
    "    \n",
    "    dx = [-1, 1, 0, 0]\n",
    "    dy = [0, 0, -1, 1]\n",
    "\n",
    "    queue = deque()\n",
    "    queue.append((x, y))\n",
    "    while queue:\n",
    "        x, y = queue.popleft()\n",
    "        for i in range(4):\n",
    "            nx = x + dx[i]\n",
    "            ny = y + dy[i]\n",
    "            # 미로를 벗어나는 경우는 고려할 수 없다\n",
    "            if (nx < 0) or (nx >= n) or (ny < 0) or (ny >= m):\n",
    "                continue\n",
    "            # 0의 위치에는 괴물이 존재하므로 갈 수가 없다.\n",
    "            if graph[nx][ny] == 0:\n",
    "                continue\n",
    "            \n",
    "            if graph[nx][ny] == 1:\n",
    "                graph[nx][ny] = graph[x][y] + 1\n",
    "                queue.append((nx, ny))\n",
    "            \n",
    "    # 탈출구는 항상 오른쪽 아래이므로\n",
    "    return graph[n - 1][m - 1]\n",
    "\n",
    "def answer(width, height, maze_map):\n",
    "    width, height = n, m\n",
    "\n",
    "    for maze in maze_map.split(' '):\n",
    "        list_maze = list(maze)\n",
    "        to_int = []\n",
    "        for maze_int in list_maze:\n",
    "            to_int.append(int(maze_int))\n",
    "        graph.append(to_int)\n",
    "    \n",
    "    maze_map = graph\n",
    "    print(bfs(0, 0))"
   ]
  },
  {
   "cell_type": "code",
   "execution_count": 16,
   "id": "4355f0cd",
   "metadata": {},
   "outputs": [
    {
     "name": "stdout",
     "output_type": "stream",
     "text": [
      "10\n"
     ]
    }
   ],
   "source": [
    "answer(5, 6, '101010 111111 000001 111111 111111')"
   ]
  }
 ],
 "metadata": {
  "kernelspec": {
   "display_name": "Python 3 (ipykernel)",
   "language": "python",
   "name": "python3"
  },
  "language_info": {
   "codemirror_mode": {
    "name": "ipython",
    "version": 3
   },
   "file_extension": ".py",
   "mimetype": "text/x-python",
   "name": "python",
   "nbconvert_exporter": "python",
   "pygments_lexer": "ipython3",
   "version": "3.9.7"
  }
 },
 "nbformat": 4,
 "nbformat_minor": 5
}
