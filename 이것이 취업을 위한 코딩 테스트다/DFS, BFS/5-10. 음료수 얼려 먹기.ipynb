{
 "cells": [
  {
   "cell_type": "code",
   "execution_count": 1,
   "id": "cb794067",
   "metadata": {},
   "outputs": [],
   "source": [
    "def dfs(x, y, graph):\n",
    "    # 범위를 벗어난 경우 무조건 False\n",
    "    if (x <= -1) or (x >= n) or (y <= -1) or (y >= m):\n",
    "        return False\n",
    "    \n",
    "    if graph[x][y] == 0:\n",
    "        graph[x][y] = 1\n",
    "        # 상, 하, 좌, 우에 0이 있는경우 1로 체크\n",
    "        dfs(x ,y+1, graph)\n",
    "        dfs(x ,y-1, graph)\n",
    "        dfs(x-1,y, graph)\n",
    "        dfs(x+1, y, graph)\n",
    "        return True\n",
    "    else:\n",
    "        return False\n",
    "\n",
    "def asnwer(n, m, ice_map):\n",
    "    graph = []\n",
    "    # 문자열을 받아 숫자형으로 변환 후 List로 변환\n",
    "    for ice in ice_map.split(' '):\n",
    "        list_ice = list(ice)\n",
    "        to_int = []\n",
    "        for ice_int in list_ice:\n",
    "            to_int.append(int(ice_int))\n",
    "        graph.append(to_int)\n",
    "    \n",
    "    result = 0\n",
    "    for i in range(n):\n",
    "        for j in range(m):\n",
    "            # 해당 위치가 0인 경우 상,하,좌,우에 0이 있는지 탐색 후 0이 있으면 1로 바꿔주는 작업을 반복한다.\n",
    "            # 해당 위치가 0이면 result에 1을 더하게 되고, 주위에 연결된 0을 모두 1로 바꾼다.\n",
    "            if dfs(i, j, graph):\n",
    "                result += 1\n",
    "    print(result)"
   ]
  },
  {
   "cell_type": "code",
   "execution_count": 2,
   "id": "61e63aa3",
   "metadata": {
    "scrolled": true
   },
   "outputs": [
    {
     "name": "stdout",
     "output_type": "stream",
     "text": [
      "3\n",
      "8\n"
     ]
    }
   ],
   "source": [
    "for n, m, ice_map in [[4, 5, '00110 00011 11111 00000'],\n",
    "                     [15, 14, '00000111100000 11111101111110 11011101101110 11011101100000 11011111111111 11011111111100 11000000011111 01111111111111 00000000011111 01111111111000 00011111111000 00000001111000 11111111110011 11100011111111 11100011111111']]:\n",
    "    asnwer(n, m, ice_map)"
   ]
  }
 ],
 "metadata": {
  "kernelspec": {
   "display_name": "Python 3 (ipykernel)",
   "language": "python",
   "name": "python3"
  },
  "language_info": {
   "codemirror_mode": {
    "name": "ipython",
    "version": 3
   },
   "file_extension": ".py",
   "mimetype": "text/x-python",
   "name": "python",
   "nbconvert_exporter": "python",
   "pygments_lexer": "ipython3",
   "version": "3.9.7"
  }
 },
 "nbformat": 4,
 "nbformat_minor": 5
}
