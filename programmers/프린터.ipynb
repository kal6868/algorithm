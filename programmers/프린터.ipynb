{
 "cells": [
  {
   "cell_type": "markdown",
   "id": "fbd6d190",
   "metadata": {},
   "source": [
    "# 문제"
   ]
  },
  {
   "cell_type": "markdown",
   "id": "aa665cb9",
   "metadata": {},
   "source": [
    "* 일반적인 프린터는 인쇄 요청이 들어온 순서대로 인쇄합니다. 그렇기 때문에 중요한 문서가 나중에 인쇄될 수 있습니다. 이런 문제를 보완하기 위해 중요도가 높은 문서를 먼저 인쇄하는 프린터를 개발했습니다. 이 새롭게 개발한 프린터는 아래와 같은 방식으로 인쇄 작업을 수행합니다.\n",
    "\n",
    "    * 1. 인쇄 대기목록의 가장 앞에 있는 문서(J)를 대기목록에서 꺼냅니다.\n",
    "    * 2. 나머지 인쇄 대기목록에서 J보다 중요도가 높은 문서가 한 개라도 존재하면 J를 대기목록의 가장 마지막에 넣습니다.\n",
    "    * 3. 그렇지 않으면 J를 인쇄합니다.\n",
    "    \n",
    "    \n",
    "* 예를 들어, 4개의 문서(A, B, C, D)가 순서대로 인쇄 대기목록에 있고 중요도가 2 1 3 2 라면 C D A B 순으로 인쇄하게 됩니다.\n",
    "* 내가 인쇄를 요청한 문서가 몇 번째로 인쇄되는지 알고 싶습니다. 위의 예에서 C는 1번째로, A는 3번째로 인쇄됩니다.\n",
    "* 현재 대기목록에 있는 문서의 중요도가 순서대로 담긴 배열 priorities와 내가 인쇄를 요청한 문서가 현재 대기목록의 어떤 위치에 있는지를 알려주는 location이 매개변수로 주어질 때, 내가 인쇄를 요청한 문서가 몇 번째로 인쇄되는지 return 하도록 solution 함수를 작성해주세요. "
   ]
  },
  {
   "cell_type": "markdown",
   "id": "be064c2f",
   "metadata": {},
   "source": [
    "# 제한 사항"
   ]
  },
  {
   "cell_type": "markdown",
   "id": "c4d677a4",
   "metadata": {},
   "source": [
    "* 현재 대기목록에는 1개 이상 100개 이하의 문서가 있습니다.\n",
    "* 인쇄 작업의 중요도는 1~9로 표현하며 숫자가 클수록 중요하다는 뜻입니다.\n",
    "* location은 0 이상 (현재 대기목록에 있는 작업 수 - 1) 이하의 값을 가지며 대기목록의 가장 앞에 있으면 0, 두 번째에 있으면 1로 표현합니다."
   ]
  },
  {
   "cell_type": "markdown",
   "id": "16452081",
   "metadata": {},
   "source": [
    "# 입출력 예시"
   ]
  },
  {
   "cell_type": "markdown",
   "id": "9b026c31",
   "metadata": {},
   "source": [
    "|skill|skill_trees|return|\n",
    "|---|---|---|\n",
    "|[2, 1, 3, 2]|2|1|\n",
    "|[1, 1, 9, 1, 1, 1]|0|5|"
   ]
  },
  {
   "cell_type": "code",
   "execution_count": 1,
   "id": "b2918811",
   "metadata": {},
   "outputs": [],
   "source": [
    "from collections import deque\n",
    "def solution(priorities, location):\n",
    "    answer = 0\n",
    "    deq = deque([(i,v) for i, v in enumerate(priorities)])\n",
    "    \n",
    "    while deq:\n",
    "        docu_now = deq.popleft()\n",
    "        if any(docu_now[1] < docu_other[1] for docu_other in deq):\n",
    "            deq.append(docu_now)\n",
    "        else:\n",
    "            answer += 1\n",
    "            if docu_now[0] == location:\n",
    "                break\n",
    "    return answer"
   ]
  },
  {
   "cell_type": "code",
   "execution_count": 2,
   "id": "9b07c977",
   "metadata": {},
   "outputs": [
    {
     "name": "stdout",
     "output_type": "stream",
     "text": [
      "1 5 "
     ]
    }
   ],
   "source": [
    "for priorities, location in [([2, 1, 3, 2], 2), ([1, 1, 9, 1, 1, 1], 0)]:\n",
    "    print(solution(priorities, location), end = ' ')"
   ]
  },
  {
   "cell_type": "markdown",
   "id": "55f1bb43",
   "metadata": {},
   "source": [
    "# 풀이 과정 및 주의사항"
   ]
  },
  {
   "cell_type": "markdown",
   "id": "6efca741",
   "metadata": {},
   "source": [
    "* Stack/Queue 관련된 문제는 Deque를 쓰는 것이 좋다(속도면에서 리스트 자료형에서 pop 하는 것 보다 속도가 빠르다)\n",
    "* any 함수 : 리스트 자료형 내의 조건 중 하나의 조건이 참이면 True를 반환하는 함수(모든 조건이 참이어야 True를 반환하는 all 함수도 있다.)"
   ]
  },
  {
   "cell_type": "code",
   "execution_count": 3,
   "id": "77c2beaa",
   "metadata": {},
   "outputs": [
    {
     "name": "stdout",
     "output_type": "stream",
     "text": [
      "True False\n"
     ]
    }
   ],
   "source": [
    "print(any([1 < 3, 2 < 3, 4 < 3]), all([1 < 3, 2 < 3, 4 < 3]))"
   ]
  },
  {
   "cell_type": "markdown",
   "id": "5b0fbd9d",
   "metadata": {},
   "source": [
    "* enumerate 함수를 사용해서 각 인쇄물의 location 정보를 포함시키고 deque를 이용해 앞에서 부터 하나씩 빼서 중요도를 비교한다.(다른 인쇄 물 중 중요도가 높은 것이 있으면 맨 뒤로 포함)\n",
    "* 프린트 되는 인쇄물의 location 정보가 입력된 location 정보와 같으면 while 문을 중단"
   ]
  },
  {
   "cell_type": "markdown",
   "id": "a93a96e8",
   "metadata": {},
   "source": [
    "https://school.programmers.co.kr/learn/courses/30/lessons/42587?language=python3"
   ]
  }
 ],
 "metadata": {
  "kernelspec": {
   "display_name": "Python 3 (ipykernel)",
   "language": "python",
   "name": "python3"
  },
  "language_info": {
   "codemirror_mode": {
    "name": "ipython",
    "version": 3
   },
   "file_extension": ".py",
   "mimetype": "text/x-python",
   "name": "python",
   "nbconvert_exporter": "python",
   "pygments_lexer": "ipython3",
   "version": "3.9.7"
  }
 },
 "nbformat": 4,
 "nbformat_minor": 5
}
