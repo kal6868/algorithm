{
 "cells": [
  {
   "cell_type": "markdown",
   "id": "fbd6d190",
   "metadata": {},
   "source": [
    "# 문제"
   ]
  },
  {
   "cell_type": "markdown",
   "id": "aa665cb9",
   "metadata": {},
   "source": [
    "* 신입사원 어피치는 카카오톡으로 전송되는 메시지를 압축하여 전송 효율을 높이는 업무를 맡게 되었다. 메시지를 압축하더라도 전달되는 정보가 바뀌어서는 안 되므로, 압축 전의 정보를 완벽하게 복원 가능한 무손실 압축 알고리즘을 구현하기로 했다."
   ]
  },
  {
   "cell_type": "markdown",
   "id": "c21b2be6",
   "metadata": {},
   "source": [
    "* 어피치는 여러 압축 알고리즘 중에서 성능이 좋고 구현이 간단한 LZW(Lempel–Ziv–Welch) 압축을 구현하기로 했다. LZW 압축은 1983년 발표된 알고리즘으로, 이미지 파일 포맷인 GIF 등 다양한 응용에서 사용되었다."
   ]
  },
  {
   "cell_type": "markdown",
   "id": "8137cc18",
   "metadata": {},
   "source": [
    "* LZW 압축은 다음 과정을 거친다.\n",
    "    * 1.길이가 1인 모든 단어를 포함하도록 사전을 초기화한다.\n",
    "    * 2.사전에서 현재 입력과 일치하는 가장 긴 문자열 w를 찾는다.\n",
    "    * 3.w에 해당하는 사전의 색인 번호를 출력하고, 입력에서 w를 제거한다.\n",
    "    * 4.입력에서 처리되지 않은 다음 글자가 남아있다면(c), w+c에 해당하는 단어를 사전에 등록한다.\n",
    "    * 5.단계 2로 돌아간다."
   ]
  },
  {
   "cell_type": "markdown",
   "id": "4d3b3011",
   "metadata": {},
   "source": [
    "* 압축 알고리즘이 영문 대문자만 처리한다고 할 때, 사전은 다음과 같이 초기화된다. 사전의 색인 번호는 정수값으로 주어지며, 1부터 시작한다고 하자.\n",
    "\n",
    "|색인 번호|1|2|3|...|24|25|26|\n",
    "|---|---|---|---|---|---|---|---|\n",
    "|단어|A|B|C|...|X|Y|Z|"
   ]
  },
  {
   "cell_type": "markdown",
   "id": "134ecdb7",
   "metadata": {},
   "source": [
    "* 예를 들어 입력으로 KAKAO가 들어온다고 하자.\n",
    "\n",
    "    * 1.현재 사전에는 KAKAO의 첫 글자 K는 등록되어 있으나, 두 번째 글자까지인 KA는 없으므로, 첫 글자 K에 해당하는 색인 번호 11을 출력하고, 다음 글자인 A를 포함한 KA를 사전에 27 번째로 등록한다.\n",
    "    * 2.두 번째 글자 A는 사전에 있으나, 세 번째 글자까지인 AK는 사전에 없으므로, A의 색인 번호 1을 출력하고, AK를 사전에 28 번째로 등록한다.\n",
    "    * 3.세 번째 글자에서 시작하는 KA가 사전에 있으므로, KA에 해당하는 색인 번호 27을 출력하고, 다음 글자 O를 포함한 KAO를 29 번째로 등록한다.\n",
    "    * 4.마지막으로 처리되지 않은 글자 O에 해당하는 색인 번호 15를 출력한다.\n",
    "    \n",
    "|현재 입력(w)|다음 글자(c)|출력|사전 추가(w+c)|\n",
    "|---|---|---|---|\n",
    "|K|A|11|27: KA|\n",
    "|A|K|1|28: AK|\n",
    "|KA|O|27|29: KAO|\n",
    "|O||15|\n",
    "\n",
    "* 이 과정을 거쳐 다섯 글자의 문장 KAKAO가 4개의 색인 번호 [11, 1, 27, 15]로 압축된다."
   ]
  },
  {
   "cell_type": "markdown",
   "id": "6301db37",
   "metadata": {},
   "source": [
    "* 입력으로 TOBEORNOTTOBEORTOBEORNOT가 들어오면 다음과 같이 압축이 진행된다.\n",
    "\n",
    "|현재 입력(w)|다음 글자(c)|출력|사전 추가(w+c)|\n",
    "|---|---|---|---|\n",
    "|T|O|20|27: TO|\n",
    "|O|B|15|28: OB|\n",
    "|B|E|2|29: BE|\n",
    "|E|O|5|30: EO|\n",
    "|O|R|15|31: OR|\n",
    "|R|N|18|32: RN|\n",
    "|N|O|14|33: NO|\n",
    "|O|T|15|34: OT|\n",
    "|T|T|20|35: TT|\n",
    "|TO|B|27|36: TOB|\n",
    "|BE|O|29|37: BEO|\n",
    "|OR|T|31|38: ORT|\n",
    "|TOB|E|36|39: TOBE|\n",
    "|EO|R|30|40: EOR|\n",
    "|RN|O|32|41: RNO|\n",
    "|OT||34|\t"
   ]
  },
  {
   "cell_type": "markdown",
   "id": "f9ef37cc",
   "metadata": {},
   "source": [
    "# 입력 형식"
   ]
  },
  {
   "cell_type": "markdown",
   "id": "2da597a6",
   "metadata": {},
   "source": [
    "* 입력으로 영문 대문자로만 이뤄진 문자열 msg가 주어진다. msg의 길이는 1 글자 이상, 1000 글자 이하이다."
   ]
  },
  {
   "cell_type": "markdown",
   "id": "be064c2f",
   "metadata": {},
   "source": [
    "#  출력 형식"
   ]
  },
  {
   "cell_type": "markdown",
   "id": "c4d677a4",
   "metadata": {},
   "source": [
    "* 주어진 문자열을 압축한 후의 사전 색인 번호를 배열로 출력하라."
   ]
  },
  {
   "cell_type": "markdown",
   "id": "16452081",
   "metadata": {},
   "source": [
    "# 입출력 예시"
   ]
  },
  {
   "cell_type": "markdown",
   "id": "9b026c31",
   "metadata": {},
   "source": [
    "|msg|answer|\n",
    "|---|---|\n",
    "|KAKAO|[11, 1, 27, 15]|\n",
    "|TOBEORNOTTOBEORTOBEORNOT|[20, 15, 2, 5, 15, 18, 14, 15, 20, 27, 29, 31, 36, 30, 32, 34]|\n",
    "|ABABABABABABABAB|[1, 2, 27, 29, 28, 31, 30]|"
   ]
  },
  {
   "cell_type": "code",
   "execution_count": 1,
   "id": "d3f7e869",
   "metadata": {},
   "outputs": [],
   "source": [
    "def solution(msg):\n",
    "    answer = []\n",
    "    dic = {}\n",
    "    for i in range(26):\n",
    "        dic[chr(65+i)] = i+1\n",
    "    \n",
    "    i = 0\n",
    "    word = ''\n",
    "    while i < len(msg):\n",
    "        word += msg[i]\n",
    "        if word in dic:\n",
    "            i += 1\n",
    "            continue\n",
    "        else:\n",
    "            dic[word] = len(dic) + 1\n",
    "            answer.append(dic[word[:-1]])\n",
    "            word = ''\n",
    "    answer.append(dic[word])\n",
    "    return answer"
   ]
  },
  {
   "cell_type": "code",
   "execution_count": 2,
   "id": "ab9e927b",
   "metadata": {},
   "outputs": [
    {
     "name": "stdout",
     "output_type": "stream",
     "text": [
      "[11, 1, 27, 15] [20, 15, 2, 5, 15, 18, 14, 15, 20, 27, 29, 31, 36, 30, 32, 34] [1, 2, 27, 29, 28, 31, 30] "
     ]
    }
   ],
   "source": [
    "for msg in ['KAKAO', 'TOBEORNOTTOBEORTOBEORNOT', 'ABABABABABABABAB']:\n",
    "    print(solution(msg), end = ' ')"
   ]
  },
  {
   "cell_type": "markdown",
   "id": "55f1bb43",
   "metadata": {},
   "source": [
    "\n",
    "# 풀이 과정 및 주의사항"
   ]
  },
  {
   "cell_type": "markdown",
   "id": "d8d686a4",
   "metadata": {},
   "source": [
    "* ord -> 문자를 아스키코드로 변환, chr -> 아스키 코드를 문자로 변환\n",
    "* 글자를 한글자씩 더하면서 해당 단어가 사전에 있으면 index를 이용해 한글자를 더 더하고, 해당 단어가 사전에 없으면 없는 단어는 사전에 추가하고 마지막에 더해진 글자를 제외(사전에 있는 단어)를 list에 포함한다."
   ]
  },
  {
   "cell_type": "markdown",
   "id": "a93a96e8",
   "metadata": {},
   "source": [
    "https://school.programmers.co.kr/learn/courses/30/lessons/17684"
   ]
  }
 ],
 "metadata": {
  "celltoolbar": "Raw Cell Format",
  "kernelspec": {
   "display_name": "Python 3 (ipykernel)",
   "language": "python",
   "name": "python3"
  },
  "language_info": {
   "codemirror_mode": {
    "name": "ipython",
    "version": 3
   },
   "file_extension": ".py",
   "mimetype": "text/x-python",
   "name": "python",
   "nbconvert_exporter": "python",
   "pygments_lexer": "ipython3",
   "version": "3.9.7"
  }
 },
 "nbformat": 4,
 "nbformat_minor": 5
}
