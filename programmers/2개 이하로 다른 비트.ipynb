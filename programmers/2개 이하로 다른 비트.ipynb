{
 "cells": [
  {
   "cell_type": "markdown",
   "id": "fbd6d190",
   "metadata": {},
   "source": [
    "# 문제"
   ]
  },
  {
   "cell_type": "markdown",
   "id": "aa665cb9",
   "metadata": {},
   "source": [
    "* 양의 정수 x에 대한 함수 f(x)를 다음과 같이 정의합니다.\n",
    "\n",
    "* x보다 크고 x와 비트가 1~2개 다른 수들 중에서 제일 작은 수 예를 들어,"
   ]
  },
  {
   "cell_type": "markdown",
   "id": "f8ba84ae",
   "metadata": {},
   "source": [
    "* f(2) = 3 입니다. 다음 표와 같이 2보다 큰 수들 중에서 비트가 다른 지점이 2개 이하이면서 제일 작은 수가 3이기 때문입니다."
   ]
  },
  {
   "cell_type": "markdown",
   "id": "a98f0d24",
   "metadata": {},
   "source": [
    "|수|비트|다른 비트의 개수|\n",
    "|---|---|---|\n",
    "|2|000...0010||\n",
    "|3|000...0011|1|"
   ]
  },
  {
   "cell_type": "markdown",
   "id": "0005baae",
   "metadata": {},
   "source": [
    "* f(7) = 11 입니다. 다음 표와 같이 7보다 큰 수들 중에서 비트가 다른 지점이 2개 이하이면서 제일 작은 수가 11이기 때문입니다.\n"
   ]
  },
  {
   "cell_type": "markdown",
   "id": "18bd63cd",
   "metadata": {},
   "source": [
    "|수|비트|다른 비트의 개수|\n",
    "|---|---|---|\n",
    "|7|000...0111||\n",
    "|8|000...1000|4|\n",
    "|9|000...1001|3|\n",
    "|10|000...1010|3|\n",
    "|11|000...1011|2|"
   ]
  },
  {
   "cell_type": "markdown",
   "id": "80421b6c",
   "metadata": {},
   "source": [
    "* 정수들이 담긴 배열 numbers가 매개변수로 주어집니다. numbers의 모든 수들에 대하여 각 수의 f 값을 배열에 차례대로 담아 return 하도록 solution 함수를 완성해주세요."
   ]
  },
  {
   "cell_type": "markdown",
   "id": "be064c2f",
   "metadata": {},
   "source": [
    "# 제한사항"
   ]
  },
  {
   "cell_type": "markdown",
   "id": "c4d677a4",
   "metadata": {},
   "source": [
    "* 1 ≤ numbers의 길이 ≤ 100,000\n",
    "* 0 ≤ numbers의 모든 수 ≤ 1015"
   ]
  },
  {
   "cell_type": "markdown",
   "id": "16452081",
   "metadata": {},
   "source": [
    "# 입출력 예시"
   ]
  },
  {
   "cell_type": "markdown",
   "id": "9b026c31",
   "metadata": {},
   "source": [
    "|n|k|result|\n",
    "|---|---|---|\n",
    "|3|5|[3,1,2]|\n",
    "\n"
   ]
  },
  {
   "cell_type": "code",
   "execution_count": 1,
   "id": "d3f7e869",
   "metadata": {},
   "outputs": [],
   "source": [
    "def mk_bin(number):\n",
    "    bin_num = ''\n",
    "    while number:\n",
    "        tail = number % 2\n",
    "        bin_num = str(tail) + bin_num\n",
    "        number //= 2\n",
    "    return bin_num\n",
    "        \n",
    "def solution(numbers):\n",
    "    answer = []\n",
    "    for number in numbers:\n",
    "        if number % 2 == 0:\n",
    "            answer.append(number+1)\n",
    "        else:\n",
    "            bin = '0' + mk_bin(number)\n",
    "            \n",
    "            index_f = 0\n",
    "            for index, n in enumerate(bin):\n",
    "                if str(n) == '0':\n",
    "                    if index_f < index:\n",
    "                        index_f = index\n",
    "                        \n",
    "            binf = list(bin)\n",
    "            binf[int(index_f)], binf[int(index_f)+1] = '1','0'\n",
    "            \n",
    "            answer_num = 0\n",
    "            for i, num in enumerate(binf):\n",
    "                answer_num += (2 ** ((len(binf)-1) - i)) * int(num)\n",
    "            answer.append(answer_num)\n",
    "    return answer"
   ]
  },
  {
   "cell_type": "code",
   "execution_count": 2,
   "id": "ab9e927b",
   "metadata": {},
   "outputs": [
    {
     "data": {
      "text/plain": [
       "[3, 11]"
      ]
     },
     "execution_count": 2,
     "metadata": {},
     "output_type": "execute_result"
    }
   ],
   "source": [
    "solution([2, 7])"
   ]
  },
  {
   "cell_type": "markdown",
   "id": "55f1bb43",
   "metadata": {},
   "source": [
    "# 풀이 과정 및 주의사항"
   ]
  },
  {
   "cell_type": "markdown",
   "id": "d8d686a4",
   "metadata": {},
   "source": [
    "* 숫자가 짝수인 경우는 바로 다음수(+1)이 비트가 2개 이하로 차이나면서 가장 작은 수가 된다.\n",
    "* 홀수인 경우는 자릿수중 가장 뒤에 나타나는 0을 1로 바꾸고 해당 자릿수 바로 다음 자릿수를 0으로 바꾸면 비트가 2개 차이나면서 가장 작은 숫가 된다.\n",
    "* 0을 앞에 더해주는 이유는 자릿수가 추가되는 경우를 해결하기 위함, 나중에 10진수로 변경할때 차이를 영향을 주지 않는다."
   ]
  },
  {
   "cell_type": "markdown",
   "id": "a93a96e8",
   "metadata": {},
   "source": [
    "https://school.programmers.co.kr/learn/courses/30/lessons/77885"
   ]
  }
 ],
 "metadata": {
  "celltoolbar": "Raw Cell Format",
  "kernelspec": {
   "display_name": "Python 3 (ipykernel)",
   "language": "python",
   "name": "python3"
  },
  "language_info": {
   "codemirror_mode": {
    "name": "ipython",
    "version": 3
   },
   "file_extension": ".py",
   "mimetype": "text/x-python",
   "name": "python",
   "nbconvert_exporter": "python",
   "pygments_lexer": "ipython3",
   "version": "3.9.7"
  }
 },
 "nbformat": 4,
 "nbformat_minor": 5
}
