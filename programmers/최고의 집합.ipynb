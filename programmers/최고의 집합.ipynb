{
 "cells": [
  {
   "cell_type": "markdown",
   "id": "fbd6d190",
   "metadata": {},
   "source": [
    "# 문제 설명"
   ]
  },
  {
   "cell_type": "markdown",
   "id": "295ec3a5",
   "metadata": {},
   "source": [
    "* 자연수 n 개로 이루어진 중복 집합(multi set, 편의상 이후에는 \"집합\"으로 통칭) 중에 다음 두 조건을 만족하는 집합을 최고의 집합이라고 합니다.\n",
    "    * 1.각 원소의 합이 S가 되는 수의 집합\n",
    "    * 2. 위 조건을 만족하면서 각 원소의 곱 이 최대가 되는 집합"
   ]
  },
  {
   "cell_type": "markdown",
   "id": "41d65362",
   "metadata": {},
   "source": [
    "* 예를 들어서 자연수 2개로 이루어진 집합 중 합이 9가 되는 집합은 다음과 같이 4개가 있습니다.\n",
    "    * { 1, 8 }, { 2, 7 }, { 3, 6 }, { 4, 5 }"
   ]
  },
  {
   "cell_type": "markdown",
   "id": "720cf813",
   "metadata": {},
   "source": [
    "* 그중 각 원소의 곱이 최대인 { 4, 5 }가 최고의 집합입니다."
   ]
  },
  {
   "cell_type": "markdown",
   "id": "2899747e",
   "metadata": {},
   "source": [
    "* 집합의 원소의 개수 n과 모든 원소들의 합 s가 매개변수로 주어질 때, 최고의 집합을 return 하는 solution 함수를 완성해주세요."
   ]
  },
  {
   "cell_type": "markdown",
   "id": "ace8205e",
   "metadata": {},
   "source": [
    "# 제한 조건"
   ]
  },
  {
   "cell_type": "markdown",
   "id": "a21dd125",
   "metadata": {},
   "source": [
    "* 최고의 집합은 오름차순으로 정렬된 1차원 배열(list, vector) 로 return 해주세요.\n",
    "* 만약 최고의 집합이 존재하지 않는 경우에 크기가 1인 1차원 배열(list, vector) 에 -1 을 채워서 return 해주세요.\n",
    "* 자연수의 개수 n은 1 이상 10,000 이하의 자연수입니다.\n",
    "* 모든 원소들의 합 s는 1 이상, 100,000,000 이하의 자연수입니다."
   ]
  },
  {
   "cell_type": "markdown",
   "id": "16452081",
   "metadata": {},
   "source": [
    "# 입출력 예시"
   ]
  },
  {
   "cell_type": "markdown",
   "id": "9b026c31",
   "metadata": {},
   "source": [
    "|n|s|result|\n",
    "|---|---|---|\n",
    "|2|9|[4, 5]|\n",
    "|2|1|[-1]|\n",
    "|2|8|[4, 4]|"
   ]
  },
  {
   "cell_type": "code",
   "execution_count": 1,
   "id": "2cfeb700",
   "metadata": {},
   "outputs": [],
   "source": [
    "def solution(n, s):\n",
    "    answer = []\n",
    "    if n > s:\n",
    "        return [-1]\n",
    "    \n",
    "    num = s // n\n",
    "    remain = s % n\n",
    "    \n",
    "    for _ in range(n):\n",
    "        answer.append(num)\n",
    "    \n",
    "    for i in range(len(answer)-1, 0, -1):\n",
    "        if remain == 0:\n",
    "            break\n",
    "        answer[i] += 1\n",
    "        remain -= 1\n",
    "\n",
    "    return answer"
   ]
  },
  {
   "cell_type": "code",
   "execution_count": 2,
   "id": "4411ccbc",
   "metadata": {},
   "outputs": [
    {
     "name": "stdout",
     "output_type": "stream",
     "text": [
      "[4, 5]\n",
      "[-1]\n",
      "[4, 4]\n"
     ]
    }
   ],
   "source": [
    "for n, s in [[2, 9], [2, 1], [2, 8]]:\n",
    "    print(solution(n, s))"
   ]
  },
  {
   "cell_type": "markdown",
   "id": "a76a6800",
   "metadata": {},
   "source": [
    "# 풀이 과정 및 주의사항"
   ]
  },
  {
   "cell_type": "markdown",
   "id": "641c1f09",
   "metadata": {},
   "source": [
    " * 각 원소의 차이가 적을 수록 곱한 값이 커진다. 따라서, s를 n으로 나눈 몫을 n개 만큼 answer List에 넣어준다.\n",
    " * s를 n으로 나눈 나머지는 n보다 항상 작으므로 answer List의 맨 뒤의 요소부터 for 사용해서 1씩 더해주고 나머지에서는 1씩 빼준다.\n",
    " * 나머지가 0이 되버리면 break로 for문을 멈추면 된다."
   ]
  },
  {
   "cell_type": "markdown",
   "id": "0d7970bb",
   "metadata": {},
   "source": [
    "https://school.programmers.co.kr/learn/courses/30/lessons/12938"
   ]
  }
 ],
 "metadata": {
  "celltoolbar": "Raw Cell Format",
  "kernelspec": {
   "display_name": "Python 3 (ipykernel)",
   "language": "python",
   "name": "python3"
  },
  "language_info": {
   "codemirror_mode": {
    "name": "ipython",
    "version": 3
   },
   "file_extension": ".py",
   "mimetype": "text/x-python",
   "name": "python",
   "nbconvert_exporter": "python",
   "pygments_lexer": "ipython3",
   "version": "3.9.7"
  }
 },
 "nbformat": 4,
 "nbformat_minor": 5
}
