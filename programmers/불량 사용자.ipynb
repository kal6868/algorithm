{
 "cells": [
  {
   "cell_type": "markdown",
   "id": "fbd6d190",
   "metadata": {},
   "source": [
    "# 문제 설명"
   ]
  },
  {
   "cell_type": "markdown",
   "id": "295ec3a5",
   "metadata": {},
   "source": [
    "* 개발팀 내에서 이벤트 개발을 담당하고 있는 \"무지\"는 최근 진행된 카카오이모티콘 이벤트에 비정상적인 방법으로 당첨을 시도한 응모자들을 발견하였습니다. 이런 응모자들을 따로 모아 불량 사용자라는 이름으로 목록을 만들어서 당첨 처리 시 제외하도록 이벤트 당첨자 담당자인 \"프로도\" 에게 전달하려고 합니다. 이 때 개인정보 보호을 위해 사용자 아이디 중 일부 문자를 '*' 문자로 가려서 전달했습니다. 가리고자 하는 문자 하나에 '*' 문자 하나를 사용하였고 아이디 당 최소 하나 이상의 '*' 문자를 사용하였습니다. \"무지\"와 \"프로도\"는 불량 사용자 목록에 매핑된 응모자 아이디를 제재 아이디 라고 부르기로 하였습니다."
   ]
  },
  {
   "cell_type": "markdown",
   "id": "41d65362",
   "metadata": {},
   "source": [
    "* 예를 들어, 이벤트에 응모한 전체 사용자 아이디 목록이 다음과 같다면\n",
    "\n",
    "|응모자 아이디|\n",
    "|---|\n",
    "|frodo|\n",
    "|fradi|\n",
    "|crodo|\n",
    "|abc123|\n",
    "|frodoc|"
   ]
  },
  {
   "cell_type": "markdown",
   "id": "935cd7f8",
   "metadata": {},
   "source": [
    " * 다음과 같이 불량 사용자 아이디 목록이 전달된 경우,\n",
    " \n",
    "|불량 사용자|\n",
    "|---|\n",
    "|fr\\*d\\*|\n",
    "|abc1\\*\\*|"
   ]
  },
  {
   "cell_type": "markdown",
   "id": "9768daf8",
   "metadata": {},
   "source": [
    "* 불량 사용자에 매핑되어 당첨에서 제외되어야 야 할 제재 아이디 목록은 다음과 같이 두 가지 경우가 있을 수 있습니다.\n",
    "\n",
    "|제재 아이디|\n",
    "|---|\n",
    "|frodo|\n",
    "|abc123|\n",
    "\n",
    "|제재 아이디|\n",
    "|---|\n",
    "|fradi|\n",
    "|abc123|"
   ]
  },
  {
   "cell_type": "markdown",
   "id": "9e4cf362",
   "metadata": {},
   "source": [
    "* 이벤트 응모자 아이디 목록이 담긴 배열 user_id와 불량 사용자 아이디 목록이 담긴 배열 banned_id가 매개변수로 주어질 때, 당첨에서 제외되어야 할 제재 아이디 목록은 몇가지 경우의 수가 가능한 지 return 하도록 solution 함수를 완성해주세요."
   ]
  },
  {
   "cell_type": "markdown",
   "id": "ff6efbd2",
   "metadata": {},
   "source": [
    " # 제한 사항"
   ]
  },
  {
   "cell_type": "markdown",
   "id": "160863cb",
   "metadata": {},
   "source": [
    "* user_id 배열의 크기는 1 이상 8 이하입니다.\n",
    "* user_id 배열 각 원소들의 값은 길이가 1 이상 8 이하인 문자열입니다.\n",
    "    * 응모한 사용자 아이디들은 서로 중복되지 않습니다.\n",
    "    * 응모한 사용자 아이디는 알파벳 소문자와 숫자로만으로 구성되어 있습니다.\n",
    "* banned_id 배열의 크기는 1 이상 user_id 배열의 크기 이하입니다.\n",
    "* banned_id 배열 각 원소들의 값은 길이가 1 이상 8 이하인 문자열입니다.\n",
    "    * 불량 사용자 아이디는 알파벳 소문자와 숫자, 가리기 위한 문자 '*' 로만 이루어져 있습니다.\n",
    "    * 불량 사용자 아이디는 '*' 문자를 하나 이상 포함하고 있습니다.\n",
    "    * 불량 사용자 아이디 하나는 응모자 아이디 중 하나에 해당하고 같은 응모자 아이디가 중복해서 제재 아이디 목록에 들어가는 경우는 없습니다.\n",
    "* 제재 아이디 목록들을 구했을 때 아이디들이 나열된 순서와 관계없이 아이디 목록의 내용이 동일하다면 같은 것으로 처리하여 하나로 세면 됩니다."
   ]
  },
  {
   "cell_type": "markdown",
   "id": "16452081",
   "metadata": {},
   "source": [
    "# 입출력 예"
   ]
  },
  {
   "cell_type": "markdown",
   "id": "9b026c31",
   "metadata": {},
   "source": [
    "|user_id|banned_id|result|\n",
    "|---|---|---|\n",
    "|[\"frodo\", \"fradi\", \"crodo\", \"abc123\", \"frodoc\"]|[\"fr\\*d\\*\", \"abc1\\*\\*\"]|2|\n",
    "|[\"frodo\", \"fradi\", \"crodo\", \"abc123\", \"frodoc\"]|[\"\\*rodo\", \"\\*rodo\", \"\\*\\*\\*\\*\\*\\*\"]|2|\n",
    "|[\"frodo\", \"fradi\", \"crodo\", \"abc123\", \"frodoc\"]|[\"fr\\*d\\*\", \"\\*rodo\", \"\\*\\*\\*\\*\\*\\*\", \"\\*\\*\\*\\*\\*\\*\"]|3|"
   ]
  },
  {
   "cell_type": "code",
   "execution_count": 1,
   "id": "9570e5c7",
   "metadata": {},
   "outputs": [],
   "source": [
    "from itertools import permutations, combinations\n",
    "\n",
    "def sp_chk(user, ban):\n",
    "    if len(user) != len(ban):\n",
    "        return False\n",
    "    for u, b in zip(user, ban):\n",
    "        if b == '*':\n",
    "            continue\n",
    "        if u != b:\n",
    "            return False\n",
    "    return True\n",
    "\n",
    "def solution(user_id, banned_id):\n",
    "    id_list = []\n",
    "    p_user_id = list(permutations(user_id, len(banned_id)))\n",
    "\n",
    "    for p_id in p_user_id:\n",
    "        count = 0\n",
    "        for p, b in zip(p_id, banned_id):\n",
    "            if sp_chk(p, b):\n",
    "                count += 1\n",
    "        if count == len(banned_id):\n",
    "            if set(p_id) not in id_list:\n",
    "                id_list.append(set(p_id))\n",
    "                \n",
    "    answer = len(id_list)\n",
    "    return answer"
   ]
  },
  {
   "cell_type": "code",
   "execution_count": 2,
   "id": "4411ccbc",
   "metadata": {},
   "outputs": [
    {
     "name": "stdout",
     "output_type": "stream",
     "text": [
      "2\n",
      "2\n",
      "3\n"
     ]
    }
   ],
   "source": [
    "for user_id, banned_id in [[[\"frodo\", \"fradi\", \"crodo\", \"abc123\", \"frodoc\"], [\"fr*d*\", \"abc1**\"]], \n",
    "                           [[\"frodo\", \"fradi\", \"crodo\", \"abc123\", \"frodoc\"], [\"*rodo\", \"*rodo\", \"******\"]],\n",
    "                           [[\"frodo\", \"fradi\", \"crodo\", \"abc123\", \"frodoc\"], [\"fr*d*\", \"*rodo\", \"******\", \"******\"]]]:\n",
    "    print(solution(user_id, banned_id))"
   ]
  },
  {
   "cell_type": "markdown",
   "id": "a76a6800",
   "metadata": {},
   "source": [
    "# 풀이 과정 및 주의사항"
   ]
  },
  {
   "cell_type": "markdown",
   "id": "641c1f09",
   "metadata": {},
   "source": [
    "* 두 문자열을 받아서 비교할때, \\*은 무시하고, 서로 다른 문자가 있으면 False를 반환하며, \\*을 제외하고 모두 같으면 True를 반환하는 함수(sp_chk)를 정의한다.\n",
    "* permutations을 이용해서 user_id에서 banned_id 개수 만큼의 순열(순서가 다르면 다르게 취급)을 만든다.\n",
    "* 두 문자열을 비교해서 \\*을 제외하고 나머지가 같으면 id_list에 담으면 된다. 다만 같은 요소들을 가지고 있더라도 순서가 다르면 다르게 취급되기 때문에, set을 이용해서 순서를 통일한 후 동일한 요소가 List에 없으면 담아서 개수를 반환한다."
   ]
  },
  {
   "cell_type": "markdown",
   "id": "0d7970bb",
   "metadata": {},
   "source": [
    "https://school.programmers.co.kr/learn/courses/30/lessons/64064"
   ]
  }
 ],
 "metadata": {
  "celltoolbar": "Raw Cell Format",
  "kernelspec": {
   "display_name": "Python 3 (ipykernel)",
   "language": "python",
   "name": "python3"
  },
  "language_info": {
   "codemirror_mode": {
    "name": "ipython",
    "version": 3
   },
   "file_extension": ".py",
   "mimetype": "text/x-python",
   "name": "python",
   "nbconvert_exporter": "python",
   "pygments_lexer": "ipython3",
   "version": "3.9.7"
  }
 },
 "nbformat": 4,
 "nbformat_minor": 5
}
