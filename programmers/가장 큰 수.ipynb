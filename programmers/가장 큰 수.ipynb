{
 "cells": [
  {
   "cell_type": "markdown",
   "id": "fbd6d190",
   "metadata": {},
   "source": [
    "# 문제"
   ]
  },
  {
   "cell_type": "markdown",
   "id": "aa665cb9",
   "metadata": {},
   "source": [
    "* 0 또는 양의 정수가 주어졌을 때, 정수를 이어 붙여 만들 수 있는 가장 큰 수를 알아내 주세요.\n",
    "\n",
    "* 예를 들어, 주어진 정수가 [6, 10, 2]라면 [6102, 6210, 1062, 1026, 2610, 2106]를 만들 수 있고, 이중 가장 큰 수는 6210입니다.\n",
    "\n",
    "*  0 또는 양의 정수가 담긴 배열 numbers가 매개변수로 주어질 때, 순서를 재배치하여 만들 수 있는 가장 큰 수를 문자열로 바꾸어 return 하도록 solution 함수를 작성해주세요."
   ]
  },
  {
   "cell_type": "markdown",
   "id": "be064c2f",
   "metadata": {},
   "source": [
    "# 제한사항"
   ]
  },
  {
   "cell_type": "markdown",
   "id": "c4d677a4",
   "metadata": {},
   "source": [
    "* numbers의 길이는 1 이상 100,000 이하입니다.\n",
    "* numbers의 원소는 0 이상 1,000 이하입니다.\n",
    "* 정답이 너무 클 수 있으니 문자열로 바꾸어 return 합니다."
   ]
  },
  {
   "cell_type": "markdown",
   "id": "16452081",
   "metadata": {},
   "source": [
    "# 입출력 예시"
   ]
  },
  {
   "cell_type": "markdown",
   "id": "9b026c31",
   "metadata": {},
   "source": [
    "|numbers|result|\n",
    "|---|---|\n",
    "|[6, 10, 2]|\"6210\"|\n",
    "|[3, 30, 34, 5, 9]|\"9534330\"|"
   ]
  },
  {
   "cell_type": "code",
   "execution_count": 1,
   "id": "d3f7e869",
   "metadata": {},
   "outputs": [],
   "source": [
    "def solution(numbers):\n",
    "    a_list = []\n",
    "    for n in numbers:\n",
    "        temp = list(str(n))\n",
    "        multi = []\n",
    "        i = 0\n",
    "        while len(multi) < 4:\n",
    "            multi.append(temp[i])\n",
    "            i = (i+1) % len(temp)\n",
    "        a_list.append([str(n), \"\".join(multi)])\n",
    "    a_list = sorted(a_list, key = lambda x : x[1], reverse = True)\n",
    "    \n",
    "    answer = int(\"\".join([target[0] for target in a_list]))\n",
    "    return str(answer) "
   ]
  },
  {
   "cell_type": "markdown",
   "id": "55f1bb43",
   "metadata": {},
   "source": [
    "# 풀이 과정 및 주의사항"
   ]
  },
  {
   "cell_type": "markdown",
   "id": "d8d686a4",
   "metadata": {},
   "source": [
    "* 앞자리 숫자가 가장 큰 숫자가 앞으로 오게 정렬 하여 합치는게 가장 큰 숫자가 된다.\n",
    "* 숫자를 반복하여 같은 자리수를 만들어서 정렬하면 앞자리 숫자가 가장 큰 숫자가 제일 앞으로 오게 정렬이 가능하다.\n",
    "* 1000 이하의 숫자 범위가 주어졌으므로 숫자를 반복하여 네자리 수로 맞춘 후 반복한 숫자로 정렬하여 합치면 가장 큰 수가 나온다. '0000' 같은 예외 처리를 위해 숫자형으로 변환 후 다시 문자형으로 변환한다."
   ]
  },
  {
   "cell_type": "markdown",
   "id": "a93a96e8",
   "metadata": {},
   "source": [
    "https://school.programmers.co.kr/learn/courses/30/lessons/42746"
   ]
  }
 ],
 "metadata": {
  "kernelspec": {
   "display_name": "Python 3 (ipykernel)",
   "language": "python",
   "name": "python3"
  },
  "language_info": {
   "codemirror_mode": {
    "name": "ipython",
    "version": 3
   },
   "file_extension": ".py",
   "mimetype": "text/x-python",
   "name": "python",
   "nbconvert_exporter": "python",
   "pygments_lexer": "ipython3",
   "version": "3.9.7"
  }
 },
 "nbformat": 4,
 "nbformat_minor": 5
}
