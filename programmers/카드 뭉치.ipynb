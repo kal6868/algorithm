{
 "cells": [
  {
   "attachments": {},
   "cell_type": "markdown",
   "metadata": {},
   "source": [
    "# 카드 뭉치"
   ]
  },
  {
   "attachments": {},
   "cell_type": "markdown",
   "metadata": {},
   "source": [
    "## 문제 설명"
   ]
  },
  {
   "attachments": {},
   "cell_type": "markdown",
   "metadata": {},
   "source": [
    "* 코니는 영어 단어가 적힌 카드 뭉치 두 개를 선물로 받았습니다. 코니는 다음과 같은 규칙으로 카드에 적힌 단어들을 사용해 원하는 순서의 단어 배열을 만들 수 있는지 알고 싶습니다.\n",
    "\n",
    "    * 원하는 카드 뭉치에서 카드를 순서대로 한 장씩 사용합니다.\n",
    "    * 한 번 사용한 카드는 다시 사용할 수 없습니다.\n",
    "    * 카드를 사용하지 않고 다음 카드로 넘어갈 수 없습니다.\n",
    "    * 기존에 주어진 카드 뭉치의 단어 순서는 바꿀 수 없습니다"
   ]
  },
  {
   "attachments": {},
   "cell_type": "markdown",
   "metadata": {},
   "source": [
    "* 예를 들어 첫 번째 카드 뭉치에 순서대로 [\"i\", \"drink\", \"water\"], 두 번째 카드 뭉치에 순서대로 [\"want\", \"to\"]가 적혀있을 때 [\"i\", \"want\", \"to\", \"drink\", \"water\"] 순서의 단어 배열을 만들려고 한다면 첫 번째 카드 뭉치에서 \"i\"를 사용한 후 두 번째 카드 뭉치에서 \"want\"와 \"to\"를 사용하고 첫 번째 카드뭉치에 \"drink\"와 \"water\"를 차례대로 사용하면 원하는 순서의 단어 배열을 만들 수 있습니다."
   ]
  },
  {
   "attachments": {},
   "cell_type": "markdown",
   "metadata": {},
   "source": [
    "* 문자열로 이루어진 배열 cards1, cards2와 원하는 단어 배열 goal이 매개변수로 주어질 때, cards1과 cards2에 적힌 단어들로 goal를 만들 있다면 \"Yes\"를, 만들 수 없다면 \"No\"를 return하는 solution 함수를 완성해주세요."
   ]
  },
  {
   "attachments": {},
   "cell_type": "markdown",
   "metadata": {},
   "source": [
    "## 제한사항"
   ]
  },
  {
   "attachments": {},
   "cell_type": "markdown",
   "metadata": {},
   "source": [
    "* 1 ≤ cards1의 길이, cards2의 길이 ≤ 10\n",
    "    * 1 ≤ cards1[i]의 길이, cards2[i]의 길이 ≤ 10\n",
    "    * cards1과 cards2에는 서로 다른 단어만 존재합니다.\n",
    "* 2 ≤ goal의 길이 ≤ cards1의 길이 + cards2의 길이\n",
    "    * 1 ≤ goal[i]의 길이 ≤ 10\n",
    "    * goal의 원소는 cards1과 cards2의 원소들로만 이루어져 있습니다.\n",
    "* cards1, cards2, goal의 문자열들은 모두 알파벳 소문자로만 이루어져 있습니다."
   ]
  },
  {
   "attachments": {},
   "cell_type": "markdown",
   "metadata": {},
   "source": [
    "## 입출력 예"
   ]
  },
  {
   "attachments": {},
   "cell_type": "markdown",
   "metadata": {},
   "source": [
    "|cards1|cards2|goal|result|\n",
    "|---|---|---|---|\n",
    "|[\"i\", \"drink\", \"water\"]|[\"want\", \"to\"]|[\"i\", \"want\", \"to\", \"drink\", \"water\"]|\"Yes\"|\n",
    "|[\"i\", \"water\", \"drink\"]|[\"want\", \"to\"]|[\"i\", \"want\", \"to\", \"drink\", \"water\"]|\"No\"|"
   ]
  },
  {
   "attachments": {},
   "cell_type": "markdown",
   "metadata": {},
   "source": [
    "## Code"
   ]
  },
  {
   "cell_type": "code",
   "execution_count": 1,
   "metadata": {},
   "outputs": [],
   "source": [
    "from collections import deque\n",
    "def solution(cards1, cards2, goal):\n",
    "    answer = ''\n",
    "    d_cards1 = deque(cards1)\n",
    "    d_cards2 = deque(cards2)\n",
    "    d_goal = deque(goal)\n",
    "    \n",
    "    while d_goal:\n",
    "        s = d_goal.popleft()\n",
    "        if (d_cards1) and (d_cards1[0] == s):\n",
    "            d_cards1.popleft()\n",
    "        elif (d_cards2) and (d_cards2[0] == s):\n",
    "            d_cards2.popleft()\n",
    "        else:\n",
    "            return 'No'\n",
    "    \n",
    "    answer = 'Yes'\n",
    "    return answer"
   ]
  },
  {
   "attachments": {},
   "cell_type": "markdown",
   "metadata": {},
   "source": [
    "## 예제입력 - 출력"
   ]
  },
  {
   "cell_type": "code",
   "execution_count": 2,
   "metadata": {},
   "outputs": [
    {
     "data": {
      "text/plain": [
       "'Yes'"
      ]
     },
     "execution_count": 2,
     "metadata": {},
     "output_type": "execute_result"
    }
   ],
   "source": [
    "solution([\"i\", \"drink\", \"water\"], [\"want\", \"to\"], [\"i\", \"want\", \"to\", \"drink\", \"water\"])"
   ]
  },
  {
   "cell_type": "code",
   "execution_count": 3,
   "metadata": {},
   "outputs": [
    {
     "data": {
      "text/plain": [
       "'No'"
      ]
     },
     "execution_count": 3,
     "metadata": {},
     "output_type": "execute_result"
    }
   ],
   "source": [
    "solution([\"i\", \"water\", \"drink\"], [\"want\", \"to\"], [\"i\", \"want\", \"to\", \"drink\", \"water\"])"
   ]
  },
  {
   "attachments": {},
   "cell_type": "markdown",
   "metadata": {},
   "source": [
    "## Note"
   ]
  },
  {
   "attachments": {},
   "cell_type": "markdown",
   "metadata": {},
   "source": [
    "* goal의 맨 앞 요소를 하나 씩 추출하면서 cards1이나 cards2의 맨 앞 요소와 비교 후, 같은 요소가 있으면 같은 요소를 추출한다. 모든 과정이 완료되면 yes를 반환하고, 만약 goal에서 추출한 요소가 cards1, cards2의 맨 앞 요소와 같지 않으면 No를 반환한다."
   ]
  },
  {
   "attachments": {},
   "cell_type": "markdown",
   "metadata": {},
   "source": [
    "https://school.programmers.co.kr/learn/courses/30/lessons/159994"
   ]
  }
 ],
 "metadata": {
  "kernelspec": {
   "display_name": "ws1",
   "language": "python",
   "name": "python3"
  },
  "language_info": {
   "codemirror_mode": {
    "name": "ipython",
    "version": 3
   },
   "file_extension": ".py",
   "mimetype": "text/x-python",
   "name": "python",
   "nbconvert_exporter": "python",
   "pygments_lexer": "ipython3",
   "version": "3.9.13"
  },
  "orig_nbformat": 4,
  "vscode": {
   "interpreter": {
    "hash": "2856db72fb1e77597a3b14e9c1bb4d2315d342edc16fc9e25c6c6e499688b933"
   }
  }
 },
 "nbformat": 4,
 "nbformat_minor": 2
}
