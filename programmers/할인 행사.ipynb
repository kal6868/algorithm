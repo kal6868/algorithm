{
 "cells": [
  {
   "cell_type": "markdown",
   "id": "fbd6d190",
   "metadata": {},
   "source": [
    "# 문제 설명"
   ]
  },
  {
   "cell_type": "markdown",
   "id": "295ec3a5",
   "metadata": {},
   "source": [
    "* XYZ 마트는 일정한 금액을 지불하면 10일 동안 회원 자격을 부여합니다. XYZ 마트에서는 회원을 대상으로 매일 한 가지 제품을 할인하는 행사를 합니다. 할인하는 제품은 하루에 하나씩만 구매할 수 있습니다. 알뜰한 정현이는 자신이 원하는 제품과 수량이 할인하는 날짜와 10일 연속으로 일치할 경우에 맞춰서 회원가입을 하려 합니다."
   ]
  },
  {
   "cell_type": "markdown",
   "id": "3f4ae034",
   "metadata": {},
   "source": [
    "* 예를 들어, 정현이가 원하는 제품이 바나나 3개, 사과 2개, 쌀 2개, 돼지고기 2개, 냄비 1개이며, XYZ 마트에서 15일간 회원을 대상으로 할인하는 제품이 날짜 순서대로 치킨, 사과, 사과, 바나나, 쌀, 사과, 돼지고기, 바나나, 돼지고기, 쌀, 냄비, 바나나, 사과, 바나나인 경우에 대해 알아봅시다. 첫째 날부터 열흘 간에는 냄비가 할인하지 않기 때문에 첫째 날에는 회원가입을 하지 않습니다. 둘째 날부터 열흘 간에는 바나나를 원하는 만큼 할인구매할 수 없기 때문에 둘째 날에도 회원가입을 하지 않습니다. 셋째 날, 넷째 날, 다섯째 날부터 각각 열흘은 원하는 제품과 수량이 일치하기 때문에 셋 중 하루에 회원가입을 하려 합니다."
   ]
  },
  {
   "cell_type": "markdown",
   "id": "943d53ad",
   "metadata": {},
   "source": [
    "* 정현이가 원하는 제품을 나타내는 문자열 배열 want와 정현이가 원하는 제품의 수량을 나타내는 정수 배열 number, XYZ 마트에서 할인하는 제품을 나타내는 문자열 배열 discount가 주어졌을 때, 회원등록시 정현이가 원하는 제품을 모두 할인 받을 수 있는 회원등록 날짜의 총 일수를 return 하는 solution 함수를 완성하시오. 가능한 날이 없으면 0을 return 합니다."
   ]
  },
  {
   "cell_type": "markdown",
   "id": "b56a4179",
   "metadata": {},
   "source": [
    "# 제한사항"
   ]
  },
  {
   "cell_type": "markdown",
   "id": "229fc3aa",
   "metadata": {},
   "source": [
    "* 1 ≤ want의 길이 = number의 길이 ≤ 10\n",
    "* 1 ≤ number의 원소 ≤ 10\n",
    "* number[i]는 want[i]의 수량을 의미하며, number의 원소의 합은 10입니다.\n",
    "* 10 ≤ discount의 길이 ≤ 100,000\n",
    "* want와 discount의 원소들은 알파벳 소문자로 이루어진 문자열입니다.\n",
    "* 1 ≤ want의 원소의 길이, discount의 원소의 길이 ≤ 12"
   ]
  },
  {
   "cell_type": "markdown",
   "id": "16452081",
   "metadata": {},
   "source": [
    "# 입출력 예시"
   ]
  },
  {
   "cell_type": "markdown",
   "id": "9b026c31",
   "metadata": {},
   "source": [
    "|want|number|discount|result|\n",
    "|---|---|---|---|\n",
    "|[\"banana\", \"apple\", \"rice\", \"pork\", \"pot\"]|[3, 2, 2, 2, 1]|[\"chicken\", \"apple\", \"apple\", \"banana\", \"rice\", \"apple\", \"pork\", \"banana\", \"pork\", \"rice\", \"pot\", \"banana\", \"apple\", \"banana\"]|3|\n",
    "|[\"apple\"]|[10]|[\"banana\", \"banana\", \"banana\", \"banana\", \"banana\", \"banana\", \"banana\", \"banana\", \"banana\", \"banana\"]|0|"
   ]
  },
  {
   "cell_type": "code",
   "execution_count": 1,
   "id": "d3f7e869",
   "metadata": {},
   "outputs": [],
   "source": [
    "def solution(want, number, discount):\n",
    "    answer = 0\n",
    "    w_product = {want[i]:number[i] for i in range(len(want))}\n",
    "    \n",
    "    for i in range((len(discount)-10)+1):\n",
    "        dc_days = discount[i:i+10]\n",
    "        dc_product = {}\n",
    "        for product in dc_days:\n",
    "            if product not in dc_product:\n",
    "                dc_product[product] = 1\n",
    "            else:\n",
    "                dc_product[product] += 1\n",
    "        if dc_product == w_product:\n",
    "            answer += 1\n",
    "\n",
    "    return answer"
   ]
  },
  {
   "cell_type": "code",
   "execution_count": 2,
   "id": "d3982ae6",
   "metadata": {},
   "outputs": [
    {
     "name": "stdout",
     "output_type": "stream",
     "text": [
      "3 0 "
     ]
    }
   ],
   "source": [
    "for want, number, discount in [[[\"banana\", \"apple\", \"rice\", \"pork\", \"pot\"],[3, 2, 2, 2, 1],[\"chicken\", \"apple\", \"apple\", \"banana\", \"rice\", \"apple\", \"pork\", \"banana\", \"pork\", \"rice\", \"pot\", \"banana\", \"apple\", \"banana\"]],\n",
    "                              [[\"apple\"],[10],[\"banana\", \"banana\", \"banana\", \"banana\", \"banana\", \"banana\", \"banana\", \"banana\", \"banana\", \"banana\"]]]:\n",
    "    print(solution(want, number, discount), end = ' ')"
   ]
  },
  {
   "cell_type": "markdown",
   "id": "a76a6800",
   "metadata": {},
   "source": [
    "# 풀이 과정 및 주의사항"
   ]
  },
  {
   "cell_type": "markdown",
   "id": "641c1f09",
   "metadata": {},
   "source": [
    "* {want:number}의 dictionary 형태를 만들어서 원하는 물건 : 개수의 형태의 데이터셋을 만든다.\n",
    "* number의 합은 항상 10이므로 for 문을 사용해서 처음 일자부터 10개의 데이터(0~9번 인덱스)를 가져와서 dc_days로 명명한다.\n",
    "* 가져온 10개의 데이터를 동일하게 {discount:개수}의 형태로 만들어준 뒤 {want:number} 비교하여 동일하면 answer에 1을 더해준다."
   ]
  },
  {
   "cell_type": "markdown",
   "id": "0d7970bb",
   "metadata": {},
   "source": [
    "https://school.programmers.co.kr/learn/courses/30/lessons/131127"
   ]
  }
 ],
 "metadata": {
  "celltoolbar": "Raw Cell Format",
  "kernelspec": {
   "display_name": "Python 3 (ipykernel)",
   "language": "python",
   "name": "python3"
  },
  "language_info": {
   "codemirror_mode": {
    "name": "ipython",
    "version": 3
   },
   "file_extension": ".py",
   "mimetype": "text/x-python",
   "name": "python",
   "nbconvert_exporter": "python",
   "pygments_lexer": "ipython3",
   "version": "3.9.7"
  }
 },
 "nbformat": 4,
 "nbformat_minor": 5
}
