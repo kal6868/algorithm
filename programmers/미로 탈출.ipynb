{
 "cells": [
  {
   "attachments": {},
   "cell_type": "markdown",
   "metadata": {},
   "source": [
    "# 미로 탈출"
   ]
  },
  {
   "attachments": {},
   "cell_type": "markdown",
   "metadata": {},
   "source": [
    "## 문제 설명"
   ]
  },
  {
   "attachments": {},
   "cell_type": "markdown",
   "metadata": {},
   "source": [
    "* 1 x 1 크기의 칸들로 이루어진 직사각형 격자 형태의 미로에서 탈출하려고 합니다. 각 칸은 통로 또는 벽으로 구성되어 있으며, 벽으로 된 칸은 지나갈 수 없고 통로로 된 칸으로만 이동할 수 있습니다. 통로들 중 한 칸에는 미로를 빠져나가는 문이 있는데, 이 문은 레버를 당겨서만 열 수 있습니다. 레버 또한 통로들 중 한 칸에 있습니다. 따라서, 출발 지점에서 먼저 레버가 있는 칸으로 이동하여 레버를 당긴 후 미로를 빠져나가는 문이 있는 칸으로 이동하면 됩니다. 이때 아직 레버를 당기지 않았더라도 출구가 있는 칸을 지나갈 수 있습니다. 미로에서 한 칸을 이동하는데 1초가 걸린다고 할 때, 최대한 빠르게 미로를 빠져나가는데 걸리는 시간을 구하려 합니다."
   ]
  },
  {
   "cell_type": "markdown",
   "metadata": {},
   "source": [
    "* 미로를 나타낸 문자열 배열 maps가 매개변수로 주어질 때, 미로를 탈출하는데 필요한 최소 시간을 return 하는 solution 함수를 완성해주세요. 만약, 탈출할 수 없다면 -1을 return 해주세요."
   ]
  },
  {
   "attachments": {},
   "cell_type": "markdown",
   "metadata": {},
   "source": [
    "## 제한 사항"
   ]
  },
  {
   "attachments": {},
   "cell_type": "markdown",
   "metadata": {},
   "source": [
    "* 5 ≤ maps의 길이 ≤ 100\n",
    "    * 5 ≤ maps[i]의 길이 ≤ 100\n",
    "    * maps[i]는 다음 5개의 문자들로만 이루어져 있습니다.\n",
    "        * S : 시작 지점\n",
    "        * E : 출구\n",
    "        * L : 레버\n",
    "        * O : 통로\n",
    "        * X : 벽\n",
    "    * 시작 지점과 출구, 레버는 항상 다른 곳에 존재하며 한 개씩만 존재합니다.\n",
    "    * 출구는 레버가 당겨지지 않아도 지나갈 수 있으며, 모든 통로, 출구, 레버, 시작점은 여러 번 지나갈 수 있습니다."
   ]
  },
  {
   "attachments": {},
   "cell_type": "markdown",
   "metadata": {},
   "source": [
    "## 입출력 예"
   ]
  },
  {
   "attachments": {},
   "cell_type": "markdown",
   "metadata": {},
   "source": [
    "|maps|result|\n",
    "|---|---|\n",
    "|[\"SOOOL\",\"XXXXO\",\"OOOOO\",\"OXXXX\",\"OOOOE\"]|16|\n",
    "|[\"LOOXS\",\"OOOOX\",\"OOOOO\",\"OOOOO\",\"EOOOO\"]|-1|"
   ]
  },
  {
   "attachments": {},
   "cell_type": "markdown",
   "metadata": {},
   "source": [
    "## Code"
   ]
  },
  {
   "cell_type": "code",
   "execution_count": 1,
   "metadata": {},
   "outputs": [],
   "source": [
    "# 프로그래머스 미로탈출(bfs)\n",
    "from collections import deque\n",
    "\n",
    "def bfs(st_p, end_p, graph):\n",
    "    X = len(graph[0])\n",
    "    Y = len(graph)\n",
    "    visited = [[False]*X for _ in range(Y)]\n",
    "    queue = deque()\n",
    "    \n",
    "    flag = False\n",
    "    for y in range(Y):\n",
    "        for x in range(X):\n",
    "            if graph[y][x] == st_p:\n",
    "                queue.append((y, x, 0))\n",
    "                visited[y][x] = True\n",
    "                flag = True\n",
    "                break\n",
    "        if flag:\n",
    "            break\n",
    "\n",
    "    dy = [1, -1, 0, 0]\n",
    "    dx = [0, 0, -1, 1]\n",
    "    while queue:\n",
    "        y, x, time = queue.popleft()\n",
    "        \n",
    "        if graph[y][x] == end_p:\n",
    "            return time\n",
    "        \n",
    "        for i in range(4):\n",
    "            ny = y + dy[i]\n",
    "            nx = x + dx[i]\n",
    "            # print(y, x, ny, nx)\n",
    "            if (0 <= ny < Y) and (0<= nx < X) and (graph[ny][nx] != 'X'):\n",
    "                if not visited[ny][nx]:\n",
    "                    visited[ny][nx] = True\n",
    "                    queue.append((ny, nx, time+1))\n",
    "    return -1\n",
    "\n",
    "def solution(maps):\n",
    "    start_to_lever, lever_to_exit = bfs('S','L', maps), bfs('L','E', maps)\n",
    "\n",
    "    if (start_to_lever != -1) and (lever_to_exit != -1):\n",
    "        return start_to_lever + lever_to_exit\n",
    "    else:\n",
    "        return -1"
   ]
  },
  {
   "attachments": {},
   "cell_type": "markdown",
   "metadata": {},
   "source": [
    "## 예제입력"
   ]
  },
  {
   "cell_type": "code",
   "execution_count": 2,
   "metadata": {},
   "outputs": [
    {
     "data": {
      "text/plain": [
       "16"
      ]
     },
     "execution_count": 2,
     "metadata": {},
     "output_type": "execute_result"
    }
   ],
   "source": [
    "solution([\"SOOOL\",\"XXXXO\",\"OOOOO\",\"OXXXX\",\"OOOOE\"])"
   ]
  },
  {
   "cell_type": "code",
   "execution_count": 3,
   "metadata": {},
   "outputs": [
    {
     "data": {
      "text/plain": [
       "-1"
      ]
     },
     "execution_count": 3,
     "metadata": {},
     "output_type": "execute_result"
    }
   ],
   "source": [
    "solution([\"LOOXS\",\"OOOOX\",\"OOOOO\",\"OOOOO\",\"EOOOO\"])"
   ]
  },
  {
   "attachments": {},
   "cell_type": "markdown",
   "metadata": {},
   "source": [
    "## Note"
   ]
  },
  {
   "cell_type": "markdown",
   "metadata": {},
   "source": [
    "* 1. 경로를 찾는 dfs를 시작 지점에서 레버까지, 레버에서 탈출 지점까지의 최단거리를 구한 후 더한다\n",
    "* 2. maps을 2차원 List로 만든 graph에 직접 방문 여부를 표시하지 않으므로 visited라는 방문 여부를 체크하는 2차원 List를 만든다\n",
    "    * 1\\) 다른 문제 같은 경우 체크해야 할 곳을 0, 체크해야 하지 않을 곳이 1로 표기 되어있었지만 여기서는 0, 1로 표시되어 있지 않다.\n",
    "    * 2\\) bfs 함수를 2번 실행해야 하므로 graph에 직접 표기하기 보다는 visited를 매번 만드는 것이 효율적\n",
    "* 3. visited에 시작 위치를 방문을 표시하고 시작 위치를 queue에 넣어주어 해당 위치 부터 bfs를 시작하도록 한다.\n",
    "    * 1\\) 이 때, flag를 사용하여 시작 위치가 표시가 되었는지 아닌지를 구분한다. flag가 없으면 시작 위치 정보를 얻기 전에 for문이 break에 의해 멈춘다\n",
    "*  4. queue에 시작 위치 이동 가능한 위치들을 찾아 time에 1씩 더해서 queue에 넣어주는 bfs를 실행하여 시작 위치부터 레버의 위치까지 최단 거리와 레버의 위치부처 출구까지 최단 거리를 구한다\n",
    "* 5. 이동 할 수 없는 경우(-1)가 없으면 최단거리의 합을 반환하고, 있으면 이동 불가(-1)을 반환한다."
   ]
  },
  {
   "attachments": {},
   "cell_type": "markdown",
   "metadata": {},
   "source": [
    "https://school.programmers.co.kr/learn/courses/30/lessons/159993"
   ]
  }
 ],
 "metadata": {
  "kernelspec": {
   "display_name": "ws1",
   "language": "python",
   "name": "python3"
  },
  "language_info": {
   "codemirror_mode": {
    "name": "ipython",
    "version": 3
   },
   "file_extension": ".py",
   "mimetype": "text/x-python",
   "name": "python",
   "nbconvert_exporter": "python",
   "pygments_lexer": "ipython3",
   "version": "3.11.3"
  },
  "orig_nbformat": 4,
  "vscode": {
   "interpreter": {
    "hash": "2856db72fb1e77597a3b14e9c1bb4d2315d342edc16fc9e25c6c6e499688b933"
   }
  }
 },
 "nbformat": 4,
 "nbformat_minor": 2
}
