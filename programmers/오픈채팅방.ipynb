{
 "cells": [
  {
   "cell_type": "markdown",
   "id": "fbd6d190",
   "metadata": {},
   "source": [
    "# 문제"
   ]
  },
  {
   "cell_type": "markdown",
   "id": "aa665cb9",
   "metadata": {},
   "source": [
    "* 카카오톡 오픈채팅방에서는 친구가 아닌 사람들과 대화를 할 수 있는데, 본래 닉네임이 아닌 가상의 닉네임을 사용하여 채팅방에 들어갈 수 있다.\n",
    "* 신입사원인 김크루는 카카오톡 오픈 채팅방을 개설한 사람을 위해, 다양한 사람들이 들어오고, 나가는 것을 지켜볼 수 있는 관리자창을 만들기로 했다."
   ]
  },
  {
   "cell_type": "markdown",
   "id": "c21b2be6",
   "metadata": {},
   "source": [
    "* 채팅방에 누군가 들어오면 다음 메시지가 출력된다.\n",
    "    * \"[닉네임]님이 들어왔습니다.\"\n",
    "<br/><br/>\n",
    "* 채팅방에서 누군가 나가면 다음 메시지가 출력된다.\n",
    "    * \"[닉네임]님이 나갔습니다.\""
   ]
  },
  {
   "cell_type": "markdown",
   "id": "503332bf",
   "metadata": {},
   "source": [
    "* 채팅방에서 닉네임을 변경하는 방법은 다음과 같이 두 가지이다.\n",
    "<br/><br/>\n",
    "    * 채팅방을 나간 후, 새로운 닉네임으로 다시 들어간다.\n",
    "    * 채팅방에서 닉네임을 변경한다."
   ]
  },
  {
   "cell_type": "markdown",
   "id": "cc6aa923",
   "metadata": {},
   "source": [
    "* 닉네임을 변경할 때는 기존에 채팅방에 출력되어 있던 메시지의 닉네임도 전부 변경된다."
   ]
  },
  {
   "cell_type": "markdown",
   "id": "55416007",
   "metadata": {},
   "source": [
    "* 예를 들어, 채팅방에 \"Muzi\"와 \"Prodo\"라는 닉네임을 사용하는 사람이 순서대로 들어오면 채팅방에는 다음과 같이 메시지가 출력된다.\n",
    "</br></br>\n",
    "    * \"Muzi님이 들어왔습니다.\"\n",
    "    * \"Prodo님이 들어왔습니다.\""
   ]
  },
  {
   "cell_type": "markdown",
   "id": "f5446191",
   "metadata": {},
   "source": [
    "* 채팅방에 있던 사람이 나가면 채팅방에는 다음과 같이 메시지가 남는다.\n",
    "</br></br>\n",
    "    * \"Muzi님이 들어왔습니다.\"\n",
    "    * \"Prodo님이 들어왔습니다.\"\n",
    "    * \"Muzi님이 나갔습니다.\""
   ]
  },
  {
   "cell_type": "markdown",
   "id": "2b4dddd8",
   "metadata": {},
   "source": [
    "* Muzi가 나간후 다시 들어올 때, Prodo 라는 닉네임으로 들어올 경우 기존에 채팅방에 남아있던 Muzi도 Prodo로 다음과 같이 변경된다.\n",
    "</br></br>\n",
    "    * \"Prodo님이 들어왔습니다.\"\n",
    "    * \"Prodo님이 들어왔습니다.\"\n",
    "    * \"Prodo님이 나갔습니다.\"\n",
    "    * \"Prodo님이 들어왔습니다.\""
   ]
  },
  {
   "cell_type": "markdown",
   "id": "e77ed9c4",
   "metadata": {},
   "source": [
    "* 채팅방은 중복 닉네임을 허용하기 때문에, 현재 채팅방에는 Prodo라는 닉네임을 사용하는 사람이 두 명이 있다. 이제, 채팅방에 두 번째로 들어왔던 Prodo가 Ryan으로 닉네임을 변경하면 채팅방 메시지는 다음과 같이 변경된다.\n",
    "</br></br>\n",
    "    * \"Prodo님이 들어왔습니다.\"\n",
    "    * \"Ryan님이 들어왔습니다.\"\n",
    "    * \"Prodo님이 나갔습니다.\"\n",
    "    * \"Prodo님이 들어왔습니다.\""
   ]
  },
  {
   "cell_type": "markdown",
   "id": "0144c531",
   "metadata": {},
   "source": [
    "* 채팅방에 들어오고 나가거나, 닉네임을 변경한 기록이 담긴 문자열 배열 record가 매개변수로 주어질 때, 모든 기록이 처리된 후, 최종적으로 방을 개설한 사람이 보게 되는 메시지를 문자열 배열 형태로 return 하도록 solution 함수를 완성하라."
   ]
  },
  {
   "cell_type": "markdown",
   "id": "be064c2f",
   "metadata": {},
   "source": [
    "# 제한사항"
   ]
  },
  {
   "cell_type": "markdown",
   "id": "c4d677a4",
   "metadata": {},
   "source": [
    "* record는 다음과 같은 문자열이 담긴 배열이며, 길이는 1 이상 100,000 이하이다.\n",
    "* 다음은 record에 담긴 문자열에 대한 설명이다.\n",
    "    * 모든 유저는 [유저 아이디]로 구분한다.\n",
    "    * [유저 아이디] 사용자가 [닉네임]으로 채팅방에 입장 - \"Enter [유저 아이디] [닉네임]\" (ex. \"Enter uid1234 Muzi\")\n",
    "    * [유저 아이디] 사용자가 채팅방에서 퇴장 - \"Leave [유저 아이디]\" (ex. \"Leave uid1234\")\n",
    "    * [유저 아이디] 사용자가 닉네임을 [닉네임]으로 변경 - \"Change [유저 아이디] [닉네임]\" (ex. \"Change uid1234 Muzi\")\n",
    "    * 첫 단어는 Enter, Leave, Change 중 하나이다.\n",
    "    * 각 단어는 공백으로 구분되어 있으며, 알파벳 대문자, 소문자, 숫자로만 이루어져있다.\n",
    "    * 유저 아이디와 닉네임은 알파벳 대문자, 소문자를 구별한다.\n",
    "    * 유저 아이디와 닉네임의 길이는 1 이상 10 이하이다.\n",
    "    * 채팅방에서 나간 유저가 닉네임을 변경하는 등 잘못 된 입력은 주어지지 않는다."
   ]
  },
  {
   "cell_type": "markdown",
   "id": "16452081",
   "metadata": {},
   "source": [
    "# 입출력 예시"
   ]
  },
  {
   "cell_type": "markdown",
   "id": "9b026c31",
   "metadata": {},
   "source": [
    "|clothes|result|\n",
    "|---|---|\n",
    "|[\"Enter uid1234 Muzi\", \"Enter uid4567 Prodo\",\"Leave uid1234\",\"Enter uid1234 Prodo\",\"Change uid4567 Ryan\"]|[\"Prodo님이 들어왔습니다.\", \"Ryan님이 들어왔습니다.\", \"Prodo님이 나갔습니다.\", \"Prodo님이 들어왔습니다.\"]|\n"
   ]
  },
  {
   "cell_type": "code",
   "execution_count": 1,
   "id": "d3f7e869",
   "metadata": {},
   "outputs": [],
   "source": [
    "def solution(record):\n",
    "    answer = []\n",
    "    logs = {}\n",
    "    for r_logs in record:\n",
    "        log_list = r_logs.split(\" \")\n",
    "        if log_list[0] != 'Leave':\n",
    "            _, usr_id, nickname = log_list[0], log_list[1], log_list[2]\n",
    "            if usr_id in logs:\n",
    "                logs[usr_id].append(nickname)\n",
    "            else:\n",
    "                logs[usr_id] = [nickname]\n",
    "\n",
    "    for r_logs in record:\n",
    "        log_list = r_logs.split(\" \")\n",
    "        if log_list[0] != 'Change':\n",
    "            if log_list[0] == 'Enter':\n",
    "                result = logs[log_list[1]][-1] + \"님이 들어왔습니다.\"\n",
    "                answer.append(result)\n",
    "            elif log_list[0] == 'Leave':\n",
    "                result = logs[log_list[1]][-1] + \"님이 나갔습니다.\"\n",
    "                answer.append(result)\n",
    "    return answer"
   ]
  },
  {
   "cell_type": "code",
   "execution_count": 2,
   "id": "ab9e927b",
   "metadata": {},
   "outputs": [
    {
     "name": "stdout",
     "output_type": "stream",
     "text": [
      "['Prodo님이 들어왔습니다.', 'Ryan님이 들어왔습니다.', 'Prodo님이 나갔습니다.', 'Prodo님이 들어왔습니다.']\n"
     ]
    }
   ],
   "source": [
    "for record in [[\"Enter uid1234 Muzi\", \"Enter uid4567 Prodo\",\"Leave uid1234\",\"Enter uid1234 Prodo\",\"Change uid4567 Ryan\"]]:\n",
    "    print(solution(record))"
   ]
  },
  {
   "cell_type": "markdown",
   "id": "55f1bb43",
   "metadata": {},
   "source": [
    "\n",
    "# 풀이 과정 및 주의사항"
   ]
  },
  {
   "cell_type": "markdown",
   "id": "d8d686a4",
   "metadata": {},
   "source": [
    "* for 문으로 record를 두번 조회한 뒤 한번은 유저아이디를 기준으로 닉네임을 저장하고, 또 한번은 출력할 메세지를 만든다.\n",
    "* Dictionary 자료형을 통해 유저 아이디를 key 값으로 하고 사용한 닉네임들을 순차대로 List 자료형안에 넣은 값을 value 값으로 하는 logs를 만든다. \n",
    "* for 문을 사용해서\n",
    "    * 'Enter'로 시작하는 경우에는 유저 아이디를 기준으로 가장 마지막에 사용한 닉네임을 찾아 \"님이 들어왔습니다.\"를 붙여준다.\n",
    "    * 'Leave'로 시작하는 경우에도 유저 아이디를 기준으로 가장 마지막에 사용한 닉네임을 찾아 \"님이 나갔습니다.\"를 붙여준다."
   ]
  },
  {
   "cell_type": "markdown",
   "id": "a93a96e8",
   "metadata": {},
   "source": [
    "https://school.programmers.co.kr/learn/courses/30/lessons/42888"
   ]
  }
 ],
 "metadata": {
  "celltoolbar": "Raw Cell Format",
  "kernelspec": {
   "display_name": "Python 3 (ipykernel)",
   "language": "python",
   "name": "python3"
  },
  "language_info": {
   "codemirror_mode": {
    "name": "ipython",
    "version": 3
   },
   "file_extension": ".py",
   "mimetype": "text/x-python",
   "name": "python",
   "nbconvert_exporter": "python",
   "pygments_lexer": "ipython3",
   "version": "3.9.7"
  }
 },
 "nbformat": 4,
 "nbformat_minor": 5
}
