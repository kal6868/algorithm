{
 "cells": [
  {
   "cell_type": "markdown",
   "id": "fbd6d190",
   "metadata": {},
   "source": [
    "# 문제 설명"
   ]
  },
  {
   "cell_type": "markdown",
   "id": "aa665cb9",
   "metadata": {},
   "source": [
    "* 숫자로 이루어진 문자열 t와 p가 주어질 때, t에서 p와 길이가 같은 부분문자열 중에서, 이 부분문자열이 나타내는 수가 p가 나타내는 수보다 작거나 같은 것이 나오는 횟수를 return하는 함수 solution을 완성하세요."
   ]
  },
  {
   "cell_type": "markdown",
   "id": "9b026c31",
   "metadata": {},
   "source": [
    "* 예를 들어, t=\"3141592\"이고 p=\"271\" 인 경우, t의 길이가 3인 부분 문자열은 314, 141, 415, 159, 592입니다. 이 문자열이 나타내는 수 중 271보다 작거나 같은 수는 141, 159 2개 입니다."
   ]
  },
  {
   "cell_type": "markdown",
   "id": "93c69f28",
   "metadata": {},
   "source": [
    "# 제한사항"
   ]
  },
  {
   "cell_type": "markdown",
   "id": "ebf4c872",
   "metadata": {},
   "source": [
    "* 1 ≤ p의 길이 ≤ 18\n",
    "* p의 길이 ≤ t의 길이 ≤ 10,000\n",
    "* t와 p는 숫자로만 이루어진 문자열이며, 0으로 시작하지 않습니다."
   ]
  },
  {
   "cell_type": "markdown",
   "id": "726ddf75",
   "metadata": {},
   "source": [
    "# 입출력 예"
   ]
  },
  {
   "cell_type": "markdown",
   "id": "0165883e",
   "metadata": {},
   "source": [
    "|t|p|result|\n",
    "|---|---|---|\n",
    "|\"3141592\"|\"271\"|2|\n",
    "|\"500220839878\"|\"7\"|8|\n",
    "|\"10203\"|\"15\"|3|"
   ]
  },
  {
   "cell_type": "code",
   "execution_count": 1,
   "id": "b2918811",
   "metadata": {},
   "outputs": [],
   "source": [
    "def solution(t, p):\n",
    "    answer = 0\n",
    "    num_length = len(p)\n",
    "    int_list = [int(t[i:i+num_length]) for i in range(0,len(t)-num_length+1)]\n",
    "\n",
    "    for num in int_list:\n",
    "        if num <= int(p):\n",
    "            answer += 1\n",
    "    return answer"
   ]
  },
  {
   "cell_type": "code",
   "execution_count": 2,
   "id": "9b07c977",
   "metadata": {},
   "outputs": [
    {
     "name": "stdout",
     "output_type": "stream",
     "text": [
      "2\n",
      "8\n",
      "3\n"
     ]
    }
   ],
   "source": [
    "for t, p in [[\"3141592\", \"271\"], [\"500220839878\", \"7\"], [\"10203\", \"15\"]]:\n",
    "    print(solution(t, p))"
   ]
  },
  {
   "cell_type": "markdown",
   "id": "55f1bb43",
   "metadata": {},
   "source": [
    "# 풀이 과정 및 주의사항"
   ]
  },
  {
   "cell_type": "markdown",
   "id": "6efca741",
   "metadata": {},
   "source": [
    "* t를 맨 앞 숫자부터 시작해서 p의 길이만큼 자른다음, 숫자형 자료로 바꿔 List 자료형에 추가한다. 그 후 for문을 이용해 하나씩 p와 비교하면서 작거나 같을 때, answer에 1만큼 더해주는 과정을 거치면 된다."
   ]
  },
  {
   "cell_type": "markdown",
   "id": "a93a96e8",
   "metadata": {},
   "source": [
    "https://school.programmers.co.kr/learn/courses/30/lessons/147355"
   ]
  }
 ],
 "metadata": {
  "kernelspec": {
   "display_name": "Python 3 (ipykernel)",
   "language": "python",
   "name": "python3"
  },
  "language_info": {
   "codemirror_mode": {
    "name": "ipython",
    "version": 3
   },
   "file_extension": ".py",
   "mimetype": "text/x-python",
   "name": "python",
   "nbconvert_exporter": "python",
   "pygments_lexer": "ipython3",
   "version": "3.9.7"
  }
 },
 "nbformat": 4,
 "nbformat_minor": 5
}
