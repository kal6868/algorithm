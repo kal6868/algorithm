{
 "cells": [
  {
   "attachments": {},
   "cell_type": "markdown",
   "metadata": {},
   "source": [
    "\n",
    "# 문제 설명"
   ]
  },
  {
   "attachments": {},
   "cell_type": "markdown",
   "metadata": {},
   "source": [
    "* 고객의 약관 동의를 얻어서 수집된 1~n번으로 분류되는 개인정보 n개가 있습니다. 약관 종류는 여러 가지 있으며 각 약관마다 개인정보 보관 유효기간이 정해져 있습니다. 당신은 각 개인정보가 어떤 약관으로 수집됐는지 알고 있습니다. 수집된 개인정보는 유효기간 전까지만 보관 가능하며, 유효기간이 지났다면 반드시 파기해야 합니다.\n"
   ]
  },
  {
   "attachments": {},
   "cell_type": "markdown",
   "metadata": {},
   "source": [
    "* 예를 들어, A라는 약관의 유효기간이 12 달이고, 2021년 1월 5일에 수집된 개인정보가 A약관으로 수집되었다면 해당 개인정보는 2022년 1월 4일까지 보관 가능하며 2022년 1월 5일부터 파기해야 할 개인정보입니다.\n"
   ]
  },
  {
   "attachments": {},
   "cell_type": "markdown",
   "metadata": {},
   "source": [
    "* 당신은 오늘 날짜로 파기해야 할 개인정보 번호들을 구하려 합니다."
   ]
  },
  {
   "attachments": {},
   "cell_type": "markdown",
   "metadata": {},
   "source": [
    "* 모든 달은 28일까지 있다고 가정합니다."
   ]
  },
  {
   "attachments": {},
   "cell_type": "markdown",
   "metadata": {},
   "source": [
    "* 다음은 오늘 날짜가 2022.05.19일 때의 예시입니다.\n",
    "\n",
    "|약관 종류|유효기간|\n",
    "|---|---|\n",
    "|A|6 달|\n",
    "|B|12 달|\n",
    "|C|3 달|\n",
    "\n",
    "\n",
    "|번호|개인정보 수집 일자|약관 종류|\n",
    "|---|---|---|\n",
    "|1|2021.05.02|A|\n",
    "|2|2021.07.01|B|\n",
    "|3|2022.02.19|C|\n",
    "|4|2022.02.20|C|"
   ]
  },
  {
   "attachments": {},
   "cell_type": "markdown",
   "metadata": {},
   "source": [
    "* 첫 번째 개인정보는 A약관에 의해 2021년 11월 1일까지 보관 가능하며, 유효기간이 지났으므로 파기해야 할 개인정보입니다."
   ]
  },
  {
   "cell_type": "markdown",
   "metadata": {},
   "source": [
    "* 두 번째 개인정보는 B약관에 의해 2022년 6월 28일까지 보관 가능하며, 유효기간이 지나지 않았으므로 아직 보관 가능합니다."
   ]
  },
  {
   "cell_type": "markdown",
   "metadata": {},
   "source": [
    "* 세 번째 개인정보는 C약관에 의해 2022년 5월 18일까지 보관 가능하며, 유효기간이 지났으므로 파기해야 할 개인정보입니다."
   ]
  },
  {
   "attachments": {},
   "cell_type": "markdown",
   "metadata": {},
   "source": [
    "* 네 번째 개인정보는 C약관에 의해 2022년 5월 19일까지 보관 가능하며, 유효기간이 지나지 않았으므로 아직 보관 가능합니다."
   ]
  },
  {
   "attachments": {},
   "cell_type": "markdown",
   "metadata": {},
   "source": [
    "* 따라서 파기해야 할 개인정보 번호는 [1, 3]입니다."
   ]
  },
  {
   "attachments": {},
   "cell_type": "markdown",
   "metadata": {},
   "source": [
    "* 오늘 날짜를 의미하는 문자열 today, 약관의 유효기간을 담은 1차원 문자열 배열 terms와 수집된 개인정보의 정보를 담은 1차원 문자열 배열 privacies가 매개변수로 주어집니다. 이때 파기해야 할 개인정보의 번호를 오름차순으로 1차원 정수 배열에 담아 return 하도록 solution 함수를 완성해 주세요."
   ]
  },
  {
   "attachments": {},
   "cell_type": "markdown",
   "metadata": {},
   "source": [
    "# 제한사항"
   ]
  },
  {
   "attachments": {},
   "cell_type": "markdown",
   "metadata": {},
   "source": [
    "* today는 \"YYYY.MM.DD\" 형태로 오늘 날짜를 나타냅니다.\n",
    "* 1 ≤ terms의 길이 ≤ 20\n",
    "    * terms의 원소는 \"약관 종류 유효기간\" 형태의 약관 종류와 유효기간을 공백 하나로 구분한 문자열입니다.\n",
    "    * 약관 종류는 A~Z중 알파벳 대문자 하나이며, terms 배열에서 약관 종류는 중복되지 않습니다.\n",
    "    * 유효기간은 개인정보를 보관할 수 있는 달 수를 나타내는 정수이며, 1 이상 100 이하입니다.\n",
    "* 1 ≤ privacies의 길이 ≤ 100\n",
    "    * privacies[i]는 i+1번 개인정보의 수집 일자와 약관 종류를 나타냅니다.\n",
    "    * privacies의 원소는 \"날짜 약관 종류\" 형태의 날짜와 약관 종류를 공백 하나로 구분한 문자열입니다.\n",
    "    * 날짜는 \"YYYY.MM.DD\" 형태의 개인정보가 수집된 날짜를 나타내며, today 이전의 날짜만 주어집니다.\n",
    "* privacies의 약관 종류는 항상 terms에 나타난 약관 종류만 주어집니다.\n",
    "    * today와 privacies에 등장하는 날짜의 YYYY는 연도, MM은 월, DD는 일을 나타내며 점(.) 하나로 구분되어 있습니다.\n",
    "    * 2000 ≤ YYYY ≤ 2022\n",
    "    * 1 ≤ MM ≤ 12\n",
    "    * MM이 한 자릿수인 경우 앞에 0이 붙습니다.\n",
    "    * 1 ≤ DD ≤ 28\n",
    "    * DD가 한 자릿수인 경우 앞에 0이 붙습니다.\n",
    "* 파기해야 할 개인정보가 하나 이상 존재하는 입력만 주어집니다."
   ]
  },
  {
   "cell_type": "code",
   "execution_count": 2,
   "metadata": {},
   "outputs": [],
   "source": [
    "def to_days(time):\n",
    "    int_split = list(map(int, time.split('.')))\n",
    "    days = (int_split[0]*(12*28)) + (int_split[1]*28) + (int_split[2])\n",
    "    return days\n",
    "\n",
    "def solution(today, terms, privacies):\n",
    "    answer = []\n",
    "    s_privacies = [s.split(' ') for s in privacies]\n",
    "\n",
    "    dict_terms = {}\n",
    "    for term in terms:\n",
    "        cond, month = term.split(' ')\n",
    "        dict_terms[cond] = int(month)\n",
    "\n",
    "    for i, s in enumerate(s_privacies):\n",
    "        p_date, p_terms = s[0], s[1]\n",
    "        if to_days(today) - (to_days(p_date) + (dict_terms[p_terms] * 28)) >= 0:\n",
    "            answer.append(i+1)\n",
    "    return answer"
   ]
  },
  {
   "cell_type": "code",
   "execution_count": 3,
   "metadata": {},
   "outputs": [
    {
     "name": "stdout",
     "output_type": "stream",
     "text": [
      "[1, 3]\n",
      "[1, 4, 5]\n"
     ]
    }
   ],
   "source": [
    "for today, terms, privacies in [[\"2022.05.19\", [\"A 6\", \"B 12\", \"C 3\"], [\"2021.05.02 A\", \"2021.07.01 B\", \"2022.02.19 C\", \"2022.02.20 C\"]], [\"2020.01.01\", [\"Z 3\", \"D 5\"], [\"2019.01.01 D\", \"2019.11.15 Z\", \"2019.08.02 D\", \"2019.07.01 D\", \"2018.12.28 Z\"]]]:\n",
    "    print(solution(today, terms, privacies))"
   ]
  },
  {
   "attachments": {},
   "cell_type": "markdown",
   "metadata": {},
   "source": [
    "# Note"
   ]
  },
  {
   "attachments": {},
   "cell_type": "markdown",
   "metadata": {},
   "source": [
    "* \"YYYY.MM.DD\" 형식의 문자열을 입력하면 일로 변경해서 나올 수 있는 함수 to_days를 정의한다. 다만, 한달은 28일로 설정되있음에 유의한다.\n",
    "* Term에 따라 보관기간이 몇 개월인지를 반환하는 dict_terms dictation을 만들고 각 term에 따라 몇 개월씩 보관하는지 정보를 저장한다.\n",
    "* 오늘 날짜(today)를 일로 to_days를 사용하여 일로 변환하고, 계약일자 또한 일로 변환한 뒤, term에 따라 보관 기간에 28를(한달의 일 수) 곱한 값을 빼준다.\n",
    "* 해당 값이 0보다 같거나 크면 보관일자가 지났다는 뜻이므로 해댱 Index +1를 answer에 추가한다."
   ]
  }
 ],
 "metadata": {
  "kernelspec": {
   "display_name": "base",
   "language": "python",
   "name": "python3"
  },
  "language_info": {
   "codemirror_mode": {
    "name": "ipython",
    "version": 3
   },
   "file_extension": ".py",
   "mimetype": "text/x-python",
   "name": "python",
   "nbconvert_exporter": "python",
   "pygments_lexer": "ipython3",
   "version": "3.9.13"
  },
  "orig_nbformat": 4,
  "vscode": {
   "interpreter": {
    "hash": "ab6a50001256278c6b0a56b88ac15dfc85f5aded329eb5bb27936fb9ff6e3cf3"
   }
  }
 },
 "nbformat": 4,
 "nbformat_minor": 2
}
