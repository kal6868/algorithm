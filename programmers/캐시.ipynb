{
 "cells": [
  {
   "cell_type": "markdown",
   "id": "fbd6d190",
   "metadata": {},
   "source": [
    "# 문제"
   ]
  },
  {
   "cell_type": "markdown",
   "id": "aa665cb9",
   "metadata": {},
   "source": [
    "* 지도개발팀에서 근무하는 제이지는 지도에서 도시 이름을 검색하면 해당 도시와 관련된 맛집 게시물들을 데이터베이스에서 읽어 보여주는 서비스를 개발하고 있다. 이 프로그램의 테스팅 업무를 담당하고 있는 어피치는 서비스를 오픈하기 전 각 로직에 대한 성능 측정을 수행하였는데, 제이지가 작성한 부분 중 데이터베이스에서 게시물을 가져오는 부분의 실행시간이 너무 오래 걸린다는 것을 알게 되었다.\n",
    "* 어피치는 제이지에게 해당 로직을 개선하라고 닦달하기 시작하였고, 제이지는 DB 캐시를 적용하여 성능 개선을 시도하고 있지만 캐시 크기를 얼마로 해야 효율적인지 몰라 난감한 상황이다.\n",
    "* 어피치에게 시달리는 제이지를 도와, DB 캐시를 적용할 때 캐시 크기에 따른 실행시간 측정 프로그램을 작성하시오."
   ]
  },
  {
   "cell_type": "markdown",
   "id": "b56a4179",
   "metadata": {},
   "source": [
    "# 입력 형식"
   ]
  },
  {
   "cell_type": "markdown",
   "id": "229fc3aa",
   "metadata": {},
   "source": [
    "* 캐시 크기(cacheSize)와 도시이름 배열(cities)을 입력받는다.\n",
    "* cacheSize는 정수이며, 범위는 0 ≦ cacheSize ≦ 30 이다.\n",
    "* cities는 도시 이름으로 이뤄진 문자열 배열로, 최대 도시 수는 100,000개이다.\n",
    "* 각 도시 이름은 공백, 숫자, 특수문자 등이 없는 영문자로 구성되며, 대소문자 구분을 하지 않는다. 도시 이름은 최대 20자로 이루어져 있다."
   ]
  },
  {
   "cell_type": "markdown",
   "id": "337cb21e",
   "metadata": {},
   "source": [
    "# 출력 형식"
   ]
  },
  {
   "cell_type": "markdown",
   "id": "791b7e47",
   "metadata": {},
   "source": [
    "* 입력된 도시이름 배열을 순서대로 처리할 때, \"총 실행시간\"을 출력한다."
   ]
  },
  {
   "cell_type": "markdown",
   "id": "f9ef37cc",
   "metadata": {},
   "source": [
    "# 조건"
   ]
  },
  {
   "cell_type": "markdown",
   "id": "2da597a6",
   "metadata": {},
   "source": [
    "* 캐시 교체 알고리즘은 LRU(Least Recently Used)를 사용한다.\n",
    "* cache hit일 경우 실행시간은 1이다.\n",
    "* cache miss일 경우 실행시간은 5이다."
   ]
  },
  {
   "cell_type": "markdown",
   "id": "16452081",
   "metadata": {},
   "source": [
    "# 입출력 예시"
   ]
  },
  {
   "cell_type": "markdown",
   "id": "9b026c31",
   "metadata": {},
   "source": [
    "|캐시크기(cacheSize)|도시이름(cities)|실행시간|\n",
    "|---|---|---|\n",
    "|3|[\"Jeju\", \"Pangyo\", \"Seoul\", \"NewYork\", \"LA\", \"Jeju\", \"Pangyo\", \"Seoul\", \"NewYork\", \"LA\"]|50|\n",
    "|3|[\"Jeju\", \"Pangyo\", \"Seoul\", \"Jeju\", \"Pangyo\", \"Seoul\", \"Jeju\", \"Pangyo\", \"Seoul\"]|21|\n",
    "|2|[\"Jeju\", \"Pangyo\", \"Seoul\", \"NewYork\", \"LA\", \"SanFrancisco\", \"Seoul\", \"Rome\", \"Paris\", \"Jeju\", \"NewYork\", \"Rome\"]|60|\n",
    "|5|[\"Jeju\", \"Pangyo\", \"Seoul\", \"NewYork\", \"LA\", \"SanFrancisco\", \"Seoul\", \"Rome\", \"Paris\", \"Jeju\", \"NewYork\", \"Rome\"]|52|\n",
    "|2|[\"Jeju\", \"Pangyo\", \"NewYork\", \"newyork\"]|16|\n",
    "|0|[\"Jeju\", \"Pangyo\", \"Seoul\", \"NewYork\", \"LA\"]|25|"
   ]
  },
  {
   "cell_type": "code",
   "execution_count": 1,
   "id": "d3f7e869",
   "metadata": {},
   "outputs": [],
   "source": [
    "from collections import deque\n",
    "def solution(cacheSize, cities):\n",
    "    answer = 0\n",
    "    if not cacheSize:\n",
    "        answer = len(cities) * 5\n",
    "        return answer\n",
    "    cache = deque()\n",
    "    for city in cities:\n",
    "        l_city = city.lower()\n",
    "        if l_city in cache:\n",
    "                cache.remove(l_city)\n",
    "                answer += 1\n",
    "        else:\n",
    "            if len(cache) == cacheSize:\n",
    "                cache.popleft()\n",
    "                answer += 5\n",
    "            else:\n",
    "                answer += 5\n",
    "        cache.append(l_city)\n",
    "    return answer"
   ]
  },
  {
   "cell_type": "code",
   "execution_count": 2,
   "id": "ab9e927b",
   "metadata": {},
   "outputs": [
    {
     "name": "stdout",
     "output_type": "stream",
     "text": [
      "50 21 60 52 16 25 "
     ]
    }
   ],
   "source": [
    "for cacheSize, cities in [[3, [\"Jeju\", \"Pangyo\", \"Seoul\", \"NewYork\", \"LA\", \"Jeju\", \"Pangyo\", \"Seoul\", \"NewYork\", \"LA\"]],\n",
    "                         [3, [\"Jeju\", \"Pangyo\", \"Seoul\", \"Jeju\", \"Pangyo\", \"Seoul\", \"Jeju\", \"Pangyo\", \"Seoul\"]],\n",
    "                         [2, [\"Jeju\", \"Pangyo\", \"Seoul\", \"NewYork\", \"LA\", \"SanFrancisco\", \"Seoul\", \"Rome\", \"Paris\", \"Jeju\", \"NewYork\", \"Rome\"]],\n",
    "                         [5, [\"Jeju\", \"Pangyo\", \"Seoul\", \"NewYork\", \"LA\", \"SanFrancisco\", \"Seoul\", \"Rome\", \"Paris\", \"Jeju\", \"NewYork\", \"Rome\"]],\n",
    "                         [2, [\"Jeju\", \"Pangyo\", \"NewYork\", \"newyork\"]],\n",
    "                         [0,[\"Jeju\", \"Pangyo\", \"Seoul\", \"NewYork\", \"LA\"]]]:\n",
    "    print(solution(cacheSize, cities), end = ' ')"
   ]
  },
  {
   "cell_type": "markdown",
   "id": "f9f5c74b",
   "metadata": {},
   "source": [
    "# 풀이 과정 및 주의사항"
   ]
  },
  {
   "cell_type": "markdown",
   "id": "d8d686a4",
   "metadata": {},
   "source": [
    "* cache라는 deque를 만들어서 도시 이름이 cache 안에 있으면 cache hit로 실행시간인 1초를 더해주고, cache에 도시이름이 없는 경우에는 cache의 크기가 cacheSize 만큼이면 앞에서 도시이름을 하나 빼고 새로 도시이름을 넣으면 되고, cacheSize보다 작으면 그냥 도시이름을 넣으면 된다. 이 경우는 cache miss의 경우이므로 실행시간인 5초를 더해준다."
   ]
  },
  {
   "cell_type": "markdown",
   "id": "0d7970bb",
   "metadata": {},
   "source": [
    "https://school.programmers.co.kr/learn/courses/30/lessons/17680"
   ]
  }
 ],
 "metadata": {
  "celltoolbar": "Raw Cell Format",
  "kernelspec": {
   "display_name": "Python 3 (ipykernel)",
   "language": "python",
   "name": "python3"
  },
  "language_info": {
   "codemirror_mode": {
    "name": "ipython",
    "version": 3
   },
   "file_extension": ".py",
   "mimetype": "text/x-python",
   "name": "python",
   "nbconvert_exporter": "python",
   "pygments_lexer": "ipython3",
   "version": "3.9.7"
  }
 },
 "nbformat": 4,
 "nbformat_minor": 5
}
