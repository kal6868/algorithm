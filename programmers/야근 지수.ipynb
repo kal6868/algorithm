{
 "cells": [
  {
   "cell_type": "markdown",
   "id": "fbd6d190",
   "metadata": {},
   "source": [
    "# 문제 설명"
   ]
  },
  {
   "cell_type": "markdown",
   "id": "aa665cb9",
   "metadata": {},
   "source": [
    "* 회사원 Demi는 가끔은 야근을 하는데요, 야근을 하면 야근 피로도가 쌓입니다. 야근 피로도는 야근을 시작한 시점에서 남은 일의 작업량을 제곱하여 더한 값입니다. Demi는 N시간 동안 야근 피로도를 최소화하도록 일할 겁니다.Demi가 1시간 동안 작업량 1만큼을 처리할 수 있다고 할 때, 퇴근까지 남은 N 시간과 각 일에 대한 작업량 works에 대해 야근 피로도를 최소화한 값을 리턴하는 함수 solution을 완성해주세요."
   ]
  },
  {
   "cell_type": "markdown",
   "id": "b56a4179",
   "metadata": {},
   "source": [
    "# 제한사항"
   ]
  },
  {
   "cell_type": "markdown",
   "id": "229fc3aa",
   "metadata": {},
   "source": [
    "* gworks는 길이 1 이상, 20,000 이하인 배열입니다.\n",
    "* works의 원소는 50000 이하인 자연수입니다.\n",
    "* n은 1,000,000 이하인 자연수입니다."
   ]
  },
  {
   "cell_type": "markdown",
   "id": "16452081",
   "metadata": {},
   "source": [
    "# 입출력 예시"
   ]
  },
  {
   "cell_type": "markdown",
   "id": "9b026c31",
   "metadata": {},
   "source": [
    "|works|n|result|\n",
    "|---|---|---|\n",
    "|[4, 3, 3]|4|12|\n",
    "|[2, 1, 2]|1|6|\n",
    "|[1,1]|3|0|"
   ]
  },
  {
   "cell_type": "code",
   "execution_count": 1,
   "id": "d3f7e869",
   "metadata": {},
   "outputs": [],
   "source": [
    "import heapq\n",
    "def solution(n, works):\n",
    "    if sum(works) < n:\n",
    "        return 0\n",
    "    n_works = [-work for work in works]\n",
    "    heapq.heapify(n_works)\n",
    "\n",
    "    for _ in range(n):\n",
    "        i = heapq.heappop(n_works)\n",
    "        i += 1\n",
    "        heapq.heappush(n_works, i)\n",
    "    \n",
    "    answer = 0\n",
    "    for work in n_works:\n",
    "        answer += work**2\n",
    "        \n",
    "    return answer"
   ]
  },
  {
   "cell_type": "code",
   "execution_count": 2,
   "id": "ab9e927b",
   "metadata": {
    "scrolled": true
   },
   "outputs": [
    {
     "name": "stdout",
     "output_type": "stream",
     "text": [
      "12 6 0 "
     ]
    }
   ],
   "source": [
    "for n, works in [[4, [4,3,3]], [1, [2,1,2]], [3, [1, 1]]]:\n",
    "    print(solution(n, works), end = ' ')"
   ]
  },
  {
   "cell_type": "markdown",
   "id": "f9f5c74b",
   "metadata": {},
   "source": [
    "# 풀이 과정 및 주의사항"
   ]
  },
  {
   "cell_type": "markdown",
   "id": "d8d686a4",
   "metadata": {},
   "source": [
    "* 가장 높은 숫자를 줄여나가면 제곱합의 크기가 가장 작으므로 힙큐를 사용하여 계속해서 가장 큰 값을 정렬한다. 다만 heappop, heappush는 맨 앞의 요소만 빼고 넣을 수 있으므로 works 안의 요소를 음수화를 한 뒤 1을 더해주는 방식을 사용한다."
   ]
  },
  {
   "cell_type": "markdown",
   "id": "0d7970bb",
   "metadata": {},
   "source": [
    "https://school.programmers.co.kr/learn/courses/30/lessons/12927"
   ]
  }
 ],
 "metadata": {
  "celltoolbar": "Raw Cell Format",
  "kernelspec": {
   "display_name": "Python 3 (ipykernel)",
   "language": "python",
   "name": "python3"
  },
  "language_info": {
   "codemirror_mode": {
    "name": "ipython",
    "version": 3
   },
   "file_extension": ".py",
   "mimetype": "text/x-python",
   "name": "python",
   "nbconvert_exporter": "python",
   "pygments_lexer": "ipython3",
   "version": "3.9.7"
  }
 },
 "nbformat": 4,
 "nbformat_minor": 5
}
