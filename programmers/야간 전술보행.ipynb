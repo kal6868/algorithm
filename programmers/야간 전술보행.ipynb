{
 "cells": [
  {
   "cell_type": "markdown",
   "id": "fbd6d190",
   "metadata": {},
   "source": [
    "# 문제 설명"
   ]
  },
  {
   "cell_type": "markdown",
   "id": "295ec3a5",
   "metadata": {},
   "source": [
    "* 전쟁에 참여한 화랑이는 적군의 기지에 침투하여 정보를 훔쳐오는 임무를 받았습니다. 화랑이는 야간 전술 보행을 이용하여 직진하며, 야간 전술 보행은 1m/s의 일정한 속도로 나아갈 수 있습니다. 화랑이의 침입 경로에는 경비병들이 각자 일부 구간들을 감시하고 있습니다. 각각의 경비병들이 감시하는 구간은 서로 겹치지 않으며, 일정 시간 동안 근무 후 일정 시간 동안 휴식을 취하는 과정을 반복합니다. 화랑이가 지나가고 있는 위치를 감시하는 경비병이 근무 중이라면 화랑이는 경비병에게 발각되어 즉시 붙잡히게 됩니다. 하지만 해당 위치를 감시하는 경비병이 휴식을 취하고 있으면 화랑이는 무사히 해당 위치를 지나갈 수 있습니다. 경비병의 근무 정보를 모르는 화랑이는 쉬지 않고 전진을 하며, 화랑이가 출발할 때 모든 경비병들이 동시에 근무를 시작합니다."
   ]
  },
  {
   "cell_type": "markdown",
   "id": "41d65362",
   "metadata": {},
   "source": [
    "* 예를 들어, 적군 기지까지의 거리가 10m이고 2명의 경비병들이 근무를 시작한다고 가정합시다. 첫 번째 경비병의 감시 구간은 화랑이의 출발 위치로부터 3m부터 4m까지이고, 두 번째 경비병의 감시 구간은 화랑이의 출발 위치로부터 5m부터 8m까지입니다. 첫 번째 경비병의 근무 및 휴식 시간은 각각 2초, 5초를 반복하며, 두 번째 경비병의 근무 및 휴식 시간은 각각 4초, 3초를 반복합니다. 이 경우 출발지로부터 화랑이의 위치에 따른 두 경비병의 상태는 아래 표와 같습니다. 첫 번째 경비병이 감시하는 3m ~ 4m 구간을 화랑이는 3초일 때 진입하지만, 첫 번째 경비병은 2초간의 근무를 마치고, 휴식을 시작했으므로, 화랑이는 붙잡히지 않습니다. 하지만 두 번째 경비병이 감시하는 5m ~ 8m 구간에서 화랑이가 8m 지점에 진입했을 때, 두 번째 경비병이 3초간의 휴식을 마치고 근무를 시작하므로 화랑이는 붙잡히게 됩니다."
   ]
  },
  {
   "cell_type": "markdown",
   "id": "c60232ba",
   "metadata": {},
   "source": [
    "||||||||||||\n",
    "|---|---|---|---|---|---|---|---|---|---|---|\n",
    "|첫 번째 경비병의 상태|근무|근무|휴식|휴식|휴식|휴식|휴식|근무|근무|휴식|\n",
    "|두 번째 경비병의 상태|근무|근무|근무|근무|휴식|휴식|휴식|근무|근무|근무|\n",
    "|화랑이의 위치|1|2|3|4|5|6|7|8|9|10|"
   ]
  },
  {
   "cell_type": "markdown",
   "id": "8528f009",
   "metadata": {},
   "source": [
    " * 화랑이의 현재 위치와 적군 기지 사이의 거리를 나타내는 정수 distance, 각 경비병의 감시 구간을 담은 2차원 정수 배열 scope, 같은 순서로 각 경비병의 근무 시간과 휴식 시간을 담은 2차원 정수 배열 times가 주어질 때, 화랑이가 경비를 피해 최대로 이동할 수 있는 거리를 return 하는 solution 함수를 완성하세요"
   ]
  },
  {
   "cell_type": "markdown",
   "id": "ff6efbd2",
   "metadata": {},
   "source": [
    " # 제한 사항"
   ]
  },
  {
   "cell_type": "markdown",
   "id": "160863cb",
   "metadata": {},
   "source": [
    "* 10 ≤ distance ≤ 10,000,000\n",
    "* 1 ≤ scope의 길이, times의 길이 ≤ 1,000\n",
    "    * scope[i]는 i+1번째 경비병이 감시하는 구간입니다.\n",
    "        * scope[i]를 [a, b]라고 했을 때, (a ≠ b)입니다.\n",
    "        * scope[i]는 정렬되어 있지 않을 수 있습니다(예시 2번 참조).\n",
    "* 경비병의 감시구간은 서로 겹치지 않습니다.\n",
    "* 1 ≤ scope의 원소 ≤ distance\n",
    "* 1 ≤ times의 원소 ≤ 10\n",
    "* times[i]는 i+1번째 경비병의 [근무 시간, 휴식 시간]입니다."
   ]
  },
  {
   "cell_type": "markdown",
   "id": "16452081",
   "metadata": {},
   "source": [
    "# 입출력 예"
   ]
  },
  {
   "cell_type": "markdown",
   "id": "9b026c31",
   "metadata": {},
   "source": [
    "|distance|scope|times|result|\n",
    "|---|---|---|---|\n",
    "|10|[[3, 4], [5, 8]]|[[2, 5], [4, 3]]|8|\n",
    "|12|[[7, 8], [4, 6], [11, 10]]|[[2, 2], [2, 4], [3, 3]]|12|\t"
   ]
  },
  {
   "cell_type": "code",
   "execution_count": 1,
   "id": "9570e5c7",
   "metadata": {},
   "outputs": [],
   "source": [
    "def solution(distance, scope, times):\n",
    "    answer = 0\n",
    "    so_far = []\n",
    "    for i in range(len(scope)):\n",
    "        start, end = sorted(scope[i])\n",
    "        wh, bw = times[i]\n",
    "        time = start\n",
    "        while time <= end:\n",
    "            N = time % (wh+bw)\n",
    "            if 0 < N <= wh:\n",
    "                so_far.append(time)\n",
    "                break\n",
    "            time += 1\n",
    "\n",
    "    if so_far:\n",
    "        answer = sorted(so_far)[0]\n",
    "    else:\n",
    "        answer = distance\n",
    "    return answer"
   ]
  },
  {
   "cell_type": "code",
   "execution_count": 2,
   "id": "4411ccbc",
   "metadata": {},
   "outputs": [
    {
     "name": "stdout",
     "output_type": "stream",
     "text": [
      "8\n",
      "12\n"
     ]
    }
   ],
   "source": [
    "for distance, scope, times in [10, [[3, 4], [5, 8]], [[2, 5], [4, 3]]], [12, [[7, 8], [4, 6], [11, 10]], [[2, 2], [2, 4], [3, 3]]]:\n",
    "    print(solution(distance, scope, times))"
   ]
  },
  {
   "cell_type": "markdown",
   "id": "a76a6800",
   "metadata": {},
   "source": [
    "# 풀이 과정 및 주의사항"
   ]
  },
  {
   "cell_type": "markdown",
   "id": "641c1f09",
   "metadata": {},
   "source": [
    " * 근무 후 휴식을 가지므로 하나의 주기 (ex. 근무, 근무, 휴식, 휴식, 휴식, 휴식)를 갖는다. \n",
    " * 1초씩 이동하므로 경비병이 감시하는 시작 위치가 현재 시간과 같다. 따라서 감시가 시작하는 위치에서 끝나는 위치까지 1을 반복해서 더하면서 현재 시간을 1주기로 나누었을 때, 해당 값이 근무 시간 안에 있으면 List에 추가한다.\n",
    " * scope는 정렬이 되어 있지 않으므로 so_far List를 정렬 후 가장 낮은 숫자를 가져온다.\n",
    " * 한 번도 발각되지 않으면 so_far List에 요소가 하나도 없으므로 distance를 반환한다."
   ]
  },
  {
   "cell_type": "markdown",
   "id": "0d7970bb",
   "metadata": {},
   "source": [
    "https://school.programmers.co.kr/learn/courses/30/lessons/133501"
   ]
  }
 ],
 "metadata": {
  "celltoolbar": "Raw Cell Format",
  "kernelspec": {
   "display_name": "Python 3 (ipykernel)",
   "language": "python",
   "name": "python3"
  },
  "language_info": {
   "codemirror_mode": {
    "name": "ipython",
    "version": 3
   },
   "file_extension": ".py",
   "mimetype": "text/x-python",
   "name": "python",
   "nbconvert_exporter": "python",
   "pygments_lexer": "ipython3",
   "version": "3.9.7"
  }
 },
 "nbformat": 4,
 "nbformat_minor": 5
}
