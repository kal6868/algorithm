{
 "cells": [
  {
   "cell_type": "markdown",
   "id": "fbd6d190",
   "metadata": {},
   "source": [
    "# 문제 설명"
   ]
  },
  {
   "cell_type": "markdown",
   "id": "aa665cb9",
   "metadata": {},
   "source": [
    "* 완호가 관리하는 어떤 데이터베이스의 한 테이블은 모두 정수 타입인 컬럼들로 이루어져 있습니다. 테이블은 2차원 행렬로 표현할 수 있으며 열은 컬럼을 나타내고, 행은 튜플을 나타냅니다."
   ]
  },
  {
   "cell_type": "markdown",
   "id": "9b026c31",
   "metadata": {},
   "source": [
    "* 첫 번째 컬럼은 기본키로서 모든 튜플에 대해 그 값이 중복되지 않도록 보장됩니다. 완호는 이 테이블에 대한 해시 함수를 다음과 같이 정의하였습니다.\n",
    "    * 해시 함수는 col, row_begin, row_end을 입력으로 받습니다.\n",
    "    * 테이블의 튜플을 col번째 컬럼의 값을 기준으로 오름차순 정렬을 하되, 만약 그 값이 동일하면 기본키인 첫 번째 컬럼의 값을 기준으로 내림차순 정렬합니다.\n",
    "    * 정렬된 데이터에서 S_i를 i 번째 행의 튜플에 대해 각 컬럼의 값을 i 로 나눈 나머지들의 합으로 정의합니다.\n",
    "    * row_begin ≤ i ≤ row_end 인 모든 S_i를 누적하여 bitwise XOR 한 값을 해시 값으로서 반환합니다."
   ]
  },
  {
   "cell_type": "markdown",
   "id": "1eee13d1",
   "metadata": {},
   "source": [
    " * 테이블의 데이터 data와 해시 함수에 대한 입력 col, row_begin, row_end이 주어졌을 때 테이블의 해시 값을 return 하도록 solution 함수를 완성해주세요."
   ]
  },
  {
   "cell_type": "markdown",
   "id": "93c69f28",
   "metadata": {},
   "source": [
    "# 제한사항"
   ]
  },
  {
   "cell_type": "markdown",
   "id": "ebf4c872",
   "metadata": {},
   "source": [
    "* 1 ≤ data의 길이 ≤ 2,500\n",
    "* 1 ≤ data의 원소의 길이 ≤ 500\n",
    "* 1 ≤ data[i][j] ≤ 1,000,000\n",
    "    * data[i][j]는 i + 1 번째 튜플의 j + 1 번째 컬럼의 값을 의미합니다.\n",
    "* 1 ≤ col ≤ data의 원소의 길이\n",
    "* 1 ≤ row_begin ≤ row_end ≤ data의 길이"
   ]
  },
  {
   "cell_type": "markdown",
   "id": "1c1b15a0",
   "metadata": {},
   "source": [
    "# 입출력 예"
   ]
  },
  {
   "cell_type": "markdown",
   "id": "af43e41b",
   "metadata": {},
   "source": [
    "|data|col|row_begin|row_end|result|\n",
    "|---|---|---|---|---|\n",
    "|[[2,2,6],[1,5,10],[4,2,9],[3,8,3]]|2|2|3|4|"
   ]
  },
  {
   "cell_type": "code",
   "execution_count": 3,
   "id": "b2918811",
   "metadata": {},
   "outputs": [],
   "source": [
    "from collections import deque\n",
    "def cal_bxor(s_list):\n",
    "    if len(s_list) == 1:\n",
    "        return(s_list[0])\n",
    "    else:\n",
    "        first_s = s_list.popleft()\n",
    "        second_s = s_list.popleft()\n",
    "        b_xor = first_s ^ second_s\n",
    "        \n",
    "        while s_list:\n",
    "            s = s_list.popleft()\n",
    "            b_xor ^= s\n",
    "        return b_xor\n",
    "        \n",
    "def solution(data, col, row_begin, row_end):\n",
    "    answer = 0\n",
    "    s_data = sorted(data, key=lambda x: (x[col-1], -x[0]))\n",
    "    \n",
    "    s_i = deque()\n",
    "    for i in range(row_begin-1, row_end):\n",
    "        temp_sum = 0\n",
    "        for j in s_data[i]:\n",
    "            temp_sum += j % (i+1)\n",
    "        s_i.append(temp_sum)\n",
    "    answer = cal_bxor(s_i)\n",
    "    return answer"
   ]
  },
  {
   "cell_type": "code",
   "execution_count": 4,
   "id": "9b07c977",
   "metadata": {},
   "outputs": [
    {
     "name": "stdout",
     "output_type": "stream",
     "text": [
      "4\n"
     ]
    }
   ],
   "source": [
    "for data, col, row_begin, row_end in [[[[2,2,6],[1,5,10],[4,2,9],[3,8,3]], 2, 2, 3]]:\n",
    "    print(solution(data, col, row_begin, row_end))"
   ]
  },
  {
   "cell_type": "markdown",
   "id": "55f1bb43",
   "metadata": {},
   "source": [
    "# 풀이 과정 및 주의사항"
   ]
  },
  {
   "cell_type": "markdown",
   "id": "6efca741",
   "metadata": {},
   "source": [
    "* key=lambda x: (x\\[col-1\\], -x\\[0\\])를 이용해서 col번째 컬럼의 값을 기준으로 오름차순 정렬을 하고, -x\\[0\\]를 이용해서 col번째 칼럼의 값이 같으면 첫번째 칼럼의 값을 기준으로 내림차순으로 정렬한다.\n",
    "* 이중 for문을 사용해서 i 번째 List의 모든 요소를 i로 나눈 뒤 합산한 값을 s_i deque에 추가한다.\n",
    "* 파이썬의 ^를 사용하면 bitewise xor 연산(숫자를 이진법으로 바꾼 뒤, 같은 자리수의 수가 같으면 0을, 다르면 1로 하는 새로운 이진수를 만들고 십진법으로 변환한다.)\n",
    "* s_i의 요소가 1개면 해당 수를 반환하고, 2개 이상이면 s_i의 모든 값들을 순차적으로 bitewise XOR 연산을 한 값을 반환하는 함수를 만들어 answer로 반환한다.\n",
    "* s_i = \\[4\\] : 4를 return, s_i = \\[3, 5, 7, 8, 9\\] = 3 ^ 5 ^ 7 ^ 8 ^ 9"
   ]
  },
  {
   "cell_type": "markdown",
   "id": "a93a96e8",
   "metadata": {},
   "source": [
    "https://school.programmers.co.kr/learn/courses/30/lessons/147354"
   ]
  }
 ],
 "metadata": {
  "kernelspec": {
   "display_name": "Python 3 (ipykernel)",
   "language": "python",
   "name": "python3"
  },
  "language_info": {
   "codemirror_mode": {
    "name": "ipython",
    "version": 3
   },
   "file_extension": ".py",
   "mimetype": "text/x-python",
   "name": "python",
   "nbconvert_exporter": "python",
   "pygments_lexer": "ipython3",
   "version": "3.9.7"
  }
 },
 "nbformat": 4,
 "nbformat_minor": 5
}
