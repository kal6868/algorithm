{
 "cells": [
  {
   "cell_type": "markdown",
   "id": "fbd6d190",
   "metadata": {},
   "source": [
    "# 문제 설명"
   ]
  },
  {
   "cell_type": "markdown",
   "id": "295ec3a5",
   "metadata": {},
   "source": [
    "* 경화는 과수원에서 귤을 수확했습니다. 경화는 수확한 귤 중 'k'개를 골라 상자 하나에 담아 판매하려고 합니다. 그런데 수확한 귤의 크기가 일정하지 않아 보기에 좋지 않다고 생각한 경화는 귤을 크기별로 분류했을 때 서로 다른 종류의 수를 최소화하고 싶습니다."
   ]
  },
  {
   "cell_type": "markdown",
   "id": "55d1a23c",
   "metadata": {},
   "source": [
    "* 예를 들어, 경화가 수확한 귤 8개의 크기가 [1, 3, 2, 5, 4, 5, 2, 3] 이라고 합시다. 경화가 귤 6개를 판매하고 싶다면, 크기가 1, 4인 귤을 제외한 여섯 개의 귤을 상자에 담으면, 귤의 크기의 종류가 2, 3, 5로 총 3가지가 되며 이때가 서로 다른 종류가 최소일 때입니다."
   ]
  },
  {
   "cell_type": "markdown",
   "id": "a883e6df",
   "metadata": {},
   "source": [
    "* 경화가 한 상자에 담으려는 귤의 개수 k와 귤의 크기를 담은 배열 tangerine이 매개변수로 주어집니다. 경화가 귤 k개를 고를 때 크기가 서로 다른 종류의 수의 최솟값을 return 하도록 solution 함수를 작성해주세요."
   ]
  },
  {
   "cell_type": "markdown",
   "id": "f651eb2c",
   "metadata": {},
   "source": [
    "* 명예의 전당 목록의 점수의 개수 k, 1일부터 마지막 날까지 출연한 가수들의 점수인 score가 주어졌을 때, 매일 발표된 명예의 전당의 최하위 점수를 return하는 solution 함수를 완성해주세요."
   ]
  },
  {
   "cell_type": "markdown",
   "id": "ff6efbd2",
   "metadata": {},
   "source": [
    " # 제한 사항"
   ]
  },
  {
   "cell_type": "markdown",
   "id": "160863cb",
   "metadata": {},
   "source": [
    "* 1 ≤ k ≤ tangerine의 길이 ≤ 100,000\n",
    "* 1 ≤ tangerine의 원소 ≤ 10,000,000"
   ]
  },
  {
   "cell_type": "markdown",
   "id": "16452081",
   "metadata": {},
   "source": [
    "# 입출력 예"
   ]
  },
  {
   "cell_type": "markdown",
   "id": "9b026c31",
   "metadata": {},
   "source": [
    "|k|tangerine|result|\n",
    "|---|---|---|\n",
    "|6|[1, 3, 2, 5, 4, 5, 2, 3]|3|\n",
    "|4|[1, 3, 2, 5, 4, 5, 2, 3]|2|\n",
    "|2|[1, 1, 1, 1, 2, 2, 2, 3]|1|"
   ]
  },
  {
   "cell_type": "code",
   "execution_count": 1,
   "id": "9570e5c7",
   "metadata": {},
   "outputs": [],
   "source": [
    "from collections import Counter\n",
    "def solution(k, tangerine):\n",
    "    answer = 0\n",
    "    count_t = sorted(Counter(tangerine).items(), key = lambda x: x[1], reverse = True)\n",
    "    \n",
    "    for size, count in count_t:\n",
    "        k -= count\n",
    "        answer +=1\n",
    "        if k <= 0:\n",
    "            break\n",
    "    return answer"
   ]
  },
  {
   "cell_type": "code",
   "execution_count": 2,
   "id": "4411ccbc",
   "metadata": {},
   "outputs": [
    {
     "name": "stdout",
     "output_type": "stream",
     "text": [
      "3\n",
      "2\n",
      "1\n"
     ]
    }
   ],
   "source": [
    "for k, tangerine in [[6, [1, 3, 2, 5, 4, 5, 2, 3]], [4, [1, 3, 2, 5, 4, 5, 2, 3]], [2, [1, 1, 1, 1, 2, 2, 2, 3]]] :\n",
    "    print(solution(k, tangerine))"
   ]
  },
  {
   "cell_type": "markdown",
   "id": "a76a6800",
   "metadata": {},
   "source": [
    "# 풀이 과정 및 주의사항"
   ]
  },
  {
   "cell_type": "markdown",
   "id": "34e22c35",
   "metadata": {},
   "source": [
    "* Counter를 사용해서 {사이즈 : 갯수} 형태의 Dictation을 만들고 갯수가 많은 순서대로 정렬한 뒤 items() 명령어를 사용해서 [(사이즈, 갯수)] 형태로 변경한다.\n",
    "* for문을 사용해서 상자에 담으려는 귤의 갯수 k에서 사이즈 별 갯수를 빼고, answer에 1을 더해주는 과전을 반복한다. 만약 귤의 갯수가 0보다 작으면(상자에 담으려는 귤의 갯수만큼 담았으면) for 문을 멈춘다."
   ]
  },
  {
   "cell_type": "markdown",
   "id": "0d7970bb",
   "metadata": {},
   "source": [
    "https://school.programmers.co.kr/learn/courses/30/lessons/138476"
   ]
  }
 ],
 "metadata": {
  "celltoolbar": "Raw Cell Format",
  "kernelspec": {
   "display_name": "Python 3 (ipykernel)",
   "language": "python",
   "name": "python3"
  },
  "language_info": {
   "codemirror_mode": {
    "name": "ipython",
    "version": 3
   },
   "file_extension": ".py",
   "mimetype": "text/x-python",
   "name": "python",
   "nbconvert_exporter": "python",
   "pygments_lexer": "ipython3",
   "version": "3.9.7"
  }
 },
 "nbformat": 4,
 "nbformat_minor": 5
}
