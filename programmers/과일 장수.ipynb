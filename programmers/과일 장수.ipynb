{
 "cells": [
  {
   "cell_type": "markdown",
   "id": "fbd6d190",
   "metadata": {},
   "source": [
    "# 문제 설명"
   ]
  },
  {
   "cell_type": "markdown",
   "id": "295ec3a5",
   "metadata": {},
   "source": [
    "* 과일 장수가 사과 상자를 포장하고 있습니다. 사과는 상태에 따라 1점부터 k점까지의 점수로 분류하며, k점이 최상품의 사과이고 1점이 최하품의 사과입니다. 사과 한 상자의 가격은 다음과 같이 결정됩니다.\n",
    "    * 한 상자에 사과를 m개씩 담아 포장합니다.\n",
    "    * 상자에 담긴 사과 중 가장 낮은 점수가 p (1 ≤ p ≤ k)점인 경우, 사과 한 상자의 가격은 p * m 입니다."
   ]
  },
  {
   "cell_type": "markdown",
   "id": "41d65362",
   "metadata": {},
   "source": [
    "* 과일 장수가 가능한 많은 사과를 팔았을 때, 얻을 수 있는 최대 이익을 계산하고자 합니다.(사과는 상자 단위로만 판매하며, 남는 사과는 버립니다)"
   ]
  },
  {
   "cell_type": "markdown",
   "id": "c60232ba",
   "metadata": {},
   "source": [
    "* 예를 들어, k = 3, m = 4, 사과 7개의 점수가 [1, 2, 3, 1, 2, 3, 1]이라면, 다음과 같이 [2, 3, 2, 3]으로 구성된 사과 상자 1개를 만들어 판매하여 최대 이익을 얻을 수 있습니다.\n",
    "    * (최저 사과 점수) x (한 상자에 담긴 사과 개수) x (상자의 개수) = 2 x 4 x 1 = 8"
   ]
  },
  {
   "cell_type": "markdown",
   "id": "8528f009",
   "metadata": {},
   "source": [
    " * 사과의 최대 점수 k, 한 상자에 들어가는 사과의 수 m, 사과들의 점수 score가 주어졌을 때, 과일 장수가 얻을 수 있는 최대 이익을 return하는 solution 함수를 완성해주세요."
   ]
  },
  {
   "cell_type": "markdown",
   "id": "ff6efbd2",
   "metadata": {},
   "source": [
    " # 제한 사항"
   ]
  },
  {
   "cell_type": "markdown",
   "id": "160863cb",
   "metadata": {},
   "source": [
    "* 3 ≤ k ≤ 9\n",
    "* 3 ≤ m ≤ 10\n",
    "* 7 ≤ score의 길이 ≤ 1,000,000\n",
    "    * 1 ≤ score[i] ≤ k\n",
    "* 이익이 발생하지 않는 경우에는 0을 return 해주세요."
   ]
  },
  {
   "cell_type": "markdown",
   "id": "16452081",
   "metadata": {},
   "source": [
    "# 입출력 예"
   ]
  },
  {
   "cell_type": "markdown",
   "id": "9b026c31",
   "metadata": {},
   "source": [
    "|k|m|score|result|\n",
    "|---|---|---|---|\n",
    "|3|4|[1, 2, 3, 1, 2, 3, 1]|8|\n",
    "|4|3|[4, 1, 2, 2, 4, 4, 4, 4, 1, 2, 4, 2]|33|"
   ]
  },
  {
   "cell_type": "code",
   "execution_count": 1,
   "id": "9570e5c7",
   "metadata": {},
   "outputs": [],
   "source": [
    "from collections import deque\n",
    "def solution(k, m, score):\n",
    "    answer = 0\n",
    "    score = sorted(score, reverse = True)\n",
    "    score = deque(score)\n",
    "\n",
    "    while len(score) >= m:\n",
    "        bag = deque()\n",
    "        for _ in range(m):\n",
    "            apple = score.popleft()\n",
    "            bag.append(apple)\n",
    "\n",
    "        answer += min(bag) * m\n",
    "    return answer"
   ]
  },
  {
   "cell_type": "code",
   "execution_count": 2,
   "id": "4411ccbc",
   "metadata": {},
   "outputs": [
    {
     "name": "stdout",
     "output_type": "stream",
     "text": [
      "8\n",
      "33\n"
     ]
    }
   ],
   "source": [
    "for k, m, score in [[3, 4, [1, 2, 3, 1, 2, 3, 1]], [4, 3, [4, 1, 2, 2, 4, 4, 4, 4, 1, 2, 4, 2]]]:\n",
    "    print(solution(k, m, score))"
   ]
  },
  {
   "cell_type": "markdown",
   "id": "a76a6800",
   "metadata": {},
   "source": [
    "# 풀이 과정 및 주의사항"
   ]
  },
  {
   "cell_type": "markdown",
   "id": "641c1f09",
   "metadata": {},
   "source": [
    " * pop을 사용해야 하므로 deque를 사용하고, 최대 이익을 산출하기 위해서 score를 내림차순 정렬한 뒤 deque 자료형으로 변환한다.\n",
    " * 한 상자에 들어가는 사과가 m개이므로 score가 4개 이상 남았을 때까지 반복하는 while문을 사용한다.\n",
    " * 내림차순한 score에서 앞에서 m개씩 요소를 빼서 bag이라는 deque에 추가하고, bag의 최소값 * m(갯수)를 answer에 더해준다."
   ]
  },
  {
   "cell_type": "markdown",
   "id": "0d7970bb",
   "metadata": {},
   "source": [
    "https://school.programmers.co.kr/learn/courses/30/lessons/135808"
   ]
  }
 ],
 "metadata": {
  "celltoolbar": "Raw Cell Format",
  "kernelspec": {
   "display_name": "Python 3 (ipykernel)",
   "language": "python",
   "name": "python3"
  },
  "language_info": {
   "codemirror_mode": {
    "name": "ipython",
    "version": 3
   },
   "file_extension": ".py",
   "mimetype": "text/x-python",
   "name": "python",
   "nbconvert_exporter": "python",
   "pygments_lexer": "ipython3",
   "version": "3.9.7"
  }
 },
 "nbformat": 4,
 "nbformat_minor": 5
}
