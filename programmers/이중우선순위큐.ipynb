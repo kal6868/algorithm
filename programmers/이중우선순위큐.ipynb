{
 "cells": [
  {
   "cell_type": "markdown",
   "id": "fbd6d190",
   "metadata": {},
   "source": [
    "# 문제 설명"
   ]
  },
  {
   "cell_type": "markdown",
   "id": "295ec3a5",
   "metadata": {},
   "source": [
    "* 이중 우선순위 큐는 다음 연산을 할 수 있는 자료구조를 말합니다."
   ]
  },
  {
   "cell_type": "markdown",
   "id": "3f4ae034",
   "metadata": {},
   "source": [
    "|명령어|수신 탑(높이)|\n",
    "|---|---|\n",
    "|I 숫자|큐에 주어진 숫자를 삽입합니다.|\n",
    "|D 1|큐에서 최댓값을 삭제합니다.|\n",
    "|D -1|큐에서 최솟값을 삭제합니다.|"
   ]
  },
  {
   "cell_type": "markdown",
   "id": "943d53ad",
   "metadata": {},
   "source": [
    "* 이중 우선순위 큐가 할 연산 operations가 매개변수로 주어질 때, 모든 연산을 처리한 후 큐가 비어있으면 [0,0] 비어있지 않으면 [최댓값, 최솟값]을 return 하도록 solution 함수를 구현해주세요."
   ]
  },
  {
   "cell_type": "markdown",
   "id": "b56a4179",
   "metadata": {},
   "source": [
    "# 제한사항"
   ]
  },
  {
   "cell_type": "markdown",
   "id": "229fc3aa",
   "metadata": {},
   "source": [
    "* operations는 길이가 1 이상 1,000,000 이하인 문자열 배열입니다.\n",
    "* operations의 원소는 큐가 수행할 연산을 나타냅니다.\n",
    "* 원소는 “명령어 데이터” 형식으로 주어집니다.- 최댓값/최솟값을 삭제하는 연산에서 최댓값/최솟값이 둘 이상인 경우, 하나만 삭제합니다.\n",
    "* 빈 큐에 데이터를 삭제하라는 연산이 주어질 경우, 해당 연산은 무시합니다."
   ]
  },
  {
   "cell_type": "markdown",
   "id": "16452081",
   "metadata": {},
   "source": [
    "# 입출력 예시"
   ]
  },
  {
   "cell_type": "markdown",
   "id": "9b026c31",
   "metadata": {},
   "source": [
    "|operations|return\n",
    "|---|---|\n",
    "|[\"I 16\", \"I -5643\", \"D -1\", \"D 1\", \"D 1\", \"I 123\", \"D -1\"]|[0,0]|\n",
    "|[\"I -45\", \"I 653\", \"D 1\", \"I -642\", \"I 45\", \"I 97\", \"D 1\", \"D -1\", \"I 333\"]|[333, -45]|"
   ]
  },
  {
   "cell_type": "code",
   "execution_count": 1,
   "id": "d3f7e869",
   "metadata": {},
   "outputs": [],
   "source": [
    "import heapq\n",
    "\n",
    "def solution(operations):\n",
    "    queue = []\n",
    "    heapq.heapify(queue)\n",
    "    \n",
    "    for operation in operations:\n",
    "        if operation[0] == 'I':\n",
    "            num = int(operation.split(' ')[1])\n",
    "            heapq.heappush(queue, num)\n",
    "            heapq.heapify(queue)\n",
    "\n",
    "        elif (operation == 'D 1') and (queue):\n",
    "            queue.remove(max(queue))\n",
    "            heapq.heapify(queue)\n",
    "            \n",
    "        elif operation == 'D -1' and (queue):\n",
    "            heapq.heappop(queue)\n",
    "\n",
    "    if queue:\n",
    "        answer = [max(queue), queue[0]]\n",
    "    else:\n",
    "        answer = [0, 0]\n",
    "        \n",
    "    return answer"
   ]
  },
  {
   "cell_type": "code",
   "execution_count": 2,
   "id": "d3982ae6",
   "metadata": {},
   "outputs": [
    {
     "name": "stdout",
     "output_type": "stream",
     "text": [
      "[0, 0] [333, -45] "
     ]
    }
   ],
   "source": [
    "for operations in [[\"I 16\", \"I -5643\", \"D -1\", \"D 1\", \"D 1\", \"I 123\", \"D -1\"],\n",
    "                  [\"I -45\", \"I 653\", \"D 1\", \"I -642\", \"I 45\", \"I 97\", \"D 1\", \"D -1\", \"I 333\"]]:\n",
    "    print(solution(operations), end = ' ')"
   ]
  },
  {
   "cell_type": "markdown",
   "id": "a76a6800",
   "metadata": {},
   "source": [
    "# 풀이 과정 및 주의사항"
   ]
  },
  {
   "cell_type": "markdown",
   "id": "641c1f09",
   "metadata": {},
   "source": [
    "* heapq 자료구조는 최소값이 항상 맨 앞에 나타나게 되어있다.(최대값이 항상 맨 뒤는 아니다.)\n",
    "* 문자열의 맨 앞자리가 I인 경우 띄어쓰기(' ')를 기준으로 나눈 후 뒤에 나타나는 숫자를 힙 구조에 넣어준다.\n",
    "* 최소값은 항상 힙 자료구조의 첫번 째 요소이므로 맨 앞의 값을 제거하면 된다.\n",
    "* 최대값은 항상 맨 뒤가 아닐 수 있으므로 max를 사용하여 제거한다.\n",
    "* 힙 자료구조가 비어있으면 [0, 0]을, 아니면 [최대값, 맨 앞 요소]를 반환하면 된다."
   ]
  },
  {
   "cell_type": "markdown",
   "id": "0d7970bb",
   "metadata": {},
   "source": [
    "https://school.programmers.co.kr/learn/courses/30/lessons/42628"
   ]
  }
 ],
 "metadata": {
  "celltoolbar": "Raw Cell Format",
  "kernelspec": {
   "display_name": "Python 3 (ipykernel)",
   "language": "python",
   "name": "python3"
  },
  "language_info": {
   "codemirror_mode": {
    "name": "ipython",
    "version": 3
   },
   "file_extension": ".py",
   "mimetype": "text/x-python",
   "name": "python",
   "nbconvert_exporter": "python",
   "pygments_lexer": "ipython3",
   "version": "3.9.7"
  }
 },
 "nbformat": 4,
 "nbformat_minor": 5
}
