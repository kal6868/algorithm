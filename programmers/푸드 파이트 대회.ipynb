{
 "cells": [
  {
   "cell_type": "markdown",
   "id": "fbd6d190",
   "metadata": {},
   "source": [
    "# 문제 설명"
   ]
  },
  {
   "cell_type": "markdown",
   "id": "295ec3a5",
   "metadata": {},
   "source": [
    "* 수웅이는 매달 주어진 음식을 빨리 먹는 푸드 파이트 대회를 개최합니다. 이 대회에서 선수들은 1대 1로 대결하며, 매 대결마다 음식의 종류와 양이 바뀝니다. 대결은 준비된 음식들을 일렬로 배치한 뒤, 한 선수는 제일 왼쪽에 있는 음식부터 오른쪽으로, 다른 선수는 제일 오른쪽에 있는 음식부터 왼쪽으로 순서대로 먹는 방식으로 진행됩니다. 중앙에는 물을 배치하고, 물을 먼저 먹는 선수가 승리하게 됩니다."
   ]
  },
  {
   "cell_type": "markdown",
   "id": "c18b7ae2",
   "metadata": {},
   "source": [
    "* 이때, 대회의 공정성을 위해 두 선수가 먹는 음식의 종류와 양이 같아야 하며, 음식을 먹는 순서도 같아야 합니다. 또한, 이번 대회부터는 칼로리가 낮은 음식을 먼저 먹을 수 있게 배치하여 선수들이 음식을 더 잘 먹을 수 있게 하려고 합니다. 이번 대회를 위해 수웅이는 음식을 주문했는데, 대회의 조건을 고려하지 않고 음식을 주문하여 몇 개의 음식은 대회에 사용하지 못하게 되었습니다."
   ]
  },
  {
   "cell_type": "markdown",
   "id": "e975cfc8",
   "metadata": {},
   "source": [
    "* 예를 들어, 3가지의 음식이 준비되어 있으며, 칼로리가 적은 순서대로 1번 음식을 3개, 2번 음식을 4개, 3번 음식을 6개 준비했으며, 물을 편의상 0번 음식이라고 칭한다면, 두 선수는 1번 음식 1개, 2번 음식 2개, 3번 음식 3개씩을 먹게 되므로 음식의 배치는 \"1223330333221\"이 됩니다. 따라서 1번 음식 1개는 대회에 사용하지 못합니다."
   ]
  },
  {
   "cell_type": "markdown",
   "id": "821b9480",
   "metadata": {},
   "source": [
    " * 수웅이가 준비한 음식의 양을 칼로리가 적은 순서대로 나타내는 정수 배열 food가 주어졌을 때, 대회를 위한 음식의 배치를 나타내는 문자열을 return 하는 solution 함수를 완성해주세요."
   ]
  },
  {
   "cell_type": "markdown",
   "id": "b56a4179",
   "metadata": {},
   "source": [
    "# 제한사항"
   ]
  },
  {
   "cell_type": "markdown",
   "id": "229fc3aa",
   "metadata": {},
   "source": [
    "* 2 ≤ food의 길이 ≤ 9\n",
    "* 1 ≤ food의 각 원소 ≤ 1,000\n",
    "* food[i]에는 칼로리가 적은 순서대로 음식의 양이 담겨 있습니다.\n",
    "* food[i]는 i번 음식의 수입니다.\n",
    "* food[0]은 수웅이가 준비한 물의 양이며, 항상 1입니다.\n",
    "* 정답의 길이가 3 이상인 경우만 입력으로 주어집니다."
   ]
  },
  {
   "cell_type": "markdown",
   "id": "16452081",
   "metadata": {},
   "source": [
    "# 입출력 예시"
   ]
  },
  {
   "cell_type": "markdown",
   "id": "9b026c31",
   "metadata": {},
   "source": [
    "|food|result|\n",
    "|---|---|\n",
    "|[1, 3, 4, 6]|\"1223330333221\"|\n",
    "|[1, 7, 1, 2]|\"111303111\"|"
   ]
  },
  {
   "cell_type": "code",
   "execution_count": 1,
   "id": "2cfeb700",
   "metadata": {},
   "outputs": [],
   "source": [
    "def solution(food):\n",
    "    answer = ''\n",
    "    food_avail = [food[i] - (food[i]%2) for i in range(1, len(food))]\n",
    "    for count, food in enumerate(food_avail):\n",
    "        for _ in range(int(food/2)):\n",
    "            answer += str(count+1)\n",
    "            \n",
    "    answer += '0'\n",
    "    for i in range(len(answer)-2, -1, -1):\n",
    "        answer += answer[i]         \n",
    "    return answer"
   ]
  },
  {
   "cell_type": "code",
   "execution_count": 2,
   "id": "4411ccbc",
   "metadata": {},
   "outputs": [
    {
     "name": "stdout",
     "output_type": "stream",
     "text": [
      "1223330333221\n",
      "111303111\n"
     ]
    }
   ],
   "source": [
    "for order in [[1, 3, 4, 6], [1, 7, 1, 2]]:\n",
    "    print(solution(order))"
   ]
  },
  {
   "cell_type": "markdown",
   "id": "a76a6800",
   "metadata": {},
   "source": [
    "# 풀이 과정 및 주의사항"
   ]
  },
  {
   "cell_type": "markdown",
   "id": "641c1f09",
   "metadata": {},
   "source": [
    " * 음식의 개수가 홀수인 경우는 1개는 무조건 버려야 하므로, food_avail이란 List에 1번부터(0번은 물), 2로 나눈 나머지를 빼준 값을 차례대로 추가한다.\n",
    " * for 문을 사용하여 음식 횟수의 반만큼 문자로 바꾸어서 빈 문자열인 answer에 더해주면, 좌측 선수가 먹을 음식이 완성된다.\n",
    " * 중간 부분인 물을 더해주고 answer를 0 이전의 요소부터 거꾸로 조회하면서 다시 더해주면 0을 기준으로 대칭인 문자열이 완성된다."
   ]
  },
  {
   "cell_type": "markdown",
   "id": "0d7970bb",
   "metadata": {},
   "source": [
    "https://school.programmers.co.kr/learn/courses/30/lessons/134240"
   ]
  }
 ],
 "metadata": {
  "celltoolbar": "Raw Cell Format",
  "kernelspec": {
   "display_name": "Python 3 (ipykernel)",
   "language": "python",
   "name": "python3"
  },
  "language_info": {
   "codemirror_mode": {
    "name": "ipython",
    "version": 3
   },
   "file_extension": ".py",
   "mimetype": "text/x-python",
   "name": "python",
   "nbconvert_exporter": "python",
   "pygments_lexer": "ipython3",
   "version": "3.9.7"
  }
 },
 "nbformat": 4,
 "nbformat_minor": 5
}
