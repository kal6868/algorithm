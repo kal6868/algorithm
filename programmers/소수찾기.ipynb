{
 "cells": [
  {
   "cell_type": "markdown",
   "id": "fbd6d190",
   "metadata": {},
   "source": [
    "# 문제"
   ]
  },
  {
   "cell_type": "markdown",
   "id": "aa665cb9",
   "metadata": {},
   "source": [
    "* 한자리 숫자가 적힌 종이 조각이 흩어져있습니다. 흩어진 종이 조각을 붙여 소수를 몇 개 만들 수 있는지 알아내려 합니다.\n",
    "\n",
    "* 각 종이 조각에 적힌 숫자가 적힌 문자열 numbers가 주어졌을 때, 종이 조각으로 만들 수 있는 소수가 몇 개인지 return 하도록 solution 함수를 완성해주세요."
   ]
  },
  {
   "cell_type": "markdown",
   "id": "be064c2f",
   "metadata": {},
   "source": [
    "# 제한사항"
   ]
  },
  {
   "cell_type": "markdown",
   "id": "c4d677a4",
   "metadata": {},
   "source": [
    "* numbers는 길이 1 이상 7 이하인 문자열입니다.\n",
    "* numbers는 0~9까지 숫자만으로 이루어져 있습니다.\n",
    "* \"013\"은 0, 1, 3 숫자가 적힌 종이 조각이 흩어져있다는 의미입니다."
   ]
  },
  {
   "cell_type": "markdown",
   "id": "16452081",
   "metadata": {},
   "source": [
    "# 입출력 예시"
   ]
  },
  {
   "cell_type": "markdown",
   "id": "9b026c31",
   "metadata": {},
   "source": [
    "|numbers|result|\n",
    "|---|---|\n",
    "|\"17\"|3|\n",
    "|\"011\"|2|"
   ]
  },
  {
   "cell_type": "code",
   "execution_count": 1,
   "id": "b2918811",
   "metadata": {},
   "outputs": [],
   "source": [
    "from itertools import permutations\n",
    "\n",
    "def solution(numbers):\n",
    "    answer = 0\n",
    "    sp_num = list(numbers)\n",
    "    permut = []\n",
    "    for digit in range(1, len(sp_num)+1):\n",
    "        permut += list(permutations(sp_num, digit))\n",
    "    comb = list(set([int(\"\".join(cbn)) for cbn in permut]))\n",
    "\n",
    "    for num in comb:\n",
    "        if num <= 1:\n",
    "            continue\n",
    "        else:\n",
    "            discri = []\n",
    "            for div in range(1,(int((num)*0.5))+1):\n",
    "                if num % div == 0:\n",
    "                    discri.append(div)\n",
    "            if len(discri) == 1:\n",
    "                answer += 1\n",
    "    return answer"
   ]
  },
  {
   "cell_type": "code",
   "execution_count": 2,
   "id": "9b07c977",
   "metadata": {
    "scrolled": true
   },
   "outputs": [
    {
     "name": "stdout",
     "output_type": "stream",
     "text": [
      "3 / 2 / "
     ]
    }
   ],
   "source": [
    "for i in [\"17\", \"011\"]:\n",
    "    print(solution(i), end = ' / ')"
   ]
  },
  {
   "cell_type": "code",
   "execution_count": 3,
   "id": "49af1cca",
   "metadata": {},
   "outputs": [],
   "source": [
    "from itertools import permutations\n",
    "\n",
    "def solution(numbers):\n",
    "    answer = 0\n",
    "    sp_num = list(numbers)\n",
    "    permut = []\n",
    "    for digit in range(1, len(sp_num)+1):\n",
    "        permut += list(permutations(sp_num, digit))\n",
    "    comb = list(set([int(\"\".join(cbn)) for cbn in permut]))\n",
    "\n",
    "    for num in comb:\n",
    "        if num >= 2:\n",
    "            discri = True\n",
    "            for i in range(2, num):\n",
    "                if num%i == 0:\n",
    "                    discri = False\n",
    "                    break\n",
    "            if discri == True:\n",
    "                answer += 1\n",
    "    return answer"
   ]
  },
  {
   "cell_type": "code",
   "execution_count": 4,
   "id": "9aa289a1",
   "metadata": {},
   "outputs": [
    {
     "name": "stdout",
     "output_type": "stream",
     "text": [
      "3 / 2 / "
     ]
    }
   ],
   "source": [
    "for i in [\"17\", \"011\"]:\n",
    "    print(solution(i), end = ' / ')"
   ]
  },
  {
   "cell_type": "markdown",
   "id": "55f1bb43",
   "metadata": {},
   "source": [
    "# 풀이 과정 및 주의사항"
   ]
  },
  {
   "cell_type": "markdown",
   "id": "6efca741",
   "metadata": {},
   "source": [
    "* 조합의 경우를 찾아주는 permutations 함수를 이용하여 조합의 모든 경우를 찾아낸 후 리스트형으로 변환한 뒤, 1부터 자기 자신까지로 나누는 시도를 하여 나머지가 0인 숫자가 몇개인지 탐색한다(0, 1 제외)\n",
    "* 첫번째 solution에서 제곱근까지만 탐색하지 않으면(for div in range(1,(int((num)*0.5))+1)) 2, 10번 테스트에서 속도때문에 실패하게 된다.\n",
    "* 두번째 solution의 속도가 현저히 빠르다. 연산을 줄이는 방법을 고려해야 한다."
   ]
  },
  {
   "cell_type": "markdown",
   "id": "a93a96e8",
   "metadata": {},
   "source": [
    "https://school.programmers.co.kr/learn/courses/30/lessons/42839?language=python3"
   ]
  }
 ],
 "metadata": {
  "kernelspec": {
   "display_name": "Python 3 (ipykernel)",
   "language": "python",
   "name": "python3"
  },
  "language_info": {
   "codemirror_mode": {
    "name": "ipython",
    "version": 3
   },
   "file_extension": ".py",
   "mimetype": "text/x-python",
   "name": "python",
   "nbconvert_exporter": "python",
   "pygments_lexer": "ipython3",
   "version": "3.9.7"
  }
 },
 "nbformat": 4,
 "nbformat_minor": 5
}
