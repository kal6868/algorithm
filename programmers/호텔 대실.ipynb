{
 "cells": [
  {
   "attachments": {},
   "cell_type": "markdown",
   "metadata": {},
   "source": [
    "# 호텔 대실"
   ]
  },
  {
   "attachments": {},
   "cell_type": "markdown",
   "metadata": {},
   "source": [
    "## 문제 설명"
   ]
  },
  {
   "attachments": {},
   "cell_type": "markdown",
   "metadata": {},
   "source": [
    "* 호텔을 운영 중인 코니는 최소한의 객실만을 사용하여 예약 손님들을 받으려고 합니다. 한 번 사용한 객실은 퇴실 시간을 기준으로 10분간 청소를 하고 다음 손님들이 사용할 수 있습니다."
   ]
  },
  {
   "cell_type": "markdown",
   "metadata": {},
   "source": [
    "* 예약 시각이 문자열 형태로 담긴 2차원 배열 book_time이 매개변수로 주어질 때, 코니에게 필요한 최소 객실의 수를 return 하는 solution 함수를 완성해주세요."
   ]
  },
  {
   "attachments": {},
   "cell_type": "markdown",
   "metadata": {},
   "source": [
    "## 제한 사항"
   ]
  },
  {
   "attachments": {},
   "cell_type": "markdown",
   "metadata": {},
   "source": [
    "* 1 ≤ book_time의 길이 ≤ 1,000\n",
    "    * book_time[i]는 [\"HH:MM\", \"HH:MM\"]의 형태로 이루어진 배열입니다\n",
    "        * [대실 시작 시각, 대실 종료 시각] 형태입니다.\n",
    "    * 시각은 HH:MM 형태로 24시간 표기법을 따르며, \"00:00\" 부터 \"23:59\" 까지로 주어집니다.\n",
    "        * 예약 시각이 자정을 넘어가는 경우는 없습니다.\n",
    "        * 시작 시각은 항상 종료 시각보다 빠릅니다."
   ]
  },
  {
   "attachments": {},
   "cell_type": "markdown",
   "metadata": {},
   "source": [
    "## 입출력 예"
   ]
  },
  {
   "attachments": {},
   "cell_type": "markdown",
   "metadata": {},
   "source": [
    "|book_time|result|\n",
    "|---|---|\n",
    "|[[\"15:00\", \"17:00\"], [\"16:40\", \"18:20\"], [\"14:20\", \"15:20\"], [\"14:10\", \"19:20\"], [\"18:20\", \"21:20\"]]|3|\n",
    "|[[\"09:10\", \"10:10\"], [\"10:20\", \"12:20\"]]|1|\n",
    "|[[\"10:20\", \"12:30\"], [\"10:20\", \"12:30\"], [\"10:20\", \"12:30\"]]|3|"
   ]
  },
  {
   "attachments": {},
   "cell_type": "markdown",
   "metadata": {},
   "source": [
    "## Code"
   ]
  },
  {
   "cell_type": "code",
   "execution_count": 1,
   "metadata": {},
   "outputs": [],
   "source": [
    "# 프로그래머스 호텔 대실\n",
    "def to_minute(time):\n",
    "    h, m = int(time.split(\":\")[0]), int(time.split(\":\")[1])\n",
    "    return h*60 + m\n",
    "\n",
    "def solution(book_time):\n",
    "    answer = 0\n",
    "    book_time = [(to_minute(checkin), to_minute(checkout)+10) for checkin, checkout in book_time]\n",
    "    book_time = sorted(book_time)\n",
    "    \n",
    "    room_booked = []\n",
    "    for bt in book_time:\n",
    "        if not room_booked:\n",
    "            room_booked.append(bt)\n",
    "            continue\n",
    "        \n",
    "        for room_number, rsv_time in enumerate(room_booked):\n",
    "            if bt[0] >= rsv_time[1]:\n",
    "                room_booked[room_number] = bt\n",
    "                break\n",
    "        else:\n",
    "            room_booked.append(bt)\n",
    "    # print(room_booked)\n",
    "    return len(room_booked)"
   ]
  },
  {
   "cell_type": "code",
   "execution_count": null,
   "metadata": {},
   "outputs": [],
   "source": [
    "# 프로그래머스 호텔 대실 #heap\n",
    "from heapq import heappush, heappop\n",
    "def to_minute(time):\n",
    "    h, m = int(time.split(\":\")[0]), int(time.split(\":\")[1])\n",
    "    return h*60 + m\n",
    "\n",
    "def solution(book_time):\n",
    "    answer = 1\n",
    "    book_time = [(to_minute(checkin), to_minute(checkout)+10) for checkin, checkout in book_time]\n",
    "    book_time = sorted(book_time)\n",
    "\n",
    "    heap = []\n",
    "    for checkin, checkout in book_time:\n",
    "        if not heap:\n",
    "            heappush(heap, checkout)\n",
    "            continue\n",
    "        \n",
    "        if heap[0] <= checkin:\n",
    "            heappop(heap)\n",
    "        else:\n",
    "            answer += 1\n",
    "        heappush(heap, checkout)\n",
    "    return answer\n",
    "\n",
    "book_time = [\n",
    "    [[\"15:00\", \"17:00\"], [\"16:40\", \"18:20\"], [\"14:20\", \"15:20\"], [\"14:10\", \"19:20\"], [\"18:20\", \"21:20\"]],\n",
    "    [[\"09:10\", \"10:10\"], [\"10:20\", \"12:20\"]],\n",
    "    [[\"10:20\", \"12:30\"], [\"10:20\", \"12:30\"], [\"10:20\", \"12:30\"]]\n",
    "    ]\n",
    "\n",
    "print(*[solution(b) for b in book_time])"
   ]
  },
  {
   "attachments": {},
   "cell_type": "markdown",
   "metadata": {},
   "source": [
    "## 예제입력"
   ]
  },
  {
   "cell_type": "code",
   "execution_count": 2,
   "metadata": {},
   "outputs": [
    {
     "name": "stdout",
     "output_type": "stream",
     "text": [
      "3 1 3\n"
     ]
    }
   ],
   "source": [
    "book_time = [\n",
    "    [[\"15:00\", \"17:00\"], [\"16:40\", \"18:20\"], [\"14:20\", \"15:20\"], [\"14:10\", \"19:20\"], [\"18:20\", \"21:20\"]],\n",
    "    [[\"09:10\", \"10:10\"], [\"10:20\", \"12:20\"]],\n",
    "    [[\"10:20\", \"12:30\"], [\"10:20\", \"12:30\"], [\"10:20\", \"12:30\"]]\n",
    "    ]\n",
    "\n",
    "print(*[solution(b) for b in book_time])"
   ]
  },
  {
   "attachments": {},
   "cell_type": "markdown",
   "metadata": {},
   "source": [
    "## Note"
   ]
  },
  {
   "cell_type": "markdown",
   "metadata": {},
   "source": [
    "* 1. 시간이 문자열로 저장되어 있어서 정수형으로 바꿔주는 to_minute 함수를 정의한다\n",
    "* 2. to_minute 함수를 사용해서 문자열로 저장되어 있는 시간을 정수형으로 바꾸고 Tuple로 저장한다\n",
    "* 3. book_time을 입실 시간 순서대로 정렬하고, 퇴실시간에 청소시간을 더해 10분을 추가한다\n",
    "* 4. 예약에 필요한 최소 객실을 저장할 List(room_booked)을 선언한다.\n",
    "* 5. for문을 사용해서 \n",
    "    * 1\\) room_booked이 비어있는 List인 경우 (입실 시간, 퇴실 시간) Tuple을 저장한다.\n",
    "    * 2\\) room_booked이 비어있지 않은 경우, enumerate로 index를 정보를 추가로 얻으면서 시간을 비교한다.\n",
    "    * 3\\) 현재 bt의 입실 시간이 room_booked에 저장 되어 있는 퇴실 시간 이후인 경우 room_booked의 해당 인덱스를 bt로 업데이트 한다.(방을 다 쓰고 퇴실한 경우로 새로운 예약으로 덮어쓴다.)\n",
    "* 6. 만약  room_booked에 저장 되어 있는 퇴실 시간보다 bt의 입실 시간이 빠른 경우가 없으면 해당 예약은 room_booked에 (입실 시간, 퇴실 시간) Tuple로 저장한다.\n",
    "* 7. room_booked에 저장된 Tuple의 개수를 반환하면 정답."
   ]
  },
  {
   "cell_type": "markdown",
   "metadata": {},
   "source": [
    "### Heap\n",
    "\n",
    "* 1. 시간이 문자열로 저장되어 있어서 정수형으로 바꿔주는 to_minute 함수를 정의한다\n",
    "* 2. to_minute 함수를 사용해서 문자열로 저장되어 있는 시간을 정수형으로 바꾸고 Tuple로 저장한다\n",
    "* 3. book_time을 입실 시간 순서대로 정렬하고, 퇴실시간에 청소시간을 더해 10분을 추가한다\n",
    "* 4. List(heap)을 선언하고 heapq 패키지를 통해 최소값이 항상 맨 앞에 위치할 수 있도록 한다\n",
    "    * 1\\) heap이 비어있는 경우 정렬된 예약시간 중 입실 시간이 제일 빠른 예약의 퇴실 시간을 저장한다.(answer가 1부터 시작하는 이유)\n",
    "    * 2\\) heap에 저장된 가장 빠른 퇴실 시간 중 입실 시간(checkin) 보다 빠른 시간이 있다면 해당 시간을 heap에서 제거한다(heappop)\n",
    "    * 3\\) 퇴실 시간이 가장 빠른 객실이 예약된 입실 시간보다 빠르다면 객실을 사용하고 퇴실한 경우로 새롭게 배정이 가능하다는 것\n",
    "    * 4\\) heap에 저장된 가장 빠른 퇴실 시간 중 입실 시간(checkin) 보다 빠른 시간이 없다면 사용가능한 객실이 없다는 뜻으로 answer에 1을 더 해준다.\n",
    "        * 사용 가능한 객실이 있으면 이전 퇴실 시간을 heap에서 제거하고 새로운 퇴실 시간을 heap에 추가하는 것이고, \n",
    "        * 사용 가능한 객실이 없으면 아무것도 제거하지 않고 새로운 퇴실 시간을 heap에 추가하고 answer에 1을 더한다\n",
    "* 5. answer을 반환하면 정답이 된다."
   ]
  },
  {
   "attachments": {},
   "cell_type": "markdown",
   "metadata": {},
   "source": [
    "https://school.programmers.co.kr/learn/courses/30/lessons/155651"
   ]
  }
 ],
 "metadata": {
  "kernelspec": {
   "display_name": "ws1",
   "language": "python",
   "name": "python3"
  },
  "language_info": {
   "codemirror_mode": {
    "name": "ipython",
    "version": 3
   },
   "file_extension": ".py",
   "mimetype": "text/x-python",
   "name": "python",
   "nbconvert_exporter": "python",
   "pygments_lexer": "ipython3",
   "version": "3.11.3"
  },
  "orig_nbformat": 4,
  "vscode": {
   "interpreter": {
    "hash": "2856db72fb1e77597a3b14e9c1bb4d2315d342edc16fc9e25c6c6e499688b933"
   }
  }
 },
 "nbformat": 4,
 "nbformat_minor": 2
}
