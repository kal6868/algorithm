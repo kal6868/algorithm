{
 "cells": [
  {
   "cell_type": "markdown",
   "id": "fbd6d190",
   "metadata": {},
   "source": [
    "# 문제"
   ]
  },
  {
   "cell_type": "markdown",
   "id": "aa665cb9",
   "metadata": {},
   "source": [
    "* 어떤 숫자에서 k개의 수를 제거했을 때 얻을 수 있는 가장 큰 숫자를 구하려 합니다.\n",
    "\n",
    "* 예를 들어, 숫자 1924에서 수 두 개를 제거하면 [19, 12, 14, 92, 94, 24] 를 만들 수 있습니다. 이 중 가장 큰 숫자는 94 입니다.\n",
    "\n",
    "* 문자열 형식으로 숫자 number와 제거할 수의 개수 k가 solution 함수의 매개변수로 주어집니다. number에서 k 개의 수를 제거했을 때 만들 수 있는 수 중 가장 큰 숫자를 문자열 형태로 return 하도록 solution 함수를 완성하세요."
   ]
  },
  {
   "cell_type": "markdown",
   "id": "be064c2f",
   "metadata": {},
   "source": [
    "# 제한사항"
   ]
  },
  {
   "cell_type": "markdown",
   "id": "c4d677a4",
   "metadata": {},
   "source": [
    "* number는 2자리 이상, 1,000,000자리 이하인 숫자입니다.\n",
    "* k는 1 이상 number의 자릿수 미만인 자연수입니다."
   ]
  },
  {
   "cell_type": "markdown",
   "id": "16452081",
   "metadata": {},
   "source": [
    "# 입출력 예시"
   ]
  },
  {
   "cell_type": "markdown",
   "id": "9b026c31",
   "metadata": {},
   "source": [
    "|number|k|result|\n",
    "|---|---|---|\n",
    "|\"1924\"|2|\"94\"|\n",
    "|\"1231234\"|3|\"3234\"|\n",
    "|\"4177252841\"|4|\"775841\"|"
   ]
  },
  {
   "cell_type": "code",
   "execution_count": 1,
   "id": "d3f7e869",
   "metadata": {},
   "outputs": [],
   "source": [
    "def solution(number, k):\n",
    "    stack = []\n",
    "    for n in number:\n",
    "        if not stack:\n",
    "            stack.append(n)\n",
    "            continue # 없으면 맨 처음 숫자(ex.1) 이 밑의 append때문에 두번 쌓이고 k가 두번 빠지는 현상이 발생\n",
    "                      # [1], k=2 -> [1, 1], k=2 -> [], k=0 \n",
    "                      # 결과적으로 k가 0이 되어 k>0 조건을 만족하지 못하므로 9, 2, 4가 그대로 쌓이게 됨\n",
    "            \n",
    "        if k > 0:\n",
    "            while stack[-1] < n:\n",
    "                stack.pop()\n",
    "                k -= 1\n",
    "                if (not stack) or k <= 0:\n",
    "                    break\n",
    "        stack.append(n)\n",
    "        answer = \"\".join(stack)[:len(stack)-k] #예외처리\n",
    "    return answer"
   ]
  },
  {
   "cell_type": "code",
   "execution_count": 2,
   "id": "b7afb83c",
   "metadata": {},
   "outputs": [
    {
     "name": "stdout",
     "output_type": "stream",
     "text": [
      "94 3234 "
     ]
    }
   ],
   "source": [
    "for number, k in [[\"1924\",2], [\"1231234\",3]]:\n",
    "    print(solution(number, k), end = ' ')"
   ]
  },
  {
   "cell_type": "code",
   "execution_count": 3,
   "id": "b2918811",
   "metadata": {},
   "outputs": [],
   "source": [
    "def solution(number, k):\n",
    "    stack = []\n",
    "    for n in number:\n",
    "        while (stack) and (k>0) and (stack[-1] < n):\n",
    "            stack.pop()\n",
    "            k -= 1\n",
    "        stack.append(n)\n",
    "    answer = \"\".join(stack)[:len(stack)-k]\n",
    "    return answer"
   ]
  },
  {
   "cell_type": "code",
   "execution_count": 4,
   "id": "9b07c977",
   "metadata": {
    "scrolled": true
   },
   "outputs": [
    {
     "name": "stdout",
     "output_type": "stream",
     "text": [
      "94 3234 "
     ]
    }
   ],
   "source": [
    "for number, k in [[\"1924\",2], [\"1231234\",3]]:\n",
    "    print(solution(number, k), end = ' ')"
   ]
  },
  {
   "cell_type": "markdown",
   "id": "55f1bb43",
   "metadata": {},
   "source": [
    "# 풀이 과정 및 주의사항"
   ]
  },
  {
   "cell_type": "markdown",
   "id": "d8d686a4",
   "metadata": {},
   "source": [
    "* 숫자의 위치가 바뀔수는 없으므로 순열로는 풀 수 없다.\n",
    "* 숫자를 하나씩 넣으면서 가장 큰 숫자가 앞으로 올 수 있도록 stack에 쌓인 숫자가 현재 숫자 보다 작으면 stack에서 제거한 뒤 k에서 stack에서 지운 숫자만큼 1씩 차감한다\n",
    "* stack에 있는 모든 숫자가 현재 숫자보다 작으면 다 제거해야 하기 때문에(k가 충분히 클때) while 문을 사용"
   ]
  },
  {
   "cell_type": "markdown",
   "id": "a93a96e8",
   "metadata": {},
   "source": [
    "https://school.programmers.co.kr/learn/courses/30/lessons/42883"
   ]
  }
 ],
 "metadata": {
  "kernelspec": {
   "display_name": "Python 3 (ipykernel)",
   "language": "python",
   "name": "python3"
  },
  "language_info": {
   "codemirror_mode": {
    "name": "ipython",
    "version": 3
   },
   "file_extension": ".py",
   "mimetype": "text/x-python",
   "name": "python",
   "nbconvert_exporter": "python",
   "pygments_lexer": "ipython3",
   "version": "3.9.7"
  }
 },
 "nbformat": 4,
 "nbformat_minor": 5
}
