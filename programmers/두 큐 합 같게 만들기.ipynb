{
 "cells": [
  {
   "cell_type": "markdown",
   "id": "fbd6d190",
   "metadata": {},
   "source": [
    "# 문제"
   ]
  },
  {
   "cell_type": "markdown",
   "id": "aa665cb9",
   "metadata": {},
   "source": [
    "* 길이가 같은 두 개의 큐가 주어집니다. 하나의 큐를 골라 원소를 추출(pop)하고, 추출된 원소를 다른 큐에 집어넣는(insert) 작업을 통해 각 큐의 원소 합이 같도록 만들려고 합니다. 이때 필요한 작업의 최소 횟수를 구하고자 합니다. 한 번의 pop과 한 번의 insert를 합쳐서 작업을 1회 수행한 것으로 간주합니다."
   ]
  },
  {
   "cell_type": "markdown",
   "id": "c21b2be6",
   "metadata": {},
   "source": [
    "* 큐는 먼저 집어넣은 원소가 먼저 나오는 구조입니다. 이 문제에서는 큐를 배열로 표현하며, 원소가 배열 앞쪽에 있을수록 먼저 집어넣은 원소임을 의미합니다. 즉, pop을 하면 배열의 첫 번째 원소가 추출되며, insert를 하면 배열의 끝에 원소가 추가됩니다. 예를 들어 큐 [1, 2, 3, 4]가 주어졌을 때, pop을 하면 맨 앞에 있는 원소 1이 추출되어 [2, 3, 4]가 되며, 이어서 5를 insert하면 [2, 3, 4, 5]가 됩니다."
   ]
  },
  {
   "cell_type": "markdown",
   "id": "41432f6d",
   "metadata": {},
   "source": [
    "* 다음은 두 큐를 나타내는 예시입니다.\n",
    "</br></br>\n",
    "    * queue1 = [3, 2, 7, 2]\n",
    "    * queue2 = [4, 6, 5, 1]"
   ]
  },
  {
   "cell_type": "markdown",
   "id": "ef791f01",
   "metadata": {},
   "source": [
    "* 두 큐에 담긴 모든 원소의 합은 30입니다. 따라서, 각 큐의 합을 15로 만들어야 합니다. 예를 들어, 다음과 같이 2가지 방법이 있습니다.\n",
    "</br></br>\n",
    "    * queue2의 4, 6, 5를 순서대로 추출하여 queue1에 추가한 뒤, queue1의 3, 2, 7, 2를 순서대로 추출하여 queue2에 추가합니다. 그 결과 queue1은 [4, 6, 5], queue2는 [1, 3, 2, 7, 2]가 되며, 각 큐의 원소 합은 15로 같습니다. 이 방법은 작업을 7번 수행합니다.\n",
    "    * queue1에서 3을 추출하여 queue2에 추가합니다. 그리고 queue2에서 4를 추출하여 queue1에 추가합니다. 그 결과 queue1은 [2, 7, 2, 4], queue2는 [6, 5, 1, 3]가 되며, 각 큐의 원소 합은 15로 같습니다. 이 방법은 작업을 2번만 수행하며, 이보다 적은 횟수로 목표를 달성할 수 없습니다."
   ]
  },
  {
   "cell_type": "markdown",
   "id": "e24e92a6",
   "metadata": {},
   "source": [
    "* 따라서 각 큐의 원소 합을 같게 만들기 위해 필요한 작업의 최소 횟수는 2입니다."
   ]
  },
  {
   "cell_type": "markdown",
   "id": "12548eb7",
   "metadata": {},
   "source": [
    "* 길이가 같은 두 개의 큐를 나타내는 정수 배열 queue1, queue2가 매개변수로 주어집니다. 각 큐의 원소 합을 같게 만들기 위해 필요한 작업의 최소 횟수를 return 하도록 solution 함수를 완성해주세요. 단, 어떤 방법으로도 각 큐의 원소 합을 같게 만들 수 없는 경우, -1을 return 해주세요."
   ]
  },
  {
   "cell_type": "markdown",
   "id": "f9ef37cc",
   "metadata": {},
   "source": [
    "# 제한 사항"
   ]
  },
  {
   "cell_type": "markdown",
   "id": "2da597a6",
   "metadata": {},
   "source": [
    "* 1 ≤ queue1의 길이 = queue2의 길이 ≤ 300,000\n",
    "* 1 ≤ queue1의 원소, queue2의 원소 ≤ 109\n",
    "* 주의: 언어에 따라 합 계산 과정 중 산술 오버플로우 발생 가능성이 있으므로 long type 고려가 필요합니다."
   ]
  },
  {
   "cell_type": "markdown",
   "id": "16452081",
   "metadata": {},
   "source": [
    "# 입출력 예시"
   ]
  },
  {
   "cell_type": "markdown",
   "id": "9b026c31",
   "metadata": {},
   "source": [
    "|queue1|queue2|result|\n",
    "|---|---|---|\n",
    "|[3, 2, 7, 2]|[4, 6, 5, 1]|2|\n",
    "|[1, 2, 1, 2]|[1, 10, 1, 2]|7|\n",
    "|[1, 1]|[1, 5]|-1|"
   ]
  },
  {
   "cell_type": "code",
   "execution_count": 1,
   "id": "d3f7e869",
   "metadata": {},
   "outputs": [],
   "source": [
    "from collections import deque\n",
    "def solution(queue1, queue2):\n",
    "    deq1, deq2 = deque(queue1), deque(queue2)\n",
    "    total_1, total_2 = sum(deq1), sum(deq2)\n",
    "    answer = 0\n",
    "    \n",
    "    while (deq1 and deq2) and (answer < len(queue1)*10):\n",
    "        if total_1 > total_2:\n",
    "            num = deq1.popleft()\n",
    "            deq2.append(num)\n",
    "            total_1 -= num\n",
    "            total_2 += num\n",
    "            answer += 1\n",
    "        elif total_1 < total_2:\n",
    "            num = deq2.popleft()\n",
    "            deq1.append(num)\n",
    "            total_2 -= num\n",
    "            total_1 += num\n",
    "            answer += 1\n",
    "        elif total_1 == total_2:\n",
    "            return answer\n",
    "    return -1"
   ]
  },
  {
   "cell_type": "code",
   "execution_count": 2,
   "id": "ab9e927b",
   "metadata": {},
   "outputs": [
    {
     "name": "stdout",
     "output_type": "stream",
     "text": [
      "2 7 -1 "
     ]
    }
   ],
   "source": [
    "for queue1, queue2 in [[[3, 2, 7, 2],[4, 6, 5, 1]],[[1, 2, 1, 2],[1, 10, 1, 2]], [[1, 1],[1, 5]]]:\n",
    "    print(solution(queue1, queue2), end = ' ')"
   ]
  },
  {
   "cell_type": "markdown",
   "id": "55f1bb43",
   "metadata": {},
   "source": [
    "\n",
    "# 풀이 과정 및 주의사항"
   ]
  },
  {
   "cell_type": "markdown",
   "id": "d8d686a4",
   "metadata": {},
   "source": [
    "* queue1의 합이 더 크면 queue2의 맨 앞에 요소를 queue1에 뒤에 추가하고 반대의 경우에는 queue1 맨 앞의 요소를 queue2의 뒤에 추가하면 된다.\n",
    "* total_1, total_2을 갱신하는 과정에서 sum 함수를 사용하면 복잡도가 증가하여 계산 시간이 증가하게 된다. \n",
    "* 두 queue의 합이 같게 될 수 없는 경우, queue1과 queue2가 요소를 무한적으로 반복해서 주고 받는 경우가 생기기 때문에 한 queue의 요소 갯수 * 10번(임의 설정) 정도만 while문을 반복하고 큐의 합이 같아지지 않으면 반복문을 끝내고 -1을 반환한다."
   ]
  },
  {
   "cell_type": "markdown",
   "id": "0d7970bb",
   "metadata": {},
   "source": [
    "https://school.programmers.co.kr/learn/courses/30/lessons/118667"
   ]
  }
 ],
 "metadata": {
  "celltoolbar": "Raw Cell Format",
  "kernelspec": {
   "display_name": "Python 3 (ipykernel)",
   "language": "python",
   "name": "python3"
  },
  "language_info": {
   "codemirror_mode": {
    "name": "ipython",
    "version": 3
   },
   "file_extension": ".py",
   "mimetype": "text/x-python",
   "name": "python",
   "nbconvert_exporter": "python",
   "pygments_lexer": "ipython3",
   "version": "3.9.7"
  }
 },
 "nbformat": 4,
 "nbformat_minor": 5
}
