{
 "cells": [
  {
   "cell_type": "markdown",
   "id": "fbd6d190",
   "metadata": {},
   "source": [
    "# 문제 설명"
   ]
  },
  {
   "cell_type": "markdown",
   "id": "295ec3a5",
   "metadata": {},
   "source": [
    "* 나만의 카카오 성격 유형 검사지를 만들려고 합니다.\n",
    "성격 유형 검사는 다음과 같은 4개 지표로 성격 유형을 구분합니다. 성격은 각 지표에서 두 유형 중 하나로 결정됩니다."
   ]
  },
  {
   "cell_type": "markdown",
   "id": "521360ca",
   "metadata": {},
   "source": [
    "|지표 번호|성격 유형|\n",
    "|---|---|\n",
    "|1번 지표|라이언형(R), 튜브형(T)|\n",
    "|2번 지표|콘형(C), 프로도형(F)|\n",
    "|3번 지표|제이지형(J), 무지형(M)|\n",
    "|4번 지표|어피치형(A), 네오형(N)|"
   ]
  },
  {
   "cell_type": "markdown",
   "id": "25e21ccc",
   "metadata": {},
   "source": [
    "* 4개의 지표가 있으므로 성격 유형은 총 16(=2 x 2 x 2 x 2)가지가 나올 수 있습니다. 예를 들어, \"RFMN\"이나 \"TCMA\"와 같은 성격 유형이 있습니다."
   ]
  },
  {
   "cell_type": "markdown",
   "id": "513dd264",
   "metadata": {},
   "source": [
    "* 검사지에는 총 n개의 질문이 있고, 각 질문에는 아래와 같은 7개의 선택지가 있습니다.\n",
    "    * 매우 비동의\n",
    "    * 비동의\n",
    "    * 약간 비동의\n",
    "    * 모르겠음\n",
    "    * 약간 동의\n",
    "    * 동의\n",
    "    * 매우 동의\n",
    "* 각 질문은 1가지 지표로 성격 유형 점수를 판단합니다."
   ]
  },
  {
   "cell_type": "markdown",
   "id": "636d9187",
   "metadata": {},
   "source": [
    "* 예를 들어, 어떤 한 질문에서 4번 지표로 아래 표처럼 점수를 매길 수 있습니다.\n",
    "|선택지|성격 유형 점수|\n",
    "|---|---|\n",
    "|매우 비동의|네오형 3점|\n",
    "|비동의|네오형 2점|\n",
    "|약간 비동의|네오형 1점|\n",
    "|모르겠음|어떤 성격 유형도 점수를 얻지 않습니다|\n",
    "|약간 동의|어피치형 1점|\n",
    "|동의|어피치형 2점|\n",
    "|매우 동의|어피치형 3점|"
   ]
  },
  {
   "cell_type": "markdown",
   "id": "777e20b2",
   "metadata": {},
   "source": [
    "* 이때 검사자가 질문에서 약간 동의 선택지를 선택할 경우 어피치형(A) 성격 유형 1점을 받게 됩니다. 만약 검사자가 매우 비동의 선택지를 선택할 경우 네오형(N) 성격 유형 3점을 받게 됩니다."
   ]
  },
  {
   "cell_type": "markdown",
   "id": "a27ec2dd",
   "metadata": {},
   "source": [
    "* 위 예시처럼 네오형이 비동의, 어피치형이 동의인 경우만 주어지지 않고, 질문에 따라 네오형이 동의, 어피치형이 비동의인 경우도 주어질 수 있습니다."
   ]
  },
  {
   "cell_type": "markdown",
   "id": "1d3eafa5",
   "metadata": {},
   "source": [
    "* 하지만 각 선택지는 고정적인 크기의 점수를 가지고 있습니다.\n",
    "    * 매우 동의나 매우 비동의 선택지를 선택하면 3점을 얻습니다.\n",
    "    * 동의나 비동의 선택지를 선택하면 2점을 얻습니다.\n",
    "    * 약간 동의나 약간 비동의 선택지를 선택하면 1점을 얻습니다.\n",
    "    * 모르겠음 선택지를 선택하면 점수를 얻지 않습니다"
   ]
  },
  {
   "cell_type": "markdown",
   "id": "629758e9",
   "metadata": {},
   "source": [
    "* 검사 결과는 모든 질문의 성격 유형 점수를 더하여 각 지표에서 더 높은 점수를 받은 성격 유형이 검사자의 성격 유형이라고 판단합니다. 단, 하나의 지표에서 각 성격 유형 점수가 같으면, 두 성격 유형 중 사전 순으로 빠른 성격 유형을 검사자의 성격 유형이라고 판단합니다."
   ]
  },
  {
   "cell_type": "markdown",
   "id": "e1c5c85c",
   "metadata": {},
   "source": [
    "* 질문마다 판단하는 지표를 담은 1차원 문자열 배열 survey와 검사자가 각 질문마다 선택한 선택지를 담은 1차원 정수 배열 choices가 매개변수로 주어집니다. 이때, 검사자의 성격 유형 검사 결과를 지표 번호 순서대로 return 하도록 solution 함수를 완성해주세요."
   ]
  },
  {
   "cell_type": "markdown",
   "id": "b56a4179",
   "metadata": {},
   "source": [
    "# 제한사항"
   ]
  },
  {
   "cell_type": "markdown",
   "id": "229fc3aa",
   "metadata": {},
   "source": [
    "* 1 ≤ survey의 길이 ( = n) ≤ 1,000\n",
    "    * survey의 원소는 \"RT\", \"TR\", \"FC\", \"CF\", \"MJ\", \"JM\", \"AN\", \"NA\" 중 하나입니다.\n",
    "    * survey[i]의 첫 번째 캐릭터는 i+1번 질문의 비동의 관련 선택지를 선택하면 받는 성격 유형을 의미합니다.\n",
    "    * survey[i]의 두 번째 캐릭터는 i+1번 질문의 동의 관련 선택지를 선택하면 받는 성격 유형을 의미합니다.\n",
    "* choices의 길이 = survey의 길이\n",
    "    * choices[i]는 검사자가 선택한 i+1번째 질문의 선택지를 의미합니다.\n",
    "    * 1 ≤ choices의 원소 ≤ 7\n",
    "\n",
    "|choices|뜻|\n",
    "|---|---|\n",
    "|1|매우 비동의|\n",
    "|2|비동의|\n",
    "|3|약간 비동의|\n",
    "|4|모르겠음|\n",
    "|5|약간 동의|\n",
    "|6|동의|\n",
    "|7|매우 동의|"
   ]
  },
  {
   "cell_type": "markdown",
   "id": "16452081",
   "metadata": {},
   "source": [
    "# 입출력 예시"
   ]
  },
  {
   "cell_type": "markdown",
   "id": "9b026c31",
   "metadata": {},
   "source": [
    "|survey|choices|result|\n",
    "|---|---|---|\n",
    "|[\"AN\", \"CF\", \"MJ\", \"RT\", \"NA\"]|[5, 3, 2, 7, 5]|\"TCMA\"|\n",
    "|[\"TR\", \"RT\", \"TR\"]|[7, 1, 3]|\"RCJA\"|"
   ]
  },
  {
   "cell_type": "code",
   "execution_count": 1,
   "id": "d3f7e869",
   "metadata": {},
   "outputs": [],
   "source": [
    "def solution(survey, choices):\n",
    "    dict_char = {'R': 0, 'T': 0, 'C':0, 'F':0, 'J':0, 'M':0, 'A':0, 'N':0}\n",
    "    for char, score in zip(survey, choices):\n",
    "        if score < 4:\n",
    "            dict_char[char[0]] += (4-score)\n",
    "        elif score > 4:\n",
    "            dict_char[char[1]] += (score - 4)\n",
    "    \n",
    "    result_survey = list(dict_char.items())\n",
    "    \n",
    "    answer = ''\n",
    "    for i in range(0, len(result_survey), 2):\n",
    "        if result_survey[i][1] > result_survey[i+1][1]:\n",
    "            answer += result_survey[i][0]\n",
    "        elif result_survey[i][1] < result_survey[i+1][1]:\n",
    "            answer += result_survey[i+1][0]\n",
    "        elif result_survey[i][1] == result_survey[i+1][1]:\n",
    "            answer += sorted([result_survey[i][0], result_survey[i+1][0]])[0]\n",
    "    \n",
    "    return answer"
   ]
  },
  {
   "cell_type": "code",
   "execution_count": 2,
   "id": "d3982ae6",
   "metadata": {},
   "outputs": [
    {
     "name": "stdout",
     "output_type": "stream",
     "text": [
      "TCMA\n",
      "RCJA\n"
     ]
    }
   ],
   "source": [
    "for survey, choices in [[[\"AN\", \"CF\", \"MJ\", \"RT\", \"NA\"], [5, 3, 2, 7, 5]],\n",
    "                [[\"TR\", \"RT\", \"TR\"], [7, 1, 3]]]:\n",
    "    print(solution(survey, choices))"
   ]
  },
  {
   "cell_type": "markdown",
   "id": "a76a6800",
   "metadata": {},
   "source": [
    "# 풀이 과정 및 주의사항"
   ]
  },
  {
   "cell_type": "markdown",
   "id": "641c1f09",
   "metadata": {},
   "source": [
    "* dictionary에 성격유형을 순서대로 저장해 놓은 후(모든 질문은 하나의 지표에서 나오므로) for문을 이용하여 설문, 점수를 받아서 dictation 내의 맞는 성격에 점수를 더해준다.\n",
    "* dictionary 내의 자료를 items()함수를 이용해 튜플 형식으로 리스트에 저장한 뒤, for문을 이용해 2개씩 받아오면서, 점수가 더 높은 성격 유형을 answer에 더해주면 된다. 점수가 같을 경우는 sorted를 활용하여 정렬 후 알파벳 순서가 더 빠른 것을 answer에 더해준다."
   ]
  },
  {
   "cell_type": "markdown",
   "id": "0d7970bb",
   "metadata": {},
   "source": [
    "https://school.programmers.co.kr/learn/courses/30/lessons/118666"
   ]
  }
 ],
 "metadata": {
  "celltoolbar": "Raw Cell Format",
  "kernelspec": {
   "display_name": "Python 3 (ipykernel)",
   "language": "python",
   "name": "python3"
  },
  "language_info": {
   "codemirror_mode": {
    "name": "ipython",
    "version": 3
   },
   "file_extension": ".py",
   "mimetype": "text/x-python",
   "name": "python",
   "nbconvert_exporter": "python",
   "pygments_lexer": "ipython3",
   "version": "3.9.7"
  }
 },
 "nbformat": 4,
 "nbformat_minor": 5
}
