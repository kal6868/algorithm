{
 "cells": [
  {
   "cell_type": "markdown",
   "id": "fbd6d190",
   "metadata": {},
   "source": [
    "# 문제"
   ]
  },
  {
   "cell_type": "markdown",
   "id": "aa665cb9",
   "metadata": {},
   "source": [
    "* 괄호가 바르게 짝지어졌다는 것은 '(' 문자로 열렸으면 반드시 짝지어서 ')' 문자로 닫혀야 한다는 뜻입니다. 예를 들어\n",
    "    * \"()()\" 또는 \"(())()\" 는 올바른 괄호입니다.\n",
    "    * \")()(\" 또는 \"(()(\" 는 올바르지 않은 괄호입니다.\n",
    "* '(' 또는 ')' 로만 이루어진 문자열 s가 주어졌을 때, 문자열 s가 올바른 괄호이면 true를 return 하고, 올바르지 않은 괄호이면 false를 return 하는 solution 함수를 완성해 주세요."
   ]
  },
  {
   "cell_type": "markdown",
   "id": "93c69f28",
   "metadata": {},
   "source": [
    "# 제한 조건"
   ]
  },
  {
   "cell_type": "markdown",
   "id": "ebf4c872",
   "metadata": {},
   "source": [
    "* 문자열 s의 길이 : 100,000 이하의 자연수\n",
    "* 문자열 s는 '(' 또는 ')' 로만 이루어져 있습니다."
   ]
  },
  {
   "cell_type": "code",
   "execution_count": 1,
   "id": "b2918811",
   "metadata": {},
   "outputs": [],
   "source": [
    "def solution(s):\n",
    "    list = []\n",
    "    for i in s:\n",
    "        if i == '(':\n",
    "            list.append(i)\n",
    "        else:\n",
    "            try:\n",
    "                list.pop()\n",
    "            except:\n",
    "                return False\n",
    "    if len(list) == 0:\n",
    "        return True\n",
    "    else :\n",
    "        return False"
   ]
  },
  {
   "cell_type": "code",
   "execution_count": 2,
   "id": "9b07c977",
   "metadata": {},
   "outputs": [
    {
     "data": {
      "text/plain": [
       "False"
      ]
     },
     "execution_count": 2,
     "metadata": {},
     "output_type": "execute_result"
    }
   ],
   "source": [
    "solution('((((')"
   ]
  },
  {
   "cell_type": "code",
   "execution_count": null,
   "id": "35854109",
   "metadata": {},
   "outputs": [],
   "source": []
  },
  {
   "cell_type": "markdown",
   "id": "55f1bb43",
   "metadata": {},
   "source": [
    "# 풀이 과정 및 주의사항"
   ]
  },
  {
   "cell_type": "markdown",
   "id": "6efca741",
   "metadata": {},
   "source": [
    "* 예) '()()()()()()())())()' 형식으로 들어온 괄호는 index로 slicing을 시킨다.( '()()'[0] == '(' )\n",
    "* 괄호 시작( '(' ) 인 경우는 list에 추가한다.\n",
    "* 괄호 닫기( ')' ) 인 경우 pop 함수를 사용해서 list의 마지막 요소를 제거한다.\n",
    "* 맨 처음 문자열이 ')' 인 경우는 리스트에 요소가 존재하지 않아  ValueError가 발생하므로 try ~ except~ 함수로 예외 처리를 한다.\n",
    "* 맨 마지막 문자열이 ')' 경우에도 리스트에 요소가 존재하지 않아ValueError가 발생한다.\n",
    "* 위의 두 경우는 올바른 괄호가 입력 된 경우가 아니기 떄문에 False를 반환한다.\n",
    "* list.pop() 대신 list.remove(')')를 적용해 보았으나 시간 초과로 통과하지 못하였다.\n",
    "* '(' 괄호의 개수와 ')'괄호의 개수가 동일하다면 list에 남은 요소가 없으므로 list의 길이는 0이며 True를 반환한다.\n",
    "* list 내부에 요소가 한개라도 남아 있다면, 괄호의 갯수가 동일하지 않다는 의미이므로 False를 반환한다."
   ]
  },
  {
   "cell_type": "markdown",
   "id": "a93a96e8",
   "metadata": {},
   "source": [
    "https://school.programmers.co.kr/learn/courses/30/lessons/12909"
   ]
  }
 ],
 "metadata": {
  "kernelspec": {
   "display_name": "Python 3 (ipykernel)",
   "language": "python",
   "name": "python3"
  },
  "language_info": {
   "codemirror_mode": {
    "name": "ipython",
    "version": 3
   },
   "file_extension": ".py",
   "mimetype": "text/x-python",
   "name": "python",
   "nbconvert_exporter": "python",
   "pygments_lexer": "ipython3",
   "version": "3.9.7"
  }
 },
 "nbformat": 4,
 "nbformat_minor": 5
}
