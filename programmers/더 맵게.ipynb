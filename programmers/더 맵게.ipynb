{
 "cells": [
  {
   "cell_type": "markdown",
   "id": "fbd6d190",
   "metadata": {},
   "source": [
    "# 문제"
   ]
  },
  {
   "cell_type": "markdown",
   "id": "aa665cb9",
   "metadata": {},
   "source": [
    "* 매운 것을 좋아하는 Leo는 모든 음식의 스코빌 지수를 K 이상으로 만들고 싶습니다. 모든 음식의 스코빌 지수를 K 이상으로 만들기 위해 Leo는 스코빌 지수가 가장 낮은 두 개의 음식을 아래와 같이 특별한 방법으로 섞어 새로운 음식을 만듭니다.\n",
    "<br/><br/>\n",
    "     * 섞은 음식의 스코빌 지수 = 가장 맵지 않은 음식의 스코빌 지수 + (두 번째로 맵지 않은 음식의 스코빌 지수 * 2)"
   ]
  },
  {
   "cell_type": "markdown",
   "id": "fce8d453",
   "metadata": {},
   "source": [
    "* Leo는 모든 음식의 스코빌 지수가 K 이상이 될 때까지 반복하여 섞습니다."
   ]
  },
  {
   "cell_type": "markdown",
   "id": "42b9a6b2",
   "metadata": {},
   "source": [
    "* Leo가 가진 음식의 스코빌 지수를 담은 배열 scoville과 원하는 스코빌 지수 K가 주어질 때, 모든 음식의 스코빌 지수를 K 이상으로 만들기 위해 섞어야 하는 최소 횟수를 return 하도록 solution 함수를 작성해주세요."
   ]
  },
  {
   "cell_type": "markdown",
   "id": "be064c2f",
   "metadata": {},
   "source": [
    "# 제한사항"
   ]
  },
  {
   "cell_type": "markdown",
   "id": "c4d677a4",
   "metadata": {},
   "source": [
    "* scoville의 길이는 2 이상 1,000,000 이하입니다.\n",
    "* K는 0 이상 1,000,000,000 이하입니다.\n",
    "* scoville의 원소는 각각 0 이상 1,000,000 이하입니다.\n",
    "* 모든 음식의 스코빌 지수를 K 이상으로 만들 수 없는 경우에는 -1을 return 합니다."
   ]
  },
  {
   "cell_type": "markdown",
   "id": "16452081",
   "metadata": {},
   "source": [
    "# 입출력 예시"
   ]
  },
  {
   "cell_type": "markdown",
   "id": "9b026c31",
   "metadata": {},
   "source": [
    "|scoville|K|return|\n",
    "|---|---|---|\n",
    "|[1, 2, 3, 9, 10, 12]|7|2|"
   ]
  },
  {
   "cell_type": "code",
   "execution_count": 1,
   "id": "b2918811",
   "metadata": {},
   "outputs": [],
   "source": [
    "import heapq\n",
    "\n",
    "def solution(scoville, K):\n",
    "    scoville.sort()\n",
    "    heapq.heapify(scoville)\n",
    "    answer = 0\n",
    "\n",
    "    while scoville[0] <= K:\n",
    "        if len(scoville) == 1:\n",
    "            return -1\n",
    "        a=heapq.heappop(scoville)\n",
    "        b=heapq.heappop(scoville)\n",
    "        heapq.heappush(scoville,a+b*2)\n",
    "\n",
    "        answer += 1\n",
    "\n",
    "    return answer"
   ]
  },
  {
   "cell_type": "code",
   "execution_count": 2,
   "id": "9b07c977",
   "metadata": {
    "scrolled": true
   },
   "outputs": [
    {
     "name": "stdout",
     "output_type": "stream",
     "text": [
      "2\n"
     ]
    }
   ],
   "source": [
    "print(solution([1, 2, 3, 9, 10, 12], 7))"
   ]
  },
  {
   "cell_type": "code",
   "execution_count": 3,
   "id": "24938287",
   "metadata": {},
   "outputs": [],
   "source": [
    "from collections import deque\n",
    "def solution(scoville, K):\n",
    "    \n",
    "    answer = 0\n",
    "    q_scov = deque(sorted(scoville))\n",
    "    q_mixed = deque()\n",
    "    \n",
    "    while (q_scov and q_scov[0] < K) or (q_mixed and q_mixed[0] < K):\n",
    "        answer += 1\n",
    "        if len(q_scov) + len(q_mixed) <= 1:\n",
    "            return -1\n",
    "        \n",
    "        bag = [0, 0]\n",
    "        for i in range(2):\n",
    "            if q_scov and q_mixed:\n",
    "                if q_scov[0] < q_mixed[0]:\n",
    "                    bag[i] = q_scov.popleft()\n",
    "                else:\n",
    "                    bag[i] = q_mixed.popleft()\n",
    "            elif q_scov:\n",
    "                bag[i] = q_scov.popleft()\n",
    "            else:\n",
    "                bag[i] = q_mixed.popleft()\n",
    "            \n",
    "        q_mixed.append(bag[0] + bag[1]*2)\n",
    "    return answer"
   ]
  },
  {
   "cell_type": "code",
   "execution_count": 4,
   "id": "39adf449",
   "metadata": {},
   "outputs": [
    {
     "name": "stdout",
     "output_type": "stream",
     "text": [
      "2\n"
     ]
    }
   ],
   "source": [
    "print(solution([1, 2, 3, 9, 10, 12], 7))"
   ]
  },
  {
   "cell_type": "markdown",
   "id": "55f1bb43",
   "metadata": {},
   "source": [
    "# 풀이 과정 및 주의사항"
   ]
  },
  {
   "cell_type": "markdown",
   "id": "6efca741",
   "metadata": {},
   "source": [
    "## heap\n",
    "\n",
    "* scoville을 정렬 후 heap에 넣은 후 앞에 2개 요소를 꺼낸 뒤(최소값) a + b*2의 연산을 반복하여 최소 스코빌이 K 이상이 될 때까지의 횟수를 센다.\n",
    "* heap을 사용하는 경우 요소가 추가나 제거 될 때마다 항상 최소 값이 맨 앞으로 위치하게 되므로 내부 값의 정렬을 고려 할 필요가 없다."
   ]
  },
  {
   "cell_type": "markdown",
   "id": "22864a79",
   "metadata": {},
   "source": [
    "## deque\n",
    "\n",
    "* deque를 사용하는 경우 새로 들어가는 요소가 scovile의 맨 앞의 요소보다 클 수가 있어 해당 사항을 고려하여야 한다.\n",
    "* for 문을 사용하여 scoville의 맨 앞에 요소가 계산된 mixed보다 크면 bag 리스트에 mixed를 먼저 넣고, 그렇지 않은 경우 scoville을 bag에 넣어서 항상 [작은값, 큰 값]의 형태를 유지하여 정렬을 구현한 뒤 새로운 mixed를 계속해서 계산한다."
   ]
  },
  {
   "cell_type": "markdown",
   "id": "a93a96e8",
   "metadata": {},
   "source": [
    "https://school.programmers.co.kr/learn/courses/30/lessons/42626"
   ]
  }
 ],
 "metadata": {
  "kernelspec": {
   "display_name": "Python 3 (ipykernel)",
   "language": "python",
   "name": "python3"
  },
  "language_info": {
   "codemirror_mode": {
    "name": "ipython",
    "version": 3
   },
   "file_extension": ".py",
   "mimetype": "text/x-python",
   "name": "python",
   "nbconvert_exporter": "python",
   "pygments_lexer": "ipython3",
   "version": "3.9.12"
  }
 },
 "nbformat": 4,
 "nbformat_minor": 5
}
