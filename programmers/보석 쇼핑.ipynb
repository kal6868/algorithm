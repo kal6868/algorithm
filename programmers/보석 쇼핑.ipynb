{
 "cells": [
  {
   "cell_type": "markdown",
   "id": "fbd6d190",
   "metadata": {},
   "source": [
    "# 문제 설명"
   ]
  },
  {
   "cell_type": "markdown",
   "id": "295ec3a5",
   "metadata": {},
   "source": [
    "* 개발자 출신으로 세계 최고의 갑부가 된 어피치는 스트레스를 받을 때면 이를 풀기 위해 오프라인 매장에 쇼핑을 하러 가곤 합니다. 어피치는 쇼핑을 할 때면 매장 진열대의 특정 범위의 물건들을 모두 싹쓸이 구매하는 습관이 있습니다."
   ]
  },
  {
   "cell_type": "markdown",
   "id": "41d65362",
   "metadata": {},
   "source": [
    "* 어느 날 스트레스를 풀기 위해 보석 매장에 쇼핑을 하러 간 어피치는 이전처럼 진열대의 특정 범위의 보석을 모두 구매하되 특별히 아래 목적을 달성하고 싶었습니다.\n",
    "    * 진열된 모든 종류의 보석을 적어도 1개 이상 포함하는 가장 짧은 구간을 찾아서 구매"
   ]
  },
  {
   "cell_type": "markdown",
   "id": "c60232ba",
   "metadata": {},
   "source": [
    "* 예를 들어 아래 진열대는 4종류의 보석(RUBY, DIA, EMERALD, SAPPHIRE) 8개가 진열된 예시입니다.\n",
    "\n",
    "|||||||||\n",
    "|---|---|---|---|---|---|---|---|\n",
    "|진열대 번호|1|2|3|4|5|6|7|8|\n",
    "|보석 이름|DIA|RUBY|RUBY|DIA|DIA|EMERALD|SAPPHIRE|DIA|\n",
    "\n",
    "* 진열대의 3번부터 7번까지 5개의 보석을 구매하면 모든 종류의 보석을 적어도 하나 이상씩 포함하게 됩니다.\n",
    "* 진열대의 3, 4, 6, 7번의 보석만 구매하는 것은 중간에 특정 구간(5번)이 빠지게 되므로 어피치의 쇼핑 습관에 맞지 않습니다."
   ]
  },
  {
   "cell_type": "markdown",
   "id": "8528f009",
   "metadata": {},
   "source": [
    " * 진열대 번호 순서대로 보석들의 이름이 저장된 배열 gems가 매개변수로 주어집니다. 이때 모든 보석을 하나 이상 포함하는 가장 짧은 구간을 찾아서 return 하도록 solution 함수를 완성해주세요."
   ]
  },
  {
   "cell_type": "markdown",
   "id": "9f2efcf9",
   "metadata": {},
   "source": [
    " * 가장 짧은 구간의 시작 진열대 번호와 끝 진열대 번호를 차례대로 배열에 담아서 return 하도록 하며, 만약 가장 짧은 구간이 여러 개라면 시작 진열대 번호가 가장 작은 구간을 return 합니다."
   ]
  },
  {
   "cell_type": "markdown",
   "id": "ff6efbd2",
   "metadata": {},
   "source": [
    " # 제한 사항"
   ]
  },
  {
   "cell_type": "markdown",
   "id": "160863cb",
   "metadata": {},
   "source": [
    "* gems 배열의 크기는 1 이상 100,000 이하입니다.\n",
    "* gems 배열의 각 원소는 진열대에 나열된 보석을 나타냅니다.\n",
    "* gems 배열에는 1번 진열대부터 진열대 번호 순서대로 보석이름이 차례대로 저장되어 있습니다.\n",
    "* gems 배열의 각 원소는 길이가 1 이상 10 이하인 알파벳 대문자로만 구성된 문자열입니다."
   ]
  },
  {
   "cell_type": "markdown",
   "id": "16452081",
   "metadata": {},
   "source": [
    "# 입출력 예"
   ]
  },
  {
   "cell_type": "markdown",
   "id": "9b026c31",
   "metadata": {},
   "source": [
    "|gems|result|\n",
    "|---|---|\n",
    "|[\"DIA\", \"RUBY\", \"RUBY\", \"DIA\", \"DIA\", \"EMERALD\", \"SAPPHIRE\", \"DIA\"]|[3, 7]|\n",
    "|[\"AA\", \"AB\", \"AC\", \"AA\", \"AC\"]|[1, 3]|\n",
    "|[\"XYZ\", \"XYZ\", \"XYZ\"]|[1, 1]|\n",
    "|[\"ZZZ\", \"YYY\", \"NNNN\", \"YYY\", \"BBB\"]|[1, 5]|"
   ]
  },
  {
   "cell_type": "code",
   "execution_count": 2,
   "id": "9570e5c7",
   "metadata": {},
   "outputs": [],
   "source": [
    "# 시간초과\n",
    "from collections import Counter\n",
    "def solution(gems):\n",
    "    min_ran = len(set(gems))\n",
    "    answer = []\n",
    "    \n",
    "    while min_ran <= len(gems):\n",
    "        for ran in range(0, (len(gems) - min_ran) + 1, 1):\n",
    "            shopping = len(set(gems[ran:(ran + min_ran)]))\n",
    "            \n",
    "            if shopping == len(set(gems)):\n",
    "                for r in [ran+1, ran+min_ran]:\n",
    "                    answer.append(r)\n",
    "\n",
    "        if not answer:\n",
    "            min_ran += 1\n",
    "        else:\n",
    "            break\n",
    "    return answer[:2]"
   ]
  },
  {
   "cell_type": "code",
   "execution_count": 3,
   "id": "4411ccbc",
   "metadata": {},
   "outputs": [
    {
     "name": "stdout",
     "output_type": "stream",
     "text": [
      "[3, 7]\n",
      "[1, 3]\n",
      "[1, 1]\n",
      "[1, 5]\n"
     ]
    }
   ],
   "source": [
    "for gems in [[\"DIA\", \"RUBY\", \"RUBY\", \"DIA\", \"DIA\", \"EMERALD\", \"SAPPHIRE\", \"DIA\"],\n",
    "                            [\"AA\", \"AB\", \"AC\", \"AA\", \"AC\"],\n",
    "                            [\"XYZ\", \"XYZ\", \"XYZ\"],\n",
    "                            [\"ZZZ\", \"YYY\", \"NNNN\", \"YYY\", \"BBB\"]]:\n",
    "    print(solution(gems))"
   ]
  },
  {
   "cell_type": "markdown",
   "id": "a76a6800",
   "metadata": {},
   "source": [
    "# 풀이 과정 및 주의사항"
   ]
  },
  {
   "cell_type": "markdown",
   "id": "535c658a",
   "metadata": {},
   "source": [
    "###  시간초과 풀이"
   ]
  },
  {
   "cell_type": "markdown",
   "id": "641c1f09",
   "metadata": {},
   "source": [
    "\n",
    "* 보석의 종류만큼 최소 범위를 구하고 gems List를 순서대로 탐색하여 최소 범위 안에 모든 보석 종류가 없으면 최소 범위를 1추가해서 모든 종류의 보석이 포함될 때까지 반복한다."
   ]
  },
  {
   "cell_type": "markdown",
   "id": "0d7970bb",
   "metadata": {},
   "source": [
    "https://school.programmers.co.kr/learn/courses/30/lessons/67258"
   ]
  }
 ],
 "metadata": {
  "celltoolbar": "Raw Cell Format",
  "kernelspec": {
   "display_name": "Python 3 (ipykernel)",
   "language": "python",
   "name": "python3"
  },
  "language_info": {
   "codemirror_mode": {
    "name": "ipython",
    "version": 3
   },
   "file_extension": ".py",
   "mimetype": "text/x-python",
   "name": "python",
   "nbconvert_exporter": "python",
   "pygments_lexer": "ipython3",
   "version": "3.9.7"
  }
 },
 "nbformat": 4,
 "nbformat_minor": 5
}
