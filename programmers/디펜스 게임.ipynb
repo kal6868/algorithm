{
 "cells": [
  {
   "cell_type": "markdown",
   "id": "fbd6d190",
   "metadata": {},
   "source": [
    "# 문제 설명"
   ]
  },
  {
   "cell_type": "markdown",
   "id": "aa665cb9",
   "metadata": {},
   "source": [
    "* 준호는 요즘 디펜스 게임에 푹 빠져 있습니다. 디펜스 게임은 준호가 보유한 병사 n명으로 연속되는 적의 공격을 순서대로 막는 게임입니다. 디펜스 게임은 다음과 같은 규칙으로 진행됩니다.\n",
    "    * 준호는 처음에 병사 n명을 가지고 있습니다.\n",
    "    * 매 라운드마다 enemy[i]마리의 적이 등장합니다.\n",
    "    * 남은 병사 중 enemy[i]명 만큼 소모하여 enemy[i]마리의 적을 막을 수 있습니다.\n",
    "        * 예를 들어 남은 병사가 7명이고, 적의 수가 2마리인 경우, 현재 라운드를 막으면 7 - 2 = 5명의 병사가 남습니다.\n",
    "        * 남은 병사의 수보다 현재 라운드의 적의 수가 더 많으면 게임이 종료됩니다.\n",
    "    * 게임에는 무적권이라는 스킬이 있으며, 무적권을 사용하면 병사의 소모없이 한 라운드의 공격을 막을 수 있습니다.\n",
    "    * 무적권은 최대 k번 사용할 수 있습니다."
   ]
  },
  {
   "cell_type": "markdown",
   "id": "c7d26bc5",
   "metadata": {},
   "source": [
    "* 준호는 무적권을 적절한 시기에 사용하여 최대한 많은 라운드를 진행하고 싶습니다."
   ]
  },
  {
   "cell_type": "markdown",
   "id": "692f9e8e",
   "metadata": {},
   "source": [
    "* 준호가 처음 가지고 있는 병사의 수 n, 사용 가능한 무적권의 횟수 k, 매 라운드마다 공격해오는 적의 수가 순서대로 담긴 정수 배열 enemy가 매개변수로 주어집니다. 준호가 몇 라운드까지 막을 수 있는지 return 하도록 solution 함수를 완성해주세요."
   ]
  },
  {
   "cell_type": "markdown",
   "id": "93c69f28",
   "metadata": {},
   "source": [
    "# 제한 사항"
   ]
  },
  {
   "cell_type": "markdown",
   "id": "ebf4c872",
   "metadata": {},
   "source": [
    "* 1 ≤ n ≤ 1,000,000,000\n",
    "* 1 ≤ k ≤ 500,000\n",
    "* 1 ≤ enemy의 길이 ≤ 1,000,000\n",
    "* 1 ≤ enemy[i] ≤ 1,000,000\n",
    "* enemy[i]에는 i + 1 라운드에서 공격해오는 적의 수가 담겨있습니다.\n",
    "* 모든 라운드를 막을 수 있는 경우에는 enemy[i]의 길이를 return 해주세요.\n"
   ]
  },
  {
   "cell_type": "markdown",
   "id": "32feb63e",
   "metadata": {},
   "source": [
    "# 입출력 예"
   ]
  },
  {
   "cell_type": "markdown",
   "id": "f8d4a178",
   "metadata": {},
   "source": [
    "|n|k|enemy|result|\n",
    "|---|---|---|---|\n",
    "|7|3|[4, 2, 4, 5, 3, 3, 1]|5|\n",
    "|2|4|[3, 3, 3, 3]|4|"
   ]
  },
  {
   "cell_type": "code",
   "execution_count": 3,
   "id": "b2918811",
   "metadata": {},
   "outputs": [],
   "source": [
    "from heapq import heappop, heappush\n",
    "def solution(n, k, enemy):\n",
    "    answer = 0\n",
    "    heap_enemy = []\n",
    "    \n",
    "    for stage in enemy:\n",
    "        heappush(heap_enemy, -stage)\n",
    "        \n",
    "        if n >= stage:\n",
    "            n -= stage\n",
    "            answer += 1\n",
    "        else:\n",
    "            if k:\n",
    "                n += -heappop(heap_enemy)-stage\n",
    "                k -= 1\n",
    "                answer += 1\n",
    "            else:\n",
    "                break\n",
    "    \n",
    "    return answer"
   ]
  },
  {
   "cell_type": "code",
   "execution_count": 5,
   "id": "9b07c977",
   "metadata": {},
   "outputs": [
    {
     "name": "stdout",
     "output_type": "stream",
     "text": [
      "5\n",
      "4\n"
     ]
    }
   ],
   "source": [
    "for n, k, enemy in [[7, 3, [4, 2, 4, 5, 3, 3, 1]], [2, 4, [3, 3, 3, 3]]]:\n",
    "    print(solution(n, k, enemy))"
   ]
  },
  {
   "cell_type": "markdown",
   "id": "55f1bb43",
   "metadata": {},
   "source": [
    "# 풀이 과정 및 주의사항"
   ]
  },
  {
   "cell_type": "markdown",
   "id": "6efca741",
   "metadata": {},
   "source": [
    "* 병사의 수(n)에서 라운드 마다 공격해오는 적의 수(stage)를 빼면서, n보다 stage가 클 때, 무적권(k)가 있으면 지나온 라운드 중에 가장 적이 많은 라운드(지난 stage 중 최대 값)에 무적권을 사용했다고 가정하고, 해당 값을 다시 더한 뒤 지금의 stage를 빼면 된다.\n",
    "* heap의 성질을 이용해서 최대 값이 맨 앞의 요소에 위치할 수 있는 최대 힙을 만든다. python의 heapq는 가장 작은 요소를 항상 맨 앞의 요소로 최신화 하므로 각 요소에 -1을 곱하면 가장 큰 수가 맨 앞에 오게 된다.\n",
    "* heapq를 사용하는 이유 : 지나 온 라운드의 적의 수(stage)를 가장 빠른 방법으로 찾기 위해서"
   ]
  },
  {
   "cell_type": "markdown",
   "id": "a93a96e8",
   "metadata": {},
   "source": [
    "https://school.programmers.co.kr/learn/courses/30/lessons/142085"
   ]
  }
 ],
 "metadata": {
  "kernelspec": {
   "display_name": "Python 3 (ipykernel)",
   "language": "python",
   "name": "python3"
  },
  "language_info": {
   "codemirror_mode": {
    "name": "ipython",
    "version": 3
   },
   "file_extension": ".py",
   "mimetype": "text/x-python",
   "name": "python",
   "nbconvert_exporter": "python",
   "pygments_lexer": "ipython3",
   "version": "3.9.7"
  }
 },
 "nbformat": 4,
 "nbformat_minor": 5
}
