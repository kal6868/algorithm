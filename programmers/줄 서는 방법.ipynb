{
 "cells": [
  {
   "cell_type": "markdown",
   "id": "fbd6d190",
   "metadata": {},
   "source": [
    "# 문제"
   ]
  },
  {
   "cell_type": "markdown",
   "id": "aa665cb9",
   "metadata": {},
   "source": [
    "* n명의 사람이 일렬로 줄을 서고 있습니다. n명의 사람들에게는 각각 1번부터 n번까지 번호가 매겨져 있습니다. n명이 사람을 줄을 서는 방법은 여러가지 방법이 있습니다. 예를 들어서 3명의 사람이 있다면 다음과 같이 6개의 방법이 있습니다.\n",
    "    * [1, 2, 3]\n",
    "    * [1, 3, 2]\n",
    "    * [2, 1, 3]\n",
    "    * [2, 3, 1]\n",
    "    * [3, 1, 2]\n",
    "    * [3, 2, 1]\n",
    "* 사람의 수 n과, 자연수 k가 주어질 때, 사람을 나열 하는 방법을 사전 순으로 나열 했을 때, k번째 방법을 return하는 solution 함수를 완성해주세요."
   ]
  },
  {
   "cell_type": "markdown",
   "id": "be064c2f",
   "metadata": {},
   "source": [
    "# 제한사항"
   ]
  },
  {
   "cell_type": "markdown",
   "id": "c4d677a4",
   "metadata": {},
   "source": [
    "* n은 20이하의 자연수 입니다.\n",
    "* k는 n! 이하의 자연수 입니다."
   ]
  },
  {
   "cell_type": "markdown",
   "id": "16452081",
   "metadata": {},
   "source": [
    "# 입출력 예시"
   ]
  },
  {
   "cell_type": "markdown",
   "id": "9b026c31",
   "metadata": {},
   "source": [
    "|n|k|result|\n",
    "|---|---|---|\n",
    "|3|5|[3,1,2]|\n",
    "\n"
   ]
  },
  {
   "cell_type": "code",
   "execution_count": 1,
   "id": "d3f7e869",
   "metadata": {},
   "outputs": [],
   "source": [
    "def solution(n, k):\n",
    "    answer = []\n",
    "    num_list = [i for i in range(1, n+1)]\n",
    "    k -= 1\n",
    "    while n:\n",
    "        #factorial\n",
    "        temp = 1\n",
    "        for f in range(1,n):\n",
    "            temp *= f\n",
    "        \n",
    "        index = k // temp\n",
    "        k = k % temp\n",
    "        \n",
    "        answer.append(num_list.pop(index))\n",
    "        n -= 1\n",
    "    return answer"
   ]
  },
  {
   "cell_type": "code",
   "execution_count": 2,
   "id": "ab9e927b",
   "metadata": {},
   "outputs": [
    {
     "data": {
      "text/plain": [
       "[3, 1, 2]"
      ]
     },
     "execution_count": 2,
     "metadata": {},
     "output_type": "execute_result"
    }
   ],
   "source": [
    "solution(3, 5)"
   ]
  },
  {
   "cell_type": "markdown",
   "id": "55f1bb43",
   "metadata": {},
   "source": [
    "# 풀이 과정 및 주의사항"
   ]
  },
  {
   "cell_type": "markdown",
   "id": "d8d686a4",
   "metadata": {},
   "source": [
    "* permutations 함수를 이용해서 순서를 정하면 효율성에 테스트에서 통과를 하지 못한다.\n",
    "* 입출력 예시의 경우 앞자리 첫번째 숫자가 정해지면 나올 수 있는 경우의 수는 2개 : (n-1)! 가 된다. 따라서 k를 (n-1)!로 나눈 몫의 위치에 있는 숫자를 pop 함수로 가져오면 k 번째 경우의 수가 된다.\n",
    "* k의 몫을 구한 다음 그 나머지를 다시 k로 바꾸어 앞에서 나타난 경우의 수 만큼을 제거해준다. -> k=5일때 1,2를 첫째로 하는 경우의 수가 4개므로 K를 2로 나눈 나머지를 k값으로 부여해야 한다.\n",
    "* index는 0번 부터 시작이므로 k에서 1을 먼저 빼주고 연산을 해야 한다."
   ]
  },
  {
   "cell_type": "markdown",
   "id": "a93a96e8",
   "metadata": {},
   "source": [
    "https://school.programmers.co.kr/learn/courses/30/lessons/12936"
   ]
  }
 ],
 "metadata": {
  "kernelspec": {
   "display_name": "Python 3 (ipykernel)",
   "language": "python",
   "name": "python3"
  },
  "language_info": {
   "codemirror_mode": {
    "name": "ipython",
    "version": 3
   },
   "file_extension": ".py",
   "mimetype": "text/x-python",
   "name": "python",
   "nbconvert_exporter": "python",
   "pygments_lexer": "ipython3",
   "version": "3.9.7"
  }
 },
 "nbformat": 4,
 "nbformat_minor": 5
}
