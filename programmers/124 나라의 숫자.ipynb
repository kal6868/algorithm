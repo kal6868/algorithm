{
 "cells": [
  {
   "cell_type": "markdown",
   "id": "fbd6d190",
   "metadata": {},
   "source": [
    "# 문제"
   ]
  },
  {
   "cell_type": "markdown",
   "id": "aa665cb9",
   "metadata": {},
   "source": [
    "* 124 나라가 있습니다. 124 나라에서는 10진법이 아닌 다음과 같은 자신들만의 규칙으로 수를 표현합니다.\n",
    "\n",
    "    * 1.124 나라에는 자연수만 존재합니다.\n",
    "    * 2.124 나라에는 모든 수를 표현할 때 1, 2, 4만 사용합니다.\n",
    "* 예를 들어서 124 나라에서 사용하는 숫자는 다음과 같이 변환됩니다.\n"
   ]
  },
  {
   "cell_type": "markdown",
   "id": "9b026c31",
   "metadata": {},
   "source": [
    "|10진법|124 나라|10진법|124 나라|\n",
    "|---|---|---|---|\n",
    "|1|1|6|14|\n",
    "|2|2|7|21|\n",
    "|3|4|8|22|\n",
    "|4|11|9|24|\n",
    "|5|12|10|41|"
   ]
  },
  {
   "cell_type": "markdown",
   "id": "93c69f28",
   "metadata": {},
   "source": [
    "# 제한 조건"
   ]
  },
  {
   "cell_type": "markdown",
   "id": "ebf4c872",
   "metadata": {},
   "source": [
    "* n은 500,000,000이하의 자연수 입니다."
   ]
  },
  {
   "cell_type": "code",
   "execution_count": 1,
   "id": "b2918811",
   "metadata": {},
   "outputs": [],
   "source": [
    "def solution(n):\n",
    "    numbers = ['1','2','4']\n",
    "    answer = ''\n",
    "    while (n > 0):\n",
    "        n -= 1\n",
    "        answer = numbers[n % 3] + answer\n",
    "        n = n // 3\n",
    "    return int(answer)"
   ]
  },
  {
   "cell_type": "code",
   "execution_count": 4,
   "id": "9b07c977",
   "metadata": {},
   "outputs": [
    {
     "name": "stdout",
     "output_type": "stream",
     "text": [
      "1 2 4 11 12 14 21 22 24 41 "
     ]
    }
   ],
   "source": [
    "for i in range(1,11):\n",
    "    print(solution(i), end = ' ')"
   ]
  },
  {
   "cell_type": "markdown",
   "id": "55f1bb43",
   "metadata": {},
   "source": [
    "# 풀이 과정 및 주의사항"
   ]
  },
  {
   "cell_type": "markdown",
   "id": "6efca741",
   "metadata": {},
   "source": [
    "* 1,2,4 3가지 숫자가 연속되는 변환 법이므로 나머지가 0, 1, 2가 나올 수 있도록 숫자에서 1을 빼준다\n",
    "* n을 3을 나눈 몫에 해당되는 값을 1,2,4 중 한가지로 변환하고 남은 나머지를 다시 반복하는 과정을 거친다"
   ]
  },
  {
   "cell_type": "markdown",
   "id": "a93a96e8",
   "metadata": {},
   "source": [
    "https://school.programmers.co.kr/learn/courses/30/lessons/12899"
   ]
  }
 ],
 "metadata": {
  "kernelspec": {
   "display_name": "Python 3 (ipykernel)",
   "language": "python",
   "name": "python3"
  },
  "language_info": {
   "codemirror_mode": {
    "name": "ipython",
    "version": 3
   },
   "file_extension": ".py",
   "mimetype": "text/x-python",
   "name": "python",
   "nbconvert_exporter": "python",
   "pygments_lexer": "ipython3",
   "version": "3.9.7"
  }
 },
 "nbformat": 4,
 "nbformat_minor": 5
}
