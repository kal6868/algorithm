{
 "cells": [
  {
   "cell_type": "markdown",
   "id": "fbd6d190",
   "metadata": {},
   "source": [
    "# 문제"
   ]
  },
  {
   "cell_type": "markdown",
   "id": "aa665cb9",
   "metadata": {},
   "source": [
    "* 셀수있는 수량의 순서있는 열거 또는 어떤 순서를 따르는 요소들의 모음을 튜플(tuple)이라고 합니다. n개의 요소를 가진 튜플을 n-튜플(n-tuple)이라고 하며, 다음과 같이 표현할 수 있습니다.\n",
    "\n",
    "    * (a1, a2, a3, ..., an)\n",
    "* 튜플은 다음과 같은 성질을 가지고 있습니다.\n",
    "\n",
    "    * 1.중복된 원소가 있을 수 있습니다. ex : (2, 3, 1, 2)\n",
    "    * 2.원소에 정해진 순서가 있으며, 원소의 순서가 다르면 서로 다른 튜플입니다. ex : (1, 2, 3) ≠ (1, 3, 2)\n",
    "    * 3.튜플의 원소 개수는 유한합니다.\n",
    "* 원소의 개수가 n개이고, 중복되는 원소가 없는 튜플 (a1, a2, a3, ..., an)이 주어질 때(단, a1, a2, ..., an은 자연수), 이는 다음과 같이 집합 기호 '{', '}'를 이용해 표현할 수 있습니다.\n",
    "\n",
    "    * {{a1}, {a1, a2}, {a1, a2, a3}, {a1, a2, a3, a4}, ... {a1, a2, a3, a4, ..., an}}\n",
    "* 예를 들어 튜플이 (2, 1, 3, 4)인 경우 이는\n",
    "\n",
    "     * {{2}, {2, 1}, {2, 1, 3}, {2, 1, 3, 4}}\n",
    "* 와 같이 표현할 수 있습니다. 이때, 집합은 원소의 순서가 바뀌어도 상관없으므로\n",
    "\n",
    "    * {{2}, {2, 1}, {2, 1, 3}, {2, 1, 3, 4}}\n",
    "    * {{2, 1, 3, 4}, {2}, {2, 1, 3}, {2, 1}}\n",
    "    * {{1, 2, 3}, {2, 1}, {1, 2, 4, 3}, {2}}\n",
    "* 는 모두 같은 튜플 (2, 1, 3, 4)를 나타냅니다.\n",
    "\n",
    "* 특정 튜플을 표현하는 집합이 담긴 문자열 s가 매개변수로 주어질 때, s가 표현하는 튜플을 배열에 담아 return 하도록 solution 함수를 완성해주세요."
   ]
  },
  {
   "cell_type": "markdown",
   "id": "be064c2f",
   "metadata": {},
   "source": [
    "# 제한사항"
   ]
  },
  {
   "cell_type": "markdown",
   "id": "c4d677a4",
   "metadata": {},
   "source": [
    "* s의 길이는 5 이상 1,000,000 이하입니다.\n",
    "* s는 숫자와 '{', '}', ',' 로만 이루어져 있습니다.\n",
    "* 숫자가 0으로 시작하는 경우는 없습니다.\n",
    "* s는 항상 중복되는 원소가 없는 튜플을 올바르게 표현하고 있습니다.\n",
    "* s가 표현하는 튜플의 원소는 1 이상 100,000 이하인 자연수입니다.\n",
    "* return 하는 배열의 길이가 1 이상 500 이하인 경우만 입력으로 주어집니다."
   ]
  },
  {
   "cell_type": "markdown",
   "id": "16452081",
   "metadata": {},
   "source": [
    "# 입출력 예시"
   ]
  },
  {
   "cell_type": "markdown",
   "id": "9b026c31",
   "metadata": {},
   "source": [
    "|s|result|\n",
    "|---|---|\n",
    "|\"{{2},{2,1},{2,1,3},{2,1,3,4}}\"|[2, 1, 3, 4]|\n",
    "|\"{{1,2,3},{2,1},{1,2,4,3},{2}}\"|[2, 1, 3, 4]|\n",
    "|\"{{20,111},{111}}\"|[111, 20]|\n",
    "|\"{{123}}\"|[123]|\n",
    "|\"{{4,2,3},{3},{2,3,4,1},{2,3}}\"|[3, 2, 4, 1]|\n"
   ]
  },
  {
   "cell_type": "code",
   "execution_count": 1,
   "id": "b2918811",
   "metadata": {},
   "outputs": [],
   "source": [
    "import re\n",
    "def solution(s):\n",
    "    s = s[1:-1]\n",
    "    s = s.split('},{')\n",
    "    answer = []\n",
    "    \n",
    "    answer_list = []\n",
    "    for cha in s:\n",
    "        num_list = re.sub('[{}]', '', cha).split(',')\n",
    "        answer_list.append(num_list)\n",
    "    answer_list = sorted(answer_list, key=lambda x: len(x))\n",
    "    \n",
    "    for lst in answer_list:\n",
    "        for ele in lst:\n",
    "            if int(ele) not in answer:\n",
    "                answer.append(int(ele))\n",
    "    return answer"
   ]
  },
  {
   "cell_type": "code",
   "execution_count": 2,
   "id": "9b07c977",
   "metadata": {},
   "outputs": [
    {
     "name": "stdout",
     "output_type": "stream",
     "text": [
      "[2, 1, 3, 4] / [2, 1, 3, 4] / [111, 20] / [123] / [3, 2, 4, 1] / "
     ]
    }
   ],
   "source": [
    "for i in [\"{{2},{2,1},{2,1,3},{2,1,3,4}}\", \"{{1,2,3},{2,1},{1,2,4,3},{2}}\", \"{{20,111},{111}}\", \"{{123}}\", \"{{4,2,3},{3},{2,3,4,1},{2,3}}\"]:\n",
    "    print(solution(i), end = ' / ')  "
   ]
  },
  {
   "cell_type": "markdown",
   "id": "55f1bb43",
   "metadata": {},
   "source": [
    "# 풀이 과정 및 주의사항"
   ]
  },
  {
   "cell_type": "markdown",
   "id": "6efca741",
   "metadata": {},
   "source": [
    "* \"{{2},{2,1},{2,1,3},{2,1,3,4}}\"를 [['2'], ['2','1'], ['2','1','3'], ['2','1','3','4']]와 같은 리스트 형태로 바꾸고 list 길이를 기준으로 정렬하여 각 리스트 요소가 중복이 되지 않게 새로운 answer 리스트에 담는다."
   ]
  },
  {
   "cell_type": "markdown",
   "id": "a93a96e8",
   "metadata": {},
   "source": [
    "https://school.programmers.co.kr/learn/courses/30/lessons/64065"
   ]
  }
 ],
 "metadata": {
  "kernelspec": {
   "display_name": "Python 3 (ipykernel)",
   "language": "python",
   "name": "python3"
  },
  "language_info": {
   "codemirror_mode": {
    "name": "ipython",
    "version": 3
   },
   "file_extension": ".py",
   "mimetype": "text/x-python",
   "name": "python",
   "nbconvert_exporter": "python",
   "pygments_lexer": "ipython3",
   "version": "3.9.7"
  }
 },
 "nbformat": 4,
 "nbformat_minor": 5
}
