{
 "cells": [
  {
   "cell_type": "markdown",
   "id": "fbd6d190",
   "metadata": {},
   "source": [
    "# 문제 설명"
   ]
  },
  {
   "cell_type": "markdown",
   "id": "aa665cb9",
   "metadata": {},
   "source": [
    "* 두 개의 단어 begin, target과 단어의 집합 words가 있습니다. 아래와 같은 규칙을 이용하여 begin에서 target으로 변환하는 가장 짧은 변환 과정을 찾으려고 합니다.\n",
    "    * 1. 한 번에 한 개의 알파벳만 바꿀 수 있습니다.\n",
    "    * 2. words에 있는 단어로만 변환할 수 있습니다."
   ]
  },
  {
   "cell_type": "markdown",
   "id": "21753792",
   "metadata": {},
   "source": [
    "* 예를 들어 begin이 \"hit\", target가 \"cog\", words가 [\"hot\",\"dot\",\"dog\",\"lot\",\"log\",\"cog\"]라면 \"hit\" -> \"hot\" -> \"dot\" -> \"dog\" -> \"cog\"와 같이 4단계를 거쳐 변환할 수 있습니다."
   ]
  },
  {
   "cell_type": "markdown",
   "id": "71ee5b1e",
   "metadata": {},
   "source": [
    " * 두 개의 단어 begin, target과 단어의 집합 words가 매개변수로 주어질 때, 최소 몇 단계의 과정을 거쳐 begin을 target으로 변환할 수 있는지 return 하도록 solution 함수를 작성해주세요."
   ]
  },
  {
   "cell_type": "markdown",
   "id": "93c69f28",
   "metadata": {},
   "source": [
    "# 제한 사항"
   ]
  },
  {
   "cell_type": "markdown",
   "id": "ebf4c872",
   "metadata": {},
   "source": [
    "* 각 단어는 알파벳 소문자로만 이루어져 있습니다.\n",
    "* 각 단어의 길이는 3 이상 10 이하이며 모든 단어의 길이는 같습니다.\n",
    "* words에는 3개 이상 50개 이하의 단어가 있으며 중복되는 단어는 없습니다.\n",
    "* begin과 target은 같지 않습니다.\n",
    "* 변환할 수 없는 경우에는 0를 return 합니다."
   ]
  },
  {
   "cell_type": "markdown",
   "id": "9b026c31",
   "metadata": {},
   "source": [
    "|begin|target|words|return|\n",
    "|---|---|---|---|\n",
    "|\"hit\"|\"cog\"|[\"hot\", \"dot\", \"dog\", \"lot\", \"log\", \"cog\"]|4|\n",
    "|\"hit\"|\"cog\"|[\"hot\", \"dot\", \"dog\", \"lot\", \"log\"]|0|"
   ]
  },
  {
   "cell_type": "code",
   "execution_count": 1,
   "id": "b2918811",
   "metadata": {},
   "outputs": [],
   "source": [
    "from collections import deque\n",
    "\n",
    "def ck_spell(former, letter):\n",
    "    l_f, l_l = list(former), list(letter)\n",
    "    count = 0\n",
    "    for s_f, s_l in zip(former, letter):\n",
    "        if s_f == s_l:\n",
    "            count += 1\n",
    "    if count == len(l_f)-1:\n",
    "        return True\n",
    "    else:\n",
    "        return False\n",
    "    \n",
    "def solution(begin, target, words):\n",
    "    answer = 0\n",
    "    visited = [False] * len(words)\n",
    "    q_word = deque()\n",
    "    q_word.append([begin, 0])\n",
    "    \n",
    "    while q_word:\n",
    "        word, count = q_word.popleft()\n",
    "        if word == target:\n",
    "            answer = count\n",
    "            break\n",
    "        for i in range(len(words)):\n",
    "            if visited[i] == False:\n",
    "                if ck_spell(word, words[i]):\n",
    "                    visited[i] = True\n",
    "                    q_word.append([words[i], count +1])\n",
    "    return answer"
   ]
  },
  {
   "cell_type": "code",
   "execution_count": 2,
   "id": "9b07c977",
   "metadata": {},
   "outputs": [
    {
     "name": "stdout",
     "output_type": "stream",
     "text": [
      "4\n",
      "0\n"
     ]
    }
   ],
   "source": [
    "for begin, target, words in [[\"hit\",\"cog\",[\"hot\", \"dot\", \"dog\", \"lot\", \"log\", \"cog\"]], [\"hit\",\"cog\",[\"hot\", \"dot\", \"dog\", \"lot\", \"log\"]]]:\n",
    "    print(solution(begin, target, words))"
   ]
  },
  {
   "cell_type": "markdown",
   "id": "55f1bb43",
   "metadata": {},
   "source": [
    "# 풀이 과정 및 주의사항"
   ]
  },
  {
   "cell_type": "markdown",
   "id": "6efca741",
   "metadata": {},
   "source": [
    "* 알파벳이 하나만 다를때는 True를 반환하고 그 이상 다를때는 False를 반환하는 함수 ck_spell을 먼저 정의한다.\n",
    "* pop을 사용해야 하므로 deque를 import하고 해당 단어의 위치를 방문했는지 여부를 체크하는 visited를 만든다.(알파벳이 하나가 다른 단어가 여러개일 수 있다.)\n",
    "* queue에 시작단어(begin)과 0(count)을 넣어놓고 pop으로 빼낸 후, 단어의 집합(words)를 for문으로 탐색하면서 알파벳이 하나만 다른 단어를 찾으면 queue에 추가하고 visited에 해당 위치는 True로 바꿔준다.\n",
    "* 알파벳이 같은 단어가 2개일 때라도, visited에 의해 이미 방문한 위치의 단어는 비교하지 못한다. 따라서, 현재 pop으로 꺼내온 단어가 target과 같을 때까지 반복하면 된다."
   ]
  },
  {
   "cell_type": "markdown",
   "id": "a93a96e8",
   "metadata": {},
   "source": [
    "https://school.programmers.co.kr/learn/courses/30/lessons/43163"
   ]
  }
 ],
 "metadata": {
  "kernelspec": {
   "display_name": "Python 3 (ipykernel)",
   "language": "python",
   "name": "python3"
  },
  "language_info": {
   "codemirror_mode": {
    "name": "ipython",
    "version": 3
   },
   "file_extension": ".py",
   "mimetype": "text/x-python",
   "name": "python",
   "nbconvert_exporter": "python",
   "pygments_lexer": "ipython3",
   "version": "3.9.7"
  }
 },
 "nbformat": 4,
 "nbformat_minor": 5
}
