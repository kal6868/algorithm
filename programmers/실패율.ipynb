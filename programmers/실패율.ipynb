{
 "cells": [
  {
   "cell_type": "markdown",
   "id": "fbd6d190",
   "metadata": {},
   "source": [
    "# 문제 설명"
   ]
  },
  {
   "cell_type": "markdown",
   "id": "295ec3a5",
   "metadata": {},
   "source": [
    "* 슈퍼 게임 개발자 오렐리는 큰 고민에 빠졌다. 그녀가 만든 프랜즈 오천성이 대성공을 거뒀지만, 요즘 신규 사용자의 수가 급감한 것이다. 원인은 신규 사용자와 기존 사용자 사이에 스테이지 차이가 너무 큰 것이 문제였다."
   ]
  },
  {
   "cell_type": "markdown",
   "id": "943d53ad",
   "metadata": {},
   "source": [
    "* 실패율은 다음과 같이 정의한다.\n",
    "    * 스테이지에 도달했으나 아직 클리어하지 못한 플레이어의 수 / 스테이지에 도달한 플레이어 수"
   ]
  },
  {
   "cell_type": "markdown",
   "id": "ae369628",
   "metadata": {},
   "source": [
    "* 전체 스테이지의 개수 N, 게임을 이용하는 사용자가 현재 멈춰있는 스테이지의 번호가 담긴 배열 stages가 매개변수로 주어질 때, 실패율이 높은 스테이지부터 내림차순으로 스테이지의 번호가 담겨있는 배열을 return 하도록 solution 함수를 완성하라."
   ]
  },
  {
   "cell_type": "markdown",
   "id": "b56a4179",
   "metadata": {},
   "source": [
    "# 제한사항"
   ]
  },
  {
   "cell_type": "markdown",
   "id": "229fc3aa",
   "metadata": {},
   "source": [
    "* 스테이지의 개수 N은 1 이상 500 이하의 자연수이다.\n",
    "* stages의 길이는 1 이상 200,000 이하이다.\n",
    "* stages에는 1 이상 N + 1 이하의 자연수가 담겨있다.\n",
    "    * 각 자연수는 사용자가 현재 도전 중인 스테이지의 번호를 나타낸다.\n",
    "    * 단, N + 1 은 마지막 스테이지(N 번째 스테이지) 까지 클리어 한 사용자를 나타낸다.\n",
    "* 만약 실패율이 같은 스테이지가 있다면 작은 번호의 스테이지가 먼저 오도록 하면 된다.\n",
    "* 스테이지에 도달한 유저가 없는 경우 해당 스테이지의 실패율은 0 으로 정의한다."
   ]
  },
  {
   "cell_type": "markdown",
   "id": "16452081",
   "metadata": {},
   "source": [
    "# 입출력 예시"
   ]
  },
  {
   "cell_type": "markdown",
   "id": "9b026c31",
   "metadata": {},
   "source": [
    "|N|stages|result|\n",
    "|---|---|---|\n",
    "|5|[2, 1, 2, 6, 2, 4, 3, 3]|[3,4,2,1,5]|\n",
    "|4|[4,4,4,4,4]|[4,1,2,3]|"
   ]
  },
  {
   "cell_type": "code",
   "execution_count": 1,
   "id": "d3f7e869",
   "metadata": {},
   "outputs": [],
   "source": [
    "def solution(N, stages):\n",
    "    result = []\n",
    "    for i in range(1, N+1):\n",
    "        p_total = 0\n",
    "        p_stage = 0\n",
    "        for j in stages:\n",
    "            if j >= i:\n",
    "                p_total += 1\n",
    "            if i == j:\n",
    "                p_stage += 1\n",
    "                \n",
    "        if p_total == 0:\n",
    "            failure = 0\n",
    "        else:\n",
    "            failure = p_stage/p_total\n",
    "        result.append((i, failure))\n",
    "\n",
    "    answer = [s_f[0] for s_f in sorted(result, key=lambda x: x[1], reverse=True)]\n",
    "    return answer"
   ]
  },
  {
   "cell_type": "code",
   "execution_count": 2,
   "id": "d3982ae6",
   "metadata": {},
   "outputs": [
    {
     "name": "stdout",
     "output_type": "stream",
     "text": [
      "[3, 4, 2, 1, 5]\n",
      "[4, 1, 2, 3]\n"
     ]
    }
   ],
   "source": [
    "for N, stages in [[5, [2, 1, 2, 6, 2, 4, 3, 3]],\n",
    "              [4, [4,4,4,4,4]]]:\n",
    "    print(solution(N, stages))"
   ]
  },
  {
   "cell_type": "markdown",
   "id": "a76a6800",
   "metadata": {},
   "source": [
    "# 풀이 과정 및 주의사항"
   ]
  },
  {
   "cell_type": "markdown",
   "id": "641c1f09",
   "metadata": {},
   "source": [
    "* for 문을 사용하여 1 ~ 마지막 스테이지를 세면서 해당 스테이지에 도전한 사람과 클리어한 사람의 수를 센다.\n",
    "* 현재 스테이지(N을 이용한 for문)와 숫자가 같거나 높으면 해당 스테이지에 도전한 경험(p_total)이 있는 사람이고, 숫자가 같으면 아직 클리어하지 못한 사람(p_stage)이다.\n",
    "* 전체 스테이지 중 아무도 도달하지 못한 경우 p_stage는 0이 되는데, 숫자를 0으로 나누는 경우는 에러가 발생하므로 실패율(failure)은 0 처리를 해준다.\n",
    "* list보다는 tuple이 속도가 빠르므로 tuple를 사용하여 정렬한 후 스테이지 숫자만 가져온다."
   ]
  },
  {
   "cell_type": "markdown",
   "id": "0d7970bb",
   "metadata": {},
   "source": [
    "https://school.programmers.co.kr/learn/courses/30/lessons/42889"
   ]
  }
 ],
 "metadata": {
  "celltoolbar": "Raw Cell Format",
  "kernelspec": {
   "display_name": "Python 3 (ipykernel)",
   "language": "python",
   "name": "python3"
  },
  "language_info": {
   "codemirror_mode": {
    "name": "ipython",
    "version": 3
   },
   "file_extension": ".py",
   "mimetype": "text/x-python",
   "name": "python",
   "nbconvert_exporter": "python",
   "pygments_lexer": "ipython3",
   "version": "3.9.7"
  }
 },
 "nbformat": 4,
 "nbformat_minor": 5
}
