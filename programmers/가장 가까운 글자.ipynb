{
 "cells": [
  {
   "cell_type": "markdown",
   "id": "fbd6d190",
   "metadata": {},
   "source": [
    "# 문제 설명"
   ]
  },
  {
   "cell_type": "markdown",
   "id": "295ec3a5",
   "metadata": {},
   "source": [
    "* 문자열 s가 주어졌을 때, s의 각 위치마다 자신보다 앞에 나왔으면서, 자신과 가장 가까운 곳에 있는 같은 글자가 어디 있는지 알고 싶습니다."
   ]
  },
  {
   "cell_type": "markdown",
   "id": "41d65362",
   "metadata": {},
   "source": [
    "* 예를 들어, s=\"banana\"라고 할 때,  각 글자들을 왼쪽부터 오른쪽으로 읽어 나가면서 다음과 같이 진행할 수 있습니다.\n",
    "    * b는 처음 나왔기 때문에 자신의 앞에 같은 글자가 없습니다. 이는 -1로 표현합니다.\n",
    "    * a는 처음 나왔기 때문에 자신의 앞에 같은 글자가 없습니다. 이는 -1로 표현합니다.\n",
    "    * n은 처음 나왔기 때문에 자신의 앞에 같은 글자가 없습니다. 이는 -1로 표현합니다.\n",
    "    * a는 자신보다 두 칸 앞에 a가 있습니다. 이는 2로 표현합니다.\n",
    "    * n도 자신보다 두 칸 앞에 n이 있습니다. 이는 2로 표현합니다.\n",
    "    * a는 자신보다 두 칸, 네 칸 앞에 a가 있습니다. 이 중 가까운 것은 두 칸 앞이고, 이는 2로 표현합니다.\n",
    "* 따라서 최종 결과물은 [-1, -1, -1, 2, 2, 2]가 됩니다."
   ]
  },
  {
   "cell_type": "markdown",
   "id": "0fd92c4a",
   "metadata": {},
   "source": [
    "* 문자열 s이 주어질 때, 위와 같이 정의된 연산을 수행하는 함수 solution을 완성해주세요."
   ]
  },
  {
   "cell_type": "markdown",
   "id": "ace8205e",
   "metadata": {},
   "source": [
    "# 제한사항"
   ]
  },
  {
   "cell_type": "markdown",
   "id": "a21dd125",
   "metadata": {},
   "source": [
    "* 1 ≤ s의 길이 ≤ 10,000\n",
    "    * s은 영어 소문자로만 이루어져 있습니다."
   ]
  },
  {
   "cell_type": "markdown",
   "id": "16452081",
   "metadata": {},
   "source": [
    "# 예제 입출력"
   ]
  },
  {
   "cell_type": "markdown",
   "id": "9b026c31",
   "metadata": {},
   "source": [
    "|s|result|\n",
    "|---|---|\t\n",
    "|\"banana\"|[-1, -1, -1, 2, 2, 2]|\n",
    "|\"foobar\"|[-1, -1, 1, -1, -1, -1]|"
   ]
  },
  {
   "cell_type": "code",
   "execution_count": 1,
   "id": "2cfeb700",
   "metadata": {},
   "outputs": [],
   "source": [
    "from collections import deque\n",
    "def solution(s):\n",
    "    answer = []\n",
    "    de_s = deque(list(s))\n",
    "    d_stack = deque()\n",
    "    \n",
    "    while de_s:\n",
    "        sp = de_s.popleft()\n",
    "        if sp not in d_stack:\n",
    "            answer.append(-1)\n",
    "            d_stack.append(sp)\n",
    "\n",
    "        elif sp in d_stack:\n",
    "            for i in range(1, len(d_stack)+1, 1):\n",
    "                if d_stack[-1*i] == sp:\n",
    "                    answer.append(i)\n",
    "                    d_stack.append(sp)\n",
    "                    break\n",
    "    return answer"
   ]
  },
  {
   "cell_type": "code",
   "execution_count": 2,
   "id": "4411ccbc",
   "metadata": {},
   "outputs": [
    {
     "name": "stdout",
     "output_type": "stream",
     "text": [
      "[-1, -1, -1, 2, 2, 2]\n",
      "[-1, -1, 1, -1, -1, -1]\n"
     ]
    }
   ],
   "source": [
    "for s in [\"banana\", \"foobar\"]:\n",
    "    print(solution(s))"
   ]
  },
  {
   "cell_type": "markdown",
   "id": "a76a6800",
   "metadata": {},
   "source": [
    "# 풀이 과정 및 주의사항"
   ]
  },
  {
   "cell_type": "markdown",
   "id": "641c1f09",
   "metadata": {},
   "source": [
    "* pop을 사용하므로 deque를 불러온다.\n",
    "* 단어를 List자료형에 넣어 알파벳의 집합으로 만든 뒤, 앞에서 부터 한개씩 추출한다.\n",
    "* d_stack이라는 저장공간을 만들어 놓고, 추출한 문자열이 d_stack에 없으면 answer에 -1을 추가하고, 있으면 d_stack의 요소를 거꾸로 조회하면서, 해당 문자열이 뒤에서부터 몇번째에 위치하는지 확인한 뒤 해당 값을 answer에 추가하면 된다."
   ]
  },
  {
   "cell_type": "markdown",
   "id": "0d7970bb",
   "metadata": {},
   "source": [
    "https://school.programmers.co.kr/learn/courses/30/lessons/142086"
   ]
  }
 ],
 "metadata": {
  "celltoolbar": "Raw Cell Format",
  "kernelspec": {
   "display_name": "Python 3 (ipykernel)",
   "language": "python",
   "name": "python3"
  },
  "language_info": {
   "codemirror_mode": {
    "name": "ipython",
    "version": 3
   },
   "file_extension": ".py",
   "mimetype": "text/x-python",
   "name": "python",
   "nbconvert_exporter": "python",
   "pygments_lexer": "ipython3",
   "version": "3.9.7"
  }
 },
 "nbformat": 4,
 "nbformat_minor": 5
}
