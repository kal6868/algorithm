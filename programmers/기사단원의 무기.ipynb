{
 "cells": [
  {
   "cell_type": "markdown",
   "id": "fbd6d190",
   "metadata": {},
   "source": [
    "# 문제 설명"
   ]
  },
  {
   "cell_type": "markdown",
   "id": "295ec3a5",
   "metadata": {},
   "source": [
    "* 숫자나라 기사단의 각 기사에게는 1번부터 number까지 번호가 지정되어 있습니다. 기사들은 무기점에서 무기를 구매하려고 합니다."
   ]
  },
  {
   "cell_type": "markdown",
   "id": "41d65362",
   "metadata": {},
   "source": [
    "* 각 기사는 자신의 기사 번호의 약수 개수에 해당하는 공격력을 가진 무기를 구매하려 합니다. 단, 이웃나라와의 협약에 의해 공격력의 제한수치를 정하고, 제한수치보다 큰 공격력을 가진 무기를 구매해야 하는 기사는 협약기관에서 정한 공격력을 가지는 무기를 구매해야 합니다."
   ]
  },
  {
   "cell_type": "markdown",
   "id": "c60232ba",
   "metadata": {},
   "source": [
    "* 예를 들어, 15번으로 지정된 기사단원은 15의 약수가 1, 3, 5, 15로 4개 이므로, 공격력이 4인 무기를 구매합니다. 만약, 이웃나라와의 협약으로 정해진 공격력의 제한수치가 3이고 제한수치를 초과한 기사가 사용할 무기의 공격력이 2라면, 15번으로 지정된 기사단원은 무기점에서 공격력이 2인 무기를 구매합니다. 무기를 만들 때, 무기의 공격력 1당 1kg의 철이 필요합니다. 그래서 무기점에서 무기를 모두 만들기 위해 필요한 철의 무게를 미리 계산하려 합니다."
   ]
  },
  {
   "cell_type": "markdown",
   "id": "8528f009",
   "metadata": {},
   "source": [
    " * 기사단원의 수를 나타내는 정수 number와 이웃나라와 협약으로 정해진 공격력의 제한수치를 나타내는 정수 limit와 제한수치를 초과한 기사가 사용할 무기의 공격력을 나타내는 정수 power가 주어졌을 때, 무기점의 주인이 무기를 모두 만들기 위해 필요한 철의 무게를 return 하는 solution 함수를 완성하시오."
   ]
  },
  {
   "cell_type": "markdown",
   "id": "ff6efbd2",
   "metadata": {},
   "source": [
    " # 제한 사항"
   ]
  },
  {
   "cell_type": "markdown",
   "id": "160863cb",
   "metadata": {},
   "source": [
    "* 1 ≤ number ≤ 100,000\n",
    "* 2 ≤ limit ≤ 100\n",
    "* 1 ≤ power ≤ limit"
   ]
  },
  {
   "cell_type": "markdown",
   "id": "16452081",
   "metadata": {},
   "source": [
    "# 입출력 예"
   ]
  },
  {
   "cell_type": "markdown",
   "id": "9b026c31",
   "metadata": {},
   "source": [
    "|number|limit|power|result|\n",
    "|---|---|---|---|\n",
    "|5|3|2|10|\n",
    "|10|3|2|21|"
   ]
  },
  {
   "cell_type": "code",
   "execution_count": 1,
   "id": "9570e5c7",
   "metadata": {},
   "outputs": [],
   "source": [
    "def solution(number, limit, power):\n",
    "    answer = 0\n",
    "    for i in range(1, number+1):\n",
    "        sum_divisor = 0\n",
    "        for j in range(1, int(i**0.5)+1):\n",
    "            if i % j == 0:\n",
    "                sum_divisor += 1\n",
    "                if (j**2) != i:\n",
    "                    sum_divisor += 1\n",
    "        if sum_divisor > limit:\n",
    "            sum_divisor = power\n",
    "        answer += sum_divisor\n",
    "    return answer"
   ]
  },
  {
   "cell_type": "code",
   "execution_count": 2,
   "id": "4411ccbc",
   "metadata": {},
   "outputs": [
    {
     "name": "stdout",
     "output_type": "stream",
     "text": [
      "10\n",
      "21\n"
     ]
    }
   ],
   "source": [
    "for number, limit, power in [[5, 3, 2], [10, 3, 2]]:\n",
    "    print(solution(number, limit, power))"
   ]
  },
  {
   "cell_type": "markdown",
   "id": "a76a6800",
   "metadata": {},
   "source": [
    "# 풀이 과정 및 주의사항"
   ]
  },
  {
   "cell_type": "markdown",
   "id": "641c1f09",
   "metadata": {},
   "source": [
    " * 각 기사의 번호만큼 약수 갯수를 더하고 약수 갯수가 limit를 넘을 경우 power를 대신 더해주면 되는데, 약수 개수를 모두 구할 경우 시간이 초과 된다.\n",
    " * 숫자의 제곱근의 정수 부분까지만 약수의 갯수를 더하고, 약수의 제곱근이 해당 숫자가 아니면 1을 더해준다(약수는 짝이 있으므로). 다만 제곱근이면 자기 자신이 짝이므로 1을 더해주지 않는다."
   ]
  },
  {
   "cell_type": "markdown",
   "id": "0d7970bb",
   "metadata": {},
   "source": [
    "https://school.programmers.co.kr/learn/courses/30/lessons/136798"
   ]
  }
 ],
 "metadata": {
  "celltoolbar": "Raw Cell Format",
  "kernelspec": {
   "display_name": "Python 3 (ipykernel)",
   "language": "python",
   "name": "python3"
  },
  "language_info": {
   "codemirror_mode": {
    "name": "ipython",
    "version": 3
   },
   "file_extension": ".py",
   "mimetype": "text/x-python",
   "name": "python",
   "nbconvert_exporter": "python",
   "pygments_lexer": "ipython3",
   "version": "3.9.7"
  }
 },
 "nbformat": 4,
 "nbformat_minor": 5
}
