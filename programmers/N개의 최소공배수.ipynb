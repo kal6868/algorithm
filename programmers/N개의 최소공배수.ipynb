{
 "cells": [
  {
   "cell_type": "markdown",
   "id": "fbd6d190",
   "metadata": {},
   "source": [
    "# 문제"
   ]
  },
  {
   "cell_type": "markdown",
   "id": "aa665cb9",
   "metadata": {},
   "source": [
    "* 두 수의 최소공배수(Least Common Multiple)란 입력된 두 수의 배수 중 공통이 되는 가장 작은 숫자를 의미합니다. 예를 들어 2와 7의 최소공배수는 14가 됩니다. 정의를 확장해서, n개의 수의 최소공배수는 n 개의 수들의 배수 중 공통이 되는 가장 작은 숫자가 됩니다. n개의 숫자를 담은 배열 arr이 입력되었을 때 이 수들의 최소공배수를 반환하는 함수, solution을 완성해 주세요."
   ]
  },
  {
   "cell_type": "markdown",
   "id": "be064c2f",
   "metadata": {},
   "source": [
    "# 제한사항"
   ]
  },
  {
   "cell_type": "markdown",
   "id": "c4d677a4",
   "metadata": {},
   "source": [
    "* arr은 길이 1이상, 15이하인 배열입니다.\n",
    "* arr의 원소는 100 이하인 자연수입니다."
   ]
  },
  {
   "cell_type": "markdown",
   "id": "16452081",
   "metadata": {},
   "source": [
    "# 입출력 예시"
   ]
  },
  {
   "cell_type": "markdown",
   "id": "9b026c31",
   "metadata": {},
   "source": [
    "|arr|result|\n",
    "|---|---|\n",
    "|[2,6,8,14]|168|\n",
    "|[1,2,3]|6|\n",
    "\n"
   ]
  },
  {
   "cell_type": "code",
   "execution_count": 1,
   "id": "d3f7e869",
   "metadata": {},
   "outputs": [],
   "source": [
    "def solution(arr):\n",
    "    arr = sorted(arr)\n",
    "    max = arr[-1]\n",
    "    while True:\n",
    "        for num in arr:\n",
    "            if max % num != 0:\n",
    "                max += 1\n",
    "                break\n",
    "        else:\n",
    "            return max"
   ]
  },
  {
   "cell_type": "code",
   "execution_count": 2,
   "id": "ab9e927b",
   "metadata": {},
   "outputs": [
    {
     "name": "stdout",
     "output_type": "stream",
     "text": [
      "168 6 "
     ]
    }
   ],
   "source": [
    "for arr in ([[2,6,8,14], [1,2,3]]):\n",
    "    print(solution(arr), end = ' ')"
   ]
  },
  {
   "cell_type": "markdown",
   "id": "55f1bb43",
   "metadata": {},
   "source": [
    "\n",
    "# 풀이 과정 및 주의사항"
   ]
  },
  {
   "cell_type": "markdown",
   "id": "d8d686a4",
   "metadata": {},
   "source": [
    "* 배열을 오름차순으로 정렬 후 마지막 수를 max로 지정한 다음, 배열의 수로 나눈다. for~else문을 사용하여 나머지가 0이 되지 않는 경우 max에 1을 더한 뒤 for 문을 break하고, 모든 수로 나뉘는 수가 있으면 해당 max를 return 한다 "
   ]
  },
  {
   "cell_type": "markdown",
   "id": "a93a96e8",
   "metadata": {},
   "source": [
    "https://school.programmers.co.kr/learn/courses/30/lessons/12953"
   ]
  }
 ],
 "metadata": {
  "celltoolbar": "Raw Cell Format",
  "kernelspec": {
   "display_name": "Python 3 (ipykernel)",
   "language": "python",
   "name": "python3"
  },
  "language_info": {
   "codemirror_mode": {
    "name": "ipython",
    "version": 3
   },
   "file_extension": ".py",
   "mimetype": "text/x-python",
   "name": "python",
   "nbconvert_exporter": "python",
   "pygments_lexer": "ipython3",
   "version": "3.9.7"
  }
 },
 "nbformat": 4,
 "nbformat_minor": 5
}
