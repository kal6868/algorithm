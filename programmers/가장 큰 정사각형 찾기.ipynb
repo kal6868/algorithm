{
 "cells": [
  {
   "cell_type": "markdown",
   "id": "fbd6d190",
   "metadata": {},
   "source": [
    "# 문제 설명"
   ]
  },
  {
   "cell_type": "markdown",
   "id": "aa665cb9",
   "metadata": {},
   "source": [
    "* 1와 0로 채워진 표(board)가 있습니다. 표 1칸은 1 x 1 의 정사각형으로 이루어져 있습니다. 표에서 1로 이루어진 가장 큰 정사각형을 찾아 넓이를 return 하는 solution 함수를 완성해 주세요. (단, 정사각형이란 축에 평행한 정사각형을 말합니다.)"
   ]
  },
  {
   "cell_type": "markdown",
   "id": "06d07746",
   "metadata": {},
   "source": [
    "* 예를들어"
   ]
  },
  {
   "cell_type": "markdown",
   "id": "9e165bdf",
   "metadata": {},
   "source": [
    "|1|2|3|4|\n",
    "|---|---|---|---|\n",
    "|0|1|1|1|\n",
    "|1|1|1|1|\n",
    "|1|1|1|1|\n",
    "|0|0|1|0|"
   ]
  },
  {
   "cell_type": "markdown",
   "id": "c20854f9",
   "metadata": {},
   "source": [
    "* 가 있다면 가장 큰 정사각형은"
   ]
  },
  {
   "cell_type": "markdown",
   "id": "c3144673",
   "metadata": {},
   "source": [
    "|1|2|3|4|\n",
    "|---|---|---|---|\n",
    "|0|1|1|1|\n",
    "|1|1|1|1|\n",
    "|1|1|1|1|\n",
    "|0|0|1|0|"
   ]
  },
  {
   "cell_type": "markdown",
   "id": "69427dc8",
   "metadata": {},
   "source": [
    "* 가 되며 넓이는 9가 되므로 9를 반환해 주면 됩니다."
   ]
  },
  {
   "cell_type": "markdown",
   "id": "b56a4179",
   "metadata": {},
   "source": [
    "# 제한사항"
   ]
  },
  {
   "cell_type": "markdown",
   "id": "229fc3aa",
   "metadata": {},
   "source": [
    "* 표(board)는 2차원 배열로 주어집니다.\n",
    "* 표(board)의 행(row)의 크기 : 1,000 이하의 자연수\n",
    "* 표(board)의 열(column)의 크기 : 1,000 이하의 자연수\n",
    "* 표(board)의 값은 1또는 0으로만 이루어져 있습니다."
   ]
  },
  {
   "cell_type": "markdown",
   "id": "16452081",
   "metadata": {},
   "source": [
    "# 입출력 예시"
   ]
  },
  {
   "cell_type": "markdown",
   "id": "9b026c31",
   "metadata": {},
   "source": [
    "|board|answer|\n",
    "|---|---|\n",
    "|[[0,1,1,1],[1,1,1,1],[1,1,1,1],[0,0,1,0]]|9|\n",
    "|[[0,0,1,1],[1,1,1,1]]|4|"
   ]
  },
  {
   "cell_type": "code",
   "execution_count": 1,
   "id": "d3f7e869",
   "metadata": {},
   "outputs": [],
   "source": [
    "def solution(board):\n",
    "    dp = [[0]*len(board[0]) for _ in range(len(board))]\n",
    "    dp[0] = board[0]\n",
    "    for i in range(len(board)):\n",
    "        dp[i][0] = board[i][0]\n",
    "\n",
    "    for i in range(1, len(board)):\n",
    "        for j in range(1, len(board[0])):\n",
    "            if board[i][j] == 1:\n",
    "                dp[i][j] = min(dp[i-1][j], dp[i][j-1], dp[i-1][j-1]) + 1\n",
    "    answer = 0\n",
    "    for i in range(len(board)):\n",
    "        temp = max(dp[i])\n",
    "        answer = max(temp, answer)\n",
    "        \n",
    "    return answer**2"
   ]
  },
  {
   "cell_type": "code",
   "execution_count": 2,
   "id": "d3982ae6",
   "metadata": {},
   "outputs": [
    {
     "name": "stdout",
     "output_type": "stream",
     "text": [
      "9 4 "
     ]
    }
   ],
   "source": [
    "for board in [[[0,1,1,1],[1,1,1,1],[1,1,1,1],[0,0,1,0]], [[0,0,1,1],[1,1,1,1]]]:\n",
    "    print(solution(board), end = ' ')"
   ]
  },
  {
   "cell_type": "markdown",
   "id": "a76a6800",
   "metadata": {},
   "source": [
    "# 풀이 과정 및 주의사항"
   ]
  },
  {
   "cell_type": "markdown",
   "id": "37cfc8b6",
   "metadata": {},
   "source": [
    "* baord를 본따 dp라고 하는 첫번째 가로축과 첫번째 세로축 및 나머지는 0으로 이루어진 배열을 하나 만든다.\n",
    "\n",
    "|1|2|3|4|\n",
    "|---|---|---|---|\n",
    "|0|1|1|1|\n",
    "|1|0|0|0|\n",
    "|1|0|0|0|\n",
    "|0|0|0|0|"
   ]
  },
  {
   "cell_type": "markdown",
   "id": "8d2c78eb",
   "metadata": {},
   "source": [
    " * 사각형인 경우에는 4칸이 1로 이루어져 있어야 하므로 board[i][j]가 1인 경우 윗칸, 아래칸, 대각선 윗칸의 가장 작은 값에 1을 더해준다.\n",
    " * 정사각형인 경우 마지막 모서리 값이 가장 크므로 해당 값이 정사각형의 크기가 된다."
   ]
  },
  {
   "cell_type": "markdown",
   "id": "2d120206",
   "metadata": {},
   "source": [
    "|1|2|3|4|\n",
    "|---|---|---|---|\n",
    "|0|1|1|1|\n",
    "|1|1|2|2|\n",
    "|1|2|2|3|\n",
    "|0|0|1|0|"
   ]
  },
  {
   "cell_type": "markdown",
   "id": "0d7970bb",
   "metadata": {},
   "source": [
    "https://school.programmers.co.kr/learn/courses/30/lessons/12905"
   ]
  }
 ],
 "metadata": {
  "celltoolbar": "Raw Cell Format",
  "kernelspec": {
   "display_name": "Python 3 (ipykernel)",
   "language": "python",
   "name": "python3"
  },
  "language_info": {
   "codemirror_mode": {
    "name": "ipython",
    "version": 3
   },
   "file_extension": ".py",
   "mimetype": "text/x-python",
   "name": "python",
   "nbconvert_exporter": "python",
   "pygments_lexer": "ipython3",
   "version": "3.9.7"
  }
 },
 "nbformat": 4,
 "nbformat_minor": 5
}
