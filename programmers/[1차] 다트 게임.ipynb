{
 "cells": [
  {
   "cell_type": "markdown",
   "id": "fbd6d190",
   "metadata": {},
   "source": [
    "# 문제 설명"
   ]
  },
  {
   "cell_type": "markdown",
   "id": "295ec3a5",
   "metadata": {},
   "source": [
    "* 카카오톡 게임별의 하반기 신규 서비스로 다트 게임을 출시하기로 했다. 다트 게임은 다트판에 다트를 세 차례 던져 그 점수의 합계로 실력을 겨루는 게임으로, 모두가 간단히 즐길 수 있다. 갓 입사한 무지는 코딩 실력을 인정받아 게임의 핵심 부분인 점수 계산 로직을 맡게 되었다. 다트 게임의 점수 계산 로직은 아래와 같다.\n",
    "    * 다트 게임은 총 3번의 기회로 구성된다.\n",
    "    * 각 기회마다 얻을 수 있는 점수는 0점에서 10점까지이다.\n",
    "    * 점수와 함께 Single(S), Double(D), Triple(T) 영역이 존재하고 각 영역 당첨 시 점수에서 1제곱, 2제곱, 3제곱 (점수1 , 점수2 , 점수3 )으로 계 산된다.\n",
    "    * 옵션으로 스타상(*) , 아차상(#)이 존재하며 스타상(*) 당첨 시 해당 점수와 바로 전에 얻은 점수를 각 2배로 만든다. 아차상(#) 당첨 시 해당 점수는 마이너스된다.\n",
    "    * 스타상(*)은 첫 번째 기회에서도 나올 수 있다. 이 경우 첫 번째 스타상(*)의 점수만 2배가 된다. (예제 4번 참고)\n",
    "    * 스타상(*)의 효과는 다른 스타상(*)의 효과와 중첩될 수 있다. 이 경우 중첩된 스타상(*) 점수는 4배가 된다. (예제 4번 참고)\n",
    "    * 스타상(*)의 효과는 아차상(#)의 효과와 중첩될 수 있다. 이 경우 중첩된 아차상(#)의 점수는 -2배가 된다. (예제 5번 참고)\n",
    "    * Single(S), Double(D), Triple(T)은 점수마다 하나씩 존재한다.\n",
    "    * 스타상(*), 아차상(#)은 점수마다 둘 중 하나만 존재할 수 있으며, 존재하지 않을 수도 있다."
   ]
  },
  {
   "cell_type": "markdown",
   "id": "e975cfc8",
   "metadata": {},
   "source": [
    "* 0~10의 정수와 문자 S, D, T, *, #로 구성된 문자열이 입력될 시 총점수를 반환하는 함수를 작성하라."
   ]
  },
  {
   "cell_type": "markdown",
   "id": "821b9480",
   "metadata": {},
   "source": [
    " * 수웅이가 준비한 음식의 양을 칼로리가 적은 순서대로 나타내는 정수 배열 food가 주어졌을 때, 대회를 위한 음식의 배치를 나타내는 문자열을 return 하는 solution 함수를 완성해주세요."
   ]
  },
  {
   "cell_type": "markdown",
   "id": "ace8205e",
   "metadata": {},
   "source": [
    "# 입력 형식"
   ]
  },
  {
   "cell_type": "markdown",
   "id": "a21dd125",
   "metadata": {},
   "source": [
    "* \"점수|보너스|[옵션]\"으로 이루어진 문자열 3세트. 예) 1S2D*3T\n",
    "    * 점수는 0에서 10 사이의 정수이다.\n",
    "    * 보너스는 S, D, T 중 하나이다.\n",
    "    * 옵선은 *이나 # 중 하나이며, 없을 수도 있다."
   ]
  },
  {
   "cell_type": "markdown",
   "id": "60e1c3c2",
   "metadata": {},
   "source": [
    "# 출력 형식"
   ]
  },
  {
   "cell_type": "markdown",
   "id": "aca2474a",
   "metadata": {},
   "source": [
    " * 3번의 기회에서 얻은 점수 합계에 해당하는 정수값을 출력한다. 예) 37"
   ]
  },
  {
   "cell_type": "markdown",
   "id": "16452081",
   "metadata": {},
   "source": [
    "# 입출력 예시"
   ]
  },
  {
   "cell_type": "markdown",
   "id": "9b026c31",
   "metadata": {},
   "source": [
    "|예제|dartResult|answer|설명|\n",
    "|---|---|---|---|\n",
    "|1|1S2D*3T|37|11 * 2 + 22 * 2 + 33|\n",
    "|2|1D2S#10S|9|12 + 21 * (-1) + 101|\n",
    "|3|1D2S0T|3|12 + 21 + 03|\n",
    "|4|1S*2T*3S|23|11 * 2 * 2 + 23 * 2 + 31|\n",
    "|5|1D#2S*3S|5|12 * (-1) * 2 + 21 * 2 + 31|\n",
    "|6|1T2D3D#|-4|13 + 22 + 32 * (-1)|\n",
    "|7|1D2S3T*|59|12 + 21 * 2 + 33 * 2|"
   ]
  },
  {
   "cell_type": "code",
   "execution_count": 1,
   "id": "2cfeb700",
   "metadata": {},
   "outputs": [],
   "source": [
    "from collections import deque\n",
    "def solution(dartResult):\n",
    "    stack = deque([])\n",
    "    dartResult = dartResult.replace('10', 'A')\n",
    "    bonus = {'S' : 1, 'D' : 2, 'T' : 3}\n",
    "    \n",
    "    for i in dartResult:\n",
    "        if (i.isdigit()) or (i == 'A'):\n",
    "            if i == 'A':\n",
    "                stack.append(10)\n",
    "            else:\n",
    "                stack.append(int(i))\n",
    "        \n",
    "        elif i in bonus:\n",
    "            score = stack.pop()\n",
    "            stack.append(score ** bonus[i])\n",
    "        \n",
    "        elif (i == '#') or (i == '*') :\n",
    "            if i == '#':\n",
    "                score = stack.pop()\n",
    "                stack.append(score * -1)\n",
    "            else:\n",
    "                score = stack.pop()\n",
    "                if len(stack):\n",
    "                    stack[-1] *= 2\n",
    "                stack.append(score * 2)\n",
    "    answer = sum(stack)\n",
    "    return answer"
   ]
  },
  {
   "cell_type": "code",
   "execution_count": 2,
   "id": "4411ccbc",
   "metadata": {},
   "outputs": [
    {
     "name": "stdout",
     "output_type": "stream",
     "text": [
      "37\n",
      "9\n",
      "3\n",
      "23\n",
      "5\n",
      "-4\n",
      "59\n"
     ]
    }
   ],
   "source": [
    "for dartResult in ['1S2D*3T', '1D2S#10S', '1D2S0T', '1S*2T*3S', '1D#2S*3S', '1T2D3D#', '1D2S3T*']:\n",
    "    print(solution(dartResult))"
   ]
  },
  {
   "cell_type": "markdown",
   "id": "a76a6800",
   "metadata": {},
   "source": [
    "# 풀이 과정 및 주의사항"
   ]
  },
  {
   "cell_type": "markdown",
   "id": "641c1f09",
   "metadata": {},
   "source": [
    " * 10은 2글자이므로 10을 A로 대체하고, bonus는 Dictionary를 만들어 준다. pop을 사용할 예정으므로 deque를 선언한다.\n",
    " * isdigit()를 통해 문자열이 숫자거나 A면 stack에 1~10을 추가해준다.\n",
    " * S, D, T중 하나가 나오면 마지막 요소를 빼서 해당 숫자만큼 제곱한뒤 다시 마지막에 추가한다.\n",
    " * #인 경우 마지막 요소를 뺴서 -1를 곱한 뒤 다시 마지막에 추가하고, * 인 경우는 마지막 요소를 뺀 뒤 남아있는 마지막 요소에 2를 곱하고, 뺀 요소에 2를 곱해서 다시 마지막에 추가한다.\n",
    " * stack에 남은 모든 요소를 더한 뒤 반환한다."
   ]
  },
  {
   "cell_type": "markdown",
   "id": "0d7970bb",
   "metadata": {},
   "source": [
    "https://school.programmers.co.kr/learn/courses/30/lessons/17682"
   ]
  }
 ],
 "metadata": {
  "celltoolbar": "Raw Cell Format",
  "kernelspec": {
   "display_name": "Python 3 (ipykernel)",
   "language": "python",
   "name": "python3"
  },
  "language_info": {
   "codemirror_mode": {
    "name": "ipython",
    "version": 3
   },
   "file_extension": ".py",
   "mimetype": "text/x-python",
   "name": "python",
   "nbconvert_exporter": "python",
   "pygments_lexer": "ipython3",
   "version": "3.9.7"
  }
 },
 "nbformat": 4,
 "nbformat_minor": 5
}
