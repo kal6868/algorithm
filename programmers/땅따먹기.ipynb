{
 "cells": [
  {
   "cell_type": "markdown",
   "id": "fbd6d190",
   "metadata": {},
   "source": [
    "# 문제"
   ]
  },
  {
   "cell_type": "markdown",
   "id": "aa665cb9",
   "metadata": {},
   "source": [
    "* 땅따먹기 게임을 하려고 합니다. 땅따먹기 게임의 땅(land)은 총 N행 4열로 이루어져 있고, 모든 칸에는 점수가 쓰여 있습니다. 1행부터 땅을 밟으며 한 행씩 내려올 때, 각 행의 4칸 중 한 칸만 밟으면서 내려와야 합니다. 단, 땅따먹기 게임에는 한 행씩 내려올 때, 같은 열을 연속해서 밟을 수 없는 특수 규칙이 있습니다."
   ]
  },
  {
   "cell_type": "markdown",
   "id": "c21b2be6",
   "metadata": {},
   "source": [
    "* 예를들면"
   ]
  },
  {
   "cell_type": "markdown",
   "id": "ef791f01",
   "metadata": {},
   "source": [
    "\n",
    "|||||\n",
    "|---|---|---|---|\n",
    "|1|2|3|5|\n",
    "|5|6|7|8|\n",
    "|4|3|2|2|"
   ]
  },
  {
   "cell_type": "markdown",
   "id": "e24e92a6",
   "metadata": {},
   "source": [
    "* 로 땅이 주어졌다면, 1행에서 네번째 칸 (5)를 밟았으면, 2행의 네번째 칸 (8)은 밟을 수 없습니다."
   ]
  },
  {
   "cell_type": "markdown",
   "id": "12548eb7",
   "metadata": {},
   "source": [
    "* 마지막 행까지 모두 내려왔을 때, 얻을 수 있는 점수의 최대값을 return하는 solution 함수를 완성해 주세요. 위 예의 경우, 1행의 네번째 칸 (5), 2행의 세번째 칸 (7), 3행의 첫번째 칸 (4) 땅을 밟아 16점이 최고점이 되므로 16을 return 하면 됩니다."
   ]
  },
  {
   "cell_type": "markdown",
   "id": "f9ef37cc",
   "metadata": {},
   "source": [
    "# 제한 사항"
   ]
  },
  {
   "cell_type": "markdown",
   "id": "2da597a6",
   "metadata": {},
   "source": [
    "* 행의 개수 N : 100,000 이하의 자연수\n",
    "* 열의 개수는 4개이고, 땅(land)은 2차원 배열로 주어집니다.\n",
    "* 점수 : 100 이하의 자연수"
   ]
  },
  {
   "cell_type": "markdown",
   "id": "16452081",
   "metadata": {},
   "source": [
    "# 입출력 예시"
   ]
  },
  {
   "cell_type": "markdown",
   "id": "9b026c31",
   "metadata": {},
   "source": [
    "|land|answer|\n",
    "|---|---|\n",
    "|[[1,2,3,5],[5,6,7,8],[4,3,2,1]]|16|"
   ]
  },
  {
   "cell_type": "code",
   "execution_count": 1,
   "id": "d3f7e869",
   "metadata": {},
   "outputs": [],
   "source": [
    "def solution(land):\n",
    "    for i in range(1, len(land)):\n",
    "        for j in range(len(land[0])):\n",
    "            land[i][j] += max([land[i-1][k] for k in range(len(land[i-1])) if k != j])\n",
    "    return max(land[-1])"
   ]
  },
  {
   "cell_type": "code",
   "execution_count": 2,
   "id": "ab9e927b",
   "metadata": {},
   "outputs": [
    {
     "name": "stdout",
     "output_type": "stream",
     "text": [
      "16 "
     ]
    }
   ],
   "source": [
    "for land in [[[1,2,3,5],[5,6,7,8],[4,3,2,1]]]:\n",
    "    print(solution(land), end = ' ')"
   ]
  },
  {
   "cell_type": "markdown",
   "id": "55f1bb43",
   "metadata": {},
   "source": [
    "\n",
    "# 풀이 과정 및 주의사항"
   ]
  },
  {
   "cell_type": "markdown",
   "id": "d8d686a4",
   "metadata": {},
   "source": [
    "* 첫번째 리스트를 제외하고 두번째 리스트에서부터 이전 리스트의 가장 큰 값을 더해주면 된다. 단, 이전 리스트에서 현재 리스트와 동일한 위치에 있는 요소는 최대값을 산출할 때 고려하지 않는다."
   ]
  },
  {
   "cell_type": "markdown",
   "id": "0d7970bb",
   "metadata": {},
   "source": [
    "https://school.programmers.co.kr/learn/courses/30/lessons/12913"
   ]
  }
 ],
 "metadata": {
  "celltoolbar": "Raw Cell Format",
  "kernelspec": {
   "display_name": "Python 3 (ipykernel)",
   "language": "python",
   "name": "python3"
  },
  "language_info": {
   "codemirror_mode": {
    "name": "ipython",
    "version": 3
   },
   "file_extension": ".py",
   "mimetype": "text/x-python",
   "name": "python",
   "nbconvert_exporter": "python",
   "pygments_lexer": "ipython3",
   "version": "3.9.7"
  }
 },
 "nbformat": 4,
 "nbformat_minor": 5
}
