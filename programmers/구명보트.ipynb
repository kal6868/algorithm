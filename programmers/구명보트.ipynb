{
 "cells": [
  {
   "cell_type": "markdown",
   "id": "fbd6d190",
   "metadata": {},
   "source": [
    "# 문제"
   ]
  },
  {
   "cell_type": "markdown",
   "id": "aa665cb9",
   "metadata": {},
   "source": [
    "* 무인도에 갇힌 사람들을 구명보트를 이용하여 구출하려고 합니다. 구명보트는 작아서 한 번에 최대 2명씩 밖에 탈 수 없고, 무게 제한도 있습니다. 예를 들어, 사람들의 몸무게가 [70kg, 50kg, 80kg, 50kg]이고 구명보트의 무게 제한이 100kg이라면 2번째 사람과 4번째 사람은 같이 탈 수 있지만 1번째 사람과 3번째 사람의 무게의 합은 150kg이므로 구명보트의 무게 제한을 초과하여 같이 탈 수 없습니다.\n",
    "* 구명보트를 최대한 적게 사용하여 모든 사람을 구출하려고 합니다.\n",
    "* 사람들의 몸무게를 담은 배열 people과 구명보트의 무게 제한 limit가 매개변수로 주어질 때, 모든 사람을 구출하기 위해 필요한 구명보트 개수의 최솟값을 return 하도록 solution 함수를 작성해주세요."
   ]
  },
  {
   "cell_type": "markdown",
   "id": "93c69f28",
   "metadata": {},
   "source": [
    "# 제한 조건"
   ]
  },
  {
   "cell_type": "markdown",
   "id": "ebf4c872",
   "metadata": {},
   "source": [
    "* 무인도에 갇힌 사람은 1명 이상 50,000명 이하입니다.\n",
    "* 각 사람의 몸무게는 40kg 이상 240kg 이하입니다.\n",
    "* 구명보트의 무게 제한은 40kg 이상 240kg 이하입니다.\n",
    "* 구명보트의 무게 제한은 항상 사람들의 몸무게 중 최댓값보다 크게 주어지므로 사람들을 구출할 수 없는 경우는 없습니다."
   ]
  },
  {
   "cell_type": "code",
   "execution_count": 1,
   "id": "b2918811",
   "metadata": {},
   "outputs": [],
   "source": [
    "def solution(people, limit):\n",
    "    answer = len(people)\n",
    "    people = sorted(people, reverse = True)\n",
    "    s, p = 0, len(people)-1\n",
    "    while s < p:\n",
    "        if people[s] + people[p] <= limit:\n",
    "            answer -= 1\n",
    "            p -= 1\n",
    "        s += 1\n",
    "        \n",
    "    return answer"
   ]
  },
  {
   "cell_type": "code",
   "execution_count": 2,
   "id": "9b07c977",
   "metadata": {},
   "outputs": [
    {
     "data": {
      "text/plain": [
       "4"
      ]
     },
     "execution_count": 2,
     "metadata": {},
     "output_type": "execute_result"
    }
   ],
   "source": [
    "peoples = [70, 80, 50, 60, 40]\n",
    "limit_ = 100\n",
    "solution(peoples, limit_)"
   ]
  },
  {
   "cell_type": "markdown",
   "id": "55f1bb43",
   "metadata": {},
   "source": [
    "# 풀이 과정 및 주의사항"
   ]
  },
  {
   "cell_type": "markdown",
   "id": "6efca741",
   "metadata": {},
   "source": [
    "* 두 사람의 몸무게가 limit를 넘지 못할시 사람만큼 보트가 필요하므로 먼저 사람 수 만큼을 answer로 지정한다.\n",
    "* 사람들의 몸무게를 정렬하여 가장 무거운 사람의 몸무게(첫번째 요소) + 가장 가벼운 사람의 사람 몸무게(마지막 요소)를 구한다\n",
    "* 두 사람의 몸무게가 limit 이상이면 마지막 요소는 고정하고 첫번째에서 두번째 요소로 이동한다.\n",
    "* 두 사람의 몸무게가 limit 이하이면 마지막 요소는 마지막에서 두번째 요소로 이동하고,  첫번째에서 두번째 요소로 이동하며 answer에서 1을 빼 준다."
   ]
  },
  {
   "cell_type": "markdown",
   "id": "a93a96e8",
   "metadata": {},
   "source": [
    "https://school.programmers.co.kr/learn/courses/30/lessons/42885"
   ]
  }
 ],
 "metadata": {
  "kernelspec": {
   "display_name": "Python 3 (ipykernel)",
   "language": "python",
   "name": "python3"
  },
  "language_info": {
   "codemirror_mode": {
    "name": "ipython",
    "version": 3
   },
   "file_extension": ".py",
   "mimetype": "text/x-python",
   "name": "python",
   "nbconvert_exporter": "python",
   "pygments_lexer": "ipython3",
   "version": "3.9.7"
  }
 },
 "nbformat": 4,
 "nbformat_minor": 5
}
