{
 "cells": [
  {
   "cell_type": "markdown",
   "id": "fbd6d190",
   "metadata": {},
   "source": [
    "# 문제 설명"
   ]
  },
  {
   "cell_type": "markdown",
   "id": "295ec3a5",
   "metadata": {},
   "source": [
    "* 철수는 롤케이크를 두 조각으로 잘라서 동생과 한 조각씩 나눠 먹으려고 합니다. 이 롤케이크에는 여러가지 토핑들이 일렬로 올려져 있습니다. 철수와 동생은 롤케이크를 공평하게 나눠먹으려 하는데, 그들은 롤케이크의 크기보다 롤케이크 위에 올려진 토핑들의 종류에 더 관심이 많습니다. 그래서 잘린 조각들의 크기와 올려진 토핑의 개수에 상관없이 각 조각에 동일한 가짓수의 토핑이 올라가면 공평하게 롤케이크가 나누어진 것으로 생각합니다."
   ]
  },
  {
   "cell_type": "markdown",
   "id": "14a0b149",
   "metadata": {},
   "source": [
    "* 예를 들어, 롤케이크에 4가지 종류의 토핑이 올려져 있다고 합시다. 토핑들을 1, 2, 3, 4와 같이 번호로 표시했을 때, 케이크 위에 토핑들이 [1, 2, 1, 3, 1, 4, 1, 2] 순서로 올려져 있습니다. 만약 세 번째 토핑(1)과 네 번째 토핑(3) 사이를 자르면 롤케이크의 토핑은 [1, 2, 1], [3, 1, 4, 1, 2]로 나뉘게 됩니다. 철수가 [1, 2, 1]이 놓인 조각을, 동생이 [3, 1, 4, 1, 2]가 놓인 조각을 먹게 되면 철수는 두 가지 토핑(1, 2)을 맛볼 수 있지만, 동생은 네 가지 토핑(1, 2, 3, 4)을 맛볼 수 있으므로, 이는 공평하게 나누어진 것이 아닙니다. 만약 롤케이크의 네 번째 토핑(3)과 다섯 번째 토핑(1) 사이를 자르면 [1, 2, 1, 3], [1, 4, 1, 2]로 나뉘게 됩니다. 이 경우 철수는 세 가지 토핑(1, 2, 3)을, 동생도 세 가지 토핑(1, 2, 4)을 맛볼 수 있으므로, 이는 공평하게 나누어진 것입니다. 공평하게 롤케이크를 자르는 방법은 여러가지 일 수 있습니다. 위의 롤케이크를 [1, 2, 1, 3, 1], [4, 1, 2]으로 잘라도 공평하게 나뉩니다. 어떤 경우에는 롤케이크를 공평하게 나누지 못할 수도 있습니다."
   ]
  },
  {
   "cell_type": "markdown",
   "id": "48335dee",
   "metadata": {},
   "source": [
    "* 롤케이크에 올려진 토핑들의 번호를 저장한 정수 배열 topping이 매개변수로 주어질 때, 롤케이크를 공평하게 자르는 방법의 수를 return 하도록 solution 함수를 완성해주세요."
   ]
  },
  {
   "cell_type": "markdown",
   "id": "b56a4179",
   "metadata": {},
   "source": [
    "# 제한사항"
   ]
  },
  {
   "cell_type": "markdown",
   "id": "229fc3aa",
   "metadata": {},
   "source": [
    "* 1 ≤ topping의 길이 ≤ 1,000,000\n",
    "    * 1 ≤ topping의 원소 ≤ 10,000"
   ]
  },
  {
   "cell_type": "markdown",
   "id": "16452081",
   "metadata": {},
   "source": [
    "# 입출력 예시"
   ]
  },
  {
   "cell_type": "markdown",
   "id": "9b026c31",
   "metadata": {},
   "source": [
    "|topping|result|\n",
    "|---|---|\n",
    "|[1, 2, 1, 3, 1, 4, 1, 2]|2|\n",
    "|[1, 2, 3, 1, 4]|0|"
   ]
  },
  {
   "cell_type": "code",
   "execution_count": 1,
   "id": "2cfeb700",
   "metadata": {},
   "outputs": [],
   "source": [
    "def solution_notpassed(topping):\n",
    "    answer = 0\n",
    "    len_t = len(topping)\n",
    "    for i in range(1, len_t):\n",
    "        young = topping[:i]\n",
    "        older = topping[i:len_t]\n",
    "        \n",
    "        y_l, o_l = [], []\n",
    "        for y in young:\n",
    "            if y not in y_l:\n",
    "                y_l.append(y)\n",
    "        for o in older:\n",
    "            if o not in o_l:\n",
    "                o_l.append(o)\n",
    "        if len(y_l) == len(o_l):\n",
    "            answer += 1\n",
    "    return answer"
   ]
  },
  {
   "cell_type": "code",
   "execution_count": 2,
   "id": "7a532efd",
   "metadata": {},
   "outputs": [],
   "source": [
    "from collections import Counter\n",
    "def solution(topping):\n",
    "    answer = 0\n",
    "    con = Counter(topping)\n",
    "    set_t = set()\n",
    "    \n",
    "    for i in topping:\n",
    "        con[i] -= 1\n",
    "        set_t.add(i)\n",
    "        if con[i] == 0:\n",
    "            con.pop(i)\n",
    "        if len(con) == len(set_t):\n",
    "            answer += 1 \n",
    "    return answer"
   ]
  },
  {
   "cell_type": "code",
   "execution_count": 3,
   "id": "4411ccbc",
   "metadata": {},
   "outputs": [
    {
     "name": "stdout",
     "output_type": "stream",
     "text": [
      "2\n",
      "0\n"
     ]
    }
   ],
   "source": [
    "for nums in [[1, 2, 1, 3, 1, 4, 1, 2], [1,2,3,1,4]]:\n",
    "    print(solution(nums))"
   ]
  },
  {
   "cell_type": "markdown",
   "id": "a76a6800",
   "metadata": {},
   "source": [
    "# 풀이 과정 및 주의사항"
   ]
  },
  {
   "cell_type": "markdown",
   "id": "641c1f09",
   "metadata": {},
   "source": [
    " * list와 for문을 사용해서 푼 코드는 시간 문제 때문에 통과하지 못함\n",
    " * Counter : 각 요소와 그 개수를 반환하는 Dictation ex) {1: 3, 2: 2, 3: 1, 4: 1}\n",
    " * for 문으로 topping의 요소를 하나씩 Counter에서 빼고, 해당 숫자를 set 자료형(중복이 허용되지 않는)에 넣고, Counter에서 개수가 0이 되면 해당 key(topping)은 제거한다.\n",
    " * 둘다 중복되는 요소가 없으므로 len 함수를 썼을 때, 토핑 종류의 개수가 같으면 answer에 1을 더해준다."
   ]
  },
  {
   "cell_type": "markdown",
   "id": "0d7970bb",
   "metadata": {},
   "source": [
    "https://school.programmers.co.kr/learn/courses/30/lessons/132265"
   ]
  },
  {
   "cell_type": "code",
   "execution_count": null,
   "id": "32137491",
   "metadata": {},
   "outputs": [],
   "source": []
  }
 ],
 "metadata": {
  "celltoolbar": "Raw Cell Format",
  "kernelspec": {
   "display_name": "Python 3 (ipykernel)",
   "language": "python",
   "name": "python3"
  },
  "language_info": {
   "codemirror_mode": {
    "name": "ipython",
    "version": 3
   },
   "file_extension": ".py",
   "mimetype": "text/x-python",
   "name": "python",
   "nbconvert_exporter": "python",
   "pygments_lexer": "ipython3",
   "version": "3.9.7"
  }
 },
 "nbformat": 4,
 "nbformat_minor": 5
}
