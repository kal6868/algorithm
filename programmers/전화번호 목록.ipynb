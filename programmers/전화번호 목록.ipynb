{
 "cells": [
  {
   "cell_type": "markdown",
   "id": "fbd6d190",
   "metadata": {},
   "source": [
    "# 문제"
   ]
  },
  {
   "cell_type": "markdown",
   "id": "aa665cb9",
   "metadata": {},
   "source": [
    "* 전화번호부에 적힌 전화번호 중, 한 번호가 다른 번호의 접두어인 경우가 있는지 확인하려 합니다.\n",
    "* 전화번호가 다음과 같을 경우, 구조대 전화번호는 영석이의 전화번호의 접두사입니다.\n",
    "\n",
    "    * 구조대 : 119\n",
    "    * 박준영 : 97 674 223\n",
    "    * 지영석 : 11 9552 4421\n",
    "    \n",
    "    \n",
    "* 전화번호부에 적힌 전화번호를 담은 배열 phone_book 이 solution 함수의 매개변수로 주어질 때, 어떤 번호가 다른 번호의 접두어인 경우가 있으면 false를 그렇지 않으면 true를 return 하도록 solution 함수를 작성해주세요."
   ]
  },
  {
   "cell_type": "markdown",
   "id": "be064c2f",
   "metadata": {},
   "source": [
    "# 제한사항"
   ]
  },
  {
   "cell_type": "markdown",
   "id": "c4d677a4",
   "metadata": {},
   "source": [
    "* phone_book의 길이는 1 이상 1,000,000 이하입니다.\n",
    "    * 각 전화번호의 길이는 1 이상 20 이하입니다.\n",
    "    * 같은 전화번호가 중복해서 들어있지 않습니다."
   ]
  },
  {
   "cell_type": "markdown",
   "id": "16452081",
   "metadata": {},
   "source": [
    "# 입출력 예시"
   ]
  },
  {
   "cell_type": "markdown",
   "id": "9b026c31",
   "metadata": {},
   "source": [
    "|numbers|result|\n",
    "|---|---|\n",
    "|[\"119\", \"97674223\", \"1195524421\"]|false|\n",
    "|[\"123\",\"456\",\"789\"]|true|\n",
    "|[\"12\",\"123\",\"1235\",\"567\",\"88\"]|false|"
   ]
  },
  {
   "cell_type": "code",
   "execution_count": 1,
   "id": "b2918811",
   "metadata": {},
   "outputs": [],
   "source": [
    "def solution(phone_book):\n",
    "    phone_book = sorted(phone_book, key = lambda x : x)\n",
    "    answer = True\n",
    "    for n_index in range(1, len(phone_book)):\n",
    "        if phone_book[n_index - 1] < phone_book[n_index]:\n",
    "            if phone_book[n_index][:len(phone_book[n_index - 1])] == phone_book[n_index - 1]:\n",
    "                answer = False\n",
    "                break\n",
    "    return answer"
   ]
  },
  {
   "cell_type": "code",
   "execution_count": 2,
   "id": "9b07c977",
   "metadata": {
    "scrolled": true
   },
   "outputs": [
    {
     "name": "stdout",
     "output_type": "stream",
     "text": [
      "3 / 2 / "
     ]
    }
   ],
   "source": [
    "for i in [\"17\", \"011\"]:\n",
    "    print(solution(i), end = ' / ')"
   ]
  },
  {
   "cell_type": "code",
   "execution_count": 1,
   "id": "49af1cca",
   "metadata": {},
   "outputs": [],
   "source": [
    "def solution(phone_book):\n",
    "    phone_book = sorted(phone_book, key = lambda x : x)\n",
    "    answer = True\n",
    "    for n_index in range(1, len(phone_book)):\n",
    "        if phone_book[n_index - 1] < phone_book[n_index]:\n",
    "            if phone_book[n_index][:len(phone_book[n_index - 1])] == phone_book[n_index - 1]:\n",
    "                answer = False\n",
    "                break\n",
    "    return answer"
   ]
  },
  {
   "cell_type": "code",
   "execution_count": 2,
   "id": "9aa289a1",
   "metadata": {},
   "outputs": [
    {
     "name": "stdout",
     "output_type": "stream",
     "text": [
      "False / True / False / "
     ]
    }
   ],
   "source": [
    "for i in [[\"119\", \"97674223\", \"1195524421\"], [\"123\",\"456\",\"789\"], [\"12\",\"123\",\"1235\",\"567\",\"88\"]]:\n",
    "    print(solution(i), end = ' / ')"
   ]
  },
  {
   "cell_type": "markdown",
   "id": "55f1bb43",
   "metadata": {},
   "source": [
    "# 풀이 과정 및 주의사항"
   ]
  },
  {
   "cell_type": "markdown",
   "id": "6efca741",
   "metadata": {},
   "source": [
    "* 리스트를 정렬 후 for 문을 활용하여 전, 후를 비교해서 하나의 요소가 다른 요소로 시작하면 False를 반환한다\n",
    "    * \"123\", \"123456\" -> False\n",
    "* 시간 단축을 위해 앞 요소의 길이가 뒷 요소의 길이보다 작을때만 비교를 하고, 하나의 요소가 발견되면 break로 for문을 중지한다 "
   ]
  },
  {
   "cell_type": "markdown",
   "id": "a93a96e8",
   "metadata": {},
   "source": [
    "https://school.programmers.co.kr/learn/courses/30/lessons/42577"
   ]
  }
 ],
 "metadata": {
  "kernelspec": {
   "display_name": "Python 3 (ipykernel)",
   "language": "python",
   "name": "python3"
  },
  "language_info": {
   "codemirror_mode": {
    "name": "ipython",
    "version": 3
   },
   "file_extension": ".py",
   "mimetype": "text/x-python",
   "name": "python",
   "nbconvert_exporter": "python",
   "pygments_lexer": "ipython3",
   "version": "3.9.7"
  }
 },
 "nbformat": 4,
 "nbformat_minor": 5
}
