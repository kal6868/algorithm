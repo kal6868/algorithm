{
 "cells": [
  {
   "cell_type": "markdown",
   "id": "fbd6d190",
   "metadata": {},
   "source": [
    "# 문제 설명"
   ]
  },
  {
   "cell_type": "markdown",
   "id": "295ec3a5",
   "metadata": {},
   "source": [
    "* 로또 6/45(이하 '로또'로 표기)는 1부터 45까지의 숫자 중 6개를 찍어서 맞히는 대표적인 복권입니다. 아래는 로또의 순위를 정하는 방식입니다. \n",
    "    * 실제로 사용되는 로또 순위의 결정 방식과는 약간 다르지만, 이 문제에서는 지문에 명시된 대로 로또 순위를 결정하도록 합니다."
   ]
  },
  {
   "cell_type": "markdown",
   "id": "697f875f",
   "metadata": {},
   "source": [
    "|순위|당첨 내용|\n",
    "|---|---|\n",
    "|1|6개 번호가 모두 일치|\n",
    "|2|5개 번호가 일치|\n",
    "|3|4개 번호가 일치|\n",
    "|4|3개 번호가 일치|\n",
    "|5|2개 번호가 일치|\n",
    "|6(낙첨)|그 외|"
   ]
  },
  {
   "cell_type": "markdown",
   "id": "e291db77",
   "metadata": {},
   "source": [
    "* 로또를 구매한 민우는 당첨 번호 발표일을 학수고대하고 있었습니다. 하지만, 민우의 동생이 로또에 낙서를 하여, 일부 번호를 알아볼 수 없게 되었습니다. 당첨 번호 발표 후, 민우는 자신이 구매했던 로또로 당첨이 가능했던 최고 순위와 최저 순위를 알아보고 싶어 졌습니다. 알아볼 수 없는 번호를 0으로 표기하기로 하고, 민우가 구매한 로또 번호 6개가 44, 1, 0, 0, 31 25라고 가정해보겠습니다. 당첨 번호 6개가 31, 10, 45, 1, 6, 19라면, 당첨 가능한 최고 순위와 최저 순위의 한 예는 아래와 같습니다."
   ]
  },
  {
   "cell_type": "markdown",
   "id": "60ddf7f6",
   "metadata": {},
   "source": [
    "|당첨 번호|31|10|45|1|6|19|결과|\n",
    "|---|---|---|---|---|---|---|---|\n",
    "|최고 순위 번호|31|0→10|44|1|0→6|25|4개 번호 일치, 3등|\n",
    "|최저 순위 번호|31|0→11|44|1|0→7|25|2개 번호 일치, 5등|\n",
    "\n",
    "* 순서와 상관없이, 구매한 로또에 당첨 번호와 일치하는 번호가 있으면 맞힌 걸로 인정됩니다.\n",
    "* 알아볼 수 없는 두 개의 번호를 각각 10, 6이라고 가정하면 3등에 당첨될 수 있습니다.\n",
    "    * 3등을 만드는 다른 방법들도 존재합니다. 하지만, 2등 이상으로 만드는 것은 불가능합니다.\n",
    "* 알아볼 수 없는 두 개의 번호를 각각 11, 7이라고 가정하면 5등에 당첨될 수 있습니다.\n",
    "    * 5등을 만드는 다른 방법들도 존재합니다. 하지만, 6등(낙첨)으로 만드는 것은 불가능합니다."
   ]
  },
  {
   "cell_type": "markdown",
   "id": "f417d115",
   "metadata": {},
   "source": [
    "* 민우가 구매한 로또 번호를 담은 배열 lottos, 당첨 번호를 담은 배열 win_nums가 매개변수로 주어집니다. 이때, 당첨 가능한 최고 순위와 최저 순위를 차례대로 배열에 담아서 return 하도록 solution 함수를 완성해주세요."
   ]
  },
  {
   "cell_type": "markdown",
   "id": "b56a4179",
   "metadata": {},
   "source": [
    "# 제한사항"
   ]
  },
  {
   "cell_type": "markdown",
   "id": "229fc3aa",
   "metadata": {},
   "source": [
    "* lottos는 길이 6인 정수 배열입니다.\n",
    "* lottos의 모든 원소는 0 이상 45 이하인 정수입니다.\n",
    "    * 0은 알아볼 수 없는 숫자를 의미합니다.\n",
    "    * 0을 제외한 다른 숫자들은 lottos에 2개 이상 담겨있지 않습니다.\n",
    "    * lottos의 원소들은 정렬되어 있지 않을 수도 있습니다.\n",
    "* win_nums은 길이 6인 정수 배열입니다.\n",
    "* win_nums의 모든 원소는 1 이상 45 이하인 정수입니다.\n",
    "    * win_nums에는 같은 숫자가 2개 이상 담겨있지 않습니다.\n",
    "    * win_nums의 원소들은 정렬되어 있지 않을 수도 있습니다."
   ]
  },
  {
   "cell_type": "markdown",
   "id": "16452081",
   "metadata": {},
   "source": [
    "# 입출력 예시"
   ]
  },
  {
   "cell_type": "markdown",
   "id": "9b026c31",
   "metadata": {},
   "source": [
    "|lottos|win_nums|result|\n",
    "|---|---|---|\n",
    "|[44, 1, 0, 0, 31, 25]|[31, 10, 45, 1, 6, 19]|[3, 5]|\n",
    "|[0, 0, 0, 0, 0, 0]|[38, 19, 20, 40, 15, 25]|[1, 6]|\n",
    "|[45, 4, 35, 20, 3, 9]|[20, 9, 3, 45, 4, 35]|[1, 1]|"
   ]
  },
  {
   "cell_type": "code",
   "execution_count": 3,
   "id": "2cfeb700",
   "metadata": {},
   "outputs": [],
   "source": [
    "def solution(lottos, win_nums):\n",
    "    l_dicts = {6:1, 5:2, 4:3, 3:4, 2:5, 1:6, 0:6}\n",
    "    lottos = sorted(lottos, reverse=True)\n",
    "    base, unknown = 0, 0\n",
    "    for i in lottos:\n",
    "        if (i > 0) and (i in win_nums):\n",
    "            base += 1\n",
    "        elif i == 0:\n",
    "            unknown += 1\n",
    "\n",
    "    answer = [l_dicts[base + unknown], l_dicts[base]]\n",
    "    return answer"
   ]
  },
  {
   "cell_type": "code",
   "execution_count": 4,
   "id": "4411ccbc",
   "metadata": {},
   "outputs": [
    {
     "name": "stdout",
     "output_type": "stream",
     "text": [
      "[3, 5]\n",
      "[1, 6]\n",
      "[1, 1]\n"
     ]
    }
   ],
   "source": [
    "for lottos, win_nums in [[[44, 1, 0, 0, 31, 25], [31, 10, 45, 1, 6, 19]],\n",
    "                         [[0, 0, 0, 0, 0, 0], [38, 19, 20, 40, 15, 25]],\n",
    "                         [[45, 4, 35, 20, 3, 9], [20, 9, 3, 45, 4, 35]]]:\n",
    "    print(solution(lottos, win_nums))"
   ]
  },
  {
   "cell_type": "markdown",
   "id": "a76a6800",
   "metadata": {},
   "source": [
    "# 풀이 과정 및 주의사항"
   ]
  },
  {
   "cell_type": "markdown",
   "id": "641c1f09",
   "metadata": {},
   "source": [
    " * lottos list를 역순으로 정렬하여 0이 아닌경우, win_nums list에 해당 숫자가 존재하면 base에 1씩 더해주고, 0이 나온 경우는 unknown에 1을 더해준다.\n",
    " * 최저 순위는 base만 다 맞은 경우이고 최고 순위는 unknown까지 다 맞은 경우이므로 맞힌 개수와 순위를 연결한 l_dict라는 dictation을 만들어서 \\[0이 맞은 번호일 경우, 0이 맞지 않는 번호일 경우\\]를 answer로 반환하면 된다."
   ]
  },
  {
   "cell_type": "markdown",
   "id": "0d7970bb",
   "metadata": {},
   "source": [
    "https://school.programmers.co.kr/learn/courses/30/lessons/77484"
   ]
  }
 ],
 "metadata": {
  "celltoolbar": "Raw Cell Format",
  "kernelspec": {
   "display_name": "Python 3 (ipykernel)",
   "language": "python",
   "name": "python3"
  },
  "language_info": {
   "codemirror_mode": {
    "name": "ipython",
    "version": 3
   },
   "file_extension": ".py",
   "mimetype": "text/x-python",
   "name": "python",
   "nbconvert_exporter": "python",
   "pygments_lexer": "ipython3",
   "version": "3.9.7"
  }
 },
 "nbformat": 4,
 "nbformat_minor": 5
}
