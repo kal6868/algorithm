{
 "cells": [
  {
   "cell_type": "markdown",
   "id": "fbd6d190",
   "metadata": {},
   "source": [
    "# 문제"
   ]
  },
  {
   "cell_type": "markdown",
   "id": "aa665cb9",
   "metadata": {},
   "source": [
    "* n개의 음이 아닌 정수들이 있습니다. 이 정수들을 순서를 바꾸지 않고 적절히 더하거나 빼서 타겟 넘버를 만들려고 합니다. 예를 들어 [1, 1, 1, 1, 1]로 숫자 3을 만들려면 다음 다섯 방법을 쓸 수 있습니다\n",
    "    * -1+1+1+1+1 = 3\n",
    "    * +1-1+1+1+1 = 3\n",
    "    * +1+1-1+1+1 = 3\n",
    "    * +1+1+1-1+1 = 3\n",
    "    * +1+1+1+1-1 = 3"
   ]
  },
  {
   "cell_type": "markdown",
   "id": "f8ba84ae",
   "metadata": {},
   "source": [
    "* 사용할 수 있는 숫자가 담긴 배열 numbers, 타겟 넘버 target이 매개변수로 주어질 때 숫자를 적절히 더하고 빼서 타겟 넘버를 만드는 방법의 수를 return 하도록 solution 함수를 작성해주세요."
   ]
  },
  {
   "cell_type": "markdown",
   "id": "be064c2f",
   "metadata": {},
   "source": [
    "# 제한사항"
   ]
  },
  {
   "cell_type": "markdown",
   "id": "c4d677a4",
   "metadata": {},
   "source": [
    "* 주어지는 숫자의 개수는 2개 이상 20개 이하입니다.\n",
    "* 각 숫자는 1 이상 50 이하인 자연수입니다.\n",
    "* 타겟 넘버는 1 이상 1000 이하인 자연수입니다."
   ]
  },
  {
   "cell_type": "markdown",
   "id": "16452081",
   "metadata": {},
   "source": [
    "# 입출력 예시"
   ]
  },
  {
   "cell_type": "markdown",
   "id": "9b026c31",
   "metadata": {},
   "source": [
    "|n|target|return|\n",
    "|---|---|---|\n",
    "|[1, 1, 1, 1, 1]|3|5|\n",
    "|[4, 1, 2, 1]|4|2|\n",
    "\n"
   ]
  },
  {
   "cell_type": "code",
   "execution_count": 1,
   "id": "d3f7e869",
   "metadata": {},
   "outputs": [],
   "source": [
    "from collections import deque\n",
    "\n",
    "def solution(numbers, target):\n",
    "    answer = 0\n",
    "    que = deque()\n",
    "    length = len(numbers)\n",
    "    \n",
    "    que.append([numbers[0], 0])\n",
    "    que.append([-1*numbers[0], 0])\n",
    "    \n",
    "    while que:\n",
    "        num, i = que.popleft()\n",
    "        if i+1 == length:\n",
    "            if num == target:\n",
    "                answer += 1\n",
    "        else:\n",
    "            que.append([num + numbers[i+1], i+1])\n",
    "            que.append([num - numbers[i+1], i+1])\n",
    "    return answer"
   ]
  },
  {
   "cell_type": "code",
   "execution_count": 2,
   "id": "ab9e927b",
   "metadata": {},
   "outputs": [
    {
     "name": "stdout",
     "output_type": "stream",
     "text": [
      "5 2 "
     ]
    }
   ],
   "source": [
    "for numbers, target in ([[[1,1,1,1,1], 3], [[4,1,2,1], 2]]):\n",
    "    print(solution(numbers, target), end = ' ')"
   ]
  },
  {
   "cell_type": "markdown",
   "id": "55f1bb43",
   "metadata": {},
   "source": [
    "\n",
    "# 풀이 과정 및 주의사항"
   ]
  },
  {
   "cell_type": "markdown",
   "id": "d8d686a4",
   "metadata": {},
   "source": [
    "* 숫자가 짝수인 경우는 바로 다음수(+1)이 비트가 2개 이하로 차이나면서 가장 작은 수가 된다.\n",
    "* 홀수인 경우는 자릿수중 가장 뒤에 나타나는 0을 1로 바꾸고 해당 자릿수 바로 다음 자릿수를 0으로 바꾸면 비트가 2개 차이나면서 가장 작은 숫가 된다.\n",
    "* 0을 앞에 더해주는 이유는 자릿수가 추가되는 경우를 해결하기 위함, 나중에 10진수로 변경할때 차이를 영향을 주지 않는다."
   ]
  },
  {
   "cell_type": "markdown",
   "id": "a93a96e8",
   "metadata": {},
   "source": [
    "https://school.programmers.co.kr/learn/courses/30/lessons/43165"
   ]
  }
 ],
 "metadata": {
  "celltoolbar": "Raw Cell Format",
  "kernelspec": {
   "display_name": "Python 3 (ipykernel)",
   "language": "python",
   "name": "python3"
  },
  "language_info": {
   "codemirror_mode": {
    "name": "ipython",
    "version": 3
   },
   "file_extension": ".py",
   "mimetype": "text/x-python",
   "name": "python",
   "nbconvert_exporter": "python",
   "pygments_lexer": "ipython3",
   "version": "3.9.7"
  }
 },
 "nbformat": 4,
 "nbformat_minor": 5
}
