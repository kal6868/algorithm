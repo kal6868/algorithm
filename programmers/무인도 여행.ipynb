{
 "cells": [
  {
   "attachments": {},
   "cell_type": "markdown",
   "metadata": {},
   "source": [
    "# 무인도 여행"
   ]
  },
  {
   "attachments": {},
   "cell_type": "markdown",
   "metadata": {},
   "source": [
    "## 문제 설명"
   ]
  },
  {
   "attachments": {},
   "cell_type": "markdown",
   "metadata": {},
   "source": [
    "* 1 x 1 크기의 칸들로 이루어진 직사각형 격자 형태의 미로에서 탈출하려고 합니다. 각 칸은 통로 또는 벽으로 구성되어 있으며, 벽으로 된 칸은 지나갈 수 없고 통로로 된 칸으로만 이동할 수 있습니다. 통로들 중 한 칸에는 미로를 빠져나가는 문이 있는데, 이 문은 레버를 당겨서만 열 수 있습니다. 레버 또한 통로들 중 한 칸에 있습니다. 따라서, 출발 지점에서 먼저 레버가 있는 칸으로 이동하여 레버를 당긴 후 미로를 빠져나가는 문이 있는 칸으로 이동하면 됩니다. 이때 아직 레버를 당기지 않았더라도 출구가 있는 칸을 지나갈 수 있습니다. 미로에서 한 칸을 이동하는데 1초가 걸린다고 할 때, 최대한 빠르게 미로를 빠져나가는데 걸리는 시간을 구하려 합니다."
   ]
  },
  {
   "cell_type": "markdown",
   "metadata": {},
   "source": [
    "* 지도를 나타내는 문자열 배열 maps가 매개변수로 주어질 때, 각 섬에서 최대 며칠씩 머무를 수 있는지 배열에 오름차순으로 담아 return 하는 solution 함수를 완성해주세요. 만약 지낼 수 있는 무인도가 없다면 -1을 배열에 담아 return 해주세요."
   ]
  },
  {
   "attachments": {},
   "cell_type": "markdown",
   "metadata": {},
   "source": [
    "## 제한 사항"
   ]
  },
  {
   "attachments": {},
   "cell_type": "markdown",
   "metadata": {},
   "source": [
    "* 3 ≤ maps의 길이 ≤ 100\n",
    "    * 3 ≤ maps[i]의 길이 ≤ 100\n",
    "    * maps[i]는 'X' 또는 1 과 9 사이의 자연수로 이루어진 문자열입니다.\n",
    "    * 지도는 직사각형 형태입니다."
   ]
  },
  {
   "attachments": {},
   "cell_type": "markdown",
   "metadata": {},
   "source": [
    "## 입출력 예"
   ]
  },
  {
   "attachments": {},
   "cell_type": "markdown",
   "metadata": {},
   "source": [
    "|maps|result|\n",
    "|---|---|\n",
    "|[\"X591X\",\"X1X5X\",\"X231X\", \"1XXX1\"]|[1, 1, 27]|\n",
    "|[\"XXX\",\"XXX\",\"XXX\"]|[-1]|"
   ]
  },
  {
   "attachments": {},
   "cell_type": "markdown",
   "metadata": {},
   "source": [
    "## Code"
   ]
  },
  {
   "cell_type": "code",
   "execution_count": 1,
   "metadata": {},
   "outputs": [],
   "source": [
    "# 프로그래머스 무인도 여행(bfs)\n",
    "from collections import deque\n",
    "\n",
    "def bfs(y, x, args):\n",
    "    Y, X, graph = args\n",
    "    dy = [1, -1, 0, 0]\n",
    "    dx = [0, 0, 1, -1]\n",
    "    \n",
    "    food = int(graph[y][x])\n",
    "    queue = deque()\n",
    "    queue.append((y, x))\n",
    "    graph[y][x] = 'X'\n",
    "    \n",
    "    while queue:\n",
    "        y, x = queue.popleft()\n",
    "        for i in range(4):\n",
    "            nx = x + dx[i]\n",
    "            ny = y + dy[i]\n",
    "            if (0<=nx<X) and (0<=ny<Y):\n",
    "                if (graph[ny][nx] != 'X'):\n",
    "                    queue.append((ny, nx))\n",
    "                    food += int(graph[ny][nx])\n",
    "                    graph[ny][nx] = 'X'\n",
    "    return food \n",
    "\n",
    "def solution(maps):\n",
    "    maps = [list(m) for m in maps]\n",
    "    Y, X = len(maps), len(maps[0])\n",
    "    args = (Y, X, maps)\n",
    "    answer = []\n",
    "    for _y in range(Y):\n",
    "        for _x in range(X):\n",
    "            if maps[_y][_x] != 'X':\n",
    "                sum_food = bfs(_y, _x, args)\n",
    "                answer.append(sum_food)\n",
    "    if answer:\n",
    "        return sorted(answer)\n",
    "    else:\n",
    "        return [-1]"
   ]
  },
  {
   "attachments": {},
   "cell_type": "markdown",
   "metadata": {},
   "source": [
    "## 예제입력"
   ]
  },
  {
   "cell_type": "code",
   "execution_count": 2,
   "metadata": {},
   "outputs": [
    {
     "data": {
      "text/plain": [
       "[1, 1, 27]"
      ]
     },
     "execution_count": 2,
     "metadata": {},
     "output_type": "execute_result"
    }
   ],
   "source": [
    "solution([\"X591X\",\"X1X5X\",\"X231X\", \"1XXX1\"])"
   ]
  },
  {
   "cell_type": "code",
   "execution_count": 3,
   "metadata": {},
   "outputs": [
    {
     "data": {
      "text/plain": [
       "[-1]"
      ]
     },
     "execution_count": 3,
     "metadata": {},
     "output_type": "execute_result"
    }
   ],
   "source": [
    "solution([\"XXX\",\"XXX\",\"XXX\"])"
   ]
  },
  {
   "attachments": {},
   "cell_type": "markdown",
   "metadata": {},
   "source": [
    "## Note"
   ]
  },
  {
   "cell_type": "markdown",
   "metadata": {},
   "source": [
    "* 1. 'X'가 아닌 칸을 만나면, 해당 칸에 숫자를 저장하고 인근에 'X'가 아닌 칸이 있는지 탐색한 후, 'X'가 아닌 칸의 좌표에서 숫자를 저장하고 탐색하는 과정을 반복한다.\n",
    "* 2. bfs\n",
    "    * 1\\) 좌표에 해당하는 값이 'X'가 아닌 경우 해당 좌표를 기준으로 미리 정의된 bfs 함수를 실행한다.\n",
    "    * 2\\) 먼저 최초로 입력받은 좌표 칸의 값을 저장(food)하고 queue를 만들어 해당 좌표를 저장한다. 그리고 재방문을 방지하기 위해서 해당 좌표의 값은 'X'로 변경한다.\n",
    "    * 3\\) 최초로 입력받은 좌표를 기준으로 상, 하, 좌, 우에 'X'가 아닌 값이 있는지 탐색한다. \n",
    "    * 4\\) 'X'가 아닌 값을 찾으면, 해당 좌표를 queue에 저장하고, food에 해당 좌표 칸의 값을 더해준다.\n",
    "    * 5\\) 상, 하, 좌, 우에서 더 이상 'X'가 아닌 값을 찾지 못할 경우 지금까지 저장된 food 값을 반환한다.\n",
    "* 3. dfs에서 반환된 food 값을 List(answer)에 저장한다. 만약 answer에 저장된 값이 없다면 [-1]을 반환한다."
   ]
  },
  {
   "attachments": {},
   "cell_type": "markdown",
   "metadata": {},
   "source": [
    "https://school.programmers.co.kr/learn/courses/30/lessons/154540"
   ]
  }
 ],
 "metadata": {
  "kernelspec": {
   "display_name": "ws1",
   "language": "python",
   "name": "python3"
  },
  "language_info": {
   "codemirror_mode": {
    "name": "ipython",
    "version": 3
   },
   "file_extension": ".py",
   "mimetype": "text/x-python",
   "name": "python",
   "nbconvert_exporter": "python",
   "pygments_lexer": "ipython3",
   "version": "3.11.3"
  },
  "orig_nbformat": 4,
  "vscode": {
   "interpreter": {
    "hash": "2856db72fb1e77597a3b14e9c1bb4d2315d342edc16fc9e25c6c6e499688b933"
   }
  }
 },
 "nbformat": 4,
 "nbformat_minor": 2
}
