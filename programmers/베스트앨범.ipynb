{
 "cells": [
  {
   "cell_type": "markdown",
   "id": "fbd6d190",
   "metadata": {},
   "source": [
    "# 문제 설명"
   ]
  },
  {
   "cell_type": "markdown",
   "id": "aa665cb9",
   "metadata": {},
   "source": [
    "* 스트리밍 사이트에서 장르 별로 가장 많이 재생된 노래를 두 개씩 모아 베스트 앨범을 출시하려 합니다. 노래는 고유 번호로 구분하며, 노래를 수록하는 기준은 다음과 같습니다.\n",
    "\n",
    "    * 1.속한 노래가 많이 재생된 장르를 먼저 수록합니다.\n",
    "    * 2.장르 내에서 많이 재생된 노래를 먼저 수록합니다.\n",
    "    * 3.장르 내에서 재생 횟수가 같은 노래 중에서는 고유 번호가 낮은 노래를 먼저 수록합니다."
   ]
  },
  {
   "cell_type": "markdown",
   "id": "e1a00c09",
   "metadata": {},
   "source": [
    "* 노래의 장르를 나타내는 문자열 배열 genres와 노래별 재생 횟수를 나타내는 정수 배열 plays가 주어질 때, 베스트 앨범에 들어갈 노래의 고유 번호를 순서대로 return 하도록 solution 함수를 완성하세요."
   ]
  },
  {
   "cell_type": "markdown",
   "id": "b56a4179",
   "metadata": {},
   "source": [
    "# 제한사항"
   ]
  },
  {
   "cell_type": "markdown",
   "id": "229fc3aa",
   "metadata": {},
   "source": [
    "* genres[i]는 고유번호가 i인 노래의 장르입니다.\n",
    "* plays[i]는 고유번호가 i인 노래가 재생된 횟수입니다.\n",
    "* genres와 plays의 길이는 같으며, 이는 1 이상 10,000 이하입니다.\n",
    "* 장르 종류는 100개 미만입니다.\n",
    "* 장르에 속한 곡이 하나라면, 하나의 곡만 선택합니다.\n",
    "* 모든 장르는 재생된 횟수가 다릅니다."
   ]
  },
  {
   "cell_type": "markdown",
   "id": "16452081",
   "metadata": {},
   "source": [
    "# 입출력 예시"
   ]
  },
  {
   "cell_type": "markdown",
   "id": "9b026c31",
   "metadata": {},
   "source": [
    "|genres|plays|return|\n",
    "|---|---|---|\n",
    "|[\"classic\", \"pop\", \"classic\", \"classic\", \"pop\"]|[500, 600, 150, 800, 2500]|[4, 1, 3, 0]|"
   ]
  },
  {
   "cell_type": "code",
   "execution_count": 1,
   "id": "d3f7e869",
   "metadata": {},
   "outputs": [],
   "source": [
    "def solution(genres, plays):\n",
    "    c_id = [i for i in range(len(plays))]\n",
    "    \n",
    "    # {장르 : [고유번호, 재생횟수], [고유번호, 재생횟수]....} 형식의 Dictionary를 만든다\n",
    "    music_dict = {}\n",
    "    for genre, play, m_id in zip(genres, plays, c_id):\n",
    "        if genre in music_dict:\n",
    "            music_dict[genre].append([m_id, play])\n",
    "        else:\n",
    "            music_dict[genre] = [[m_id, play]]\n",
    "    \n",
    "    # 장르별 음악 재생횟수로 정렬한다\n",
    "    for genre in music_dict:\n",
    "        music_dict[genre] = sorted(music_dict[genre], key=lambda x: x[1], reverse=True)\n",
    "    \n",
    "    # 음악 재생 횟수 합산이 큰 장르부터 정렬한다\n",
    "    count_plays = {}\n",
    "    for genre in music_dict:\n",
    "        sum_p = 0\n",
    "        for _, plays in music_dict[genre]:\n",
    "            sum_p += plays\n",
    "        count_plays[genre] = sum_p\n",
    "    count_plays = sorted(count_plays, key=lambda x: count_plays[x], reverse = True)\n",
    "    \n",
    "    best_album = []\n",
    "    \n",
    "    # 음악이 1개면 1개만 입력\n",
    "    for genre in count_plays:\n",
    "        if len(music_dict[genre]) >= 2:\n",
    "            for i in range(2):\n",
    "                best_album.append(music_dict[genre][i])\n",
    "        elif len(music_dict[genre]) == 1:\n",
    "            best_album.append(music_dict[genre][0])\n",
    "    \n",
    "    # 고유번호만 입력\n",
    "    answer = []\n",
    "    for m_id, _ in best_album:\n",
    "        answer.append(m_id)\n",
    "    return answer"
   ]
  },
  {
   "cell_type": "code",
   "execution_count": 2,
   "id": "ab9e927b",
   "metadata": {
    "scrolled": true
   },
   "outputs": [
    {
     "name": "stdout",
     "output_type": "stream",
     "text": [
      "[4, 1, 3, 0] "
     ]
    }
   ],
   "source": [
    "for genres, plays in [[[\"classic\", \"pop\", \"classic\", \"classic\", \"pop\"], [500, 600, 150, 800, 2500]]]:\n",
    "    print(solution(genres, plays), end = ' ')"
   ]
  },
  {
   "cell_type": "markdown",
   "id": "f9f5c74b",
   "metadata": {},
   "source": [
    "# 풀이 과정 및 주의사항"
   ]
  },
  {
   "cell_type": "markdown",
   "id": "d8d686a4",
   "metadata": {},
   "source": [
    "* Dictionary를 만들어서 {장르 : [고유번호1, 재생횟수], [고유번호2, 재생횟수]... } 형태로 저장한 뒤, 재생횟수를 기준으로 정렬한다.\n",
    "* Dictionary를 하나 더 만들고 장르별 음악 재생 횟수의 합산을 구하고 정렬하여 재생 횟수가 높은 순서대로 장르를 정렬한다.\n",
    "* 장르에 속한 음악이 하나 일수 있으므로 2개 이상일땐 2개를, 1개 일땐 1개의 List([고유번호1, 재생횟수]) 추가한다.\n",
    "* answer List에 고유번호만 담아 반환한다."
   ]
  },
  {
   "cell_type": "markdown",
   "id": "0d7970bb",
   "metadata": {},
   "source": [
    "https://school.programmers.co.kr/learn/courses/30/lessons/42579"
   ]
  }
 ],
 "metadata": {
  "celltoolbar": "Raw Cell Format",
  "kernelspec": {
   "display_name": "Python 3 (ipykernel)",
   "language": "python",
   "name": "python3"
  },
  "language_info": {
   "codemirror_mode": {
    "name": "ipython",
    "version": 3
   },
   "file_extension": ".py",
   "mimetype": "text/x-python",
   "name": "python",
   "nbconvert_exporter": "python",
   "pygments_lexer": "ipython3",
   "version": "3.9.7"
  }
 },
 "nbformat": 4,
 "nbformat_minor": 5
}
