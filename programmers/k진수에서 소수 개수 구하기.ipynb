{
 "cells": [
  {
   "cell_type": "markdown",
   "id": "fbd6d190",
   "metadata": {},
   "source": [
    "# 문제"
   ]
  },
  {
   "cell_type": "markdown",
   "id": "aa665cb9",
   "metadata": {},
   "source": [
    "* 양의 정수 n이 주어집니다. 이 숫자를 k진수로 바꿨을 때, 변환된 수 안에 아래 조건에 맞는 소수(Prime number)가 몇 개인지 알아보려 합니다.\n",
    "\n",
    "    * 0P0처럼 소수 양쪽에 0이 있는 경우\n",
    "    * P0처럼 소수 오른쪽에만 0이 있고 왼쪽에는 아무것도 없는 경우\n",
    "    * 0P처럼 소수 왼쪽에만 0이 있고 오른쪽에는 아무것도 없는 경우\n",
    "    * P처럼 소수 양쪽에 아무것도 없는 경우\n",
    "    * 단, P는 각 자릿수에 0을 포함하지 않는 소수입니다.\n",
    "        * 예를 들어, 101은 P가 될 수 없습니다.\n",
    "* 예를 들어, 437674을 3진수로 바꾸면 211020101011입니다. 여기서 찾을 수 있는 조건에 맞는 소수는 왼쪽부터 순서대로 211, 2, 11이 있으며, 총 3개입니다. (211, 2, 11을 k진법으로 보았을 때가 아닌, 10진법으로 보았을 때 소수여야 한다는 점에 주의합니다.) 211은 P0 형태에서 찾을 수 있으며, 2는 0P0에서, 11은 0P에서 찾을 수 있습니다.\n",
    "\n",
    "* 정수 n과 k가 매개변수로 주어집니다. n을 k진수로 바꿨을 때, 변환된 수 안에서 찾을 수 있는 위 조건에 맞는 소수의 개수를 return 하도록 solution 함수를 완성해 주세요."
   ]
  },
  {
   "cell_type": "markdown",
   "id": "be064c2f",
   "metadata": {},
   "source": [
    "# 제한사항"
   ]
  },
  {
   "cell_type": "markdown",
   "id": "c4d677a4",
   "metadata": {},
   "source": [
    "* 1 ≤ n ≤ 1,000,000\n",
    "* 3 ≤ k ≤ 10"
   ]
  },
  {
   "cell_type": "markdown",
   "id": "16452081",
   "metadata": {},
   "source": [
    "# 입출력 예시"
   ]
  },
  {
   "cell_type": "markdown",
   "id": "9b026c31",
   "metadata": {},
   "source": [
    "|n|k|result|\n",
    "|---|---|---|\n",
    "|437674|3|3|\n",
    "|110011|10|2|"
   ]
  },
  {
   "cell_type": "code",
   "execution_count": 1,
   "id": "d3f7e869",
   "metadata": {},
   "outputs": [],
   "source": [
    "def n_changer(n, k):\n",
    "    total_tail = ''\n",
    "    while n :\n",
    "        head = n // k\n",
    "        tail = n % k\n",
    "        total_tail = str(tail) + total_tail\n",
    "        n = head\n",
    "    return total_tail\n",
    "\n",
    "def is_prime(n):\n",
    "    n = int(n)\n",
    "    p_n = True\n",
    "    for div_n in range(2, int(n**0.5)+1):\n",
    "        if n % div_n == 0:\n",
    "            p_n = False\n",
    "    return p_n\n",
    "\n",
    "def solution(n, k):\n",
    "    answer = 0\n",
    "    prime_num = n_changer(n, k)\n",
    "    \n",
    "    num_list = []\n",
    "    for p_num in prime_num.split('0'):\n",
    "        if p_num: \n",
    "            num_list.append(p_num)\n",
    "    \n",
    "    for num in num_list:\n",
    "        num = int(num)\n",
    "        if num == 1:\n",
    "            continue\n",
    "            \n",
    "        if is_prime(num):            \n",
    "            answer += 1\n",
    "\n",
    "    return answer"
   ]
  },
  {
   "cell_type": "code",
   "execution_count": 2,
   "id": "ab9e927b",
   "metadata": {},
   "outputs": [
    {
     "name": "stdout",
     "output_type": "stream",
     "text": [
      "3 2 "
     ]
    }
   ],
   "source": [
    "for n,k in [[437674, 3], [110011, 10]]:\n",
    "    print(solution(n, k), end = ' ')"
   ]
  },
  {
   "cell_type": "markdown",
   "id": "55f1bb43",
   "metadata": {},
   "source": [
    "# 풀이 과정 및 주의사항"
   ]
  },
  {
   "cell_type": "markdown",
   "id": "d8d686a4",
   "metadata": {},
   "source": [
    "* n_changer : 숫자를 진수에 해당되는 숫자로 나머지가 0이 될 때까지 나눈 후 나머지들을 거꾸로 합쳐 n 진수로 변환한다\n",
    "* is_prime : 숫자를 2 ~ 해당 숫자의 제곱근까지(range 함수의 특성 상 +1을 해줘야 숫자의 제곱근까지 포함)까지 숫자로 나눠서 나머지가 0이 되는 숫자가 있으면 False를 반환, 나머지가 0이 되는 숫자가 없으면 True를 반환한다.\n",
    "* 숫자를 n 진수로 변환하고, 문자형 상태에서 '0'을 기준으로 분할한다음 ''이 아닌 것들만 list에 추가한다. list에 담긴 숫자들을 다시 숫자형으로 바꿔 1인 경우에는 제외하고 나머지를 is_prime 함수를 이용해서 소수인지 아닌지 판별한다."
   ]
  },
  {
   "cell_type": "markdown",
   "id": "a93a96e8",
   "metadata": {},
   "source": [
    "https://school.programmers.co.kr/learn/courses/30/lessons/92335"
   ]
  }
 ],
 "metadata": {
  "kernelspec": {
   "display_name": "Python 3 (ipykernel)",
   "language": "python",
   "name": "python3"
  },
  "language_info": {
   "codemirror_mode": {
    "name": "ipython",
    "version": 3
   },
   "file_extension": ".py",
   "mimetype": "text/x-python",
   "name": "python",
   "nbconvert_exporter": "python",
   "pygments_lexer": "ipython3",
   "version": "3.9.7"
  }
 },
 "nbformat": 4,
 "nbformat_minor": 5
}
