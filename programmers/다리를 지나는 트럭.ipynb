{
 "cells": [
  {
   "cell_type": "markdown",
   "id": "fbd6d190",
   "metadata": {},
   "source": [
    "# 문제"
   ]
  },
  {
   "cell_type": "markdown",
   "id": "aa665cb9",
   "metadata": {},
   "source": [
    "* 트럭 여러 대가 강을 가로지르는 일차선 다리를 정해진 순으로 건너려 합니다. 모든 트럭이 다리를 건너려면 최소 몇 초가 걸리는지 알아내야 합니다. 다리에는 트럭이 최대 bridge_length대 올라갈 수 있으며, 다리는 weight 이하까지의 무게를 견딜 수 있습니다. 단, 다리에 완전히 오르지 않은 트럭의 무게는 무시합니다."
   ]
  },
  {
   "cell_type": "markdown",
   "id": "c21b2be6",
   "metadata": {},
   "source": [
    "* 예를 들어, 트럭 2대가 올라갈 수 있고 무게를 10kg까지 견디는 다리가 있습니다. 무게가 [7, 4, 5, 6]kg인 트럭이 순서대로 최단 시간 안에 다리를 건너려면 다음과 같이 건너야 합니다."
   ]
  },
  {
   "cell_type": "markdown",
   "id": "2fd08018",
   "metadata": {},
   "source": [
    "|경과 시간|다리를 지난 트럭|다리를 건너는 트럭|대기 트럭|\n",
    "|---|---|---|---|\n",
    "|0|[]|[]|[7,4,5,6]|\n",
    "|1~2|[]|[7]|[4,5,6]|\n",
    "|3|[7]|[4]|[5,6]|\n",
    "|4|[7]|[4,5]|[6]|\n",
    "|5|[7,4]|[5]|[6]|\n",
    "|6~7|[7,4,5]|[6]|[]|\n",
    "|8|[7,4,5,6]|[]|[]|\n",
    "\n",
    "* 따라서, 모든 트럭이 다리를 지나려면 최소 8초가 걸립니다."
   ]
  },
  {
   "cell_type": "markdown",
   "id": "5e2313eb",
   "metadata": {},
   "source": [
    "* solution 함수의 매개변수로 다리에 올라갈 수 있는 트럭 수 bridge_length, 다리가 견딜 수 있는 무게 weight, 트럭 별 무게 truck_weights가 주어집니다. 이때 모든 트럭이 다리를 건너려면 최소 몇 초가 걸리는지 return 하도록 solution 함수를 완성하세요."
   ]
  },
  {
   "cell_type": "markdown",
   "id": "be064c2f",
   "metadata": {},
   "source": [
    "# 제한사항"
   ]
  },
  {
   "cell_type": "markdown",
   "id": "c4d677a4",
   "metadata": {},
   "source": [
    "* bridge_length는 1 이상 10,000 이하입니다.\n",
    "* weight는 1 이상 10,000 이하입니다.\n",
    "* truck_weights의 길이는 1 이상 10,000 이하입니다.\n",
    "* 모든 트럭의 무게는 1 이상 weight 이하입니다."
   ]
  },
  {
   "cell_type": "markdown",
   "id": "16452081",
   "metadata": {},
   "source": [
    "# 입출력 예시"
   ]
  },
  {
   "cell_type": "markdown",
   "id": "9b026c31",
   "metadata": {},
   "source": [
    "|bridge_length|weight|truck_weights|return|\n",
    "|---|---|---|---|\n",
    "|2|10|[7,4,5,6]|8|\n",
    "|100|100|[10]|101|\n",
    "|100|100|[10,10,10,10,10,10,10,10,10,10]|110|\n"
   ]
  },
  {
   "cell_type": "code",
   "execution_count": 1,
   "id": "d3f7e869",
   "metadata": {},
   "outputs": [],
   "source": [
    "def solution(bridge_length, weight, truck_weights):\n",
    "    answer = 0\n",
    "    bridge = [0 for _ in range(bridge_length)]\n",
    "    \n",
    "    while bridge:\n",
    "        answer += 1\n",
    "        bridge.pop(0)\n",
    "        \n",
    "        if truck_weights:\n",
    "            if sum(bridge) + truck_weights[0] <= weight:\n",
    "                new_truck = truck_weights.pop(0)\n",
    "                bridge.append(new_truck)\n",
    "            else:\n",
    "                bridge.append(0)\n",
    "    return answer"
   ]
  },
  {
   "cell_type": "code",
   "execution_count": 2,
   "id": "ab9e927b",
   "metadata": {},
   "outputs": [
    {
     "name": "stdout",
     "output_type": "stream",
     "text": [
      "8 101 110 "
     ]
    }
   ],
   "source": [
    "for bridge_length, weight, truck_weights in [[2,10,[7,4,5,6]], [100,100,[10]], [100,100,[10,10,10,10,10,10,10,10,10,10]]]:\n",
    "    print(solution(bridge_length, weight, truck_weights), end = ' ')"
   ]
  },
  {
   "cell_type": "code",
   "execution_count": 3,
   "id": "59344da5",
   "metadata": {},
   "outputs": [],
   "source": [
    "from collections import deque\n",
    "def solution(bridge_length, weight, truck_weights):\n",
    "    answer = 0\n",
    "    bridge = deque()\n",
    "    d_truck_weights = deque(truck_weights)\n",
    "    bridge_weight = 0\n",
    "    \n",
    "    for _ in range(bridge_length):\n",
    "        bridge.append(0)\n",
    "    \n",
    "    while bridge:\n",
    "        answer += 1\n",
    "        bridge_weight -= bridge[0]\n",
    "        bridge.popleft()\n",
    "        \n",
    "        if d_truck_weights:\n",
    "            if bridge_weight + d_truck_weights[0] <= weight:\n",
    "                new_truck = d_truck_weights.popleft()\n",
    "                bridge.append(new_truck)\n",
    "                bridge_weight += new_truck\n",
    "            else:\n",
    "                bridge.append(0)\n",
    "    return answer"
   ]
  },
  {
   "cell_type": "code",
   "execution_count": 4,
   "id": "a4b577d1",
   "metadata": {},
   "outputs": [
    {
     "name": "stdout",
     "output_type": "stream",
     "text": [
      "8 101 110 "
     ]
    }
   ],
   "source": [
    "for bridge_length, weight, truck_weights in [[2,10,[7,4,5,6]], [100,100,[10]], [100,100,[10,10,10,10,10,10,10,10,10,10]]]:\n",
    "    print(solution(bridge_length, weight, truck_weights), end = ' ')"
   ]
  },
  {
   "cell_type": "markdown",
   "id": "55f1bb43",
   "metadata": {},
   "source": [
    "\n",
    "# 풀이 과정 및 주의사항"
   ]
  },
  {
   "cell_type": "markdown",
   "id": "d8d686a4",
   "metadata": {},
   "source": [
    "* 시간을 구해야 하므로 while이 한번 반복되는 시간을 1초라고 생각한다.\n",
    "* 다리의 길이만큼 0을 채운 list인 bridge를 만들고 while문이 한번 반복할때마다 맨 앞의 요소를 제거한다. brige 안에 요소들과 truck_weights의 맨 앞 요소의 합이 weight를 넘지 않으면 truck_weights의 맨 앞 값을 bridge에 넣어주고, "
   ]
  },
  {
   "cell_type": "markdown",
   "id": "895742bc",
   "metadata": {},
   "source": [
    "* deque를 사용하면 sum 함수때문에 시간 초과가 난다. list로 할 때와 방법은 동일하지만, bridge_weight라는 변수를 만들어서 new_truck이 bridge에 추가될 때 bridge_weight 더해주고, while 반복문의 맨 앞에 요소를 제거 할 때마다 bridge_weight빼주면(truck이 나가지 않으면 0을 빼게 된다) sum 함수가 없어도 다리 무게를 관리할 수 있다."
   ]
  },
  {
   "cell_type": "markdown",
   "id": "a93a96e8",
   "metadata": {},
   "source": [
    "https://school.programmers.co.kr/learn/courses/30/lessons/42583"
   ]
  }
 ],
 "metadata": {
  "celltoolbar": "Raw Cell Format",
  "kernelspec": {
   "display_name": "Python 3 (ipykernel)",
   "language": "python",
   "name": "python3"
  },
  "language_info": {
   "codemirror_mode": {
    "name": "ipython",
    "version": 3
   },
   "file_extension": ".py",
   "mimetype": "text/x-python",
   "name": "python",
   "nbconvert_exporter": "python",
   "pygments_lexer": "ipython3",
   "version": "3.9.7"
  }
 },
 "nbformat": 4,
 "nbformat_minor": 5
}
