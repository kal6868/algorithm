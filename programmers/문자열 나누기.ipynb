{
 "cells": [
  {
   "cell_type": "markdown",
   "id": "fbd6d190",
   "metadata": {},
   "source": [
    "# 문제 설명"
   ]
  },
  {
   "cell_type": "markdown",
   "id": "295ec3a5",
   "metadata": {},
   "source": [
    "* 문자열 s가 입력되었을 때 다음 규칙을 따라서 이 문자열을 여러 문자열로 분해하려고 합니다.\n",
    "    * 먼저 첫 글자를 읽습니다. 이 글자를 x라고 합시다.\n",
    "    * 이제 이 문자열을 왼쪽에서 오른쪽으로 읽어나가면서, x와 x가 아닌 다른 글자들이 나온 횟수를 각각 셉니다. 처음으로 두 횟수가 같아지는 순간 멈추고, 지금까지 읽은 문자열을 분리합니다.\n",
    "    * s에서 분리한 문자열을 빼고 남은 부분에 대해서 이 과정을 반복합니다. 남은 부분이 없다면 종료합니다.\n",
    "    * 만약 두 횟수가 다른 상태에서 더 이상 읽을 글자가 없다면, 역시 지금까지 읽은 문자열을 분리하고, 종료합니다."
   ]
  },
  {
   "cell_type": "markdown",
   "id": "41d65362",
   "metadata": {},
   "source": [
    "* 문자열 s가 매개변수로 주어질 때, 위 과정과 같이 문자열들로 분해하고, 분해한 문자열의 개수를 return 하는 함수 solution을 완성하세요."
   ]
  },
  {
   "cell_type": "markdown",
   "id": "ace8205e",
   "metadata": {},
   "source": [
    "# 제한사항"
   ]
  },
  {
   "cell_type": "markdown",
   "id": "a21dd125",
   "metadata": {},
   "source": [
    "* 1 ≤ s의 길이 ≤ 10,000\n",
    "* s는 영어 소문자로만 이루어져 있습니다."
   ]
  },
  {
   "cell_type": "markdown",
   "id": "16452081",
   "metadata": {},
   "source": [
    "# 예제 입출력"
   ]
  },
  {
   "cell_type": "markdown",
   "id": "9b026c31",
   "metadata": {},
   "source": [
    "|s|result|\n",
    "|---|---|\t\n",
    "|\"banana\"|3|\n",
    "|\"abracadabra\"|6|\n",
    "|\"aaabbaccccabba\"|3|"
   ]
  },
  {
   "cell_type": "code",
   "execution_count": 1,
   "id": "2cfeb700",
   "metadata": {},
   "outputs": [],
   "source": [
    "from collections import deque\n",
    "def solution(s):\n",
    "    answer = 0\n",
    "    d_s = deque(s)\n",
    "    d_x, d_nx = deque(), deque() \n",
    "    while d_s:\n",
    "        x = d_s.popleft()\n",
    "        if not d_x:\n",
    "            d_x.append(x)\n",
    "        else:\n",
    "            if x in d_x:\n",
    "                d_x.append(x)\n",
    "            else:\n",
    "                d_nx.append(x)\n",
    "        if len(d_x) == len(d_nx):\n",
    "            answer += 1\n",
    "            d_x, d_nx = deque(), deque()\n",
    "    if d_x:\n",
    "        answer += 1\n",
    "    return answer"
   ]
  },
  {
   "cell_type": "code",
   "execution_count": 2,
   "id": "4411ccbc",
   "metadata": {},
   "outputs": [
    {
     "name": "stdout",
     "output_type": "stream",
     "text": [
      "3\n",
      "6\n",
      "3\n"
     ]
    }
   ],
   "source": [
    "for s in [\"banana\", \"abracadabra\", \"aaabbaccccabba\"]:\n",
    "    print(solution(s))"
   ]
  },
  {
   "cell_type": "markdown",
   "id": "a76a6800",
   "metadata": {},
   "source": [
    "# 풀이 과정 및 주의사항"
   ]
  },
  {
   "cell_type": "markdown",
   "id": "641c1f09",
   "metadata": {},
   "source": [
    " * s의 첫 문자열을 d_x라는 deque에 추가하고 그 다음 문자열이 첫 문자열과 같으면 d_x에, 그렇지 않으면 d_nx에 담는다. d"
   ]
  },
  {
   "cell_type": "markdown",
   "id": "0d7970bb",
   "metadata": {},
   "source": [
    "https://school.programmers.co.kr/learn/courses/30/lessons/140108"
   ]
  }
 ],
 "metadata": {
  "celltoolbar": "Raw Cell Format",
  "kernelspec": {
   "display_name": "Python 3 (ipykernel)",
   "language": "python",
   "name": "python3"
  },
  "language_info": {
   "codemirror_mode": {
    "name": "ipython",
    "version": 3
   },
   "file_extension": ".py",
   "mimetype": "text/x-python",
   "name": "python",
   "nbconvert_exporter": "python",
   "pygments_lexer": "ipython3",
   "version": "3.9.7"
  }
 },
 "nbformat": 4,
 "nbformat_minor": 5
}
