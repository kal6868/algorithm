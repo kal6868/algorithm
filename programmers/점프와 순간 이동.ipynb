{
 "cells": [
  {
   "cell_type": "markdown",
   "id": "fbd6d190",
   "metadata": {},
   "source": [
    "# 문제"
   ]
  },
  {
   "cell_type": "markdown",
   "id": "aa665cb9",
   "metadata": {},
   "source": [
    "* OO 연구소는 한 번에 K 칸을 앞으로 점프하거나, (현재까지 온 거리) x 2 에 해당하는 위치로 순간이동을 할 수 있는 특수한 기능을 가진 아이언 슈트를 개발하여 판매하고 있습니다. 이 아이언 슈트는 건전지로 작동되는데, 순간이동을 하면 건전지 사용량이 줄지 않지만, 앞으로 K 칸을 점프하면 K 만큼의 건전지 사용량이 듭니다. 그러므로 아이언 슈트를 착용하고 이동할 때는 순간 이동을 하는 것이 더 효율적입니다. 아이언 슈트 구매자는 아이언 슈트를 착용하고 거리가 N 만큼 떨어져 있는 장소로 가려고 합니다. 단, 건전지 사용량을 줄이기 위해 점프로 이동하는 것은 최소로 하려고 합니다. 아이언 슈트 구매자가 이동하려는 거리 N이 주어졌을 때, 사용해야 하는 건전지 사용량의 최솟값을 return하는 solution 함수를 만들어 주세요.\n",
    "\n",
    "* 예를 들어 거리가 5만큼 떨어져 있는 장소로 가려고 합니다.\n",
    "* 아이언 슈트를 입고 거리가 5만큼 떨어져 있는 장소로 갈 수 있는 경우의 수는 여러 가지입니다.\n",
    "\n",
    "    * 처음 위치 0 에서 5 칸을 앞으로 점프하면 바로 도착하지만, 건전지 사용량이 5 만큼 듭니다.\n",
    "    * 처음 위치 0 에서 2 칸을 앞으로 점프한 다음 순간이동 하면 (현재까지 온 거리 : 2) x 2에 해당하는 위치로 이동할 수 있으므로 위치 4로 이동합니다. 이때 1 칸을 앞으로 점프하면 도착하므로 건전지 사용량이 3 만큼 듭니다.\n",
    "    * 처음 위치 0 에서 1 칸을 앞으로 점프한 다음 순간이동 하면 (현재까지 온 거리 : 1) x 2에 해당하는 위치로 이동할 수 있으므로 위치 2로 이동됩니다. 이때 다시 순간이동 하면 (현재까지 온 거리 : 2) x 2 만큼 이동할 수 있으므로 위치 4로 이동합니다. 이때 1 칸을 앞으로 점프하면 도착하므로 건전지 사용량이 2 만큼 듭니다.\n",
    "* 위의 3가지 경우 거리가 5만큼 떨어져 있는 장소로 가기 위해서 3번째 경우가 건전지 사용량이 가장 적으므로 답은 2가 됩니다."
   ]
  },
  {
   "cell_type": "markdown",
   "id": "93c69f28",
   "metadata": {},
   "source": [
    "# 제한 조건"
   ]
  },
  {
   "cell_type": "markdown",
   "id": "ebf4c872",
   "metadata": {},
   "source": [
    "* 숫자 N: 1 이상 10억 이하의 자연수\n",
    "* 숫자 K: 1 이상의 자연수"
   ]
  },
  {
   "cell_type": "markdown",
   "id": "73cf05d4",
   "metadata": {},
   "source": [
    "# 입출력 예 설명"
   ]
  },
  {
   "cell_type": "markdown",
   "id": "dbc9302c",
   "metadata": {},
   "source": [
    "|N|result|\n",
    "|---|---|\n",
    "|5|2|\n",
    "|6|2|\n",
    "|5000|5|"
   ]
  },
  {
   "cell_type": "code",
   "execution_count": 1,
   "id": "b2918811",
   "metadata": {},
   "outputs": [],
   "source": [
    "def solution(N):\n",
    "    answer = 0\n",
    "    while N > 0:\n",
    "        answer += N % 2\n",
    "        N = N // 2\n",
    "    return answer"
   ]
  },
  {
   "cell_type": "code",
   "execution_count": 5,
   "id": "9b07c977",
   "metadata": {},
   "outputs": [
    {
     "name": "stdout",
     "output_type": "stream",
     "text": [
      "2 2 5 "
     ]
    }
   ],
   "source": [
    "for i in [5, 6, 5000]:\n",
    "    print(solution(i), end = \" \")"
   ]
  },
  {
   "cell_type": "markdown",
   "id": "55f1bb43",
   "metadata": {},
   "source": [
    "# 풀이 과정 및 주의사항"
   ]
  },
  {
   "cell_type": "markdown",
   "id": "6efca741",
   "metadata": {},
   "source": [
    "* 한칸을 점프로 먼저 간 후(배터리 사용량 1), 순간 이동을(배터리 사용량 0) 최대로 하고 나머지 거리를 다시 점프(배터리 사용량 1)로 가는 것이 최소한의 방법이므로 N을 2로 계속 나눈 나머지들의 합이 정답"
   ]
  },
  {
   "cell_type": "markdown",
   "id": "a93a96e8",
   "metadata": {},
   "source": [
    "https://school.programmers.co.kr/learn/courses/30/lessons/12980"
   ]
  }
 ],
 "metadata": {
  "kernelspec": {
   "display_name": "Python 3 (ipykernel)",
   "language": "python",
   "name": "python3"
  },
  "language_info": {
   "codemirror_mode": {
    "name": "ipython",
    "version": 3
   },
   "file_extension": ".py",
   "mimetype": "text/x-python",
   "name": "python",
   "nbconvert_exporter": "python",
   "pygments_lexer": "ipython3",
   "version": "3.9.7"
  }
 },
 "nbformat": 4,
 "nbformat_minor": 5
}
