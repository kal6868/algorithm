{
 "cells": [
  {
   "attachments": {},
   "cell_type": "markdown",
   "metadata": {},
   "source": [
    "# 리코쳇 로봇"
   ]
  },
  {
   "attachments": {},
   "cell_type": "markdown",
   "metadata": {},
   "source": [
    "## 문제 설명"
   ]
  },
  {
   "attachments": {},
   "cell_type": "markdown",
   "metadata": {},
   "source": [
    "* 리코쳇 로봇이라는 보드게임이 있습니다."
   ]
  },
  {
   "cell_type": "markdown",
   "metadata": {},
   "source": [
    "* 이 보드게임은 격자모양 게임판 위에서 말을 움직이는 게임으로, 시작 위치에서 목표 위치까지 최소 몇 번만에 도달할 수 있는지 말하는 게임입니다."
   ]
  },
  {
   "cell_type": "markdown",
   "metadata": {},
   "source": [
    "* 이 게임에서 말의 움직임은 상, 하, 좌, 우 4방향 중 하나를 선택해서 게임판 위의 장애물이나 맨 끝에 부딪힐 때까지 미끄러져 이동하는 것을 한 번의 이동으로 칩니다."
   ]
  },
  {
   "cell_type": "markdown",
   "metadata": {},
   "source": [
    "* 다음은 보드게임판을 나타낸 예시입니다."
   ]
  },
  {
   "cell_type": "markdown",
   "metadata": {},
   "source": [
    "||||||\n",
    "|---|---|---|---|---|\n",
    "|.|.|.|D|.|.|R|  \n",
    "|.|D|.|G|.|.|.|  \n",
    "|.|.|.|.|D|.|D|  \n",
    "|D|.|.|.|.|D|.|  \n",
    "|.|.|D|.|.|.|.|  "
   ]
  },
  {
   "cell_type": "markdown",
   "metadata": {},
   "source": [
    "* 여기서 \".\"은 빈 공간을, \"R\"은 로봇의 처음 위치를, \"D\"는 장애물의 위치를, \"G\"는 목표지점을 나타냅니다."
   ]
  },
  {
   "cell_type": "markdown",
   "metadata": {},
   "source": [
    "* 위 예시에서는 \"R\" 위치에서 아래, 왼쪽, 위, 왼쪽, 아래, 오른쪽, 위 순서로 움직이면 7번 만에 \"G\" 위치에 멈춰 설 수 있으며, 이것이 최소 움직임 중 하나입니다."
   ]
  },
  {
   "cell_type": "markdown",
   "metadata": {},
   "source": [
    "* 게임판의 상태를 나타내는 문자열 배열 board가 주어졌을 때, 말이 목표위치에 도달하는데 최소 몇 번 이동해야 하는지 return 하는 solution함수를 완성하세요. 만약 목표위치에 도달할 수 없다면 -1을 return 해주세요."
   ]
  },
  {
   "attachments": {},
   "cell_type": "markdown",
   "metadata": {},
   "source": [
    "## 제한 사항\n"
   ]
  },
  {
   "cell_type": "markdown",
   "metadata": {},
   "source": [
    "* 3 ≤ board의 길이 ≤ 100\n",
    "    * 3 ≤ board의 원소의 길이 ≤ 100\n",
    "    * board의 원소의 길이는 모두 동일합니다.\n",
    "    * 문자열은 \".\", \"D\", \"R\", \"G\"로만 구성되어 있으며 각각 빈 공간,  장애물, 로봇의 처음 위치, 목표 지점을 나타냅니다.\n",
    "    * \"R\"과 \"G\"는 한 번씩 등장합니다."
   ]
  },
  {
   "attachments": {},
   "cell_type": "markdown",
   "metadata": {},
   "source": [
    "## 입출력 예"
   ]
  },
  {
   "attachments": {},
   "cell_type": "markdown",
   "metadata": {},
   "source": [
    "|board|result|\n",
    "|---|---|\n",
    "|[\"...D..R\", \".D.G...\", \"....D.D\", \"D....D.\", \"..D....\"]|7|\n",
    "|[\".D.R\", \"....\", \".G..\", \"...D\"]|-1|"
   ]
  },
  {
   "attachments": {},
   "cell_type": "markdown",
   "metadata": {},
   "source": [
    "## Code"
   ]
  },
  {
   "cell_type": "code",
   "execution_count": 1,
   "metadata": {},
   "outputs": [],
   "source": [
    "# 프로그래머스_리코쳇 로봇\n",
    "from collections import deque\n",
    "\n",
    "def bfs(args):\n",
    "    queue, board, visited = args\n",
    "    X, Y = len(board[0]), len(board)\n",
    "    dx = [-1, 1, 0, 0]\n",
    "    dy = [0, 0, 1, -1]\n",
    "\n",
    "    while queue:\n",
    "        y, x, dist = queue.popleft()\n",
    "        if board[y][x] == 'G':\n",
    "            return dist\n",
    "        \n",
    "        for i in range(4):\n",
    "            ny, nx = y, x\n",
    "            while (0 <= nx + dx[i] < X) and (0 <= ny + dy[i] < Y) and (board[ny + dy[i]][nx + dx[i]] != 'D'):\n",
    "                ny, nx = ny + dy[i], nx + dx[i] \n",
    "\n",
    "            if visited[ny][nx] > dist + 1:\n",
    "                visited[ny][nx] = dist + 1\n",
    "                queue.append((ny, nx, dist+1))\n",
    "    return -1\n",
    "\n",
    "\n",
    "def solution(board):\n",
    "    X, Y = len(board[0]), len(board)\n",
    "    visited = [[float('inf')] * X for _ in range(Y)]\n",
    "    queue = deque()\n",
    "    \n",
    "    for i in range(len(board)):\n",
    "        for j in range(len(board[i])):\n",
    "            if board[i][j] == 'R':\n",
    "                visited[i][j] = 0\n",
    "                queue.append((i, j, 0))\n",
    "        if queue:\n",
    "            break\n",
    "\n",
    "    args = (queue, board, visited)\n",
    "    return bfs(args)"
   ]
  },
  {
   "attachments": {},
   "cell_type": "markdown",
   "metadata": {},
   "source": [
    "## 예제입력"
   ]
  },
  {
   "cell_type": "code",
   "execution_count": 2,
   "metadata": {},
   "outputs": [
    {
     "data": {
      "text/plain": [
       "7"
      ]
     },
     "execution_count": 2,
     "metadata": {},
     "output_type": "execute_result"
    }
   ],
   "source": [
    "board = [\"...D..R\", \".D.G...\", \"....D.D\", \"D....D.\", \"..D....\"]\n",
    "solution(board)"
   ]
  },
  {
   "attachments": {},
   "cell_type": "markdown",
   "metadata": {},
   "source": [
    "## Note"
   ]
  },
  {
   "attachments": {},
   "cell_type": "markdown",
   "metadata": {},
   "source": [
    "https://school.programmers.co.kr/learn/courses/30/lessons/169199"
   ]
  }
 ],
 "metadata": {
  "kernelspec": {
   "display_name": "ws1",
   "language": "python",
   "name": "python3"
  },
  "language_info": {
   "codemirror_mode": {
    "name": "ipython",
    "version": 3
   },
   "file_extension": ".py",
   "mimetype": "text/x-python",
   "name": "python",
   "nbconvert_exporter": "python",
   "pygments_lexer": "ipython3",
   "version": "3.11.3"
  },
  "orig_nbformat": 4,
  "vscode": {
   "interpreter": {
    "hash": "2856db72fb1e77597a3b14e9c1bb4d2315d342edc16fc9e25c6c6e499688b933"
   }
  }
 },
 "nbformat": 4,
 "nbformat_minor": 2
}
