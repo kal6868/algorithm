{
 "cells": [
  {
   "cell_type": "markdown",
   "id": "fbd6d190",
   "metadata": {},
   "source": [
    "# 문제"
   ]
  },
  {
   "cell_type": "markdown",
   "id": "aa665cb9",
   "metadata": {},
   "source": [
    "* 카카오는 하반기 경력 개발자 공개채용을 진행 중에 있으며 현재 지원서 접수와 코딩테스트가 종료되었습니다. 이번 채용에서 지원자는 지원서 작성 시 아래와 같이 4가지 항목을 반드시 선택하도록 하였습니다.\n",
    "</br></br>\n",
    "    * 코딩테스트 참여 개발언어 항목에 cpp, java, python 중 하나를 선택해야 합니다.\n",
    "    * 지원 직군 항목에 backend와 frontend 중 하나를 선택해야 합니다.\n",
    "    * 지원 경력구분 항목에 junior와 senior 중 하나를 선택해야 합니다.\n",
    "    * 선호하는 소울푸드로 chicken과 pizza 중 하나를 선택해야 합니다."
   ]
  },
  {
   "cell_type": "markdown",
   "id": "c21b2be6",
   "metadata": {},
   "source": [
    "* 인재영입팀에 근무하고 있는 니니즈는 코딩테스트 결과를 분석하여 채용에 참여한 개발팀들에 제공하기 위해 지원자들의 지원 조건을 선택하면 해당 조건에 맞는 지원자가 몇 명인 지 쉽게 알 수 있는 도구를 만들고 있습니다."
   ]
  },
  {
   "cell_type": "markdown",
   "id": "41432f6d",
   "metadata": {},
   "source": [
    "* 예를 들어, 개발팀에서 궁금해하는 문의사항은 다음과 같은 형태가 될 수 있습니다.\n",
    "</br></br>\n",
    "     * 코딩테스트에 java로 참여했으며, backend 직군을 선택했고, junior 경력이면서, 소울푸드로 pizza를 선택한 사람 중 코딩테스트 점수를 50점 이상 받은 지원자는 몇 명인가?"
   ]
  },
  {
   "cell_type": "markdown",
   "id": "ef791f01",
   "metadata": {},
   "source": [
    "* 물론 이 외에도 각 개발팀의 상황에 따라 아래와 같이 다양한 형태의 문의가 있을 수 있습니다.\n",
    "</br></br>\n",
    "    * 코딩테스트에 python으로 참여했으며, frontend 직군을 선택했고, senior 경력이면서, 소울푸드로 chicken을 선택한 사람 중 코딩테스트 점수를 100점 이상 받은 사람은 모두 몇 명인가?\n",
    "    * 코딩테스트에 cpp로 참여했으며, senior 경력이면서, 소울푸드로 pizza를 선택한 사람 중 코딩테스트 점수를 100점 이상 받은 사람은 모두 몇 명인가?\n",
    "    * backend 직군을 선택했고, senior 경력이면서 코딩테스트 점수를 200점 이상 받은 사람은 모두 몇 명인가?\n",
    "    * 소울푸드로 chicken을 선택한 사람 중 코딩테스트 점수를 250점 이상 받은 사람은 모두 몇 명인가?\n",
    "    * 코딩테스트 점수를 150점 이상 받은 사람은 모두 몇 명인가?"
   ]
  },
  {
   "cell_type": "markdown",
   "id": "e24e92a6",
   "metadata": {},
   "source": [
    "* 즉, 개발팀에서 궁금해하는 내용은 다음과 같은 형태를 갖습니다.\n",
    "</br></br>\n",
    "    * \\* [조건]을 만족하는 사람 중 코딩테스트 점수를 X점 이상 받은 사람은 모두 몇 명인가?"
   ]
  },
  {
   "cell_type": "markdown",
   "id": "12548eb7",
   "metadata": {},
   "source": [
    "* 지원자가 지원서에 입력한 4가지의 정보와 획득한 코딩테스트 점수를 하나의 문자열로 구성한 값의 배열 info, 개발팀이 궁금해하는 문의조건이 문자열 형태로 담긴 배열 query가 매개변수로 주어질 때, 각 문의조건에 해당하는 사람들의 숫자를 순서대로 배열에 담아 return 하도록 solution 함수를 완성해 주세요."
   ]
  },
  {
   "cell_type": "markdown",
   "id": "f9ef37cc",
   "metadata": {},
   "source": [
    "# 제한 사항"
   ]
  },
  {
   "cell_type": "markdown",
   "id": "2da597a6",
   "metadata": {},
   "source": [
    "* info 배열의 크기는 1 이상 50,000 이하입니다.\n",
    "    * info 배열 각 원소의 값은 지원자가 지원서에 입력한 4가지 값과 코딩테스트 점수를 합친 \"개발언어 직군 경력 소울푸드 점수\" 형식입니다.\n",
    "    * 개발언어는 cpp, java, python 중 하나입니다.\n",
    "    * 직군은 backend, frontend 중 하나입니다.\n",
    "    * 경력은 junior, senior 중 하나입니다.\n",
    "    * 소울푸드는 chicken, pizza 중 하나입니다.\n",
    "    * 점수는 코딩테스트 점수를 의미하며, 1 이상 100,000 이하인 자연수입니다.\n",
    "    * 각 단어는 공백문자(스페이스 바) 하나로 구분되어 있습니다.\n",
    "* query 배열의 크기는 1 이상 100,000 이하입니다.\n",
    "* query의 각 문자열은 \"[조건] X\" 형식입니다.\n",
    "    * [조건]은 \"개발언어 and 직군 and 경력 and 소울푸드\" 형식의 문자열입니다.\n",
    "    * 언어는 cpp, java, python, - 중 하나입니다.\n",
    "    * 직군은 backend, frontend, - 중 하나입니다.\n",
    "    * 경력은 junior, senior, - 중 하나입니다.\n",
    "    * 소울푸드는 chicken, pizza, - 중 하나입니다.\n",
    "    * '-' 표시는 해당 조건을 고려하지 않겠다는 의미입니다.\n",
    "    * X는 코딩테스트 점수를 의미하며 조건을 만족하는 사람 중 X점 이상 받은 사람은 모두 몇 명인 지를 의미합니다.\n",
    "    * 각 단어는 공백문자(스페이스 바) 하나로 구분되어 있습니다.\n",
    "    * 예를 들면, \"cpp and - and senior and pizza 500\"은 \"cpp로 코딩테스트를 봤으며, 경력은 senior 이면서 소울푸드로 pizza를 선택한 지원자 중 코딩테스트 점수를 500점 이상 받은 사람은 모두 몇 명인가?\"를 의미합니다."
   ]
  },
  {
   "cell_type": "markdown",
   "id": "16452081",
   "metadata": {},
   "source": [
    "# 입출력 예시"
   ]
  },
  {
   "cell_type": "markdown",
   "id": "9b026c31",
   "metadata": {},
   "source": [
    "|info|query|result|\n",
    "|---|---|---|\n",
    "|[\"java backend junior pizza 150\",\"python frontend senior chicken 210\",\"python frontend senior chicken 150\",\"cpp backend senior pizza 260\",\"java backend junior chicken 80\",\"python backend senior chicken 50\"]|[\"java and backend and junior and pizza 100\",\"python and frontend and senior and chicken 200\",\"cpp and - and senior and pizza 250\",\"- and backend and senior and - 150\",\"- and - and - and chicken 100\",\"- and - and - and - 150\"]|[1,1,1,1,2,4]|"
   ]
  },
  {
   "cell_type": "code",
   "execution_count": 1,
   "id": "d3f7e869",
   "metadata": {},
   "outputs": [],
   "source": [
    "# 효율성 테스트 통과 X\n",
    "def solution(info, query):\n",
    "    answer = []\n",
    "    \n",
    "    query_s = []\n",
    "    for q in query:\n",
    "        divided = q.replace(' and', '').split(' ')\n",
    "        query_s.append(divided)\n",
    "\n",
    "    info_s = []\n",
    "    for i in info:\n",
    "        divided = i.split(' ')\n",
    "        info_s.append(divided)\n",
    "    \n",
    "    for q in query_s:\n",
    "        status_num = 0\n",
    "        lang, pos, car, food, score = q[0], q[1], q[2], q[3], q[4]\n",
    "        for info in info_s:\n",
    "            status = True\n",
    "            if lang != info[0] and lang != '-':\n",
    "                status = False\n",
    "                continue\n",
    "            elif pos != info[1] and pos != '-':\n",
    "                status = False\n",
    "                continue\n",
    "            elif car != info[2] and car != '-':\n",
    "                status = False\n",
    "                continue\n",
    "            elif food != info[3] and food != '-':\n",
    "                status = False\n",
    "                continue\n",
    "            elif int(score) > int(info[4]) and score != '-':\n",
    "                status = False\n",
    "                continue\n",
    "            status_num += status\n",
    "        answer.append(status_num)\n",
    "    return answer"
   ]
  },
  {
   "cell_type": "code",
   "execution_count": 2,
   "id": "ab9e927b",
   "metadata": {},
   "outputs": [
    {
     "name": "stdout",
     "output_type": "stream",
     "text": [
      "[1, 1, 1, 1, 2, 4] "
     ]
    }
   ],
   "source": [
    "for info, query in [[[\"java backend junior pizza 150\",\"python frontend senior chicken 210\",\"python frontend senior chicken 150\",\"cpp backend senior pizza 260\",\"java backend junior chicken 80\",\"python backend senior chicken 50\"],\n",
    "                    [\"java and backend and junior and pizza 100\",\"python and frontend and senior and chicken 200\",\"cpp and - and senior and pizza 250\",\"- and backend and senior and - 150\",\"- and - and - and chicken 100\",\"- and - and - and - 150\"]]]:\n",
    "    print(solution(info, query), end = ' ')"
   ]
  },
  {
   "cell_type": "code",
   "execution_count": 3,
   "id": "2c710e73",
   "metadata": {},
   "outputs": [],
   "source": [
    "# 효율성 테스트 통과 O\n",
    "from itertools import combinations\n",
    "def solution(info, query):\n",
    "    dict = {}\n",
    "    answer = []\n",
    "    info_s = [infos.split(' ') for infos in info]\n",
    "    \n",
    "    for inf in info_s:\n",
    "        info_key = inf[:-1]\n",
    "        info_values = inf[-1]\n",
    "        for i in range(5):\n",
    "            dashes = list(combinations([0,1,2,3], i))\n",
    "            for dash_pos in dashes:\n",
    "                temp = info_key.copy()\n",
    "                for dash in dash_pos:\n",
    "                    temp[dash] = '-'\n",
    "                key = ''.join(temp)\n",
    "                if key in dict:\n",
    "                    dict[key].append(int(info_values))\n",
    "                else:\n",
    "                    dict[key] = [int(info_values)]\n",
    "    for key in dict:\n",
    "        dict[key] = sorted(dict[key])\n",
    "\n",
    "    for q in query:\n",
    "        queries = q.replace(' and', '').split(' ')\n",
    "        query_key = ''.join(queries[:-1])\n",
    "        query_values = int(queries[-1])\n",
    "\n",
    "        if query_key in dict:\n",
    "            dict_values = dict[query_key]\n",
    "            if len(dict_values) > 0:\n",
    "                start, end = 0, len(dict_values)\n",
    "                while start < end:\n",
    "                    mid = (start+end) // 2\n",
    "                    if dict_values[mid] >= query_values:\n",
    "                        end = mid\n",
    "                    else:\n",
    "                        start = mid + 1\n",
    "                answer.append(len(dict_values) - start)\n",
    "        else:\n",
    "             answer.append(0)\n",
    "    return answer"
   ]
  },
  {
   "cell_type": "code",
   "execution_count": 4,
   "id": "8d13db59",
   "metadata": {},
   "outputs": [
    {
     "name": "stdout",
     "output_type": "stream",
     "text": [
      "[1, 1, 1, 1, 2, 4] "
     ]
    }
   ],
   "source": [
    "for info, query in [[[\"java backend junior pizza 150\",\"python frontend senior chicken 210\",\"python frontend senior chicken 150\",\"cpp backend senior pizza 260\",\"java backend junior chicken 80\",\"python backend senior chicken 50\"],\n",
    "                    [\"java and backend and junior and pizza 100\",\"python and frontend and senior and chicken 200\",\"cpp and - and senior and pizza 250\",\"- and backend and senior and - 150\",\"- and - and - and chicken 100\",\"- and - and - and - 150\"]]]:\n",
    "    print(solution(info, query), end = ' ')"
   ]
  },
  {
   "cell_type": "markdown",
   "id": "f9f5c74b",
   "metadata": {},
   "source": [
    "# 풀이 과정 및 주의사항"
   ]
  },
  {
   "cell_type": "markdown",
   "id": "d8d686a4",
   "metadata": {},
   "source": [
    "* info와 query를 [언어, 직군, 경력, 소울푸드, 점수] 형태로 전처리 후 비교하여 해당 조건에 맞는 경우만 True 처리를 하고 True 갯수를 더해주면 된다.\n",
    "* 정확성 테스트에서는 통과가 되었으나 효율성에서는 통과가 되지 못하였다."
   ]
  },
  {
   "cell_type": "markdown",
   "id": "72609ba4",
   "metadata": {},
   "source": [
    "* 조건별 비교를 하면 시간이 너무 오래 소요되어 다른 방법을 적용하여 풀이\n",
    "    * 각 info당 가능한 조합을 모두 만들어서 dictionary 형태로 언어+직군+경력+소울푸드 : [점수] 형태로 만든다.\n",
    "    * 가능한 조합 ex) ----, -backendjuniorpizza, java-juniorpizza, javabackend-pizza, javabackendjunior-, --juniorpizza, -backend-pizza.. 등등 하면 각 info당 16개의 조건이 생긴다.\n",
    "    * query의 앞 4가지 정보도 똑같은 형태로 조합하여 dictionary에 있을 경우 개수를 세기 위해 이분 검색을 시도한다. (자료를 반씩 나누어 반만 검색하는 방법을 반복하여 자료를 찾는 방법) "
   ]
  },
  {
   "cell_type": "markdown",
   "id": "62b92349",
   "metadata": {},
   "source": [
    "* 내장함수 bisect를 사용하여 사용할 수도 있다."
   ]
  },
  {
   "cell_type": "code",
   "execution_count": 5,
   "id": "b0860cf2",
   "metadata": {},
   "outputs": [
    {
     "name": "stdout",
     "output_type": "stream",
     "text": [
      "3\n",
      "4\n"
     ]
    }
   ],
   "source": [
    "from bisect import bisect_left, bisect_right\n",
    "nums = [0, 2, 4, 6, 8, 10, 12]\n",
    "print(bisect_left(nums, 6)) # 6 이상의 인덱스\n",
    "print(bisect_right(nums, 6)) # 6 초과의 인덱스"
   ]
  },
  {
   "cell_type": "markdown",
   "id": "0d7970bb",
   "metadata": {},
   "source": [
    "https://school.programmers.co.kr/learn/courses/30/lessons/72412"
   ]
  }
 ],
 "metadata": {
  "celltoolbar": "Raw Cell Format",
  "kernelspec": {
   "display_name": "Python 3 (ipykernel)",
   "language": "python",
   "name": "python3"
  },
  "language_info": {
   "codemirror_mode": {
    "name": "ipython",
    "version": 3
   },
   "file_extension": ".py",
   "mimetype": "text/x-python",
   "name": "python",
   "nbconvert_exporter": "python",
   "pygments_lexer": "ipython3",
   "version": "3.9.7"
  }
 },
 "nbformat": 4,
 "nbformat_minor": 5
}
