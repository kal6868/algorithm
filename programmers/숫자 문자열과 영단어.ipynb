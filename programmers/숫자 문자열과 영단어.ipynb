{
 "cells": [
  {
   "cell_type": "markdown",
   "id": "fbd6d190",
   "metadata": {},
   "source": [
    "# 문제 설명"
   ]
  },
  {
   "cell_type": "markdown",
   "id": "295ec3a5",
   "metadata": {},
   "source": [
    "* 네오와 프로도가 숫자놀이를 하고 있습니다. 네오가 프로도에게 숫자를 건넬 때 일부 자릿수를 영단어로 바꾼 카드를 건네주면 프로도는 원래 숫자를 찾는 게임입니다."
   ]
  },
  {
   "cell_type": "markdown",
   "id": "943d53ad",
   "metadata": {},
   "source": [
    "* 다음은 숫자의 일부 자릿수를 영단어로 바꾸는 예시입니다.\n",
    "    * 1478 → \"one4seveneight\"\n",
    "    * 234567 → \"23four5six7\"\n",
    "    * 10203 → \"1zerotwozero3\""
   ]
  },
  {
   "cell_type": "markdown",
   "id": "ae369628",
   "metadata": {},
   "source": [
    "* 이렇게 숫자의 일부 자릿수가 영단어로 바뀌어졌거나, 혹은 바뀌지 않고 그대로인 문자열 s가 매개변수로 주어집니다. s가 의미하는 원래 숫자를 return 하도록 solution 함수를 완성해주세요."
   ]
  },
  {
   "cell_type": "markdown",
   "id": "cd47b451",
   "metadata": {},
   "source": [
    "* 참고로 각 숫자에 대응되는 영단어는 다음 표와 같습니다.\n",
    "\n",
    "|숫자|영단어|\n",
    "|---|---|\n",
    "|0|zero|\n",
    "|1|one|\n",
    "|2|two|\n",
    "|3|three|\n",
    "|4|four|\n",
    "|5|five|\n",
    "|6|six|\n",
    "|7|seven|\n",
    "|8|eight|\n",
    "|9|nine|"
   ]
  },
  {
   "cell_type": "markdown",
   "id": "b56a4179",
   "metadata": {},
   "source": [
    "# 제한사항"
   ]
  },
  {
   "cell_type": "markdown",
   "id": "229fc3aa",
   "metadata": {},
   "source": [
    "* 1 ≤ s의 길이 ≤ 50\n",
    "* s가 \"zero\" 또는 \"0\"으로 시작하는 경우는 주어지지 않습니다.\n",
    "* return 값이 1 이상 2,000,000,000 이하의 정수가 되는 올바른 입력만 s로 주어집니다."
   ]
  },
  {
   "cell_type": "markdown",
   "id": "16452081",
   "metadata": {},
   "source": [
    "# 입출력 예시"
   ]
  },
  {
   "cell_type": "markdown",
   "id": "9b026c31",
   "metadata": {},
   "source": [
    "|s|result|\n",
    "|---|---|\n",
    "|\"one4seveneight\"|1478|\n",
    "|\"23four5six7\"|234567|\n",
    "|\"2three45sixseven\"|234567|\n",
    "|\"123\"|123|"
   ]
  },
  {
   "cell_type": "code",
   "execution_count": 1,
   "id": "d3f7e869",
   "metadata": {},
   "outputs": [],
   "source": [
    "dict = {'zero': '0', 'one': '1', 'two': '2', 'three': '3', 'four': '4', 'five': '5', 'six': '6', 'seven': '7', 'eight': '8', 'nine': '9'}\n",
    "\n",
    "def solution(s):\n",
    "    d_keys = list(dict.keys())\n",
    "    d_values = list(dict.values())\n",
    "    i = 0\n",
    "\n",
    "    while i < 10:\n",
    "        word = d_keys[i]\n",
    "        if word in s:\n",
    "            s = s.replace(word, d_values[i])\n",
    "        elif word not in s:\n",
    "            i += 1\n",
    "\n",
    "    answer = int(s)\n",
    "    return answer"
   ]
  },
  {
   "cell_type": "code",
   "execution_count": 2,
   "id": "d3982ae6",
   "metadata": {},
   "outputs": [
    {
     "name": "stdout",
     "output_type": "stream",
     "text": [
      "1478 234567 234567 123 "
     ]
    }
   ],
   "source": [
    "for s in [\"one4seveneight\", \"23four5six7\", \"2three45sixseven\", \"123\"]:\n",
    "    print(solution(s), end = ' ')"
   ]
  },
  {
   "cell_type": "markdown",
   "id": "a76a6800",
   "metadata": {},
   "source": [
    "# 풀이 과정 및 주의사항"
   ]
  },
  {
   "cell_type": "markdown",
   "id": "641c1f09",
   "metadata": {},
   "source": [
    "* 숫자에 대응되는 Dictionary를 하나 만든다.\n",
    "* while문을 활용하여 영단어가 문자열에 없을때까지 숫자로 대체하고 해당 문자열이 없으면 인덱싱을 사용하여 다음 문자열로 바꾼다.\n",
    "* 숫자가 9까지 있으므로 0~9일때까지 while문을 반복하고 숫자가 10이 되면 멈춘다."
   ]
  },
  {
   "cell_type": "markdown",
   "id": "0d7970bb",
   "metadata": {},
   "source": [
    "https://school.programmers.co.kr/learn/courses/30/lessons/81301"
   ]
  }
 ],
 "metadata": {
  "celltoolbar": "Raw Cell Format",
  "kernelspec": {
   "display_name": "Python 3 (ipykernel)",
   "language": "python",
   "name": "python3"
  },
  "language_info": {
   "codemirror_mode": {
    "name": "ipython",
    "version": 3
   },
   "file_extension": ".py",
   "mimetype": "text/x-python",
   "name": "python",
   "nbconvert_exporter": "python",
   "pygments_lexer": "ipython3",
   "version": "3.9.7"
  }
 },
 "nbformat": 4,
 "nbformat_minor": 5
}
