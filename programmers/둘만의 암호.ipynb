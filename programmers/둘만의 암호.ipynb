{
 "cells": [
  {
   "attachments": {},
   "cell_type": "markdown",
   "metadata": {},
   "source": [
    "# 둘만의 암호"
   ]
  },
  {
   "attachments": {},
   "cell_type": "markdown",
   "metadata": {},
   "source": [
    "## 문제 설명"
   ]
  },
  {
   "attachments": {},
   "cell_type": "markdown",
   "metadata": {},
   "source": [
    "* 두 문자열 s와 skip, 그리고 자연수 index가 주어질 때, 다음 규칙에 따라 문자열을 만들려 합니다. 암호의 규칙은 다음과 같습니다.\n",
    "\n",
    "    * 문자열 s의 각 알파벳을 index만큼 뒤의 알파벳으로 바꿔줍니다.\n",
    "    * index만큼의 뒤의 알파벳이 z를 넘어갈 경우 다시 a로 돌아갑니다.\n",
    "    * skip에 있는 알파벳은 제외하고 건너뜁니다."
   ]
  },
  {
   "attachments": {},
   "cell_type": "markdown",
   "metadata": {},
   "source": [
    "* 예를 들어 s = \"aukks\", skip = \"wbqd\", index = 5일 때, a에서 5만큼 뒤에 있는 알파벳은 f지만 [b, c, d, e, f]에서 'b'와 'd'는 skip에 포함되므로 세지 않습니다. 따라서 'b', 'd'를 제외하고 'a'에서 5만큼 뒤에 있는 알파벳은 [c, e, f, g, h] 순서에 의해 'h'가 됩니다. 나머지 \"ukks\" 또한 위 규칙대로 바꾸면 \"appy\"가 되며 결과는 \"happy\"가 됩니다."
   ]
  },
  {
   "attachments": {},
   "cell_type": "markdown",
   "metadata": {},
   "source": [
    "* 두 문자열 s와 skip, 그리고 자연수 index가 매개변수로 주어질 때 위 규칙대로 s를 변환한 결과를 return하도록 solution 함수를 완성해주세요."
   ]
  },
  {
   "attachments": {},
   "cell_type": "markdown",
   "metadata": {},
   "source": [
    "## 제한사항"
   ]
  },
  {
   "attachments": {},
   "cell_type": "markdown",
   "metadata": {},
   "source": [
    "* 5 ≤ s의 길이 ≤ 50\n",
    "* 1 ≤ skip의 길이 ≤ 10\n",
    "* s와 skip은 알파벳 소문자로만 이루어져 있습니다.\n",
    "    * skip에 포함되는 알파벳은 s에 포함되지 않습니다.\n",
    "* 1 ≤ index ≤ 20"
   ]
  },
  {
   "attachments": {},
   "cell_type": "markdown",
   "metadata": {},
   "source": [
    "## Code"
   ]
  },
  {
   "cell_type": "code",
   "execution_count": 1,
   "metadata": {},
   "outputs": [],
   "source": [
    "def solution(s, skip, index):\n",
    "    answer = ''\n",
    "    bag_of_word = [chr(i) for i in range(ord('a'), ord('z')+1) if chr(i) not in skip]\n",
    "    num_word, word_num = {}, {}\n",
    "    for i, a in enumerate(bag_of_word):\n",
    "        num_word[i] = a\n",
    "        word_num[a] = i\n",
    "    # print(num_word, word_num)\n",
    "    for char in s:\n",
    "        alpha_index = word_num[char]\n",
    "        five_step = num_word[(alpha_index+index) % (len(bag_of_word))]\n",
    "        answer += five_step\n",
    "\n",
    "    return answer"
   ]
  },
  {
   "attachments": {},
   "cell_type": "markdown",
   "metadata": {},
   "source": [
    "## 예제입력 - 출력"
   ]
  },
  {
   "cell_type": "code",
   "execution_count": 2,
   "metadata": {},
   "outputs": [
    {
     "data": {
      "text/plain": [
       "'happy'"
      ]
     },
     "execution_count": 2,
     "metadata": {},
     "output_type": "execute_result"
    }
   ],
   "source": [
    "solution(\"aukks\", \"wbqd\", 5)"
   ]
  },
  {
   "attachments": {},
   "cell_type": "markdown",
   "metadata": {},
   "source": [
    "## Note"
   ]
  },
  {
   "attachments": {},
   "cell_type": "markdown",
   "metadata": {},
   "source": [
    "* ord를 사용해서 List에 소문자 a~z의 범위를 정하되, 조건문을 통해 skip안에 단어들은 포함하지 않는다.\n",
    "* 알파벳 : 숫자, 숫자: 알파벳 형식의 Dictation을 각각 만들고 <알파벳 -> 해당 알파벳의 숫자 -> 해당 알파벳의 대응하는 숫자 + index -> +index 된 숫자만큼의 알파벳> 순으로 index 뒤 만큼의 알파벳을 구한다.\n",
    "* 알파벳의 숫자 + index를 skip을 뺀 나머지 알파벳의 개수로 나눈 나머지를 구하면, 다시 a로 돌아가서 알파벳을 구할 수 있다."
   ]
  },
  {
   "attachments": {},
   "cell_type": "markdown",
   "metadata": {},
   "source": [
    "https://school.programmers.co.kr/learn/courses/30/lessons/155652"
   ]
  }
 ],
 "metadata": {
  "kernelspec": {
   "display_name": "ws1",
   "language": "python",
   "name": "python3"
  },
  "language_info": {
   "codemirror_mode": {
    "name": "ipython",
    "version": 3
   },
   "file_extension": ".py",
   "mimetype": "text/x-python",
   "name": "python",
   "nbconvert_exporter": "python",
   "pygments_lexer": "ipython3",
   "version": "3.9.13"
  },
  "orig_nbformat": 4,
  "vscode": {
   "interpreter": {
    "hash": "2856db72fb1e77597a3b14e9c1bb4d2315d342edc16fc9e25c6c6e499688b933"
   }
  }
 },
 "nbformat": 4,
 "nbformat_minor": 2
}
