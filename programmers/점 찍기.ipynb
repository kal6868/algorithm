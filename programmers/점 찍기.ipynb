{
 "cells": [
  {
   "cell_type": "markdown",
   "id": "fbd6d190",
   "metadata": {},
   "source": [
    "# 문제 설명"
   ]
  },
  {
   "cell_type": "markdown",
   "id": "295ec3a5",
   "metadata": {},
   "source": [
    "* 좌표평면을 좋아하는 진수는 x축과 y축이 직교하는 2차원 좌표평면에 점을 찍으면서 놀고 있습니다. 진수는 두 양의 정수 k, d가 주어질 때 다음과 같이 점을 찍으려 합니다.\n",
    "    * 원점(0, 0)으로부터 x축 방향으로 a*k(a = 0, 1, 2, 3 ...), y축 방향으로 b*k(b = 0, 1, 2, 3 ...)만큼 떨어진 위치에 점을 찍습니다.\n",
    "    * 원점과 거리가 d를 넘는 위치에는 점을 찍지 않습니다."
   ]
  },
  {
   "cell_type": "markdown",
   "id": "41d65362",
   "metadata": {},
   "source": [
    "* 예를 들어, k가 2, d가 4인 경우에는 (0, 0), (0, 2), (0, 4), (2, 0), (2, 2), (4, 0) 위치에 점을 찍어 총 6개의 점을 찍습니다."
   ]
  },
  {
   "cell_type": "markdown",
   "id": "720cf813",
   "metadata": {},
   "source": [
    "* 정수 k와 원점과의 거리를 나타내는 정수 d가 주어졌을 때, 점이 총 몇 개 찍히는지 return 하는 solution 함수를 완성하세요."
   ]
  },
  {
   "cell_type": "markdown",
   "id": "ace8205e",
   "metadata": {},
   "source": [
    "# 제한사항"
   ]
  },
  {
   "cell_type": "markdown",
   "id": "a21dd125",
   "metadata": {},
   "source": [
    "* 1 ≤ k ≤ 1,000,000\n",
    "* 1 ≤ d ≤ 1,000,000"
   ]
  },
  {
   "cell_type": "markdown",
   "id": "16452081",
   "metadata": {},
   "source": [
    "# 예제 입출력"
   ]
  },
  {
   "cell_type": "markdown",
   "id": "9b026c31",
   "metadata": {},
   "source": [
    "|k|d|result|\n",
    "|---|---|---|\n",
    "|2|4|6|\n",
    "|1|5|26|"
   ]
  },
  {
   "cell_type": "code",
   "execution_count": 6,
   "id": "2cfeb700",
   "metadata": {},
   "outputs": [],
   "source": [
    "def y_limit(x, d, k):\n",
    "    y = int((((d**2) - (x**2))**0.5)/k)\n",
    "    return y+1\n",
    "\n",
    "def solution(k, d):\n",
    "    answer = 0\n",
    "    for x in range(0, d+1, k):\n",
    "        answer += y_limit(x, d, k)\n",
    "    return answer"
   ]
  },
  {
   "cell_type": "code",
   "execution_count": 7,
   "id": "4411ccbc",
   "metadata": {},
   "outputs": [
    {
     "name": "stdout",
     "output_type": "stream",
     "text": [
      "6\n",
      "26\n"
     ]
    }
   ],
   "source": [
    "for k, d in [[2, 4], [1, 5]]:\n",
    "    print(solution(k, d))"
   ]
  },
  {
   "cell_type": "markdown",
   "id": "a76a6800",
   "metadata": {},
   "source": [
    "# 풀이 과정 및 주의사항"
   ]
  },
  {
   "cell_type": "markdown",
   "id": "641c1f09",
   "metadata": {},
   "source": [
    " * 이중 for문으로 푸는게 가장 쉽지만 시간초과가 나서 최대한 연산 속도를 빠르게 해야한다.\n",
    " * 원점이 0이므로 좌표 x, y와 거리 d가 주어졌을 때 공식은 (x^2) + (y^2) = d^2이므로 이를 변형하면 y = sqrt((d^2) - (x^2))이 된다. x가 주어졌을 때, 최대 y값이 계산되므로 최대 y의 값의 정수부분에 +1(y값이 0일때도 포함)을 반복해서 더하면 된다."
   ]
  },
  {
   "cell_type": "markdown",
   "id": "0d7970bb",
   "metadata": {},
   "source": [
    "https://school.programmers.co.kr/learn/courses/30/lessons/140107"
   ]
  }
 ],
 "metadata": {
  "celltoolbar": "Raw Cell Format",
  "kernelspec": {
   "display_name": "Python 3 (ipykernel)",
   "language": "python",
   "name": "python3"
  },
  "language_info": {
   "codemirror_mode": {
    "name": "ipython",
    "version": 3
   },
   "file_extension": ".py",
   "mimetype": "text/x-python",
   "name": "python",
   "nbconvert_exporter": "python",
   "pygments_lexer": "ipython3",
   "version": "3.9.7"
  }
 },
 "nbformat": 4,
 "nbformat_minor": 5
}
