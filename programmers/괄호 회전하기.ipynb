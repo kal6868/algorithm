{
 "cells": [
  {
   "cell_type": "markdown",
   "id": "fbd6d190",
   "metadata": {},
   "source": [
    "# 문제"
   ]
  },
  {
   "cell_type": "markdown",
   "id": "aa665cb9",
   "metadata": {},
   "source": [
    "* 다음 규칙을 지키는 문자열을 올바른 괄호 문자열이라고 정의합니다.\n",
    "\n",
    "* (), [], {} 는 모두 올바른 괄호 문자열입니다.\n",
    "* 만약 A가 올바른 괄호 문자열이라면, (A), [A], {A} 도 올바른 괄호 문자열입니다. 예를 들어, [] 가 올바른 괄호 문자열이므로, ([]) 도 올바른 괄호 문자열입니다.\n",
    "* 만약 A, B가 올바른 괄호 문자열이라면, AB 도 올바른 괄호 문자열입니다. 예를 들어, {} 와 ([]) 가 올바른 괄호 문자열이므로, {}([]) 도 올바른 괄호 문자열입니다.\n",
    "* 대괄호, 중괄호, 그리고 소괄호로 이루어진 문자열 s가 매개변수로 주어집니다. 이 s를 왼쪽으로 x (0 ≤ x < (s의 길이)) 칸만큼 회전시켰을 때 s가 올바른 괄호 문자열이 되게 하는 x의 개수를 return 하도록 solution 함수를 완성해주세요."
   ]
  },
  {
   "cell_type": "markdown",
   "id": "be064c2f",
   "metadata": {},
   "source": [
    "# 제한사항"
   ]
  },
  {
   "cell_type": "markdown",
   "id": "c4d677a4",
   "metadata": {},
   "source": [
    "* s의 길이는 1 이상 1,000 이하입니다."
   ]
  },
  {
   "cell_type": "markdown",
   "id": "16452081",
   "metadata": {},
   "source": [
    "# 입출력 예시"
   ]
  },
  {
   "cell_type": "markdown",
   "id": "9b026c31",
   "metadata": {},
   "source": [
    "|s|result|\n",
    "|---|---|\n",
    "| \"[ ] ( ) { }\" |3|\n",
    "|\"} ] ( ) [ { \"|2|\n",
    "|\"[ ) ( ]\"|0|\n",
    "|\"} } }\"|0|"
   ]
  },
  {
   "cell_type": "code",
   "execution_count": 1,
   "id": "b2918811",
   "metadata": {},
   "outputs": [],
   "source": [
    "from collections import deque\n",
    "def solution(s):\n",
    "    de = deque(list(s))\n",
    "    answer = 0\n",
    "\n",
    "    for i in range(0, len(s)):\n",
    "        temp = de.popleft()\n",
    "        de.append(temp)\n",
    "        stack = deque()\n",
    "\n",
    "        for c in de:\n",
    "            if len(stack) > 0:\n",
    "                if stack[-1] == '(' and c == ')':\n",
    "                    stack.pop()\n",
    "                elif stack[-1] == '[' and c == ']':\n",
    "                    stack.pop()\n",
    "                elif stack[-1] == '{' and c == '}':\n",
    "                    stack.pop()\n",
    "                else:\n",
    "                    stack.append(c)\n",
    "            else:\n",
    "                stack.append(c)\n",
    "\n",
    "        if not stack:\n",
    "            answer += 1\n",
    "    return answer"
   ]
  },
  {
   "cell_type": "code",
   "execution_count": 2,
   "id": "9b07c977",
   "metadata": {
    "scrolled": true
   },
   "outputs": [
    {
     "name": "stdout",
     "output_type": "stream",
     "text": [
      "3\n",
      "2\n",
      "0\n",
      "0\n"
     ]
    }
   ],
   "source": [
    "for s in [\"[](){}\", \"}]()[{\", \"[)(]\", \"}}}\"]:\n",
    "    print(solution(s))"
   ]
  },
  {
   "cell_type": "markdown",
   "id": "55f1bb43",
   "metadata": {},
   "source": [
    "# 풀이 과정 및 주의사항"
   ]
  },
  {
   "cell_type": "markdown",
   "id": "6efca741",
   "metadata": {},
   "source": [
    "* 속도 향상을 위해 deque를 사용하여 앞에서 한 요소를 뺀 후 뒤에 추가하는 방식으로 회전을 구현\n",
    "* stack이 0일 때는 무조건 추가하고, stack에 쌓인 요소가 (, {, [ 이면서 현재 요소가 해당 괄호에 대응되는 닫히는 괄호면 stack의 마지막 요소를 제거, 조건에 맞지 않으면 stack에 추가 (ex) {[]} 같은 경우를 위해)\n",
    "    * { (추가)\n",
    "    * { [(추가)\n",
    "    * { \\[(제거) \\] (제거)\n",
    "    * { (제거) } (제거)\n",
    "* stack에 내용물이 남아있다는 것은 대응하는 괄호가 없다는 뜻이므로 stack이 0 일때 정답"
   ]
  },
  {
   "cell_type": "markdown",
   "id": "a93a96e8",
   "metadata": {},
   "source": [
    "https://school.programmers.co.kr/learn/courses/30/lessons/76502"
   ]
  }
 ],
 "metadata": {
  "kernelspec": {
   "display_name": "Python 3 (ipykernel)",
   "language": "python",
   "name": "python3"
  },
  "language_info": {
   "codemirror_mode": {
    "name": "ipython",
    "version": 3
   },
   "file_extension": ".py",
   "mimetype": "text/x-python",
   "name": "python",
   "nbconvert_exporter": "python",
   "pygments_lexer": "ipython3",
   "version": "3.9.7"
  }
 },
 "nbformat": 4,
 "nbformat_minor": 5
}
