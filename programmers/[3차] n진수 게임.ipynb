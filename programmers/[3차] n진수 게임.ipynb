{
 "cells": [
  {
   "cell_type": "markdown",
   "id": "fbd6d190",
   "metadata": {},
   "source": [
    "# 문제 설명"
   ]
  },
  {
   "cell_type": "markdown",
   "id": "aa665cb9",
   "metadata": {},
   "source": [
    "* 라디오를 자주 듣는 네오는 라디오에서 방금 나왔던 음악이 무슨 음악인지 궁금해질 때가 많다. 그럴 때 네오는 다음 포털의 '방금그곡' 서비스를 이용하곤 한다. 방금그곡에서는 TV, 라디오 등에서 나온 음악에 관해 제목 등의 정보를 제공하는 서비스이다."
   ]
  },
  {
   "cell_type": "markdown",
   "id": "9b026c31",
   "metadata": {},
   "source": [
    "* 네오는 자신이 기억한 멜로디를 가지고 방금그곡을 이용해 음악을 찾는다. 그런데 라디오 방송에서는 한 음악을 반복해서 재생할 때도 있어서 네오가 기억하고 있는 멜로디는 음악 끝부분과 처음 부분이 이어서 재생된 멜로디일 수도 있다. 반대로, 한 음악을 중간에 끊을 경우 원본 음악에는 네오가 기억한 멜로디가 들어있다 해도 그 곡이 네오가 들은 곡이 아닐 수도 있다. 그렇기 때문에 네오는 기억한 멜로디를 재생 시간과 제공된 악보를 직접 보면서 비교하려고 한다. 다음과 같은 가정을 할 때 네오가 찾으려는 음악의 제목을 구하여라."
   ]
  },
  {
   "cell_type": "markdown",
   "id": "4f0d76c1",
   "metadata": {},
   "source": [
    "* 방금그곡 서비스에서는 음악 제목, 재생이 시작되고 끝난 시각, 악보를 제공한다.\n",
    "* 네오가 기억한 멜로디와 악보에 사용되는 음은 C, C#, D, D#, E, F, F#, G, G#, A, A#, B 12개이다.\n",
    "* 각 음은 1분에 1개씩 재생된다. 음악은 반드시 처음부터 재생되며 음악 길이보다 재생된 시간이 길 때는 음악이 끊김 없이 처음부터 반복해서 재생된다. 음악 길이보다 재생된 시간이 짧을 때는 처음부터 재생 시간만큼만 재생된다.\n",
    "* 음악이 00:00를 넘겨서까지 재생되는 일은 없다.\n",
    "* 조건이 일치하는 음악이 여러 개일 때에는 라디오에서 재생된 시간이 제일 긴 음악 제목을 반환한다. 재생된 시간도 같을 경우 먼저 입력된 음악 제목을 반환한다.\n",
    "* 조건이 일치하는 음악이 없을 때에는 “(None)”을 반환한다."
   ]
  },
  {
   "cell_type": "markdown",
   "id": "93c69f28",
   "metadata": {},
   "source": [
    "# 입력 형식"
   ]
  },
  {
   "cell_type": "markdown",
   "id": "ebf4c872",
   "metadata": {},
   "source": [
    "* m은 음 1개 이상 1439개 이하로 구성되어 있다.\n",
    "* musicinfos는 100개 이하의 곡 정보를 담고 있는 배열로, 각각의 곡 정보는 음악이 시작한 시각, 끝난 시각, 음악 제목, 악보 정보가 ','로 구분된 문자열이다.\n",
    "    * 음악의 시작 시각과 끝난 시각은 24시간 HH:MM 형식이다.\n",
    "    * 음악 제목은 ',' 이외의 출력 가능한 문자로 표현된 길이 1 이상 64 이하의 문자열이다.\n",
    "    * 악보 정보는 음 1개 이상 1439개 이하로 구성되어 있다."
   ]
  },
  {
   "cell_type": "markdown",
   "id": "fe88c5a1",
   "metadata": {},
   "source": [
    "# 출력 형식"
   ]
  },
  {
   "cell_type": "markdown",
   "id": "1f3070ae",
   "metadata": {},
   "source": [
    "* 조건과 일치하는 음악 제목을 출력한다."
   ]
  },
  {
   "cell_type": "markdown",
   "id": "1801b24c",
   "metadata": {},
   "source": [
    "# 입출력 예시"
   ]
  },
  {
   "cell_type": "markdown",
   "id": "d96712f5",
   "metadata": {},
   "source": [
    "|m|musicinfos|answer|\n",
    "|---|---|---|\n",
    "|\"ABCDEFG\"|\t[\"12:00,12:14,HELLO,CDEFGAB\", \"13:00,13:05,WORLD,ABCDEF\"]|\"HELLO\"|\n",
    "|\"CC#BCC#BCC#BCC#B\"|[\"03:00,03:30,FOO,CC#B\", \"04:00,04:08,BAR,CC#BCC#BCC#B\"]|\"FOO\"|\n",
    "|\"ABC\"|[\"12:00,12:14,HELLO,C#DEFGAB\", \"13:00,13:05,WORLD,ABCDEF\"]|\"WORLD\"|"
   ]
  },
  {
   "cell_type": "code",
   "execution_count": 1,
   "id": "b2918811",
   "metadata": {},
   "outputs": [],
   "source": [
    "def cc(music_):\n",
    "    music_ = music_.replace('C#', 'c')\n",
    "    music_ = music_.replace('D#', 'd')\n",
    "    music_ = music_.replace('F#', 'f')\n",
    "    music_ = music_.replace('G#', 'g')\n",
    "    music_ = music_.replace('A#', 'a')\n",
    "    return music_\n",
    "\n",
    "def solution(m, musicinfos):\n",
    "    answer = [0,'(None)']\n",
    "    m = cc(m)\n",
    "    \n",
    "    for info in musicinfos:\n",
    "        info_split = info.split(',')\n",
    "        title = info_split[2]\n",
    "        p_time = (int(info_split[1][:2])-int(info_split[0][:2]))*60+int(info_split[1][-2:])-int(info_split[0][-2:])\n",
    "        melody = cc(info_split[3])\n",
    "        t_melody = (melody * (p_time//len(melody))) + melody[:p_time%len(melody)]\n",
    "        if m in t_melody and answer[0]<p_time:\n",
    "            answer = [p_time, title]\n",
    "    return answer[-1]"
   ]
  },
  {
   "cell_type": "code",
   "execution_count": 2,
   "id": "9b07c977",
   "metadata": {},
   "outputs": [
    {
     "name": "stdout",
     "output_type": "stream",
     "text": [
      "HELLO\n",
      "FOO\n",
      "WORLD\n"
     ]
    }
   ],
   "source": [
    "for m, musicinfos in [[\"ABCDEFG\", [\"12:00,12:14,HELLO,CDEFGAB\", \"13:00,13:05,WORLD,ABCDEF\"]], \n",
    "                      [\"CC#BCC#BCC#BCC#B\", [\"03:00,03:30,FOO,CC#B\", \"04:00,04:08,BAR,CC#BCC#BCC#B\"]] ,\n",
    "                       [\"ABC\", [\"12:00,12:14,HELLO,C#DEFGAB\", \"13:00,13:05,WORLD,ABCDEF\"]]]:\n",
    "    print(solution(m, musicinfos))"
   ]
  },
  {
   "cell_type": "markdown",
   "id": "82af31ec",
   "metadata": {},
   "source": [
    "# 풀이 과정 및 주의사항"
   ]
  },
  {
   "cell_type": "markdown",
   "id": "45718816",
   "metadata": {},
   "source": [
    "* 먼저 #이 붙은경우에는 2글자로 인식해야 되기 때문에 소문자로 변경한다."
   ]
  },
  {
   "cell_type": "markdown",
   "id": "a93a96e8",
   "metadata": {},
   "source": [
    "https://school.programmers.co.kr/learn/courses/30/lessons/17683"
   ]
  }
 ],
 "metadata": {
  "kernelspec": {
   "display_name": "Python 3 (ipykernel)",
   "language": "python",
   "name": "python3"
  },
  "language_info": {
   "codemirror_mode": {
    "name": "ipython",
    "version": 3
   },
   "file_extension": ".py",
   "mimetype": "text/x-python",
   "name": "python",
   "nbconvert_exporter": "python",
   "pygments_lexer": "ipython3",
   "version": "3.9.7"
  }
 },
 "nbformat": 4,
 "nbformat_minor": 5
}
