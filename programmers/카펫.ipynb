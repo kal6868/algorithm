{
 "cells": [
  {
   "cell_type": "markdown",
   "id": "fbd6d190",
   "metadata": {},
   "source": [
    "# 문제"
   ]
  },
  {
   "cell_type": "markdown",
   "id": "aa665cb9",
   "metadata": {},
   "source": [
    "* Leo는 카펫을 사러 갔다가 아래 그림과 같이 중앙에는 노란색으로 칠해져 있고 테두리 1줄은 갈색으로 칠해져 있는 격자 모양 카펫을 봤습니다."
   ]
  },
  {
   "cell_type": "code",
   "execution_count": 1,
   "id": "d01a6c0b",
   "metadata": {
    "scrolled": true
   },
   "outputs": [
    {
     "data": {
      "image/png": "[encoded data removed]",
      "text/plain": [
       "<IPython.core.display.Image object>"
      ]
     },
     "execution_count": 1,
     "metadata": {},
     "output_type": "execute_result"
    }
   ],
   "source": [
    "from IPython.display import Image\n",
    "Image('../../../../../carpet.png')"
   ]
  },
  {
   "cell_type": "markdown",
   "id": "82e75483",
   "metadata": {},
   "source": [
    "* Leo는 집으로 돌아와서 아까 본 카펫의 노란색과 갈색으로 색칠된 격자의 개수는 기억했지만, 전체 카펫의 크기는 기억하지 못했습니다.\n",
    "\n",
    "* Leo가 본 카펫에서 갈색 격자의 수 brown, 노란색 격자의 수 yellow가 매개변수로 주어질 때 카펫의 가로, 세로 크기를 순서대로 배열에 담아 return 하도록 solution 함수를 작성해주세요."
   ]
  },
  {
   "cell_type": "markdown",
   "id": "be064c2f",
   "metadata": {},
   "source": [
    "# 제한사항"
   ]
  },
  {
   "cell_type": "markdown",
   "id": "c4d677a4",
   "metadata": {},
   "source": [
    "* 갈색 격자의 수 brown은 8 이상 5,000 이하인 자연수입니다.\n",
    "* 노란색 격자의 수 yellow는 1 이상 2,000,000 이하인 자연수입니다.\n",
    "* 카펫의 가로 길이는 세로 길이와 같거나, 세로 길이보다 깁니다."
   ]
  },
  {
   "cell_type": "markdown",
   "id": "16452081",
   "metadata": {},
   "source": [
    "# 입출력 예시"
   ]
  },
  {
   "cell_type": "markdown",
   "id": "9b026c31",
   "metadata": {},
   "source": [
    "|brwon|yellow|result|\n",
    "|---|---|---|\n",
    "|10|2|[4, 3]|\n",
    "|8|1|[3, 3]|\n",
    "|24|24|[8, 6]|"
   ]
  },
  {
   "cell_type": "code",
   "execution_count": 2,
   "id": "d3f7e869",
   "metadata": {},
   "outputs": [],
   "source": [
    "def solution(brown, yellow):\n",
    "    total = brown + yellow\n",
    "    for i in range(2, total+1):\n",
    "        if total % i == 0:\n",
    "            remain = total / i\n",
    "            if (i >= remain) and ((i-2)*(remain-2) == yellow):\n",
    "                break\n",
    "    answer = [i, int(remain)]\n",
    "    return answer"
   ]
  },
  {
   "cell_type": "code",
   "execution_count": 3,
   "id": "ab9e927b",
   "metadata": {},
   "outputs": [
    {
     "name": "stdout",
     "output_type": "stream",
     "text": [
      "[4, 3] [3, 3] [8, 6] "
     ]
    }
   ],
   "source": [
    "for brown,yellow in [[10, 2], [8, 1], [24, 24]]:\n",
    "    print(solution(brown,yellow), end = ' ')"
   ]
  },
  {
   "cell_type": "markdown",
   "id": "55f1bb43",
   "metadata": {},
   "source": [
    "# 풀이 과정 및 주의사항"
   ]
  },
  {
   "cell_type": "markdown",
   "id": "d8d686a4",
   "metadata": {},
   "source": [
    "* 넓이(brown + yellow)의 약수 중 큰쪽을 가로, 작은쪽을 세로로 두면 되므로 for, range 문을 이용해서 약수를 찾은 다음 i가 다른 약수보다 큰 조합을 찾으면 된다.\n",
    "* 카펫의 가운데 부분(가로-2)*(세로-2)은 yellow가 되야하므로 숫자가 (큰 약수-2)*(작은 약수-2)가 yellow의 크기와 같게하는 조건을 걸어둔다 "
   ]
  },
  {
   "cell_type": "markdown",
   "id": "a93a96e8",
   "metadata": {},
   "source": [
    "https://school.programmers.co.kr/learn/courses/30/lessons/42842"
   ]
  }
 ],
 "metadata": {
  "kernelspec": {
   "display_name": "Python 3 (ipykernel)",
   "language": "python",
   "name": "python3"
  },
  "language_info": {
   "codemirror_mode": {
    "name": "ipython",
    "version": 3
   },
   "file_extension": ".py",
   "mimetype": "text/x-python",
   "name": "python",
   "nbconvert_exporter": "python",
   "pygments_lexer": "ipython3",
   "version": "3.9.7"
  }
 },
 "nbformat": 4,
 "nbformat_minor": 5
}
