{
 "cells": [
  {
   "cell_type": "markdown",
   "id": "fbd6d190",
   "metadata": {},
   "source": [
    "# 문제"
   ]
  },
  {
   "cell_type": "markdown",
   "id": "aa665cb9",
   "metadata": {},
   "source": [
    "* 자연수 n이 주어졌을 때, n의 다음 큰 숫자는 다음과 같이 정의 합니다.\n",
    "\n",
    "    * 조건 1. n의 다음 큰 숫자는 n보다 큰 자연수 입니다.\n",
    "    * 조건 2. n의 다음 큰 숫자와 n은 2진수로 변환했을 때 1의 갯수가 같습니다.\n",
    "    * 조건 3. n의 다음 큰 숫자는 조건 1, 2를 만족하는 수 중 가장 작은 수 입니다.\n",
    "* 예를 들어서 78(1001110)의 다음 큰 숫자는 83(1010011)입니다.\n",
    "* 자연수 n이 매개변수로 주어질 때, n의 다음 큰 숫자를 return 하는 solution 함수를 완성해주세요"
   ]
  },
  {
   "cell_type": "markdown",
   "id": "93c69f28",
   "metadata": {},
   "source": [
    "# 제한 조건"
   ]
  },
  {
   "cell_type": "markdown",
   "id": "ebf4c872",
   "metadata": {},
   "source": [
    "* n은 1,000,000 이하의 자연수 입니다."
   ]
  },
  {
   "cell_type": "markdown",
   "id": "73cf05d4",
   "metadata": {},
   "source": [
    "# 입출력 예 설명"
   ]
  },
  {
   "cell_type": "markdown",
   "id": "dbc9302c",
   "metadata": {},
   "source": [
    "|n|result|\n",
    "|---|---|\n",
    "|78|83|\n",
    "|15|23|"
   ]
  },
  {
   "cell_type": "code",
   "execution_count": 4,
   "id": "b2918811",
   "metadata": {},
   "outputs": [],
   "source": [
    "def mk_bin(num):\n",
    "    number = ''\n",
    "    while num:\n",
    "        tail = num % 2\n",
    "        num //= 2\n",
    "        number = str(tail) + number\n",
    "    return number\n",
    "\n",
    "def solution(n):\n",
    "    onecount = mk_bin(n).count('1')\n",
    "    a = n + 1\n",
    "    while True:\n",
    "        one_test = mk_bin(a).count('1')\n",
    "        if onecount == one_test:\n",
    "            break\n",
    "        else :\n",
    "            a += 1\n",
    "    return a"
   ]
  },
  {
   "cell_type": "code",
   "execution_count": 5,
   "id": "9b07c977",
   "metadata": {},
   "outputs": [
    {
     "name": "stdout",
     "output_type": "stream",
     "text": [
      "83 23 "
     ]
    }
   ],
   "source": [
    "for i in [78, 15]:\n",
    "    print(solution(i), end = \" \")"
   ]
  },
  {
   "cell_type": "markdown",
   "id": "55f1bb43",
   "metadata": {},
   "source": [
    "# 풀이 과정 및 주의사항"
   ]
  },
  {
   "cell_type": "markdown",
   "id": "6efca741",
   "metadata": {},
   "source": [
    "* 입력된 숫자에서 1을 더한 숫자를 이진화해서 1의 개수를 탐색, 1의 개수가 일치하면 while 문을 중단"
   ]
  },
  {
   "cell_type": "markdown",
   "id": "a93a96e8",
   "metadata": {},
   "source": [
    "https://school.programmers.co.kr/learn/courses/30/lessons/12911"
   ]
  }
 ],
 "metadata": {
  "kernelspec": {
   "display_name": "Python 3 (ipykernel)",
   "language": "python",
   "name": "python3"
  },
  "language_info": {
   "codemirror_mode": {
    "name": "ipython",
    "version": 3
   },
   "file_extension": ".py",
   "mimetype": "text/x-python",
   "name": "python",
   "nbconvert_exporter": "python",
   "pygments_lexer": "ipython3",
   "version": "3.9.7"
  }
 },
 "nbformat": 4,
 "nbformat_minor": 5
}
