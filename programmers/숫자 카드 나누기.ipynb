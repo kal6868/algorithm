{
 "cells": [
  {
   "cell_type": "markdown",
   "id": "fbd6d190",
   "metadata": {},
   "source": [
    "# 문제 설명"
   ]
  },
  {
   "cell_type": "markdown",
   "id": "295ec3a5",
   "metadata": {},
   "source": [
    "* 철수와 영희는 선생님으로부터 숫자가 하나씩 적힌 카드들을 절반씩 나눠서 가진 후, 다음 두 조건 중 하나를 만족하는 가장 큰 양의 정수 a의 값을 구하려고 합니다.\n",
    "    * 1. 철수가 가진 카드들에 적힌 모든 숫자를 나눌 수 있고 영희가 가진 카드들에 적힌 모든 숫자들 중 하나도 나눌 수 없는 양의 정수 a\n",
    "    * 2. 영희가 가진 카드들에 적힌 모든 숫자를 나눌 수 있고, 철수가 가진 카드들에 적힌 모든 숫자들 중 하나도 나눌 수 없는 양의 정수 a"
   ]
  },
  {
   "cell_type": "markdown",
   "id": "41d65362",
   "metadata": {},
   "source": [
    "* 예를 들어, 카드들에 10, 5, 20, 17이 적혀 있는 경우에 대해 생각해 봅시다. 만약, 철수가 [10, 17]이 적힌 카드를 갖고, 영희가 [5, 20]이 적힌 카드를 갖는다면 두 조건 중 하나를 만족하는 양의 정수 a는 존재하지 않습니다. 하지만, 철수가 [10, 20]이 적힌 카드를 갖고, 영희가 [5, 17]이 적힌 카드를 갖는다면, 철수가 가진 카드들의 숫자는 모두 10으로 나눌 수 있고, 영희가 가진 카드들의 숫자는 모두 10으로 나눌 수 없습니다. 따라서 철수와 영희는 각각 [10, 20]이 적힌 카드, [5, 17]이 적힌 카드로 나눠 가졌다면 조건에 해당하는 양의 정수 a는 10이 됩니다."
   ]
  },
  {
   "cell_type": "markdown",
   "id": "c60232ba",
   "metadata": {},
   "source": [
    "* 철수가 가진 카드에 적힌 숫자들을 나타내는 정수 배열 arrayA와 영희가 가진 카드에 적힌 숫자들을 나타내는 정수 배열 arrayB가 주어졌을 때, 주어진 조건을 만족하는 가장 큰 양의 정수 a를 return하도록 solution 함수를 완성해 주세요. 만약, 조건을 만족하는 a가 없다면, 0을 return 해 주세요."
   ]
  },
  {
   "cell_type": "markdown",
   "id": "ff6efbd2",
   "metadata": {},
   "source": [
    " # 제한 사항"
   ]
  },
  {
   "cell_type": "markdown",
   "id": "160863cb",
   "metadata": {},
   "source": [
    "* 1 ≤ arrayA의 길이 = arrayB의 길이 ≤ 500,000\n",
    "* 1 ≤ arrayA의 원소, arrayB의 원소 ≤ 100,000,000\n",
    "* arrayA와 arrayB에는 중복된 원소가 있을 수 있습니다."
   ]
  },
  {
   "cell_type": "markdown",
   "id": "16452081",
   "metadata": {},
   "source": [
    "# 입출력 예"
   ]
  },
  {
   "cell_type": "markdown",
   "id": "9b026c31",
   "metadata": {},
   "source": [
    "|arrayA|arrayB|result|\n",
    "|---|---|---|\n",
    "|[10, 17]|[5, 20]|0|\n",
    "|[10, 20]|[5, 17]|10|\n",
    "|[14, 35, 119]|[18, 30, 102]|7|"
   ]
  },
  {
   "cell_type": "code",
   "execution_count": 1,
   "id": "9570e5c7",
   "metadata": {},
   "outputs": [],
   "source": [
    "# 통과 X : 최소공배수를 직접 산출하는 함수에서 문제가 있음 -> 1을 처리하는 방법에 대한 고민이 필요함\n",
    "def f_gcd(array):\n",
    "    array = sorted(array)\n",
    "    gcd_s = []\n",
    "    for i in range(1, len(array)):\n",
    "        gcd_cadi = []\n",
    "        for j in range(1, array[i]):\n",
    "            if i == 1:\n",
    "                if (array[i-1] % j == 0) and (array[i] % j == 0):\n",
    "                    gcd_cadi.append(j)\n",
    "            elif i > 1:\n",
    "                if (gcd_s[-1] % j == 0) and (array[i] % j == 0):\n",
    "                    gcd_cadi.append(j)\n",
    "        gcd_s.append(gcd_cadi[-1])\n",
    "    return gcd_s[-1]\n",
    "\n",
    "def solution(arrayA, arrayB):\n",
    "    answer = 0\n",
    "    final_gcd = []\n",
    "    \n",
    "    a_g = f_gcd(arrayA)\n",
    "    for b in arrayB:\n",
    "        if b % a_g == 0:\n",
    "            break\n",
    "    else:\n",
    "        final_gcd(a_g)\n",
    "        \n",
    "    b_g = f_gcd(arrayB)\n",
    "    for a in arrayA:\n",
    "        if a % b_g == 0:\n",
    "            break\n",
    "    else:\n",
    "        final_gcd(b_g)\n",
    "        \n",
    "    if final_gcd:\n",
    "        answer = max(final_gcd)\n",
    "    else:\n",
    "        answer = 0\n",
    "    return answer"
   ]
  },
  {
   "cell_type": "code",
   "execution_count": 2,
   "id": "2cfeb700",
   "metadata": {},
   "outputs": [],
   "source": [
    "from math import gcd\n",
    "def f_gcd(array):\n",
    "    g = array[0]\n",
    "    for i in range(1, len(array)):\n",
    "        g = gcd(g, array[i])\n",
    "    return g\n",
    "\n",
    "def solution(arrayA, arrayB):\n",
    "    a_g = f_gcd(arrayA)\n",
    "    final_gcd = []\n",
    "\n",
    "    for b in arrayB:\n",
    "        if b % a_g == 0:\n",
    "            break\n",
    "    else:\n",
    "        final_gcd.append(a_g)\n",
    "    b_g = f_gcd(arrayB)\n",
    "\n",
    "    for a in arrayA:\n",
    "        if a % b_g == 0:\n",
    "            break\n",
    "    else:\n",
    "        final_gcd.append(b_g)\n",
    "        \n",
    "    if final_gcd:\n",
    "        answer = max(final_gcd)\n",
    "    else:\n",
    "        answer = 0\n",
    "    return answer"
   ]
  },
  {
   "cell_type": "code",
   "execution_count": 3,
   "id": "4411ccbc",
   "metadata": {},
   "outputs": [
    {
     "name": "stdout",
     "output_type": "stream",
     "text": [
      "0\n",
      "10\n",
      "7\n"
     ]
    }
   ],
   "source": [
    "for arrayA, arrayB in [[[10, 17], [5, 20]], [[10, 20], [5, 17]], [[14, 35, 119], [18, 30, 102]]]:\n",
    "    print(solution(arrayA, arrayB))"
   ]
  },
  {
   "cell_type": "markdown",
   "id": "a76a6800",
   "metadata": {},
   "source": [
    "# 풀이 과정 및 주의사항"
   ]
  },
  {
   "cell_type": "markdown",
   "id": "641c1f09",
   "metadata": {},
   "source": [
    " * 주어진 배열에서 첫번째, 두번째 수의 최대공배수를 구하고, 산출된 최소공배수와 나머지 수들의 최소공배수를 반복적으로 산출하여 배열의 모든 수에 대한 최소공배수를 산출한다.\n",
    " * A 배열의 최소공배수로 B의 요소들을 모두 나눌 수 있으면 List에 추가하고, 반대로 B 배열의 최소공배수로 A의 요소들을 모두 나눌 수 있으면 List에 추가한다. \n",
    " * List에 아무것도 없으면 0을 반환하고, 1개 이상의 요소가 있으면 최대 값을 반환하면 된다."
   ]
  },
  {
   "cell_type": "markdown",
   "id": "0d7970bb",
   "metadata": {},
   "source": [
    "https://school.programmers.co.kr/learn/courses/30/lessons/135807"
   ]
  }
 ],
 "metadata": {
  "celltoolbar": "Raw Cell Format",
  "kernelspec": {
   "display_name": "Python 3 (ipykernel)",
   "language": "python",
   "name": "python3"
  },
  "language_info": {
   "codemirror_mode": {
    "name": "ipython",
    "version": 3
   },
   "file_extension": ".py",
   "mimetype": "text/x-python",
   "name": "python",
   "nbconvert_exporter": "python",
   "pygments_lexer": "ipython3",
   "version": "3.9.7"
  }
 },
 "nbformat": 4,
 "nbformat_minor": 5
}
