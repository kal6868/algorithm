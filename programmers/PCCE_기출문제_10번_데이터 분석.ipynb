{
 "cells": [
  {
   "attachments": {},
   "cell_type": "markdown",
   "metadata": {},
   "source": [
    "# [PCCE 기출문제] 10번 / 데이터 분석"
   ]
  },
  {
   "attachments": {},
   "cell_type": "markdown",
   "metadata": {},
   "source": [
    "## 문제"
   ]
  },
  {
   "cell_type": "markdown",
   "metadata": {},
   "source": [
    "* AI 엔지니어인 현식이는 데이터를 분석하는 작업을 진행하고 있습니다. 데이터는 [\"코드 번호(code)\", \"제조일(date)\", \"최대 수량(maximum)\", \"현재 수량(remain)\"]으로 구성되어 있으며 현식이는 이 데이터들 중 조건을 만족하는 데이터만 뽑아서 정렬하려 합니다."
   ]
  },
  {
   "cell_type": "markdown",
   "metadata": {},
   "source": [
    "* 예를 들어 다음과 같이 데이터가 주어진다면\n",
    "    * data = [[1, 20300104, 100, 80], [2, 20300804, 847, 37], [3, 20300401, 10, 8]]"
   ]
  },
  {
   "cell_type": "markdown",
   "metadata": {},
   "source": [
    "* 이 데이터는 다음 표처럼 나타낼 수 있습니다.\n",
    "\n",
    "|code|date|maximum|remain|\n",
    "|---|---|---|---|\n",
    "|1|20300104|100|80|\n",
    "|2|20300804|847|37|\n",
    "|3|20300401|10|8|\n"
   ]
  },
  {
   "cell_type": "markdown",
   "metadata": {},
   "source": [
    "* 주어진 데이터 중 \"제조일이 20300501 이전인 물건들을 현재 수량이 적은 순서\"로 정렬해야 한다면 조건에 맞게 가공된 데이터는 다음과 같습니다.\n",
    "    * data = [[3,20300401,10,8],[1,20300104,100,80]]"
   ]
  },
  {
   "cell_type": "markdown",
   "metadata": {},
   "source": [
    "* 정렬한 데이터들이 담긴 이차원 정수 리스트 data와 어떤 정보를 기준으로 데이터를 뽑아낼지를 의미하는 문자열 ext, 뽑아낼 정보의 기준값을 나타내는 정수 val_ext, 정보를 정렬할 기준이 되는 문자열 sort_by가 주어집니다."
   ]
  },
  {
   "cell_type": "markdown",
   "metadata": {},
   "source": [
    "* data에서 ext 값이 val_ext보다 작은 데이터만 뽑은 후, sort_by에 해당하는 값을 기준으로 오름차순으로 정렬하여 return 하도록 solution 함수를 완성해 주세요. 단, 조건을 만족하는 데이터는 항상 한 개 이상 존재합니다."
   ]
  },
  {
   "cell_type": "markdown",
   "metadata": {},
   "source": [
    "## 제한 사항"
   ]
  },
  {
   "cell_type": "markdown",
   "metadata": {},
   "source": [
    "* 1 ≤ data의 길이 ≤ 500\n",
    "    * data[i]의 원소는 [코드 번호(code), 제조일(date), 최대 수량(maximum), 현재 수량(remain)] 형태입니다.\n",
    "    * 1 ≤ 코드 번호≤ 100,000\n",
    "    * 20000101 ≤ 제조일≤ 29991231\n",
    "    * data[i][1]은 yyyymmdd 형태의 값을 가지며, 올바른 날짜만 주어집니다. (yyyy : 연도, mm : 월, dd : 일)\n",
    "    * 1 ≤ 최대 수량≤ 10,000\n",
    "    * 1 ≤ 현재 수량≤ 최대 수량\n",
    "* ext와 sort_by의 값은 다음 중 한 가지를 가집니다.\n",
    "    * \"code\", \"date\", \"maximum\", \"remain\"\n",
    "    * 순서대로 코드 번호, 제조일, 최대 수량, 현재 수량을 의미합니다.\n",
    "* val_ext는 ext에 따라 올바른 범위의 숫자로 주어집니다.\n",
    "* 정렬 기준에 해당하는 값이 서로 같은 경우는 없습니다."
   ]
  },
  {
   "cell_type": "markdown",
   "metadata": {},
   "source": [
    "## 입출력 예"
   ]
  },
  {
   "cell_type": "markdown",
   "metadata": {},
   "source": [
    "|data|ext|val_ext|sort_by|result|\n",
    "|---|---|---|---|---|\n",
    "[[1, 20300104, 100, 80], [2, 20300804, 847, 37], [3, 20300401, 10, 8]]|\"date\"|20300501|\"remain\"|[[3,20300401,10,8],[1,20300104,100,80]]|\n"
   ]
  },
  {
   "attachments": {},
   "cell_type": "markdown",
   "metadata": {},
   "source": [
    "## Code"
   ]
  },
  {
   "cell_type": "code",
   "execution_count": 1,
   "metadata": {},
   "outputs": [],
   "source": [
    "# 프로그래머스_[PCCE 기출문제] 10번 / 데이터 분석\n",
    "# https://school.programmers.co.kr/learn/courses/30/lessons/250121\n",
    "\n",
    "def solution(data, ext, val_ext, sort_by):\n",
    "    data_index = {'code':0, 'date':1, 'maximum':2, 'remain':3}\n",
    "    answer = sorted([d for d in data if d[data_index[ext]] < val_ext], key=lambda x: x[data_index[sort_by]])\n",
    "    return answer"
   ]
  },
  {
   "cell_type": "code",
   "execution_count": 2,
   "metadata": {},
   "outputs": [
    {
     "data": {
      "text/plain": [
       "[[3, 20300401, 10, 8], [1, 20300104, 100, 80]]"
      ]
     },
     "execution_count": 2,
     "metadata": {},
     "output_type": "execute_result"
    }
   ],
   "source": [
    "solution([[1, 20300104, 100, 80], [2, 20300804, 847, 37], [3, 20300401, 10, 8]], \"date\", 20300501, \"remain\")"
   ]
  },
  {
   "attachments": {},
   "cell_type": "markdown",
   "metadata": {},
   "source": [
    "## Note"
   ]
  },
  {
   "cell_type": "markdown",
   "metadata": {},
   "source": [
    "* 1. val_ext보다 작은 데이터만 추출한 뒤, 주어진 조건에 맞게 정렬한다.\n",
    "    * 1\\) 2차원 List의 형태로 되어있으므로 List comprehension을 이용하여 조건에 맞지 않는 List를 걸러낸다.\n",
    "    * 2\\) sorted와 lambda 함수를 사용하여 주어진 조건에 맞는 기준 데이터를 indexing으로 선택하여 정렬한다."
   ]
  },
  {
   "attachments": {},
   "cell_type": "markdown",
   "metadata": {},
   "source": [
    "https://school.programmers.co.kr/learn/courses/30/lessons/250121"
   ]
  }
 ],
 "metadata": {
  "kernelspec": {
   "display_name": "ws1",
   "language": "python",
   "name": "python3"
  },
  "language_info": {
   "codemirror_mode": {
    "name": "ipython",
    "version": 3
   },
   "file_extension": ".py",
   "mimetype": "text/x-python",
   "name": "python",
   "nbconvert_exporter": "python",
   "pygments_lexer": "ipython3",
   "version": "3.11.5"
  },
  "orig_nbformat": 4,
  "vscode": {
   "interpreter": {
    "hash": "2856db72fb1e77597a3b14e9c1bb4d2315d342edc16fc9e25c6c6e499688b933"
   }
  }
 },
 "nbformat": 4,
 "nbformat_minor": 2
}
