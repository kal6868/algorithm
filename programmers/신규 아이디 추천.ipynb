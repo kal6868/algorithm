{
 "cells": [
  {
   "cell_type": "markdown",
   "id": "fbd6d190",
   "metadata": {},
   "source": [
    "# 문제 설명"
   ]
  },
  {
   "cell_type": "markdown",
   "id": "295ec3a5",
   "metadata": {},
   "source": [
    "* 카카오에 입사한 신입 개발자 네오는 \"카카오계정개발팀\"에 배치되어, 카카오 서비스에 가입하는 유저들의 아이디를 생성하는 업무를 담당하게 되었습니다. \"네오\"에게 주어진 첫 업무는 새로 가입하는 유저들이 카카오 아이디 규칙에 맞지 않는 아이디를 입력했을 때, 입력된 아이디와 유사하면서 규칙에 맞는 아이디를 추천해주는 프로그램을 개발하는 것입니다."
   ]
  },
  {
   "cell_type": "markdown",
   "id": "943d53ad",
   "metadata": {},
   "source": [
    "* 다음은 카카오 아이디의 규칙입니다.\n",
    "    * 아이디의 길이는 3자 이상 15자 이하여야 합니다.\n",
    "    * 아이디는 알파벳 소문자, 숫자, 빼기(-), 밑줄(_), 마침표(.) 문자만 사용할 수 있습니다.\n",
    "    * 단, 마침표(.)는 처음과 끝에 사용할 수 없으며 또한 연속으로 사용할 수 없습니다."
   ]
  },
  {
   "cell_type": "markdown",
   "id": "ae369628",
   "metadata": {},
   "source": [
    "* 신규 유저가 입력한 아이디가 new_id 라고 한다면,\n",
    "    * 1단계 new_id의 모든 대문자를 대응되는 소문자로 치환합니다.\n",
    "    * 2단계 new_id에서 알파벳 소문자, 숫자, 빼기(-), 밑줄(_), 마침표(.)를 제외한 모든 문자를 제거합니다.\n",
    "    * 3단계 new_id에서 마침표(.)가 2번 이상 연속된 부분을 하나의 마침표(.)로 치환합니다.\n",
    "    * 4단계 new_id에서 마침표(.)가 처음이나 끝에 위치한다면 제거합니다.\n",
    "    * 5단계 new_id가 빈 문자열이라면, new_id에 \"a\"를 대입합니다.\n",
    "    * 6단계 new_id의 길이가 16자 이상이면, new_id의 첫 15개의 문자를 제외한 나머지 문자들을 모두 제거합니다. 만약 제거 후 마침표(.)가 new_id의 끝에 위치한다면 끝에 위치한 마침표(.) 문자를 제거합니다.\n",
    "    * 7단계 new_id의 길이가 2자 이하라면, new_id의 마지막 문자를 new_id의 길이가 3이 될 때까지 반복해서 끝에 붙입니다."
   ]
  },
  {
   "cell_type": "markdown",
   "id": "cd47b451",
   "metadata": {},
   "source": [
    "* 예를 들어, new_id 값이 \"...!@BaT#*..y.abcdefghijklm\" 라면, 위 7단계를 거치고 나면 new_id는 아래와 같이 변경됩니다.\n",
    "    * 1단계 대문자 'B'와 'T'가 소문자 'b'와 't'로 바뀌었습니다.\n",
    "        * \"...!@BaT#*..y.abcdefghijklm\" → \"...!@bat#*..y.abcdefghijklm\"\n",
    "    * 2단계 '!', '@', '#', '*' 문자가 제거되었습니다.\n",
    "        * \"...!@bat#*..y.abcdefghijklm\" → \"...bat..y.abcdefghijklm\"\n",
    "    * 3단계 '...'와 '..' 가 '.'로 바뀌었습니다.\n",
    "        * \"...bat..y.abcdefghijklm\" → \".bat.y.abcdefghijklm\"\n",
    "    * 4단계 아이디의 처음에 위치한 '.'가 제거되었습니다.\n",
    "        * \".bat.y.abcdefghijklm\" → \"bat.y.abcdefghijklm\"\n",
    "    * 5단계 아이디가 빈 문자열이 아니므로 변화가 없습니다.\n",
    "        * \"bat.y.abcdefghijklm\" → \"bat.y.abcdefghijklm\"\n",
    "    * 6단계 아이디의 길이가 16자 이상이므로, 처음 15자를 제외한 나머지 문자들이 제거되었습니다.\n",
    "        * \"bat.y.abcdefghijklm\" → \"bat.y.abcdefghi\"\n",
    "    * 7단계 아이디의 길이가 2자 이하가 아니므로 변화가 없습니다.\n",
    "        * \"bat.y.abcdefghi\" → \"bat.y.abcdefghi\"\n",
    "* 따라서 신규 유저가 입력한 new_id가 \"...!@BaT#*..y.abcdefghijklm\"일 때, 네오의 프로그램이 추천하는 새로운 아이디는 \"bat.y.abcdefghi\" 입니다."
   ]
  },
  {
   "cell_type": "markdown",
   "id": "cb25fa7e",
   "metadata": {},
   "source": [
    "# 문제"
   ]
  },
  {
   "cell_type": "markdown",
   "id": "79781823",
   "metadata": {},
   "source": [
    "* 신규 유저가 입력한 아이디를 나타내는 new_id가 매개변수로 주어질 때, \"네오\"가 설계한 7단계의 처리 과정을 거친 후의 추천 아이디를 return 하도록 solution 함수를 완성해 주세요."
   ]
  },
  {
   "cell_type": "markdown",
   "id": "b56a4179",
   "metadata": {},
   "source": [
    "# 제한사항"
   ]
  },
  {
   "cell_type": "markdown",
   "id": "229fc3aa",
   "metadata": {},
   "source": [
    "* new_id는 길이 1 이상 1,000 이하인 문자열입니다.\n",
    "* new_id는 알파벳 대문자, 알파벳 소문자, 숫자, 특수문자로 구성되어 있습니다.\n",
    "* new_id에 나타날 수 있는 특수문자는 -_.~!@#$%^&*()=+[{]}:?,<>/ 로 한정됩니다."
   ]
  },
  {
   "cell_type": "markdown",
   "id": "16452081",
   "metadata": {},
   "source": [
    "# 입출력 예시"
   ]
  },
  {
   "cell_type": "markdown",
   "id": "9b026c31",
   "metadata": {},
   "source": [
    "|no|new_id|result|\n",
    "|---|---|---|\n",
    "|예1|\"...!@BaT#*..y.abcdefghijklm\"|\"bat.y.abcdefghi\"|\n",
    "|예2|\"z-+.^.\"|\"z--\"|\n",
    "|예3|\"=.=\"|\"aaa\"|\n",
    "|예4|\"123_.def\"|\"123_.def\"|\n",
    "|예5|\"abcdefghijklmn.p\"|\"abcdefghijklmn\"|"
   ]
  },
  {
   "cell_type": "code",
   "execution_count": 1,
   "id": "d3f7e869",
   "metadata": {},
   "outputs": [],
   "source": [
    "import re\n",
    "def sdld(nid):\n",
    "    if nid:\n",
    "        if nid[0] == '.':\n",
    "            nid = nid[1:]\n",
    "    if nid:\n",
    "        if nid[-1] == '.':\n",
    "            nid = nid[:-1]\n",
    "    return nid\n",
    "\n",
    "def solution(new_id):\n",
    "    answer = ''\n",
    "    new_id = new_id.lower()\n",
    "    new_id = re.sub('[^a-z0-9-_.]', '', new_id)\n",
    "    new_id = re.sub('[.]{2,}', '.', new_id)\n",
    "    new_id = sdld(new_id)\n",
    "    \n",
    "    if new_id == '':\n",
    "        new_id = new_id + 'a'\n",
    "\n",
    "    if len(new_id) >= 16:\n",
    "        new_id = new_id[:15]\n",
    "        new_id = sdld(new_id)\n",
    "\n",
    "    if len(new_id) <= 2:\n",
    "        s_plus = 3-len(new_id)\n",
    "        new_id += (new_id[-1] * s_plus)\n",
    "    answer = new_id\n",
    "    return answer"
   ]
  },
  {
   "cell_type": "code",
   "execution_count": 2,
   "id": "d3982ae6",
   "metadata": {},
   "outputs": [
    {
     "name": "stdout",
     "output_type": "stream",
     "text": [
      "bat.y.abcdefghi\n",
      "z--\n",
      "aaa\n",
      "123_.def\n",
      "abcdefghijklmn\n"
     ]
    }
   ],
   "source": [
    "for new_id in [\"...!@BaT#*..y.abcdefghijklm\", \"z-+.^.\", \"=.=\", \"123_.def\", \"abcdefghijklmn.p\"]:\n",
    "    print(solution(new_id))"
   ]
  },
  {
   "cell_type": "markdown",
   "id": "a76a6800",
   "metadata": {},
   "source": [
    "# 풀이 과정 및 주의사항"
   ]
  },
  {
   "cell_type": "markdown",
   "id": "641c1f09",
   "metadata": {},
   "source": [
    "* str.lower() : 모든 대문자를 소문자로 변경\n",
    "* re.sub('정규표현식으로 찾을 문자열', '변경할 문자열', 대상 문자열) : 정규표현식을 이용하여 문자열 패턴을 찾은 후 지정한 문자열로 변경\n",
    "    * [^a-z] : ^ 해당 문자열이 아닌 것을들 찾는다. 영소문자a-z가 아닌 모든 문자열이 대상\n",
    "    * a{2, 5} : {}바로 앞 문자열이 반복되는 패턴을 찾음 a가 2~5번 연속되는 모든 패턴을 찾는다. {2, }, {2}로 사용 가능\n",
    "* sdld : nid가 빈 문자열이 아닌데 맨 앞, 맨 뒤 요소가 '.'일 경우 해당 Index는 제거하고 slicing해서 반환하는 함수 "
   ]
  },
  {
   "cell_type": "markdown",
   "id": "494b3869",
   "metadata": {},
   "source": [
    "* 위의 단계들을 거친 후, 문자열 길이가 16 이상이면 14번 index까지 slicing 후 길이가 3 미만일 경우 부족한 만큼 맨 뒤의 문자열을 더해준다."
   ]
  },
  {
   "cell_type": "markdown",
   "id": "0d7970bb",
   "metadata": {},
   "source": [
    "https://school.programmers.co.kr/learn/courses/30/lessons/72410"
   ]
  }
 ],
 "metadata": {
  "celltoolbar": "Raw Cell Format",
  "kernelspec": {
   "display_name": "Python 3 (ipykernel)",
   "language": "python",
   "name": "python3"
  },
  "language_info": {
   "codemirror_mode": {
    "name": "ipython",
    "version": 3
   },
   "file_extension": ".py",
   "mimetype": "text/x-python",
   "name": "python",
   "nbconvert_exporter": "python",
   "pygments_lexer": "ipython3",
   "version": "3.9.7"
  }
 },
 "nbformat": 4,
 "nbformat_minor": 5
}
