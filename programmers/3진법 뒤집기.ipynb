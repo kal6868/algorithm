{
 "cells": [
  {
   "cell_type": "markdown",
   "id": "fbd6d190",
   "metadata": {},
   "source": [
    "# 문제 설명"
   ]
  },
  {
   "cell_type": "markdown",
   "id": "295ec3a5",
   "metadata": {},
   "source": [
    "* 자연수 n이 매개변수로 주어집니다. n을 3진법 상에서 앞뒤로 뒤집은 후, 이를 다시 10진법으로 표현한 수를 return 하도록 solution 함수를 완성해주세요."
   ]
  },
  {
   "cell_type": "markdown",
   "id": "b56a4179",
   "metadata": {},
   "source": [
    "# 제한사항"
   ]
  },
  {
   "cell_type": "markdown",
   "id": "229fc3aa",
   "metadata": {},
   "source": [
    "* n은 1 이상 100,000,000 이하인 자연수입니다."
   ]
  },
  {
   "cell_type": "markdown",
   "id": "16452081",
   "metadata": {},
   "source": [
    "# 입출력 예시"
   ]
  },
  {
   "cell_type": "markdown",
   "id": "9b026c31",
   "metadata": {},
   "source": [
    "|survey|choices|\n",
    "|---|---|\n",
    "|45|7|\n",
    "|125|229|"
   ]
  },
  {
   "cell_type": "code",
   "execution_count": 1,
   "id": "d3f7e869",
   "metadata": {},
   "outputs": [],
   "source": [
    "def mk_tri(n):\n",
    "    tri_num = ''\n",
    "    while n > 0:\n",
    "        tail = n%3\n",
    "        tri_num = str(tail) + tri_num\n",
    "        n //= 3\n",
    "    return tri_num\n",
    "\n",
    "def solution(n):\n",
    "    tri_n = mk_tri(n)\n",
    "    \n",
    "    reverse_num = ''\n",
    "    for i in range(len(tri_n)-1, -1, -1):\n",
    "        reverse_num += tri_n[i]\n",
    "    \n",
    "    answer = 0\n",
    "    for i, digit in enumerate(reverse_num):\n",
    "        to_ten = 3 ** (len(reverse_num) - (i+1)) * int(digit)\n",
    "        answer += to_ten\n",
    "        \n",
    "    return answer"
   ]
  },
  {
   "cell_type": "code",
   "execution_count": 2,
   "id": "d3982ae6",
   "metadata": {},
   "outputs": [
    {
     "name": "stdout",
     "output_type": "stream",
     "text": [
      "7\n",
      "229\n"
     ]
    }
   ],
   "source": [
    "for n in [45, 125]:\n",
    "    print(solution(n))"
   ]
  },
  {
   "cell_type": "markdown",
   "id": "a76a6800",
   "metadata": {},
   "source": [
    "# 풀이 과정 및 주의사항"
   ]
  },
  {
   "cell_type": "markdown",
   "id": "641c1f09",
   "metadata": {},
   "source": [
    "* 10진수 이하 진수는 알파벳이 없으므로 진수에 맞는 숫자로 나눈 나머지를 계속해서 더해주는 함수를 만들어서 반환하면 해당 진수가 나타난다.\n",
    "* range 함수를 거꾸로 사용하여 3 진수로 변환한 숫자를 거꾸로 더해주고, 다시 for 문을 사용해서 첫번째 문자부터 읽되, 전체 길이에서 (현재 위치 + 1) ex)3, 2, 1, 0 만큼을 제곱하여 더해주면 된다."
   ]
  },
  {
   "cell_type": "markdown",
   "id": "0d7970bb",
   "metadata": {},
   "source": [
    "https://school.programmers.co.kr/learn/courses/30/lessons/68935"
   ]
  },
  {
   "cell_type": "code",
   "execution_count": null,
   "id": "cb54e09a",
   "metadata": {},
   "outputs": [],
   "source": []
  }
 ],
 "metadata": {
  "celltoolbar": "Raw Cell Format",
  "kernelspec": {
   "display_name": "Python 3 (ipykernel)",
   "language": "python",
   "name": "python3"
  },
  "language_info": {
   "codemirror_mode": {
    "name": "ipython",
    "version": 3
   },
   "file_extension": ".py",
   "mimetype": "text/x-python",
   "name": "python",
   "nbconvert_exporter": "python",
   "pygments_lexer": "ipython3",
   "version": "3.9.7"
  }
 },
 "nbformat": 4,
 "nbformat_minor": 5
}
