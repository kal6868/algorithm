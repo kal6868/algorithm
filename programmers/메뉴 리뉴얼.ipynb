{
 "cells": [
  {
   "cell_type": "markdown",
   "id": "fbd6d190",
   "metadata": {},
   "source": [
    "# 문제"
   ]
  },
  {
   "cell_type": "markdown",
   "id": "aa665cb9",
   "metadata": {},
   "source": [
    "* 레스토랑을 운영하던 스카피는 코로나19로 인한 불경기를 극복하고자 메뉴를 새로 구성하려고 고민하고 있습니다."
   ]
  },
  {
   "cell_type": "markdown",
   "id": "c21b2be6",
   "metadata": {},
   "source": [
    "* 기존에는 단품으로만 제공하던 메뉴를 조합해서 코스요리 형태로 재구성해서 새로운 메뉴를 제공하기로 결정했습니다. 어떤 단품메뉴들을 조합해서 코스요리 메뉴로 구성하면 좋을 지 고민하던 \"스카피\"는 이전에 각 손님들이 주문할 때 가장 많이 함께 주문한 단품메뉴들을 코스요리 메뉴로 구성하기로 했습니다."
   ]
  },
  {
   "cell_type": "markdown",
   "id": "2b2d9df1",
   "metadata": {},
   "source": [
    "* 단, 코스요리 메뉴는 최소 2가지 이상의 단품메뉴로 구성하려고 합니다. 또한, 최소 2명 이상의 손님으로부터 주문된 단품메뉴 조합에 대해서만 코스요리 메뉴 후보에 포함하기로 했습니다."
   ]
  },
  {
   "cell_type": "markdown",
   "id": "7b3dfa79",
   "metadata": {},
   "source": [
    "* 예를 들어, 손님 6명이 주문한 단품메뉴들의 조합이 다음과 같다면,\n",
    "(각 손님은 단품메뉴를 2개 이상 주문해야 하며, 각 단품메뉴는 A ~ Z의 알파벳 대문자로 표기합니다.)"
   ]
  },
  {
   "cell_type": "markdown",
   "id": "2fd08018",
   "metadata": {},
   "source": [
    "|손님 번호|주문한 단품메뉴 조합|\n",
    "|---|---|\n",
    "|1번 손님|A, B, C, F, G|\n",
    "|2번 손님|A, C|\n",
    "|3번 손님|C, D, E|\n",
    "|4번 손님|A, C, D, E|\n",
    "|5번 손님|B, C, F, G|\n",
    "|6번 손님|A, C, D, E, H|"
   ]
  },
  {
   "cell_type": "markdown",
   "id": "5e2313eb",
   "metadata": {},
   "source": [
    "* 가장 많이 함께 주문된 단품메뉴 조합에 따라 \"스카피\"가 만들게 될 코스요리 메뉴 구성 후보는 다음과 같습니다."
   ]
  },
  {
   "cell_type": "markdown",
   "id": "4e379de2",
   "metadata": {},
   "source": [
    "|코스 종류|메뉴 구성|설명|\n",
    "|---|---|---|\n",
    "|요리 2개 코스|A, C|1번, 2번, 4번, 6번 손님으로부터 총 4번 주문됐습니다.|\n",
    "|요리 3개 코스|C, D, E|3번, 4번, 6번 손님으로부터 총 3번 주문됐습니다.|\n",
    "|요리 4개 코스|B, C, F, G|1번, 5번 손님으로부터 총 2번 주문됐습니다.|\n",
    "|요리 4개 코스|A, C, D, E|4번, 6번 손님으로부터 총 2번 주문됐습니다.|"
   ]
  },
  {
   "cell_type": "markdown",
   "id": "add50ac2",
   "metadata": {},
   "source": [
    "* 각 손님들이 주문한 단품메뉴들이 문자열 형식으로 담긴 배열 orders, \"스카피\"가 추가하고 싶어하는 코스요리를 구성하는 단품메뉴들의 갯수가 담긴 배열 course가 매개변수로 주어질 때, \"스카피\"가 새로 추가하게 될 코스요리의 메뉴 구성을 문자열 형태로 배열에 담아 return 하도록 solution 함수를 완성해 주세요."
   ]
  },
  {
   "cell_type": "markdown",
   "id": "be064c2f",
   "metadata": {},
   "source": [
    "# 제한사항"
   ]
  },
  {
   "cell_type": "markdown",
   "id": "c4d677a4",
   "metadata": {},
   "source": [
    "* orders 배열의 크기는 2 이상 20 이하입니다.\n",
    "* orders 배열의 각 원소는 크기가 2 이상 10 이하인 문자열입니다.\n",
    "    * 각 문자열은 알파벳 대문자로만 이루어져 있습니다.\n",
    "    * 각 문자열에는 같은 알파벳이 중복해서 들어있지 않습니다.\n",
    "* course 배열의 크기는 1 이상 10 이하입니다.\n",
    "    * course 배열의 각 원소는 2 이상 10 이하인 자연수가 오름차순으로 정렬되어 있습니다.\n",
    "    * course 배열에는 같은 값이 중복해서 들어있지 않습니다.\n",
    "* 정답은 각 코스요리 메뉴의 구성을 문자열 형식으로 배열에 담아 사전 순으로 오름차순 정렬해서 return 해주세요.\n",
    "    * 배열의 각 원소에 저장된 문자열 또한 알파벳 오름차순으로 정렬되어야 합니다.\n",
    "    * 만약 가장 많이 함께 주문된 메뉴 구성이 여러 개라면, 모두 배열에 담아 return 하면 됩니다.\n",
    "    * orders와 course 매개변수는 return 하는 배열의 길이가 1 이상이 되도록 주어집니다."
   ]
  },
  {
   "cell_type": "markdown",
   "id": "16452081",
   "metadata": {},
   "source": [
    "# 입출력 예시"
   ]
  },
  {
   "cell_type": "markdown",
   "id": "9b026c31",
   "metadata": {},
   "source": [
    "|orders|course|result|\n",
    "|---|---|---|\n",
    "|[\"ABCFG\", \"AC\", \"CDE\", \"ACDE\", \"BCFG\", \"ACDEH\"]|[2,3,4]|[\"AC\", \"ACDE\", \"BCFG\", \"CDE\"]|\n",
    "|[\"ABCDE\", \"AB\", \"CD\", \"ADE\", \"XYZ\", \"XYZ\", \"ACD\"]|[2,3,5]|[\"ACD\", \"AD\", \"ADE\", \"CD\", \"XYZ\"]|\n",
    "|[\"XYZ\", \"XWY\", \"WXA\"]|[2,3,4]|[\"WX\", \"XY\"]|"
   ]
  },
  {
   "cell_type": "code",
   "execution_count": 1,
   "id": "d3f7e869",
   "metadata": {},
   "outputs": [],
   "source": [
    "from itertools import combinations\n",
    "from collections import Counter\n",
    "\n",
    "def solution(orders, course):\n",
    "    answer = []\n",
    "    \n",
    "    for num_c in course:\n",
    "        food_course = []\n",
    "        for order in orders:\n",
    "            for food in combinations(order, num_c):\n",
    "                food_course.append(''.join(sorted(food)))\n",
    "                \n",
    "        c_food_course = Counter(food_course)\n",
    "        if c_food_course and (max(c_food_course.values()) != 1):\n",
    "            for key in c_food_course:\n",
    "                if c_food_course[key] == max(c_food_course.values()):\n",
    "                    answer.append(key)       \n",
    "    return sorted(answer)"
   ]
  },
  {
   "cell_type": "code",
   "execution_count": 2,
   "id": "ab9e927b",
   "metadata": {},
   "outputs": [
    {
     "name": "stdout",
     "output_type": "stream",
     "text": [
      "['AC', 'ACDE', 'BCFG', 'CDE'] ['ACD', 'AD', 'ADE', 'CD', 'XYZ'] ['WX', 'XY'] "
     ]
    }
   ],
   "source": [
    "for orders, course in [[[\"ABCFG\", \"AC\", \"CDE\", \"ACDE\", \"BCFG\", \"ACDEH\"],[2,3,4]],\n",
    "                       [[\"ABCDE\", \"AB\", \"CD\", \"ADE\", \"XYZ\", \"XYZ\", \"ACD\"],[2,3,5]],\n",
    "                       [[\"XYZ\", \"XWY\", \"WXA\"],[2,3,4]]]:\n",
    "    print(solution(orders, course), end = ' ')"
   ]
  },
  {
   "cell_type": "markdown",
   "id": "55f1bb43",
   "metadata": {},
   "source": [
    "\n",
    "# 풀이 과정 및 주의사항"
   ]
  },
  {
   "cell_type": "markdown",
   "id": "d8d686a4",
   "metadata": {},
   "source": [
    "* orders 안에 존재하는 모든 음식의 조합을 course안의 갯수만큼 만들어 준다. ex) 'AB', 'AC' ... 'ABC', 'ABF'..... 'ABCF', 'ABCG'\n",
    "* AC와 CA는 동일한 코스이므로 combinations함수를 이용해 만든 조합을 정렬 후 food_course 리스트에 추가 해 준다.\n",
    "* Counters 함수를 이용하면 {요소 : 개수}의 횟수를 구할 수 있으므로 이를 이용하면 가장 많이 나타난 코스를 구할 수 있다. ex) {'AB' : 1 ...}* * 조합식이 0인 경우(요소는 3갠데 4개짜리 조합을 원하는 경우)와(최대값을 구할 수 없다) 가장 많이 나타난 조합의 최대 횟수가 0인 경우를 제외하고 가장 많이 나타난 조합식을 반환하면 정답"
   ]
  },
  {
   "cell_type": "markdown",
   "id": "a93a96e8",
   "metadata": {},
   "source": [
    "https://school.programmers.co.kr/learn/courses/30/lessons/72411"
   ]
  }
 ],
 "metadata": {
  "celltoolbar": "Raw Cell Format",
  "kernelspec": {
   "display_name": "Python 3 (ipykernel)",
   "language": "python",
   "name": "python3"
  },
  "language_info": {
   "codemirror_mode": {
    "name": "ipython",
    "version": 3
   },
   "file_extension": ".py",
   "mimetype": "text/x-python",
   "name": "python",
   "nbconvert_exporter": "python",
   "pygments_lexer": "ipython3",
   "version": "3.9.7"
  }
 },
 "nbformat": 4,
 "nbformat_minor": 5
}
