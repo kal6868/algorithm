{
 "cells": [
  {
   "cell_type": "markdown",
   "id": "fbd6d190",
   "metadata": {},
   "source": [
    "# 문제 설명"
   ]
  },
  {
   "cell_type": "markdown",
   "id": "295ec3a5",
   "metadata": {},
   "source": [
    "* 튜브가 활동하는 코딩 동아리에서는 전통적으로 해오는 게임이 있다. 이 게임은 여러 사람이 둥글게 앉아서 숫자를 하나씩 차례대로 말하는 게임인데, 규칙은 다음과 같다.\n",
    "    * 숫자를 0부터 시작해서 차례대로 말한다. 첫 번째 사람은 0, 두 번째 사람은 1, … 열 번째 사람은 9를 말한다.\n",
    "    * 10 이상의 숫자부터는 한 자리씩 끊어서 말한다. 즉 열한 번째 사람은 10의 첫 자리인 1, 열두 번째 사람은 둘째 자리인 0을 말한다."
   ]
  },
  {
   "cell_type": "markdown",
   "id": "e975cfc8",
   "metadata": {},
   "source": [
    "* 이렇게 게임을 진행할 경우,\n",
    "    * 0, 1, 2, 3, 4, 5, 6, 7, 8, 9, 1, 0, 1, 1, 1, 2, 1, 3, 1, 4, …\n",
    "    * 0, 1, 1, 0, 1, 1, 1, 0, 0, 1, 0, 1, 1, 1, 0, 1, 1, 1, …\n",
    "* 순으로 숫자를 말하면 된다."
   ]
  },
  {
   "cell_type": "markdown",
   "id": "821b9480",
   "metadata": {},
   "source": [
    " * 이진수로 진행하는 게임에 익숙해져 질려가던 사람들은 좀 더 난이도를 높이기 위해 이진법에서 십육진법까지 모든 진법으로 게임을 진행해보기로 했다. 숫자 게임이 익숙하지 않은 튜브는 게임에 져서 벌칙을 받는 굴욕을 피하기 위해, 자신이 말해야 하는 숫자를 스마트폰에 미리 출력해주는 프로그램을 만들려고 한다. 튜브의 프로그램을 구현하라."
   ]
  },
  {
   "cell_type": "markdown",
   "id": "ace8205e",
   "metadata": {},
   "source": [
    "# 입력 형식"
   ]
  },
  {
   "cell_type": "markdown",
   "id": "a21dd125",
   "metadata": {},
   "source": [
    "* 진법 n, 미리 구할 숫자의 갯수 t, 게임에 참가하는 인원 m, 튜브의 순서 p 가 주어진다.\n",
    "    * 2 ≦ n ≦ 16\n",
    "    * 0 ＜ t ≦ 1000\n",
    "    * 2 ≦ m ≦ 100\n",
    "    * 1 ≦ p ≦ m"
   ]
  },
  {
   "cell_type": "markdown",
   "id": "60e1c3c2",
   "metadata": {},
   "source": [
    "# 출력 형식"
   ]
  },
  {
   "cell_type": "markdown",
   "id": "aca2474a",
   "metadata": {},
   "source": [
    " * 튜브가 말해야 하는 숫자 t개를 공백 없이 차례대로 나타낸 문자열. 단, 10\\~15는 각각 대문자 A~F로 출력한다."
   ]
  },
  {
   "cell_type": "markdown",
   "id": "16452081",
   "metadata": {},
   "source": [
    "# 입출력 예시"
   ]
  },
  {
   "cell_type": "markdown",
   "id": "9b026c31",
   "metadata": {},
   "source": [
    "|n|t|m|p|result|\n",
    "|---|---|---|---|---|\n",
    "|2|4|2|1|\"0111\"|\n",
    "|16|16|2|1|\"02468ACE11111111\"|\n",
    "|16|16|2|2|\"13579BDF01234567\"|"
   ]
  },
  {
   "cell_type": "code",
   "execution_count": 1,
   "id": "2cfeb700",
   "metadata": {},
   "outputs": [],
   "source": [
    "def convert(number, n):\n",
    "    if number == 0:\n",
    "        return '0'\n",
    "    NUMBERS = \"0123456789ABCDEF\"\n",
    "    res = \"\"\n",
    "    while number > 0:\n",
    "        number, mod = number//n, number%n\n",
    "        res = NUMBERS[mod] + res\n",
    "    return res\n",
    "        \n",
    "def solution(n, t, m, p):\n",
    "    answer = ''\n",
    "    num_range = ''\n",
    "    for i in range(t*m):\n",
    "        num_range += str(convert(i, n))      \n",
    "    num_range = num_range[:t*m]\n",
    "    \n",
    "    for j in range(p-1, len(num_range), m):\n",
    "        answer += num_range[j]\n",
    "    return answer"
   ]
  },
  {
   "cell_type": "code",
   "execution_count": 2,
   "id": "4411ccbc",
   "metadata": {},
   "outputs": [
    {
     "name": "stdout",
     "output_type": "stream",
     "text": [
      "0111\n",
      "02468ACE11111111\n",
      "13579BDF01234567\n"
     ]
    }
   ],
   "source": [
    "for n, t, m, p in [[2,4,2,1], [16,16,2,1], [16,16,2,2]]:\n",
    "    print(solution(n, t, m, p))"
   ]
  },
  {
   "cell_type": "markdown",
   "id": "a76a6800",
   "metadata": {},
   "source": [
    "# 풀이 과정 및 주의사항"
   ]
  },
  {
   "cell_type": "markdown",
   "id": "641c1f09",
   "metadata": {},
   "source": [
    " * 숫자를 해당 진법으로 바꿔주는 covert 함수를 미리 만들어 놓는다. 숫자를 진법으로 나누고 나머지를 NUMBERS에서 해당되는 위치의 숫자 혹은 문자를 거꾸로 더해준다.(10진수가 넘어가면 ABC..가 사용되기 때문)\n",
    " * 게임에서 총 나타나는 수는 0부터 m * t까지의 숫자를 해당 진법으로 변환하여 이어붙힌 후, 자리수를 끊어서 읽으므로 m * t까지의 숫자를 slicing한다(num_range)\n",
    " * num_range에서 튜브의 순서부터 시작하여(index는 0번부터이므로 1을 빼준다) 참여 인원만큼의 수를 건너뛰어서 숫자를 선택 후 이어붙이면 된다."
   ]
  },
  {
   "cell_type": "markdown",
   "id": "0d7970bb",
   "metadata": {},
   "source": [
    "https://school.programmers.co.kr/learn/courses/30/lessons/17687"
   ]
  }
 ],
 "metadata": {
  "celltoolbar": "Raw Cell Format",
  "kernelspec": {
   "display_name": "Python 3 (ipykernel)",
   "language": "python",
   "name": "python3"
  },
  "language_info": {
   "codemirror_mode": {
    "name": "ipython",
    "version": 3
   },
   "file_extension": ".py",
   "mimetype": "text/x-python",
   "name": "python",
   "nbconvert_exporter": "python",
   "pygments_lexer": "ipython3",
   "version": "3.9.7"
  }
 },
 "nbformat": 4,
 "nbformat_minor": 5
}
