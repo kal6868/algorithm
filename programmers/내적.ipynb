{
 "cells": [
  {
   "cell_type": "markdown",
   "id": "fbd6d190",
   "metadata": {},
   "source": [
    "# 문제 설명"
   ]
  },
  {
   "cell_type": "markdown",
   "id": "295ec3a5",
   "metadata": {},
   "source": [
    "* 길이가 같은 두 1차원 정수 배열 a, b가 매개변수로 주어집니다. a와 b의 내적을 return 하도록 solution 함수를 완성해주세요.\n",
    "* 이때, a와 b의 내적은 a[0]*b[0] + a[1]*b[1] + ... + a[n-1]*b[n-1] 입니다. (n은 a, b의 길이)"
   ]
  },
  {
   "cell_type": "markdown",
   "id": "b56a4179",
   "metadata": {},
   "source": [
    "# 제한사항"
   ]
  },
  {
   "cell_type": "markdown",
   "id": "229fc3aa",
   "metadata": {},
   "source": [
    "* a, b의 길이는 1 이상 1,000 이하입니다.\n",
    "* a, b의 모든 수는 -1,000 이상 1,000 이하입니다."
   ]
  },
  {
   "cell_type": "markdown",
   "id": "16452081",
   "metadata": {},
   "source": [
    "# 입출력 예시"
   ]
  },
  {
   "cell_type": "markdown",
   "id": "9b026c31",
   "metadata": {},
   "source": [
    "|a|b|result|\n",
    "|---|---|---|\n",
    "|[1,2,3,4]|[-3,-1,0,2]|3|\n",
    "|[-1,0,1]|[1,0,-1]|-2|"
   ]
  },
  {
   "cell_type": "code",
   "execution_count": 1,
   "id": "2cfeb700",
   "metadata": {},
   "outputs": [],
   "source": [
    "def solution(a, b):\n",
    "    answer = 0\n",
    "    for i, j in zip(a, b):\n",
    "        answer += i*j\n",
    "    return answer"
   ]
  },
  {
   "cell_type": "code",
   "execution_count": 2,
   "id": "4411ccbc",
   "metadata": {},
   "outputs": [
    {
     "name": "stdout",
     "output_type": "stream",
     "text": [
      "3\n",
      "-2\n"
     ]
    }
   ],
   "source": [
    "for a, b in [[[1,2,3,4],[-3,-1,0,2]], [[-1,0,1],[1,0,-1]]]:\n",
    "    print(solution(a, b))"
   ]
  },
  {
   "cell_type": "markdown",
   "id": "a76a6800",
   "metadata": {},
   "source": [
    "# 풀이 과정 및 주의사항"
   ]
  },
  {
   "cell_type": "markdown",
   "id": "641c1f09",
   "metadata": {},
   "source": [
    " * zip을 이용해서 for문을 사용한 뒤 서로 곱해준 갑을 answer에 더해준다."
   ]
  },
  {
   "cell_type": "markdown",
   "id": "0d7970bb",
   "metadata": {},
   "source": [
    "https://school.programmers.co.kr/learn/courses/30/lessons/70128"
   ]
  }
 ],
 "metadata": {
  "celltoolbar": "Raw Cell Format",
  "kernelspec": {
   "display_name": "Python 3 (ipykernel)",
   "language": "python",
   "name": "python3"
  },
  "language_info": {
   "codemirror_mode": {
    "name": "ipython",
    "version": 3
   },
   "file_extension": ".py",
   "mimetype": "text/x-python",
   "name": "python",
   "nbconvert_exporter": "python",
   "pygments_lexer": "ipython3",
   "version": "3.9.7"
  }
 },
 "nbformat": 4,
 "nbformat_minor": 5
}
