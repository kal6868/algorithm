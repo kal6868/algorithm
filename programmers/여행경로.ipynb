{
 "cells": [
  {
   "cell_type": "markdown",
   "id": "fbd6d190",
   "metadata": {},
   "source": [
    "# 문제 설명"
   ]
  },
  {
   "cell_type": "markdown",
   "id": "295ec3a5",
   "metadata": {},
   "source": [
    "* 주어진 항공권을 모두 이용하여 여행경로를 짜려고 합니다. 항상 \"ICN\" 공항에서 출발합니다.\n",
    "* 항공권 정보가 담긴 2차원 배열 tickets가 매개변수로 주어질 때, 방문하는 공항 경로를 배열에 담아 return 하도록 solution 함수를 작성해주세요.\n",
    "* 삼각형의 정보가 담긴 배열 triangle이 매개변수로 주어질 때, 거쳐간 숫자의 최댓값을 return 하도록 solution 함수를 완성하세요."
   ]
  },
  {
   "cell_type": "markdown",
   "id": "b56a4179",
   "metadata": {},
   "source": [
    "# 제한사항"
   ]
  },
  {
   "cell_type": "markdown",
   "id": "229fc3aa",
   "metadata": {},
   "source": [
    "* 모든 공항은 알파벳 대문자 3글자로 이루어집니다.\n",
    "* 주어진 공항 수는 3개 이상 10,000개 이하입니다.\n",
    "* tickets의 각 행 [a, b]는 a 공항에서 b 공항으로 가는 항공권이 있다는 의미입니다.\n",
    "* 주어진 항공권은 모두 사용해야 합니다.\n",
    "* 만일 가능한 경로가 2개 이상일 경우 알파벳 순서가 앞서는 경로를 return 합니다.\n",
    "* 모든 도시를 방문할 수 없는 경우는 주어지지 않습니다."
   ]
  },
  {
   "cell_type": "markdown",
   "id": "16452081",
   "metadata": {},
   "source": [
    "# 입출력 예시"
   ]
  },
  {
   "cell_type": "markdown",
   "id": "9b026c31",
   "metadata": {},
   "source": [
    "|tickets|return|\n",
    "|---|---|\n",
    "|[[\"ICN\", \"JFK\"], [\"HND\", \"IAD\"], [\"JFK\", \"HND\"]]|[\"ICN\", \"JFK\", \"HND\", \"IAD\"]|\n",
    "|[[\"ICN\", \"SFO\"], [\"ICN\", \"ATL\"], [\"SFO\", \"ATL\"], [\"ATL\", \"ICN\"], [\"ATL\",\"SFO\"]]|[\"ICN\", \"ATL\", \"ICN\", \"SFO\", \"ATL\", \"SFO\"]|"
   ]
  },
  {
   "cell_type": "code",
   "execution_count": 1,
   "id": "d3f7e869",
   "metadata": {},
   "outputs": [],
   "source": [
    "from collections import deque\n",
    "def solution(tickets):\n",
    "    \n",
    "    ap2ap = {}\n",
    "    for start, end in tickets:\n",
    "        if start not in ap2ap:\n",
    "            ap2ap[start] = deque([end])\n",
    "        else:\n",
    "            ap2ap[start].append(end)\n",
    "    \n",
    "    for end_list in ap2ap:\n",
    "        ap2ap[end_list] = sorted(ap2ap[end_list], reverse=True)\n",
    "        \n",
    "    path = deque()\n",
    "    stack = deque([\"ICN\"])\n",
    "    while stack:\n",
    "        st = stack.pop()\n",
    "        if (st not in ap2ap) or (not ap2ap[st]):\n",
    "            path.append(st)\n",
    "        else:\n",
    "            stack.append(st)\n",
    "            stack.append(ap2ap[st].pop())\n",
    "    path.reverse()        \n",
    "    answer = list(path)\n",
    "    return answer"
   ]
  },
  {
   "cell_type": "code",
   "execution_count": 2,
   "id": "d3982ae6",
   "metadata": {},
   "outputs": [
    {
     "name": "stdout",
     "output_type": "stream",
     "text": [
      "['ICN', 'JFK', 'HND', 'IAD'] ['ICN', 'ATL', 'ICN', 'SFO', 'ATL', 'SFO'] "
     ]
    }
   ],
   "source": [
    "for tickets in [[[\"ICN\", \"JFK\"], [\"HND\", \"IAD\"], [\"JFK\", \"HND\"]], \n",
    "               [[\"ICN\", \"SFO\"], [\"ICN\", \"ATL\"], [\"SFO\", \"ATL\"], [\"ATL\", \"ICN\"], [\"ATL\",\"SFO\"]]]:\n",
    "    print(solution(tickets), end = ' ')"
   ]
  },
  {
   "cell_type": "markdown",
   "id": "a76a6800",
   "metadata": {},
   "source": [
    "# 풀이 과정 및 주의사항"
   ]
  },
  {
   "cell_type": "markdown",
   "id": "fcef3252",
   "metadata": {},
   "source": [
    "* {출발지 : [목적지1, 목적지2...]}의 형태의 Dictionary를 형태로 저장 후 목적지 List를 알파벳 역순으로 정렬한다.\n",
    "* stack에 출발지인 ICN을 넣어두고 Key:Value 성질을 이용하여 stack에 목적지를 하나 하나씩 쌓는다.\n",
    "* 더 이상 연결된 공항이 없거나, 목적지 List에 요소가 없는 경우 stack에 쌓은 요소들을 거꾸로(pop) 하나씩 빼서 path에 저장하고, stack이 빈 List가 되면 while문을 중단한다.\n",
    "* deque의 reverse를 이용해서 deque를 거꾸로 뒤집고 결과물을 List로 반환한다."
   ]
  },
  {
   "cell_type": "markdown",
   "id": "0d7970bb",
   "metadata": {},
   "source": [
    "https://school.programmers.co.kr/learn/courses/30/lessons/43164"
   ]
  }
 ],
 "metadata": {
  "celltoolbar": "Raw Cell Format",
  "kernelspec": {
   "display_name": "Python 3 (ipykernel)",
   "language": "python",
   "name": "python3"
  },
  "language_info": {
   "codemirror_mode": {
    "name": "ipython",
    "version": 3
   },
   "file_extension": ".py",
   "mimetype": "text/x-python",
   "name": "python",
   "nbconvert_exporter": "python",
   "pygments_lexer": "ipython3",
   "version": "3.9.7"
  }
 },
 "nbformat": 4,
 "nbformat_minor": 5
}
