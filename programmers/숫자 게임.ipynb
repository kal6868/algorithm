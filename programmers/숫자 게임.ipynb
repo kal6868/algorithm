{
 "cells": [
  {
   "cell_type": "markdown",
   "id": "fbd6d190",
   "metadata": {},
   "source": [
    "# 문제 설명"
   ]
  },
  {
   "cell_type": "markdown",
   "id": "295ec3a5",
   "metadata": {},
   "source": [
    "* xx 회사의 2xN명의 사원들은 N명씩 두 팀으로 나눠 숫자 게임을 하려고 합니다. 두 개의 팀을 각각 A팀과 B팀이라고 하겠습니다. 숫자 게임의 규칙은 다음과 같습니다."
   ]
  },
  {
   "cell_type": "markdown",
   "id": "41d65362",
   "metadata": {},
   "source": [
    "* 먼저 모든 사원이 무작위로 자연수를 하나씩 부여받습니다.\n",
    "* 각 사원은 딱 한 번씩 경기를 합니다.\n",
    "* 각 경기당 A팀에서 한 사원이, B팀에서 한 사원이 나와 서로의 수를 공개합니다. 그때 숫자가 큰 쪽이 승리하게 되고, 승리한 사원이 속한 팀은 * 승점을 1점 얻게 됩니다.\n",
    "* 만약 숫자가 같다면 누구도 승점을 얻지 않습니다."
   ]
  },
  {
   "cell_type": "markdown",
   "id": "720cf813",
   "metadata": {},
   "source": [
    "* 전체 사원들은 우선 무작위로 자연수를 하나씩 부여받았습니다. 그다음 A팀은 빠르게 출전순서를 정했고 자신들의 출전 순서를 B팀에게 공개해버렸습니다. B팀은 그것을 보고 자신들의 최종 승점을 가장 높이는 방법으로 팀원들의 출전 순서를 정했습니다. 이때의 B팀이 얻는 승점을 구해주세요."
   ]
  },
  {
   "cell_type": "markdown",
   "id": "2899747e",
   "metadata": {},
   "source": [
    "* A 팀원들이 부여받은 수가 출전 순서대로 나열되어있는 배열 A와 i번째 원소가 B팀의 i번 팀원이 부여받은 수를 의미하는 배열 B가 주어질 때, B 팀원들이 얻을 수 있는 최대 승점을 return 하도록 solution 함수를 완성해주세요."
   ]
  },
  {
   "cell_type": "markdown",
   "id": "ace8205e",
   "metadata": {},
   "source": [
    "# 제한 조건"
   ]
  },
  {
   "cell_type": "markdown",
   "id": "a21dd125",
   "metadata": {},
   "source": [
    "* A와 B의 길이는 같습니다.\n",
    "* A와 B의 길이는 1 이상 100,000 이하입니다.\n",
    "* A와 B의 각 원소는 1 이상 1,000,000,000 이하의 자연수입니다."
   ]
  },
  {
   "cell_type": "markdown",
   "id": "16452081",
   "metadata": {},
   "source": [
    "# 입출력 예시"
   ]
  },
  {
   "cell_type": "markdown",
   "id": "9b026c31",
   "metadata": {},
   "source": [
    "|A|B|result|\n",
    "|---|---|---|\n",
    "|[5,1,3,7]|[2,2,6,8]|3|\n",
    "|[2,2,2,2]|[1,1,1,1]|0|"
   ]
  },
  {
   "cell_type": "code",
   "execution_count": 1,
   "id": "2cfeb700",
   "metadata": {},
   "outputs": [],
   "source": [
    "def solution(A, B):\n",
    "    answer = 0\n",
    "    \n",
    "    A = sorted(A, reverse=True) \n",
    "    B = sorted(B, reverse=True)\n",
    "    \n",
    "    a_index, b_index = 0, 0     \n",
    "    while a_index != len(A) and b_index != len(B):\n",
    "        if B[a_index] > A[b_index]:\n",
    "            answer += 1\n",
    "            a_index += 1\n",
    "            b_index += 1\n",
    "        else:\n",
    "            b_index += 1\n",
    "    return answer"
   ]
  },
  {
   "cell_type": "code",
   "execution_count": 2,
   "id": "4411ccbc",
   "metadata": {},
   "outputs": [
    {
     "name": "stdout",
     "output_type": "stream",
     "text": [
      "3\n",
      "0\n"
     ]
    }
   ],
   "source": [
    "for A, B in [[[5,1,3,7], [2,2,6,8]], [[2,2,2,2], [1,1,1,1]]]:\n",
    "    print(solution(A, B))"
   ]
  },
  {
   "cell_type": "markdown",
   "id": "a76a6800",
   "metadata": {},
   "source": [
    "# 풀이 과정 및 주의사항"
   ]
  },
  {
   "cell_type": "markdown",
   "id": "641c1f09",
   "metadata": {},
   "source": [
    " * A와 B를 내림차순으로 정렬 후 각 원소를 비교하면 된다. B가 이기면 A, B index에 1을 더해주고 A가 이기면 B에만 인덱스를 더해준다.\n",
    " * 순서를 정하는 것이기 때문에 승리 할 수 있는 큰 수만큼을 이기는 것이 최대 승점이기 때문이다."
   ]
  },
  {
   "cell_type": "markdown",
   "id": "0d7970bb",
   "metadata": {},
   "source": [
    "https://school.programmers.co.kr/learn/courses/30/lessons/12987"
   ]
  }
 ],
 "metadata": {
  "celltoolbar": "Raw Cell Format",
  "kernelspec": {
   "display_name": "Python 3 (ipykernel)",
   "language": "python",
   "name": "python3"
  },
  "language_info": {
   "codemirror_mode": {
    "name": "ipython",
    "version": 3
   },
   "file_extension": ".py",
   "mimetype": "text/x-python",
   "name": "python",
   "nbconvert_exporter": "python",
   "pygments_lexer": "ipython3",
   "version": "3.9.7"
  }
 },
 "nbformat": 4,
 "nbformat_minor": 5
}
