{
 "cells": [
  {
   "cell_type": "markdown",
   "id": "fbd6d190",
   "metadata": {},
   "source": [
    "# 문제 설명"
   ]
  },
  {
   "cell_type": "markdown",
   "id": "295ec3a5",
   "metadata": {},
   "source": [
    "* 한국중학교에 다니는 학생들은 각자 정수 번호를 갖고 있습니다. 이 학교 학생 3명의 정수 번호를 더했을 때 0이 되면 3명의 학생은 삼총사라고 합니다. 예를 들어, 5명의 학생이 있고, 각각의 정수 번호가 순서대로 -2, 3, 0, 2, -5일 때, 첫 번째, 세 번째, 네 번째 학생의 정수 번호를 더하면 0이므로 세 학생은 삼총사입니다. 또한, 두 번째, 네 번째, 다섯 번째 학생의 정수 번호를 더해도 0이므로 세 학생도 삼총사입니다. 따라서 이 경우 한국중학교에서는 두 가지 방법으로 삼총사를 만들 수 있습니다."
   ]
  },
  {
   "cell_type": "markdown",
   "id": "67c9f9ca",
   "metadata": {},
   "source": [
    " * 한국중학교 학생들의 번호를 나타내는 정수 배열 number가 매개변수로 주어질 때, 학생들 중 삼총사를 만들 수 있는 방법의 수를 return 하도록 solution 함수를 완성하세요."
   ]
  },
  {
   "cell_type": "markdown",
   "id": "b56a4179",
   "metadata": {},
   "source": [
    "# 제한사항"
   ]
  },
  {
   "cell_type": "markdown",
   "id": "229fc3aa",
   "metadata": {},
   "source": [
    "* 3 ≤ number의 길이 ≤ 13\n",
    "* -1,000 ≤ number의 각 원소 ≤ 1,000\n",
    "* 서로 다른 학생의 정수 번호가 같을 수 있습니다."
   ]
  },
  {
   "cell_type": "markdown",
   "id": "16452081",
   "metadata": {},
   "source": [
    "# 입출력 예시"
   ]
  },
  {
   "cell_type": "markdown",
   "id": "9b026c31",
   "metadata": {},
   "source": [
    "|number|result|\n",
    "|---|---|\n",
    "|[-2, 3, 0, 2, -5]|2|\n",
    "|[-3, -2, -1, 0, 1, 2, 3]|5|\n",
    "|[-1, 1, -1, 1]|0|"
   ]
  },
  {
   "cell_type": "code",
   "execution_count": 1,
   "id": "2cfeb700",
   "metadata": {},
   "outputs": [],
   "source": [
    "from itertools import combinations\n",
    "\n",
    "def solution(number):\n",
    "    answer = 0\n",
    "    three_ele = list(combinations(number, 3))\n",
    "\n",
    "    for friend in three_ele:\n",
    "        f_sum = 0\n",
    "        for num in friend:\n",
    "            f_sum += num\n",
    "        if f_sum == 0:\n",
    "            answer += 1\n",
    "    return answer"
   ]
  },
  {
   "cell_type": "code",
   "execution_count": 2,
   "id": "4411ccbc",
   "metadata": {},
   "outputs": [
    {
     "name": "stdout",
     "output_type": "stream",
     "text": [
      "2\n",
      "5\n",
      "0\n"
     ]
    }
   ],
   "source": [
    "for number in [[-2, 3, 0, 2, -5], [-3, -2, -1, 0, 1, 2, 3], [-1, 1, -1, 1]]:\n",
    "    print(solution(number))"
   ]
  },
  {
   "cell_type": "markdown",
   "id": "a76a6800",
   "metadata": {},
   "source": [
    "# 풀이 과정 및 주의사항"
   ]
  },
  {
   "cell_type": "markdown",
   "id": "641c1f09",
   "metadata": {},
   "source": [
    " * combinations 함수를 이용하여 number의 요소를 3개씩 뽑는 모든 경우의 수를 구한다. list 내의 Tuple 형태로 데이터가 출력되므로, 이중 포문을 사용한 뒤 해당 Tuple의 합이 0이 될 때, answer에 1씩 더해주는 과정을 거친다.\n",
    " "
   ]
  },
  {
   "cell_type": "markdown",
   "id": "0d7970bb",
   "metadata": {},
   "source": [
    "https://school.programmers.co.kr/learn/courses/30/lessons/131705"
   ]
  }
 ],
 "metadata": {
  "celltoolbar": "Raw Cell Format",
  "kernelspec": {
   "display_name": "Python 3 (ipykernel)",
   "language": "python",
   "name": "python3"
  },
  "language_info": {
   "codemirror_mode": {
    "name": "ipython",
    "version": 3
   },
   "file_extension": ".py",
   "mimetype": "text/x-python",
   "name": "python",
   "nbconvert_exporter": "python",
   "pygments_lexer": "ipython3",
   "version": "3.9.7"
  }
 },
 "nbformat": 4,
 "nbformat_minor": 5
}
