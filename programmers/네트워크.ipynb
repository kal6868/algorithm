{
 "cells": [
  {
   "cell_type": "markdown",
   "id": "fbd6d190",
   "metadata": {},
   "source": [
    "# 문제 설명"
   ]
  },
  {
   "cell_type": "markdown",
   "id": "aa665cb9",
   "metadata": {},
   "source": [
    "* 네트워크란 컴퓨터 상호 간에 정보를 교환할 수 있도록 연결된 형태를 의미합니다. 예를 들어, 컴퓨터 A와 컴퓨터 B가 직접적으로 연결되어있고, 컴퓨터 B와 컴퓨터 C가 직접적으로 연결되어 있을 때 컴퓨터 A와 컴퓨터 C도 간접적으로 연결되어 정보를 교환할 수 있습니다. 따라서 컴퓨터 A, B, C는 모두 같은 네트워크 상에 있다고 할 수 있습니다."
   ]
  },
  {
   "cell_type": "markdown",
   "id": "ddd95b30",
   "metadata": {},
   "source": [
    "* 컴퓨터의 개수 n, 연결에 대한 정보가 담긴 2차원 배열 computers가 매개변수로 주어질 때, 네트워크의 개수를 return 하도록 solution 함수를 작성하시오."
   ]
  },
  {
   "cell_type": "markdown",
   "id": "93c69f28",
   "metadata": {},
   "source": [
    "# 제한사항"
   ]
  },
  {
   "cell_type": "markdown",
   "id": "ebf4c872",
   "metadata": {},
   "source": [
    "* 컴퓨터의 개수 n은 1 이상 200 이하인 자연수입니다.\n",
    "* 각 컴퓨터는 0부터 n-1인 정수로 표현합니다.\n",
    "* i번 컴퓨터와 j번 컴퓨터가 연결되어 있으면 computers[i][j]를 1로 표현합니다.\n",
    "* computer[i][i]는 항상 1입니다."
   ]
  },
  {
   "cell_type": "markdown",
   "id": "5acd1a46",
   "metadata": {},
   "source": [
    "# 입출력 예"
   ]
  },
  {
   "cell_type": "markdown",
   "id": "940df058",
   "metadata": {},
   "source": [
    "|n|computers|return|\n",
    "|---|---|---|\n",
    "|3|[[1, 1, 0], [1, 1, 0], [0, 0, 1]]|2|\n",
    "|3|[[1, 1, 0], [1, 1, 1], [0, 1, 1]]|1|"
   ]
  },
  {
   "cell_type": "code",
   "execution_count": 1,
   "id": "b2918811",
   "metadata": {},
   "outputs": [],
   "source": [
    "def DFS(n, computers, com, visited):\n",
    "    visited[com] = True\n",
    "    for connect in range(n):\n",
    "        if (connect != com) and computers[com][connect] == 1:\n",
    "            if visited[connect] == False:\n",
    "                DFS(n, computers, connect, visited)\n",
    "\n",
    "def solution(n, computers):\n",
    "    answer = 0\n",
    "    visited = [False] * n\n",
    "    for com in range(n):\n",
    "        if visited[com] == False:\n",
    "            DFS(n, computers, com, visited)\n",
    "            answer += 1\n",
    "    return answer"
   ]
  },
  {
   "cell_type": "code",
   "execution_count": 2,
   "id": "9b07c977",
   "metadata": {},
   "outputs": [
    {
     "name": "stdout",
     "output_type": "stream",
     "text": [
      "2\n",
      "1\n"
     ]
    }
   ],
   "source": [
    "for n, computers in [[3, [[1, 1, 0], [1, 1, 0], [0, 0, 1]]], [3, [[1, 1, 0], [1, 1, 1], [0, 1, 1]]]]:\n",
    "    print(solution(n, computers))"
   ]
  },
  {
   "cell_type": "markdown",
   "id": "55f1bb43",
   "metadata": {},
   "source": [
    "# 풀이 과정 및 주의사항"
   ]
  },
  {
   "cell_type": "markdown",
   "id": "6efca741",
   "metadata": {},
   "source": [
    "* visitied(\\[False, False, False, ...\\])리스트를 만들어서 해당 네크워크를 방문했다면 해당 위치를 True로 바꿔준다.\n",
    "* DFS를 이용해서 이어진 모든 네크워크의 위치를 찾아 visited에서 True로 변경하는 과정을 0번 네트워크부터 n-1번 네트워크까지 반복한다. 이미 방문한 적이 없으면 연결된 모든 네트워크의 visited 위치가 True로 변경되고 네트워크 개수(answer)에 1이 더해지며, 만약 방문한 경우에는 DFS를 실행하지 않는다."
   ]
  },
  {
   "cell_type": "markdown",
   "id": "a93a96e8",
   "metadata": {},
   "source": [
    "https://school.programmers.co.kr/learn/courses/30/lessons/43162"
   ]
  }
 ],
 "metadata": {
  "kernelspec": {
   "display_name": "Python 3 (ipykernel)",
   "language": "python",
   "name": "python3"
  },
  "language_info": {
   "codemirror_mode": {
    "name": "ipython",
    "version": 3
   },
   "file_extension": ".py",
   "mimetype": "text/x-python",
   "name": "python",
   "nbconvert_exporter": "python",
   "pygments_lexer": "ipython3",
   "version": "3.9.7"
  }
 },
 "nbformat": 4,
 "nbformat_minor": 5
}
