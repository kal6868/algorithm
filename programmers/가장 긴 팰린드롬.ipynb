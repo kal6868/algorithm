{
 "cells": [
  {
   "cell_type": "markdown",
   "id": "fbd6d190",
   "metadata": {},
   "source": [
    "# 문제 설명"
   ]
  },
  {
   "cell_type": "markdown",
   "id": "295ec3a5",
   "metadata": {},
   "source": [
    "* 앞뒤를 뒤집어도 똑같은 문자열을 팰린드롬(palindrome)이라고 합니다.\n",
    "* 문자열 s가 주어질 때, s의 부분문자열(Substring)중 가장 긴 팰린드롬의 길이를 return 하는 solution 함수를 완성해 주세요.\n",
    "* 예를들면, 문자열 s가 \"abcdcba\"이면 7을 return하고 \"abacde\"이면 3을 return합니다."
   ]
  },
  {
   "cell_type": "markdown",
   "id": "ff6efbd2",
   "metadata": {},
   "source": [
    " # 제한 사항"
   ]
  },
  {
   "cell_type": "markdown",
   "id": "160863cb",
   "metadata": {},
   "source": [
    "* 문자열 s의 길이 : 2,500 이하의 자연수\n",
    "* 문자열 s는 알파벳 소문자로만 구성"
   ]
  },
  {
   "cell_type": "markdown",
   "id": "16452081",
   "metadata": {},
   "source": [
    "# 입출력 예"
   ]
  },
  {
   "cell_type": "markdown",
   "id": "9b026c31",
   "metadata": {},
   "source": [
    "|s|answer|\n",
    "|---|---|\n",
    "|\"abcdcba\"|7|\n",
    "|\"abacde\"|3|"
   ]
  },
  {
   "cell_type": "code",
   "execution_count": 1,
   "id": "9570e5c7",
   "metadata": {},
   "outputs": [],
   "source": [
    "def p_check_odd(s):\n",
    "    middle = (len(s)//2)\n",
    "    former, letter = s[:middle], s[middle+1:]\n",
    "    if len(former) != len(letter):\n",
    "        return False\n",
    "    else:\n",
    "        if former != letter[::-1]:\n",
    "                return False\n",
    "    return True\n",
    "\n",
    "def p_check_even(s):\n",
    "    middle = (len(s)//2) - 1\n",
    "    former, letter = s[:middle+1], s[middle+1:]\n",
    "    if former != letter[::-1]:\n",
    "        return False\n",
    "    return True\n",
    "\n",
    "    \n",
    "def solution(s):\n",
    "    answer_candidate = []\n",
    "    divid_list = [s for s in range(2, len(s)+1)]\n",
    "    for divid in divid_list:\n",
    "        if divid % 2 == 1:\n",
    "            for i in range(0, len(s)-divid+1, 1):\n",
    "                word = s[i:i+divid]\n",
    "                if p_check_odd(word):\n",
    "                    answer_candidate.append(len(word))\n",
    "        else:\n",
    "            for i in range(0, len(s)-divid+1, 1):\n",
    "                word = s[i:i+divid]\n",
    "                if p_check_even(word):\n",
    "                    answer_candidate.append(len(word))\n",
    "    if answer_candidate:\n",
    "        answer = answer_candidate[-1]\n",
    "        \n",
    "    else:\n",
    "        answer = 1\n",
    "    return answer"
   ]
  },
  {
   "cell_type": "code",
   "execution_count": 2,
   "id": "4411ccbc",
   "metadata": {},
   "outputs": [
    {
     "name": "stdout",
     "output_type": "stream",
     "text": [
      "7\n",
      "3\n"
     ]
    }
   ],
   "source": [
    "for s in [\"abcdcba\", \"abacde\"] :\n",
    "    print(solution(s))"
   ]
  },
  {
   "cell_type": "markdown",
   "id": "a76a6800",
   "metadata": {},
   "source": [
    "# 풀이 과정 및 주의사항"
   ]
  },
  {
   "cell_type": "markdown",
   "id": "641c1f09",
   "metadata": {},
   "source": [
    "* 문자열을 2부터 시작해서 문자열의 길이까지 숫자로 끊어서 가운데 부분을 기준으로 끊은 뒤 양쪽을 비교하면 된다.\n",
    "* 자른 문자열의 길이가 홀수일 경우 가운데 문자를 기준으로 자르고(ex. aba -> a, a), 짝수일 경우 앞뒤 길이가 동일하게 자른다.(abba -> ab, ba)\n",
    "* 뒤의 문자열을 거꾸로 뒤집은 뒤, 앞의 문자열과 일치하면 해당 잘린 문자열의 길이를 answer_candidate List에 추가하고, 가장 마지막에(가장 긴) 문자열의 길이를 반환한다.\n",
    "* s[::-1] : 문자열을 거꾸로 뒤집을 수 있는 slicing"
   ]
  },
  {
   "cell_type": "markdown",
   "id": "0d7970bb",
   "metadata": {},
   "source": [
    "https://school.programmers.co.kr/learn/courses/30/lessons/12904"
   ]
  }
 ],
 "metadata": {
  "celltoolbar": "Raw Cell Format",
  "kernelspec": {
   "display_name": "Python 3 (ipykernel)",
   "language": "python",
   "name": "python3"
  },
  "language_info": {
   "codemirror_mode": {
    "name": "ipython",
    "version": 3
   },
   "file_extension": ".py",
   "mimetype": "text/x-python",
   "name": "python",
   "nbconvert_exporter": "python",
   "pygments_lexer": "ipython3",
   "version": "3.9.7"
  }
 },
 "nbformat": 4,
 "nbformat_minor": 5
}
