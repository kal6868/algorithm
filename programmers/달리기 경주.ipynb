{
 "cells": [
  {
   "attachments": {},
   "cell_type": "markdown",
   "metadata": {},
   "source": [
    "# 달리기 경주"
   ]
  },
  {
   "attachments": {},
   "cell_type": "markdown",
   "metadata": {},
   "source": [
    "## 문제 설명"
   ]
  },
  {
   "attachments": {},
   "cell_type": "markdown",
   "metadata": {},
   "source": [
    "* 얀에서는 매년 달리기 경주가 열립니다. 해설진들은 선수들이 자기 바로 앞의 선수를 추월할 때 추월한 선수의 이름을 부릅니다. 예를 들어 1등부터 3등까지 \"mumu\", \"soe\", \"poe\" 선수들이 순서대로 달리고 있을 때, 해설진이 \"soe\"선수를 불렀다면 2등인 \"soe\" 선수가 1등인 \"mumu\" 선수를 추월했다는 것입니다. 즉 \"soe\" 선수가 1등, \"mumu\" 선수가 2등으로 바뀝니다."
   ]
  },
  {
   "attachments": {},
   "cell_type": "markdown",
   "metadata": {},
   "source": [
    "* 선수들의 이름이 1등부터 현재 등수 순서대로 담긴 문자열 배열 players와 해설진이 부른 이름을 담은 문자열 배열 callings가 매개변수로 주어질 때, 경주가 끝났을 때 선수들의 이름을 1등부터 등수 순서대로 배열에 담아 return 하는 solution 함수를 완성해주세요."
   ]
  },
  {
   "attachments": {},
   "cell_type": "markdown",
   "metadata": {},
   "source": [
    "## 제한사항"
   ]
  },
  {
   "attachments": {},
   "cell_type": "markdown",
   "metadata": {},
   "source": [
    "* 5 ≤ players의 길이 ≤ 50,000\n",
    "    * players[i]는 i번째 선수의 이름을 의미합니다.\n",
    "    * players의 원소들은 알파벳 소문자로만 이루어져 있습니다.\n",
    "    * players에는 중복된 값이 들어가 있지 않습니다.\n",
    "    * 3 ≤ players[i]의 길이 ≤ 10\n",
    "* 2 ≤ callings의 길이 ≤ 1,000,000\n",
    "    * callings는 players의 원소들로만 이루어져 있습니다.\n",
    "    * 경주 진행중 1등인 선수의 이름은 불리지 않습니다."
   ]
  },
  {
   "attachments": {},
   "cell_type": "markdown",
   "metadata": {},
   "source": [
    "## 입출력 예\n",
    "\n",
    "|players|callings|result|\n",
    "|---|---|---|\n",
    "|[\"mumu\", \"soe\", \"poe\", \"kai\", \"mine\"]|[\"kai\", \"kai\", \"mine\", \"mine\"]|[\"mumu\", \"kai\", \"mine\", \"soe\", \"poe\"]|"
   ]
  },
  {
   "attachments": {},
   "cell_type": "markdown",
   "metadata": {},
   "source": [
    "## Code"
   ]
  },
  {
   "cell_type": "code",
   "execution_count": 1,
   "metadata": {},
   "outputs": [],
   "source": [
    "# 프로그래머스 달리기 경주\n",
    "def solution(players, callings):\n",
    "    dict_rank_player = {}\n",
    "    dict_player_rank = {}\n",
    "\n",
    "    for i, p in enumerate(players):\n",
    "        dict_rank_player[i] = p\n",
    "        dict_player_rank[p] = i\n",
    "    \n",
    "    for call in callings:\n",
    "        past_rank = dict_player_rank[call]\n",
    "        player_behind = dict_rank_player[past_rank-1]\n",
    "        \n",
    "        dict_rank_player[past_rank-1] = call\n",
    "        dict_rank_player[past_rank] = player_behind\n",
    "        dict_player_rank[call] = past_rank-1\n",
    "        dict_player_rank[player_behind] = past_rank\n",
    "    player_rank = list(dict_player_rank.items())\n",
    "    player_rank = sorted(player_rank, key=lambda x:x[1])\n",
    "        \n",
    "    answer = [i[0] for i in player_rank]\n",
    "    return answer"
   ]
  },
  {
   "attachments": {},
   "cell_type": "markdown",
   "metadata": {},
   "source": [
    "## 예제입력 - 출력"
   ]
  },
  {
   "cell_type": "code",
   "execution_count": 2,
   "metadata": {},
   "outputs": [
    {
     "data": {
      "text/plain": [
       "['mumu', 'kai', 'mine', 'soe', 'poe']"
      ]
     },
     "execution_count": 2,
     "metadata": {},
     "output_type": "execute_result"
    }
   ],
   "source": [
    "solution([\"mumu\", \"soe\", \"poe\", \"kai\", \"mine\"], [\"kai\", \"kai\", \"mine\", \"mine\"])"
   ]
  },
  {
   "attachments": {},
   "cell_type": "markdown",
   "metadata": {},
   "source": [
    "## Note"
   ]
  },
  {
   "attachments": {},
   "cell_type": "markdown",
   "metadata": {},
   "source": [
    "* {선수:등수} -> (dict_player_rank), {등수:선수} -> (dict_rank_player) 형태의 Dictionary를 2개 선언한다.\n",
    "* 아래 과정을 반복한다.\n",
    "* 1. 이름이 불린 선수의 등수를 dictionary를 통해서 구하고 해당 등수에서 1을 빼서 해당 선수 앞에 있던 선수의 이름을 구한다.\n",
    "* 2. {등수:선수} Dictionary에서 이름의 불린 선수의 등수에서 1을 뺴주고, 원래 1을 빼기 전 선수의 등수에 해당 선수보다 앞에 있던 선수를 넣는다.\n",
    "* 3. 동일하게 {선수:등수} Dictionary에도 이름의 불린 선수의 등수에서 1을 빼주고, 그 선수의 등수를 그 앞에 있던 선수에게 부여한다.\n",
    "* 반복이 완료되면 등수를 기준으로 정렬하여, 선수의 이름만 List에 넣고 정답으로 반환한다."
   ]
  },
  {
   "attachments": {},
   "cell_type": "markdown",
   "metadata": {},
   "source": [
    "https://school.programmers.co.kr/learn/courses/30/lessons/178871"
   ]
  }
 ],
 "metadata": {
  "kernelspec": {
   "display_name": "ws1",
   "language": "python",
   "name": "python3"
  },
  "language_info": {
   "codemirror_mode": {
    "name": "ipython",
    "version": 3
   },
   "file_extension": ".py",
   "mimetype": "text/x-python",
   "name": "python",
   "nbconvert_exporter": "python",
   "pygments_lexer": "ipython3",
   "version": "3.9.13"
  },
  "orig_nbformat": 4,
  "vscode": {
   "interpreter": {
    "hash": "2856db72fb1e77597a3b14e9c1bb4d2315d342edc16fc9e25c6c6e499688b933"
   }
  }
 },
 "nbformat": 4,
 "nbformat_minor": 2
}
