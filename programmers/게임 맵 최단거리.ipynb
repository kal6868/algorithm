{
 "cells": [
  {
   "cell_type": "code",
   "execution_count": 1,
   "id": "1c46ce51",
   "metadata": {},
   "outputs": [],
   "source": [
    "from IPython.display import Image"
   ]
  },
  {
   "cell_type": "markdown",
   "id": "fbd6d190",
   "metadata": {},
   "source": [
    "# 문제 설명"
   ]
  },
  {
   "cell_type": "markdown",
   "id": "295ec3a5",
   "metadata": {},
   "source": [
    "* ROR 게임은 두 팀으로 나누어서 진행하며, 상대 팀 진영을 먼저 파괴하면 이기는 게임입니다. 따라서, 각 팀은 상대 팀 진영에 최대한 빨리 도착하는 것이 유리합니다."
   ]
  },
  {
   "cell_type": "markdown",
   "id": "41d65362",
   "metadata": {},
   "source": [
    "* 지금부터 당신은 한 팀의 팀원이 되어 게임을 진행하려고 합니다. 다음은 5 x 5 크기의 맵에, 당신의 캐릭터가 (행: 1, 열: 1) 위치에 있고, 상대 팀 진영은 (행: 5, 열: 5) 위치에 있는 경우의 예시입니다."
   ]
  },
  {
   "cell_type": "code",
   "execution_count": 5,
   "id": "046b6ff2",
   "metadata": {},
   "outputs": [
    {
     "data": {
      "image/png": "[encoded data removed]",
      "text/plain": [
       "<IPython.core.display.Image object>"
      ]
     },
     "execution_count": 5,
     "metadata": {},
     "output_type": "execute_result"
    }
   ],
   "source": [
    "Image('../../../../image/최단거리1.png')"
   ]
  },
  {
   "cell_type": "markdown",
   "id": "720cf813",
   "metadata": {},
   "source": [
    "* 위 그림에서 검은색 부분은 벽으로 막혀있어 갈 수 없는 길이며, 흰색 부분은 갈 수 있는 길입니다. 캐릭터가 움직일 때는 동, 서, 남, 북 방향으로 한 칸씩 이동하며, 게임 맵을 벗어난 길은 갈 수 없습니다. 아래 예시는 캐릭터가 상대 팀 진영으로 가는 두 가지 방법을 나타내고 있습니다."
   ]
  },
  {
   "cell_type": "markdown",
   "id": "2899747e",
   "metadata": {},
   "source": [
    "* 첫 번째 방법은 11개의 칸을 지나서 상대 팀 진영에 도착했습니다."
   ]
  },
  {
   "cell_type": "code",
   "execution_count": 6,
   "id": "de35a5a1",
   "metadata": {},
   "outputs": [
    {
     "data": {
      "image/png": "[encoded data removed]",
      "text/plain": [
       "<IPython.core.display.Image object>"
      ]
     },
     "execution_count": 6,
     "metadata": {},
     "output_type": "execute_result"
    }
   ],
   "source": [
    "Image('../../../../image/최단거리2.png')"
   ]
  },
  {
   "cell_type": "markdown",
   "id": "b65915e1",
   "metadata": {},
   "source": [
    "* 두 번째 방법은 15개의 칸을 지나서 상대팀 진영에 도착했습니다."
   ]
  },
  {
   "cell_type": "code",
   "execution_count": 4,
   "id": "bce1f92f",
   "metadata": {},
   "outputs": [
    {
     "data": {
      "image/png": "[encoded data removed]",
      "text/plain": [
       "<IPython.core.display.Image object>"
      ]
     },
     "execution_count": 4,
     "metadata": {},
     "output_type": "execute_result"
    }
   ],
   "source": [
    "Image('../../../../image/최단거리3.png')"
   ]
  },
  {
   "cell_type": "markdown",
   "id": "cf3766da",
   "metadata": {},
   "source": [
    "* 위 예시에서는 첫 번째 방법보다 더 빠르게 상대팀 진영에 도착하는 방법은 없으므로, 이 방법이 상대 팀 진영으로 가는 가장 빠른 방법입니다."
   ]
  },
  {
   "cell_type": "markdown",
   "id": "b3db2504",
   "metadata": {},
   "source": [
    "* 만약, 상대 팀이 자신의 팀 진영 주위에 벽을 세워두었다면 상대 팀 진영에 도착하지 못할 수도 있습니다. 예를 들어, 다음과 같은 경우에 당신의 캐릭터는 상대 팀 진영에 도착할 수 없습니다."
   ]
  },
  {
   "cell_type": "code",
   "execution_count": 7,
   "id": "0286d8ae",
   "metadata": {},
   "outputs": [
    {
     "data": {
      "image/png": "[encoded data removed]",
      "text/plain": [
       "<IPython.core.display.Image object>"
      ]
     },
     "execution_count": 7,
     "metadata": {},
     "output_type": "execute_result"
    }
   ],
   "source": [
    "Image('../../../../image/최단거리4.png')"
   ]
  },
  {
   "cell_type": "markdown",
   "id": "5c5a6bbc",
   "metadata": {},
   "source": [
    "* 게임 맵의 상태 maps가 매개변수로 주어질 때, 캐릭터가 상대 팀 진영에 도착하기 위해서 지나가야 하는 칸의 개수의 최솟값을 return 하도록 solution 함수를 완성해주세요. 단, 상대 팀 진영에 도착할 수 없을 때는 -1을 return 해주세요."
   ]
  },
  {
   "cell_type": "markdown",
   "id": "ace8205e",
   "metadata": {},
   "source": [
    "# 제한사항"
   ]
  },
  {
   "cell_type": "markdown",
   "id": "a21dd125",
   "metadata": {},
   "source": [
    "* maps는 n x m 크기의 게임 맵의 상태가 들어있는 2차원 배열로, n과 m은 각각 1 이상 100 이하의 자연수입니다.\n",
    "    * n과 m은 서로 같을 수도, 다를 수도 있지만, n과 m이 모두 1인 경우는 입력으로 주어지지 않습니다.\n",
    "* maps는 0과 1로만 이루어져 있으며, 0은 벽이 있는 자리, 1은 벽이 없는 자리를 나타냅니다.\n",
    "* 처음에 캐릭터는 게임 맵의 좌측 상단인 (1, 1) 위치에 있으며, 상대방 진영은 게임 맵의 우측 하단인 (n, m) 위치에 있습니다."
   ]
  },
  {
   "cell_type": "markdown",
   "id": "16452081",
   "metadata": {},
   "source": [
    "# 예제 입출력"
   ]
  },
  {
   "cell_type": "markdown",
   "id": "9b026c31",
   "metadata": {},
   "source": [
    "|maps|answer|\n",
    "|---|---|\n",
    "|[[1,0,1,1,1],[1,0,1,0,1],[1,0,1,1,1],[1,1,1,0,1],[0,0,0,0,1]]|11|\n",
    "|[[1,0,1,1,1],[1,0,1,0,1],[1,0,1,1,1],[1,1,1,0,0],[0,0,0,0,1]]|-1|"
   ]
  },
  {
   "cell_type": "code",
   "execution_count": 9,
   "id": "2cfeb700",
   "metadata": {},
   "outputs": [],
   "source": [
    "from collections import deque\n",
    "\n",
    "def solution(maps):\n",
    "    w, h = len(maps[0]), len(maps)\n",
    "    def bfs(x, y):\n",
    "        dx = [-1, 1, 0, 0]\n",
    "        dy = [0, 0, -1, 1]\n",
    "\n",
    "        temp_loc = deque()\n",
    "        temp_loc.append((y, x))\n",
    "\n",
    "        while temp_loc:\n",
    "            y, x = temp_loc.popleft()\n",
    "            for i in range(4):\n",
    "                nx = x + dx[i]\n",
    "                ny = y + dy[i]\n",
    "\n",
    "                if (nx < 0) or (nx >= w) or (ny < 0) or (ny >= h):\n",
    "                    continue\n",
    "\n",
    "                if maps[ny][nx] == 0:\n",
    "                    continue\n",
    "\n",
    "                if maps[ny][nx] == 1:\n",
    "                    maps[ny][nx] = maps[y][x] + 1\n",
    "                    temp_loc.append((ny, nx))\n",
    "\n",
    "        return maps[h-1][w-1]    \n",
    "    answer = bfs(0, 0)\n",
    "    if answer == 1:\n",
    "        return -1\n",
    "    return answer\n"
   ]
  },
  {
   "cell_type": "code",
   "execution_count": 10,
   "id": "4411ccbc",
   "metadata": {},
   "outputs": [
    {
     "name": "stdout",
     "output_type": "stream",
     "text": [
      "11\n",
      "-1\n"
     ]
    }
   ],
   "source": [
    "for map in [[[1,0,1,1,1],[1,0,1,0,1],[1,0,1,1,1],[1,1,1,0,1],[0,0,0,0,1]], [[1,0,1,1,1],[1,0,1,0,1],[1,0,1,1,1],[1,1,1,0,0],[0,0,0,0,1]]]:\n",
    "    print(solution(map))"
   ]
  },
  {
   "cell_type": "markdown",
   "id": "a76a6800",
   "metadata": {},
   "source": [
    "# 풀이 과정 및 주의사항"
   ]
  },
  {
   "cell_type": "markdown",
   "id": "641c1f09",
   "metadata": {},
   "source": [
    " * 재귀함수를 bfs를 사용해서 상, 하, 좌, 우를 탐색 후 해당 값이 1인 위치(갈 수 있는 위치)이면 해당 좌표값을 저장 후 현재 위치 값에 1을 더한 값으로 바꿔주는 과정을 연속적으로 거친다.(더 이상 해당되는 좌표가 없을때 까지)\n",
    " * List 좌표는 List\\[세로\\]\\[가로\\]이므로 List\\[y\\]\\[n\\]의 형식으로 사용한다.\n",
    " * 더 이상 해당되는 좌표가 없을때 까지 1을 연속적으로 더해주는 과정을 거친 후, 오른쪽 하단 마지막 좌표 값이 1이면 (도달 하지 못했으므로) -1를 반환하고, 1이 아니면 해당 좌표의 값을 반환한다."
   ]
  },
  {
   "cell_type": "markdown",
   "id": "0d7970bb",
   "metadata": {},
   "source": [
    "https://school.programmers.co.kr/learn/courses/30/lessons/1844"
   ]
  }
 ],
 "metadata": {
  "celltoolbar": "Raw Cell Format",
  "kernelspec": {
   "display_name": "Python 3 (ipykernel)",
   "language": "python",
   "name": "python3"
  },
  "language_info": {
   "codemirror_mode": {
    "name": "ipython",
    "version": 3
   },
   "file_extension": ".py",
   "mimetype": "text/x-python",
   "name": "python",
   "nbconvert_exporter": "python",
   "pygments_lexer": "ipython3",
   "version": "3.9.7"
  }
 },
 "nbformat": 4,
 "nbformat_minor": 5
}
