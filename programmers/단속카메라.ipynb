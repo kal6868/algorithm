{
 "cells": [
  {
   "cell_type": "markdown",
   "id": "fbd6d190",
   "metadata": {},
   "source": [
    "# 문제 설명"
   ]
  },
  {
   "cell_type": "markdown",
   "id": "295ec3a5",
   "metadata": {},
   "source": [
    "* 고속도로를 이동하는 모든 차량이 고속도로를 이용하면서 단속용 카메라를 한 번은 만나도록 카메라를 설치하려고 합니다."
   ]
  },
  {
   "cell_type": "markdown",
   "id": "3f4ae034",
   "metadata": {},
   "source": [
    "* 고속도로를 이동하는 차량의 경로 routes가 매개변수로 주어질 때, 모든 차량이 한 번은 단속용 카메라를 만나도록 하려면 최소 몇 대의 카메라를 설치해야 하는지를 return 하도록 solution 함수를 완성하세요."
   ]
  },
  {
   "cell_type": "markdown",
   "id": "b56a4179",
   "metadata": {},
   "source": [
    "# 제한사항"
   ]
  },
  {
   "cell_type": "markdown",
   "id": "229fc3aa",
   "metadata": {},
   "source": [
    "* 차량의 대수는 1대 이상 10,000대 이하입니다.\n",
    "* routes에는 차량의 이동 경로가 포함되어 있으며 routes[i][0]에는 i번째 차량이 고속도로에 진입한 지점, routes[i][1]에는 i번째 차량이 고속도로에서 나간 지점이 적혀 있습니다.\n",
    "* 차량의 진입/진출 지점에 카메라가 설치되어 있어도 카메라를 만난것으로 간주합니다.\n",
    "* 차량의 진입 지점, 진출 지점은 -30,000 이상 30,000 이하입니다."
   ]
  },
  {
   "cell_type": "markdown",
   "id": "16452081",
   "metadata": {},
   "source": [
    "# 입출력 예시"
   ]
  },
  {
   "cell_type": "markdown",
   "id": "9b026c31",
   "metadata": {},
   "source": [
    "|routes|return|\n",
    "|---|---|\n",
    "|[[-20,-15], [-14,-5], [-18,-13], [-5,-3]]|2|"
   ]
  },
  {
   "cell_type": "code",
   "execution_count": 1,
   "id": "d3f7e869",
   "metadata": {},
   "outputs": [],
   "source": [
    "def solution(routes):\n",
    "    answer = 1\n",
    "    routes = sorted(routes, key=lambda x: x[0], reverse=True)\n",
    "    camera = routes[0][0]\n",
    "    \n",
    "    for route in routes[1:]:\n",
    "        if route[1] >= camera:\n",
    "            continue\n",
    "        else:\n",
    "            camera = route[0]\n",
    "            answer +=1\n",
    "\n",
    "    return answer"
   ]
  },
  {
   "cell_type": "code",
   "execution_count": 2,
   "id": "d3982ae6",
   "metadata": {},
   "outputs": [
    {
     "name": "stdout",
     "output_type": "stream",
     "text": [
      "2 "
     ]
    }
   ],
   "source": [
    "for routes in [[[-20,-15], [-14,-5], [-18,-13], [-5,-3]]]:\n",
    "    print(solution(routes), end = ' ')"
   ]
  },
  {
   "cell_type": "markdown",
   "id": "a76a6800",
   "metadata": {},
   "source": [
    "# 풀이 과정 및 주의사항"
   ]
  },
  {
   "cell_type": "markdown",
   "id": "641c1f09",
   "metadata": {},
   "source": [
    "* 진입로를 기준으로 정렬한다(음수이므로 거꾸로 정렬한다). ex) [[-5, -3], [-14, -5], [-18, -13], [-20, -15]]\n",
    "* List 맨 처음 요소의 진입로(camera)가 그 다음 나간 지점보다 작으면 카메라를 만나므로 continue로 다시 for문의 시작점으로 돌린다.\n",
    "* List 맨 처음 요소의 진입로(camera)가 그 다음 나간 지점보다 크면 카메라를 만나지 않으므로 1을 더해주고 camera를 갱신한다.\n",
    "* ex) -5 (출입 지점) -> -5 (나간 지점) >= -5 (출입 지점) -> continue로 for문으로 돌아감 -> -13 (나간 지점) !>= -5(출입 지점) -> camera를 -18로 갱신 -> answer에 1 더해주기 -> -18 (출입 지점) >= -15(나간 지점) -> countinue로 돌아감"
   ]
  },
  {
   "cell_type": "markdown",
   "id": "0d7970bb",
   "metadata": {},
   "source": [
    "https://school.programmers.co.kr/learn/courses/30/lessons/42884"
   ]
  }
 ],
 "metadata": {
  "celltoolbar": "Raw Cell Format",
  "kernelspec": {
   "display_name": "Python 3 (ipykernel)",
   "language": "python",
   "name": "python3"
  },
  "language_info": {
   "codemirror_mode": {
    "name": "ipython",
    "version": 3
   },
   "file_extension": ".py",
   "mimetype": "text/x-python",
   "name": "python",
   "nbconvert_exporter": "python",
   "pygments_lexer": "ipython3",
   "version": "3.9.7"
  }
 },
 "nbformat": 4,
 "nbformat_minor": 5
}
