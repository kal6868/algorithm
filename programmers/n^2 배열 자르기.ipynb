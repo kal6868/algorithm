{
 "cells": [
  {
   "cell_type": "markdown",
   "id": "fbd6d190",
   "metadata": {},
   "source": [
    "# 문제"
   ]
  },
  {
   "cell_type": "markdown",
   "id": "aa665cb9",
   "metadata": {},
   "source": [
    "* 정수 n, left, right가 주어집니다. 다음 과정을 거쳐서 1차원 배열을 만들고자 합니다.\n",
    "\n",
    "    * 1.n행 n열 크기의 비어있는 2차원 배열을 만듭니다.\n",
    "    * 2.i = 1, 2, 3, ..., n에 대해서, 다음 과정을 반복합니다.\n",
    "        * 1행 1열부터 i행 i열까지의 영역 내의 모든 빈 칸을 숫자 i로 채웁니다.\n",
    "    * 3.1행, 2행, ..., n행을 잘라내어 모두 이어붙인 새로운 1차원 배열을 만듭니다.\n",
    "    * 4.새로운 1차원 배열을 arr이라 할 때, arr[left], arr[left+1], ..., arr[right]만 남기고 나머지는 지웁니다.\n",
    "* 정수 n, left, right가 매개변수로 주어집니다. 주어진 과정대로 만들어진 1차원 배열을 return 하도록 solution 함수를 완성해주세요."
   ]
  },
  {
   "cell_type": "markdown",
   "id": "be064c2f",
   "metadata": {},
   "source": [
    "# 제한사항"
   ]
  },
  {
   "cell_type": "markdown",
   "id": "c4d677a4",
   "metadata": {},
   "source": [
    "* 1 ≤ n ≤ 107\n",
    "* 0 ≤ left ≤ right < n2\n",
    "* right - left < 105"
   ]
  },
  {
   "cell_type": "markdown",
   "id": "16452081",
   "metadata": {},
   "source": [
    "# 입출력 예시"
   ]
  },
  {
   "cell_type": "markdown",
   "id": "9b026c31",
   "metadata": {},
   "source": [
    "|n|left|right|result|\n",
    "|---|---|---|---|\n",
    "|3|2|5|[3,2,2,3]|\n",
    "|4|7|14|[4,3,3,3,4,4,4,4]|"
   ]
  },
  {
   "cell_type": "code",
   "execution_count": 1,
   "id": "b2918811",
   "metadata": {},
   "outputs": [],
   "source": [
    "def solution(n, left, right):\n",
    "    answer = []\n",
    "    for i in range(left, right+1):\n",
    "        q = i // n\n",
    "        r = i % n\n",
    "        answer.append(max(q,r) + 1)\n",
    "    return answer"
   ]
  },
  {
   "cell_type": "code",
   "execution_count": 2,
   "id": "9b07c977",
   "metadata": {
    "scrolled": true
   },
   "outputs": [
    {
     "name": "stdout",
     "output_type": "stream",
     "text": [
      "[3, 2, 2, 3] [4, 3, 3, 3, 4, 4, 4, 4] "
     ]
    }
   ],
   "source": [
    "for n, left, right in [[3,2,5], [4,7,14]]:\n",
    "    print(solution(n, left, right), end = ' ')"
   ]
  },
  {
   "cell_type": "markdown",
   "id": "55f1bb43",
   "metadata": {},
   "source": [
    "# 풀이 과정 및 주의사항"
   ]
  },
  {
   "cell_type": "markdown",
   "id": "6efca741",
   "metadata": {},
   "source": [
    "|1|2|3|4|5|6|7|8|9|\n",
    "|---|---|---|---|---|---|---|---|---|\n",
    "|0,0|0,1|0,2|1,0|1,1|1,2|2,0|2,1|2,2|\n",
    "|1|2|3|2|2|3|3|3|3|"
   ]
  },
  {
   "cell_type": "markdown",
   "id": "d8d686a4",
   "metadata": {},
   "source": [
    "* 각 인덱스 중 큰 수에 1을 더한 수가 해당 위치의 숫자가 되는 규칙을 가진다\n",
    "* range로 전체 배열을 돌리면 시간 초과가 나고, if로 해당 index만 추가해도 시간초과가 나서, range문을 ㅣeft부터 right까지 범위를 지정해 주는 것"
   ]
  },
  {
   "cell_type": "markdown",
   "id": "a93a96e8",
   "metadata": {},
   "source": [
    "https://school.programmers.co.kr/learn/courses/30/lessons/87390"
   ]
  }
 ],
 "metadata": {
  "kernelspec": {
   "display_name": "Python 3 (ipykernel)",
   "language": "python",
   "name": "python3"
  },
  "language_info": {
   "codemirror_mode": {
    "name": "ipython",
    "version": 3
   },
   "file_extension": ".py",
   "mimetype": "text/x-python",
   "name": "python",
   "nbconvert_exporter": "python",
   "pygments_lexer": "ipython3",
   "version": "3.9.7"
  }
 },
 "nbformat": 4,
 "nbformat_minor": 5
}
