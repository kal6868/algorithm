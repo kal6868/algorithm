{
 "cells": [
  {
   "cell_type": "markdown",
   "id": "fbd6d190",
   "metadata": {},
   "source": [
    "# 문제 설명"
   ]
  },
  {
   "cell_type": "markdown",
   "id": "aa665cb9",
   "metadata": {},
   "source": [
    "* 사전에 알파벳 모음 'A', 'E', 'I', 'O', 'U'만을 사용하여 만들 수 있는, 길이 5 이하의 모든 단어가 수록되어 있습니다. 사전에서 첫 번째 단어는 \"A\"이고, 그다음은 \"AA\"이며, 마지막 단어는 \"UUUUU\"입니다."
   ]
  },
  {
   "cell_type": "markdown",
   "id": "e1a00c09",
   "metadata": {},
   "source": [
    "* 단어 하나 word가 매개변수로 주어질 때, 이 단어가 사전에서 몇 번째 단어인지 return 하도록 solution 함수를 완성해주세요."
   ]
  },
  {
   "cell_type": "markdown",
   "id": "b56a4179",
   "metadata": {},
   "source": [
    "# 제한사항"
   ]
  },
  {
   "cell_type": "markdown",
   "id": "229fc3aa",
   "metadata": {},
   "source": [
    "* word의 길이는 1 이상 5 이하입니다.\n",
    "* word는 알파벳 대문자 'A', 'E', 'I', 'O', 'U'로만 이루어져 있습니다."
   ]
  },
  {
   "cell_type": "markdown",
   "id": "16452081",
   "metadata": {},
   "source": [
    "# 입출력 예시"
   ]
  },
  {
   "cell_type": "markdown",
   "id": "9b026c31",
   "metadata": {},
   "source": [
    "|word|result|\n",
    "|---|---|\n",
    "|\"AAAAE\"|6|\n",
    "|\"AAAE\"|10|\n",
    "|\"I\"|1563|\n",
    "|\"EIO\"|1189|"
   ]
  },
  {
   "cell_type": "code",
   "execution_count": 1,
   "id": "d3f7e869",
   "metadata": {},
   "outputs": [],
   "source": [
    "def solution(word):\n",
    "    answer = 0\n",
    "    dic={\"A\":0, \"E\":1, \"I\":2, \"O\":3, \"U\":4}\n",
    "    \n",
    "    for i in range(len(word)):\n",
    "        for j in range(4, i, -1):\n",
    "            answer += 5 ** (j-i) * dic[word[i]]\n",
    "        answer += dic[word[i]] + 1\n",
    "    return answer"
   ]
  },
  {
   "cell_type": "code",
   "execution_count": 2,
   "id": "ab9e927b",
   "metadata": {
    "scrolled": true
   },
   "outputs": [
    {
     "name": "stdout",
     "output_type": "stream",
     "text": [
      "6 10 1563 1189 "
     ]
    }
   ],
   "source": [
    "for name in [\"AAAAE\", \"AAAE\", \"I\", 'EIO']:\n",
    "    print(solution(name), end = ' ')"
   ]
  },
  {
   "cell_type": "markdown",
   "id": "f9f5c74b",
   "metadata": {},
   "source": [
    "# 풀이 과정 및 주의사항"
   ]
  },
  {
   "cell_type": "markdown",
   "id": "d8d686a4",
   "metadata": {},
   "source": [
    "* 자리수의 알파벳을 바꾸려면, 5의 4승, 5의3승, 5의 2승, 5의 1승, 5의 0승 만큼 움직어야 한다. AAAE가 나오려면 AAAAA, AAAAAE, AAAAI, AAAAO, AAAAU 5번을 이동해야 한다. for문을 이용해서 자리수만큼 알파벳의 5승을 구해주면 된다. A는 미리 깔려있는 수이므로 0을 부여하고 answer에서 계속해서 1을 더해주면 된다."
   ]
  },
  {
   "cell_type": "markdown",
   "id": "0d7970bb",
   "metadata": {},
   "source": [
    "https://school.programmers.co.kr/learn/courses/30/lessons/84512"
   ]
  }
 ],
 "metadata": {
  "celltoolbar": "Raw Cell Format",
  "kernelspec": {
   "display_name": "Python 3 (ipykernel)",
   "language": "python",
   "name": "python3"
  },
  "language_info": {
   "codemirror_mode": {
    "name": "ipython",
    "version": 3
   },
   "file_extension": ".py",
   "mimetype": "text/x-python",
   "name": "python",
   "nbconvert_exporter": "python",
   "pygments_lexer": "ipython3",
   "version": "3.9.7"
  }
 },
 "nbformat": 4,
 "nbformat_minor": 5
}
