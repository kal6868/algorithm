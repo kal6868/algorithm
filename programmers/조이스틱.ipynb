{
 "cells": [
  {
   "cell_type": "markdown",
   "id": "fbd6d190",
   "metadata": {},
   "source": [
    "# 문제 설명"
   ]
  },
  {
   "cell_type": "markdown",
   "id": "aa665cb9",
   "metadata": {},
   "source": [
    "* 조이스틱으로 알파벳 이름을 완성하세요. 맨 처음엔 A로만 이루어져 있습니다.\n",
    "     *  ex) 완성해야 하는 이름이 세 글자면 AAA, 네 글자면 AAAA"
   ]
  },
  {
   "cell_type": "markdown",
   "id": "9e69b673",
   "metadata": {},
   "source": [
    "* 조이스틱을 각 방향으로 움직이면 아래와 같습니다.\n",
    "    * ▲ - 다음 알파벳\n",
    "    * ▼ - 이전 알파벳 (A에서 아래쪽으로 이동하면 Z로)\n",
    "    * ◀ - 커서를 왼쪽으로 이동 (첫 번째 위치에서 왼쪽으로 이동하면 마지막 문자에 커서)\n",
    "    * ▶ - 커서를 오른쪽으로 이동 (마지막 위치에서 오른쪽으로 이동하면 첫 번째 문자에 커서)\n"
   ]
  },
  {
   "cell_type": "markdown",
   "id": "e1a00c09",
   "metadata": {},
   "source": [
    "* 예를 들어 아래의 방법으로 \"JAZ\"를 만들 수 있습니다.\n",
    "    * \\- 첫 번째 위치에서 조이스틱을 위로 9번 조작하여 J를 완성합니다.\n",
    "    * \\- 조이스틱을 왼쪽으로 1번 조작하여 커서를 마지막 문자 위치로 이동시킵니다.\n",
    "    * \\- 마지막 위치에서 조이스틱을 아래로 1번 조작하여 Z를 완성합니다.\n",
    "    * 따라서 11번 이동시켜 \"JAZ\"를 만들 수 있고, 이때가 최소 이동입니다."
   ]
  },
  {
   "cell_type": "markdown",
   "id": "233c5f85",
   "metadata": {},
   "source": [
    "* 만들고자 하는 이름 name이 매개변수로 주어질 때, 이름에 대해 조이스틱 조작 횟수의 최솟값을 return 하도록 solution 함수를 만드세요."
   ]
  },
  {
   "cell_type": "markdown",
   "id": "4b8c53d2",
   "metadata": {},
   "source": [
    "* 압축할 문자열 s가 매개변수로 주어질 때, 위에 설명한 방법으로 1개 이상 단위로 문자열을 잘라 압축하여 표현한 문자열 중 가장 짧은 것의 길이를 return 하도록 solution 함수를 완성해주세요."
   ]
  },
  {
   "cell_type": "markdown",
   "id": "b56a4179",
   "metadata": {},
   "source": [
    "# 제한사항"
   ]
  },
  {
   "cell_type": "markdown",
   "id": "229fc3aa",
   "metadata": {},
   "source": [
    "* name은 알파벳 대문자로만 이루어져 있습니다.\n",
    "* name의 길이는 1 이상 20 이하입니다."
   ]
  },
  {
   "cell_type": "markdown",
   "id": "16452081",
   "metadata": {},
   "source": [
    "# 입출력 예시"
   ]
  },
  {
   "cell_type": "markdown",
   "id": "9b026c31",
   "metadata": {},
   "source": [
    "|name|return|\n",
    "|---|---|\n",
    "|\"JEROEN\"|56|\n",
    "|\"JAN\"|23|"
   ]
  },
  {
   "cell_type": "code",
   "execution_count": 1,
   "id": "d3f7e869",
   "metadata": {},
   "outputs": [],
   "source": [
    "def solution(name):\n",
    "    answer = 0\n",
    "    min_move = len(name) - 1\n",
    "    for i, char in enumerate(name):\n",
    "        answer += min(ord(char) - ord('A'), ord('Z') - ord(char) + 1)\n",
    "        end_of_a = i + 1\n",
    "        while end_of_a < len(name) and name[end_of_a] == 'A':\n",
    "            end_of_a += 1\n",
    "        min_move = min([min_move, 2*i + len(name) - end_of_a, i+2*(len(name)-end_of_a)])\n",
    "    answer += min_move\n",
    "    return answer"
   ]
  },
  {
   "cell_type": "code",
   "execution_count": 2,
   "id": "ab9e927b",
   "metadata": {},
   "outputs": [
    {
     "name": "stdout",
     "output_type": "stream",
     "text": [
      "56 23 "
     ]
    }
   ],
   "source": [
    "for name in [\"JEROEN\", \"JAN\"]:\n",
    "    print(solution(name), end = ' ')"
   ]
  },
  {
   "cell_type": "markdown",
   "id": "f9f5c74b",
   "metadata": {},
   "source": [
    "# 풀이 과정 및 주의사항"
   ]
  },
  {
   "cell_type": "markdown",
   "id": "d8d686a4",
   "metadata": {},
   "source": [
    "* 위 아래로 움직이는 횟수와 좌우로 움직이는 횟수의 최소값을 구하면 된다. \n",
    "* 위로 올리는게 빠른 경우 (A, B, C ....), 해당 문자의 아스키 코드에서 A의 아스키 코드를 빼면 되고, 밑으로 내리는 것이 빠른 경우(Z, Y, X...) Z의 아스키 코드에서 해당 문자를 빼면 되는데, A->Z가 1번의 이동이 있으므로 더해준다.\n",
    "* 연속된 A는 이동할 필요가 없으므로 A의 좌측과 우측중 어디가 더 긴지를 확인하면 되는데, BCDAABC의 경우 AA 뒤쪽의 BC를 반복하는 것이 BCD를 이동하는 것 보다 더 횟수가 적다.\n",
    "* 한 방향으로만 이동하는 것, A의 앞쪽을 두번 이동하는 것, A의 뒤쪽을 2번 이동하는 것을 비교해서 가장 적은 횟수를 도출하면 된다."
   ]
  },
  {
   "cell_type": "markdown",
   "id": "0d7970bb",
   "metadata": {},
   "source": [
    "https://school.programmers.co.kr/learn/courses/30/lessons/60057"
   ]
  }
 ],
 "metadata": {
  "celltoolbar": "Raw Cell Format",
  "kernelspec": {
   "display_name": "Python 3 (ipykernel)",
   "language": "python",
   "name": "python3"
  },
  "language_info": {
   "codemirror_mode": {
    "name": "ipython",
    "version": 3
   },
   "file_extension": ".py",
   "mimetype": "text/x-python",
   "name": "python",
   "nbconvert_exporter": "python",
   "pygments_lexer": "ipython3",
   "version": "3.9.7"
  }
 },
 "nbformat": 4,
 "nbformat_minor": 5
}
