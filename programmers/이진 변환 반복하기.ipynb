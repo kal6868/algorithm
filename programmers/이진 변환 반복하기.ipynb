{
 "cells": [
  {
   "cell_type": "markdown",
   "id": "fbd6d190",
   "metadata": {},
   "source": [
    "# 문제"
   ]
  },
  {
   "cell_type": "markdown",
   "id": "aa665cb9",
   "metadata": {},
   "source": [
    "* 0과 1로 이루어진 어떤 문자열 x에 대한 이진 변환을 다음과 같이 정의합니다.\n",
    "\n",
    "    * x의 모든 0을 제거합니다.\n",
    "    * x의 길이를 c라고 하면, x를 \"c를 2진법으로 표현한 문자열\"로 바꿉니다.\n",
    "* 예를 들어, x = \"0111010\"이라면, x에 이진 변환을 가하면 x = \"0111010\" -> \"1111\" -> \"100\" 이 됩니다.\n",
    "\n",
    "* 0과 1로 이루어진 문자열 s가 매개변수로 주어집니다. s가 \"1\"이 될 때까지 계속해서 s에 이진 변환을 가했을 때, 이진 변환의 횟수와 변환 과정에서 제거된 모든 0의 개수를 각각 배열에 담아 return 하도록 solution 함수를 완성해주세요."
   ]
  },
  {
   "cell_type": "markdown",
   "id": "93c69f28",
   "metadata": {},
   "source": [
    "# 제한 조건"
   ]
  },
  {
   "cell_type": "markdown",
   "id": "ebf4c872",
   "metadata": {},
   "source": [
    "* s의 길이는 1 이상 150,000 이하입니다.\n",
    "* s에는 '1'이 최소 하나 이상 포함되어 있습니다."
   ]
  },
  {
   "cell_type": "markdown",
   "id": "73cf05d4",
   "metadata": {},
   "source": [
    "# 입출력 예 설명"
   ]
  },
  {
   "cell_type": "markdown",
   "id": "dbc9302c",
   "metadata": {},
   "source": [
    "|s|result|\n",
    "|---|---|\n",
    "|\"110010101001\"|[3,8]|\n",
    "|\"01110\"|[3,3]|\n",
    "|\"1111111\"|[4,1]|"
   ]
  },
  {
   "cell_type": "code",
   "execution_count": 3,
   "id": "b2918811",
   "metadata": {},
   "outputs": [],
   "source": [
    "def mk_bin(n, s):\n",
    "    number = ''\n",
    "    while n:\n",
    "        tail = str(n % 2)\n",
    "        n //= 2\n",
    "        number = tail + number\n",
    "    return number\n",
    "\n",
    "def solution(num):\n",
    "    count = 0\n",
    "    zero = 0\n",
    "    while True:\n",
    "        if num == '1':\n",
    "            break\n",
    "        zero += num.count('0')\n",
    "        num = mk_bin(len(num.replace('0', '')), 2)\n",
    "        count += 1\n",
    "    return [count, zero]\n"
   ]
  },
  {
   "cell_type": "code",
   "execution_count": 4,
   "id": "9b07c977",
   "metadata": {},
   "outputs": [
    {
     "name": "stdout",
     "output_type": "stream",
     "text": [
      "[3, 8] [3, 3] [4, 1] "
     ]
    }
   ],
   "source": [
    "for i in [\"110010101001\", \"01110\", \"1111111\"]:\n",
    "    print(solution(i), end = \" \")"
   ]
  },
  {
   "cell_type": "markdown",
   "id": "55f1bb43",
   "metadata": {},
   "source": [
    "# 풀이 과정 및 주의사항"
   ]
  },
  {
   "cell_type": "markdown",
   "id": "6efca741",
   "metadata": {},
   "source": [
    "* 입력 숫자에서 0을 제거 -> 남은 1의 길이만큼의 숫자를 이진수화 -> 다시 0을 제거 -> 반복\n",
    "* 2진수 변환을 하는 함수를 먼저 만들고 함수를 이용하여 반복 변환"
   ]
  },
  {
   "cell_type": "markdown",
   "id": "a93a96e8",
   "metadata": {},
   "source": [
    "https://school.programmers.co.kr/learn/courses/30/lessons/70129"
   ]
  }
 ],
 "metadata": {
  "kernelspec": {
   "display_name": "Python 3 (ipykernel)",
   "language": "python",
   "name": "python3"
  },
  "language_info": {
   "codemirror_mode": {
    "name": "ipython",
    "version": 3
   },
   "file_extension": ".py",
   "mimetype": "text/x-python",
   "name": "python",
   "nbconvert_exporter": "python",
   "pygments_lexer": "ipython3",
   "version": "3.9.7"
  }
 },
 "nbformat": 4,
 "nbformat_minor": 5
}
