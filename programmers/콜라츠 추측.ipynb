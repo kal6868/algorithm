{
 "cells": [
  {
   "cell_type": "markdown",
   "id": "fbd6d190",
   "metadata": {},
   "source": [
    "# 문제 설명"
   ]
  },
  {
   "cell_type": "markdown",
   "id": "295ec3a5",
   "metadata": {},
   "source": [
    "* 1937년 Collatz란 사람에 의해 제기된 이 추측은, 주어진 수가 1이 될 때까지 다음 작업을 반복하면, 모든 수를 1로 만들 수 있다는 추측입니다. 작업은 다음과 같습니다.\n",
    "    * 1-1. 입력된 수가 짝수라면 2로 나눕니다. \n",
    "    * 1-2. 입력된 수가 홀수라면 3을 곱하고 1을 더합니다. \n",
    "    * 2. 결과로 나온 수에 같은 작업을 1이 될 때까지 반복합니다. "
   ]
  },
  {
   "cell_type": "markdown",
   "id": "41d65362",
   "metadata": {},
   "source": [
    "* 예를 들어, 주어진 수가 6이라면 6 → 3 → 10 → 5 → 16 → 8 → 4 → 2 → 1 이 되어 총 8번 만에 1이 됩니다. 위 작업을 몇 번이나 반복해야 하는지 반환하는 함수, solution을 완성해 주세요. 단, 주어진 수가 1인 경우에는 0을, 작업을 500번 반복할 때까지 1이 되지 않는다면 –1을 반환해 주세요."
   ]
  },
  {
   "cell_type": "markdown",
   "id": "ff6efbd2",
   "metadata": {},
   "source": [
    " # 제한 사항"
   ]
  },
  {
   "cell_type": "markdown",
   "id": "160863cb",
   "metadata": {},
   "source": [
    "* 입력된 수, num은 1 이상 8,000,000 미만인 정수입니다."
   ]
  },
  {
   "cell_type": "markdown",
   "id": "16452081",
   "metadata": {},
   "source": [
    "# 입출력 예"
   ]
  },
  {
   "cell_type": "markdown",
   "id": "9b026c31",
   "metadata": {},
   "source": [
    "|n|result|\n",
    "|---|---|\n",
    "|6|8|\n",
    "|16|4|\n",
    "|626331|-1|"
   ]
  },
  {
   "cell_type": "code",
   "execution_count": 3,
   "id": "2cfeb700",
   "metadata": {},
   "outputs": [],
   "source": [
    "def solution(num):\n",
    "    answer = 0\n",
    "    while num != 1:\n",
    "        if num % 2 == 0:\n",
    "            num /= 2\n",
    "        else:\n",
    "            num = (num*3) + 1\n",
    "        answer += 1\n",
    "        if answer == 501:\n",
    "            return -1\n",
    "    return answer"
   ]
  },
  {
   "cell_type": "code",
   "execution_count": 5,
   "id": "4411ccbc",
   "metadata": {},
   "outputs": [
    {
     "name": "stdout",
     "output_type": "stream",
     "text": [
      "8\n",
      "4\n",
      "-1\n"
     ]
    }
   ],
   "source": [
    "for num in [6, 16, 626331]:\n",
    "    print(solution(num))"
   ]
  },
  {
   "cell_type": "markdown",
   "id": "a76a6800",
   "metadata": {},
   "source": [
    "# 풀이 과정 및 주의사항"
   ]
  },
  {
   "cell_type": "markdown",
   "id": "641c1f09",
   "metadata": {},
   "source": [
    " * 짝수면 2로 나누고, 홀수면 3을 곱하고 1을 더하는 과정을 num이 1이 될 때까지 하거나, 500번을 시도해도 1이 되지 않으면 501번째에 -1을 반환한다."
   ]
  },
  {
   "cell_type": "markdown",
   "id": "0d7970bb",
   "metadata": {},
   "source": [
    "https://school.programmers.co.kr/learn/courses/30/lessons/12943"
   ]
  }
 ],
 "metadata": {
  "celltoolbar": "Raw Cell Format",
  "kernelspec": {
   "display_name": "Python 3 (ipykernel)",
   "language": "python",
   "name": "python3"
  },
  "language_info": {
   "codemirror_mode": {
    "name": "ipython",
    "version": 3
   },
   "file_extension": ".py",
   "mimetype": "text/x-python",
   "name": "python",
   "nbconvert_exporter": "python",
   "pygments_lexer": "ipython3",
   "version": "3.9.7"
  }
 },
 "nbformat": 4,
 "nbformat_minor": 5
}
