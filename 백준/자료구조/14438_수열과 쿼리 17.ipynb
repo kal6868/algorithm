{
 "cells": [
  {
   "attachments": {},
   "cell_type": "markdown",
   "metadata": {},
   "source": [
    "# 수열과 쿼리 17"
   ]
  },
  {
   "attachments": {},
   "cell_type": "markdown",
   "metadata": {},
   "source": [
    "## 문제"
   ]
  },
  {
   "cell_type": "markdown",
   "metadata": {},
   "source": [
    "* 길이가 N인 수열 A1, A2, ..., AN이 주어진다. 이때, 다음 쿼리를 수행하는 프로그램을 작성하시오.\n",
    "    * 1 i v : Ai를 v로 바꾼다. (1 ≤ i ≤ N, 1 ≤ v ≤ 109)\n",
    "    * 2 i j : Ai, Ai+1, ..., Aj에서 크기가 가장 작은 값을 출력한다. (1 ≤ i ≤ j ≤ N)"
   ]
  },
  {
   "cell_type": "markdown",
   "metadata": {},
   "source": [
    "* 수열의 인덱스는 1부터 시작한다."
   ]
  },
  {
   "attachments": {},
   "cell_type": "markdown",
   "metadata": {},
   "source": [
    "## 입력"
   ]
  },
  {
   "cell_type": "markdown",
   "metadata": {},
   "source": [
    "* 첫째 줄에 수열의 크기 N이 주어진다. (1 ≤ N ≤ 100,000)"
   ]
  },
  {
   "cell_type": "markdown",
   "metadata": {},
   "source": [
    "* 둘째 줄에는 A1, A2, ..., AN이 주어진다. (1 ≤ Ai ≤ 10^9)"
   ]
  },
  {
   "cell_type": "markdown",
   "metadata": {},
   "source": [
    "* 셋째 줄에는 쿼리의 개수 M이 주어진다. (1 ≤ M ≤ 100,000)"
   ]
  },
  {
   "cell_type": "markdown",
   "metadata": {},
   "source": [
    "* 넷째 줄부터 M개의 줄에는 쿼리가 주어진다."
   ]
  },
  {
   "attachments": {},
   "cell_type": "markdown",
   "metadata": {},
   "source": [
    "## 출력"
   ]
  },
  {
   "cell_type": "markdown",
   "metadata": {},
   "source": [
    "* 2번 쿼리에 대해서 정답을 한 줄에 하나씩 순서대로 출력한다."
   ]
  },
  {
   "attachments": {},
   "cell_type": "markdown",
   "metadata": {},
   "source": [
    "## Code"
   ]
  },
  {
   "cell_type": "code",
   "execution_count": 1,
   "metadata": {},
   "outputs": [],
   "source": [
    "# 14438_수열과 쿼리17\n",
    "\n",
    "import sys\n",
    "\n",
    "submit = False\n",
    "input = sys.stdin.readline if submit else input\n",
    "\n",
    "def solution():\n",
    "    N = int(input())\n",
    "    numbers = list(map(int, input().split()))\n",
    "    M = int(input())\n",
    "\n",
    "    for _ in range(M):\n",
    "        cmd, i, v = map(int, input().split())\n",
    "        if cmd == 1:\n",
    "            numbers[i-1] = v\n",
    "        elif cmd == 2:\n",
    "            i = i-1 if i-1 >= 0 else 0\n",
    "            print(min(numbers[i:v]))"
   ]
  },
  {
   "cell_type": "code",
   "execution_count": null,
   "metadata": {},
   "outputs": [],
   "source": [
    "# 14438_수열과 쿼리17\n",
    "\n",
    "import sys\n",
    "import math\n",
    "\n",
    "submit = False\n",
    "input = sys.stdin.readline if submit else input\n",
    "\n",
    "def makeSegTree(arr, seg, idx, st, ed):\n",
    "    if st == ed:\n",
    "        seg[idx] = arr[st]\n",
    "        return seg[idx]\n",
    "    \n",
    "    mid = (st + ed) // 2\n",
    "    left, right = makeSegTree(arr, seg, idx * 2, st, mid), makeSegTree(arr, seg, idx * 2 + 1, mid+1, ed)\n",
    "    seg[idx] = min(left,  right)\n",
    "    return seg[idx]\n",
    "\n",
    "def find(seg, range1, range2, idx, st, ed):\n",
    "    if range2 < st or range1 > ed:\n",
    "        return 10**9+1\n",
    "    if range1 <= st and ed <= range2:\n",
    "        return seg[idx]\n",
    "    \n",
    "    mid = (st + ed) // 2\n",
    "    left, right = find(seg, range1, range2, idx * 2, st, mid), find(seg, range1, range2, idx * 2 + 1, mid + 1, ed)\n",
    "    return min(left, right)\n",
    "\n",
    "def update(seg, st, ed, idx, update_idx, update_num):\n",
    "    if (st > update_idx) or (ed < update_idx):\n",
    "        return\n",
    "\n",
    "    if st == ed:\n",
    "        seg[idx] = update_num    \n",
    "        return\n",
    "\n",
    "    mid = (st + ed) // 2\n",
    "    update(seg, st, mid, idx * 2, update_idx, update_num)\n",
    "    update(seg, mid + 1, ed, idx * 2 + 1, update_idx, update_num)\n",
    "    seg[idx] = min(seg[idx*2], seg[idx*2+1])\n",
    "\n",
    "def solution():\n",
    "    N = int(input())\n",
    "    numbers = list(map(int, input().split()))\n",
    "    M = int(input())\n",
    "\n",
    "    h = math.ceil(math.log2(N)) + 1\n",
    "    nodeNum = 1 << h\n",
    "    seg = [0 for _ in range(nodeNum)]\n",
    "    makeSegTree(numbers, seg, 1, 0, len(numbers) - 1)\n",
    "\n",
    "    for _ in range(M):\n",
    "        cmd, i, v = map(int, input().split())\n",
    "        if cmd == 1:\n",
    "            numbers[i-1] = v\n",
    "            update(seg, 1, N, 1, i, v)\n",
    "\n",
    "        elif cmd == 2:\n",
    "            print(find(seg, i, v, 1, 1, N))"
   ]
  },
  {
   "attachments": {},
   "cell_type": "markdown",
   "metadata": {},
   "source": [
    "## 예제입력 - 출력"
   ]
  },
  {
   "cell_type": "code",
   "execution_count": 2,
   "metadata": {},
   "outputs": [
    {
     "name": "stdout",
     "output_type": "stream",
     "text": [
      "3\n",
      "2\n",
      "2\n",
      "3\n"
     ]
    }
   ],
   "source": [
    "solution()"
   ]
  },
  {
   "cell_type": "markdown",
   "metadata": {},
   "source": [
    "## Note"
   ]
  },
  {
   "cell_type": "markdown",
   "metadata": {},
   "source": [
    "* 1. indexing을 사용해서 a가 1이면 숫자를 입력받은 List(numbers)의 숫자를 변경하고 2면 구간의 최소값을 출력한다."
   ]
  },
  {
   "attachments": {},
   "cell_type": "markdown",
   "metadata": {},
   "source": [
    "https://www.acmicpc.net/problem/14438"
   ]
  }
 ],
 "metadata": {
  "kernelspec": {
   "display_name": "ws1",
   "language": "python",
   "name": "python3"
  },
  "language_info": {
   "codemirror_mode": {
    "name": "ipython",
    "version": 3
   },
   "file_extension": ".py",
   "mimetype": "text/x-python",
   "name": "python",
   "nbconvert_exporter": "python",
   "pygments_lexer": "ipython3",
   "version": "3.12.4"
  },
  "orig_nbformat": 4,
  "vscode": {
   "interpreter": {
    "hash": "2856db72fb1e77597a3b14e9c1bb4d2315d342edc16fc9e25c6c6e499688b933"
   }
  }
 },
 "nbformat": 4,
 "nbformat_minor": 2
}
