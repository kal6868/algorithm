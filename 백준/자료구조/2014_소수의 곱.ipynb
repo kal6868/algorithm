{
 "cells": [
  {
   "attachments": {},
   "cell_type": "markdown",
   "metadata": {},
   "source": [
    "# 소수의 곱"
   ]
  },
  {
   "attachments": {},
   "cell_type": "markdown",
   "metadata": {},
   "source": [
    "## 문제"
   ]
  },
  {
   "cell_type": "markdown",
   "metadata": {},
   "source": [
    "* K개의 소수가 있다. 이때, 이 소수들 중에서 몇 개를 곱해서 얻게 되는 수들이 있을 것이다. 소수들을 선택할 때에는 같은 수를 선택해도 되며, 주어지는 소수 자체도 포함시키자."
   ]
  },
  {
   "cell_type": "markdown",
   "metadata": {},
   "source": [
    "* 예를 들어 세 소수가 2, 5, 7이었다면, 이러한 곱들을 오름차순으로 나타내 보면, 2, 4, 5, 7, 8, 10, 14, 16, 20, 25, 28, 32, 35, 등이 된다."
   ]
  },
  {
   "cell_type": "markdown",
   "metadata": {},
   "source": [
    "* K개의 소수가 주어졌을 때, 이러한 소수의 곱들 중에서 N번째 수를 구해 보자. 단 정답은 231보다 작은 자연수이다.\n"
   ]
  },
  {
   "attachments": {},
   "cell_type": "markdown",
   "metadata": {},
   "source": [
    "## 입력"
   ]
  },
  {
   "cell_type": "markdown",
   "metadata": {},
   "source": [
    "* 첫째 줄에 K(1 ≤ K ≤ 100), N(1 ≤ N ≤ 100,000)이 주어진다. 다음 줄에는 K개의 소수가 오름차순으로 주어진다. 같은 소수가 여러 번 주어지는 경우는 없으며, 주어지는 소수는 모두 541보다 작거나 같은 자연수이다."
   ]
  },
  {
   "attachments": {},
   "cell_type": "markdown",
   "metadata": {},
   "source": [
    "## 출력"
   ]
  },
  {
   "cell_type": "markdown",
   "metadata": {},
   "source": [
    "* 첫째 줄에 문제에서 설명한 대로 소수의 곱을 나열했을 때, N번째 오는 것을 출력한다."
   ]
  },
  {
   "attachments": {},
   "cell_type": "markdown",
   "metadata": {},
   "source": [
    "## Code"
   ]
  },
  {
   "cell_type": "code",
   "execution_count": 1,
   "metadata": {},
   "outputs": [],
   "source": [
    "# 2014_소수의 곱\n",
    "\n",
    "import sys\n",
    "import heapq\n",
    "\n",
    "submit = False\n",
    "input = sys.stdin.readline if submit else input\n",
    "\n",
    "def solution():\n",
    "    K, N = map(int, input().split())\n",
    "    numbers = list(map(int, input().split()))\n",
    "    heap = numbers[:]\n",
    "\n",
    "    heapq.heapify(heap)\n",
    "\n",
    "    for _ in range(N):\n",
    "        n = heapq.heappop(heap)\n",
    "        for i in range(K):\n",
    "            temp = n * numbers[i]\n",
    "            heapq.heappush(heap, temp)\n",
    "            if n % numbers[i] == 0:\n",
    "                break\n",
    "    print(n)"
   ]
  },
  {
   "attachments": {},
   "cell_type": "markdown",
   "metadata": {},
   "source": [
    "## 예제입력 - 출력"
   ]
  },
  {
   "cell_type": "code",
   "execution_count": 2,
   "metadata": {},
   "outputs": [
    {
     "name": "stdout",
     "output_type": "stream",
     "text": [
      "27\n"
     ]
    }
   ],
   "source": [
    "solution()"
   ]
  },
  {
   "cell_type": "markdown",
   "metadata": {},
   "source": [
    "## Note"
   ]
  },
  {
   "cell_type": "markdown",
   "metadata": {},
   "source": [
    "* 1. 숫자를 우선순위 큐(heap)에 넣고 가장 작은 숫자부터 heappop 메소드로 추출해서 numbers의 각 값과 곱한 수 다시 heap에 넣는다.\n",
    "    * 1\\) heappop으로 추출한 값은 heap에서 가장 작은 숫자이므로 N번만큼 반복하면 곱들을 오름차순 한 값 중 N번째 값이 나타난다.\n",
    "    * 2\\) 따라서, heappop으로 추출한 값은 heap에 다시 넣지 않고 버린다.(N번째를 찾아야 하므로)\n",
    "\n",
    "* 2. 동일한 숫자를 다시 곱하여 중복이 생길 수 있는데, 이를 막기 위해서 추출한 수(n)이 numbers에서 앞에 위치한 값의 곱만 추가한다.\n",
    "    * eg. numbers = [2, 5, 7]\n",
    "    * [2*2, 2*5, 2*7] -> heap에 넣는 값: 2*2\n",
    "    * [5*2, 5*5, 5*7] -> heap에 넣는 값: 5*2, 5*5\n",
    "    * [7*2, 7*5, 7*7] -> heap에 넣는 값: 7*2, 7*5, 7*7\n",
    "    * 대각선을 기준으로 중복이 발생하게 되므로 for문에서 자기 자신(0으로 나누어떨어지는 값) 위치의 값까지만 곱해서 heap에 넣는다."
   ]
  },
  {
   "attachments": {},
   "cell_type": "markdown",
   "metadata": {},
   "source": [
    "https://www.acmicpc.net/problem/2014"
   ]
  }
 ],
 "metadata": {
  "kernelspec": {
   "display_name": "ws1",
   "language": "python",
   "name": "python3"
  },
  "language_info": {
   "codemirror_mode": {
    "name": "ipython",
    "version": 3
   },
   "file_extension": ".py",
   "mimetype": "text/x-python",
   "name": "python",
   "nbconvert_exporter": "python",
   "pygments_lexer": "ipython3",
   "version": "3.12.4"
  },
  "orig_nbformat": 4,
  "vscode": {
   "interpreter": {
    "hash": "2856db72fb1e77597a3b14e9c1bb4d2315d342edc16fc9e25c6c6e499688b933"
   }
  }
 },
 "nbformat": 4,
 "nbformat_minor": 2
}
