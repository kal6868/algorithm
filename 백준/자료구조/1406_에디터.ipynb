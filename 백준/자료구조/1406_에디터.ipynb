{
 "cells": [
  {
   "attachments": {},
   "cell_type": "markdown",
   "metadata": {},
   "source": [
    "# 1406_에디터"
   ]
  },
  {
   "attachments": {},
   "cell_type": "markdown",
   "metadata": {},
   "source": [
    "## 문제"
   ]
  },
  {
   "cell_type": "markdown",
   "metadata": {},
   "source": [
    "* 한 줄로 된 간단한 에디터를 구현하려고 한다. 이 편집기는 영어 소문자만을 기록할 수 있는 편집기로, 최대 600,000글자까지 입력할 수 있다."
   ]
  },
  {
   "cell_type": "markdown",
   "metadata": {},
   "source": [
    "* 이 편집기에는 '커서'라는 것이 있는데, 커서는 문장의 맨 앞(첫 번째 문자의 왼쪽), 문장의 맨 뒤(마지막 문자의 오른쪽), 또는 문장 중간 임의의 곳(모든 연속된 두 문자 사이)에 위치할 수 있다. 즉 길이가 L인 문자열이 현재 편집기에 입력되어 있으면, 커서가 위치할 수 있는 곳은 L+1가지 경우가 있다."
   ]
  },
  {
   "cell_type": "markdown",
   "metadata": {},
   "source": [
    "* 이 편집기가 지원하는 명령어는 다음과 같다."
   ]
  },
  {
   "cell_type": "markdown",
   "metadata": {},
   "source": [
    "|||\n",
    "|---|---|\n",
    "|L|커서를 왼쪽으로 한 칸 옮김 (커서가 문장의 맨 앞이면 무시됨)|\n",
    "|D|커서를 오른쪽으로 한 칸 옮김 (커서가 문장의 맨 뒤이면 무시됨)|\n",
    "|B|\t커서 왼쪽에 있는 문자를 삭제함 (커서가 문장의 맨 앞이면 무시됨) 삭제로 인해 커서는 한 칸 왼쪽으로 이동한 것처럼 나타나지만, 실제로 커서의 오른쪽에 있던 문자는 그대로임|\n",
    "|P $|$라는 문자를 커서 왼쪽에 추가함|"
   ]
  },
  {
   "cell_type": "markdown",
   "metadata": {},
   "source": [
    "* 초기에 편집기에 입력되어 있는 문자열이 주어지고, 그 이후 입력한 명령어가 차례로 주어졌을 때, 모든 명령어를 수행하고 난 후 편집기에 입력되어 있는 문자열을 구하는 프로그램을 작성하시오. 단, 명령어가 수행되기 전에 커서는 문장의 맨 뒤에 위치하고 있다고 한다."
   ]
  },
  {
   "attachments": {},
   "cell_type": "markdown",
   "metadata": {},
   "source": [
    "## 입력"
   ]
  },
  {
   "cell_type": "markdown",
   "metadata": {},
   "source": [
    "* 첫째 줄에는 초기에 편집기에 입력되어 있는 문자열이 주어진다. 이 문자열은 길이가 N이고, 영어 소문자로만 이루어져 있으며, 길이는 100,000을 넘지 않는다. 둘째 줄에는 입력할 명령어의 개수를 나타내는 정수 M(1 ≤ M ≤ 500,000)이 주어진다. 셋째 줄부터 M개의 줄에 걸쳐 입력할 명령어가 순서대로 주어진다. 명령어는 위의 네 가지 중 하나의 형태로만 주어진다."
   ]
  },
  {
   "attachments": {},
   "cell_type": "markdown",
   "metadata": {},
   "source": [
    "## 출력"
   ]
  },
  {
   "attachments": {},
   "cell_type": "markdown",
   "metadata": {},
   "source": [
    "* 첫째 줄에 모든 명령어를 수행하고 난 후 편집기에 입력되어 있는 문자열을 출력한다."
   ]
  },
  {
   "attachments": {},
   "cell_type": "markdown",
   "metadata": {},
   "source": [
    "## Code"
   ]
  },
  {
   "cell_type": "code",
   "execution_count": 1,
   "metadata": {},
   "outputs": [],
   "source": [
    "# 1406_에디터 # List 풀이\n",
    "\n",
    "import sys\n",
    "\n",
    "submit = False\n",
    "input = sys.stdin.readline if submit else input\n",
    "\n",
    "def solution():\n",
    "    s = list(input().strip())\n",
    "    M = int(input())\n",
    "    temp = []\n",
    "    for _ in range(M):\n",
    "        cmd = input().strip()\n",
    "        if len(cmd) != 1:\n",
    "            cmd, new_s = cmd.split()\n",
    "\n",
    "        if cmd == 'L':\n",
    "            if s:\n",
    "                temp.append(s.pop())\n",
    "        elif cmd == 'D':\n",
    "            if temp:\n",
    "                s.append(temp.pop())\n",
    "        elif cmd == 'B':\n",
    "            if s:\n",
    "                s.pop()\n",
    "        elif cmd == 'P':\n",
    "            s.append(new_s)\n",
    "\n",
    "    temp.reverse()\n",
    "    print(''.join(s + temp))"
   ]
  },
  {
   "attachments": {},
   "cell_type": "markdown",
   "metadata": {},
   "source": [
    "## 예제입력 - 출력"
   ]
  },
  {
   "cell_type": "code",
   "execution_count": 2,
   "metadata": {},
   "outputs": [
    {
     "name": "stdout",
     "output_type": "stream",
     "text": [
      "abcdyx\n"
     ]
    }
   ],
   "source": [
    "solution()"
   ]
  },
  {
   "cell_type": "code",
   "execution_count": 3,
   "metadata": {},
   "outputs": [
    {
     "name": "stdout",
     "output_type": "stream",
     "text": [
      "yxabc\n"
     ]
    }
   ],
   "source": [
    "solution()"
   ]
  },
  {
   "cell_type": "code",
   "execution_count": 4,
   "metadata": {},
   "outputs": [
    {
     "name": "stdout",
     "output_type": "stream",
     "text": [
      "yxz\n"
     ]
    }
   ],
   "source": [
    "solution()"
   ]
  },
  {
   "attachments": {},
   "cell_type": "markdown",
   "metadata": {},
   "source": [
    "## Note"
   ]
  },
  {
   "cell_type": "markdown",
   "metadata": {},
   "source": [
    "* 1. 커서를 기준으로 왼쪽, 오른쪽의 문자열을 저장할 stack을 각각 생성한 후 커서에 이동에 따라 문자열을 각 stack으로 이동시킨다.\n",
    "    * 1\\) 입력이 L일 경우:\n",
    "        * 커서를 왼쪽으로 옮기므로 커서 왼쪽의 문자열을 저장한 stack에서 마지막 문자열을 오른쪽 문자열을 저장한 stack 오른쪽으로 이동시킨다.\n",
    "        * 왼쪽 stack이 비어있을 경우 명령을 무시한다.\n",
    "        * eg. ['a', 'b', 'c', 'd'], [] -> ['a', 'b', 'c'], ['d']\n",
    "\n",
    "    * 2\\) 입력이 D일 경우:\n",
    "        * 커서를 오른쪽으로 옮기므로 커서 오른쪽의 문자열을 저장한 stack에서 마지막 문자열을 왼쪽 문자열을 저장한 stack으로 이동시킨다.\n",
    "        * 오른쪽 stack이 비어있을 경우 명령을 무시한다.\n",
    "        * eg. ['a', 'b', 'c'], ['d'] -> ['a', 'b', 'c', 'd'], []\n",
    "\n",
    "    * 3\\) 입력이 B일 경우:\n",
    "        * 커서를 왼쪽 문자열을 저정한 stack에서 마지막 값을 제거한다.\n",
    "        * 왼쪽 문자열을 저정한 stack이 비어있을 경우 무시한다.\n",
    "    \n",
    "    * 4\\) 커서를 왼쪽 문자열을 저정한 stack에서 문자열을 추가한다.\n",
    "\n",
    "* 커서 왼쪽의 문자열을 저장한 stack과 커서 오른쩍의 문자열을 저장한 stack을 거꾸로하여 두 stack을 합친 후 문자열으로 출력한다."
   ]
  },
  {
   "attachments": {},
   "cell_type": "markdown",
   "metadata": {},
   "source": [
    "https://www.acmicpc.net/problem/1406"
   ]
  }
 ],
 "metadata": {
  "kernelspec": {
   "display_name": "ws1",
   "language": "python",
   "name": "python3"
  },
  "language_info": {
   "codemirror_mode": {
    "name": "ipython",
    "version": 3
   },
   "file_extension": ".py",
   "mimetype": "text/x-python",
   "name": "python",
   "nbconvert_exporter": "python",
   "pygments_lexer": "ipython3",
   "version": "3.12.4"
  },
  "orig_nbformat": 4,
  "vscode": {
   "interpreter": {
    "hash": "2856db72fb1e77597a3b14e9c1bb4d2315d342edc16fc9e25c6c6e499688b933"
   }
  }
 },
 "nbformat": 4,
 "nbformat_minor": 2
}
