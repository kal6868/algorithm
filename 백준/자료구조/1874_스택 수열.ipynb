{
 "cells": [
  {
   "attachments": {},
   "cell_type": "markdown",
   "metadata": {},
   "source": [
    "# 스택 수열"
   ]
  },
  {
   "attachments": {},
   "cell_type": "markdown",
   "metadata": {},
   "source": [
    "## 문제"
   ]
  },
  {
   "cell_type": "markdown",
   "metadata": {},
   "source": [
    "* 스택 (stack)은 기본적인 자료구조 중 하나로, 컴퓨터 프로그램을 작성할 때 자주 이용되는 개념이다. 스택은 자료를 넣는 (push) 입구와 자료를 뽑는 (pop) 입구가 같아 제일 나중에 들어간 자료가 제일 먼저 나오는 (LIFO, Last in First out) 특성을 가지고 있다."
   ]
  },
  {
   "cell_type": "markdown",
   "metadata": {},
   "source": [
    "* 1부터 n까지의 수를 스택에 넣었다가 뽑아 늘어놓음으로써, 하나의 수열을 만들 수 있다. 이때, 스택에 push하는 순서는 반드시 오름차순을 지키도록 한다고 하자. 임의의 수열이 주어졌을 때 스택을 이용해 그 수열을 만들 수 있는지 없는지, 있다면 어떤 순서로 push와 pop 연산을 수행해야 하는지를 알아낼 수 있다. 이를 계산하는 프로그램을 작성하라."
   ]
  },
  {
   "attachments": {},
   "cell_type": "markdown",
   "metadata": {},
   "source": [
    "## 입력"
   ]
  },
  {
   "cell_type": "markdown",
   "metadata": {},
   "source": [
    "* 첫 줄에 n (1 ≤ n ≤ 100,000)이 주어진다. 둘째 줄부터 n개의 줄에는 수열을 이루는 1이상 n이하의 정수가 하나씩 순서대로 주어진다. 물론 같은 정수가 두 번 나오는 일은 없다."
   ]
  },
  {
   "attachments": {},
   "cell_type": "markdown",
   "metadata": {},
   "source": [
    "## 출력"
   ]
  },
  {
   "cell_type": "markdown",
   "metadata": {},
   "source": [
    "* 입력된 수열을 만들기 위해 필요한 연산을 한 줄에 한 개씩 출력한다. push연산은 +로, pop 연산은 -로 표현하도록 한다. 불가능한 경우 NO를 출력한다."
   ]
  },
  {
   "attachments": {},
   "cell_type": "markdown",
   "metadata": {},
   "source": [
    "## Code"
   ]
  },
  {
   "cell_type": "code",
   "execution_count": 1,
   "metadata": {},
   "outputs": [],
   "source": [
    "#1874_스택 수열\n",
    "import sys\n",
    "from collections import deque\n",
    "\n",
    "submit = False\n",
    "input = sys.stdin.readline if submit else input\n",
    "\n",
    "\n",
    "def solution():\n",
    "    n = int(input())\n",
    "    stack, answer, status = deque(), [], True\n",
    "\n",
    "    num_present = 1\n",
    "    for _ in range(n):\n",
    "        num = int(input())\n",
    "        while num_present <= num:\n",
    "            stack.append(num_present)\n",
    "            answer.append('+')\n",
    "            num_present += 1\n",
    "        if stack[-1] == num:\n",
    "            stack.pop()\n",
    "            answer.append('-')\n",
    "        else:\n",
    "            status = False\n",
    "\n",
    "    print(*answer, sep='\\n') if status else print('NO')\n"
   ]
  },
  {
   "cell_type": "code",
   "execution_count": 2,
   "metadata": {},
   "outputs": [
    {
     "name": "stdout",
     "output_type": "stream",
     "text": [
      "+\n",
      "+\n",
      "+\n",
      "+\n",
      "-\n",
      "-\n",
      "+\n",
      "+\n",
      "-\n",
      "+\n",
      "+\n",
      "-\n",
      "-\n",
      "-\n",
      "-\n",
      "-\n"
     ]
    }
   ],
   "source": [
    "solution()"
   ]
  },
  {
   "cell_type": "code",
   "execution_count": 3,
   "metadata": {},
   "outputs": [
    {
     "name": "stdout",
     "output_type": "stream",
     "text": [
      "NO\n"
     ]
    }
   ],
   "source": [
    "solution()"
   ]
  },
  {
   "attachments": {},
   "cell_type": "markdown",
   "metadata": {},
   "source": [
    "## Note"
   ]
  },
  {
   "cell_type": "markdown",
   "metadata": {},
   "source": [
    "* 1. 입력된 숫자까지의 숫자를 stack에 숫자를 넣고 주어진 숫자를 빼는 과정을 반복하면서 stack 숫자가 들어가면 '+', 숫자가 빠지면 '-'를 저장한다.\n",
    "    * ex. 숫자를 stack에 넣고 빼는 과정을 반복한다\n",
    "    * 입력된 숫자: 4 | stack: [1, 2, 3, 4], answer: ['+', '+', '+', '+'] -> [1, 2, 3], ['+', '+', '+', '+', '-']\n",
    "    * 입력된 숫자: 3 | stack: [1, 2, 3], answer: ['+', '+', '+', '+', '-', '-']\n",
    "    * 입력된 숫자: 6 | stack: [1, 2, 3, 5, 6], answer: ['+', '+', '+', '+', '-', '-', '+', '+', '+'] -> [1, 2, 3, 5], ['+', '+', '+', '+', '-', '-', '+', '+', '+', '-']\n",
    "    * 입력된 숫자: 8 | stack: [1, 2, 3, 5, 7, 8], answer: ['+', '+', '+', '+', '-', '-', '+', '+', '+', '-', '+', '+'] -> [1, 2, 3, 5, 7], ['+', '+', '+', '+', '-', '-', '+', '+', '+', '-', '+', '+', -']\n",
    "* 2. stack에 남은 마지막 숫자가 주어진 숫자보다 작은 경우 숫자를 다시 넣을 수는 없으므로 수열을 만들 수 없어 status 값을 False 변경한다.\n",
    "    * status가 True면 answer에 저장된 '+', '-'를 출력하고 False면 'NO'를 출력한다.\n"
   ]
  },
  {
   "cell_type": "markdown",
   "metadata": {},
   "source": [
    "https://www.acmicpc.net/problem/1874"
   ]
  }
 ],
 "metadata": {
  "kernelspec": {
   "display_name": "ws1",
   "language": "python",
   "name": "python3"
  },
  "language_info": {
   "codemirror_mode": {
    "name": "ipython",
    "version": 3
   },
   "file_extension": ".py",
   "mimetype": "text/x-python",
   "name": "python",
   "nbconvert_exporter": "python",
   "pygments_lexer": "ipython3",
   "version": "3.11.5"
  },
  "orig_nbformat": 4,
  "vscode": {
   "interpreter": {
    "hash": "2856db72fb1e77597a3b14e9c1bb4d2315d342edc16fc9e25c6c6e499688b933"
   }
  }
 },
 "nbformat": 4,
 "nbformat_minor": 2
}
