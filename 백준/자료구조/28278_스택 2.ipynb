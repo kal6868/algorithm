{
 "cells": [
  {
   "attachments": {},
   "cell_type": "markdown",
   "metadata": {},
   "source": [
    "# 스택 2"
   ]
  },
  {
   "attachments": {},
   "cell_type": "markdown",
   "metadata": {},
   "source": [
    "## 문제"
   ]
  },
  {
   "cell_type": "markdown",
   "metadata": {},
   "source": [
    "* 정수를 저장하는 스택을 구현한 다음, 입력으로 주어지는 명령을 처리하는 프로그램을 작성하시오."
   ]
  },
  {
   "cell_type": "markdown",
   "metadata": {},
   "source": [
    "* 명령은 총 다섯 가지이다.\n",
    "   *  1 X: 정수 X를 스택에 넣는다. (1 ≤ X ≤ 100,000)\n",
    "   * 2: 스택에 정수가 있다면 맨 위의 정수를 빼고 출력한다. 없다면 -1을 대신 출력한다.\n",
    "   * 3: 스택에 들어있는 정수의 개수를 출력한다.\n",
    "   * 4: 스택이 비어있으면 1, 아니면 0을 출력한다.\n",
    "   * 5: 스택에 정수가 있다면 맨 위의 정수를 출력한다. 없다면 -1을 대신 출력한다."
   ]
  },
  {
   "cell_type": "markdown",
   "metadata": {},
   "source": [
    "* Q에 적용될 일련의 연산이 주어질 때 이를 처리한 후 최종적으로 Q에 저장된 데이터 중 최댓값과 최솟값을 출력하는 프로그램을 작성하라."
   ]
  },
  {
   "attachments": {},
   "cell_type": "markdown",
   "metadata": {},
   "source": [
    "## 입력"
   ]
  },
  {
   "attachments": {},
   "cell_type": "markdown",
   "metadata": {},
   "source": [
    "* 첫째 줄에 명령의 수 N이 주어진다. (1 ≤ N ≤ 1,000,000)"
   ]
  },
  {
   "cell_type": "markdown",
   "metadata": {},
   "source": [
    "* 둘째 줄부터 N개 줄에 명령이 하나씩 주어진다."
   ]
  },
  {
   "cell_type": "markdown",
   "metadata": {},
   "source": [
    "* 출력을 요구하는 명령은 하나 이상 주어진다."
   ]
  },
  {
   "attachments": {},
   "cell_type": "markdown",
   "metadata": {},
   "source": [
    "## 출력"
   ]
  },
  {
   "attachments": {},
   "cell_type": "markdown",
   "metadata": {},
   "source": [
    "* 출력을 요구하는 명령이 주어질 때마다 명령의 결과를 한 줄에 하나씩 출력한다."
   ]
  },
  {
   "attachments": {},
   "cell_type": "markdown",
   "metadata": {},
   "source": [
    "## Code"
   ]
  },
  {
   "cell_type": "code",
   "execution_count": 1,
   "metadata": {},
   "outputs": [],
   "source": [
    "# 27278_스택 2\n",
    "\n",
    "import sys\n",
    "from collections import deque\n",
    "\n",
    "submit = False\n",
    "input = sys.stdin.readline if submit else input\n",
    "\n",
    "def solution():\n",
    "    stack = deque([])\n",
    "    N = int(input())\n",
    "    for _ in range(N):\n",
    "        input_cmd = input().split()\n",
    "        if len(input_cmd) == 1:\n",
    "            cmd = int(input_cmd[0])\n",
    "        else:\n",
    "            cmd, n = int(input_cmd[0]), int(input_cmd[1])\n",
    "        \n",
    "        if cmd == 1:\n",
    "            stack.append(n)\n",
    "        elif cmd == 2:\n",
    "            if stack:\n",
    "                print(stack.pop())\n",
    "            else:\n",
    "                print(-1)\n",
    "        elif cmd == 3:\n",
    "            print(len(stack))\n",
    "        elif cmd == 4:\n",
    "            if stack:\n",
    "                print(0)\n",
    "            else:\n",
    "                print(1)\n",
    "        elif cmd == 5:\n",
    "            if stack:\n",
    "                print(stack[-1])\n",
    "            else:\n",
    "                print(-1)"
   ]
  },
  {
   "cell_type": "code",
   "execution_count": null,
   "metadata": {},
   "outputs": [],
   "source": [
    "# 27278_스택 2\n",
    "\n",
    "import sys\n",
    "from collections import deque\n",
    "\n",
    "submit = False\n",
    "input = sys.stdin.readline if submit else input\n",
    "\n",
    "def solution():\n",
    "    stack = deque([])\n",
    "    N = int(input())\n",
    "    for _ in range(N):\n",
    "        input_cmd = input().split()\n",
    "        if len(input_cmd) == 1:\n",
    "            cmd = int(input_cmd[0])\n",
    "        else:\n",
    "            cmd, n = int(input_cmd[0]), int(input_cmd[1])\n",
    "        \n",
    "        if cmd == 1:\n",
    "            stack.append(n)\n",
    "        elif cmd == 2:\n",
    "            if stack:\n",
    "                print(stack.pop())\n",
    "            else:\n",
    "                print(-1)\n",
    "        elif cmd == 3:\n",
    "            print(len(stack))\n",
    "        elif cmd == 4:\n",
    "            if stack:\n",
    "                print(0)\n",
    "            else:\n",
    "                print(1)\n",
    "        elif cmd == 5:\n",
    "            if stack:\n",
    "                print(stack[-1])\n",
    "            else:\n",
    "                print(-1)"
   ]
  },
  {
   "attachments": {},
   "cell_type": "markdown",
   "metadata": {},
   "source": [
    "## 예제입력 - 출력"
   ]
  },
  {
   "cell_type": "code",
   "execution_count": 2,
   "metadata": {},
   "outputs": [
    {
     "name": "stdout",
     "output_type": "stream",
     "text": [
      "1\n",
      "2\n",
      "5\n",
      "3\n",
      "3\n",
      "-1\n",
      "-1\n"
     ]
    }
   ],
   "source": [
    "solution()"
   ]
  },
  {
   "attachments": {},
   "cell_type": "markdown",
   "metadata": {},
   "source": [
    "## Note"
   ]
  },
  {
   "cell_type": "markdown",
   "metadata": {},
   "source": [
    "* 1. 입력에 따라 stack(List)에서 LIFO(Last In First Out)을 구현한다.\n",
    "    * 1\\) append 메서드를 사용해 stack에 정수를 추가한다\n",
    "    * 2\\) 정수가 있으면 pop 메서드를 이용해 가장 마지막에 추가된 정수를 빼고 출력한다\n",
    "        * stack이 비어있으면 -1을 출력한다\n",
    "    * 3\\) len 함수를 사용하여 정수의 개수를 출력한다.\n",
    "    * 4\\) 스택이 비어있으면 1 아니면 0을 출력한다.\n",
    "    * 5\\) stack이 비어있지 않으면 맨 마지막에 입력된 정수를 출력한다."
   ]
  },
  {
   "attachments": {},
   "cell_type": "markdown",
   "metadata": {},
   "source": [
    "https://www.acmicpc.net/problem/28278"
   ]
  }
 ],
 "metadata": {
  "kernelspec": {
   "display_name": "ws1",
   "language": "python",
   "name": "python3"
  },
  "language_info": {
   "codemirror_mode": {
    "name": "ipython",
    "version": 3
   },
   "file_extension": ".py",
   "mimetype": "text/x-python",
   "name": "python",
   "nbconvert_exporter": "python",
   "pygments_lexer": "ipython3",
   "version": "3.12.4"
  },
  "orig_nbformat": 4,
  "vscode": {
   "interpreter": {
    "hash": "2856db72fb1e77597a3b14e9c1bb4d2315d342edc16fc9e25c6c6e499688b933"
   }
  }
 },
 "nbformat": 4,
 "nbformat_minor": 2
}
