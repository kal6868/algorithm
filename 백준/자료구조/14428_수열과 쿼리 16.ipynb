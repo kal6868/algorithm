{
 "cells": [
  {
   "attachments": {},
   "cell_type": "markdown",
   "metadata": {},
   "source": [
    "# 수열과 쿼리 16"
   ]
  },
  {
   "attachments": {},
   "cell_type": "markdown",
   "metadata": {},
   "source": [
    "## 문제"
   ]
  },
  {
   "cell_type": "markdown",
   "metadata": {},
   "source": [
    "* 길이가 N인 수열 A1, A2, ..., AN이 주어진다. 이때, 다음 쿼리를 수행하는 프로그램을 작성하시오.\n",
    "    * 1 i v : Ai를 v로 바꾼다. (1 ≤ i ≤ N, 1 ≤ v ≤ 109)\n",
    "    * 2 i j : Ai, Ai+1, ..., Aj에서 크기가 가장 작은 값의 인덱스를 출력한다. 그러한 값이 여러개인 경우에는 인덱스가 작은 것을 출력한다. (1 ≤ i ≤ j ≤ N, 1 ≤ v ≤ 109)"
   ]
  },
  {
   "cell_type": "markdown",
   "metadata": {},
   "source": [
    "* 수열의 인덱스는 1부터 시작한다."
   ]
  },
  {
   "attachments": {},
   "cell_type": "markdown",
   "metadata": {},
   "source": [
    "## 입력"
   ]
  },
  {
   "cell_type": "markdown",
   "metadata": {},
   "source": [
    "* 첫째 줄에 수열의 크기 N이 주어진다. (1 ≤ N ≤ 100,000)"
   ]
  },
  {
   "cell_type": "markdown",
   "metadata": {},
   "source": [
    "* 둘째 줄에는 A1, A2, ..., AN이 주어진다. (1 ≤ Ai ≤ 109)"
   ]
  },
  {
   "cell_type": "markdown",
   "metadata": {},
   "source": [
    "* 셋째 줄에는 쿼리의 개수 M이 주어진다. (1 ≤ M ≤ 100,000)"
   ]
  },
  {
   "cell_type": "markdown",
   "metadata": {},
   "source": [
    "* 넷째 줄부터 M개의 줄에는 쿼리가 주어진다."
   ]
  },
  {
   "attachments": {},
   "cell_type": "markdown",
   "metadata": {},
   "source": [
    "## 출력"
   ]
  },
  {
   "cell_type": "markdown",
   "metadata": {},
   "source": [
    "* 2번 쿼리에 대해서 정답을 한 줄에 하나씩 순서대로 출력한다."
   ]
  },
  {
   "attachments": {},
   "cell_type": "markdown",
   "metadata": {},
   "source": [
    "## Code"
   ]
  },
  {
   "cell_type": "code",
   "execution_count": 1,
   "metadata": {},
   "outputs": [],
   "source": [
    "# 14428_수열과 쿼리 16\n",
    "\n",
    "import sys\n",
    "import math\n",
    "\n",
    "submit = False\n",
    "input = sys.stdin.readline if submit else input\n",
    "\n",
    "class SegmentTree:\n",
    "    def __init__(self, arr):\n",
    "        self.arr = arr\n",
    "        h = math.ceil(math.log2(len(arr))) + 1\n",
    "        nodeNum = 1 << h\n",
    "        # nodeNum = 1 ** h\n",
    "        self.seg = [0 for _ in range(nodeNum)]\n",
    "        self.makeSegTree(self.arr, self.seg, 1, 0, len(arr) - 1)\n",
    "\n",
    "    def makeSegTree(self, arr, seg, idx, st, ed):\n",
    "        if st == ed:\n",
    "            seg[idx] = arr[st]\n",
    "            return seg[idx]\n",
    "        \n",
    "        mid = (st + ed) // 2\n",
    "        left, right = self.makeSegTree(arr, seg, idx * 2, st, mid), self.makeSegTree(arr, seg, idx * 2 + 1, mid+1, ed)\n",
    "        seg[idx] = min(left, right)\n",
    "        return seg[idx]\n",
    "\n",
    "    def find(self, range1, range2, idx, st, ed):\n",
    "        if range2 < st or range1 > ed:\n",
    "            return [10**9+1, 10**9+1]\n",
    "        if range1 <= st and ed <= range2:\n",
    "            return self.seg[idx]\n",
    "        \n",
    "        mid = (st + ed) // 2\n",
    "        left, right = self.find(range1, range2, idx * 2, st, mid), self.find(range1, range2, idx * 2 + 1, mid + 1, ed)\n",
    "        return min(left, right)\n",
    "   \n",
    "    def update(self, update_idx, update_num, idx, st, ed):\n",
    "        if (st > update_idx) or (ed < update_idx):\n",
    "            return \n",
    "\n",
    "        if st == ed:\n",
    "            self.seg[idx][0] = update_num\n",
    "            return\n",
    "\n",
    "        mid = (st + ed) // 2\n",
    "        self.update(update_idx, update_num, idx * 2, st, mid)\n",
    "        self.update(update_idx, update_num, idx * 2 + 1, mid + 1, ed)\n",
    "        self.seg[idx] = min(self.seg[idx*2], self.seg[idx*2+1])\n",
    "\n",
    "def solution():\n",
    "    N = int(input())\n",
    "    arr = list(map(int, input().split()))\n",
    "    arr = [[v, i] for i, v in enumerate(arr)]\n",
    "    segtree = SegmentTree(arr)\n",
    "\n",
    "    answer = []\n",
    "    M = int(input())\n",
    "    for _ in range(M):\n",
    "        query = list(map(int, input().split()))\n",
    "        cmd = query[0]\n",
    "        if cmd == 1:\n",
    "            i, v = query[1:]\n",
    "            segtree.arr[i-1] = [v, i-1]\n",
    "            segtree.update(i, v, 1, 1, N)\n",
    "        elif cmd == 2:\n",
    "            i, j = query[1:]\n",
    "            answer.append(segtree.find(i, j, 1, 1, N))\n",
    "\n",
    "    print(*[i+1 for _, i in answer], sep='\\n')\n"
   ]
  },
  {
   "attachments": {},
   "cell_type": "markdown",
   "metadata": {},
   "source": [
    "## 예제입력 - 출력"
   ]
  },
  {
   "cell_type": "code",
   "execution_count": 2,
   "metadata": {},
   "outputs": [
    {
     "name": "stdout",
     "output_type": "stream",
     "text": [
      "3\n",
      "4\n",
      "4\n",
      "3\n"
     ]
    }
   ],
   "source": [
    "solution()"
   ]
  },
  {
   "cell_type": "markdown",
   "metadata": {},
   "source": [
    "## Note"
   ]
  },
  {
   "attachments": {},
   "cell_type": "markdown",
   "metadata": {},
   "source": [
    "https://www.acmicpc.net/problem/14428"
   ]
  }
 ],
 "metadata": {
  "kernelspec": {
   "display_name": "ws1",
   "language": "python",
   "name": "python3"
  },
  "language_info": {
   "codemirror_mode": {
    "name": "ipython",
    "version": 3
   },
   "file_extension": ".py",
   "mimetype": "text/x-python",
   "name": "python",
   "nbconvert_exporter": "python",
   "pygments_lexer": "ipython3",
   "version": "3.12.4"
  },
  "orig_nbformat": 4,
  "vscode": {
   "interpreter": {
    "hash": "2856db72fb1e77597a3b14e9c1bb4d2315d342edc16fc9e25c6c6e499688b933"
   }
  }
 },
 "nbformat": 4,
 "nbformat_minor": 2
}
