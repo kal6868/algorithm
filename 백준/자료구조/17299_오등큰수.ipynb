{
 "cells": [
  {
   "attachments": {},
   "cell_type": "markdown",
   "metadata": {},
   "source": [
    "# 오등큰수"
   ]
  },
  {
   "attachments": {},
   "cell_type": "markdown",
   "metadata": {},
   "source": [
    "## 문제"
   ]
  },
  {
   "cell_type": "markdown",
   "metadata": {},
   "source": [
    "* 크기가 N인 수열 A = A1, A2, ..., AN이 있다. 수열의 각 원소 Ai에 대해서 오등큰수 NGF(i)를 구하려고 한다."
   ]
  },
  {
   "cell_type": "markdown",
   "metadata": {},
   "source": [
    "* Ai가 수열 A에서 등장한 횟수를 F(Ai)라고 했을 때, Ai의 오등큰수는 오른쪽에 있으면서 수열 A에서 등장한 횟수가 F(Ai)보다 큰 수 중에서 가장 왼쪽에 있는 수를 의미한다. 그러한 수가 없는 경우에 오등큰수는 -1이다."
   ]
  },
  {
   "cell_type": "markdown",
   "metadata": {},
   "source": [
    "* 예를 들어, A = [1, 1, 2, 3, 4, 2, 1]인 경우 F(1) = 3, F(2) = 2, F(3) = 1, F(4) = 1이다. A1의 오른쪽에 있으면서 등장한 횟수가 3보다 큰 수는 없기 때문에, NGF(1) = -1이다. A3의 경우에는 A7이 오른쪽에 있으면서 F(A3=2) < F(A7=1) 이기 때문에, NGF(3) = 1이다. NGF(4) = 2, NGF(5) = 2, NGF(6) = 1 이다."
   ]
  },
  {
   "attachments": {},
   "cell_type": "markdown",
   "metadata": {},
   "source": [
    "## 입력"
   ]
  },
  {
   "cell_type": "markdown",
   "metadata": {},
   "source": [
    "* 첫째 줄에 수열 A의 크기 N (1 ≤ N ≤ 1,000,000)이 주어진다. 둘째에 수열 A의 원소 A1, A2, ..., AN (1 ≤ Ai ≤ 1,000,000)이 주어진다."
   ]
  },
  {
   "attachments": {},
   "cell_type": "markdown",
   "metadata": {},
   "source": [
    "## 출력"
   ]
  },
  {
   "cell_type": "markdown",
   "metadata": {},
   "source": [
    "* 총 N개의 수 NGF(1), NGF(2), ..., NGF(N)을 공백으로 구분해 출력한다."
   ]
  },
  {
   "attachments": {},
   "cell_type": "markdown",
   "metadata": {},
   "source": [
    "## Code"
   ]
  },
  {
   "cell_type": "code",
   "execution_count": 1,
   "metadata": {},
   "outputs": [],
   "source": [
    "# 17299_오등큰수 # List 풀이\n",
    "import sys\n",
    "\n",
    "submit = False\n",
    "input = sys.stdin.readline if submit else input\n",
    "\n",
    "def solution():\n",
    "    N = int(input())\n",
    "    numbers = list(map(int, input().split()))\n",
    "\n",
    "    agg = {}\n",
    "    for n in numbers:\n",
    "        if n not in agg:\n",
    "            agg[n] = 1\n",
    "        else:\n",
    "            agg[n] += 1\n",
    "\n",
    "    stack, result = [], [-1] * N\n",
    "    for i in range(N):\n",
    "        while (stack) and (agg[numbers[stack[-1]]] < agg[numbers[i]]):\n",
    "            result[stack.pop()] = numbers[i]\n",
    "        stack.append(i)\n",
    "    print(*result)"
   ]
  },
  {
   "cell_type": "code",
   "execution_count": null,
   "metadata": {},
   "outputs": [],
   "source": [
    "# 17299_오등큰수 # deque 풀이\n",
    "import sys\n",
    "from collections import deque\n",
    "\n",
    "submit = False\n",
    "input = sys.stdin.readline if submit else input\n",
    "\n",
    "def solution():\n",
    "    N = int(input())\n",
    "    numbers = list(map(int, input().split()))\n",
    "\n",
    "    agg = {}\n",
    "    for n in numbers:\n",
    "        if n not in agg:\n",
    "            agg[n] = 1\n",
    "        else:\n",
    "            agg[n] += 1\n",
    "\n",
    "    stack, result = deque([]), [-1] * N\n",
    "    for i in range(N):\n",
    "        while (stack) and (agg[numbers[stack[-1]]] < agg[numbers[i]]):\n",
    "            result[stack.pop()] = numbers[i]\n",
    "        stack.append(i)\n",
    "    print(*result)"
   ]
  },
  {
   "attachments": {},
   "cell_type": "markdown",
   "metadata": {},
   "source": [
    "## 예제입력 - 출력"
   ]
  },
  {
   "cell_type": "code",
   "execution_count": 2,
   "metadata": {},
   "outputs": [
    {
     "name": "stdout",
     "output_type": "stream",
     "text": [
      "-1 -1 1 2 2 1 -1\n"
     ]
    }
   ],
   "source": [
    "solution()"
   ]
  },
  {
   "cell_type": "markdown",
   "metadata": {},
   "source": [
    "## Note"
   ]
  },
  {
   "cell_type": "markdown",
   "metadata": {},
   "source": [
    "### 풀이 1\n",
    "\n",
    "* 1. stack에 index를 저장하고 for문을 통해 탐색한 값이 이전 index 값보다 큰지 비교 후 업데이트 한다.\n",
    "    * 1\\) 현재 index에 위치한 수가 이전 stack에 저장된 index에 위치한 수의 오등큰수인지를 확인하는 것\n",
    "    * e.g [1, 1, 2, 3, 4, 2, 1], stack = [], result = [-1, -1, -1, -1, -1, -1, -1]\n",
    "        * i == 0: stack이 비어있으므로 if문은 실행하지 않고 0을 추가한다. stack = [0]\n",
    "            * stack [0], result = [-1, -1, -1, -1, -1, -1, -1]\n",
    "        * i == 1: agg[numbers[0]] == 3, agg[numbers[1]] == 3이므로 result[1]은 -1이 되고  stack에 1 추가\n",
    "            * stack: [0, 1],  result = [-1, -1, -1, -1, -1, -1, -1]\n",
    "        * i == 2: agg[numbers[1]] == 3, agg[numbers[2]] == 2이므로 result[2]은 -1이 되고 stack에 2 추가\n",
    "            * stack: [0, 1, 2],  result = [-1, -1, -1, -1, -1, -1, -1]\n",
    "        * i == 3: agg[numbers[2]] == 2, agg[numbers[3]] == 1이므로 result[3]은 -1이 되고 stack에 3 추가\n",
    "            * stack: [0, 1, 2, 3],  result = [-1, -1, -1, -1, -1, -1, -1]\n",
    "        * i == 4: agg[numbers[3]] == 1, agg[numbers[4]] == 1이므로 result[4]은 -1이 되고 stack에 4 추가\n",
    "            * stack: [0, 1, 2, 3, 4],  result = [-1, -1, -1, -1, -1, -1, -1]\n",
    "        * i == 5: agg[numbers[4]] == 1, agg[numbers[5]] == 2 이므로 이전 index의 오큰수를 업데이트  \n",
    "            * stack: [0, 1, 2, 3],  result = [-1, -1, -1, -1, 2, -1, -1]\n",
    "        * i == 5: agg[numbers[3]] == 1, agg[numbers[5]] == 2 이므로 이전 index의 오큰수를 업데이트  \n",
    "            * stack: [0, 1, 2],  result = [-1, -1, -1, 2, 2, -1, -1]\n",
    "        * i == 5: agg[numbers[2]] == 2, agg[numbers[5]] == 2 이므로 업데이트를 멈추고 stack 5 추가\n",
    "            * stack: [0, 1, 2, 5],  result = [-1, -1, -1, 2, 2, -1, -1]\n",
    "        * i == 6: agg[numbers[5]] == 2, agg[numbers[6]] == 3 이므로 이전 index의 오큰수를 업데이트  \n",
    "            * stack: [0, 1, 2],  result = [-1, -1, -1, 2, 2, 1, -1]\n",
    "        * i == 6: agg[numbers[2]] == 2, agg[numbers[6]] == 3 이므로 이전 index의 오큰수를 업데이트  \n",
    "            * stack: [0, 1],  result = [-1, -1, 2, 2, 2, 1, -1]\n",
    "        * i == 6: agg[numbers[1]] == 3, agg[numbers[6]] == 3 이므로 업데이트를 멈추고 stack 6 추가\n",
    "            * stack: [0, 6],  result = [-1, -1, 2, 2, 2, 1, -1]\n",
    "        * for문 종료\n",
    "\n",
    "* 2. result를 출력한다.\n"
   ]
  },
  {
   "cell_type": "markdown",
   "metadata": {},
   "source": [
    "### 풀이 2\n",
    "\n",
    "* 1. stack에 index를 저장하고 for문을 통해 탐색한 값이 이전 index 값보다 큰지 비교 후 업데이트 한다.\n",
    "    * 1\\) 현재 index에 위치한 수가 이전 stack에 저장된 index에 위치한 수의 오등큰수인지를 확인하는 것\n",
    "    * e.g [1, 1, 2, 3, 4, 2, 1], stack = [], result = [-1, -1, -1, -1, -1, -1, -1]\n",
    "        * i == 0: stack이 비어있으므로 if문은 실행하지 않고 0을 추가한다. stack = [0]\n",
    "            * stack [0], result = [-1, -1, -1, -1, -1, -1, -1]\n",
    "        * i == 1: agg[numbers[0]] == 3, agg[numbers[1]] == 3이므로 result[1]은 -1이 되고  stack에 1 추가\n",
    "            * stack: [0, 1],  result = [-1, -1, -1, -1, -1, -1, -1]\n",
    "        * i == 2: agg[numbers[1]] == 3, agg[numbers[2]] == 2이므로 result[2]은 -1이 되고 stack에 2 추가\n",
    "            * stack: [0, 1, 2],  result = [-1, -1, -1, -1, -1, -1, -1]\n",
    "        * i == 3: agg[numbers[2]] == 2, agg[numbers[3]] == 1이므로 result[3]은 -1이 되고 stack에 3 추가\n",
    "            * stack: [0, 1, 2, 3],  result = [-1, -1, -1, -1, -1, -1, -1]\n",
    "        * i == 4: agg[numbers[3]] == 1, agg[numbers[4]] == 1이므로 result[4]은 -1이 되고 stack에 4 추가\n",
    "            * stack: [0, 1, 2, 3, 4],  result = [-1, -1, -1, -1, -1, -1, -1]\n",
    "        * i == 5: agg[numbers[4]] == 1, agg[numbers[5]] == 2 이므로 이전 index의 오큰수를 업데이트  \n",
    "            * stack: [0, 1, 2, 3],  result = [-1, -1, -1, -1, 2, -1, -1]\n",
    "        * i == 5: agg[numbers[3]] == 1, agg[numbers[5]] == 2 이므로 이전 index의 오큰수를 업데이트  \n",
    "            * stack: [0, 1, 2],  result = [-1, -1, -1, 2, 2, -1, -1]\n",
    "        * i == 5: agg[numbers[2]] == 2, agg[numbers[5]] == 2 이므로 업데이트를 멈추고 stack 5 추가\n",
    "            * stack: [0, 1, 2, 5],  result = [-1, -1, -1, 2, 2, -1, -1]\n",
    "        * i == 6: agg[numbers[5]] == 2, agg[numbers[6]] == 3 이므로 이전 index의 오큰수를 업데이트  \n",
    "            * stack: [0, 1, 2],  result = [-1, -1, -1, 2, 2, 1, -1]\n",
    "        * i == 6: agg[numbers[2]] == 2, agg[numbers[6]] == 3 이므로 이전 index의 오큰수를 업데이트  \n",
    "            * stack: [0, 1],  result = [-1, -1, 2, 2, 2, 1, -1]\n",
    "        * i == 6: agg[numbers[1]] == 3, agg[numbers[6]] == 3 이므로 업데이트를 멈추고 stack 6 추가\n",
    "            * stack: [0, 6],  result = [-1, -1, 2, 2, 2, 1, -1]\n",
    "        * for문 종료\n",
    "\n",
    "* 2. result를 출력한다."
   ]
  },
  {
   "attachments": {},
   "cell_type": "markdown",
   "metadata": {},
   "source": [
    "https://www.acmicpc.net/problem/17299"
   ]
  }
 ],
 "metadata": {
  "kernelspec": {
   "display_name": "ws1",
   "language": "python",
   "name": "python3"
  },
  "language_info": {
   "codemirror_mode": {
    "name": "ipython",
    "version": 3
   },
   "file_extension": ".py",
   "mimetype": "text/x-python",
   "name": "python",
   "nbconvert_exporter": "python",
   "pygments_lexer": "ipython3",
   "version": "3.12.4"
  },
  "orig_nbformat": 4,
  "vscode": {
   "interpreter": {
    "hash": "2856db72fb1e77597a3b14e9c1bb4d2315d342edc16fc9e25c6c6e499688b933"
   }
  }
 },
 "nbformat": 4,
 "nbformat_minor": 2
}
