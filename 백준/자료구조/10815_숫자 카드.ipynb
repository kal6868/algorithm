{
 "cells": [
  {
   "attachments": {},
   "cell_type": "markdown",
   "metadata": {},
   "source": [
    "# 숫자 카드"
   ]
  },
  {
   "attachments": {},
   "cell_type": "markdown",
   "metadata": {},
   "source": [
    "## 문제"
   ]
  },
  {
   "attachments": {},
   "cell_type": "markdown",
   "metadata": {},
   "source": [
    "* 숫자 카드는 정수 하나가 적혀져 있는 카드이다. 상근이는 숫자 카드 N개를 가지고 있다. 정수 M개가 주어졌을 때, 이 수가 적혀있는 숫자 카드를 상근이가 가지고 있는지 아닌지를 구하는 프로그램을 작성하시오."
   ]
  },
  {
   "attachments": {},
   "cell_type": "markdown",
   "metadata": {},
   "source": [
    "## 입력"
   ]
  },
  {
   "attachments": {},
   "cell_type": "markdown",
   "metadata": {},
   "source": [
    "* 첫째 줄에 상근이가 가지고 있는 숫자 카드의 개수 N(1 ≤ N ≤ 500,000)이 주어진다. 둘째 줄에는 숫자 카드에 적혀있는 정수가 주어진다. 숫자 카드에 적혀있는 수는 -10,000,000보다 크거나 같고, 10,000,000보다 작거나 같다. 두 숫자 카드에 같은 수가 적혀있는 경우는 없다."
   ]
  },
  {
   "attachments": {},
   "cell_type": "markdown",
   "metadata": {},
   "source": [
    "* 셋째 줄에는 M(1 ≤ M ≤ 500,000)이 주어진다. 넷째 줄에는 상근이가 가지고 있는 숫자 카드인지 아닌지를 구해야 할 M개의 정수가 주어지며, 이 수는 공백으로 구분되어져 있다. 이 수도 -10,000,000보다 크거나 같고, 10,000,000보다 작거나 같다"
   ]
  },
  {
   "attachments": {},
   "cell_type": "markdown",
   "metadata": {},
   "source": [
    "## 출력"
   ]
  },
  {
   "attachments": {},
   "cell_type": "markdown",
   "metadata": {},
   "source": [
    "* 첫째 줄에 입력으로 주어진 M개의 수에 대해서, 각 수가 적힌 숫자 카드를 상근이가 가지고 있으면 1을, 아니면 0을 공백으로 구분해 출력한다."
   ]
  },
  {
   "attachments": {},
   "cell_type": "markdown",
   "metadata": {},
   "source": [
    "## Code"
   ]
  },
  {
   "cell_type": "code",
   "execution_count": 1,
   "metadata": {},
   "outputs": [],
   "source": [
    "#10815번_숫자 카드(Dictionary) -> 속도는 훨씬 빠름\n",
    "import sys\n",
    "def solution():\n",
    "    N = int(input())\n",
    "    cards_in_hand = list(map(int, input().split()))\n",
    "    M = int(input())\n",
    "    cards_to_check = list(map(int, input().split()))\n",
    "\n",
    "    # N = int(sys.stdin.readline())\n",
    "    # cards_in_hand = list(map(int, sys.stdin.readline().split()))\n",
    "    # M = int(sys.stdin.readline())\n",
    "    # cards_to_check = list(map(int, sys.stdin.readline().split()))\n",
    "\n",
    "    dict_card_in_hand = {}\n",
    "    for card in cards_in_hand:\n",
    "        dict_card_in_hand[card] = True\n",
    "\n",
    "    for to_check in cards_to_check:\n",
    "        if to_check in dict_card_in_hand:\n",
    "            print(1, end=\" \")\n",
    "        else:\n",
    "            print(0, end=\" \")"
   ]
  },
  {
   "cell_type": "code",
   "execution_count": null,
   "metadata": {},
   "outputs": [],
   "source": [
    "# 10815번_숫자 카드(이진 탐색)\n",
    "def solution():\n",
    "    N = int(sys.stdin.readline())\n",
    "    cards_in_hand = list(map(int, sys.stdin.readline().split()))\n",
    "    cards_in_hand = sorted(cards_in_hand) \n",
    "    M = int(sys.stdin.readline())\n",
    "    cards_to_check = list(map(int, sys.stdin.readline().split()))\n",
    "    for to_check in cards_to_check:\n",
    "        start_p, end_p = 0, N-1\n",
    "        num_exist = False\n",
    "        while start_p <= end_p:\n",
    "            mid_p = (start_p + end_p)//2\n",
    "            if to_check > cards_in_hand[mid_p]:\n",
    "                start_p = mid_p+1\n",
    "            elif to_check < cards_in_hand[mid_p]:\n",
    "                end_p = mid_p-1\n",
    "            else:\n",
    "                num_exist = True\n",
    "                break\n",
    "        print(1 if num_exist else 0, end=\" \")"
   ]
  },
  {
   "attachments": {},
   "cell_type": "markdown",
   "metadata": {},
   "source": [
    "## 예제입력 - 출력"
   ]
  },
  {
   "cell_type": "code",
   "execution_count": 2,
   "metadata": {},
   "outputs": [
    {
     "name": "stdout",
     "output_type": "stream",
     "text": [
      "1 0 0 1 1 0 0 1 "
     ]
    }
   ],
   "source": [
    "solution()"
   ]
  },
  {
   "attachments": {},
   "cell_type": "markdown",
   "metadata": {},
   "source": [
    "## Note"
   ]
  },
  {
   "attachments": {},
   "cell_type": "markdown",
   "metadata": {},
   "source": [
    "* dictionary에 보유하고 있는 카드를 모두 넣은 뒤, Dictionary 안에 카드가 있으면 1을 없으면 0을 출력한다.\n",
    "* 카드를 오름차순으로 정렬한 뒤, 이진 탐색으로 카드가 가지고 있는 카드에 있는지 확인한다. 이진 탐색(while 문)이 끝나도록 없으면 False를 반환한다."
   ]
  },
  {
   "attachments": {},
   "cell_type": "markdown",
   "metadata": {},
   "source": [
    "https://www.acmicpc.net/problem/10815"
   ]
  }
 ],
 "metadata": {
  "kernelspec": {
   "display_name": "ws1",
   "language": "python",
   "name": "python3"
  },
  "language_info": {
   "codemirror_mode": {
    "name": "ipython",
    "version": 3
   },
   "file_extension": ".py",
   "mimetype": "text/x-python",
   "name": "python",
   "nbconvert_exporter": "python",
   "pygments_lexer": "ipython3",
   "version": "3.9.13"
  },
  "orig_nbformat": 4,
  "vscode": {
   "interpreter": {
    "hash": "2856db72fb1e77597a3b14e9c1bb4d2315d342edc16fc9e25c6c6e499688b933"
   }
  }
 },
 "nbformat": 4,
 "nbformat_minor": 2
}
