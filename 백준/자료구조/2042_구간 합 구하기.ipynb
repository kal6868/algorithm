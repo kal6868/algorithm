{
 "cells": [
  {
   "attachments": {},
   "cell_type": "markdown",
   "metadata": {},
   "source": [
    "# 구간 합 구하기"
   ]
  },
  {
   "attachments": {},
   "cell_type": "markdown",
   "metadata": {},
   "source": [
    "## 문제"
   ]
  },
  {
   "cell_type": "markdown",
   "metadata": {},
   "source": [
    "* 어떤 N개의 수가 주어져 있다. 그런데 중간에 수의 변경이 빈번히 일어나고 그 중간에 어떤 부분의 합을 구하려 한다. 만약에 1,2,3,4,5 라는 수가 있고, 3번째 수를 6으로 바꾸고 2번째부터 5번째까지 합을 구하라고 한다면 17을 출력하면 되는 것이다. 그리고 그 상태에서 다섯 번째 수를 2로 바꾸고 3번째부터 5번째까지 합을 구하라고 한다면 12가 될 것이다."
   ]
  },
  {
   "attachments": {},
   "cell_type": "markdown",
   "metadata": {},
   "source": [
    "## 입력"
   ]
  },
  {
   "cell_type": "markdown",
   "metadata": {},
   "source": [
    "* 첫째 줄에 수의 개수 N(1 ≤ N ≤ 1,000,000)과 M(1 ≤ M ≤ 10,000), K(1 ≤ K ≤ 10,000) 가 주어진다. M은 수의 변경이 일어나는 횟수이고, K는 구간의 합을 구하는 횟수이다. 그리고 둘째 줄부터 N+1번째 줄까지 N개의 수가 주어진다. 그리고 N+2번째 줄부터 N+M+K+1번째 줄까지 세 개의 정수 a, b, c가 주어지는데, a가 1인 경우 b(1 ≤ b ≤ N)번째 수를 c로 바꾸고 a가 2인 경우에는 b(1 ≤ b ≤ N)번째 수부터 c(b ≤ c ≤ N)번째 수까지의 합을 구하여 출력하면 된다."
   ]
  },
  {
   "cell_type": "markdown",
   "metadata": {},
   "source": [
    "* 입력으로 주어지는 모든 수는 -2^63보다 크거나 같고, 2^63-1보다 작거나 같은 정수이다."
   ]
  },
  {
   "attachments": {},
   "cell_type": "markdown",
   "metadata": {},
   "source": [
    "## 출력"
   ]
  },
  {
   "cell_type": "markdown",
   "metadata": {},
   "source": [
    "* 첫째 줄부터 K줄에 걸쳐 구한 구간의 합을 출력한다. 단, 정답은 -2^63보다 크거나 같고, 2^63-1보다 작거나 같은 정수이다."
   ]
  },
  {
   "attachments": {},
   "cell_type": "markdown",
   "metadata": {},
   "source": [
    "## Code"
   ]
  },
  {
   "cell_type": "code",
   "execution_count": 1,
   "metadata": {},
   "outputs": [],
   "source": [
    "# 2042_구간 합 구하기\n",
    "\n",
    "import sys\n",
    "\n",
    "submit = False\n",
    "input = sys.stdin.readline if submit else input\n",
    "\n",
    "def solution():\n",
    "    N, M, K = map(int, input().split())\n",
    "    numbers = [int(input()) for _ in range(N)]\n",
    "    for _ in range(M + K):\n",
    "        a, b, c = map(int, input().split())\n",
    "        if a == 1:\n",
    "            numbers[b-1] = c\n",
    "        elif a == 2:\n",
    "            print(sum(numbers[b-1:c+1]))"
   ]
  },
  {
   "cell_type": "code",
   "execution_count": null,
   "metadata": {},
   "outputs": [],
   "source": [
    "# 2042_구간 합 구하기\n",
    "import sys\n",
    "import math\n",
    "\n",
    "submit = False\n",
    "input = sys.stdin.readline if submit else input\n",
    "\n",
    "def makeSegTree(arr, seg, idx, st, ed):\n",
    "    if st == ed:\n",
    "        seg[idx] = arr[st]\n",
    "        return seg[idx]\n",
    "    \n",
    "    mid = (st + ed) // 2\n",
    "    left, right = makeSegTree(arr, seg, idx * 2, st, mid), makeSegTree(arr, seg, idx * 2 + 1, mid+1, ed)\n",
    "    seg[idx] = left + right\n",
    "    return seg[idx]\n",
    "\n",
    "def find(seg, range1, range2, idx, st, ed):\n",
    "    if range2 < st or range1 > ed:\n",
    "        return 0\n",
    "    if range1 <= st and ed <= range2:\n",
    "        return seg[idx]\n",
    "    \n",
    "    mid = (st + ed) // 2\n",
    "    left, right = find(seg, range1, range2, idx * 2, st, mid), find(seg, range1, range2, idx * 2 + 1, mid + 1, ed)\n",
    "    return left + right\n",
    "\n",
    "def update(seg, st, ed, idx, update_idx, update_num):\n",
    "    if (st > update_idx) or (ed < update_idx):\n",
    "        return\n",
    "\n",
    "    seg[idx] += update_num    \n",
    "\n",
    "    if st == ed:\n",
    "        return\n",
    "\n",
    "    mid = (st + ed) // 2\n",
    "    update(seg, st, mid, idx * 2, update_idx, update_num)\n",
    "    update(seg, mid + 1, ed, idx * 2 + 1, update_idx, update_num)\n",
    "\n",
    "\n",
    "def solution():\n",
    "    N, M, K = map(int, input().split())\n",
    "    numbers = [int(input()) for _ in range(N)]\n",
    "    h = math.ceil(math.log2(N)) + 1\n",
    "    nodeNum = 1 << h\n",
    "    seg = [0 for _ in range(nodeNum)]\n",
    "\n",
    "    makeSegTree(numbers, seg, 1, 0, len(numbers) - 1)\n",
    "\n",
    "    for _ in range(M + K):\n",
    "        a, b, c = map(int, input().split())\n",
    "        if a == 1:\n",
    "            num_change = c - numbers[b-1]\n",
    "            numbers[b-1] = c\n",
    "            update(seg, 1, N, 1, b, num_change)\n",
    "        elif a == 2:\n",
    "            print(find(seg, b, c, 1, 1, N))"
   ]
  },
  {
   "attachments": {},
   "cell_type": "markdown",
   "metadata": {},
   "source": [
    "## 예제입력 - 출력"
   ]
  },
  {
   "cell_type": "code",
   "execution_count": 2,
   "metadata": {},
   "outputs": [
    {
     "name": "stdout",
     "output_type": "stream",
     "text": [
      "17\n",
      "12\n"
     ]
    }
   ],
   "source": [
    "solution()"
   ]
  },
  {
   "cell_type": "markdown",
   "metadata": {},
   "source": [
    "## Note"
   ]
  },
  {
   "cell_type": "markdown",
   "metadata": {},
   "source": [
    "* 1. indexing을 사용해서 a가 1이면 숫자를 입력받은 List(numbers)의 숫자를 변경하고 2면 구간의 합을 출력한다."
   ]
  },
  {
   "attachments": {},
   "cell_type": "markdown",
   "metadata": {},
   "source": [
    "https://www.acmicpc.net/problem/2042"
   ]
  }
 ],
 "metadata": {
  "kernelspec": {
   "display_name": "ws1",
   "language": "python",
   "name": "python3"
  },
  "language_info": {
   "codemirror_mode": {
    "name": "ipython",
    "version": 3
   },
   "file_extension": ".py",
   "mimetype": "text/x-python",
   "name": "python",
   "nbconvert_exporter": "python",
   "pygments_lexer": "ipython3",
   "version": "3.12.4"
  },
  "orig_nbformat": 4,
  "vscode": {
   "interpreter": {
    "hash": "2856db72fb1e77597a3b14e9c1bb4d2315d342edc16fc9e25c6c6e499688b933"
   }
  }
 },
 "nbformat": 4,
 "nbformat_minor": 2
}
