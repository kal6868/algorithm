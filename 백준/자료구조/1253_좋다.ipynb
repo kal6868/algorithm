{
 "cells": [
  {
   "attachments": {},
   "cell_type": "markdown",
   "metadata": {},
   "source": [
    "# 좋다"
   ]
  },
  {
   "attachments": {},
   "cell_type": "markdown",
   "metadata": {},
   "source": [
    "## 문제"
   ]
  },
  {
   "cell_type": "markdown",
   "metadata": {},
   "source": [
    "* N개의 수 중에서 어떤 수가 다른 수 두 개의 합으로 나타낼 수 있다면 그 수를 “좋다(GOOD)”고 한다."
   ]
  },
  {
   "cell_type": "markdown",
   "metadata": {},
   "source": [
    "* N개의 수가 주어지면 그 중에서 좋은 수의 개수는 몇 개인지 출력하라."
   ]
  },
  {
   "cell_type": "markdown",
   "metadata": {},
   "source": [
    "* 수의 위치가 다르면 값이 같아도 다른 수이다.\n"
   ]
  },
  {
   "attachments": {},
   "cell_type": "markdown",
   "metadata": {},
   "source": [
    "## 입력"
   ]
  },
  {
   "cell_type": "markdown",
   "metadata": {},
   "source": [
    "* 첫째 줄에는 수의 개수 N(1 ≤ N ≤ 2,000), 두 번째 줄에는 i번째 수를 나타내는 Ai가 N개 주어진다. (|Ai| ≤ 1,000,000,000, Ai는 정수)\n",
    "\n"
   ]
  },
  {
   "attachments": {},
   "cell_type": "markdown",
   "metadata": {},
   "source": [
    "## 출력"
   ]
  },
  {
   "cell_type": "markdown",
   "metadata": {},
   "source": [
    "* 좋은 수의 개수를 첫 번째 줄에 출력한다."
   ]
  },
  {
   "attachments": {},
   "cell_type": "markdown",
   "metadata": {},
   "source": [
    "## Code"
   ]
  },
  {
   "cell_type": "code",
   "execution_count": 1,
   "metadata": {},
   "outputs": [],
   "source": [
    "# 1253_좋다\n",
    "\n",
    "import sys\n",
    "from itertools import combinations\n",
    "\n",
    "submit = False\n",
    "input = sys.stdin.readline if submit else input\n",
    "\n",
    "def solution():\n",
    "    N = int(input())\n",
    "    numbers = list(map(int, input().split())) \n",
    "\n",
    "    temp = [sum(i) for i in combinations(numbers, 2)]\n",
    "\n",
    "    count = 0\n",
    "    for i in numbers:\n",
    "        if i in temp:\n",
    "            count += 1\n",
    "    print(count)"
   ]
  },
  {
   "cell_type": "code",
   "execution_count": null,
   "metadata": {},
   "outputs": [],
   "source": [
    "# 1253_좋다\n",
    "\n",
    "import sys\n",
    "\n",
    "submit = False\n",
    "input = sys.stdin.readline if submit else input\n",
    "\n",
    "def check_good_number(numbers, n):\n",
    "    if n in numbers:\n",
    "        temp = []\n",
    "        while True:\n",
    "            temp_n = numbers.pop()\n",
    "            if temp_n == n:\n",
    "                temp.reverse()\n",
    "                numbers = numbers + temp\n",
    "                break\n",
    "            else:\n",
    "                temp.append(temp_n)\n",
    "\n",
    "    flag = False\n",
    "    st, ed = 0, len(numbers) - 1\n",
    "    while st < ed:\n",
    "        result_add = numbers[st] + numbers[ed]\n",
    "        if result_add < n:\n",
    "            st += 1\n",
    "        elif result_add > n:\n",
    "            ed -= 1\n",
    "        elif result_add == n:\n",
    "            flag = True\n",
    "            break\n",
    "            \n",
    "    return flag\n",
    "\n",
    "\n",
    "def solution():\n",
    "    N = int(input())\n",
    "    numbers = sorted(list(map(int, input().split())) )\n",
    "\n",
    "    count = 0\n",
    "    for n in numbers:\n",
    "        if check_good_number(numbers[:], n):\n",
    "            count += 1\n",
    "    print(count)"
   ]
  },
  {
   "attachments": {},
   "cell_type": "markdown",
   "metadata": {},
   "source": [
    "## 예제입력 - 출력"
   ]
  },
  {
   "cell_type": "code",
   "execution_count": 2,
   "metadata": {},
   "outputs": [
    {
     "name": "stdout",
     "output_type": "stream",
     "text": [
      "8\n"
     ]
    }
   ],
   "source": [
    "solution()"
   ]
  },
  {
   "cell_type": "markdown",
   "metadata": {},
   "source": [
    "## Note"
   ]
  },
  {
   "cell_type": "markdown",
   "metadata": {},
   "source": [
    "### 풀이 1\n",
    "\n",
    "* 1. N개의 수 중에서 두 수를 골라 더하는 모든 경우의 수를 미리 구하고(temp) numbers의 각 숫자가 경우의 수 안에 존재하면 개수(count)를 세준다"
   ]
  },
  {
   "cell_type": "markdown",
   "metadata": {},
   "source": [
    "### 풀이 2\n",
    "\n",
    "* 1. List(numbers)를 정렬 후 투 포인터를 사용해서 의 첫 값의 index와 마지막 값의 index를 시작 index로 정하고 조건에 따라 index를 조정한다.\n",
    "    * 1\\) 두 수의 합이 주어진 값(n) 보다 작으면 앞 쪽 index에 1을 더해준다\n",
    "    * 2\\) 두 수의 합이 주어진 값(n) 보다 크면 뒤 쪽 index에 1을 빼준다\n",
    "    * 3\\) 앞의 index와 뒤 index의 값이 같아질때까지 while문을 통해 반복한다\n",
    "    * 4\\) eg. \n",
    "        * st: 0, ed: 9, result_add = 1+10 = 11, n = 3 \n",
    "        * st: 0, ed: 8, result_add = 1+9 = 10, n = 3 \n",
    "        * ...\n",
    "        * st: 0, ed: 1, result_add = 1+2 = 3, n = 3 \n",
    "\n",
    "* 2. numbers에서 자기 자신을 제외한 두 수의 합으로 나타낼 수 있는지를 확인할 수 있는 함수를 만들고 해당되는 경우 숫자(count)를 세준다.\n",
    "    * number에 자기 자신이 있으면 pop을 통해 해당 수를 찾아서 제거 한 후, 나머지 숫자는 temp에 저장 후 reverse로 뒤집어 다시 numbers에 합친다.\n"
   ]
  },
  {
   "attachments": {},
   "cell_type": "markdown",
   "metadata": {},
   "source": [
    "https://www.acmicpc.net/problem/1253"
   ]
  }
 ],
 "metadata": {
  "kernelspec": {
   "display_name": "ws1",
   "language": "python",
   "name": "python3"
  },
  "language_info": {
   "codemirror_mode": {
    "name": "ipython",
    "version": 3
   },
   "file_extension": ".py",
   "mimetype": "text/x-python",
   "name": "python",
   "nbconvert_exporter": "python",
   "pygments_lexer": "ipython3",
   "version": "3.12.4"
  },
  "orig_nbformat": 4,
  "vscode": {
   "interpreter": {
    "hash": "2856db72fb1e77597a3b14e9c1bb4d2315d342edc16fc9e25c6c6e499688b933"
   }
  }
 },
 "nbformat": 4,
 "nbformat_minor": 2
}
