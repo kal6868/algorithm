{
 "cells": [
  {
   "attachments": {},
   "cell_type": "markdown",
   "metadata": {},
   "source": [
    "# 스택"
   ]
  },
  {
   "attachments": {},
   "cell_type": "markdown",
   "metadata": {},
   "source": [
    "## 문제"
   ]
  },
  {
   "attachments": {},
   "cell_type": "markdown",
   "metadata": {},
   "source": [
    "* 정수를 저장하는 스택을 구현한 다음, 입력으로 주어지는 명령을 처리하는 프로그램을 작성하시오."
   ]
  },
  {
   "attachments": {},
   "cell_type": "markdown",
   "metadata": {},
   "source": [
    "* 명령은 총 다섯 가지이다.\n",
    "\n",
    "    * push X: 정수 X를 스택에 넣는 연산이다.\n",
    "    * pop: 스택에서 가장 위에 있는 정수를 빼고, 그 수를 출력한다. 만약 스택에 들어있는 정수가 없는 경우에는 -1을 출력한다.\n",
    "    * size: 스택에 들어있는 정수의 개수를 출력한다.\n",
    "    * empty: 스택이 비어있으면 1, 아니면 0을 출력한다.\n",
    "    * top: 스택의 가장 위에 있는 정수를 출력한다. 만약 스택에 들어있는 정수가 없는 경우에는 -1을 출력한다."
   ]
  },
  {
   "attachments": {},
   "cell_type": "markdown",
   "metadata": {},
   "source": [
    "## 입력"
   ]
  },
  {
   "attachments": {},
   "cell_type": "markdown",
   "metadata": {},
   "source": [
    "* 첫째 줄에 주어지는 명령의 수 N (1 ≤ N ≤ 10,000)이 주어진다. 둘째 줄부터 N개의 줄에는 명령이 하나씩 주어진다. 주어지는 정수는 1보다 크거나 같고, 100,000보다 작거나 같다. 문제에 나와있지 않은 명령이 주어지는 경우는 없다."
   ]
  },
  {
   "attachments": {},
   "cell_type": "markdown",
   "metadata": {},
   "source": [
    "## 출력"
   ]
  },
  {
   "attachments": {},
   "cell_type": "markdown",
   "metadata": {},
   "source": [
    "* 출력해야하는 명령이 주어질 때마다, 한 줄에 하나씩 출력한다."
   ]
  },
  {
   "attachments": {},
   "cell_type": "markdown",
   "metadata": {},
   "source": [
    "## Code"
   ]
  },
  {
   "cell_type": "code",
   "execution_count": 2,
   "metadata": {},
   "outputs": [],
   "source": [
    "import sys\n",
    "from collections import deque\n",
    "\n",
    "def solution():\n",
    "    stack = deque()\n",
    "\n",
    "    n = int(input())\n",
    "\n",
    "    for _ in range(n):\n",
    "        command_input = input().split(' ')\n",
    "        \n",
    "        if len(command_input) == 2:\n",
    "            command, data = command_input\n",
    "        elif len(command_input) == 1:\n",
    "            command = command_input[0]\n",
    "\n",
    "        if command == 'push':\n",
    "            stack.append(data)\n",
    "            \n",
    "        elif command == 'pop':\n",
    "            if stack:\n",
    "                print(stack.pop())\n",
    "            else:\n",
    "                print('-1')\n",
    "\n",
    "        elif command == 'size':\n",
    "            print(len(stack))\n",
    "\n",
    "        elif command == 'empty':\n",
    "            if stack:\n",
    "                print('0')\n",
    "            else:\n",
    "                print('1')\n",
    "\n",
    "        elif command == 'top':\n",
    "            if stack:\n",
    "                print(stack[-1])\n",
    "            else:\n",
    "                print('-1')"
   ]
  },
  {
   "cell_type": "code",
   "execution_count": 1,
   "metadata": {},
   "outputs": [],
   "source": [
    "import sys\n",
    "from collections import deque\n",
    "\n",
    "def solution():\n",
    "    stack = deque()\n",
    "\n",
    "    n = int(input())\n",
    "\n",
    "    for _ in range(n):\n",
    "        command_input = input().split(' ')\n",
    "        \n",
    "        if len(command_input) == 2:\n",
    "            command, data = command_input\n",
    "        elif len(command_input) == 1:\n",
    "            command = command_input[0]\n",
    "\n",
    "        if command == 'push':\n",
    "            stack.append(data)\n",
    "            \n",
    "        elif command == 'pop':\n",
    "            if stack:\n",
    "                print(stack.pop())\n",
    "            else:\n",
    "                print('-1')\n",
    "\n",
    "        elif command == 'size':\n",
    "            print(len(stack))\n",
    "\n",
    "        elif command == 'empty':\n",
    "            if stack:\n",
    "                print('0')\n",
    "            else:\n",
    "                print('1')\n",
    "\n",
    "        elif command == 'top':\n",
    "            if stack:\n",
    "                print(stack[-1])\n",
    "            else:\n",
    "                print('-1')"
   ]
  },
  {
   "attachments": {},
   "cell_type": "markdown",
   "metadata": {},
   "source": [
    "## 예제입력 - 출력"
   ]
  },
  {
   "cell_type": "code",
   "execution_count": 2,
   "metadata": {},
   "outputs": [
    {
     "name": "stdout",
     "output_type": "stream",
     "text": [
      "2\n",
      "2\n",
      "0\n",
      "2\n",
      "1\n",
      "-1\n",
      "0\n",
      "1\n",
      "-1\n",
      "0\n",
      "3\n"
     ]
    }
   ],
   "source": [
    "solution()"
   ]
  },
  {
   "cell_type": "code",
   "execution_count": 3,
   "metadata": {},
   "outputs": [
    {
     "name": "stdout",
     "output_type": "stream",
     "text": [
      "-1\n",
      "-1\n",
      "123\n",
      "123\n",
      "-1\n",
      "-1\n"
     ]
    }
   ],
   "source": [
    "solution()"
   ]
  },
  {
   "attachments": {},
   "cell_type": "markdown",
   "metadata": {},
   "source": [
    "## Note"
   ]
  },
  {
   "attachments": {},
   "cell_type": "markdown",
   "metadata": {},
   "source": [
    "* inputs()는 sys.stdin.readline()보다 속도가 느리지만, Jupyter에서는 사용이 불가능하다.\n",
    "* deque를 import해서 입력되는 명령어에 대한 작업을 싱행시켜주면 된다."
   ]
  },
  {
   "attachments": {},
   "cell_type": "markdown",
   "metadata": {},
   "source": [
    "https://www.acmicpc.net/problem/10828"
   ]
  }
 ],
 "metadata": {
  "kernelspec": {
   "display_name": "ws1",
   "language": "python",
   "name": "python3"
  },
  "language_info": {
   "codemirror_mode": {
    "name": "ipython",
    "version": 3
   },
   "file_extension": ".py",
   "mimetype": "text/x-python",
   "name": "python",
   "nbconvert_exporter": "python",
   "pygments_lexer": "ipython3",
   "version": "3.9.13"
  },
  "orig_nbformat": 4,
  "vscode": {
   "interpreter": {
    "hash": "2856db72fb1e77597a3b14e9c1bb4d2315d342edc16fc9e25c6c6e499688b933"
   }
  }
 },
 "nbformat": 4,
 "nbformat_minor": 2
}
