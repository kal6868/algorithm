{
 "cells": [
  {
   "attachments": {},
   "cell_type": "markdown",
   "metadata": {},
   "source": [
    "# 최솟값 찾기"
   ]
  },
  {
   "attachments": {},
   "cell_type": "markdown",
   "metadata": {},
   "source": [
    "## 문제"
   ]
  },
  {
   "cell_type": "markdown",
   "metadata": {},
   "source": [
    "* N개의 수 A1, A2, ..., AN과 L이 주어진다."
   ]
  },
  {
   "cell_type": "markdown",
   "metadata": {},
   "source": [
    "* Di = Ai-L+1 ~ Ai 중의 최솟값이라고 할 때, D에 저장된 수를 출력하는 프로그램을 작성하시오. 이때, i ≤ 0 인 Ai는 무시하고 D를 구해야 한다."
   ]
  },
  {
   "attachments": {},
   "cell_type": "markdown",
   "metadata": {},
   "source": [
    "## 입력"
   ]
  },
  {
   "cell_type": "markdown",
   "metadata": {},
   "source": [
    "* 첫째 줄에 N과 L이 주어진다. (1 ≤ L ≤ N ≤ 5,000,000)"
   ]
  },
  {
   "cell_type": "markdown",
   "metadata": {},
   "source": [
    "* 둘째 줄에는 N개의 수 Ai가 주어진다. (-109 ≤ Ai ≤ 109)"
   ]
  },
  {
   "attachments": {},
   "cell_type": "markdown",
   "metadata": {},
   "source": [
    "## 출력"
   ]
  },
  {
   "attachments": {},
   "cell_type": "markdown",
   "metadata": {},
   "source": [
    "* 첫째 줄에 Di를 공백으로 구분하여 순서대로 출력한다."
   ]
  },
  {
   "attachments": {},
   "cell_type": "markdown",
   "metadata": {},
   "source": [
    "## Code"
   ]
  },
  {
   "cell_type": "code",
   "execution_count": 1,
   "metadata": {},
   "outputs": [],
   "source": [
    "# 11003_최소값 찾기 # 시간초과 풀이\n",
    "\n",
    "import sys\n",
    "import heapq\n",
    "\n",
    "submit = False\n",
    "input = sys.stdin.readline if submit else input\n",
    "\n",
    "def solution():\n",
    "    N, L = map(int, input().split())\n",
    "    numbers = list(map(int, input().split()))\n",
    "\n",
    "    rst = []\n",
    "    for i in range(N):\n",
    "        st = i-L+1\n",
    "        if st < 0:\n",
    "            temp = numbers[0:i+1]\n",
    "            heapq.heapify(temp)\n",
    "            rst.append(temp[0])\n",
    "        else:\n",
    "            temp = numbers[st:i+1]\n",
    "            heapq.heapify(temp)\n",
    "            rst.append(temp[0])\n",
    "    print(' '.join(map(str, rst)))"
   ]
  },
  {
   "cell_type": "code",
   "execution_count": 3,
   "metadata": {},
   "outputs": [],
   "source": [
    "# 11003_최소값 찾기 \n",
    "\n",
    "import sys\n",
    "\n",
    "submit = False\n",
    "input = sys.stdin.readline if submit else input\n",
    "\n",
    "def solution():\n",
    "    N, L = map(int, input().split())\n",
    "    numbers = list(map(int, input().split()))\n",
    "    stack = []\n",
    "\n",
    "    for i in range(N):\n",
    "        while (stack) and (stack[-1][1] > numbers[i]):\n",
    "            stack.pop()\n",
    "\n",
    "        stack.append((i, numbers[i]))\n",
    "        \n",
    "        if stack[-1][0] - stack[0][0] >= L:\n",
    "            stack = stack[1:]\n",
    "\n",
    "        print(stack[0][1], end= ' ')"
   ]
  },
  {
   "cell_type": "code",
   "execution_count": 2,
   "metadata": {},
   "outputs": [],
   "source": [
    "# 11003_최소값 찾기 \n",
    "\n",
    "import sys\n",
    "from collections import deque\n",
    "\n",
    "submit = False\n",
    "input = sys.stdin.readline if submit else input\n",
    "\n",
    "def solution():\n",
    "    N, L = map(int, input().split())\n",
    "    numbers = list(map(int, input().split()))\n",
    "    stack = deque([])\n",
    "\n",
    "    for i in range(N):\n",
    "        while (stack) and (stack[-1][1] > numbers[i]):\n",
    "            stack.pop()\n",
    "\n",
    "        stack.append((i, numbers[i]))\n",
    "        \n",
    "        if stack[-1][0] - stack[0][0] >= L:\n",
    "            stack.popleft()\n",
    "\n",
    "        print(stack[0][1], end= ' ')"
   ]
  },
  {
   "attachments": {},
   "cell_type": "markdown",
   "metadata": {},
   "source": [
    "## 예제입력 - 출력"
   ]
  },
  {
   "cell_type": "code",
   "execution_count": 3,
   "metadata": {},
   "outputs": [
    {
     "name": "stdout",
     "output_type": "stream",
     "text": [
      "1 1 1 2 2 2 2 2 3 3 2 2 "
     ]
    }
   ],
   "source": [
    "solution()"
   ]
  },
  {
   "attachments": {},
   "cell_type": "markdown",
   "metadata": {},
   "source": [
    "## Note"
   ]
  },
  {
   "cell_type": "markdown",
   "metadata": {},
   "source": [
    "### 풀이 1\n",
    "\n",
    "* 1. indexing을 이용해서 L 범위의 값을 List(numbers)에서 선택 후 우선순위 힙을 이용해서 정렬하고 해당 범위의 최소값을 추출한다."
   ]
  },
  {
   "cell_type": "markdown",
   "metadata": {},
   "source": [
    "### 풀이 2\n",
    "\n",
    "* 1. List을 이용해서 최소값을 저장하고, 최소값이 범위에서 벗어나면 제거함으로써 L 범위의 최소값을 찾는다.\n",
    "    * 1\\) deque(stack)에 저장된 값이 있으면 현재 index(i)에 해당하는 숫자와 비교 후 i에 해당되는 숫자가 더 작으면 기존에 저장된 값을 pop으로 제거한다.\n",
    "        * 저장된 값이 없으면 (index, 숫자)를 tuple 자료형으로 바로 저장한다.\n",
    "    * 2\\) stack에 (index, 숫자)를 tuple 자료형으로 값을 저장한다.\n",
    "    * 3\\) stack의 맨 앞에 저장된 값과 맨 뒤에 저장된 값이 차이가 범위(L)을 넘어서면 맨 앞의 값을 indexing으로 제거한다.\n",
    "    * eg\\) [1, 5, 2, 3, 6, 2, 3, 7, 3, 5, 2, 6]\n",
    "        * i = 0, numbers[i] = 1, stack = [(0, 1)]\n",
    "        * i = 1, numbers[i] = 5, stack = [(0, 1), (1, 5)]\n",
    "        * i = 2, numbers[i] = 2, stack = [(0, 1), (2, 2)]\n",
    "            * (1, 5)에서 저장된 숫자 5가 2보다 커서 pop으로 제거\n",
    "        * i = 3, numbers[i] = 3, stack = [(2, 2), (3, 3)]\n",
    "            * L = 3이므로 1~3 3개의 값만 포함해야 하므로 (0, 1)을 제거\n",
    "        * i = 4, numbers[i] = 6, stack = [(2, 2), (3, 3), (4, 6)]\n",
    "        * i = 5, numbers[i] = 2, stack = [(5, 2)]\n",
    "            * (3, 3), (4, 6)에서 저장된 숫자 3, 6이 2가 커서 pop으로 제거\n",
    "            * L = 3이므로 3~5 3개의 값만 포함해야 하므로 (2, 2)을 제거\n",
    "        * i = 6, numbers[i] = 3, stack = [(5, 2), (6, 3)]\n",
    "        * i = 7, numbers[i] = 7, stack = [(5, 2), (6, 3), (7, 7)]\n",
    "        * i = 8, numbers[i] = 3, stack = [(6, 3), (8, 3)]\n",
    "            * (7, 7)에서 저장된 숫자 7이 3이 커서 pop으로 제거\n",
    "            * L = 3이므로 6~8 3개의 값만 포함해야 하므로 (5, 2)을 제거\n",
    "        * i = 9, numbers[i] = 5, stack = [(8, 3), (9, 5)]\n",
    "            * L = 3이므로 7~9 3개의 값만 포함해야 하므로 (6, 3)을 제거\n",
    "        * i = 10, numbers[i] = 2, stack = [(10, 2)]\n",
    "            * (8, 3), (9, 5)에서 저장된 숫자 3, 5가 2보다 커서 pop으로 제거\n",
    "        * i = 11, numbers[i] = 2, stack = [(10, 2), (11, 6)]\n",
    "            * (8, 3), (9, 5)에서 저장된 숫자 3, 5가 2보다 커서 pop으로 제거"
   ]
  },
  {
   "cell_type": "markdown",
   "metadata": {},
   "source": [
    "### 풀이 3\n",
    "\n",
    "* 1. deque을 이용해서 최소값을 저장하고, 최소값이 범위에서 벗어나면 제거함으로써 L 범위의 최소값을 찾는다.\n",
    "    * 1) stack에 저장된 값이 있으면 현재 index(i)에 해당하는 숫자와 비교 후 i에 해당되는 숫자가 더 작으면 기존에 저장된 값을 pop으로 제거한다.\n",
    "        * 저장된 값이 없으면 (index, 숫자)를 tuple 자료형으로 바로 저장한다.\n",
    "    * 2) deque(stack)에 (index, 숫자)를 tuple 자료형으로 값을 저장한다.\n",
    "    * 3) stack의 맨 앞에 저장된 값과 맨 뒤에 저장된 값이 차이가 범위(L)을 넘어서면 맨 앞의 값을 popleft로 제거한다.\n",
    "    * eg) [1, 5, 2, 3, 6, 2, 3, 7, 3, 5, 2, 6]\n",
    "        * i = 0, numbers[i] = 1, stack = [(0, 1)]\n",
    "        * i = 1, numbers[i] = 5, stack = [(0, 1), (1, 5)]\n",
    "        * i = 2, numbers[i] = 2, stack = [(0, 1), (2, 2)]\n",
    "            * (1, 5)에서 저장된 숫자 5가 2보다 커서 pop으로 제거\n",
    "        * i = 3, numbers[i] = 3, stack = [(2, 2), (3, 3)]\n",
    "            * L = 3이므로 1~3 3개의 값만 포함해야 하므로 (0, 1)을 제거\n",
    "        * i = 4, numbers[i] = 6, stack = [(2, 2), (3, 3), (4, 6)]\n",
    "        * i = 5, numbers[i] = 2, stack = [(5, 2)]\n",
    "            * (3, 3), (4, 6)에서 저장된 숫자 3, 6이 2가 커서 pop으로 제거\n",
    "            * L = 3이므로 3~5 3개의 값만 포함해야 하므로 (2, 2)을 제거\n",
    "        * i = 6, numbers[i] = 3, stack = [(5, 2), (6, 3)]\n",
    "        * i = 7, numbers[i] = 7, stack = [(5, 2), (6, 3), (7, 7)]\n",
    "        * i = 8, numbers[i] = 3, stack = [(6, 3), (8, 3)]\n",
    "            * (7, 7)에서 저장된 숫자 7이 3이 커서 pop으로 제거\n",
    "            * L = 3이므로 6~8 3개의 값만 포함해야 하므로 (5, 2)을 제거\n",
    "        * i = 9, numbers[i] = 5, stack = [(8, 3), (9, 5)]\n",
    "            * L = 3이므로 7~9 3개의 값만 포함해야 하므로 (6, 3)을 제거\n",
    "        * i = 10, numbers[i] = 2, stack = [(10, 2)]\n",
    "            * (8, 3), (9, 5)에서 저장된 숫자 3, 5가 2보다 커서 pop으로 제거\n",
    "        * i = 11, numbers[i] = 2, stack = [(10, 2), (11, 6)]\n",
    "            * (8, 3), (9, 5)에서 저장된 숫자 3, 5가 2보다 커서 pop으로 제거"
   ]
  },
  {
   "attachments": {},
   "cell_type": "markdown",
   "metadata": {},
   "source": [
    "https://www.acmicpc.net/problem/11003"
   ]
  }
 ],
 "metadata": {
  "kernelspec": {
   "display_name": "ws1",
   "language": "python",
   "name": "python3"
  },
  "language_info": {
   "codemirror_mode": {
    "name": "ipython",
    "version": 3
   },
   "file_extension": ".py",
   "mimetype": "text/x-python",
   "name": "python",
   "nbconvert_exporter": "python",
   "pygments_lexer": "ipython3",
   "version": "3.12.4"
  },
  "orig_nbformat": 4,
  "vscode": {
   "interpreter": {
    "hash": "2856db72fb1e77597a3b14e9c1bb4d2315d342edc16fc9e25c6c6e499688b933"
   }
  }
 },
 "nbformat": 4,
 "nbformat_minor": 2
}
