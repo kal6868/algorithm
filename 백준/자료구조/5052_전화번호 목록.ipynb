{
 "cells": [
  {
   "attachments": {},
   "cell_type": "markdown",
   "metadata": {},
   "source": [
    "# 전화번호 목록"
   ]
  },
  {
   "attachments": {},
   "cell_type": "markdown",
   "metadata": {},
   "source": [
    "## 문제"
   ]
  },
  {
   "cell_type": "markdown",
   "metadata": {},
   "source": [
    "* 전화번호 목록이 주어진다. 이때, 이 목록이 일관성이 있는지 없는지를 구하는 프로그램을 작성하시오."
   ]
  },
  {
   "cell_type": "markdown",
   "metadata": {},
   "source": [
    "* 전화번호 목록이 일관성을 유지하려면, 한 번호가 다른 번호의 접두어인 경우가 없어야 한다."
   ]
  },
  {
   "cell_type": "markdown",
   "metadata": {},
   "source": [
    "* 예를 들어, 전화번호 목록이 아래와 같은 경우를 생각해보자\n",
    "    * 긴급전화: 911\n",
    "    * 상근: 97 625 999\n",
    "    * 선영: 91 12 54 26"
   ]
  },
  {
   "cell_type": "markdown",
   "metadata": {},
   "source": [
    "* 문자열이 주어졌을 때, 이 문자열이 PPAP 문자열인지 아닌지를 알려주는 프로그램을 작성하여라."
   ]
  },
  {
   "attachments": {},
   "cell_type": "markdown",
   "metadata": {},
   "source": [
    "## 입력"
   ]
  },
  {
   "cell_type": "markdown",
   "metadata": {},
   "source": [
    "* 첫째 줄에 테스트 케이스의 개수 t가 주어진다. (1 ≤ t ≤ 50) 각 테스트 케이스의 첫째 줄에는 전화번호의 수 n이 주어진다. (1 ≤ n ≤ 10000) 다음 n개의 줄에는 목록에 포함되어 있는 전화번호가 하나씩 주어진다. 전화번호의 길이는 길어야 10자리이며, 목록에 있는 두 전화번호가 같은 경우는 없다."
   ]
  },
  {
   "attachments": {},
   "cell_type": "markdown",
   "metadata": {},
   "source": [
    "## 출력"
   ]
  },
  {
   "cell_type": "markdown",
   "metadata": {},
   "source": [
    "* 각 테스트 케이스에 대해서, 일관성 있는 목록인 경우에는 YES, 아닌 경우에는 NO를 출력한다."
   ]
  },
  {
   "attachments": {},
   "cell_type": "markdown",
   "metadata": {},
   "source": [
    "## Code"
   ]
  },
  {
   "cell_type": "code",
   "execution_count": 1,
   "metadata": {},
   "outputs": [],
   "source": [
    "# 5052_전화번호 목록\n",
    "import sys\n",
    "\n",
    "submit = False\n",
    "input = sys.stdin.readline if submit else input\n",
    "\n",
    "def solution():\n",
    "    t = int(input())\n",
    "    for _ in range(t):\n",
    "        n = int(input())\n",
    "        status = True\n",
    "        phone_numbers = sorted([input().rstrip() for _ in range(n)])\n",
    "        for i in range(len(phone_numbers) -  1):\n",
    "            if phone_numbers[i] in phone_numbers[i+1]:\n",
    "                status = False\n",
    "                break\n",
    "        if status:\n",
    "            print('YES')\n",
    "        else:\n",
    "            print('NO')\n"
   ]
  },
  {
   "cell_type": "code",
   "execution_count": null,
   "metadata": {},
   "outputs": [],
   "source": [
    "# 5052_전화번호 목록\n",
    "\n",
    "import sys\n",
    "\n",
    "submit = False\n",
    "input = sys.stdin.readline if submit else input\n",
    "\n",
    "def solution():\n",
    "    t = int(input())\n",
    "    for _ in range(t):\n",
    "        n = int(input())\n",
    "        status = True\n",
    "        phone_numbers = sorted([input().rstrip() for _ in range(n)])\n",
    "        \n",
    "        for p1, p2 in zip(phone_numbers, phone_numbers[1:]):\n",
    "            if p2.startswith(p1):\n",
    "                status = False\n",
    "\n",
    "        if status:\n",
    "            print('YES')\n",
    "        else:\n",
    "            print('NO')"
   ]
  },
  {
   "cell_type": "code",
   "execution_count": null,
   "metadata": {},
   "outputs": [],
   "source": [
    "# 5052_전화번호 목록\n",
    "\n",
    "import sys\n",
    "\n",
    "submit = False\n",
    "input = sys.stdin.readline if submit else input\n",
    "\n",
    "class Node:\n",
    "    def __init__(self, key, data = None):\n",
    "        self.key = key\n",
    "        self.data = data\n",
    "        self.children = {}\n",
    "\n",
    "class Trie:\n",
    "    def __init__(self):\n",
    "        self.head = Node(None)\n",
    "\n",
    "    def insert(self, string):\n",
    "        curr_node = self.head\n",
    "\n",
    "        for s in string:\n",
    "            if s not in curr_node.children:\n",
    "                curr_node.children[s] = Node(s)\n",
    "            curr_node = curr_node.children[s]\n",
    "        curr_node.data = string\n",
    "\n",
    "    def search_prefix(self, string):\n",
    "        curr_node = self.head\n",
    "\n",
    "        for s in string:\n",
    "            curr_node = curr_node.children[s]\n",
    "\n",
    "        if curr_node.children:\n",
    "            return False\n",
    "        else:\n",
    "            return True\n",
    "        \n",
    "def solution():\n",
    "    t = int(input())\n",
    "    for _ in range(t):\n",
    "        n = int(input())\n",
    "        trie = Trie()\n",
    "        phone_numbers = []\n",
    "        for i in range(n):\n",
    "            phone_number = input().rstrip()\n",
    "            phone_numbers.append(phone_number)\n",
    "            trie.insert(phone_number)\n",
    "\n",
    "        phone_numbers = sorted(phone_numbers)\n",
    "        status = True\n",
    "        for phone_number in phone_numbers:\n",
    "            if not trie.search_prefix(phone_number):\n",
    "                status = False\n",
    "                break\n",
    "        \n",
    "        if status:\n",
    "            print('YES')\n",
    "        else:\n",
    "            print('NO')"
   ]
  },
  {
   "attachments": {},
   "cell_type": "markdown",
   "metadata": {},
   "source": [
    "## 예제입력 - 출력"
   ]
  },
  {
   "cell_type": "code",
   "execution_count": 2,
   "metadata": {},
   "outputs": [
    {
     "name": "stdout",
     "output_type": "stream",
     "text": [
      "NO\n",
      "YES\n"
     ]
    }
   ],
   "source": [
    "solution()"
   ]
  },
  {
   "cell_type": "markdown",
   "metadata": {},
   "source": [
    "## Note"
   ]
  },
  {
   "cell_type": "markdown",
   "metadata": {},
   "source": [
    "### 풀이 1\n",
    "\n",
    "* 1. 전화번호를 문자열로 저장하면 번호가 낮고 짧은 순서대로 정렬된다.\n",
    "* 2. 정렬된 전화번호를 기준으로 주어진 번호보다 뒤쪽에 있는 번호에 주어진 번호와 일치하는 부분이 있는지 확인한다.\n",
    "    * 1\\) 접두어인 경우만 해당하므로 뒤쪽에 있는 번호를 indexing을 통해 주어진 번호와 같은 길이로 잘라준다."
   ]
  },
  {
   "cell_type": "markdown",
   "metadata": {},
   "source": [
    "### 풀이 2\n",
    "\n",
    "* 1. zip을 이용해서 정렬하여 비슷한 숫자로 시작하는 숫자들끼리 인접하게 붙여놓는다.\n",
    "* 2. zip을 이용해서 앞, 뒤로 인접한 두 숫자를 비교하여 startswith를 통해 한 숫자가 다른 숫자로 시작하는지 확인한다."
   ]
  },
  {
   "attachments": {},
   "cell_type": "markdown",
   "metadata": {},
   "source": [
    "https://www.acmicpc.net/problem/5052"
   ]
  }
 ],
 "metadata": {
  "kernelspec": {
   "display_name": "ws1",
   "language": "python",
   "name": "python3"
  },
  "language_info": {
   "codemirror_mode": {
    "name": "ipython",
    "version": 3
   },
   "file_extension": ".py",
   "mimetype": "text/x-python",
   "name": "python",
   "nbconvert_exporter": "python",
   "pygments_lexer": "ipython3",
   "version": "3.12.4"
  },
  "orig_nbformat": 4,
  "vscode": {
   "interpreter": {
    "hash": "2856db72fb1e77597a3b14e9c1bb4d2315d342edc16fc9e25c6c6e499688b933"
   }
  }
 },
 "nbformat": 4,
 "nbformat_minor": 2
}
