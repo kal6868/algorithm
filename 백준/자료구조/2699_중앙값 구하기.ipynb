{
 "cells": [
  {
   "attachments": {},
   "cell_type": "markdown",
   "metadata": {},
   "source": [
    "# 중앙값 구하기"
   ]
  },
  {
   "attachments": {},
   "cell_type": "markdown",
   "metadata": {},
   "source": [
    "## 문제"
   ]
  },
  {
   "cell_type": "markdown",
   "metadata": {},
   "source": [
    "* 어떤 수열을 읽고, 홀수번째 수를 읽을 때 마다, 지금까지 입력받은 값의 중앙값을 출력하는 프로그램을 작성하시오."
   ]
  },
  {
   "cell_type": "markdown",
   "metadata": {},
   "source": [
    "* 예를 들어, 수열이 1, 5, 4, 3, 2 이면, 홀수번째 수는 1번째 수, 3번째 수, 5번째 수이고, 1번째 수를 읽었을 때 중앙값은 1, 3번째 수를 읽었을 때는 4, 5번째 수를 읽었을 때는 3이다."
   ]
  },
  {
   "attachments": {},
   "cell_type": "markdown",
   "metadata": {},
   "source": [
    "## 입력"
   ]
  },
  {
   "cell_type": "markdown",
   "metadata": {},
   "source": [
    "* 첫째 줄에 테스트 케이스의 개수 T(1 ≤ T ≤ 1,000)가 주어진다. 각 테스트 케이스의 첫째 줄에는 수열의 크기 M(1 ≤ M ≤ 9999, M은 홀수)이 주어지고, 그 다음 줄부터 이 수열의 원소가 차례대로 주어진다. 원소는 한 줄에 10개씩 나누어져있고, 32비트 부호있는 정수이다."
   ]
  },
  {
   "attachments": {},
   "cell_type": "markdown",
   "metadata": {},
   "source": [
    "## 출력"
   ]
  },
  {
   "attachments": {},
   "cell_type": "markdown",
   "metadata": {},
   "source": [
    "* 각 테스트 케이스에 대해 첫째 줄에 출력하는 중앙값의 개수를 출력하고, 둘째 줄에는 홀수 번째 수를 읽을 때 마다 구한 중앙값을 차례대로 공백으로 구분하여 출력한다. 이때, 한 줄에 10개씩 출력해야 한다."
   ]
  },
  {
   "attachments": {},
   "cell_type": "markdown",
   "metadata": {},
   "source": [
    "## Code"
   ]
  },
  {
   "cell_type": "code",
   "execution_count": 1,
   "metadata": {},
   "outputs": [],
   "source": [
    "# 중앙값 구하기\n",
    "import sys\n",
    "import heapq\n",
    "\n",
    "submit = False\n",
    "input = sys.stdin.readline if submit else input\n",
    "\n",
    "def solution():\n",
    "    T = int(input())\n",
    "    for _ in range(T):\n",
    "        M = int(input())\n",
    "        numbers = []\n",
    "        for _ in range((M//10) + 1):\n",
    "            numbers.extend(list(map(int, input().split())))\n",
    "        result = []\n",
    "        leftHeap, rightHeap = [], []\n",
    "        for i, n in enumerate(numbers):\n",
    "            if len(leftHeap) == len(rightHeap):\n",
    "                heapq.heappush(leftHeap, -n)\n",
    "            else:\n",
    "                heapq.heappush(rightHeap, n)\n",
    "            \n",
    "            if rightHeap and (rightHeap[0] < -leftHeap[0]):\n",
    "                temp_left = heapq.heappop(leftHeap)\n",
    "                temp_right = heapq.heappop(rightHeap)\n",
    "\n",
    "                heapq.heappush(leftHeap, -temp_right)\n",
    "                heapq.heappush(rightHeap, -temp_left)\n",
    "            \n",
    "            if ((i+1) % 2) != 0:\n",
    "                result.append(-leftHeap[0])\n",
    "        print(len(result))\n",
    "        revised_result = []\n",
    "        for i, n in enumerate(map(str, result)):\n",
    "            if ((i+1) % 10 == 1):\n",
    "                revised_result.append(n)\n",
    "            else:\n",
    "                revised_result.append(' ' + n)\n",
    "\n",
    "            if (i+1) % 10 == 0:\n",
    "                revised_result.append('\\n')\n",
    "        print(''.join(revised_result))"
   ]
  },
  {
   "attachments": {},
   "cell_type": "markdown",
   "metadata": {},
   "source": [
    "## 예제입력 - 출력"
   ]
  },
  {
   "cell_type": "code",
   "execution_count": 2,
   "metadata": {},
   "outputs": [
    {
     "name": "stdout",
     "output_type": "stream",
     "text": [
      "5\n",
      "1 2 3 4 5\n",
      "5\n",
      "9 8 7 6 5\n",
      "12\n",
      "23 23 22 22 13 3 5 5 3 -3\n",
      "-7 -3\n"
     ]
    }
   ],
   "source": [
    "solution()"
   ]
  },
  {
   "attachments": {},
   "cell_type": "markdown",
   "metadata": {},
   "source": [
    "## Note"
   ]
  },
  {
   "cell_type": "markdown",
   "metadata": {},
   "source": [
    "* 1. 중앙 값을 기준으로 낮은 값과 큰 값을 분류하여 각자의 heap에 저장한다.\n",
    "    * 낮은 값을 저장하는 heap, 높은 값을 저장하는 heap에 순차적으로 값을 저장한다.\n",
    "    * 낮은 값을 저장한 heap의 0번 index 값을 중앙 값으로 사용한다.\n",
    "        * -1를 곱해서 저장하면 최대값이 0번 index에 위치\n",
    "    * 높은 값을 저장한 heap에는 그대로 저장하여 최소값이 0번 index에 위치하게 한다.\n",
    "\n",
    "* 2. 중앙 값을 새로 정해야 하는 경우 큰 값을 저장한 heap의 0번 index에 위치한 값을 중앙 값으로 갱신한다.\n",
    "    * 1\\) 먼저 낮은 값을 저장하는 heap(leftHeap), 큰 값을 저장하는 heap(rightHeap) 순서로 값을 저장한다.\n",
    "    * 2\\) leftHeap, rightHeap에 각각 값이 1개 이상 저장된 이후부터 각 Heap의 맨 앞에 위치한 값을 비교한다.\n",
    "    * 3\\) 값 비교 후 작은 값을 leftHeap에 -1을 곱하여 저장하고, 큰 값을 rightHeap에 저장한다.\n",
    "    * 4\\) 큰 값을 저장한 heap의 0번 index는 중앙값 다음으로 큰 값이므로 새로운 중앙값으로 사용한다.\n",
    "    * 5\\) 낮은 값 heap: [-최대값, ...], 큰 값 heap: [최소값, ...]으로 저장되어 있다.\n",
    "        * \"-최대값 > 최소값\"인 경우\n",
    "            * 최소값에 -1을 곱해 낮을 값을 저장한 heap으로 옮긴다\n",
    "            * -최대값에 -1을 곱해 높은 값을 저장한 heap으로 옮긴다\n",
    "            * 낮은 값을 저장한 heap의 0번 index의 값인 -최대값이 새로운 중앙값이 된다.\n",
    "            * leftHeap: [-중앙값, ..., ], rightHeap: [중앙 값 다음으로 큰 값, ..., ]\n",
    "\n",
    "* 3. 홀수 번 숫자 입력 순서에 중앙 값을 저장 후 10개 단위로 출력한다.\n",
    "    * 10개를 기준으로 처음 첫번째 수는 수는 그대로 저장하고, 나머지 수는 공백을 앞에 추가한다.\n",
    "    * 10개 값을 기준으로 줄바꿈(\\n)을 저장한다.\n",
    "    * List에 저장된 값을 출력하면 10개를 기준으로 줄바꿈 되어 출력된다."
   ]
  },
  {
   "attachments": {},
   "cell_type": "markdown",
   "metadata": {},
   "source": [
    "https://www.acmicpc.net/problem/2696"
   ]
  }
 ],
 "metadata": {
  "kernelspec": {
   "display_name": "ws1",
   "language": "python",
   "name": "python3"
  },
  "language_info": {
   "codemirror_mode": {
    "name": "ipython",
    "version": 3
   },
   "file_extension": ".py",
   "mimetype": "text/x-python",
   "name": "python",
   "nbconvert_exporter": "python",
   "pygments_lexer": "ipython3",
   "version": "3.12.4"
  },
  "orig_nbformat": 4,
  "vscode": {
   "interpreter": {
    "hash": "2856db72fb1e77597a3b14e9c1bb4d2315d342edc16fc9e25c6c6e499688b933"
   }
  }
 },
 "nbformat": 4,
 "nbformat_minor": 2
}
