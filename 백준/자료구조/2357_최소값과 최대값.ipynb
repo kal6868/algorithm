{
 "cells": [
  {
   "attachments": {},
   "cell_type": "markdown",
   "metadata": {},
   "source": [
    "# 최솟값과 최댓값"
   ]
  },
  {
   "attachments": {},
   "cell_type": "markdown",
   "metadata": {},
   "source": [
    "## 문제"
   ]
  },
  {
   "cell_type": "markdown",
   "metadata": {},
   "source": [
    "* N(1 ≤ N ≤ 100,000)개의 정수들이 있을 때, a번째 정수부터 b번째 정수까지 중에서 제일 작은 정수, 또는 제일 큰 정수를 찾는 것은 어려운 일이 아니다. 하지만 이와 같은 a, b의 쌍이 M(1 ≤ M ≤ 100,000)개 주어졌을 때는 어려운 문제가 된다. 이 문제를 해결해 보자."
   ]
  },
  {
   "cell_type": "markdown",
   "metadata": {},
   "source": [
    "* 여기서 a번째라는 것은 입력되는 순서로 a번째라는 이야기이다. 예를 들어 a=1, b=3이라면 입력된 순서대로 1번, 2번, 3번 정수 중에서 최소, 최댓값을 찾아야 한다. 각각의 정수들은 1이상 1,000,000,000이하의 값을 갖는다."
   ]
  },
  {
   "attachments": {},
   "cell_type": "markdown",
   "metadata": {},
   "source": [
    "## 입력"
   ]
  },
  {
   "cell_type": "markdown",
   "metadata": {},
   "source": [
    "* 첫째 줄에 N, M이 주어진다. 다음 N개의 줄에는 N개의 정수가 주어진다. 다음 M개의 줄에는 a, b의 쌍이 주어진다."
   ]
  },
  {
   "attachments": {},
   "cell_type": "markdown",
   "metadata": {},
   "source": [
    "## 출력"
   ]
  },
  {
   "attachments": {},
   "cell_type": "markdown",
   "metadata": {},
   "source": [
    "* M개의 줄에 입력받은 순서대로 각 a, b에 대한 답을 최솟값, 최댓값 순서로 출력한다."
   ]
  },
  {
   "attachments": {},
   "cell_type": "markdown",
   "metadata": {},
   "source": [
    "## Code"
   ]
  },
  {
   "cell_type": "code",
   "execution_count": null,
   "metadata": {},
   "outputs": [],
   "source": [
    "# 2357_최솟값과 최댓값 # 시간초과 풀이\n",
    "\n",
    "import sys\n",
    "\n",
    "submit = False\n",
    "input = sys.stdin.readline if submit else input\n",
    "\n",
    "def solution():\n",
    "    N, M = map(int, input().split())\n",
    "    numbers = [int(input()) for i in range(N)]\n",
    "    pairs = [tuple(map(int, input().split())) for _ in range(M)]\n",
    "\n",
    "    for i, j in pairs:\n",
    "        temp = sorted(numbers[i-1:j+1])\n",
    "        print(temp[0], temp[-1])"
   ]
  },
  {
   "cell_type": "code",
   "execution_count": null,
   "metadata": {},
   "outputs": [],
   "source": [
    "# 2357_최솟값과 최댓값\n",
    "import sys\n",
    "import math\n",
    "\n",
    "submit = False\n",
    "input = sys.stdin.readline if submit else input\n",
    "\n",
    "def makeSegTree(arr, seg, idx, st, ed):\n",
    "    if st == ed:\n",
    "        seg[idx] = (arr[st], arr[st])\n",
    "        return seg[idx]\n",
    "    \n",
    "    mid = (st + ed) // 2\n",
    "    left, right = makeSegTree(arr, seg, idx * 2, st, mid), makeSegTree(arr, seg, idx * 2 + 1, mid+1, ed)\n",
    "    seg[idx] = (min(left[0], right[0]), max(left[1], right[1]))\n",
    "    return seg[idx]\n",
    "\n",
    "def find(seg, range1, range2, idx, st, ed):\n",
    "    if range2 < st or range1 > ed:\n",
    "        return(10**9+1, 0)\n",
    "    if range1 <= st and ed <= range2:\n",
    "        return seg[idx]\n",
    "    \n",
    "    mid = (st + ed) // 2\n",
    "    left, right = find(seg, range1, range2, idx * 2, st, mid), find(seg, range1, range2, idx * 2 + 1, mid + 1, ed)\n",
    "    return (min(left[0], right[0]), max(left[1], right[1]))\n",
    "\n",
    "def solution():   \n",
    "    N, M = map(int, input().split())\n",
    "    arr = [int(input()) for _ in range(N)]\n",
    "    h = math.ceil(math.log2(N)) + 1\n",
    "    nodeNum = 1 << h\n",
    "    seg = [0 for _ in range(nodeNum)]\n",
    "\n",
    "    makeSegTree(arr, seg, 1, 0, len(arr) - 1)\n",
    "    for _ in range(M):\n",
    "        range1, range2 = map(int, input().split())\n",
    "        range1, range2 = range1 - 1, range2 - 1\n",
    "        answer = find(seg, range1, range2, 1, 0, len(arr) - 1)\n",
    "        print(answer[0], answer[1])"
   ]
  },
  {
   "attachments": {},
   "cell_type": "markdown",
   "metadata": {},
   "source": [
    "## 예제입력 - 출력"
   ]
  },
  {
   "cell_type": "markdown",
   "metadata": {},
   "source": [
    "### 풀이 1\n",
    "\n",
    "* 1\\. 숫자를 입력된 순서대로 저장 후 indexing을 통해 입력된 순서대로 a부터 b까지의 숫자만 선택 후 정렬하여 최소값과 최대값을 구한다"
   ]
  },
  {
   "cell_type": "markdown",
   "metadata": {},
   "source": [
    "### 풀이 2\n",
    "\n",
    "* 1\\. Segment Tree를 이용하여 구간 별 최소값, 최대값을 미리 저장한 후 원하는 구간의 최소값, 최대값을 불러온다.\n",
    "    * 1\\) makeSegTree를 통해 입력받은 숫자의 구간 별 최소, 최대 값을 미리 저장한다.\n",
    "    * 2\\) 전체 구간을 반으로 나눠 구간에 존재하는 숫자가 1개만 남을때까지 구간을 나눈다.\n",
    "    * 3\\) 존재하는 숫자가 1개만 남으면 해당 Node의 최소, 최대값은 자기 자신이므로 결과를 list(seg)에 저장한다.\n",
    "    * 4\\) 최하단 Node의 상단 Node는 숫자 2개 구간의 최소, 최대값이 저장되게 되고 반복되면서 반으로 나눴던 모든 구간의 최소, 최대값이 저장된다.\n",
    "        * 저장할 때, 상위 index의 *2와 *2+1에 저장한다.\n",
    "        * 1 -> 2, 3 / 2 -> 4, 5 / 3 -> 6, 7 ...\n",
    "        * eg. 75, 30, 100, 38, 50, 51, 52, 20, 81, 5\n",
    "        * index: 1 -> 2, 3 / 2 -> 4, 5 / 3 -> 6, 7 ...\n",
    "            * index 1: 전체 구간의 최소값 \n",
    "            * \\-----------------------------------------\n",
    "            * index 2: 75(0) ~ 50(4) 구간의 최소값\n",
    "            * index 3: 51(5) ~ 5(9) 구간의 최소값\n",
    "            * \\-----------------------------------------\n",
    "            * index 4: 75(0) ~ 100(2) 구간의 최소값\n",
    "            * index 5: 100(3) ~ 38(4) 구간의 최소값\n",
    "            * index 6: 51(5) ~ 20(7) 구간의 최소값\n",
    "            * index 7: 81(8) ~ 5(9) 구간의 최소값\n",
    "            * \\-----------------------------------------\n",
    "            * index 8: 75(0) ~ 30(1) 구간의 최소값\n",
    "            * index 9: 100(2) ~ 100(2): 마지막 Node로 최소값 100으로 설정\n",
    "            * index 10: 100(3) ~ 100(3): 마지막 Node로 최소값 100으로 설정\n",
    "            * index 11: 38(4) ~ 38(4): 마지막 Node로 최소값 38으로 설정\n",
    "            * index 12: 51(5) ~ 52(6) 구간의 최소값\n",
    "            * index 13: 20(7) ~ 20(7): 마지막 Node로 최소값 20으로 설정\n",
    "            * index 14: 81(8) ~ 81(8): 마지막 Node로 최소값 81으로 설정\n",
    "            * index 15: 5(9) ~ 5(9): 마지막 Node로 최소값 5으로 설정\n",
    "            * 마지막 노드에서 최소 값이 결정되면 상위 노드는 하위 노드 중 최소값으로 설정되며 최종적으로 전체 구간의 최소값이 설정된다.\n",
    "\n",
    "\n",
    "* 2\\. 주어진 구간에 따라 Segment Tree를 탐색하면서 해당하는 구간의 최소값, 최대값을 불러온 후 구간끼리 값을 비교한다.\n",
    "    * 1\\) 최소, 최대값을 찾는 구간이 현재 주어진 구간보다 넓다면, 구간을 반으로 나눈 후 최소, 최대값을 찾는다.\n",
    "    * 2\\) 주어진 구간을 포함하는 구간의 최소, 최대값이 여러개인 경우, 최소, 최대값 비교 후 최종 최소, 최대값을 찾는다\n",
    "        * eg. [75(0), 30(1), 100(2), 38(3), 50(4), 51(5), 52(6), 20(7), 81(8), 5(9)] / start:8, end: 10\n",
    "        * 0부터 시작하므로 구간에서 1을 빼준다. / start:7, end: 9\n",
    "         * OUT | range1: 0 range2: 9 -> 찾을 구간이 현재 주어진 구간보다 크다, 찾을 구간을 반으로 줄인다.\n",
    "        * OUT | range1: 5 range2: 9 -> 찾을 구간이 현재 주어진 구간보다 크다, 찾을 구간을 반으로 줄인다.\n",
    "        * OUT | range1: 5 range2: 7 -> 찾을 구간이 현재 주어진 구간보다 크다, 찾을 구간을 반으로 줄인다.\n",
    "        *  IN | range1: 7 range2: 9 -> (7~9) 범위 조건이 성립하므로 index를 기준으로 저장된 최소, 최대값인 (5, 81)을 불러온다."
   ]
  },
  {
   "cell_type": "code",
   "execution_count": 2,
   "metadata": {},
   "outputs": [
    {
     "name": "stdout",
     "output_type": "stream",
     "text": [
      "5 100\n",
      "38 100\n",
      "5 81\n",
      "5 81\n"
     ]
    }
   ],
   "source": [
    "solution()"
   ]
  },
  {
   "attachments": {},
   "cell_type": "markdown",
   "metadata": {},
   "source": [
    "## Note"
   ]
  },
  {
   "attachments": {},
   "cell_type": "markdown",
   "metadata": {},
   "source": [
    "https://www.acmicpc.net/problem/2357"
   ]
  }
 ],
 "metadata": {
  "kernelspec": {
   "display_name": "ws1",
   "language": "python",
   "name": "python3"
  },
  "language_info": {
   "codemirror_mode": {
    "name": "ipython",
    "version": 3
   },
   "file_extension": ".py",
   "mimetype": "text/x-python",
   "name": "python",
   "nbconvert_exporter": "python",
   "pygments_lexer": "ipython3",
   "version": "3.12.4"
  },
  "orig_nbformat": 4,
  "vscode": {
   "interpreter": {
    "hash": "2856db72fb1e77597a3b14e9c1bb4d2315d342edc16fc9e25c6c6e499688b933"
   }
  }
 },
 "nbformat": 4,
 "nbformat_minor": 2
}
