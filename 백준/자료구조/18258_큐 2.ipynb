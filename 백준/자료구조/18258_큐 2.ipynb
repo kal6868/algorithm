{
 "cells": [
  {
   "attachments": {},
   "cell_type": "markdown",
   "metadata": {},
   "source": [
    "# 큐 2"
   ]
  },
  {
   "attachments": {},
   "cell_type": "markdown",
   "metadata": {},
   "source": [
    "## 문제"
   ]
  },
  {
   "attachments": {},
   "cell_type": "markdown",
   "metadata": {},
   "source": [
    "* 정수를 저장하는 큐를 구현한 다음, 입력으로 주어지는 명령을 처리하는 프로그램을 작성하시오."
   ]
  },
  {
   "cell_type": "markdown",
   "metadata": {},
   "source": [
    "* 명령은 총 여섯 가지이다.\n",
    "    * push X: 정수 X를 큐에 넣는 연산이다.\n",
    "    * pop: 큐에서 가장 앞에 있는 정수를 빼고, 그 수를 출력한다. 만약 큐에 들어있는 정수가 없는 경우에는 -1을 출력한다.\n",
    "    * size: 큐에 들어있는 정수의 개수를 출력한다.\n",
    "    * empty: 큐가 비어있으면 1, 아니면 0을 출력한다.\n",
    "    * front: 큐의 가장 앞에 있는 정수를 출력한다. 만약 큐에 들어있는 정수가 없는 경우에는 -1을 출력한다.\n",
    "    * back: 큐의 가장 뒤에 있는 정수를 출력한다. 만약 큐에 들어있는 정수가 없는 경우에는 -1을 출력한다."
   ]
  },
  {
   "attachments": {},
   "cell_type": "markdown",
   "metadata": {},
   "source": [
    "## 입력"
   ]
  },
  {
   "attachments": {},
   "cell_type": "markdown",
   "metadata": {},
   "source": [
    "* 첫째 줄에 주어지는 명령의 수 N (1 ≤ N ≤ 2,000,000)이 주어진다. 둘째 줄부터 N개의 줄에는 명령이 하나씩 주어진다. 주어지는 정수는 1보다 크거나 같고, 100,000보다 작거나 같다. 문제에 나와있지 않은 명령이 주어지는 경우는 없다."
   ]
  },
  {
   "attachments": {},
   "cell_type": "markdown",
   "metadata": {},
   "source": [
    "## 출력"
   ]
  },
  {
   "attachments": {},
   "cell_type": "markdown",
   "metadata": {},
   "source": [
    "* 출력해야하는 명령이 주어질 때마다, 한 줄에 하나씩 출력한다."
   ]
  },
  {
   "attachments": {},
   "cell_type": "markdown",
   "metadata": {},
   "source": [
    "## Code"
   ]
  },
  {
   "cell_type": "code",
   "execution_count": 1,
   "metadata": {},
   "outputs": [],
   "source": [
    "# 18258_큐 2 # 자료구조 # deque 구현\n",
    "import sys\n",
    "from collections import deque\n",
    "\n",
    "submit = False\n",
    "input = sys.stdin.readline if submit else input\n",
    "\n",
    "class queue():\n",
    "    def __init__(self):\n",
    "        self.deque = deque()\n",
    "\n",
    "    def proc(self, input_command):\n",
    "        command_split = input_command.split()\n",
    "\n",
    "        if len(command_split) == 2:\n",
    "            command, number = command_split\n",
    "            number = int(number)\n",
    "        elif len(command_split) == 1:\n",
    "            command = command_split[0]\n",
    "\n",
    "        if command == 'push':\n",
    "            self.deque.append(number)\n",
    "\n",
    "        elif command == 'pop':\n",
    "            if self.deque:\n",
    "                n = self.deque.popleft()\n",
    "                print(n)\n",
    "            else:\n",
    "                print(-1)\n",
    "        elif command == 'size':\n",
    "            print(len(self.deque))\n",
    "\n",
    "        elif command == 'empty':\n",
    "            if self.deque:\n",
    "                print(0)\n",
    "            else:\n",
    "                print(1)\n",
    "\n",
    "        elif command == 'front':\n",
    "            if self.deque:\n",
    "                print(self.deque[0])\n",
    "            else:\n",
    "                print(-1)\n",
    "        \n",
    "        elif command == 'back':\n",
    "            if self.deque:\n",
    "                print(self.deque[-1])\n",
    "            else:\n",
    "                print(-1)\n",
    "\n",
    "def deque_program(count):\n",
    "    que = queue()\n",
    "    for _ in range(count):\n",
    "        que.proc(input())\n",
    "\n",
    "def solution():\n",
    "    count = int(input())\n",
    "    deque_program(count)"
   ]
  },
  {
   "cell_type": "code",
   "execution_count": null,
   "metadata": {},
   "outputs": [],
   "source": [
    "# 18258_큐 2 # 자료구조 # list 구현 # 시간 초과\n",
    "\n",
    "import sys\n",
    "submit = True\n",
    "\n",
    "input = sys.stdin.readline if submit else input\n",
    "\n",
    "\n",
    "class queue():\n",
    "    def __init__(self):\n",
    "        self.deque = []\n",
    "\n",
    "    def proc(self, input_command):\n",
    "        command_split = input_command.split()\n",
    "\n",
    "        if len(command_split) == 2:\n",
    "            command, number = command_split\n",
    "            number = int(number)\n",
    "        elif len(command_split) == 1:\n",
    "            command = command_split[0]\n",
    "\n",
    "        if command == 'push':\n",
    "            self.deque.append(number)\n",
    "\n",
    "        elif command == 'pop':\n",
    "            if self.deque:\n",
    "                n = self.deque[0]\n",
    "                self.deque = self.deque[1:]\n",
    "                print(n)\n",
    "            else:\n",
    "                print(-1)\n",
    "        elif command == 'size':\n",
    "            print(len(self.deque))\n",
    "\n",
    "        elif command == 'empty':\n",
    "            if self.deque:\n",
    "                print(0)\n",
    "            else:\n",
    "                print(1)\n",
    "\n",
    "        elif command == 'front':\n",
    "            if self.deque:\n",
    "                print(self.deque[0])\n",
    "            else:\n",
    "                print(-1)\n",
    "        \n",
    "        elif command == 'back':\n",
    "            if self.deque:\n",
    "                print(self.deque[-1])\n",
    "            else:\n",
    "                print(-1)\n",
    "\n",
    "def deque_program(count):\n",
    "    que = queue()\n",
    "    for _ in range(count):\n",
    "        que.proc(input())\n",
    "\n",
    "count = int(input())\n",
    "deque_program(count)\n"
   ]
  },
  {
   "attachments": {},
   "cell_type": "markdown",
   "metadata": {},
   "source": [
    "## 예제입력 - 출력"
   ]
  },
  {
   "cell_type": "code",
   "execution_count": 2,
   "metadata": {},
   "outputs": [
    {
     "name": "stdout",
     "output_type": "stream",
     "text": [
      "1\n",
      "2\n",
      "2\n",
      "0\n",
      "1\n",
      "2\n",
      "-1\n",
      "0\n",
      "1\n",
      "-1\n",
      "0\n",
      "3\n"
     ]
    }
   ],
   "source": [
    "solution()"
   ]
  },
  {
   "attachments": {},
   "cell_type": "markdown",
   "metadata": {},
   "source": [
    "## Note"
   ]
  },
  {
   "cell_type": "markdown",
   "metadata": {},
   "source": [
    "* 1. collections의 deque 자료구조를 사용하여 큐를 구현한다./\n",
    "    * deque은 양방향 큐로 양 끝의 자료를 추가하거나(append), 제거(pop)하는 속도가 list보다 빠르다\n",
    "    * 1\\) push: append method를 사용해서 deque의 끝에 요소를 추가한다.\n",
    "    * 2\\) pop: popleft method를 사용해서 맨 앞의 요소를 추출한다.\n",
    "    * 3\\) size: len 함수를 이용해서 deque의 원소의 개수를 구한다.\n",
    "    * 4\\) empty: deque에 요소가 있으면 1, 없으면 0을 출력한다.\n",
    "    * 5\\) front: deque 비어있지 않으면 맨 앞의 요소를 출력하고, 비어있으면 0을 출력한다.\n",
    "    * 6\\) back: deque 비어있지 않으면 맨 뒤의 요소를 출력하고, 비어있으면 0을 출력한다."
   ]
  },
  {
   "attachments": {},
   "cell_type": "markdown",
   "metadata": {},
   "source": [
    "https://www.acmicpc.net/problem/18258"
   ]
  }
 ],
 "metadata": {
  "kernelspec": {
   "display_name": "ws1",
   "language": "python",
   "name": "python3"
  },
  "language_info": {
   "codemirror_mode": {
    "name": "ipython",
    "version": 3
   },
   "file_extension": ".py",
   "mimetype": "text/x-python",
   "name": "python",
   "nbconvert_exporter": "python",
   "pygments_lexer": "ipython3",
   "version": "3.12.4"
  },
  "orig_nbformat": 4,
  "vscode": {
   "interpreter": {
    "hash": "2856db72fb1e77597a3b14e9c1bb4d2315d342edc16fc9e25c6c6e499688b933"
   }
  }
 },
 "nbformat": 4,
 "nbformat_minor": 2
}
