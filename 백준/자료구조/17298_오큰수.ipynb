{
 "cells": [
  {
   "attachments": {},
   "cell_type": "markdown",
   "metadata": {},
   "source": [
    "# 오큰수"
   ]
  },
  {
   "attachments": {},
   "cell_type": "markdown",
   "metadata": {},
   "source": [
    "## 문제"
   ]
  },
  {
   "cell_type": "markdown",
   "metadata": {},
   "source": [
    "* 크기가 N인 수열 A = A1, A2, ..., AN이 있다. 수열의 각 원소 Ai에 대해서 오큰수 NGE(i)를 구하려고 한다. Ai의 오큰수는 오른쪽에 있으면서 Ai보다 큰 수 중에서 가장 왼쪽에 있는 수를 의미한다. 그러한 수가 없는 경우에 오큰수는 -1이다."
   ]
  },
  {
   "cell_type": "markdown",
   "metadata": {},
   "source": [
    "* 예를 들어, A = [3, 5, 2, 7]인 경우 NGE(1) = 5, NGE(2) = 7, NGE(3) = 7, NGE(4) = -1이다. A = [9, 5, 4, 8]인 경우에는 NGE(1) = -1, NGE(2) = 8, NGE(3) = 8, NGE(4) = -1이다."
   ]
  },
  {
   "attachments": {},
   "cell_type": "markdown",
   "metadata": {},
   "source": [
    "## 입력"
   ]
  },
  {
   "cell_type": "markdown",
   "metadata": {},
   "source": [
    "* 첫째 줄에 수열 A의 크기 N (1 ≤ N ≤ 1,000,000)이 주어진다. 둘째 줄에 수열 A의 원소 A1, A2, ..., AN (1 ≤ Ai ≤ 1,000,000)이 주어진다."
   ]
  },
  {
   "attachments": {},
   "cell_type": "markdown",
   "metadata": {},
   "source": [
    "## 출력"
   ]
  },
  {
   "cell_type": "markdown",
   "metadata": {},
   "source": [
    "* 총 N개의 수 NGE(1), NGE(2), ..., NGE(N)을 공백으로 구분해 출력한다."
   ]
  },
  {
   "attachments": {},
   "cell_type": "markdown",
   "metadata": {},
   "source": [
    "## Code"
   ]
  },
  {
   "cell_type": "code",
   "execution_count": 1,
   "metadata": {},
   "outputs": [],
   "source": [
    "# 17298_오큰수 # 시간초과 풀이\n",
    "\n",
    "import sys\n",
    "\n",
    "submit = False\n",
    "input = sys.stdin.readline if submit else input\n",
    "\n",
    "def get_NGE(idx, n, numbers):\n",
    "    right_numbers = numbers[idx:]\n",
    "    higher_num = -1\n",
    "    for i in right_numbers:\n",
    "        if i > n:\n",
    "            higher_num = i\n",
    "            break\n",
    "    return higher_num\n",
    "\n",
    "def solution():\n",
    "    N = int(input())\n",
    "    numbers = list(map(int, input().split()))\n",
    "\n",
    "    for i, n in enumerate(numbers):\n",
    "        print(get_NGE(i, n, numbers), end = ' ')"
   ]
  },
  {
   "cell_type": "code",
   "execution_count": null,
   "metadata": {},
   "outputs": [],
   "source": [
    "# 17298_오큰수 # list 풀이\n",
    "\n",
    "import sys\n",
    "from collections import deque\n",
    "\n",
    "submit = False\n",
    "input = sys.stdin.readline if submit else input\n",
    "\n",
    "def solution():\n",
    "    N = int(input())\n",
    "    numbers = list(map(int, input().split()))\n",
    "\n",
    "    stack = []\n",
    "    result = [-1] * N\n",
    "    for i in range(N):\n",
    "        while stack and numbers[stack[-1]] < numbers[i]:\n",
    "            result[stack.pop()] = numbers[i]\n",
    "        stack.append(i)\n",
    "    print(*result)"
   ]
  },
  {
   "cell_type": "code",
   "execution_count": null,
   "metadata": {},
   "outputs": [],
   "source": [
    "# 17298_오큰수 # deque 풀이\n",
    "\n",
    "import sys\n",
    "from collections import deque\n",
    "\n",
    "submit = False\n",
    "input = sys.stdin.readline if submit else input\n",
    "\n",
    "def solution():\n",
    "    N = int(input())\n",
    "    numbers = list(map(int, input().split()))\n",
    "\n",
    "    stack = deque()\n",
    "    result = [-1] * N\n",
    "    for i in range(N):\n",
    "        while stack and numbers[stack[-1]] < numbers[i]:\n",
    "            result[stack.pop()] = numbers[i]\n",
    "        stack.append(i)\n",
    "    print(*result)"
   ]
  },
  {
   "cell_type": "code",
   "execution_count": 3,
   "metadata": {},
   "outputs": [
    {
     "name": "stdout",
     "output_type": "stream",
     "text": [
      "5 7 7 -1\n"
     ]
    }
   ],
   "source": [
    "solution()"
   ]
  },
  {
   "cell_type": "code",
   "execution_count": 4,
   "metadata": {},
   "outputs": [
    {
     "name": "stdout",
     "output_type": "stream",
     "text": [
      "-1 8 8 -1\n"
     ]
    }
   ],
   "source": [
    "solution()"
   ]
  },
  {
   "attachments": {},
   "cell_type": "markdown",
   "metadata": {},
   "source": [
    "## Note"
   ]
  },
  {
   "cell_type": "markdown",
   "metadata": {},
   "source": [
    "### 풀이 1\n",
    "* 1. 수열에서 Indexing을 통해 해당 숫자 오른편에 위치하는 수만 찾은 뒤, for문을 사용하여 주어진 숫자보다 크면 탐색을 멈춘다."
   ]
  },
  {
   "cell_type": "markdown",
   "metadata": {},
   "source": [
    "### 풀이 2\n",
    "* 1. stack에 숫자의 index를 저장하고 현재 수가 이전 수 들의 오큰수 인지 확인 후 오큰수이면 저장한다.\n",
    "    * 1\\) ex. number == [3, 5, 2, 7] \n",
    "    * 1\\) stack에 아무것도 저장되어 있지 않으므로 0을 저장한다\n",
    "    * 2\\) i == 1 일때, numbers[1] == 5와 numbers(stack[-1]) == 3을 비교한다.\n",
    "        * 3 < 5은 성립하므로 result ==[-1, -1, -1, -1]를 [5, -1, -1, -1]으로 갱신하고 stack[-1](0)을 제거한다.\n",
    "        * i == 1을 stack에 저장한다.\n",
    "\n",
    "    * 3\\) i == 2 일때, numbers[2] == 2와 numbers(stack[-1]) == 5를 비교한다.\n",
    "        * 5 < 2은 성립하지 않으므료 result == [5, -1, -1, -1]이 된다.\n",
    "        * i == 2을 stack에 저장한다.\n",
    "\n",
    "    * 4\\) i == 3 일때, numbers[3] == 2와 stack[-1] == 2를 비교한다.\n",
    "        * 2 < 7은 성립하므로 result == [5, -1, -1, -1]를 [5, -1, 7, -1]으로 갱신하고 stack[-1](2)을 제거한다.\n",
    "        * stack에 아직 1이 남아있으므로 numbers[3] == 7와 numbers(stack[-1]) == 5을 비교한다.\n",
    "        * 5 < 7은 성립하므로 result == [5, -1, 7, -1]를 [5, 7, 7, -1]으로 갱신하고 stack[-1](0)을 제거한다.\n",
    "\n",
    "    * 5\\) for in range(N)문이 종료되므로 마지막 요소는 항상 -1이 된다\n",
    "        * 오른쪽에 수가 없으므로 오큰수가 존재 할 수 없다.\n",
    "* 1164 ms"
   ]
  },
  {
   "cell_type": "markdown",
   "metadata": {},
   "source": [
    "https://www.acmicpc.net/problem/17298"
   ]
  }
 ],
 "metadata": {
  "kernelspec": {
   "display_name": "ws1",
   "language": "python",
   "name": "python3"
  },
  "language_info": {
   "codemirror_mode": {
    "name": "ipython",
    "version": 3
   },
   "file_extension": ".py",
   "mimetype": "text/x-python",
   "name": "python",
   "nbconvert_exporter": "python",
   "pygments_lexer": "ipython3",
   "version": "3.11.5"
  },
  "orig_nbformat": 4,
  "vscode": {
   "interpreter": {
    "hash": "2856db72fb1e77597a3b14e9c1bb4d2315d342edc16fc9e25c6c6e499688b933"
   }
  }
 },
 "nbformat": 4,
 "nbformat_minor": 2
}
