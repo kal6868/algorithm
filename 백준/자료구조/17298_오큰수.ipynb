{
 "cells": [
  {
   "attachments": {},
   "cell_type": "markdown",
   "metadata": {},
   "source": [
    "# 오큰수"
   ]
  },
  {
   "attachments": {},
   "cell_type": "markdown",
   "metadata": {},
   "source": [
    "## 문제"
   ]
  },
  {
   "cell_type": "markdown",
   "metadata": {},
   "source": [
    "* 크기가 N인 수열 A = A1, A2, ..., AN이 있다. 수열의 각 원소 Ai에 대해서 오큰수 NGE(i)를 구하려고 한다. Ai의 오큰수는 오른쪽에 있으면서 Ai보다 큰 수 중에서 가장 왼쪽에 있는 수를 의미한다. 그러한 수가 없는 경우에 오큰수는 -1이다."
   ]
  },
  {
   "cell_type": "markdown",
   "metadata": {},
   "source": [
    "* 예를 들어, A = [3, 5, 2, 7]인 경우 NGE(1) = 5, NGE(2) = 7, NGE(3) = 7, NGE(4) = -1이다. A = [9, 5, 4, 8]인 경우에는 NGE(1) = -1, NGE(2) = 8, NGE(3) = 8, NGE(4) = -1이다."
   ]
  },
  {
   "attachments": {},
   "cell_type": "markdown",
   "metadata": {},
   "source": [
    "## 입력"
   ]
  },
  {
   "attachments": {},
   "cell_type": "markdown",
   "metadata": {},
   "source": [
    "* 첫째 줄에 수열 A의 크기 N (1 ≤ N ≤ 1,000,000)이 주어진다. 둘째 줄에 수열 A의 원소 A1, A2, ..., AN (1 ≤ Ai ≤ 1,000,000)이 주어진다."
   ]
  },
  {
   "attachments": {},
   "cell_type": "markdown",
   "metadata": {},
   "source": [
    "## 출력"
   ]
  },
  {
   "attachments": {},
   "cell_type": "markdown",
   "metadata": {},
   "source": [
    "* 총 N개의 수 NGE(1), NGE(2), ..., NGE(N)을 공백으로 구분해 출력한다."
   ]
  },
  {
   "attachments": {},
   "cell_type": "markdown",
   "metadata": {},
   "source": [
    "## Code"
   ]
  },
  {
   "cell_type": "code",
   "execution_count": 1,
   "metadata": {},
   "outputs": [],
   "source": [
    "#17298_오큰수 # 시간 초과\n",
    "import sys\n",
    "from collections import deque\n",
    "\n",
    "submit = False\n",
    "input = sys.stdin.readline if submit else input\n",
    "\n",
    "def get_NGE(idx, n, numbers):\n",
    "    right_numbers = numbers[idx:]\n",
    "    higher_num = -1\n",
    "    for i in right_numbers:\n",
    "        if i > n:\n",
    "            higher_num = i\n",
    "            break\n",
    "    return higher_num\n",
    "\n",
    "def solution():\n",
    "    N = int(input())\n",
    "    numbers = list(map(int, input().split()))\n",
    "\n",
    "    for i, n in enumerate(numbers):\n",
    "        print(get_NGE(i, n, numbers), end = ' ')\n",
    "\n"
   ]
  },
  {
   "cell_type": "code",
   "execution_count": null,
   "metadata": {},
   "outputs": [],
   "source": [
    "# 17298_오큰수 # deque 풀이\n",
    "\n",
    "import sys\n",
    "from collections import deque\n",
    "\n",
    "submit = False\n",
    "input = sys.stdin.readline if submit else input\n",
    "\n",
    "def solution():\n",
    "    N = int(input())\n",
    "    numbers = list(map(int, input().split()))\n",
    "\n",
    "    stack = deque()\n",
    "    result = [-1] * N\n",
    "    for i in range(N):\n",
    "        while stack and numbers[stack[-1]] < numbers[i]:\n",
    "            result[stack.pop()] = numbers[i]\n",
    "        stack.append(i)\n",
    "    print(*result)\n"
   ]
  },
  {
   "cell_type": "code",
   "execution_count": null,
   "metadata": {},
   "outputs": [],
   "source": [
    "# 17298_오큰수 # list 풀이\n",
    "\n",
    "import sys\n",
    "from collections import deque\n",
    "\n",
    "submit = False\n",
    "input = sys.stdin.readline if submit else input \n",
    "\n",
    "def solution():\n",
    "    N = int(input())\n",
    "    numbers = list(map(int, input().split()))\n",
    "\n",
    "    stack = []\n",
    "    result = [-1] * N\n",
    "    for i in range(N):\n",
    "        while stack and numbers[stack[-1]] < numbers[i]: \n",
    "            result[stack.pop()] = numbers[i]\n",
    "        stack.append(i)\n",
    "    print(*result)"
   ]
  },
  {
   "cell_type": "code",
   "execution_count": 2,
   "metadata": {},
   "outputs": [
    {
     "name": "stdout",
     "output_type": "stream",
     "text": [
      "5 7 7 -1 "
     ]
    }
   ],
   "source": [
    "solution()"
   ]
  },
  {
   "attachments": {},
   "cell_type": "markdown",
   "metadata": {},
   "source": [
    "## 예제입력 - 출력"
   ]
  },
  {
   "cell_type": "code",
   "execution_count": 3,
   "metadata": {},
   "outputs": [
    {
     "name": "stdout",
     "output_type": "stream",
     "text": [
      "-1 8 8 -1 "
     ]
    }
   ],
   "source": [
    "solution()"
   ]
  },
  {
   "attachments": {},
   "cell_type": "markdown",
   "metadata": {},
   "source": [
    "## Note"
   ]
  },
  {
   "cell_type": "markdown",
   "metadata": {},
   "source": [
    "### 풀이 1\n",
    "\n",
    "* 1. enumerate를 함수를 통해 인덱스와 요소를 탐색 후 해당 인덱스 이후 요소 중 더 큰 값을 탐색한다\n",
    "    * 더 큰 값이 없다면 초기값인 -1반환한다.\n",
    "\n",
    "* 시간초과"
   ]
  },
  {
   "cell_type": "markdown",
   "metadata": {},
   "source": [
    "### 풀이 2\n",
    "\n",
    "* 1. stack에 index를 저장하고 for문을 통해 탐색한 값이 이전 index 값보다 큰지 비교 후 업데이트 한다.\n",
    "    * e.g [3, 5, 2, 7]\n",
    "    * 1) stack이 비어있으므로 if문은 실행하지 않고 0을 추가한다.\n",
    "    * 2) 현재 숫자 numbers[1] == 5가 numbers[0] == 3보다 크므로 result[0]을 5로 업데이트 한다.\n",
    "    * 3) stack에 1을 추가한다.\n",
    "    * 4) 현재 숫자 numbers[2] == 2는 numbers[1] == 5보다 크지 않으므로 if문은 실행되지 않고 stack에 2를 추가한다.\n",
    "    * 5) 현재 숫자 numbers[3] == 7은 numbers[2] == 2보다 크므로 result[2]을 7로 업데이트 한다.\n",
    "    * 5) 현재 숫자 numbers[3] == 7은 numbers[1] == 2보다 크므로 result[1]을 7로 업데이트 한다.\n",
    "        * while 문에 의해서 stack에 남아있는 index의 numbers값 중 작은 값들은 모두 result의 index에서 업데이트 한다.\n",
    "    * 6) stack에 3을 추가하지만 for문이 종료되게 된다\n",
    "\n",
    "* 2. result를 출력한다."
   ]
  },
  {
   "attachments": {},
   "cell_type": "markdown",
   "metadata": {},
   "source": [
    "https://www.acmicpc.net/problem/17298"
   ]
  }
 ],
 "metadata": {
  "kernelspec": {
   "display_name": "ws1",
   "language": "python",
   "name": "python3"
  },
  "language_info": {
   "codemirror_mode": {
    "name": "ipython",
    "version": 3
   },
   "file_extension": ".py",
   "mimetype": "text/x-python",
   "name": "python",
   "nbconvert_exporter": "python",
   "pygments_lexer": "ipython3",
   "version": "3.12.4"
  },
  "orig_nbformat": 4,
  "vscode": {
   "interpreter": {
    "hash": "2856db72fb1e77597a3b14e9c1bb4d2315d342edc16fc9e25c6c6e499688b933"
   }
  }
 },
 "nbformat": 4,
 "nbformat_minor": 2
}
