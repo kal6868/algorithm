{
 "cells": [
  {
   "attachments": {},
   "cell_type": "markdown",
   "metadata": {},
   "source": [
    "# 큐"
   ]
  },
  {
   "attachments": {},
   "cell_type": "markdown",
   "metadata": {},
   "source": [
    "## 문제"
   ]
  },
  {
   "cell_type": "markdown",
   "metadata": {},
   "source": [
    "* 정수를 저장하는 큐를 구현한 다음, 입력으로 주어지는 명령을 처리하는 프로그램을 작성하시오."
   ]
  },
  {
   "cell_type": "markdown",
   "metadata": {},
   "source": [
    "* 명령은 총 여섯 가지이다.\n",
    "    * push X: 정수 X를 큐에 넣는 연산이다.\n",
    "    * pop: 큐에서 가장 앞에 있는 정수를 빼고, 그 수를 출력한다. 만약 큐에 들어있는 정수가 없는 경우에는 -1을 출력한다.\n",
    "    * size: 큐에 들어있는 정수의 개수를 출력한다.\n",
    "    * empty: 큐가 비어있으면 1, 아니면 0을 출력한다.\n",
    "    * front: 큐의 가장 앞에 있는 정수를 출력한다. 만약 큐에 들어있는 정수가 없는 경우에는 -1을 출력한다.\n",
    "    * back: 큐의 가장 뒤에 있는 정수를 출력한다. 만약 큐에 들어있는 정수가 없는 경우에는 -1을 출력한다."
   ]
  },
  {
   "attachments": {},
   "cell_type": "markdown",
   "metadata": {},
   "source": [
    "## 입력"
   ]
  },
  {
   "cell_type": "markdown",
   "metadata": {},
   "source": [
    "* 첫째 줄에 주어지는 명령의 수 N (1 ≤ N ≤ 10,000)이 주어진다. 둘째 줄부터 N개의 줄에는 명령이 하나씩 주어진다. 주어지는 정수는 1보다 크거나 같고, 100,000보다 작거나 같다. 문제에 나와있지 않은 명령이 주어지는 경우는 없다."
   ]
  },
  {
   "attachments": {},
   "cell_type": "markdown",
   "metadata": {},
   "source": [
    "## 출력"
   ]
  },
  {
   "cell_type": "markdown",
   "metadata": {},
   "source": [
    "출력해야하는 명령이 주어질 때마다, 한 줄에 하나씩 출력한다."
   ]
  },
  {
   "attachments": {},
   "cell_type": "markdown",
   "metadata": {},
   "source": [
    "## Code"
   ]
  },
  {
   "cell_type": "code",
   "execution_count": 1,
   "metadata": {},
   "outputs": [],
   "source": [
    "# 10845_큐 (자료구조) (플이 1. queue를 이용한 풀이)\n",
    "import sys\n",
    "from collections import deque\n",
    "submit = False\n",
    "\n",
    "def queue_structure(N):\n",
    "    queue = deque()\n",
    "    for _ in range(N):\n",
    "        command = sys.stdin.readline().rstrip().split() if submit else input().split()\n",
    "        if command[0] == 'push':\n",
    "            queue.append(command[1])\n",
    "\n",
    "        elif command[0] == 'pop':\n",
    "            if queue:\n",
    "                print(queue.popleft())\n",
    "            else:\n",
    "                print(-1)\n",
    "\n",
    "        elif command[0] == 'size':\n",
    "            print(len(queue))\n",
    "        \n",
    "        elif command[0] == 'empty':\n",
    "            if not queue:\n",
    "                print(1)\n",
    "            else:\n",
    "                print(0)\n",
    "\n",
    "        elif command[0] == 'front':\n",
    "            if queue:\n",
    "                print(queue[0])\n",
    "            else:\n",
    "                print(-1)\n",
    "\n",
    "        elif command[0] == 'back':\n",
    "            if queue:\n",
    "                print(queue[-1])\n",
    "            else:\n",
    "                print(-1)\n",
    "\n",
    "def solution():\n",
    "    N = int(sys.stdin.readline()) if submit else int(input())\n",
    "    queue_structure(N)"
   ]
  },
  {
   "cell_type": "code",
   "execution_count": null,
   "metadata": {},
   "outputs": [],
   "source": [
    "# 10845_큐 (자료구조) (플이 2. 직접 구현)\n",
    "import sys\n",
    "\n",
    "submit = False\n",
    "N = int(sys.stdin.readline()) if submit else int(input())\n",
    "\n",
    "queue = []\n",
    "for _ in range(N):\n",
    "    command = sys.stdin.readline().rstrip().split() if submit else input().split()\n",
    "    if command[0] == 'push':\n",
    "        queue.append(command[1])\n",
    "\n",
    "    elif command[0] == 'pop':\n",
    "        if queue:\n",
    "            print(queue[0])\n",
    "            queue = queue[1:]\n",
    "        else:\n",
    "            print(-1)\n",
    "\n",
    "    elif command[0] == 'size':\n",
    "        print(len(queue))\n",
    "    \n",
    "    elif command[0] == 'empty':\n",
    "        if not queue:\n",
    "            print(1)\n",
    "        else:\n",
    "            print(0)\n",
    "\n",
    "    elif command[0] == 'front':\n",
    "        if queue:\n",
    "            print(queue[0])\n",
    "        else:\n",
    "            print(-1)\n",
    "\n",
    "    elif command[0] == 'back':\n",
    "        if queue:\n",
    "            print(queue[-1])\n",
    "        else:\n",
    "            print(-1)"
   ]
  },
  {
   "cell_type": "code",
   "execution_count": 2,
   "metadata": {},
   "outputs": [
    {
     "name": "stdout",
     "output_type": "stream",
     "text": [
      "1\n",
      "2\n",
      "2\n",
      "0\n",
      "1\n",
      "2\n",
      "-1\n",
      "0\n",
      "1\n",
      "-1\n",
      "0\n",
      "3\n"
     ]
    }
   ],
   "source": [
    "solution()"
   ]
  },
  {
   "attachments": {},
   "cell_type": "markdown",
   "metadata": {},
   "source": [
    "## Note"
   ]
  },
  {
   "cell_type": "markdown",
   "metadata": {},
   "source": [
    "* 1. collections패키지의 deque 함수를 이용해서 queue를 구현한다.\n",
    "* 2. queue를 deque으로 선언하고 입력에 따라서 명령을 처리하게 구현한다.\n",
    "    * 1\\) push: append 메소드를 이용해서 queue에 숫자를 추가한다\n",
    "    * 2\\) pop: popleft 메소드를 이용해서 맨 앞의 숫자를 queue에서 추출한다\n",
    "    * 3\\) size: len 내장 함수를 이용해서 queue의 원소 개수를 반환한다.\n",
    "    * 4\\) empty: if 함수를 이용해서 queue가 비어있으면 1을 아니면 0을 반환한다.\n",
    "    * 5\\) front: indexing을 이용해서 queue의 첫번째 원소를 출력한다.\n",
    "    * 6\\) back: indexing을 이용해서 queue의 마지막 원소를 출력한다."
   ]
  },
  {
   "attachments": {},
   "cell_type": "markdown",
   "metadata": {},
   "source": [
    "https://www.acmicpc.net/problem/10845"
   ]
  }
 ],
 "metadata": {
  "kernelspec": {
   "display_name": "ws1",
   "language": "python",
   "name": "python3"
  },
  "language_info": {
   "codemirror_mode": {
    "name": "ipython",
    "version": 3
   },
   "file_extension": ".py",
   "mimetype": "text/x-python",
   "name": "python",
   "nbconvert_exporter": "python",
   "pygments_lexer": "ipython3",
   "version": "3.11.5"
  },
  "orig_nbformat": 4,
  "vscode": {
   "interpreter": {
    "hash": "2856db72fb1e77597a3b14e9c1bb4d2315d342edc16fc9e25c6c6e499688b933"
   }
  }
 },
 "nbformat": 4,
 "nbformat_minor": 2
}
