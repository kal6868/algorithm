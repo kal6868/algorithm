{
 "cells": [
  {
   "attachments": {},
   "cell_type": "markdown",
   "metadata": {},
   "source": [
    "# 과제 "
   ]
  },
  {
   "attachments": {},
   "cell_type": "markdown",
   "metadata": {},
   "source": [
    "## 문제"
   ]
  },
  {
   "cell_type": "markdown",
   "metadata": {},
   "source": [
    "* 웅찬이는 과제가 많다. 하루에 한 과제를 끝낼 수 있는데, 과제마다 마감일이 있으므로 모든 과제를 끝내지 못할 수도 있다. 과제마다 끝냈을 때 얻을 수 있는 점수가 있는데, 마감일이 지난 과제는 점수를 받을 수 없다."
   ]
  },
  {
   "cell_type": "markdown",
   "metadata": {},
   "source": [
    "* 웅찬이는 가장 점수를 많이 받을 수 있도록 과제를 수행하고 싶다. 웅찬이를 도와 얻을 수 있는 점수의 최댓값을 구하시오."
   ]
  },
  {
   "attachments": {},
   "cell_type": "markdown",
   "metadata": {},
   "source": [
    "## 입력"
   ]
  },
  {
   "cell_type": "markdown",
   "metadata": {},
   "source": [
    "* 첫 줄에 정수 N (1 ≤ N ≤ 1,000)이 주어진다."
   ]
  },
  {
   "cell_type": "markdown",
   "metadata": {},
   "source": [
    "* 다음 줄부터 N개의 줄에는 각각 두 정수 d (1 ≤ d ≤ 1,000)와 w (1 ≤ w ≤ 100)가 주어진다. d는 과제 마감일까지 남은 일수를 의미하며, w는 과제의 점수를 의미한다."
   ]
  },
  {
   "attachments": {},
   "cell_type": "markdown",
   "metadata": {},
   "source": [
    "## 출력"
   ]
  },
  {
   "attachments": {},
   "cell_type": "markdown",
   "metadata": {},
   "source": [
    "* 얻을 수 있는 점수의 최댓값을 출력한다."
   ]
  },
  {
   "attachments": {},
   "cell_type": "markdown",
   "metadata": {},
   "source": [
    "## Code"
   ]
  },
  {
   "cell_type": "code",
   "execution_count": 1,
   "metadata": {},
   "outputs": [],
   "source": [
    "# 13904_과제\n",
    "import sys\n",
    "import heapq\n",
    "\n",
    "submit = False\n",
    "input = sys.stdin.readline if submit else input\n",
    "\n",
    "def solution():\n",
    "    N = int(input())\n",
    "    tasks, last_day = [], 0\n",
    "    for _ in range(N):\n",
    "        day, score = tuple(map(int, input().split()))\n",
    "        heapq.heappush(tasks, (-score, day))\n",
    "        if last_day < day:\n",
    "            last_day = day\n",
    "\n",
    "    assign = [False] * (last_day + 1)\n",
    "    score = 0\n",
    "    while tasks:\n",
    "        s, d = heapq.heappop(tasks)\n",
    "        s = -1 * s\n",
    "        for i in range(d, 0, -1):\n",
    "            if not assign[i]:\n",
    "                assign[i] = True\n",
    "                score += s\n",
    "                break\n",
    "            else:\n",
    "                continue\n",
    "    print(score)"
   ]
  },
  {
   "attachments": {},
   "cell_type": "markdown",
   "metadata": {},
   "source": [
    "## 예제입력 - 출력"
   ]
  },
  {
   "cell_type": "code",
   "execution_count": null,
   "metadata": {},
   "outputs": [],
   "source": [
    "# 13904_과제\n",
    "import sys\n",
    "import heapq\n",
    "\n",
    "submit = False\n",
    "input = sys.stdin.readline if submit else input\n",
    "\n",
    "def solution():\n",
    "    T = int(input())\n",
    "    for _ in range(T):\n",
    "        K = int(input())\n",
    "        chapters = list(map(int, input().split()))\n",
    "        heapq.heapify(chapters)\n",
    "        cost = 0\n",
    "\n",
    "        while len(chapters) > 1:\n",
    "            temp = 0\n",
    "            for _ in range(2):\n",
    "                _temp = heapq.heappop(chapters)\n",
    "                temp += _temp\n",
    "            cost += temp\n",
    "            heapq.heappush(chapters, temp)\n",
    "        print(cost)"
   ]
  },
  {
   "cell_type": "code",
   "execution_count": 2,
   "metadata": {},
   "outputs": [
    {
     "name": "stdout",
     "output_type": "stream",
     "text": [
      "185\n"
     ]
    }
   ],
   "source": [
    "solution()"
   ]
  },
  {
   "attachments": {},
   "cell_type": "markdown",
   "metadata": {},
   "source": [
    "## Note"
   ]
  },
  {
   "cell_type": "markdown",
   "metadata": {},
   "source": [
    "* 1. 우선순위 힙에 (-점수, 마감일)의 tuple 형태로 저장하여 가장 높은 점수가 맨 앞에 위치하도록 한다.\n",
    "* 2. 최대 점수의 과제를 마감일에 할당한다. 이미 할당이 되어있는 경우 마감일 이전에 할당이 되어있지 않는 날짜를 찾는다.\n",
    "    * eg. (4, 60), (4, 40), (1, 20), (2, 50), (3, 30), (4, 10), (6, 5)\n",
    "    * [(-60, 4), (-50, 2), (-20, 1), (-40, 4), (-30, 3), (-10, 4), (-5, 6)]으로 저장된다.\n",
    "    * 1\\) (-60, 4)를 추출 후 4일에 해당하는 assign의 4번 index의 위치를 True로 바꾼 후 score에 60을 더한다.\n",
    "    * 2\\) (-50, 2)를 추출 후 2일에 해당하는 assign의 2번 index의 위치를 True로 바꾼 후 score에 50을 더한다.\n",
    "    * 3\\) (-40, 4)를 추출 후 assign의 4일에 해당하는 냘짜에는 이미 과제가 할당 되어 있으므로 마감일 이전 날짜를 찾는다.\n",
    "        * 일정이 assign = [False, False, True, False, True, False, False] 이므로\n",
    "        * assign 4번 index부터 1번 index까지 for문으로 탐색하면서 False인 값을 찾아 True 바꾸고 score에 40을 더한다.\n",
    "        * 만약 마감일에 해당하는 d번 index부터 1번 index까지 False가 없으면 배정할 수 없다."
   ]
  },
  {
   "attachments": {},
   "cell_type": "markdown",
   "metadata": {},
   "source": [
    "https://www.acmicpc.net/problem/13904"
   ]
  }
 ],
 "metadata": {
  "kernelspec": {
   "display_name": "ws1",
   "language": "python",
   "name": "python3"
  },
  "language_info": {
   "codemirror_mode": {
    "name": "ipython",
    "version": 3
   },
   "file_extension": ".py",
   "mimetype": "text/x-python",
   "name": "python",
   "nbconvert_exporter": "python",
   "pygments_lexer": "ipython3",
   "version": "3.12.4"
  },
  "orig_nbformat": 4,
  "vscode": {
   "interpreter": {
    "hash": "2856db72fb1e77597a3b14e9c1bb4d2315d342edc16fc9e25c6c6e499688b933"
   }
  }
 },
 "nbformat": 4,
 "nbformat_minor": 2
}
