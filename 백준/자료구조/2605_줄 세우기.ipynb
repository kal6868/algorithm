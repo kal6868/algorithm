{
 "cells": [
  {
   "attachments": {},
   "cell_type": "markdown",
   "metadata": {},
   "source": [
    "# 줄 세우기"
   ]
  },
  {
   "attachments": {},
   "cell_type": "markdown",
   "metadata": {},
   "source": [
    "## 문제"
   ]
  },
  {
   "cell_type": "markdown",
   "metadata": {},
   "source": [
    "* 점심시간이 되면 반 학생 모두가 한 줄로 줄을 서서 급식을 탄다. 그런데 매일 같이 앞자리에 앉은 학생들이 앞에 줄을 서 먼저 점심을 먹고, 뒷자리에 앉은 학생들은 뒤에 줄을 서 늦게 점심을 먹게 된다. 어떻게 하면 이러한 상황을 바꾸어 볼 수 있을까 고민하던 중 선생님이 한 가지 방법을 내 놓았다. 그 방법은 다음과 같다."
   ]
  },
  {
   "cell_type": "markdown",
   "metadata": {},
   "source": [
    "* 학생들이 한 줄로 줄을 선 후, 첫 번째 학생부터 차례로 번호를 뽑는다. 첫 번째로 줄을 선 학생은 무조건 0번 번호를 받아 제일 앞에 줄을 선다. 두 번째로 줄을 선 학생은 0번 또는 1번 둘 중 하나의 번호를 뽑는다. 0번을 뽑으면 그 자리에 그대로 있고, 1번을 뽑으면 바로 앞의 학생 앞으로 가서 줄을 선다. 세 번째로 줄을 선 학생은 0, 1 또는 2 중 하나의 번호를 뽑는다. 그리고 뽑은 번호만큼 앞자리로 가서 줄을 선다. 마지막에 줄을 선 학생까지 이와 같은 방식으로 뽑은 번호만큼 앞으로 가서 줄을 서게 된다. 각자 뽑은 번호는 자신이 처음에 선 순서보다는 작은 수이다."
   ]
  },
  {
   "cell_type": "markdown",
   "metadata": {},
   "source": [
    "* 예를 들어 5명의 학생이 줄을 서고, 첫 번째로 줄을 선 학생부터 다섯 번째로 줄을 선 학생까지 차례로 0, 1, 1, 3, 2번의 번호를 뽑았다고 하자, 첫 번째 학생부터 다섯 번째 학생까지 1부터 5로 표시하면 학생들이 줄을 선 순서는 다음과 같이 된다.\n",
    "\n",
    "    * 첫 번째 학생이 번호를 뽑은 후 : 1\n",
    "    * 두 번째 학생이 번호를 뽑은 후 : 2 1\n",
    "    * 세 번째 학생이 번호를 뽑은 후 : 2 3 1\n",
    "    * 네 번째 학생이 번호를 뽑은 후 : 4 2 3 1\n",
    "    * 다섯 번째 학생이 번호를 뽑은 후 : 4 2 5 3 1\n",
    "* 따라서 최종적으로 학생들이 줄을 선 순서는 4, 2, 5, 3, 1이 된다."
   ]
  },
  {
   "cell_type": "markdown",
   "metadata": {},
   "source": [
    "* 줄을 선 학생들이 차례로 뽑은 번호가 주어질 때 학생들이 최종적으로 줄을 선 순서를 출력하는 프로그램을 작성하시오."
   ]
  },
  {
   "attachments": {},
   "cell_type": "markdown",
   "metadata": {},
   "source": [
    "## 입력"
   ]
  },
  {
   "cell_type": "markdown",
   "metadata": {},
   "source": [
    "* 첫째 줄에는 학생의 수가 주어지고 둘째 줄에는 줄을 선 차례대로 학생들이 뽑은 번호가 주어진다. 학생의 수가 100 이하이고, 학생들이 뽑는 번호는 0 또는 자연수이며 학생들이 뽑은 번호 사이에는 빈 칸이 하나씩 있다."
   ]
  },
  {
   "attachments": {},
   "cell_type": "markdown",
   "metadata": {},
   "source": [
    "## 출력"
   ]
  },
  {
   "attachments": {},
   "cell_type": "markdown",
   "metadata": {},
   "source": [
    "* 학생들이 처음에 줄을 선 순서대로 1번부터 번호를 매길 때, 첫째 줄에 학생들이 최종적으로 줄을 선 순서를 그 번호로 출력한다. 학생 번호 사이에는 한 칸의 공백을 출력한다."
   ]
  },
  {
   "attachments": {},
   "cell_type": "markdown",
   "metadata": {},
   "source": [
    "## Code"
   ]
  },
  {
   "cell_type": "code",
   "execution_count": 1,
   "metadata": {},
   "outputs": [],
   "source": [
    "# 2605_줄 세우기\n",
    "import sys\n",
    "\n",
    "submit = False\n",
    "input = sys.stdin.readline if submit else input\n",
    "\n",
    "def solution():\n",
    "    N = int(input())\n",
    "    numbers = list(map(int, input().split()))\n",
    "\n",
    "    line, temp = [], []\n",
    "    for i, n in enumerate(numbers):\n",
    "        if i == 0:\n",
    "            line.append(i + 1)\n",
    "        else:\n",
    "            for _ in range(n):\n",
    "                temp.append(line.pop())\n",
    "            line.append(i+1)\n",
    "            while temp:\n",
    "                line.append(temp.pop())\n",
    "    print(*line, sep=' ')"
   ]
  },
  {
   "cell_type": "code",
   "execution_count": null,
   "metadata": {},
   "outputs": [],
   "source": [
    "# 2605_줄 세우기\n",
    "\n",
    "import sys\n",
    "from collections import deque\n",
    "\n",
    "submit = False\n",
    "input = sys.stdin.readline if submit else input\n",
    "\n",
    "def solution():\n",
    "    N = int(input())\n",
    "    numbers = list(map(int, input().split()))\n",
    "\n",
    "    line, temp = deque([]), deque([])\n",
    "    for i, n in enumerate(numbers):\n",
    "        if i == 0:\n",
    "            line.append(i + 1)\n",
    "        else:\n",
    "            for _ in range(n):\n",
    "                temp.append(line.pop())\n",
    "            line.append(i+1)\n",
    "            while temp:\n",
    "                line.append(temp.pop())\n",
    "    print(*line, sep=' ')"
   ]
  },
  {
   "attachments": {},
   "cell_type": "markdown",
   "metadata": {},
   "source": [
    "## 예제입력 - 출력"
   ]
  },
  {
   "cell_type": "code",
   "execution_count": 2,
   "metadata": {},
   "outputs": [
    {
     "name": "stdout",
     "output_type": "stream",
     "text": [
      "4 2 5 3 1\n"
     ]
    }
   ],
   "source": [
    "solution()"
   ]
  },
  {
   "cell_type": "markdown",
   "metadata": {},
   "source": [
    "## Note"
   ]
  },
  {
   "cell_type": "markdown",
   "metadata": {},
   "source": [
    "* 1. 뽑힌 숫자만큼 뒤에서 학생의 번호를 추출 후 번호를 뽑은 학생의 번호를 채워넣은 다음 다시 추출한 번호를 복원한다.\n",
    "    * 1\\) 첫번째 학생(i == 0)이면 List(line)에 1(i+1)을 채워넣는다.\n",
    "    * 2\\) pop을 사용하여 번호(n)만큼의 숫자를 추출하여 List(temp)에 따로 저장한다\n",
    "    * 3\\) append를 사용하여 학생의 번호수(i+1)를 List에 추가한다\n",
    "    * 4\\) temp에 저장된 모든 숫자들을 다시 line에 채워넣는다.   \n",
    "        * i == 0, n == 0: line: [1], temp: []\n",
    "        \n",
    "        * i == 1, n == 1: line: [1], temp: []\n",
    "        * i == 1, n == 1: line: [], temp: [1]\n",
    "        * i == 1, n == 1: line: [2], temp: [1]\n",
    "        * i == 1, n == 1: line: [2, 1], temp: []\n",
    "\n",
    "        * i == 2, n == 1: line: [2, 1], temp: []\n",
    "        * i == 2, n == 1: line: [2], temp: [1]\n",
    "        * i == 2, n == 1: line: [2, 3], temp: [1]\n",
    "        * i == 2, n == 1: line: [2, 3, 1], temp: []\n",
    "        \n",
    "        * i == 3, n == 3: line: [], temp: []\n",
    "        * i == 3, n == 3: line: [4], temp: []\n",
    "        * i == 3, n == 3: line: [4, 2, 3, 1], temp: []\n",
    "        \n",
    "        * i == 4, n == 2: line: [4, 2, 3, 1], temp: []\n",
    "        * i == 4, n == 2: line: [4, 2], temp: [3, 1]\n",
    "        * i == 4, n == 2: line: [4, 2, 5, 3, 1], temp: []"
   ]
  },
  {
   "attachments": {},
   "cell_type": "markdown",
   "metadata": {},
   "source": [
    "https://www.acmicpc.net/problem/2605"
   ]
  }
 ],
 "metadata": {
  "kernelspec": {
   "display_name": "ws1",
   "language": "python",
   "name": "python3"
  },
  "language_info": {
   "codemirror_mode": {
    "name": "ipython",
    "version": 3
   },
   "file_extension": ".py",
   "mimetype": "text/x-python",
   "name": "python",
   "nbconvert_exporter": "python",
   "pygments_lexer": "ipython3",
   "version": "3.12.4"
  },
  "orig_nbformat": 4,
  "vscode": {
   "interpreter": {
    "hash": "2856db72fb1e77597a3b14e9c1bb4d2315d342edc16fc9e25c6c6e499688b933"
   }
  }
 },
 "nbformat": 4,
 "nbformat_minor": 2
}
