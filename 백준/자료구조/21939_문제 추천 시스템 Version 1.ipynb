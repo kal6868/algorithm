{
 "cells": [
  {
   "attachments": {},
   "cell_type": "markdown",
   "metadata": {},
   "source": [
    "# 강의실 "
   ]
  },
  {
   "attachments": {},
   "cell_type": "markdown",
   "metadata": {},
   "source": [
    "## 문제"
   ]
  },
  {
   "cell_type": "markdown",
   "metadata": {},
   "source": [
    "* tony9402는 최근 깃헙에 코딩테스트 대비 문제를 직접 뽑아서 \"문제 번호, 난이도\"로 정리해놨다."
   ]
  },
  {
   "cell_type": "markdown",
   "metadata": {},
   "source": [
    "* 깃헙을 이용하여 공부하시는 분들을 위해 새로운 기능을 추가해보려고 한다."
   ]
  },
  {
   "cell_type": "markdown",
   "metadata": {},
   "source": [
    "* 만들려고 하는 명령어는 총 3가지가 있다. 아래 표는 각 명령어에 대한 설명이다"
   ]
  },
  {
   "cell_type": "markdown",
   "metadata": {},
   "source": [
    "* recommend x \t\n",
    "    * x가 1인 경우 추천 문제 리스트에서 가장 어려운 문제의 번호를 출력한다.\n",
    "    * 만약 가장 어려운 문제가 여러 개라면 문제 번호가 큰 것으로 출력한다.\n",
    "    * x가 -1인 경우 추천 문제 리스트에서 가장 쉬운 문제의 번호를 출력한다.\n",
    "    * 만약 가장 쉬운 문제가 여러 개라면 문제 번호가 작은 것으로 출력한다.\n",
    "\n",
    "* add P L\n",
    "    * 추천 문제 리스트에 난이도가 L인 문제 번호 P를 추가한다. (추천 문제 리스트에 없는 문제 번호 P만 입력으로 주어진다. 이전에 추천 문제 리스트에 있던 문제 번호가 다른 난이도로 다시 들어 올 수 있다.)\n",
    "\n",
    "* solved P \n",
    "    * 추천 문제 리스트에서 문제 번호 P를 제거한다. (추천 문제 리스트에 있는 문제 번호 P만 입력으로 주어진다.)"
   ]
  },
  {
   "cell_type": "markdown",
   "metadata": {},
   "source": [
    "* 명령어 recommend는 추천 문제 리스트에 문제가 하나 이상 있을 때만 주어진다."
   ]
  },
  {
   "cell_type": "markdown",
   "metadata": {},
   "source": [
    "* 명령어 solved는 추천 문제 리스트에 문제 번호가 하나 이상 있을 때만 주어진다."
   ]
  },
  {
   "cell_type": "markdown",
   "metadata": {},
   "source": [
    "* 위 명령어들을 수행하는 추천 시스템을 만들어보자."
   ]
  },
  {
   "attachments": {},
   "cell_type": "markdown",
   "metadata": {},
   "source": [
    "## 입력"
   ]
  },
  {
   "cell_type": "markdown",
   "metadata": {},
   "source": [
    "*  번째 줄에 추천 문제 리스트에 있는 문제의 개수 $N$ 가 주어진다."
   ]
  },
  {
   "cell_type": "markdown",
   "metadata": {},
   "source": [
    "* 두 번째 줄부터 $N + 1$ 줄까지 문제 번호 $P$와 난이도 $L$가 공백으로 구분되어 주어진다."
   ]
  },
  {
   "cell_type": "markdown",
   "metadata": {},
   "source": [
    "* $N + 2$줄은 입력될 명령문의 개수 $M$이 주어진다."
   ]
  },
  {
   "cell_type": "markdown",
   "metadata": {},
   "source": [
    "* 그 다음줄부터 $M$개의 위에서 설명한 명령문이 입력된다."
   ]
  },
  {
   "attachments": {},
   "cell_type": "markdown",
   "metadata": {},
   "source": [
    "## 출력"
   ]
  },
  {
   "cell_type": "markdown",
   "metadata": {},
   "source": [
    "* recommend 명령이 주어질 때마다 문제 번호를 한 줄씩 출력한다. 최소 한번의 recommend 명령어가 들어온다."
   ]
  },
  {
   "cell_type": "markdown",
   "metadata": {},
   "source": [
    "## 제한"
   ]
  },
  {
   "cell_type": "markdown",
   "metadata": {},
   "source": [
    "* $1 \\le N, P \\le 100,000$ "
   ]
  },
  {
   "cell_type": "markdown",
   "metadata": {},
   "source": [
    "* $1 \\le M \\le 10,000$ "
   ]
  },
  {
   "cell_type": "markdown",
   "metadata": {},
   "source": [
    "* $1 \\le L \\le 100$, $L$은 자연수"
   ]
  },
  {
   "cell_type": "markdown",
   "metadata": {},
   "source": [
    "*  $x = \\pm 1$ "
   ]
  },
  {
   "attachments": {},
   "cell_type": "markdown",
   "metadata": {},
   "source": [
    "## Code"
   ]
  },
  {
   "cell_type": "code",
   "execution_count": 1,
   "metadata": {},
   "outputs": [],
   "source": [
    "# 21939_문제 추천 시스템 Version 1\n",
    "\n",
    "import sys\n",
    "import heapq\n",
    "\n",
    "submit = False\n",
    "input = sys.stdin.readline if submit else input\n",
    "\n",
    "def solution():\n",
    "    min_heap, max_heap = [], []\n",
    "    solved = {}\n",
    "\n",
    "    N = int(input())\n",
    "    for _ in range(N):\n",
    "        P, L = map(int, input().split())\n",
    "        heapq.heappush(min_heap, (L, P))\n",
    "        heapq.heappush(max_heap, (-L, -P))\n",
    "\n",
    "    M = int(input())\n",
    "    for _ in range(M):\n",
    "        cmd = input().split()\n",
    "        temp = cmd.pop(0)\n",
    "        if temp == 'add':\n",
    "            P, L = map(int, cmd)\n",
    "            heapq.heappush(min_heap, (L, P))\n",
    "            heapq.heappush(max_heap, (-L, -P))\n",
    "        \n",
    "        elif temp == 'recommend':\n",
    "            x = int(cmd[0])\n",
    "            if x == 1:\n",
    "                while (abs(max_heap[0][1]) in solved) and (solved[abs(max_heap[0][1])] != 0):\n",
    "                    solved[abs(max_heap[0][1])] -= 1\n",
    "                    heapq.heappop(max_heap)\n",
    "                print(max_heap[0][1] * -1)\n",
    "            else:\n",
    "                while (abs(min_heap[0][1]) in solved) and (solved[abs(min_heap[0][1])] != 0):\n",
    "                    solved[abs(min_heap[0][1])] -= 1\n",
    "                    heapq.heappop(min_heap)\n",
    "                print(min_heap[0][1])\n",
    "\n",
    "        elif temp == 'solved':\n",
    "            P = int(cmd[0])\n",
    "            solved[P] = 1"
   ]
  },
  {
   "cell_type": "code",
   "execution_count": null,
   "metadata": {},
   "outputs": [],
   "source": [
    "# 21939_문제 추천 시스템 Version 1\n",
    "\n",
    "import sys\n",
    "import heapq\n",
    "from collections import defaultdict\n",
    "\n",
    "submit = False\n",
    "input = sys.stdin.readline if submit else input\n",
    "\n",
    "def solution():\n",
    "    min_heap, max_heap = [], []\n",
    "    solved = defaultdict(int)\n",
    "\n",
    "    N = int(input())\n",
    "    for _ in range(N):\n",
    "        P, L = map(int, input().split())\n",
    "        heapq.heappush(min_heap, (L, P))\n",
    "        heapq.heappush(max_heap, (-L, -P))\n",
    "\n",
    "    M = int(input())\n",
    "    for _ in range(M):\n",
    "        cmd = input().split()\n",
    "        temp = cmd.pop(0)\n",
    "        if temp == 'add':\n",
    "            P, L = map(int, cmd)\n",
    "            heapq.heappush(min_heap, (L, P))\n",
    "            heapq.heappush(max_heap, (-L, -P))\n",
    "        \n",
    "        elif temp == 'recommend':\n",
    "            x = int(cmd[0])\n",
    "            if x == 1:\n",
    "                while solved[abs(max_heap[0][1])] != 0:\n",
    "                    solved[abs(max_heap[0][1])] -= 1\n",
    "                    heapq.heappop(max_heap)\n",
    "                print(max_heap[0][1] * -1)\n",
    "            else:\n",
    "                while solved[abs(min_heap[0][1])] != 0:\n",
    "                    solved[abs(min_heap[0][1])] -= 1\n",
    "                    heapq.heappop(min_heap)\n",
    "                print(min_heap[0][1])\n",
    "\n",
    "        elif temp == 'solved':\n",
    "            P = int(cmd[0])\n",
    "            solved[P] += 1"
   ]
  },
  {
   "attachments": {},
   "cell_type": "markdown",
   "metadata": {},
   "source": [
    "## 예제입력 - 출력"
   ]
  },
  {
   "cell_type": "code",
   "execution_count": 2,
   "metadata": {},
   "outputs": [
    {
     "name": "stdout",
     "output_type": "stream",
     "text": [
      "19998\n",
      "1402\n",
      "1001\n",
      "2667\n"
     ]
    }
   ],
   "source": [
    "solution()"
   ]
  },
  {
   "cell_type": "markdown",
   "metadata": {},
   "source": [
    "## Note"
   ]
  },
  {
   "cell_type": "markdown",
   "metadata": {},
   "source": [
    "### 풀이 1\n",
    "\n",
    "* 1. 우선순위 큐를 이용하여 (난이도, 문제번호)와 (-난이도, -문제번호) 형태의 tuple을 각각의 큐(min_heap, max_heap)에 저장한다.\n",
    "    * 1\\) 각 큐의 0번 index에는 항상 (최소 난이도, 가장 작은 문제번호), (최고 난이도, 가장 큰 문제번호)가 위치한다.\n",
    "\n",
    "* 2. 조건에 따라 우선순위 큐에 데이터를 저장하거나 추출한다\n",
    "    * 1\\) recommend \n",
    "        * x == 1: 가장 어려운 난이도의 문제를 추천해야 하므로 max_heap에서 heappop 메서드를 통해 추출한다\n",
    "            * 최대 값으로 저장하기 위해서 -1을 곱했으므로 출력할 때도 -1을 곱해서 원상 복구를 해준다.\n",
    "        * x == -1: 가장 쉬운 난이도의 문제를 추천해야 하므로 min_heap에서 heappop 메서드를 통해 추출한다\n",
    "        * 이미 풀린 문제는 추천에서 제외해야 하므로 dictionary(solved)에 {문제번호:0 or 1}의 형태로 풀린 문제인지 아닌지 표시한다.\n",
    "        * while 반복문을 통해서 solved[문제번호] == 1인 경우에는 heappop 메서드를 통해 힙에서 모두 제거한다\n",
    "    \n",
    "    * 2\\) add\n",
    "        * (난이도, 문제번호)와 (-난이도, -문제번호) 형태의 tuple을 각각의 큐(min_heap, max_heap)에 저장한다\n",
    "\n",
    "    * 3\\) solved\n",
    "        * solved dictionary에 solved[문제번호] == 1로 표시하여 recommend에서 제외 될 수 있도록 해준다."
   ]
  },
  {
   "cell_type": "markdown",
   "metadata": {},
   "source": [
    "### 풀이 2\n",
    "\n",
    "* 1. 우선순위 큐를 이용하여 (난이도, 문제번호)와 (-난이도, -문제번호) 형태의 tuple을 각각의 큐(min_heap, max_heap)에 저장한다.\n",
    "    * 1\\) 각 큐의 0번 index에는 항상 (최소 난이도, 가장 작은 문제번호), (최고 난이도, 가장 큰 문제번호)가 위치한다.\n",
    "\n",
    "* 2. 조건에 따라 우선순위 큐에 데이터를 저장하거나 추출한다\n",
    "    * 1\\) recommend \n",
    "        * x == 1: 가장 어려운 난이도의 문제를 추천해야 하므로 max_heap에서 heappop 메서드를 통해 추출한다\n",
    "            * 최대 값으로 저장하기 위해서 -1을 곱했으므로 출력할 때도 -1을 곱해서 원상 복구를 해준다.\n",
    "        * x == -1: 가장 쉬운 난이도의 문제를 추천해야 하므로 min_heap에서 heappop 메서드를 통해 추출한다\n",
    "        * 이미 풀린 문제는 추천에서 제외해야 하므로 dictionary(solved)에 {문제번호:0 or 1}의 형태로 풀린 문제인지 아닌지 표시한다.\n",
    "        * while 반복문을 통해서 solved[문제번호] == 1인 경우에는 heappop 메서드를 통해 힙에서 모두 제거한다\n",
    "    \n",
    "    * 2\\) add\n",
    "        * (난이도, 문제번호)와 (-난이도, -문제번호) 형태의 tuple을 각각의 큐(min_heap, max_heap)에 저장한다\n",
    "\n",
    "    * 3\\) solved\n",
    "        * solved dictionary에 solved[문제번호] == 1로 표시하여 recommend에서 제외 될 수 있도록 해준다.\n",
    "        * defaultdict를 사용하면 dictionary에 key가 존재하지 않아도 지정한 type의 기본값을 반환한다."
   ]
  },
  {
   "attachments": {},
   "cell_type": "markdown",
   "metadata": {},
   "source": [
    "https://www.acmicpc.net/problem/21939"
   ]
  }
 ],
 "metadata": {
  "kernelspec": {
   "display_name": "ws1",
   "language": "python",
   "name": "python3"
  },
  "language_info": {
   "codemirror_mode": {
    "name": "ipython",
    "version": 3
   },
   "file_extension": ".py",
   "mimetype": "text/x-python",
   "name": "python",
   "nbconvert_exporter": "python",
   "pygments_lexer": "ipython3",
   "version": "3.12.4"
  },
  "orig_nbformat": 4,
  "vscode": {
   "interpreter": {
    "hash": "2856db72fb1e77597a3b14e9c1bb4d2315d342edc16fc9e25c6c6e499688b933"
   }
  }
 },
 "nbformat": 4,
 "nbformat_minor": 2
}
