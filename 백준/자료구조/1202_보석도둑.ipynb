{
 "cells": [
  {
   "attachments": {},
   "cell_type": "markdown",
   "metadata": {},
   "source": [
    "# 보석 도둑"
   ]
  },
  {
   "attachments": {},
   "cell_type": "markdown",
   "metadata": {},
   "source": [
    "## 문제"
   ]
  },
  {
   "cell_type": "markdown",
   "metadata": {},
   "source": [
    "* 세계적인 도둑 상덕이는 보석점을 털기로 결심했다."
   ]
  },
  {
   "cell_type": "markdown",
   "metadata": {},
   "source": [
    "* 상덕이가 털 보석점에는 보석이 총 N개 있다. 각 보석은 무게 Mi와 가격 Vi를 가지고 있다. 상덕이는 가방을 K개 가지고 있고, 각 가방에 담을 수 있는 최대 무게는 Ci이다. 가방에는 최대 한 개의 보석만 넣을 수 있다."
   ]
  },
  {
   "cell_type": "markdown",
   "metadata": {},
   "source": [
    "* 상덕이가 훔칠 수 있는 보석의 최대 가격을 구하는 프로그램을 작성하시오."
   ]
  },
  {
   "attachments": {},
   "cell_type": "markdown",
   "metadata": {},
   "source": [
    "## 입력"
   ]
  },
  {
   "cell_type": "markdown",
   "metadata": {},
   "source": [
    "* 첫째 줄에 N과 K가 주어진다. (1 ≤ N, K ≤ 300,000)"
   ]
  },
  {
   "cell_type": "markdown",
   "metadata": {},
   "source": [
    "* 다음 N개 줄에는 각 보석의 정보 Mi와 Vi가 주어진다. (0 ≤ Mi, Vi ≤ 1,000,000)"
   ]
  },
  {
   "cell_type": "markdown",
   "metadata": {},
   "source": [
    "* 다음 K개 줄에는 가방에 담을 수 있는 최대 무게 Ci가 주어진다. (1 ≤ Ci ≤ 100,000,000)"
   ]
  },
  {
   "cell_type": "markdown",
   "metadata": {},
   "source": [
    "* 모든 숫자는 양의 정수이다."
   ]
  },
  {
   "attachments": {},
   "cell_type": "markdown",
   "metadata": {},
   "source": [
    "## 출력"
   ]
  },
  {
   "attachments": {},
   "cell_type": "markdown",
   "metadata": {},
   "source": [
    "* 첫째 줄에 상덕이가 훔칠 수 있는 보석 가격의 합의 최댓값을 출력한다."
   ]
  },
  {
   "attachments": {},
   "cell_type": "markdown",
   "metadata": {},
   "source": [
    "## Code"
   ]
  },
  {
   "cell_type": "code",
   "execution_count": 1,
   "metadata": {},
   "outputs": [],
   "source": [
    "# 1202_보석 도둑\n",
    "\n",
    "import sys\n",
    "import heapq\n",
    "from collections import deque\n",
    "\n",
    "submit = False\n",
    "input = sys.stdin.readline if submit else input\n",
    "\n",
    "def solution():\n",
    "    N, K = map(int, input().split())\n",
    "    jewels = deque(sorted([tuple(map(int, input().split())) for _ in range(N)], key=lambda x:x[0]))\n",
    "    bags = deque(sorted([int(input()) for _ in range(K)]))\n",
    "    hq = []\n",
    "\n",
    "    value = 0\n",
    "    while bags:\n",
    "        bag = bags.popleft()\n",
    "        while jewels:\n",
    "            jewel = jewels.popleft()\n",
    "            if bag >= jewel[0]:\n",
    "                heapq.heappush(hq, -1 * jewel[1])\n",
    "            else:\n",
    "                jewels.appendleft(jewel)\n",
    "                break\n",
    "        if hq:\n",
    "            value -= heapq.heappop(hq)\n",
    "    print(value)\n"
   ]
  },
  {
   "attachments": {},
   "cell_type": "markdown",
   "metadata": {},
   "source": [
    "## 예제입력 - 출력"
   ]
  },
  {
   "cell_type": "code",
   "execution_count": 2,
   "metadata": {},
   "outputs": [
    {
     "name": "stdout",
     "output_type": "stream",
     "text": [
      "10\n"
     ]
    }
   ],
   "source": [
    "solution()"
   ]
  },
  {
   "cell_type": "code",
   "execution_count": 3,
   "metadata": {},
   "outputs": [
    {
     "name": "stdout",
     "output_type": "stream",
     "text": [
      "164\n"
     ]
    }
   ],
   "source": [
    "solution()"
   ]
  },
  {
   "attachments": {},
   "cell_type": "markdown",
   "metadata": {},
   "source": [
    "## Note"
   ]
  },
  {
   "cell_type": "markdown",
   "metadata": {},
   "source": [
    "* 1. 가방과 보석의 무게와 가격을 각 List(jewels, bags)에 저장 후 가방 크기와 가격 기준 오름차순으로 저장한다.\n",
    "    * 1\\) 가방은 int로 보석은 (무게, 가격)의 tuple 형으로 저장한다\n",
    "* 2. 낮은 무게부터 가방에 들어갈 수 있는 보석을 찾아 가격을 우선순위 힙(hq)에 저장한다.\n",
    "    * 1\\) 저장할때 -1을 곱하여 최대 값이 가장 앞에 위치할 수 있도록 한다.\n",
    "* 3. 가방에 넣지 못하는 보석이 나타나면, 다시 보석을 List(jewels)에 넣어놓고 while 반복문을 중단한다.\n",
    "    * 1\\) hq에는 이전 가방에는 들어갈 수 있었지만 가격이 차순위로 높은 값들이 저장되어 있다.\n",
    "    * 2\\) 이전 가방에 들어갈 수 있는 무게의 보석이 현재 가방에 들어갈 수 있는 보석보다 가격이 높은 경우 가격이 더 높은 보석을 선택한다.\n",
    "* 4. 저장된 보석의 가격 중 가장 높은 값(가장 앞에 위치한 값)을 꺼내 values에 더 해준다."
   ]
  },
  {
   "attachments": {},
   "cell_type": "markdown",
   "metadata": {},
   "source": [
    "https://www.acmicpc.net/problem/1202"
   ]
  }
 ],
 "metadata": {
  "kernelspec": {
   "display_name": "ws1",
   "language": "python",
   "name": "python3"
  },
  "language_info": {
   "codemirror_mode": {
    "name": "ipython",
    "version": 3
   },
   "file_extension": ".py",
   "mimetype": "text/x-python",
   "name": "python",
   "nbconvert_exporter": "python",
   "pygments_lexer": "ipython3",
   "version": "3.12.4"
  },
  "orig_nbformat": 4,
  "vscode": {
   "interpreter": {
    "hash": "2856db72fb1e77597a3b14e9c1bb4d2315d342edc16fc9e25c6c6e499688b933"
   }
  }
 },
 "nbformat": 4,
 "nbformat_minor": 2
}
