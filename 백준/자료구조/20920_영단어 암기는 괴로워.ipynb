{
 "cells": [
  {
   "attachments": {},
   "cell_type": "markdown",
   "metadata": {},
   "source": [
    "# 여우는 어떻게 울지?"
   ]
  },
  {
   "attachments": {},
   "cell_type": "markdown",
   "metadata": {},
   "source": [
    "## 문제"
   ]
  },
  {
   "attachments": {},
   "cell_type": "markdown",
   "metadata": {},
   "source": [
    "* 화은이는 이번 영어 시험에서 틀린 문제를 바탕으로 영어 단어 암기를 하려고 한다. 그 과정에서 효율적으로 영어 단어를 외우기 위해 영어 단어장을 만들려 하고 있다. 화은이가 만들고자 하는 단어장의 단어 순서는 다음과 같은 우선순위를 차례로 적용하여 만들어진다.\n",
    "\n",
    "    * 1.자주 나오는 단어일수록 앞에 배치한다.\n",
    "    * 2.해당 단어의 길이가 길수록 앞에 배치한다.\n",
    "    * 3.알파벳 사전 순으로 앞에 있는 단어일수록 앞에 배치한다"
   ]
  },
  {
   "attachments": {},
   "cell_type": "markdown",
   "metadata": {},
   "source": [
    "* $M$보다 짧은 길이의 단어의 경우 읽는 것만으로도 외울 수 있기 때문에 길이가 \n",
    "$M$이상인 단어들만 외운다고 한다. 화은이가 괴로운 영단어 암기를 효율적으로 할 수 있도록 단어장을 만들어 주자."
   ]
  },
  {
   "attachments": {},
   "cell_type": "markdown",
   "metadata": {},
   "source": [
    "## 입력"
   ]
  },
  {
   "attachments": {},
   "cell_type": "markdown",
   "metadata": {},
   "source": [
    "* 첫째 줄에는 영어 지문에 나오는 단어의 개수 \n",
    "$N$과 외울 단어의 길이 기준이 되는 \n",
    "$M$이 공백으로 구분되어 주어진다. (\n",
    "$1 \\leq N \\leq 100\\,000$, \n",
    "$1 \\leq M \\leq 10$)\n",
    "\n",
    "* 둘째 줄부터 \n",
    "$N+1$번째 줄까지 외울 단어를 입력받는다. 이때의 입력은 알파벳 소문자로만 주어지며 단어의 길이는 \n",
    "$10$을 넘지 않는다.\n",
    "\n",
    "* 단어장에 단어가 반드시 1개 이상 존재하는 입력만 주어진다."
   ]
  },
  {
   "attachments": {},
   "cell_type": "markdown",
   "metadata": {},
   "source": [
    "## 출력"
   ]
  },
  {
   "attachments": {},
   "cell_type": "markdown",
   "metadata": {},
   "source": [
    "* 화은이의 단어장에 들어 있는 단어를 단어장의 앞에 위치한 단어부터 한 줄에 한 단어씩 순서대로 출력한다."
   ]
  },
  {
   "attachments": {},
   "cell_type": "markdown",
   "metadata": {},
   "source": [
    "## Code"
   ]
  },
  {
   "cell_type": "code",
   "execution_count": 1,
   "metadata": {},
   "outputs": [],
   "source": [
    "import sys\n",
    "def solution(): \n",
    "    # N, M = map(int, sys.stdin.readline().split())\n",
    "    N, M = map(int, input().split())\n",
    "    word_list = []\n",
    "    for _ in range(N):\n",
    "        # word = sys.stdin.readline().rstrip()\n",
    "        word = input().rstrip()\n",
    "        if len(word) >= M:\n",
    "            word_list.append(word)\n",
    "                \n",
    "    dict_word = {}\n",
    "    for w in word_list:\n",
    "        if w not in dict_word:\n",
    "            dict_word[w] = 1\n",
    "        else:\n",
    "            dict_word[w] += 1\n",
    "\n",
    "    word_count = list(dict_word.items())\n",
    "    word_count = sorted(word_count, key=lambda x: (-x[1], -len(x[0]), x[0]))\n",
    "                \n",
    "    for _item in word_count:\n",
    "        print(_item[0])            \n",
    "            "
   ]
  },
  {
   "attachments": {},
   "cell_type": "markdown",
   "metadata": {},
   "source": [
    "## 예제입력 - 출력"
   ]
  },
  {
   "cell_type": "code",
   "execution_count": 2,
   "metadata": {},
   "outputs": [
    {
     "name": "stdout",
     "output_type": "stream",
     "text": [
      "sand\n",
      "apple\n",
      "append\n"
     ]
    }
   ],
   "source": [
    "solution()"
   ]
  },
  {
   "cell_type": "code",
   "execution_count": 3,
   "metadata": {},
   "outputs": [
    {
     "name": "stdout",
     "output_type": "stream",
     "text": [
      "swift\n",
      "mouse\n",
      "appearance\n",
      "attendance\n",
      "append\n",
      "wallet\n"
     ]
    }
   ],
   "source": [
    "solution()"
   ]
  },
  {
   "attachments": {},
   "cell_type": "markdown",
   "metadata": {},
   "source": [
    "## Note"
   ]
  },
  {
   "attachments": {},
   "cell_type": "markdown",
   "metadata": {},
   "source": [
    "* 입력을 받을 때, 단어의 길이가 M 이상인 단어들만 word_list 라고 명명한 List에 추가한다.\n",
    "* dict_word라고 명명한 Dictionary에 해당 단어가 없으면 key로 추가하고 value를 1로 할당한다. dict_word에 단어가 있으면 value에 1을 더해주는 과정을 거쳐 단어의 개수를 센다\n",
    "* item() 함수를 이용하여 (key, value) 형태의 Tuple로 만든 뒤, value가 큰 순서, key의 길이가 큰 순서, 알파벳 사전순으로 빠른 단어를 정렬한 뒤, key만 출력한다. "
   ]
  },
  {
   "attachments": {},
   "cell_type": "markdown",
   "metadata": {},
   "source": [
    "https://www.acmicpc.net/problem/20920"
   ]
  }
 ],
 "metadata": {
  "kernelspec": {
   "display_name": "ws1",
   "language": "python",
   "name": "python3"
  },
  "language_info": {
   "codemirror_mode": {
    "name": "ipython",
    "version": 3
   },
   "file_extension": ".py",
   "mimetype": "text/x-python",
   "name": "python",
   "nbconvert_exporter": "python",
   "pygments_lexer": "ipython3",
   "version": "3.9.13"
  },
  "orig_nbformat": 4,
  "vscode": {
   "interpreter": {
    "hash": "2856db72fb1e77597a3b14e9c1bb4d2315d342edc16fc9e25c6c6e499688b933"
   }
  }
 },
 "nbformat": 4,
 "nbformat_minor": 2
}
