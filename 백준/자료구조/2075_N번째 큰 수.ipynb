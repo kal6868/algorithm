{
 "cells": [
  {
   "attachments": {},
   "cell_type": "markdown",
   "metadata": {},
   "source": [
    "# N번째 큰 수"
   ]
  },
  {
   "attachments": {},
   "cell_type": "markdown",
   "metadata": {},
   "source": [
    "## 문제"
   ]
  },
  {
   "attachments": {},
   "cell_type": "markdown",
   "metadata": {},
   "source": [
    "* N×N의 표에 수 N2개 채워져 있다. 채워진 수에는 한 가지 특징이 있는데, 모든 수는 자신의 한 칸 위에 있는 수보다 크다는 것이다. N=5일 때의 예를 보자."
   ]
  },
  {
   "cell_type": "markdown",
   "metadata": {},
   "source": [
    "||||||\n",
    "|---|---|---|---|---|\n",
    "|12|7|9|15|5|\n",
    "|13|8|11|19|6|\n",
    "|21|10|26|31|16|\n",
    "|48|14|28|35|25|\n",
    "|48|14|28|35|25|\n",
    "|52|20|32|41|49|"
   ]
  },
  {
   "cell_type": "markdown",
   "metadata": {},
   "source": [
    "* 이러한 표가 주어졌을 때, N번째 큰 수를 찾는 프로그램을 작성하시오. 표에 채워진 수는 모두 다르다."
   ]
  },
  {
   "attachments": {},
   "cell_type": "markdown",
   "metadata": {},
   "source": [
    "## 입력"
   ]
  },
  {
   "attachments": {},
   "cell_type": "markdown",
   "metadata": {},
   "source": [
    "* 첫째 줄에 N(1 ≤ N ≤ 1,500)이 주어진다. 다음 N개의 줄에는 각 줄마다 N개의 수가 주어진다. 표에 적힌 수는 -10억보다 크거나 같고, 10억보다 작거나 같은 정수이다."
   ]
  },
  {
   "attachments": {},
   "cell_type": "markdown",
   "metadata": {},
   "source": [
    "## 출력"
   ]
  },
  {
   "attachments": {},
   "cell_type": "markdown",
   "metadata": {},
   "source": [
    "* 첫째 줄에 N번째 큰 수를 출력한다."
   ]
  },
  {
   "attachments": {},
   "cell_type": "markdown",
   "metadata": {},
   "source": [
    "## Code"
   ]
  },
  {
   "cell_type": "code",
   "execution_count": 1,
   "metadata": {},
   "outputs": [],
   "source": [
    "# 2075번_N번째 큰 수(실패한 풀이)\n",
    "import sys\n",
    "# N = int(input())\n",
    "N = int(sys.stdin.readline())\n",
    "numbers = []\n",
    "for _ in range(N):\n",
    "    numbers_by_line = map(int, input().split())\n",
    "    # numbers_by_line = map(int, sys.stdin.readline().split())\n",
    "    numbers.extend(numbers_by_line)\n",
    "    numbers = sorted(numbers, reverse=True)\n",
    "print(numbers[N-1])\n",
    "\n",
    "\n",
    "# 메모리 초과 풀이"
   ]
  },
  {
   "cell_type": "code",
   "execution_count": 1,
   "metadata": {},
   "outputs": [],
   "source": [
    "# 2075번_N번째 큰 수(성공한 풀이)\n",
    "import sys\n",
    "import heapq\n",
    "def solution():\n",
    "    N = int(input())\n",
    "    # N = int(sys.stdin.readline())\n",
    "\n",
    "    h_queue = []\n",
    "    for _ in range(N):\n",
    "        numbers = map(int, input().split())\n",
    "        # numbers = map(int, sys.stdin.readline().split())\n",
    "        for number in numbers:\n",
    "            if len(h_queue) < N:\n",
    "                heapq.heappush(h_queue, number)\n",
    "\n",
    "            else:\n",
    "                if h_queue[0] < number:\n",
    "                    heapq.heappop(h_queue)\n",
    "                    heapq.heappush(h_queue, number)\n",
    "    print(h_queue[0])\n"
   ]
  },
  {
   "attachments": {},
   "cell_type": "markdown",
   "metadata": {},
   "source": [
    "## 예제입력"
   ]
  },
  {
   "attachments": {},
   "cell_type": "markdown",
   "metadata": {},
   "source": [
    "## Note"
   ]
  },
  {
   "cell_type": "code",
   "execution_count": 2,
   "metadata": {},
   "outputs": [
    {
     "name": "stdout",
     "output_type": "stream",
     "text": [
      "35\n"
     ]
    }
   ],
   "source": [
    "solution()"
   ]
  },
  {
   "cell_type": "markdown",
   "metadata": {},
   "source": [
    "* 1. 우선순위 큐를 만들어서 큐 안에 원소가 N개 미만이면 입력받은 숫자를 추가한다.\n",
    "* 2. 숫자가 N개 이상이면 입력 받은 숫자와 0번 인덱스를 비교해서 큐에서 숫자를 제거하고 입력받은 숫자를 추가할지를 결정한다\n",
    "    * 우선순의 큐의 특징에 따라 0번 인덱스의 숫자는 큐의 최소값이다. 큐에는 N개의 숫자만 있으니 N번째 큰 수가 된다.\n",
    "    * 입력받은 숫자가 큐 안에 있는 현재 N번째 큰 수보다 더 크면 0번째 인덱스의 숫자를 제거하고 입력받은 숫자를 추가하여 N번째 큰 수를 업데이트 한다."
   ]
  },
  {
   "attachments": {},
   "cell_type": "markdown",
   "metadata": {},
   "source": [
    "https://www.acmicpc.net/problem/2075"
   ]
  }
 ],
 "metadata": {
  "kernelspec": {
   "display_name": "ws1",
   "language": "python",
   "name": "python3"
  },
  "language_info": {
   "codemirror_mode": {
    "name": "ipython",
    "version": 3
   },
   "file_extension": ".py",
   "mimetype": "text/x-python",
   "name": "python",
   "nbconvert_exporter": "python",
   "pygments_lexer": "ipython3",
   "version": "3.11.3"
  },
  "orig_nbformat": 4,
  "vscode": {
   "interpreter": {
    "hash": "2856db72fb1e77597a3b14e9c1bb4d2315d342edc16fc9e25c6c6e499688b933"
   }
  }
 },
 "nbformat": 4,
 "nbformat_minor": 2
}
