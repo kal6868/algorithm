{
 "cells": [
  {
   "attachments": {},
   "cell_type": "markdown",
   "metadata": {},
   "source": [
    "# 탑"
   ]
  },
  {
   "attachments": {},
   "cell_type": "markdown",
   "metadata": {},
   "source": [
    "## 문제"
   ]
  },
  {
   "cell_type": "markdown",
   "metadata": {},
   "source": [
    "* KOI 통신연구소는 레이저를 이용한 새로운 비밀 통신 시스템 개발을 위한 실험을 하고 있다. 실험을 위하여 일직선 위에 N개의 높이가 서로 다른 탑을 수평 직선의 왼쪽부터 오른쪽 방향으로 차례로 세우고, 각 탑의 꼭대기에 레이저 송신기를 설치하였다. 모든 탑의 레이저 송신기는 레이저 신호를 지표면과 평행하게 수평 직선의 왼쪽 방향으로 발사하고, 탑의 기둥 모두에는 레이저 신호를 수신하는 장치가 설치되어 있다. 하나의 탑에서 발사된 레이저 신호는 가장 먼저 만나는 단 하나의 탑에서만 수신이 가능하다."
   ]
  },
  {
   "cell_type": "markdown",
   "metadata": {},
   "source": [
    "* 예를 들어 높이가 6, 9, 5, 7, 4인 다섯 개의 탑이 수평 직선에 일렬로 서 있고, 모든 탑에서는 주어진 탑 순서의 반대 방향(왼쪽 방향)으로 동시에 레이저 신호를 발사한다고 하자. 그러면, 높이가 4인 다섯 번째 탑에서 발사한 레이저 신호는 높이가 7인 네 번째 탑이 수신을 하고, 높이가 7인 네 번째 탑의 신호는 높이가 9인 두 번째 탑이, 높이가 5인 세 번째 탑의 신호도 높이가 9인 두 번째 탑이 수신을 한다. 높이가 9인 두 번째 탑과 높이가 6인 첫 번째 탑이 보낸 레이저 신호는 어떤 탑에서도 수신을 하지 못한다."
   ]
  },
  {
   "cell_type": "markdown",
   "metadata": {},
   "source": [
    "* 탑들의 개수 N과 탑들의 높이가 주어질 때, 각각의 탑에서 발사한 레이저 신호를 어느 탑에서 수신하는지를 알아내는 프로그램을 작성하라."
   ]
  },
  {
   "attachments": {},
   "cell_type": "markdown",
   "metadata": {},
   "source": [
    "## 입력"
   ]
  },
  {
   "cell_type": "markdown",
   "metadata": {},
   "source": [
    "* 첫째 줄에 탑의 수를 나타내는 정수 N이 주어진다. N은 1 이상 500,000 이하이다. 둘째 줄에는 N개의 탑들의 높이가 직선상에 놓인 순서대로 하나의 빈칸을 사이에 두고 주어진다. 탑들의 높이는 1 이상 100,000,000 이하의 정수이다."
   ]
  },
  {
   "attachments": {},
   "cell_type": "markdown",
   "metadata": {},
   "source": [
    "## 출력"
   ]
  },
  {
   "attachments": {},
   "cell_type": "markdown",
   "metadata": {},
   "source": [
    "* 첫째 줄에 주어진 탑들의 순서대로 각각의 탑들에서 발사한 레이저 신호를 수신한 탑들의 번호를 하나의 빈칸을 사이에 두고 출력한다. 만약 레이저 신호를 수신하는 탑이 존재하지 않으면 0을 출력한다."
   ]
  },
  {
   "attachments": {},
   "cell_type": "markdown",
   "metadata": {},
   "source": [
    "## Code"
   ]
  },
  {
   "cell_type": "code",
   "execution_count": 1,
   "metadata": {},
   "outputs": [],
   "source": [
    "# 2493_탑 # 시간초과\n",
    "\n",
    "import sys\n",
    "from collections import deque\n",
    "\n",
    "submit = False\n",
    "input = sys.stdin.readline if submit else input\n",
    "\n",
    "def solution():\n",
    "    N = int(input())\n",
    "    towers = deque(map(int, input().split()))\n",
    "    stack, result = [], []\n",
    "\n",
    "    while towers:\n",
    "        temp = towers.popleft()\n",
    "        if stack:\n",
    "            status = False\n",
    "            for i in range(len(stack)-1, -1, -1):\n",
    "                if stack[i] >= temp:\n",
    "                    result.append(i+1)\n",
    "                    status = True\n",
    "                    break\n",
    "            if not status:\n",
    "                result.append(0)\n",
    "            stack.append(temp)\n",
    "        else:\n",
    "            stack.append(temp)\n",
    "            result.append(0)\n",
    "    print(' '.join(map(str, result)))"
   ]
  },
  {
   "cell_type": "code",
   "execution_count": null,
   "metadata": {},
   "outputs": [],
   "source": [
    "# 2493_탑 \n",
    "import sys\n",
    "\n",
    "submit = False\n",
    "input = sys.stdin.readline if submit else input\n",
    "\n",
    "def solution():\n",
    "    N = int(input())\n",
    "    towers = list(map(int, input().split()))\n",
    "    stack, result = [], ['0'] * N\n",
    "\n",
    "    for i in range(N-1, -1, -1):\n",
    "        while stack and towers[i] >= stack[-1][1]:\n",
    "            result[stack.pop()[0]] = str(i+1)\n",
    "        stack.append((i, towers[i]))\n",
    "    print(' '.join(result))"
   ]
  },
  {
   "attachments": {},
   "cell_type": "markdown",
   "metadata": {},
   "source": [
    "## 예제입력 - 출력"
   ]
  },
  {
   "cell_type": "code",
   "execution_count": 2,
   "metadata": {},
   "outputs": [
    {
     "name": "stdout",
     "output_type": "stream",
     "text": [
      "0 0 2 2 4\n"
     ]
    }
   ],
   "source": [
    "solution()"
   ]
  },
  {
   "cell_type": "markdown",
   "metadata": {},
   "source": [
    "### 풀이 1\n",
    "\n",
    "* 1. 탑의 높이를 stack에 추가하면서 stack에 현재 탑보다 높은 탑이 있으면 그 index를 list(result)에 저장한다.\n",
    "    * 1\\) stack이 비어있으면 가장 앞에 있는 탑이므로 0을 stack에 추가한다.\n",
    "    * 2\\) stack이 비어있지 않으면 for문으로 stack을 마지막 index부터 탐색하면서 높은 탑이 있으면 해당 index를, 없으면 0을 result에 추가한다.\n",
    "* 2. result에 저장된 index들을 한 줄의 문자열로 바꾸어 출력한다."
   ]
  },
  {
   "cell_type": "markdown",
   "metadata": {},
   "source": [
    "### 풀이 2\n",
    "\n",
    "* 1. stack에 타워의 높이와 index를 저장 후 현재 index의 타워의 높이가 stack에 저장된 타워들의 높이보다 result에 index를 갱신한다.\n",
    "    * 1\\) for문을 사용해 마지막 index부터 탐색하면서 가장 마지막 타워의 높이와 index를 pop에 저장한다.(stack이 비어있기 때문에 무조건 저장)\n",
    "        * (index, 높이) 형태의 tuple로 저장한다.\n",
    "    * 2\\) for문에서 현재 index의 타워의 높이가 stack에 마지막으로 저장된 타워의 높이보다 높으면 stack의 마지막 값을 추출한다.\n",
    "        * 2\\)번 과정을 stack이 빌 때까지 반복한다.\n",
    "        * stack이 비어있지 않은데 높은 값을 만나면, stack 빌때까지 모두 갱신되기 때문이다.\n",
    "    * 3\\) result에서 stack에서 추출한 index의 값을 0에서 stack에서 추출한 tuple의 index+1 값으로 갱신한다.\n",
    "        * 타워는 1번부터 시작하므로\n",
    "    * 4\\) 다시 stack에 tuple을 저장하고, 현재 index의 타워의 높이가 높은 경우가 발생하면 2)~3)번 과정을 반복한다.\n",
    "    * e.g\\) N = 5, towers = [6, 9, 5, 7, 4]\n",
    "        * i = 4, [(4, 4)]: stack이 비어있으므로 (4, 4)를 저장한다.\n",
    "        * i = 3, []: 현재 index의 타워 높이가 7이므로 result의 4번 index 값을 4로 변경한다.\n",
    "        * i = 3, [(3, 7)]: (3, 7)를 저장한다.\n",
    "        * i = 2, [(3, 7), (2, 5)]: 현재 index의 타워 높이가 5이므로 7보다 작아 stack에 (2, 5)를 저장한다.\n",
    "        * i = 1, [(3, 7)]: 현재 index의 타워 높이가 9 이므로 result의 2번 index 값을 2로 변경한다.\n",
    "        * i = 1, []: 현재 index의 타워 높이가 9 이므로 result의 3번 index 값을 2로 변경한다.\n",
    "        * i = 1, [(1, 9)]: (1, 9)를 저장한다.\n",
    "        * i = 0, [(1, 9), (0, 6)]: 현재 index의 6은 9보다 작으므로 stack에 (0, 6)을 저장한다.\n",
    "* 2. result에 저장된 index들을 한 줄의 문자열로 바꾸어 출력한다."
   ]
  },
  {
   "attachments": {},
   "cell_type": "markdown",
   "metadata": {},
   "source": [
    "## Note"
   ]
  },
  {
   "attachments": {},
   "cell_type": "markdown",
   "metadata": {},
   "source": [
    "https://www.acmicpc.net/problem/2493"
   ]
  }
 ],
 "metadata": {
  "kernelspec": {
   "display_name": "ws1",
   "language": "python",
   "name": "python3"
  },
  "language_info": {
   "codemirror_mode": {
    "name": "ipython",
    "version": 3
   },
   "file_extension": ".py",
   "mimetype": "text/x-python",
   "name": "python",
   "nbconvert_exporter": "python",
   "pygments_lexer": "ipython3",
   "version": "3.12.4"
  },
  "orig_nbformat": 4,
  "vscode": {
   "interpreter": {
    "hash": "2856db72fb1e77597a3b14e9c1bb4d2315d342edc16fc9e25c6c6e499688b933"
   }
  }
 },
 "nbformat": 4,
 "nbformat_minor": 2
}
