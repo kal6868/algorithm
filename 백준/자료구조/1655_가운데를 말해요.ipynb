{
 "cells": [
  {
   "attachments": {},
   "cell_type": "markdown",
   "metadata": {},
   "source": [
    "# 가운데를 말해요"
   ]
  },
  {
   "attachments": {},
   "cell_type": "markdown",
   "metadata": {},
   "source": [
    "## 문제"
   ]
  },
  {
   "cell_type": "markdown",
   "metadata": {},
   "source": [
    "* 백준이는 동생에게 \"가운데를 말해요\" 게임을 가르쳐주고 있다. 백준이가 정수를 하나씩 외칠때마다 동생은 지금까지 백준이가 말한 수 중에서 중간값을 말해야 한다. 만약, 그동안 백준이가 외친 수의 개수가 짝수개라면 중간에 있는 두 수 중에서 작은 수를 말해야 한다."
   ]
  },
  {
   "cell_type": "markdown",
   "metadata": {},
   "source": [
    "* 예를 들어 백준이가 동생에게 1, 5, 2, 10, -99, 7, 5를 순서대로 외쳤다고 하면, 동생은 1, 1, 2, 2, 2, 2, 5를 차례대로 말해야 한다. 백준이가 외치는 수가 주어졌을 때, 동생이 말해야 하는 수를 구하는 프로그램을 작성하시오."
   ]
  },
  {
   "attachments": {},
   "cell_type": "markdown",
   "metadata": {},
   "source": [
    "## 입력"
   ]
  },
  {
   "cell_type": "markdown",
   "metadata": {},
   "source": [
    "* 첫째 줄에는 백준이가 외치는 정수의 개수 N이 주어진다. N은 1보다 크거나 같고, 100,000보다 작거나 같은 자연수이다. 그 다음 N줄에 걸쳐서 백준이가 외치는 정수가 차례대로 주어진다. 정수는 -10,000보다 크거나 같고, 10,000보다 작거나 같다."
   ]
  },
  {
   "attachments": {},
   "cell_type": "markdown",
   "metadata": {},
   "source": [
    "## 출력"
   ]
  },
  {
   "attachments": {},
   "cell_type": "markdown",
   "metadata": {},
   "source": [
    "* 한 줄에 하나씩 N줄에 걸쳐 백준이의 동생이 말해야 하는 수를 순서대로 출력한다."
   ]
  },
  {
   "attachments": {},
   "cell_type": "markdown",
   "metadata": {},
   "source": [
    "## Code"
   ]
  },
  {
   "cell_type": "code",
   "execution_count": 1,
   "metadata": {},
   "outputs": [],
   "source": [
    "# 1655_가운데를 말해요 # 시간초과\n",
    "\n",
    "import sys\n",
    "\n",
    "submit = False\n",
    "input = sys.stdin.readline if submit else input\n",
    "\n",
    "def solution():\n",
    "    N = int(input())\n",
    "    numbers = []\n",
    "    for _ in range(N):\n",
    "        numbers.append(int(input()))\n",
    "        numbers = sorted(numbers)\n",
    "        length = len(numbers)\n",
    "        m_idx = (len(numbers)//2) - 1 if length%2 == 0 else (len(numbers)//2)\n",
    "        print(numbers[m_idx])"
   ]
  },
  {
   "cell_type": "code",
   "execution_count": null,
   "metadata": {},
   "outputs": [],
   "source": [
    "# 1655_가운데를 말해요\n",
    "\n",
    "import sys\n",
    "import heapq\n",
    "\n",
    "submit = False\n",
    "input = sys.stdin.readline if submit else input\n",
    "\n",
    "def solution():\n",
    "    N = int(input())\n",
    "    leftHeap, rightHeap = [], []\n",
    "    for i in range(N):\n",
    "        temp = int(input())\n",
    "        if len(leftHeap) == len(rightHeap):\n",
    "            heapq.heappush(leftHeap, -temp)\n",
    "        else:\n",
    "            heapq.heappush(rightHeap, temp)\n",
    "\n",
    "        if (rightHeap) and (rightHeap[0] < -leftHeap[0]):\n",
    "            temp_left = heapq.heappop(leftHeap)\n",
    "            temp_right = heapq.heappop(rightHeap)\n",
    "\n",
    "            heapq.heappush(leftHeap, -temp_right)\n",
    "            heapq.heappush(rightHeap, -temp_left)\n",
    "\n",
    "        print(-leftHeap[0])"
   ]
  },
  {
   "attachments": {},
   "cell_type": "markdown",
   "metadata": {},
   "source": [
    "## 예제입력 - 출력"
   ]
  },
  {
   "cell_type": "code",
   "execution_count": 2,
   "metadata": {},
   "outputs": [
    {
     "name": "stdout",
     "output_type": "stream",
     "text": [
      "1\n",
      "1\n",
      "2\n",
      "2\n",
      "2\n",
      "2\n",
      "5\n"
     ]
    }
   ],
   "source": [
    "solution()"
   ]
  },
  {
   "attachments": {},
   "cell_type": "markdown",
   "metadata": {},
   "source": [
    "## Note"
   ]
  },
  {
   "cell_type": "markdown",
   "metadata": {},
   "source": [
    "### 풀이 1\n",
    "\n",
    "* 1. 입력 받은 숫자를 List(numbers)에 저장 후 정렬하고 중앙 값을 출력한다."
   ]
  },
  {
   "cell_type": "markdown",
   "metadata": {},
   "source": [
    "### 풀이 2\n",
    "\n",
    "* 1. 중앙 값을 기준으로 낮은 값과 큰 값을 분류하여 각자의 heap에 저장한다.\n",
    "    * 낮은 값을 저장하는 heap, 높은 값을 저장하는 heap에 순차적으로 값을 저장한다.\n",
    "    * 낮은 값을 저장한 heap의 0번 index 값을 중앙 값으로 사용한다.\n",
    "        * -1를 곱해서 저장하면 최대값이 0번 index에 위치\n",
    "    * 높은 값을 저장한 heap에는 그대로 저장하여 최소값이 0번 index에 위치하게 한다.\n",
    "\n",
    "* 2. 중앙 값을 새로 정해야 하는 경우 큰 값을 저장한 heap의 0번 index에 위치한 값을 중앙 값으로 갱신한다.\n",
    "    * 낮은 값을 저장하는 순서에 새로운 최대값, 최소값, 중앙 값 다음으로 큰 값 보다 큰 값이 들어온 경우\n",
    "    * 큰 값을 저장한 heap의 0번 index는 중앙값 다음으로 큰 값이므로 새로운 중앙값으로 사용한다.\n",
    "    * 낮은 값 heap: [-최대값, ...], 큰 값 heap: [최소값, ...]으로 저장되어 있다.\n",
    "        * \"-최대값 > 최소값\"인 경우\n",
    "            * 최소값에 -1을 곱해 낮을 값을 저장한 heap으로 옮긴다\n",
    "            * -최대값에 -1을 곱해 높은 값을 저장한 heap으로 옮긴다\n",
    "            * 낮은 값을 저장한 heap의 0번 index의 값인 -최대값이 새로운 중앙값이 된다.\n",
    "            * leftHeap: [-중앙값, ..., ], rightHeap: [중앙 값 다음으로 큰 값, ..., ]"
   ]
  },
  {
   "attachments": {},
   "cell_type": "markdown",
   "metadata": {},
   "source": [
    "https://www.acmicpc.net/problem/1655"
   ]
  }
 ],
 "metadata": {
  "kernelspec": {
   "display_name": "ws1",
   "language": "python",
   "name": "python3"
  },
  "language_info": {
   "codemirror_mode": {
    "name": "ipython",
    "version": 3
   },
   "file_extension": ".py",
   "mimetype": "text/x-python",
   "name": "python",
   "nbconvert_exporter": "python",
   "pygments_lexer": "ipython3",
   "version": "3.12.4"
  },
  "orig_nbformat": 4,
  "vscode": {
   "interpreter": {
    "hash": "2856db72fb1e77597a3b14e9c1bb4d2315d342edc16fc9e25c6c6e499688b933"
   }
  }
 },
 "nbformat": 4,
 "nbformat_minor": 2
}
