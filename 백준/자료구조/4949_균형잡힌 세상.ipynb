{
 "cells": [
  {
   "attachments": {},
   "cell_type": "markdown",
   "metadata": {},
   "source": [
    "# 균형잡힌 세상"
   ]
  },
  {
   "attachments": {},
   "cell_type": "markdown",
   "metadata": {},
   "source": [
    "## 문제"
   ]
  },
  {
   "cell_type": "markdown",
   "metadata": {},
   "source": [
    "* 세계는 균형이 잘 잡혀있어야 한다. 양과 음, 빛과 어둠 그리고 왼쪽 괄호와 오른쪽 괄호처럼 말이다."
   ]
  },
  {
   "cell_type": "markdown",
   "metadata": {},
   "source": [
    "* 정민이의 임무는 어떤 문자열이 주어졌을 때, 괄호들의 균형이 잘 맞춰져 있는지 판단하는 프로그램을 짜는 것이다."
   ]
  },
  {
   "cell_type": "markdown",
   "metadata": {},
   "source": [
    "* 문자열에 포함되는 괄호는 소괄호(\"()\") 와 대괄호(\"[]\")로 2종류이고, 문자열이 균형을 이루는 조건은 아래와 같다.\n",
    "    * 모든 왼쪽 소괄호(\"(\")는 오른쪽 소괄호(\")\")와만 짝을 이뤄야 한다.\n",
    "    * 모든 왼쪽 대괄호(\"[\")는 오른쪽 대괄호(\"]\")와만 짝을 이뤄야 한다.\n",
    "    * 모든 오른쪽 괄호들은 자신과 짝을 이룰 수 있는 왼쪽 괄호가 존재한다.\n",
    "    * 모든 괄호들의 짝은 1:1 매칭만 가능하다. 즉, 괄호 하나가 둘 이상의 괄호와 짝지어지지 않는다.\n",
    "    * 짝을 이루는 두 괄호가 있을 때, 그 사이에 있는 문자열도 균형이 잡혀야 한다."
   ]
  },
  {
   "cell_type": "markdown",
   "metadata": {},
   "source": [
    "* 정민이를 도와 문자열이 주어졌을 때 균형잡힌 문자열인지 아닌지를 판단해보자."
   ]
  },
  {
   "attachments": {},
   "cell_type": "markdown",
   "metadata": {},
   "source": [
    "## 입력"
   ]
  },
  {
   "cell_type": "markdown",
   "metadata": {},
   "source": [
    "* 각 문자열은 마지막 글자를 제외하고 영문 알파벳, 공백, 소괄호(\"( )\"), 대괄호(\"[ ]\")로 이루어져 있으며, 온점(\".\")으로 끝나고, 길이는 100글자보다 작거나 같다.\n",
    "\n"
   ]
  },
  {
   "cell_type": "markdown",
   "metadata": {},
   "source": [
    "* 입력의 종료조건으로 맨 마지막에 온점 하나(\".\")가 들어온다."
   ]
  },
  {
   "attachments": {},
   "cell_type": "markdown",
   "metadata": {},
   "source": [
    "## 출력"
   ]
  },
  {
   "cell_type": "markdown",
   "metadata": {},
   "source": [
    "* 각 줄마다 해당 문자열이 균형을 이루고 있으면 \"yes\"를, 아니면 \"no\"를 출력한다."
   ]
  },
  {
   "attachments": {},
   "cell_type": "markdown",
   "metadata": {},
   "source": [
    "## Code"
   ]
  },
  {
   "cell_type": "code",
   "execution_count": 1,
   "metadata": {},
   "outputs": [],
   "source": [
    "# 4949번_균형잡힌 세상\n",
    "import sys\n",
    "from collections import deque\n",
    "submit = False\n",
    "\n",
    "def check_braket(sentence):\n",
    "    stack = deque()\n",
    "\n",
    "    for s in sentence:\n",
    "        if s == '(':\n",
    "            stack.append(s)\n",
    "        \n",
    "        elif s == ')':\n",
    "            if stack:\n",
    "                if stack[-1] == '(':\n",
    "                    stack.pop()\n",
    "                else:\n",
    "                    stack.append(s)\n",
    "            else:\n",
    "                stack.append(s)\n",
    "        \n",
    "        elif s == '[':\n",
    "            stack.append(s)\n",
    "        \n",
    "        elif s == ']':\n",
    "            if stack:\n",
    "                if stack[-1] == '[':\n",
    "                    stack.pop()\n",
    "                else:\n",
    "                    stack.append(s)\n",
    "            else:\n",
    "                stack.append(s)\n",
    "\n",
    "    return 'yes' if not stack else 'no'\n",
    "\n",
    "def solution():\n",
    "    while True:\n",
    "        sentence = sys.stdin.readline().rstrip() if submit else input()\n",
    "        if sentence == '.':\n",
    "            break\n",
    "        print(check_braket(sentence))"
   ]
  },
  {
   "cell_type": "code",
   "execution_count": 2,
   "metadata": {},
   "outputs": [
    {
     "name": "stdout",
     "output_type": "stream",
     "text": [
      "yes\n",
      "yes\n",
      "no\n",
      "no\n",
      "no\n",
      "yes\n",
      "yes\n"
     ]
    }
   ],
   "source": [
    "solution()"
   ]
  },
  {
   "attachments": {},
   "cell_type": "markdown",
   "metadata": {},
   "source": [
    "## Note"
   ]
  },
  {
   "cell_type": "markdown",
   "metadata": {},
   "source": [
    "* 1. 여는 괄호( '(', '[' )인 경우 빈 리스트(stack)에 추가하고 닫는 괄호( ')', ']' )인 경우에는 stack의 마지막 요소와 비교한다.\n",
    "    * 1\\) pop은 List보다는 deque이 더 빠르다고 알려져 있으므로 deque을 사용하여 빈 배열을 만든다.\n",
    "    * 2\\) 여는 괄호( '(', '[' )를 만나면 무조건 stack에 추가한다.\n",
    "    * 3\\) 여는 괄호( '(', '[' )를 만나면 stack의 마지막 요소와 대조하여 괄호의 짝이 맞으면 stack의 마지막 요소를 제거한다.\n",
    "        * (ex. ')'를 만났는데 stack의 마지막 요소가 '(') 인 경우\n",
    "        * 다만 괄호가 짝이 맞지 않아 ')'이 처음부터 나타나는 경우도 있으므로 stack에 아무것도 없는데 닫는 괄호를 만나면 stack에 추가한다\n",
    "    * 4\\) 모든 과정이 끝났을 때, stack이 빈 배열이면 짝이 맞으므로 'yes'를 요소가 존재하면 'no'를 출력한다."
   ]
  },
  {
   "attachments": {},
   "cell_type": "markdown",
   "metadata": {},
   "source": [
    "https://www.acmicpc.net/problem/4949"
   ]
  }
 ],
 "metadata": {
  "kernelspec": {
   "display_name": "ws1",
   "language": "python",
   "name": "python3"
  },
  "language_info": {
   "codemirror_mode": {
    "name": "ipython",
    "version": 3
   },
   "file_extension": ".py",
   "mimetype": "text/x-python",
   "name": "python",
   "nbconvert_exporter": "python",
   "pygments_lexer": "ipython3",
   "version": "3.11.5"
  },
  "orig_nbformat": 4,
  "vscode": {
   "interpreter": {
    "hash": "2856db72fb1e77597a3b14e9c1bb4d2315d342edc16fc9e25c6c6e499688b933"
   }
  }
 },
 "nbformat": 4,
 "nbformat_minor": 2
}
