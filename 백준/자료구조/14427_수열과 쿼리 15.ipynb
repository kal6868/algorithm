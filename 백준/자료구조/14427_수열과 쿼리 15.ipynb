{
 "cells": [
  {
   "attachments": {},
   "cell_type": "markdown",
   "metadata": {},
   "source": [
    "# 수열과 쿼리 15"
   ]
  },
  {
   "attachments": {},
   "cell_type": "markdown",
   "metadata": {},
   "source": [
    "## 문제"
   ]
  },
  {
   "cell_type": "markdown",
   "metadata": {},
   "source": [
    "* 길이가 N인 수열 A1, A2, ..., AN이 주어진다. 이때, 다음 쿼리를 수행하는 프로그램을 작성하시오.\n",
    "    * 1 i v : Ai를 v로 바꾼다. (1 ≤ i ≤ N, 1 ≤ v ≤ 109)\n",
    "    * 2 : 수열에서 크기가 가장 작은 값의 인덱스를 출력한다. 그러한 값이 여러개인 경우에는 인덱스가 작은 것을 출력한다"
   ]
  },
  {
   "cell_type": "markdown",
   "metadata": {},
   "source": [
    "* 수열의 인덱스는 1부터 시작한다."
   ]
  },
  {
   "attachments": {},
   "cell_type": "markdown",
   "metadata": {},
   "source": [
    "## 입력"
   ]
  },
  {
   "cell_type": "markdown",
   "metadata": {},
   "source": [
    "* 첫째 줄에 수열의 크기 N이 주어진다. (1 ≤ N ≤ 100,000)"
   ]
  },
  {
   "cell_type": "markdown",
   "metadata": {},
   "source": [
    "* 둘째 줄에는 A1, A2, ..., AN이 주어진다. (1 ≤ Ai ≤ 109)"
   ]
  },
  {
   "cell_type": "markdown",
   "metadata": {},
   "source": [
    "* 셋째 줄에는 쿼리의 개수 M이 주어진다. (1 ≤ M ≤ 100,000)"
   ]
  },
  {
   "cell_type": "markdown",
   "metadata": {},
   "source": [
    "* 넷째 줄부터 M개의 줄에는 쿼리가 주어진다."
   ]
  },
  {
   "attachments": {},
   "cell_type": "markdown",
   "metadata": {},
   "source": [
    "## 출력"
   ]
  },
  {
   "cell_type": "markdown",
   "metadata": {},
   "source": [
    "* 2번 쿼리에 대해서 정답을 한 줄에 하나씩 순서대로 출력한다."
   ]
  },
  {
   "attachments": {},
   "cell_type": "markdown",
   "metadata": {},
   "source": [
    "## Code"
   ]
  },
  {
   "cell_type": "code",
   "execution_count": 1,
   "metadata": {},
   "outputs": [],
   "source": [
    "#14427_수열과 쿼리 15\n",
    "\n",
    "import sys\n",
    "import heapq\n",
    "\n",
    "submit = False\n",
    "input = sys.stdin.readline if submit else input\n",
    "\n",
    "def solution():\n",
    "    N = int(input())\n",
    "    arr = list(map(int, input().split()))\n",
    "    arr = [[v, i] for i, v in enumerate(arr)]\n",
    "    heapq.heapify(arr)\n",
    "\n",
    "    stack, answer = [], []\n",
    "    M = int(input())\n",
    "    for _ in range(M):\n",
    "        query = list(map(int, input().split()))\n",
    "        cmd = query[0]\n",
    "        if cmd == 1:\n",
    "            i, v = query[1:]\n",
    "            while True:\n",
    "                temp = heapq.heappop(arr)\n",
    "                if temp[1] == (i-1):\n",
    "                    temp[0] = v\n",
    "                    heapq.heappush(arr, temp)\n",
    "                    while stack:\n",
    "                        heapq.heappush(arr, stack.pop())\n",
    "                    break\n",
    "                else:\n",
    "                    stack.append(temp)\n",
    "\n",
    "        elif cmd == 2:\n",
    "            answer.append(arr[0])\n",
    "            \n",
    "    print(*[i+1 for _, i in answer], sep='\\n')"
   ]
  },
  {
   "cell_type": "code",
   "execution_count": null,
   "metadata": {},
   "outputs": [],
   "source": [
    "#14427_수열과 쿼리 15\n",
    "\n",
    "import sys\n",
    "import math\n",
    "\n",
    "submit = False\n",
    "input = sys.stdin.readline if submit else input\n",
    "\n",
    "class SegmentTree:\n",
    "    def __init__(self, arr):\n",
    "        self.arr = arr\n",
    "        h = math.ceil(math.log2(len(arr))) + 1\n",
    "        nodeNum = 1 << h\n",
    "        # nodeNum = 1 ** h\n",
    "        self.seg = [0 for _ in range(nodeNum)]\n",
    "        self.makeSegTree(self.arr, self.seg, 1, 0, len(arr) - 1)\n",
    "\n",
    "    def makeSegTree(self, arr, seg, idx, st, ed):\n",
    "        if st == ed:\n",
    "            seg[idx] = arr[st]\n",
    "            return seg[idx]\n",
    "        \n",
    "        mid = (st + ed) // 2\n",
    "        left, right = self.makeSegTree(arr, seg, idx * 2, st, mid), self.makeSegTree(arr, seg, idx * 2 + 1, mid+1, ed)\n",
    "        seg[idx] = min(left, right)\n",
    "        return seg[idx]\n",
    "\n",
    "    def find(self, range1, range2, idx, st, ed):\n",
    "        if range2 < st or range1 > ed:\n",
    "            return [10**9+1, 10**9+1]\n",
    "        if range1 <= st and ed <= range2:\n",
    "            return self.seg[idx]\n",
    "        \n",
    "        mid = (st + ed) // 2\n",
    "        left, right = self.find(range1, range2, idx * 2, st, mid), self.find(range1, range2, idx * 2 + 1, mid + 1, ed)\n",
    "        return min(left, right)\n",
    "   \n",
    "    def update(self, update_idx, update_num, idx, st, ed):\n",
    "        if (st > update_idx) or (ed < update_idx):\n",
    "            return \n",
    "\n",
    "        if st == ed:\n",
    "            self.seg[idx][0] = update_num\n",
    "            return\n",
    "\n",
    "        mid = (st + ed) // 2\n",
    "        self.update(update_idx, update_num, idx * 2, st, mid)\n",
    "        self.update(update_idx, update_num, idx * 2 + 1, mid + 1, ed)\n",
    "        self.seg[idx] = min(self.seg[idx*2], self.seg[idx*2+1])\n",
    "\n",
    "def solution():\n",
    "    N = int(input())\n",
    "    arr = list(map(int, input().split()))\n",
    "    arr = [[v, i] for i, v in enumerate(arr)]\n",
    "    segtree = SegmentTree(arr)\n",
    "\n",
    "    answer = []\n",
    "    M = int(input())\n",
    "    for _ in range(M):\n",
    "        query = list(map(int, input().split()))\n",
    "        cmd = query[0]\n",
    "        if cmd == 1:\n",
    "            i, v = query[1:]\n",
    "            segtree.arr[i-1] = [v, i-1]\n",
    "            segtree.update(i, v, 1, 1, N)\n",
    "        elif cmd == 2:\n",
    "            answer.append(segtree.find(1, N, 1, 1, N))\n",
    "\n",
    "    print(*[i+1 for _, i in answer], sep='\\n')"
   ]
  },
  {
   "attachments": {},
   "cell_type": "markdown",
   "metadata": {},
   "source": [
    "## 예제입력 - 출력"
   ]
  },
  {
   "cell_type": "code",
   "execution_count": 2,
   "metadata": {},
   "outputs": [
    {
     "name": "stdout",
     "output_type": "stream",
     "text": [
      "5\n",
      "4\n",
      "3\n"
     ]
    }
   ],
   "source": [
    "solution()"
   ]
  },
  {
   "cell_type": "markdown",
   "metadata": {},
   "source": [
    "## Note"
   ]
  },
  {
   "cell_type": "markdown",
   "metadata": {},
   "source": [
    "### 풀이 1\n",
    "\n",
    "* 1. 우선순위 큐에 [값, index]의 List를 저장하여 항상 최소값이 0번 index에 위치하게 한다\n",
    "* 2. 값을 갱신할 i, v가 주어지면 우선순위 큐에서 index 값이 i인 값이 나타날 때까지 저장된 값을 추출 후 값을 갱신한다.\n",
    "    * 1\\) 추출한 List의 index가 (i-1)이 아닌 경우는 다시 저장해야 하므로 List(stack)에 임시로 저장한다.\n",
    "    * 2\\) 추출한 List의 index가 (i-1)와 동일하면 값을 변경 후 다시 우선순위 큐에 저장한다.\n",
    "    * 3\\) stack에 임시로 저장했던 모든 List를 다시 우선순위 큐에 저장한다.\n",
    "* 3. 최소값은 항상 우선순위 큐의 0번 index에 위치하므로 최소값을 찾아야 하면 0번 index의 값을 List(answer)에 저장한댜.\n",
    "* 4. answer에서 index의 값에 1을 더한 값을 출력한다."
   ]
  },
  {
   "cell_type": "markdown",
   "metadata": {},
   "source": [
    "### 풀이 2\n",
    "\n",
    "* 1. Segment Tree를 이용하여 구간 별 최소값을 미리 저장한 후 원하는 구간의 최소값을 불러온다.\n",
    "    * 1\\) makeSegTree를 통해 입력받은 숫자의 구간 별 최소 값을 미리 저장한다.\n",
    "    * 2\\) 전체 구간을 반으로 나눠 탐색하는 구간의 시작 index와 끝 index가 같을 때 까지 구간을 나눈다.\n",
    "    * 3\\) 구간의 시작 index와 끝 index가 같으면 해당 Node의 최소값은 자기 자신이므로 값을 List(seg)에 저장한다.\n",
    "    * 4\\) 최하단 Node의 상단 Node는 숫자 2개 구간의 최소, 최대값이 저장되게 되고 반복되면서 반으로 나눴던 모든 구간의 최소, 최대값이 저장된다.\n",
    "        * 저장할 때, 상위 index의 *2와 *2+1에 저장한다.\n",
    "        * 1 -> 2, 3 / 2 -> 4, 5 / 3 -> 6, 7 ...\n",
    "        * eg. [5, 4, 3, 2, 1]\n",
    "        * index: 1 -> 2, 3 / 2 -> 4, 5 / 3 -> 6, 7 ...\n",
    "            * index 1: 전체 구간의 최소값 (1, 4)\n",
    "            * # ------------------------------- # \n",
    "            * index 2: 1(5) ~ 3(3) 구간의 최소값 (3, 2)\n",
    "            * index 3: 4(2) ~ 5(1) 구간의 최소값 (1, 4)\n",
    "            * # ------------------------------- #\n",
    "            * index 4: 1(5) ~ 2(4) 구간의 최소값 (4, 1)\n",
    "            * index 5: 3(2) ~ 3(2) 구간의 최소값 (2, 3)\n",
    "            * index 6: 3(2) ~ 3(2) 구간의 최소값 (2, 3)\n",
    "            * index 7: 4(1) ~ 4(1) 구간의 최소값 (4, 1)\n",
    "            * # ------------------------------- #\n",
    "            * index 8: 1(5) ~ 1(5) 구간의 최소값 (5, 0)\n",
    "            * index 9: 2(4) ~ 2(4) 구간의 최소값 (4, 1)\n",
    "\n",
    "* 2. 숫자의 변동에 따라 Segment Tree를 업데이트 한다.\n",
    "    * 1\\) 재귀 함수를 사용하여 전체 index를 탐색하여 숫자를 바꿀 index를 찾는다\n",
    "        * 탐색한 구간의 시작 index와 끝 index가 숫자를 바꿀 index와 같아질때까지의 구간을 찾는다.\n",
    "    * 2\\) 재귀 함수를 통해 특정 index의 값을 업데이트 하고 나면 segment tree에서 상위 구간의 최소값을 갱신한다.\n",
    "    * eg. \n",
    "    * numbers: [5, 4, 3, 2, 1]\n",
    "    * seg: [0, [1, 4], [3, 2], [1, 4], [4, 1], [3, 2], [2, 3], [1, 4], [5, 0], [4, 1], 0, 0, 0, 0, 0, 0]\n",
    "    * # ------------------------------- #\n",
    "    * numbers: [5, 4, 3, 2, 3]\n",
    "    * seg: [0, [2, 3], [3, 2], [2, 3], [4, 1], [3, 2], [2, 3], [3, 4], [5, 0], [4, 1], 0, 0, 0, 0, 0, 0]\n",
    "\n",
    "* 3. Segment Tree를 탐색하면서 전체 구간의 최소값을 구한다.\n",
    "    * 1\\) 최소값을 찾을 구간을 전체 구간으로 주어 전체 구간의 최소값을 찾는다\n",
    "    * 2\\) index + 1값을 출력한다.\n"
   ]
  },
  {
   "attachments": {},
   "cell_type": "markdown",
   "metadata": {},
   "source": [
    "https://www.acmicpc.net/problem/14427"
   ]
  }
 ],
 "metadata": {
  "kernelspec": {
   "display_name": "ws1",
   "language": "python",
   "name": "python3"
  },
  "language_info": {
   "codemirror_mode": {
    "name": "ipython",
    "version": 3
   },
   "file_extension": ".py",
   "mimetype": "text/x-python",
   "name": "python",
   "nbconvert_exporter": "python",
   "pygments_lexer": "ipython3",
   "version": "3.12.4"
  },
  "orig_nbformat": 4,
  "vscode": {
   "interpreter": {
    "hash": "2856db72fb1e77597a3b14e9c1bb4d2315d342edc16fc9e25c6c6e499688b933"
   }
  }
 },
 "nbformat": 4,
 "nbformat_minor": 2
}
