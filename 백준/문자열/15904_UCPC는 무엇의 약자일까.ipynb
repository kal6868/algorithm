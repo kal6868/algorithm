{
 "cells": [
  {
   "attachments": {},
   "cell_type": "markdown",
   "metadata": {},
   "source": [
    "# UCPC는 무엇의 약자일까?"
   ]
  },
  {
   "attachments": {},
   "cell_type": "markdown",
   "metadata": {},
   "source": [
    "## 문제"
   ]
  },
  {
   "attachments": {},
   "cell_type": "markdown",
   "metadata": {},
   "source": [
    "* UCPC는 '전국 대학생 프로그래밍 대회 동아리 연합 여름 대회'의 줄임말로 알려져있다. 하지만 이 줄임말이 정확히 어떻게 구성되었는지는 아무도 모른다. UCPC 2018을 준비하던 ntopia는 여러 사람들에게 UCPC가 정확히 무엇의 줄임말인지 물어보았지만, 아무도 정확한 답을 제시해주지 못했다. ntopia가 들은 몇 가지 답을 아래에 적어보았다.\n",
    "    * Union of Computer Programming Contest club contest\n",
    "    * Union of Computer Programming contest Club contest\n",
    "    * Union of Computer Programming contest club Contest\n",
    "    * Union of Collegiate Programming Contest club contest\n",
    "    * Union of Collegiate Programming contest Club contest\n",
    "    * Union of Collegiate Programming contest club Contest\n",
    "    * University Computer Programming Contest\n",
    "    * University Computer Programming Club contest\n",
    "    * University Computer Programming club Contest\n",
    "    * University Collegiate Programming Contest\n",
    "    * University CPC\n",
    "    * ..."
   ]
  },
  {
   "cell_type": "markdown",
   "metadata": {},
   "source": [
    "* ntopia는 이렇게 다양한 답을 듣고는 UCPC가 무엇의 약자인지는 아무도 모른다고 결론내렸다. 적당히 슥삭해서 UCPC를 남길 수 있으면 모두 UCPC의 약자인 것이다!"
   ]
  },
  {
   "attachments": {},
   "cell_type": "markdown",
   "metadata": {},
   "source": [
    "* 문자열이 주어지면 이 문자열을 적절히 축약해서 \"UCPC\"로 만들 수 있는지 확인하는 프로그램을 만들어보자."
   ]
  },
  {
   "attachments": {},
   "cell_type": "markdown",
   "metadata": {},
   "source": [
    "* 축약이라는 것은 문자열에서 임의의 문자들을 제거하는 행동을 뜻한다. 예를 들면, \"apple\"에서 a와 e를 지워 \"ppl\"로 만들 수 있고, \"University Computer Programming Contest\"에서 공백과 소문자를 모두 지워 \"UCPC\"로 만들 수 있다."
   ]
  },
  {
   "attachments": {},
   "cell_type": "markdown",
   "metadata": {},
   "source": [
    "* 문자열을 비교할 때는 대소문자를 구분해 정확히 비교한다. 예를 들어 \"UCPC\"와 \"UCpC\"는 다른 문자열이다. 따라서 \"University Computer programming Contest\"를 \"UCPC\"로 축약할 수 있는 방법은 없다."
   ]
  },
  {
   "attachments": {},
   "cell_type": "markdown",
   "metadata": {},
   "source": [
    "* 그나저나 UCPC는 정말 무엇의 약자였을까? 정확히 아시는 분은 제보 부탁드립니다."
   ]
  },
  {
   "attachments": {},
   "cell_type": "markdown",
   "metadata": {},
   "source": [
    "## 입력"
   ]
  },
  {
   "attachments": {},
   "cell_type": "markdown",
   "metadata": {},
   "source": [
    "* 첫 번째 줄에 알파벳 대소문자, 공백으로 구성된 문자열이 주어진다. 문자열의 길이는 최대 1,000자이다. 문자열의 맨 앞과 맨 끝에 공백이 있는 경우는 없고, 공백이 연속해서 2번 이상 주어지는 경우도 없다."
   ]
  },
  {
   "attachments": {},
   "cell_type": "markdown",
   "metadata": {},
   "source": [
    "## 출력"
   ]
  },
  {
   "attachments": {},
   "cell_type": "markdown",
   "metadata": {},
   "source": [
    "* 첫 번째 줄에 입력으로 주어진 문자열을 적절히 축약해 \"UCPC\"로 만들 수 있으면 \"I love UCPC\"를 출력하고, 만들 수 없으면 \"I hate UCPC\"를 출력한다."
   ]
  },
  {
   "attachments": {},
   "cell_type": "markdown",
   "metadata": {},
   "source": [
    "## Code"
   ]
  },
  {
   "cell_type": "code",
   "execution_count": 1,
   "metadata": {},
   "outputs": [],
   "source": [
    "from collections import deque\n",
    "def solution():\n",
    "    word = input()\n",
    "    d_word = deque(word)\n",
    "\n",
    "    ucpc = deque(['U', 'C', 'P', 'C'])\n",
    "    for s in d_word:\n",
    "        if ucpc and (s == ucpc[0]):\n",
    "            ucpc.popleft()\n",
    "        elif not ucpc:\n",
    "            break\n",
    "    if not ucpc:\n",
    "        print('I love UCPC')\n",
    "    else:\n",
    "        print('I hate UCPC')"
   ]
  },
  {
   "attachments": {},
   "cell_type": "markdown",
   "metadata": {},
   "source": [
    "## 예제입력 - 출력"
   ]
  },
  {
   "cell_type": "code",
   "execution_count": 2,
   "metadata": {},
   "outputs": [
    {
     "name": "stdout",
     "output_type": "stream",
     "text": [
      "I love UCPC\n"
     ]
    }
   ],
   "source": [
    "solution()"
   ]
  },
  {
   "cell_type": "code",
   "execution_count": 3,
   "metadata": {},
   "outputs": [
    {
     "name": "stdout",
     "output_type": "stream",
     "text": [
      "I hate UCPC\n"
     ]
    }
   ],
   "source": [
    "solution()"
   ]
  },
  {
   "attachments": {},
   "cell_type": "markdown",
   "metadata": {},
   "source": [
    "## Note"
   ]
  },
  {
   "attachments": {},
   "cell_type": "markdown",
   "metadata": {},
   "source": [
    "* \"U\", \"C\", \"P\", \"C\" 알파벳 4개가 들어있는 deque(ucpc)를 선언한후, 주어진 문자열을 for문으로 탐색하면서 해당 글자가 나오면 popleft를 통해 ucpc에서 제거한다. 문자열을 다 탐색했을 때, ucpc에 요소가 남아있으면 \"I love UCPC\", 아니면 \"I hate UCPC\"를 출력한다."
   ]
  },
  {
   "attachments": {},
   "cell_type": "markdown",
   "metadata": {},
   "source": [
    "https://www.acmicpc.net/problem/15904"
   ]
  }
 ],
 "metadata": {
  "kernelspec": {
   "display_name": "ws1",
   "language": "python",
   "name": "python3"
  },
  "language_info": {
   "codemirror_mode": {
    "name": "ipython",
    "version": 3
   },
   "file_extension": ".py",
   "mimetype": "text/x-python",
   "name": "python",
   "nbconvert_exporter": "python",
   "pygments_lexer": "ipython3",
   "version": "3.9.13"
  },
  "orig_nbformat": 4,
  "vscode": {
   "interpreter": {
    "hash": "2856db72fb1e77597a3b14e9c1bb4d2315d342edc16fc9e25c6c6e499688b933"
   }
  }
 },
 "nbformat": 4,
 "nbformat_minor": 2
}
