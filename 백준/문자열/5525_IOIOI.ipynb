{
 "cells": [
  {
   "attachments": {},
   "cell_type": "markdown",
   "metadata": {},
   "source": [
    "# IOIOI"
   ]
  },
  {
   "attachments": {},
   "cell_type": "markdown",
   "metadata": {},
   "source": [
    "## 문제"
   ]
  },
  {
   "cell_type": "markdown",
   "metadata": {},
   "source": [
    "* N+1개의 I와 N개의 O로 이루어져 있으면, I와 O이 교대로 나오는 문자열을 PN이라고 한다.\n",
    "    * P1 IOI\n",
    "    * P2 IOIOI\n",
    "    * P3 IOIOIOI\n",
    "    * IOIOI...OI (O가 N개)"
   ]
  },
  {
   "cell_type": "markdown",
   "metadata": {},
   "source": [
    "* I와 O로만 이루어진 문자열 S와 정수 N이 주어졌을 때, S안에 PN이 몇 군데 포함되어 있는지 구하는 프로그램을 작성하시오."
   ]
  },
  {
   "attachments": {},
   "cell_type": "markdown",
   "metadata": {},
   "source": [
    "## 입력"
   ]
  },
  {
   "cell_type": "markdown",
   "metadata": {},
   "source": [
    "* 첫째 줄에 N이 주어진다. 둘째 줄에는 S의 길이 M이 주어지며, 셋째 줄에 S가 주어진다."
   ]
  },
  {
   "attachments": {},
   "cell_type": "markdown",
   "metadata": {},
   "source": [
    "## 출력"
   ]
  },
  {
   "cell_type": "markdown",
   "metadata": {},
   "source": [
    "* S에 PN이 몇 군데 포함되어 있는지 출력한다."
   ]
  },
  {
   "cell_type": "markdown",
   "metadata": {},
   "source": [
    "# 제한"
   ]
  },
  {
   "cell_type": "markdown",
   "metadata": {},
   "source": [
    "* 1 ≤ N ≤ 1,000,000\n",
    "* 2N+1 ≤ M ≤ 1,000,000\n",
    "* S는 I와 O로만 이루어져 있다."
   ]
  },
  {
   "attachments": {},
   "cell_type": "markdown",
   "metadata": {},
   "source": [
    "## Code"
   ]
  },
  {
   "cell_type": "code",
   "execution_count": 1,
   "metadata": {},
   "outputs": [],
   "source": [
    "# 5525_IOIOI # 50점 풀이\n",
    "\n",
    "import sys \n",
    "\n",
    "submit = False\n",
    "input = sys.stdin.readline if submit else input\n",
    "\n",
    "\n",
    "def solution():\n",
    "    N = int(input())\n",
    "    M = int(input())\n",
    "    S = input().rstrip()\n",
    "\n",
    "    Pn = 'I'+'OI'*N\n",
    "    count = 0\n",
    "    for i in range(0, len(S) - len(Pn) + 1):\n",
    "        if S[i:i + len(Pn)] == Pn:\n",
    "            count += 1\n",
    "    print(count)"
   ]
  },
  {
   "cell_type": "code",
   "execution_count": null,
   "metadata": {},
   "outputs": [],
   "source": [
    "# 5525_IOIOI \n",
    "\n",
    "import sys \n",
    "\n",
    "submit = False\n",
    "input = sys.stdin.readline if submit else input\n",
    "\n",
    "\n",
    "def solution():\n",
    "    N = int(input())\n",
    "    M = int(input())\n",
    "    S = input().rstrip()\n",
    "\n",
    "    Pn = 'I'+'OI'*N\n",
    "    count, temp_count, idx = 0, 0, 0\n",
    "    while idx < (M - 1):\n",
    "        if S[idx:idx+3] == 'IOI':\n",
    "            temp_count += 1\n",
    "            idx += 2\n",
    "            if temp_count == N:\n",
    "                count += 1\n",
    "                temp_count -= 1\n",
    "        else:\n",
    "            idx += 1\n",
    "            temp_count = 0\n",
    "\n",
    "    print(count)"
   ]
  },
  {
   "attachments": {},
   "cell_type": "markdown",
   "metadata": {},
   "source": [
    "## 예제입력 - 출력"
   ]
  },
  {
   "cell_type": "code",
   "execution_count": 2,
   "metadata": {},
   "outputs": [
    {
     "name": "stdout",
     "output_type": "stream",
     "text": [
      "4\n"
     ]
    }
   ],
   "source": [
    "solution()"
   ]
  },
  {
   "cell_type": "code",
   "execution_count": 3,
   "metadata": {},
   "outputs": [
    {
     "name": "stdout",
     "output_type": "stream",
     "text": [
      "2\n"
     ]
    }
   ],
   "source": [
    "solution()"
   ]
  },
  {
   "cell_type": "markdown",
   "metadata": {},
   "source": [
    "## Note"
   ]
  },
  {
   "cell_type": "markdown",
   "metadata": {},
   "source": [
    "### 풀이 1\n",
    "\n",
    "* 1. N에 따라 I 뒤에 OI가 반복되는 구조로 'I'+'OI'*N으로 Pn을 정의한다\n",
    "* 2. slicing을 사용해서 S에서 Pn이 나타나면 세어준다(count += 1)"
   ]
  },
  {
   "cell_type": "markdown",
   "metadata": {},
   "source": [
    "### 풀이 2\n",
    "\n",
    "* 1\\) index(idx)를 +1씩 움직이면서 'IOI'를 찾는다\n",
    "* 2\\) 'IOI'를 찾은경우 idx에 +2를 하여 다음 slicing 구간이 'IOI'인지 확인한다\n",
    "* 3\\) 'IOI'가 반복되는지 확인 할때마다 반복되는 횟수(temp_count)를 저장하고 N과 동일한지 확인한다\n",
    "    * 반복되는 횟수가 N과 같으면 Pn이 나타난 것\n",
    "* 4\\) Pn을 찾으면 정답으로 세어주고(count + 1) 반복되는 횟수(temp_count)에서 1을 빼준다\n",
    "* 5\\) Pn의 개수인 answer를 출력한다\n",
    "* eg\\) Pn: 'IOIOI', N: 2, S: 'OOIOIOIOIIOII'\n",
    "    * OO IOI OIOIIOII, idx=2, temp_count=1\n",
    "    * OOIO IOI OIIOII, idx=4, temp_count=2\n",
    "        * N과 같으므로 answer +=1, temp_count -= 1\n",
    "    * OOIOIO IOI IOII, idx=6, temp_count=2\n",
    "        # N과 같으므로 answer +=1, temp_count -= 1 \n",
    "    * OOIOIOIO IIO II, idx=8, temp_count=1\n",
    "        # IOI가 반복되지 않으므로 idx: 9, temp_count = 0으로 할당된다."
   ]
  },
  {
   "attachments": {},
   "cell_type": "markdown",
   "metadata": {},
   "source": [
    "https://www.acmicpc.net/problem/5525"
   ]
  }
 ],
 "metadata": {
  "kernelspec": {
   "display_name": "ws1",
   "language": "python",
   "name": "python3"
  },
  "language_info": {
   "codemirror_mode": {
    "name": "ipython",
    "version": 3
   },
   "file_extension": ".py",
   "mimetype": "text/x-python",
   "name": "python",
   "nbconvert_exporter": "python",
   "pygments_lexer": "ipython3",
   "version": "3.12.4"
  },
  "orig_nbformat": 4,
  "vscode": {
   "interpreter": {
    "hash": "2856db72fb1e77597a3b14e9c1bb4d2315d342edc16fc9e25c6c6e499688b933"
   }
  }
 },
 "nbformat": 4,
 "nbformat_minor": 2
}
