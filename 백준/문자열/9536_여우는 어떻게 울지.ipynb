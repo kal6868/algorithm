{
 "cells": [
  {
   "attachments": {},
   "cell_type": "markdown",
   "metadata": {},
   "source": [
    "# 여우는 어떻게 울지?"
   ]
  },
  {
   "attachments": {},
   "cell_type": "markdown",
   "metadata": {},
   "source": [
    "## 문제"
   ]
  },
  {
   "attachments": {},
   "cell_type": "markdown",
   "metadata": {},
   "source": [
    "* 고대 미스테리로 전해지는 여우의 울음소리를 밝혀내기 위해 한신이는 고성능 녹음기로 무장하고 숲으로 들어갔다. 하지만 숲에는 동물들이 가득해, 녹음된 음성에는 다른 동물들의 울음소리가 섞여 있다. 그러나 한신이는 철저한 준비를 해 왔기 때문에 다른 동물들이 어떤 울음소리를 내는지 정확히 알고 있다. 그러므로 그 소리를 모두 걸러내면 남은 잡음은 분명히 여우의 울음소리일 것이다."
   ]
  },
  {
   "attachments": {},
   "cell_type": "markdown",
   "metadata": {},
   "source": [
    "## 입력"
   ]
  },
  {
   "attachments": {},
   "cell_type": "markdown",
   "metadata": {},
   "source": [
    "* 첫 번째 줄에는 테스트케이스의 개수 T가 입력된다. 각 테스트케이스는 아래와 같이 구성되어 있다."
   ]
  },
  {
   "attachments": {},
   "cell_type": "markdown",
   "metadata": {},
   "source": [
    "* 테스트케이스의 첫 줄에는 몇 개의 단어로 이루어진 녹음된 소리가 입력된다. 단어는 알파벳 소문자로만 이루어져 있으며 공백으로 구분된다. 단어의 길이는 최대 100글자이고, 단어의 개수는 최대 100개이다. 다음 줄부터는 여우를 제외한 동물들의 울음소리가 <동물> goes <소리>의 형태로 입력된다. 최소 1마리, 최대 100마리이며, 이름은 최대 100글자이고 실제로 존재하는 동물의 이름이다. 여우를 제외한 동물의 울음소리는 한 단어이고 최대 100글자이다."
   ]
  },
  {
   "attachments": {},
   "cell_type": "markdown",
   "metadata": {},
   "source": [
    "* 마지막 줄에는 한신이가 알고 싶어하는 질문이 주어진다. what does the fox say?"
   ]
  },
  {
   "attachments": {},
   "cell_type": "markdown",
   "metadata": {},
   "source": [
    "## 출력"
   ]
  },
  {
   "attachments": {},
   "cell_type": "markdown",
   "metadata": {},
   "source": [
    "* 각 테스트케이스마다 여우의 울음소리를 한 줄씩, 녹음된 순서대로 출력한다. 여우의 울음소리가 녹음되어 있음이 보장된다. (알려진 것과는 달리, 여우는 모스 부호로 의사소통하지 않는다.)"
   ]
  },
  {
   "attachments": {},
   "cell_type": "markdown",
   "metadata": {},
   "source": [
    "## Code"
   ]
  },
  {
   "cell_type": "code",
   "execution_count": 1,
   "metadata": {},
   "outputs": [],
   "source": [
    "def find_fox_sound(all_sound, other_sounds):\n",
    "    sound_classify = [a_sound[2] for a_sound in other_sounds]\n",
    "    voice_of_fox = [s for s in all_sound if s not in sound_classify]\n",
    "    fox_sound = \"\"\n",
    "    for f in voice_of_fox:\n",
    "        fox_sound += f\n",
    "        fox_sound += \" \"\n",
    "    print(fox_sound.rstrip())\n",
    "\n",
    "def solution(): \n",
    "    T = int(input())\n",
    "    for _ in range(T):\n",
    "        recorded_sound = input().split()\n",
    "\n",
    "        other_animal_sounds = []\n",
    "        while True:\n",
    "            s = input()\n",
    "            if s == \"what does the fox say?\":\n",
    "                break\n",
    "            else:\n",
    "                other_animal_sounds.append(s.split())\n",
    "        find_fox_sound(recorded_sound, other_animal_sounds)\n"
   ]
  },
  {
   "attachments": {},
   "cell_type": "markdown",
   "metadata": {},
   "source": [
    "## 예제입력 - 출력"
   ]
  },
  {
   "cell_type": "code",
   "execution_count": 2,
   "metadata": {},
   "outputs": [
    {
     "name": "stdout",
     "output_type": "stream",
     "text": [
      "wa pa pa pa pa pa pow\n"
     ]
    }
   ],
   "source": [
    "solution()"
   ]
  },
  {
   "attachments": {},
   "cell_type": "markdown",
   "metadata": {},
   "source": [
    "## Note"
   ]
  },
  {
   "attachments": {},
   "cell_type": "markdown",
   "metadata": {},
   "source": [
    "* 첫 줄에 입력한 숫자만큼 여우의 소리를 출력해야 한다.\n",
    "* 맨 처음 입력받은 문장은 모든 동물의 소리를 녹음한 것이므로 공백을 기준으로 분리하여 List 형태(recorded_sound)로 변환한다. \n",
    "* while문을 이용해서 입력된 문자가 \"what does the fox say?\"일 때까지 반복한다. 입력받은 문장을 분리해서 List 형태로 other_animal_sounds List에 담아준다. \n",
    "* other_animal_sounds에서 indexing을 사용해서 동물 울음소리만 분리하고, recorded_sound에서 등장하지 않는 동물소리만 남겨놓는다.\n",
    "* 남겨진 요소들을 모두 이어붙힌다. "
   ]
  },
  {
   "attachments": {},
   "cell_type": "markdown",
   "metadata": {},
   "source": [
    "https://www.acmicpc.net/problem/9536"
   ]
  }
 ],
 "metadata": {
  "kernelspec": {
   "display_name": "ws1",
   "language": "python",
   "name": "python3"
  },
  "language_info": {
   "codemirror_mode": {
    "name": "ipython",
    "version": 3
   },
   "file_extension": ".py",
   "mimetype": "text/x-python",
   "name": "python",
   "nbconvert_exporter": "python",
   "pygments_lexer": "ipython3",
   "version": "3.9.13"
  },
  "orig_nbformat": 4,
  "vscode": {
   "interpreter": {
    "hash": "2856db72fb1e77597a3b14e9c1bb4d2315d342edc16fc9e25c6c6e499688b933"
   }
  }
 },
 "nbformat": 4,
 "nbformat_minor": 2
}
