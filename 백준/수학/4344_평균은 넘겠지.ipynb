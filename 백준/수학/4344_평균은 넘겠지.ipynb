{
 "cells": [
  {
   "attachments": {},
   "cell_type": "markdown",
   "metadata": {},
   "source": [
    "# 단어의 개수"
   ]
  },
  {
   "attachments": {},
   "cell_type": "markdown",
   "metadata": {},
   "source": [
    "## 문제"
   ]
  },
  {
   "cell_type": "markdown",
   "metadata": {},
   "source": [
    "* 대학생 새내기들의 90%는 자신이 반에서 평균은 넘는다고 생각한다. 당신은 그들에게 슬픈 진실을 알려줘야 한다."
   ]
  },
  {
   "attachments": {},
   "cell_type": "markdown",
   "metadata": {},
   "source": [
    "## 입력"
   ]
  },
  {
   "cell_type": "markdown",
   "metadata": {},
   "source": [
    "* 첫째 줄에는 테스트 케이스의 개수 C가 주어진다."
   ]
  },
  {
   "cell_type": "markdown",
   "metadata": {},
   "source": [
    "* 둘째 줄부터 각 테스트 케이스마다 학생의 수 N(1 ≤ N ≤ 1000, N은 정수)이 첫 수로 주어지고, 이어서 N명의 점수가 주어진다. 점수는 0보다 크거나 같고, 100보다 작거나 같은 정수이다."
   ]
  },
  {
   "attachments": {},
   "cell_type": "markdown",
   "metadata": {},
   "source": [
    "## 출력"
   ]
  },
  {
   "cell_type": "markdown",
   "metadata": {},
   "source": [
    "* 각 케이스마다 한 줄씩 평균을 넘는 학생들의 비율을 반올림하여 소수점 셋째 자리까지 출력한다. 정답과 출력값의 절대/상대 오차는 10-3이하이면 정답이다.\n"
   ]
  },
  {
   "attachments": {},
   "cell_type": "markdown",
   "metadata": {},
   "source": [
    "## Code"
   ]
  },
  {
   "cell_type": "code",
   "execution_count": 1,
   "metadata": {},
   "outputs": [],
   "source": [
    "# 4344_평균은 넘겠지\n",
    "\n",
    "import sys\n",
    "submit = False\n",
    "\n",
    "def solution():\n",
    "    N = int(sys.stdin.readline()) if submit else int(input()) \n",
    "    for _ in range(N):\n",
    "        info = list(map(int, sys.stdin.readline().split() if submit else input().split()))\n",
    "        n_people, scores = info[0], info[1:]\n",
    "        scores_mean = sum(scores)/n_people\n",
    "        over_mean = [True if i > scores_mean else False for i in scores]\n",
    "        print(f\"{(sum(over_mean)/n_people)*100:.3f}%\")"
   ]
  },
  {
   "cell_type": "code",
   "execution_count": 2,
   "metadata": {},
   "outputs": [
    {
     "name": "stdout",
     "output_type": "stream",
     "text": [
      "40.000%\n",
      "57.143%\n",
      "33.333%\n",
      "66.667%\n",
      "55.556%\n"
     ]
    }
   ],
   "source": [
    "solution()"
   ]
  },
  {
   "attachments": {},
   "cell_type": "markdown",
   "metadata": {},
   "source": [
    "## Note"
   ]
  },
  {
   "cell_type": "markdown",
   "metadata": {},
   "source": [
    "* 1. 평균 점수를 구하고, (평균 점수를 초과하는 인원수/전체 인원수)*100을 소수점 자리수에 맞추어서 출력한다.\n",
    "    * 1\\) 전체 인원, 점수 1 ... 점수 n을 List로 입력받고 indexing을 통해 전체 인원(int), 점수(List)로 분리한다.\n",
    "    * 2\\) 내장 함수 sum을 통해 (점수 총합/인원수)를 계산하여 평균 값을 구한다\n",
    "    * 3\\) if문을 사용하여 평균을 넘는 인원수(over_mean)을 구한다\n",
    "    * 4\\) (평균을 넘는 인원수/전체 인원수)*100을 통해 백분율을 구한다\n",
    "        * f\"\" formating을 사용하여 int를 문자열로 변경할 수 있다\n",
    "        * {변수명:.자리수f}을 사용하면 소수점 자리수를 표시하고 싶은 만큼 조절이 가능하다 \n",
    "        * {변수명:자리수d}을 사용하면 정수 부분의 앞쪽을 공백으로 채울 수 있다. 0으로 채우고 싶다면 .zfill(총 자리수)를 사용한다\n",
    "        * {변수명:자리수}에서 '<'(좌측 정렬), '^'(가운데 정렬), '>'(오른쪽 정렬)을 통해 문자열의 위치를 제어 할 수 있다."
   ]
  },
  {
   "attachments": {},
   "cell_type": "markdown",
   "metadata": {},
   "source": [
    "https://www.acmicpc.net/problem/4344"
   ]
  }
 ],
 "metadata": {
  "kernelspec": {
   "display_name": "ws1",
   "language": "python",
   "name": "python3"
  },
  "language_info": {
   "codemirror_mode": {
    "name": "ipython",
    "version": 3
   },
   "file_extension": ".py",
   "mimetype": "text/x-python",
   "name": "python",
   "nbconvert_exporter": "python",
   "pygments_lexer": "ipython3",
   "version": "3.11.5"
  },
  "orig_nbformat": 4,
  "vscode": {
   "interpreter": {
    "hash": "2856db72fb1e77597a3b14e9c1bb4d2315d342edc16fc9e25c6c6e499688b933"
   }
  }
 },
 "nbformat": 4,
 "nbformat_minor": 2
}
