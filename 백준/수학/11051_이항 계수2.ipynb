{
 "cells": [
  {
   "attachments": {},
   "cell_type": "markdown",
   "metadata": {},
   "source": [
    "# 이항 계수 2"
   ]
  },
  {
   "attachments": {},
   "cell_type": "markdown",
   "metadata": {},
   "source": [
    "## 문제"
   ]
  },
  {
   "cell_type": "markdown",
   "metadata": {},
   "source": [
    "* 자연수 N과 정수 K가 주어졌을 때 이항 계수 (N, K)를 10,007로 나눈 나머지를 구하는 프로그램을 작성하시오."
   ]
  },
  {
   "attachments": {},
   "cell_type": "markdown",
   "metadata": {},
   "source": [
    "## 입력"
   ]
  },
  {
   "cell_type": "markdown",
   "metadata": {},
   "source": [
    "* 첫째 줄에 \n",
    "\\(N\\)과 \n",
    "\\(K\\)가 주어진다. (1 ≤ \n",
    "\\(N\\) ≤ 1,000, 0 ≤ \n",
    "\\(K\\) ≤ \n",
    "\\(N\\))"
   ]
  },
  {
   "attachments": {},
   "cell_type": "markdown",
   "metadata": {},
   "source": [
    "## 출력"
   ]
  },
  {
   "cell_type": "markdown",
   "metadata": {},
   "source": [
    "* (N, K)를 10,007로 나눈 나머지를 출력한다.\n",
    "\n"
   ]
  },
  {
   "attachments": {},
   "cell_type": "markdown",
   "metadata": {},
   "source": [
    "## Code"
   ]
  },
  {
   "cell_type": "code",
   "execution_count": 1,
   "metadata": {},
   "outputs": [],
   "source": [
    "# 11051_이항 계수2 (수학) (풀이1)\n",
    "import sys\n",
    "submit = False\n",
    "\n",
    "def get_binomial_coefficient(N, K):\n",
    "    num1, num2 = 1, 1\n",
    "    for i in range(N, N-K, -1):\n",
    "        num1 *= i\n",
    "\n",
    "    for i in range(1, K+1):\n",
    "        num2 *= i\n",
    "\n",
    "    return (num1//num2)%10007\n",
    "\n",
    "def solution():\n",
    "    N, K = map(int, sys.stdin.readline().split() if submit else input().split())\n",
    "    print(get_binomial_coefficient(N, K))"
   ]
  },
  {
   "cell_type": "code",
   "execution_count": null,
   "metadata": {},
   "outputs": [],
   "source": [
    "# 11051_이항 계수2 (수학) (풀이2)\n",
    "import sys\n",
    "submit = False\n",
    "\n",
    "def get_binomial_coefficient(N, K):\n",
    "    dp_pascal_tree = [[1]*(i+1) for i in range(N+1)]\n",
    "    for i in range(2, N+1):\n",
    "        for j in range(1, i):\n",
    "            dp_pascal_tree[i][j] = dp_pascal_tree[i-1][j-1] + dp_pascal_tree[i-1][j]\n",
    "    \n",
    "    return dp_pascal_tree[N][K]%10007\n",
    "\n",
    "N, K = map(int, sys.stdin.readline().split() if submit else input().split())\n",
    "print(get_binomial_coefficient(N, K))"
   ]
  },
  {
   "cell_type": "code",
   "execution_count": null,
   "metadata": {},
   "outputs": [],
   "source": [
    "import sys\n",
    "submit = False\n",
    "\n",
    "def get_binomial_coefficient(N, K):\n",
    "    dp_pascal_tree = [[1]*(i+1) for i in range(N+1)]\n",
    "    for i in range(2, N+1):\n",
    "        for j in range(1, i):\n",
    "            dp_pascal_tree[i][j] = dp_pascal_tree[i-1][j-1] + dp_pascal_tree[i-1][j]\n",
    "    \n",
    "    return dp_pascal_tree[N][K]%10007\n",
    "\n",
    "N, K = map(int, sys.stdin.readline().split() if submit else input().split())\n",
    "print(get_binomial_coefficient(N, K))\n"
   ]
  },
  {
   "cell_type": "code",
   "execution_count": 2,
   "metadata": {},
   "outputs": [
    {
     "name": "stdout",
     "output_type": "stream",
     "text": [
      "10\n"
     ]
    }
   ],
   "source": [
    "solution()"
   ]
  },
  {
   "attachments": {},
   "cell_type": "markdown",
   "metadata": {},
   "source": [
    "## Note"
   ]
  },
  {
   "cell_type": "markdown",
   "metadata": {},
   "source": [
    "### 풀이 1\n",
    "\n",
    "* 1. 이항계수 공식인 nCr: (n)*(n-1)*(n-2)* ... *(n-r) / (r)*(r-1)* ... * (1) 공식을 통해 이항계수를 구한다\n",
    "    * 1\\) /을 사용하면 타입이 int -> float로 바뀌기 때문에 오버플로우가 발생하여 값이 변경되게 된다. //을 사용해서 int -> int로 타입을 유지한다."
   ]
  },
  {
   "cell_type": "markdown",
   "metadata": {},
   "source": [
    "### 풀이 2\n",
    "\n",
    "* 1. 이항계수는 파스칼 삼각형 모양을 따르므로 파스칼 삼격형을 만들어 동적계획법(DP)로 풀 수 있다.\n",
    "    * 1\\) 파스칼 삼각형\n",
    "        * \\-           1\n",
    "        * \\-        1   1\n",
    "        * \\-      1   2   1 // 2: 1번 index\n",
    "        * \\-    1   3   3   1 // 3: 1, 2번 index\n",
    "        * \\-  1   4   6   4   1 // 4: 1, 2, 3번 index\n",
    "        * \\- 1   5   10  10  4   1 // 5: 1, 2, 3, 4번 index\n",
    "        * 2\\) 파스칼 삼각형의 N, K번째 인덱스가 이항 계수가 된다.\n",
    "\n",
    "* 2. 파스칼 삼각형은 다음과 같은 방법으로 만든다.\n",
    "    * 1\\) [[1], [1, 1], [1, 1, 1], ..., [1, 1, .....]]]으로 채워진 2차원 List를 만든다\n",
    "    * 2\\) 2번째 index의 List부터 1번 index의 값, 2번째 index의 List부터 1, 2번 index의 값...을 순차적으로 최신화 한다\n",
    "    * 3\\) 양 끝의 1을 제외한 가운데 값을 이전 List에서 i-1, i값을 더한 값으로 최신화 하면 되므로 이중for문으로 1번 ~ (i-1)번 index 범위의 값들을 최신화한다.\n",
    "\n",
    "* 3. 파스칼 삼각형의 N, K번째 인덱스를 10007로 나눈 나머지를 출력한다."
   ]
  },
  {
   "attachments": {},
   "cell_type": "markdown",
   "metadata": {},
   "source": [
    "https://www.acmicpc.net/problem/11051"
   ]
  }
 ],
 "metadata": {
  "kernelspec": {
   "display_name": "ws1",
   "language": "python",
   "name": "python3"
  },
  "language_info": {
   "codemirror_mode": {
    "name": "ipython",
    "version": 3
   },
   "file_extension": ".py",
   "mimetype": "text/x-python",
   "name": "python",
   "nbconvert_exporter": "python",
   "pygments_lexer": "ipython3",
   "version": "3.11.5"
  },
  "orig_nbformat": 4,
  "vscode": {
   "interpreter": {
    "hash": "2856db72fb1e77597a3b14e9c1bb4d2315d342edc16fc9e25c6c6e499688b933"
   }
  }
 },
 "nbformat": 4,
 "nbformat_minor": 2
}
