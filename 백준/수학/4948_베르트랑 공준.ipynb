{
 "cells": [
  {
   "attachments": {},
   "cell_type": "markdown",
   "metadata": {},
   "source": [
    "# 베르트랑 공준"
   ]
  },
  {
   "attachments": {},
   "cell_type": "markdown",
   "metadata": {},
   "source": [
    "## 문제"
   ]
  },
  {
   "cell_type": "markdown",
   "metadata": {},
   "source": [
    "* 베르트랑 공준은 임의의 자연수 n에 대하여, n보다 크고, 2n보다 작거나 같은 소수는 적어도 하나 존재한다는 내용을 담고 있다."
   ]
  },
  {
   "cell_type": "markdown",
   "metadata": {},
   "source": [
    "* 이 명제는 조제프 베르트랑이 1845년에 추측했고, 파프누티 체비쇼프가 1850년에 증명했다."
   ]
  },
  {
   "cell_type": "markdown",
   "metadata": {},
   "source": [
    "* 예를 들어, 10보다 크고, 20보다 작거나 같은 소수는 4개가 있다. (11, 13, 17, 19) 또, 14보다 크고, 28보다 작거나 같은 소수는 3개가 있다. (17,19, 23)"
   ]
  },
  {
   "cell_type": "markdown",
   "metadata": {},
   "source": [
    "* 자연수 n이 주어졌을 때, n보다 크고, 2n보다 작거나 같은 소수의 개수를 구하는 프로그램을 작성하시오. "
   ]
  },
  {
   "attachments": {},
   "cell_type": "markdown",
   "metadata": {},
   "source": [
    "## 입력"
   ]
  },
  {
   "cell_type": "markdown",
   "metadata": {},
   "source": [
    "* 입력은 여러 개의 테스트 케이스로 이루어져 있다. 각 케이스는 n을 포함하는 한 줄로 이루어져 있다."
   ]
  },
  {
   "cell_type": "markdown",
   "metadata": {},
   "source": [
    "* 입력의 마지막에는 0이 주어진다."
   ]
  },
  {
   "attachments": {},
   "cell_type": "markdown",
   "metadata": {},
   "source": [
    "## 출력"
   ]
  },
  {
   "cell_type": "markdown",
   "metadata": {},
   "source": [
    "* 각 테스트 케이스에 대해서, n보다 크고, 2n보다 작거나 같은 소수의 개수를 출력한다.\n"
   ]
  },
  {
   "attachments": {},
   "cell_type": "markdown",
   "metadata": {},
   "source": [
    "## Code"
   ]
  },
  {
   "cell_type": "code",
   "execution_count": 1,
   "metadata": {},
   "outputs": [],
   "source": [
    "# 4948_베르트랑 공준(수학) # 시간 초과 풀이\n",
    "import sys \n",
    "submit = False\n",
    "\n",
    "def find_decimal(n):\n",
    "    if n == 1:\n",
    "        return False\n",
    "    \n",
    "    rst = 0\n",
    "    for i in range(2, int((n**(1/2))+1)):\n",
    "        if n%i == 0:\n",
    "            rst += 1\n",
    "    if rst > 0:\n",
    "        return False\n",
    "    else:\n",
    "        return True\n",
    "    \n",
    "def solution():\n",
    "    while True:\n",
    "        N = int(sys.stdin.readline()) if submit else int(input())\n",
    "        if N == 0:\n",
    "            break\n",
    "        num_decimal = 0\n",
    "        for i in range(N+1, (N*2)+1):\n",
    "            if find_decimal(i):\n",
    "                num_decimal += 1\n",
    "        print(num_decimal)"
   ]
  },
  {
   "attachments": {},
   "cell_type": "markdown",
   "metadata": {},
   "source": [
    "## Note"
   ]
  },
  {
   "cell_type": "markdown",
   "metadata": {},
   "source": [
    "* 주어진 숫자 범위 내인 n < i <= 2n에서 소수인 i개수를 구한다.\n",
    "    * 1\\) i를 2부터 i의 제곱근보다 큰 정수까지로 나누었을 때 나눠지는 숫자가 없으면 소수이다.\n",
    "        * ex. 4 -> 2, 3으로 나누었을 때 2로 나누어 떨어지므로 소수가 아니다.\n",
    "        * ex. 5 -> 5의 제곱근은 2.236.... 이므로 -> 2, 3으로 나누어 떨어지는 숫자가 없으므로 소수이다.\n",
    "* 소수를 판별할때 2~(n^0.5)까지의 숫자를 모두 대입하여 소수인지 확인하므로 시간 초과가 나는 것으로 추정"
   ]
  },
  {
   "attachments": {},
   "cell_type": "markdown",
   "metadata": {},
   "source": [
    "https://www.acmicpc.net/problem/4948"
   ]
  }
 ],
 "metadata": {
  "kernelspec": {
   "display_name": "ws1",
   "language": "python",
   "name": "python3"
  },
  "language_info": {
   "codemirror_mode": {
    "name": "ipython",
    "version": 3
   },
   "file_extension": ".py",
   "mimetype": "text/x-python",
   "name": "python",
   "nbconvert_exporter": "python",
   "pygments_lexer": "ipython3",
   "version": "3.11.5"
  },
  "orig_nbformat": 4,
  "vscode": {
   "interpreter": {
    "hash": "2856db72fb1e77597a3b14e9c1bb4d2315d342edc16fc9e25c6c6e499688b933"
   }
  }
 },
 "nbformat": 4,
 "nbformat_minor": 2
}
