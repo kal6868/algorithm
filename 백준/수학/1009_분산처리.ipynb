{
 "cells": [
  {
   "attachments": {},
   "cell_type": "markdown",
   "metadata": {},
   "source": [
    "# 분산처리 "
   ]
  },
  {
   "attachments": {},
   "cell_type": "markdown",
   "metadata": {},
   "source": [
    "## 문제"
   ]
  },
  {
   "attachments": {},
   "cell_type": "markdown",
   "metadata": {},
   "source": [
    "* 재용이는 최신 컴퓨터 10대를 가지고 있다. 어느 날 재용이는 많은 데이터를 처리해야 될 일이 생겨서 각 컴퓨터에 1번부터 10번까지의 번호를 부여하고, 10대의 컴퓨터가 다음과 같은 방법으로 데이터들을 처리하기로 하였다.\n",
    "\n",
    "* 1번 데이터는 1번 컴퓨터, 2번 데이터는 2번 컴퓨터, 3번 데이터는 3번 컴퓨터, ... ,\n",
    "\n",
    "* 10번 데이터는 10번 컴퓨터, 11번 데이터는 1번 컴퓨터, 12번 데이터는 2번 컴퓨터, ...\n",
    "\n",
    "* 총 데이터의 개수는 항상 ab개의 형태로 주어진다. 재용이는 문득 마지막 데이터가 처리될 컴퓨터의 번호가 궁금해졌다. 이를 수행해주는 프로그램을 작성하라."
   ]
  },
  {
   "attachments": {},
   "cell_type": "markdown",
   "metadata": {},
   "source": [
    "## 입력"
   ]
  },
  {
   "attachments": {},
   "cell_type": "markdown",
   "metadata": {},
   "source": [
    "* 입력의 첫 줄에는 테스트 케이스의 개수 T가 주어진다. 그 다음 줄부터 각각의 테스트 케이스에 대해 정수 a와 b가 주어진다. (1 ≤ a < 100, 1 ≤ b < 1,000,000)"
   ]
  },
  {
   "attachments": {},
   "cell_type": "markdown",
   "metadata": {},
   "source": [
    "## 출력"
   ]
  },
  {
   "attachments": {},
   "cell_type": "markdown",
   "metadata": {},
   "source": [
    "* 각 테스트 케이스에 대해 마지막 데이터가 처리되는 컴퓨터의 번호를 출력한다."
   ]
  },
  {
   "attachments": {},
   "cell_type": "markdown",
   "metadata": {},
   "source": [
    "## Code"
   ]
  },
  {
   "cell_type": "code",
   "execution_count": 1,
   "metadata": {},
   "outputs": [],
   "source": [
    "# 1009_분산처리\n",
    "import sys\n",
    "def solution():\n",
    "    T = int(input())\n",
    "    # T = int(sys.stdin.readline())\n",
    "    for _ in range(T):\n",
    "        a, b = map(int, input().split())\n",
    "        # a, b = map(int, sys.stdin.readline().split())\n",
    "        aa  = a % 10\n",
    "\n",
    "        if aa == 0:\n",
    "            print(10)\n",
    "\n",
    "        elif aa in [1, 5, 6]:\n",
    "            print(aa)\n",
    "        \n",
    "        elif aa in [4, 9]:\n",
    "            bb = b%2\n",
    "            if bb == 0:\n",
    "                print(aa * aa % 10)\n",
    "            else:\n",
    "                print(aa)\n",
    "        \n",
    "        else:\n",
    "            bb = b%4\n",
    "            if bb == 0:\n",
    "                print(aa ** 4 % 10)\n",
    "            else:\n",
    "                print(aa ** bb % 10)"
   ]
  },
  {
   "cell_type": "code",
   "execution_count": 2,
   "metadata": {},
   "outputs": [
    {
     "name": "stdout",
     "output_type": "stream",
     "text": [
      "1\n",
      "7\n",
      "6\n",
      "1\n",
      "9\n"
     ]
    }
   ],
   "source": [
    "solution()"
   ]
  },
  {
   "attachments": {},
   "cell_type": "markdown",
   "metadata": {},
   "source": [
    "## 예제입력"
   ]
  },
  {
   "attachments": {},
   "cell_type": "markdown",
   "metadata": {},
   "source": [
    "## Note"
   ]
  },
  {
   "cell_type": "markdown",
   "metadata": {},
   "source": [
    "* 1. 1 ~ 10을 거듭 제곱 했을때, 1의 자리는 일정한 패턴으로 나타난다.\n",
    "    * 1, 5, 6을 제곱한 수를 10으로 나눈 나머지는 항상 1개의 숫자만 나타난다.\n",
    "    * 4, 9을 제곱한 수를 10으로 나눈 나머지는 항상 2개의 숫자가 나타난다.\n",
    "    * 2, 3, 7, 8을 제곱한 수를 10으로 나눈 나머지는 항상 4개의 숫자가 나타난다.\n",
    "    * 10을 제곱한 수를 10으로 나눈 나머지는 항상 0이다.\n",
    "* 2. 1의 자리가 나타나는 패턴이 1개인 숫자는 해당 숫자를 그대로 반환한다.\n",
    "* 3. 패턴이 2개이므로 b를 2로 나눈 나머지에 따라 다르게 숫자를 반환한다.\n",
    "    * 1의 자리가 나타나는 패턴이 2개인 숫자들은 나머지가 b를 2로 나눈 나머지가 0이면 항상 해당 숫자로 나타난다. \n",
    "    * 16, 256, 4096, 65536, ...     \n",
    "    * 나머지가 0이면 해당 숫자를 제곱한 후 10으로 나눈 1의 자리를 반환한다(패턴은 반복하기 때문).\n",
    "* 4. 패턴이 4개이므로 b를 4로 나눈 나머지에 따라 다르게 숫자를 반환한다.\n",
    "    * b를 4로 나눈 나머지가 0이면 4제곱을 10으로 나눈 나머지를 반환하면 된다.\n",
    "    * b를 4로 나눈 나머지가 0이 아니면, 패턴은 반복하므로 b를 4로 나눈 나머지 만큼 제곱한 수를 10으로 나눈 나머지를 반환한다."
   ]
  },
  {
   "cell_type": "code",
   "execution_count": null,
   "metadata": {},
   "outputs": [
    {
     "data": {
      "text/plain": [
       "'\\n1: [1],\\n2: [2, 4, 8, 6],\\n3: [3, 9, 7, 1],\\n4: [4, 6],\\n5: [5],\\n6: [6],\\n7: [7, 9, 3, 1],\\n8: [8, 4, 2, 6],\\n9: [9, 1],\\n10: [0]\\n'"
      ]
     },
     "execution_count": 1,
     "metadata": {},
     "output_type": "execute_result"
    }
   ],
   "source": [
    "\"\"\"\n",
    "1: [1],\n",
    "2: [2, 4, 8, 6],\n",
    "3: [3, 9, 7, 1],\n",
    "4: [4, 6],\n",
    "5: [5],\n",
    "6: [6],\n",
    "7: [7, 9, 3, 1],\n",
    "8: [8, 4, 2, 6],\n",
    "9: [9, 1],\n",
    "10: [0]\n",
    "\"\"\""
   ]
  },
  {
   "attachments": {},
   "cell_type": "markdown",
   "metadata": {},
   "source": [
    "https://www.acmicpc.net/problem/1009"
   ]
  }
 ],
 "metadata": {
  "kernelspec": {
   "display_name": "ws1",
   "language": "python",
   "name": "python3"
  },
  "language_info": {
   "codemirror_mode": {
    "name": "ipython",
    "version": 3
   },
   "file_extension": ".py",
   "mimetype": "text/x-python",
   "name": "python",
   "nbconvert_exporter": "python",
   "pygments_lexer": "ipython3",
   "version": "3.11.3"
  },
  "orig_nbformat": 4,
  "vscode": {
   "interpreter": {
    "hash": "2856db72fb1e77597a3b14e9c1bb4d2315d342edc16fc9e25c6c6e499688b933"
   }
  }
 },
 "nbformat": 4,
 "nbformat_minor": 2
}
