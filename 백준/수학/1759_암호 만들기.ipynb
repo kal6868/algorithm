{
 "cells": [
  {
   "attachments": {},
   "cell_type": "markdown",
   "metadata": {},
   "source": [
    "# 암호 만들기"
   ]
  },
  {
   "attachments": {},
   "cell_type": "markdown",
   "metadata": {},
   "source": [
    "## 문제"
   ]
  },
  {
   "cell_type": "markdown",
   "metadata": {},
   "source": [
    "* 바로 어제 최백준 조교가 방 열쇠를 주머니에 넣은 채 깜빡하고 서울로 가 버리는 황당한 상황에 직면한 조교들은, 702호에 새로운 보안 시스템을 설치하기로 하였다. 이 보안 시스템은 열쇠가 아닌 암호로 동작하게 되어 있는 시스템이다."
   ]
  },
  {
   "cell_type": "markdown",
   "metadata": {},
   "source": [
    "* 암호는 서로 다른 L개의 알파벳 소문자들로 구성되며 최소 한 개의 모음(a, e, i, o, u)과 최소 두 개의 자음으로 구성되어 있다고 알려져 있다. 또한 정렬된 문자열을 선호하는 조교들의 성향으로 미루어 보아 암호를 이루는 알파벳이 암호에서 증가하는 순서로 배열되었을 것이라고 추측된다. 즉, abc는 가능성이 있는 암호이지만 bac는 그렇지 않다."
   ]
  },
  {
   "cell_type": "markdown",
   "metadata": {},
   "source": [
    "* 새 보안 시스템에서 조교들이 암호로 사용했을 법한 문자의 종류는 C가지가 있다고 한다. 이 알파벳을 입수한 민식, 영식 형제는 조교들의 방에 침투하기 위해 암호를 추측해 보려고 한다. C개의 문자들이 모두 주어졌을 때, 가능성 있는 암호들을 모두 구하는 프로그램을 작성하시오."
   ]
  },
  {
   "attachments": {},
   "cell_type": "markdown",
   "metadata": {},
   "source": [
    "## 입력"
   ]
  },
  {
   "cell_type": "markdown",
   "metadata": {},
   "source": [
    "* 첫째 줄에 두 정수 L, C가 주어진다. (3 ≤ L ≤ C ≤ 15) 다음 줄에는 C개의 문자들이 공백으로 구분되어 주어진다. 주어지는 문자들은 알파벳 소문자이며, 중복되는 것은 없다."
   ]
  },
  {
   "attachments": {},
   "cell_type": "markdown",
   "metadata": {},
   "source": [
    "## 출력"
   ]
  },
  {
   "cell_type": "markdown",
   "metadata": {},
   "source": [
    "* 각 줄에 하나씩, 사전식으로 가능성 있는 암호를 모두 출력한다."
   ]
  },
  {
   "attachments": {},
   "cell_type": "markdown",
   "metadata": {},
   "source": [
    "## Code"
   ]
  },
  {
   "cell_type": "code",
   "execution_count": 4,
   "metadata": {},
   "outputs": [],
   "source": [
    "#1759_암호 만들기 (itertools.combinations 사용)\n",
    "import sys\n",
    "from itertools import combinations\n",
    "submit = False\n",
    "input = sys.stdin.readline if submit else input\n",
    "\n",
    "def condition_filtering(s):\n",
    "    vowels = ['a', 'e', 'i', 'o', 'u']\n",
    "    alphabets_counts = {}\n",
    "    for _s in s:\n",
    "        if _s in vowels:\n",
    "            if _s not in alphabets_counts:\n",
    "                alphabets_counts['vowel'] = 1\n",
    "            else:\n",
    "                alphabets_counts['vowel'] += 1\n",
    "        else:\n",
    "            if 'other' not in alphabets_counts:\n",
    "                alphabets_counts['other'] = 1\n",
    "            else:\n",
    "                alphabets_counts['other'] += 1\n",
    "\n",
    "    if (('vowel' in alphabets_counts) & ('other' in alphabets_counts)):\n",
    "        if ((alphabets_counts['vowel'] >= 1) & (alphabets_counts['other'] >= 2)):\n",
    "            return True\n",
    "    else:\n",
    "        return False\n",
    "    \n",
    "def solution():\n",
    "    L, C = map(int, input().split())\n",
    "    alphabets = sorted(input().split())\n",
    "    word_combinateions = list(map(''.join, combinations(alphabets, L)))\n",
    "    print(*[word for word in word_combinateions if condition_filtering(word)], sep = '\\n')"
   ]
  },
  {
   "cell_type": "code",
   "execution_count": 5,
   "metadata": {},
   "outputs": [],
   "source": [
    "#1759_암호 만들기 (재귀함수 사용)\n",
    "import sys\n",
    "submit = False\n",
    "input = sys.stdin.readline if submit else input\n",
    "\n",
    "\n",
    "def combinations_impl(arr, n):\n",
    "    if n == 0:\n",
    "        return [[]]\n",
    "    result = []\n",
    "    for i in range(len(arr)):\n",
    "        elem, rest_arr = arr[i], arr[i + 1:]\n",
    "        for C in combinations_impl(rest_arr, n - 1):\n",
    "            result.append([elem] + C)\n",
    "        \n",
    "    return result\n",
    "\n",
    "def condition_filtering(s):\n",
    "    vowels = ['a', 'e', 'i', 'o', 'u']\n",
    "    alphabets_counts = {}\n",
    "    for _s in s:\n",
    "        if _s in vowels:\n",
    "            if _s not in alphabets_counts:\n",
    "                alphabets_counts['vowel'] = 1\n",
    "            else:\n",
    "                alphabets_counts['vowel'] += 1\n",
    "        else:\n",
    "            if 'other' not in alphabets_counts:\n",
    "                alphabets_counts['other'] = 1\n",
    "            else:\n",
    "                alphabets_counts['other'] += 1\n",
    "\n",
    "    if (('vowel' in alphabets_counts) & ('other' in alphabets_counts)):\n",
    "        if ((alphabets_counts['vowel'] >= 1) & (alphabets_counts['other'] >= 2)):\n",
    "            return True\n",
    "    else:\n",
    "        return False\n",
    "    \n",
    "def solution():\n",
    "    L, C = map(int, input().split())\n",
    "    alphabets = sorted(input().split())\n",
    "    word_combinateions = list(map(''.join, combinations_impl(alphabets, L)))\n",
    "    print(*[word for word in word_combinateions if condition_filtering(word)], sep = '\\n')"
   ]
  },
  {
   "cell_type": "code",
   "execution_count": 6,
   "metadata": {},
   "outputs": [
    {
     "name": "stdout",
     "output_type": "stream",
     "text": [
      "acis\n",
      "acit\n",
      "aciw\n",
      "acst\n",
      "acsw\n",
      "actw\n",
      "aist\n",
      "aisw\n",
      "aitw\n",
      "astw\n",
      "cist\n",
      "cisw\n",
      "citw\n",
      "istw\n"
     ]
    }
   ],
   "source": [
    "solution()"
   ]
  },
  {
   "attachments": {},
   "cell_type": "markdown",
   "metadata": {},
   "source": [
    "## Note"
   ]
  },
  {
   "cell_type": "markdown",
   "metadata": {},
   "source": [
    "### 풀이 1\n",
    "\n",
    "* 1. 1부터 n까지의 수 중 나누어 떨어지는 수를 모두 구한 뒤, 올림차순으로 정렬한다\n",
    "    * 1\\) range는(이상, 미만)으로 인자를 받으므로 n + 1를 입력한다\n",
    "* 2. 약수의 개수가 k보다 작을 때는 0을 아니면 k - 1번째 수(index는 0부터 시작하므로)를 출력한다."
   ]
  },
  {
   "cell_type": "markdown",
   "metadata": {},
   "source": [
    "### 풀이 2\n",
    "\n",
    "* 1. combinations를 재귀 함수로 구현한 후 L개의 알파벳으로 이루어진 모든 조합을 구한다.\n",
    "    * 1\\) n == 4: a | c i s t w\n",
    "    * 2\\) n == 3: c | i s t w\n",
    "    * 3\\) n == 2: i | s t w\n",
    "    * 4\\) n == 1: s | t w\n",
    "    * 5\\) n == 0에서 [[]]이 return 되므로 ([elem] + C)는 [s]가 된다(C == [])\n",
    "      * t, w도 마찬가지이므로 n == 1에서는 result가 [[s], [t], [w]]으로 return된다.\n",
    "    * 6\\) n == 2에서 i랑 결합되어 n == 2의 result는 [[i, s], [i, t], [i, w]]가 된다. (아직 return X)\n",
    "    * 7\\) n == 2 s | t w 의 경우가 실행된다\n",
    "    * 8\\) n == 1에서는 result가 [[t], [w]]으로 return되고 s와 결합하여 [s, t], [s, w]가 result에 추가된다\n",
    "        * result == [[i, s], [i, t], [i, w], [s, t], [s, w]]\n",
    "    * 9\\) 해당 과정을 n == 4가 종료될 때 까지 반복한다.\n",
    "\n",
    "* 2. 조건에 맞는 것들만 출력한다.    \n",
    "    * 1\\) 알파벳이 증가하는 순서로 배열되어 있다고 추측하므로 입력받은 C개의 문자들을 오름차순으로 정렬한다\n",
    "    * 2\\) 알파벳의 개수를 모음과 자음으로 나누어 센 후 모음이 1개 이상, 자음이 2개 이상인 조건에 맞는지 확인한다\n",
    "    * 3\\) 조건에 맞는 조합만 출력한다.\n"
   ]
  },
  {
   "attachments": {},
   "cell_type": "markdown",
   "metadata": {},
   "source": [
    "https://www.acmicpc.net/problem/1759"
   ]
  }
 ],
 "metadata": {
  "kernelspec": {
   "display_name": "ws1",
   "language": "python",
   "name": "python3"
  },
  "language_info": {
   "codemirror_mode": {
    "name": "ipython",
    "version": 3
   },
   "file_extension": ".py",
   "mimetype": "text/x-python",
   "name": "python",
   "nbconvert_exporter": "python",
   "pygments_lexer": "ipython3",
   "version": "3.11.5"
  },
  "orig_nbformat": 4,
  "vscode": {
   "interpreter": {
    "hash": "2856db72fb1e77597a3b14e9c1bb4d2315d342edc16fc9e25c6c6e499688b933"
   }
  }
 },
 "nbformat": 4,
 "nbformat_minor": 2
}
