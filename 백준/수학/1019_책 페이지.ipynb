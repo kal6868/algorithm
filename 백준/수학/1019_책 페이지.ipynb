{
 "cells": [
  {
   "attachments": {},
   "cell_type": "markdown",
   "metadata": {},
   "source": [
    "# 책 페이지"
   ]
  },
  {
   "attachments": {},
   "cell_type": "markdown",
   "metadata": {},
   "source": [
    "## 문제"
   ]
  },
  {
   "attachments": {},
   "cell_type": "markdown",
   "metadata": {},
   "source": [
    "* 지민이는 전체 페이지의 수가 N인 책이 하나 있다. 첫 페이지는 1 페이지이고, 마지막 페이지는 N 페이지이다. 각 숫자가 전체 페이지 번호에서 모두 몇 번 나오는지 구해보자."
   ]
  },
  {
   "attachments": {},
   "cell_type": "markdown",
   "metadata": {},
   "source": [
    "## 입력"
   ]
  },
  {
   "attachments": {},
   "cell_type": "markdown",
   "metadata": {},
   "source": [
    "* 첫째 줄에 N이 주어진다. N은 1,000,000,000보다 작거나 같은 자연수이다."
   ]
  },
  {
   "attachments": {},
   "cell_type": "markdown",
   "metadata": {},
   "source": [
    "## 출력"
   ]
  },
  {
   "attachments": {},
   "cell_type": "markdown",
   "metadata": {},
   "source": [
    "* 첫째 줄에 0이 총 몇 번 나오는지, 1이 총 몇 번 나오는지, ..., 9가 총 몇 번 나오는지를 공백으로 구분해 출력한다."
   ]
  },
  {
   "attachments": {},
   "cell_type": "markdown",
   "metadata": {},
   "source": [
    "## Code"
   ]
  },
  {
   "cell_type": "code",
   "execution_count": 1,
   "metadata": {},
   "outputs": [],
   "source": [
    "# 1019_책 페이지 # 시간 초과\n",
    "\n",
    "import sys\n",
    "\n",
    "submit = False\n",
    "input = sys.stdin.readlie if submit else input\n",
    "\n",
    "def solution():\n",
    "    N = int(input())\n",
    "    dict_number = {str(i):0 for i in range(10)}\n",
    "\n",
    "    for i in range(1, N+1):\n",
    "        for j in list(str(i)):\n",
    "            dict_number[j] += 1\n",
    "    print(*dict_number.values())"
   ]
  },
  {
   "cell_type": "code",
   "execution_count": 2,
   "metadata": {},
   "outputs": [],
   "source": [
    "# 1019_책 페이지\n",
    "\n",
    "import sys\n",
    "\n",
    "submit = False\n",
    "input = sys.stdin.readline if submit else input\n",
    "\n",
    "\n",
    "def mk_ends_with_nine(n, cnt_numbers, cnt):\n",
    "    while n % 10 != 9:\n",
    "        for i in str(n):\n",
    "            cnt_numbers[int(i)] += cnt\n",
    "        n -= 1\n",
    "    return n\n",
    "\n",
    "def solution():\n",
    "    N = int(input())\n",
    "    cnt_numbers = [0] * 10 \n",
    "    cnt = 1\n",
    "    while N > 0:\n",
    "        N = mk_ends_with_nine(N, cnt_numbers, cnt)\n",
    "        if N < 10:\n",
    "            for i in range(N+1):\n",
    "                cnt_numbers[i] += cnt\n",
    "        else:\n",
    "            for i in range(10):\n",
    "                cnt_numbers[i] += (N//10 + 1) * cnt\n",
    "\n",
    "        cnt_numbers[0] -= cnt\n",
    "        cnt *= 10\n",
    "        N //= 10\n",
    "        \n",
    "    print(*cnt_numbers)\n"
   ]
  },
  {
   "attachments": {},
   "cell_type": "markdown",
   "metadata": {},
   "source": [
    "## 예제입력 - 출력"
   ]
  },
  {
   "cell_type": "code",
   "execution_count": 3,
   "metadata": {},
   "outputs": [
    {
     "name": "stdout",
     "output_type": "stream",
     "text": [
      "1 4 1 1 1 1 1 1 1 1\n"
     ]
    }
   ],
   "source": [
    "solution()"
   ]
  },
  {
   "cell_type": "code",
   "execution_count": 4,
   "metadata": {},
   "outputs": [
    {
     "name": "stdout",
     "output_type": "stream",
     "text": [
      "0 1 1 1 1 1 1 1 0 0\n"
     ]
    }
   ],
   "source": [
    "solution()"
   ]
  },
  {
   "cell_type": "code",
   "execution_count": 5,
   "metadata": {},
   "outputs": [
    {
     "name": "stdout",
     "output_type": "stream",
     "text": [
      "1 12 2 2 2 2 2 2 2 2\n"
     ]
    }
   ],
   "source": [
    "solution()"
   ]
  },
  {
   "cell_type": "code",
   "execution_count": 6,
   "metadata": {},
   "outputs": [
    {
     "name": "stdout",
     "output_type": "stream",
     "text": [
      "189 300 300 300 300 300 300 300 300 300\n"
     ]
    }
   ],
   "source": [
    "solution()"
   ]
  },
  {
   "cell_type": "code",
   "execution_count": 7,
   "metadata": {},
   "outputs": [
    {
     "name": "stdout",
     "output_type": "stream",
     "text": [
      "429904664 541008121 540917467 540117067 533117017 473117011 429904664 429904664 429904664 429904664\n"
     ]
    }
   ],
   "source": [
    "solution()"
   ]
  },
  {
   "attachments": {},
   "cell_type": "markdown",
   "metadata": {},
   "source": [
    "## Note"
   ]
  },
  {
   "cell_type": "markdown",
   "metadata": {},
   "source": [
    "### 풀이 1\n",
    "\n",
    "* 1\\. 숫자를 문자열(str)로 변환 후 List 자료형으로 변환하여 분리한다. 분리된 숫자가 나타나는 횟수를 dictionary(dict_number)에 저장한다.\n",
    "* 시간 초과"
   ]
  },
  {
   "cell_type": "markdown",
   "metadata": {},
   "source": [
    "### 풀이 2\n",
    "\n",
    "* 1. 숫자가 9로 끝나면 (N//10 + 1) * 자리수의 공식을 대입하여 나타나는 0~9의 개수를 구할 수 있다.\n",
    "    * 1\\) 9는 일의 자리의 수가 1개씩 나타난다. (0~9) -> [0, 1, 1, 1, 1, 1, 1, 1, 1, 1]\n",
    "    * 2\\) 19는 일의 자리의 0~9가 2번씩 나타나고 십의 자리에서 1이 10번 나타난다.(10~19) -> [1, 12, 2, 2, 2, 2, 2, 2, 2, 2]\n",
    "    * 3\\) 29는 일의 자리의 0~9가 3번씩 나타나고 십의 자리에서 1, 2이 각 10번씩 나타난다.(10~19) -> [2, 13, 13, 3, 3, 3, 3, 3, 3, 3]\n",
    "    * 4\\) 109는 일의 자리에서 0이 10번 1~9가 11번, 십의 자리에서 1~9가 각 10번, 백의 자리에서 0, 1이 각 10번씩 나타난다. -> [20, 31, 21, 21, 21, 21, 21, 21, 21, 21]\n",
    "    * 5\\) (N//10 + 1) * 자리수는 해당 자리수까지 나타난 0~9의 개수를 나타낸다\n",
    "    * eg. n == 19\n",
    "        * (19//10 + 1) * 1 = 2: 일의 자리에서 0~9가 2번씩 나타난다.\n",
    "    * eg. n == 109\n",
    "        * (109//10 + 1) * 1 = 11: 일의 자리에서 0~9가 11번씩 나타난다.\n",
    "* 2. 숫자가 9로 끝나지 않을 경우 숫자에서 나타난 0~9를 자리수(cnt)만큼 더해주고 9로 끝날때까지 1을 뺴주는 과정을 거친다(mk_ends_with_nine)\n",
    "    * eg. n == 19\n",
    "        * cnt == 10일때, N = 10이기 떄문에 mk_ends_with_nine에 의해서 0, 1에 10이 더 해진다 (cnt *= 10)\n",
    "* 3. 일의 자리르 제외한 나머지 자리수가 0으로 시작하는 숫자는 존재하지 않으므로 해당 횟수는 빼준다.\n",
    "        * 1\\) cnt_numbers[0] -= cnt에 의해서 0은 자리수 만큼 빼준다(0~9가 0으로 시작하지 않기 때문)\n",
    "            * eg. N = 109:\n",
    "                * (N//10 + 1) * cnt에 의해서 0~9에 11을 더했지만, 0으로 시작하는 페이지는 없기 때문에 -1을 해야한다."
   ]
  },
  {
   "attachments": {},
   "cell_type": "markdown",
   "metadata": {},
   "source": [
    "https://www.acmicpc.net/problem/1019"
   ]
  }
 ],
 "metadata": {
  "kernelspec": {
   "display_name": "ws1",
   "language": "python",
   "name": "python3"
  },
  "language_info": {
   "codemirror_mode": {
    "name": "ipython",
    "version": 3
   },
   "file_extension": ".py",
   "mimetype": "text/x-python",
   "name": "python",
   "nbconvert_exporter": "python",
   "pygments_lexer": "ipython3",
   "version": "3.12.4"
  },
  "orig_nbformat": 4,
  "vscode": {
   "interpreter": {
    "hash": "2856db72fb1e77597a3b14e9c1bb4d2315d342edc16fc9e25c6c6e499688b933"
   }
  }
 },
 "nbformat": 4,
 "nbformat_minor": 2
}
