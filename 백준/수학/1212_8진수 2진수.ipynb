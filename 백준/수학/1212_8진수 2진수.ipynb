{
 "cells": [
  {
   "attachments": {},
   "cell_type": "markdown",
   "metadata": {},
   "source": [
    "# 8진수 2진수"
   ]
  },
  {
   "attachments": {},
   "cell_type": "markdown",
   "metadata": {},
   "source": [
    "## 문제"
   ]
  },
  {
   "cell_type": "markdown",
   "metadata": {},
   "source": [
    "* 8진수가 주어졌을 때, 2진수로 변환하는 프로그램을 작성하시오."
   ]
  },
  {
   "attachments": {},
   "cell_type": "markdown",
   "metadata": {},
   "source": [
    "## 입력"
   ]
  },
  {
   "cell_type": "markdown",
   "metadata": {},
   "source": [
    "* 첫째 줄에 8진수가 주어진다. 주어지는 수의 길이는 333,334을 넘지 않는다."
   ]
  },
  {
   "attachments": {},
   "cell_type": "markdown",
   "metadata": {},
   "source": [
    "## 출력"
   ]
  },
  {
   "cell_type": "markdown",
   "metadata": {},
   "source": [
    "* 첫째 줄에 주어진 수를 2진수로 변환하여 출력한다. 수가 0인 경우를 제외하고는 반드시 1로 시작해야 한다."
   ]
  },
  {
   "attachments": {},
   "cell_type": "markdown",
   "metadata": {},
   "source": [
    "## Code"
   ]
  },
  {
   "cell_type": "code",
   "execution_count": 1,
   "metadata": {},
   "outputs": [],
   "source": [
    "# 1212번_8진수 2진수 (시간 초과 풀이)\n",
    "import sys\n",
    "submit = False\n",
    "\n",
    "# 풀이 1\n",
    "def dec_to_bin(n):\n",
    "    n = int(n)\n",
    "    status = True\n",
    "    oct_num=''\n",
    "    while status:\n",
    "        a, b = n//2, n%2\n",
    "        if a != 0:\n",
    "            n = a \n",
    "            oct_num += str(b)\n",
    "        else:\n",
    "            oct_num += str(b)\n",
    "            status = False\n",
    "    oct_num = oct_num[::-1]\n",
    "    return oct_num \n",
    "\n",
    "def solution():\n",
    "    if submit:\n",
    "        print(dec_to_bin(int(sys.stdin.readline().rstrip(), 8)))\n",
    "    else:\n",
    "        print(dec_to_bin(int(input(), 8)))\n",
    "        \n"
   ]
  },
  {
   "cell_type": "code",
   "execution_count": null,
   "metadata": {},
   "outputs": [],
   "source": [
    "# 1212번_8진수 2진수 \n",
    "print(bin(int(input(), 8))[2:])\n",
    "print(bin(int(sys.stdin.readline().rstrip(), 8))[2:])\n"
   ]
  },
  {
   "cell_type": "code",
   "execution_count": 2,
   "metadata": {},
   "outputs": [
    {
     "name": "stdout",
     "output_type": "stream",
     "text": [
      "11001100\n"
     ]
    }
   ],
   "source": [
    "solution()"
   ]
  },
  {
   "attachments": {},
   "cell_type": "markdown",
   "metadata": {},
   "source": [
    "## Note"
   ]
  },
  {
   "cell_type": "markdown",
   "metadata": {},
   "source": [
    "* 내장함수를 이용하여 8진수를 10진수로 변환한 뒤, 2로 나누는 과정을 반복하여 8진수로 만든 뒤 출력한다."
   ]
  },
  {
   "attachments": {},
   "cell_type": "markdown",
   "metadata": {},
   "source": [
    "https://www.acmicpc.net/problem/1212"
   ]
  }
 ],
 "metadata": {
  "kernelspec": {
   "display_name": "ws1",
   "language": "python",
   "name": "python3"
  },
  "language_info": {
   "codemirror_mode": {
    "name": "ipython",
    "version": 3
   },
   "file_extension": ".py",
   "mimetype": "text/x-python",
   "name": "python",
   "nbconvert_exporter": "python",
   "pygments_lexer": "ipython3",
   "version": "3.11.5"
  },
  "orig_nbformat": 4,
  "vscode": {
   "interpreter": {
    "hash": "2856db72fb1e77597a3b14e9c1bb4d2315d342edc16fc9e25c6c6e499688b933"
   }
  }
 },
 "nbformat": 4,
 "nbformat_minor": 2
}
