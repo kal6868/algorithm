{
 "cells": [
  {
   "attachments": {},
   "cell_type": "markdown",
   "metadata": {},
   "source": [
    "# GCD 합"
   ]
  },
  {
   "attachments": {},
   "cell_type": "markdown",
   "metadata": {},
   "source": [
    "## 문제"
   ]
  },
  {
   "cell_type": "markdown",
   "metadata": {},
   "source": [
    "* 양의 정수 n개가 주어졌을 때, 가능한 모든 쌍의 GCD의 합을 구하는 프로그램을 작성하시오."
   ]
  },
  {
   "attachments": {},
   "cell_type": "markdown",
   "metadata": {},
   "source": [
    "## 입력"
   ]
  },
  {
   "cell_type": "markdown",
   "metadata": {},
   "source": [
    "* 첫째 줄에 테스트 케이스의 개수 t (1 ≤ t ≤ 100)이 주어진다. 각 테스트 케이스는 한 줄로 이루어져 있다. 각 테스트 케이스는 수의 개수 n (1 < n ≤ 100)가 주어지고, 다음에는 n개의 수가 주어진다. 입력으로 주어지는 수는 1,000,000을 넘지 않는다."
   ]
  },
  {
   "attachments": {},
   "cell_type": "markdown",
   "metadata": {},
   "source": [
    "## 출력"
   ]
  },
  {
   "cell_type": "markdown",
   "metadata": {},
   "source": [
    "* 각 테스트 케이스마다 가능한 모든 쌍의 GCD의 합을 출력한다."
   ]
  },
  {
   "attachments": {},
   "cell_type": "markdown",
   "metadata": {},
   "source": [
    "## Code"
   ]
  },
  {
   "cell_type": "code",
   "execution_count": 1,
   "metadata": {},
   "outputs": [],
   "source": [
    "#9613_GCD 합 (풀이 1)\n",
    "\n",
    "import sys\n",
    "\n",
    "submit = False\n",
    "input = sys.stdin.readline if submit else input\n",
    "\n",
    "def gen_combinations(arr, n):\n",
    "    if n == 0:\n",
    "        return [[]]\n",
    "    result = []\n",
    "    for i in range(len(arr)):\n",
    "        elem = arr[i]\n",
    "        rest_arr = arr[i + 1:]\n",
    "        for C in gen_combinations(rest_arr, n - 1):\n",
    "            result.append([elem] + C)\n",
    "    return result\n",
    "\n",
    "def get_gcd(numbers):\n",
    "    a, b = numbers\n",
    "    for i in range(min(numbers), 0, -1):\n",
    "        if (a % i == 0) & (b % i == 0):\n",
    "            return i\n",
    "        \n",
    "def solution():\n",
    "    n = int(input())\n",
    "    for _ in range(n):\n",
    "        numbers = list(map(int, input().split()))[1:]\n",
    "        gcd_sum = 0\n",
    "        for i in gen_combinations(numbers, 2):\n",
    "            gcd_sum += get_gcd(i)\n",
    "        print(gcd_sum)"
   ]
  },
  {
   "cell_type": "code",
   "execution_count": null,
   "metadata": {},
   "outputs": [],
   "source": [
    "#9613_GCD 합 (풀이 2)\n",
    "\n",
    "import sys\n",
    "from itertools import combinations\n",
    "\n",
    "submit = False\n",
    "input = sys.stdin.readline if submit else input\n",
    "\n",
    "def get_gcd(numbers):\n",
    "    a, b = numbers\n",
    "    while b > 0:\n",
    "        a, b = b, a % b\n",
    "    return a\n",
    "\n",
    "def solution():\n",
    "    n = int(input())\n",
    "    for _ in range(n):\n",
    "        numbers = list(map(int, input().split()))[1:]\n",
    "        gcd_sum = 0\n",
    "        for i in combinations(numbers, 2):\n",
    "            gcd_sum += get_gcd(i)\n",
    "        print(gcd_sum)"
   ]
  },
  {
   "cell_type": "code",
   "execution_count": 2,
   "metadata": {},
   "outputs": [
    {
     "name": "stdout",
     "output_type": "stream",
     "text": [
      "70\n",
      "3\n",
      "35\n"
     ]
    }
   ],
   "source": [
    "solution()"
   ]
  },
  {
   "attachments": {},
   "cell_type": "markdown",
   "metadata": {},
   "source": [
    "## Note"
   ]
  },
  {
   "cell_type": "markdown",
   "metadata": {},
   "source": [
    "* 1. 재귀함수로 가능한 모든 조합을 구현하여 수열(numbers)에서 크기가 양수(1 ~ len(numbers))인 부분수열을 추출한다.\n",
    "    * 1\\) gen_combinations(rest_arr, n - 1)에 의해 [[]] 이 return 되면서 (len(arr) - n + 1)의 index부터 1개씩 List에 담겨 result에 추가된다.\n",
    "    * 2\\) 그럼 재귀함수에 의해 List가 정해져서 return 되므로, 반복문에 의해 이전 for문의 숫자(elem)과 합쳐져서 result에 다시 추가된다.\n",
    "    * 3\\) index가 뒤로 가면서 rest_arr의 원소가 점점 적어지고 빈 배열이 되는 경우도 있기 때문에 중복을 제거하는 효과가 발생한다.\n",
    "        * [1, 2, 3, 4], n = 2\n",
    "        * i == 1\n",
    "        * [[2], [3], [4]]가 return 된다.\n",
    "        * [1, 2], [1, 3], [1, 4]가 result에 추가 된다.\n",
    "* 2. 최대공약수는 for문을 사용하여 주어진 두 수 중에서 작은 수부터 0까지의 숫자 중 두 수를 나눴을 때 나누어 떨어지는지 확인하여 구한다.\n",
    "* 3. 모든 조합의 최대공약수를 구해 더한 값을 반환한다."
   ]
  },
  {
   "cell_type": "markdown",
   "metadata": {},
   "source": [
    "* 1. itertools의 combinations를 사용해서 가능한 모든 조합을 구한다.\n",
    "* 2. 유클리드 호제법을 이용하여 최대공약수를 구한다.\n",
    "    * 2개의 자연수 a, b(a > b)에 대해서 a를 b로 나눈 나머지가 r일 때, a와 b의 최대공약수는 b와 r의 최대공약수와 같다.\n",
    "    * 1\\) a, b = b, a % b를 퉁해 큰 수가 a, 작은 수가 b가 된다\n",
    "    * 2\\) a, b = b, a % b를 반복해서 a % b가 0이 되면 그 b가 최대공약수가 되는 성질을 이용한다.\n",
    "* 3. 모든 조합의 최대공약수를 구해 더한 값을 반환한다."
   ]
  },
  {
   "cell_type": "markdown",
   "metadata": {},
   "source": [
    "https://www.acmicpc.net/problem/9613"
   ]
  }
 ],
 "metadata": {
  "kernelspec": {
   "display_name": "ws1",
   "language": "python",
   "name": "python3"
  },
  "language_info": {
   "codemirror_mode": {
    "name": "ipython",
    "version": 3
   },
   "file_extension": ".py",
   "mimetype": "text/x-python",
   "name": "python",
   "nbconvert_exporter": "python",
   "pygments_lexer": "ipython3",
   "version": "3.11.5"
  },
  "orig_nbformat": 4,
  "vscode": {
   "interpreter": {
    "hash": "2856db72fb1e77597a3b14e9c1bb4d2315d342edc16fc9e25c6c6e499688b933"
   }
  }
 },
 "nbformat": 4,
 "nbformat_minor": 2
}
