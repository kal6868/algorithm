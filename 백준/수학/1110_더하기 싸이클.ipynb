{
 "cells": [
  {
   "attachments": {},
   "cell_type": "markdown",
   "metadata": {},
   "source": [
    "# 더하기 사이클"
   ]
  },
  {
   "attachments": {},
   "cell_type": "markdown",
   "metadata": {},
   "source": [
    "## 문제"
   ]
  },
  {
   "cell_type": "markdown",
   "metadata": {},
   "source": [
    "* 0보다 크거나 같고, 99보다 작거나 같은 정수가 주어질 때 다음과 같은 연산을 할 수 있다. 먼저 주어진 수가 10보다 작다면 앞에 0을 붙여 두 자리 수로 만들고, 각 자리의 숫자를 더한다. 그 다음, 주어진 수의 가장 오른쪽 자리 수와 앞에서 구한 합의 가장 오른쪽 자리 수를 이어 붙이면 새로운 수를 만들 수 있다. 다음 예를 보자."
   ]
  },
  {
   "cell_type": "markdown",
   "metadata": {},
   "source": [
    "* 26부터 시작한다. 2+6 = 8이다. 새로운 수는 68이다. 6+8 = 14이다. 새로운 수는 84이다. 8+4 = 12이다. 새로운 수는 42이다. 4+2 = 6이다. 새로운 수는 26이다."
   ]
  },
  {
   "cell_type": "markdown",
   "metadata": {},
   "source": [
    "* 위의 예는 4번만에 원래 수로 돌아올 수 있다. 따라서 26의 사이클의 길이는 4이다."
   ]
  },
  {
   "cell_type": "markdown",
   "metadata": {},
   "source": [
    "* N이 주어졌을 때, N의 사이클의 길이를 구하는 프로그램을 작성하시오."
   ]
  },
  {
   "attachments": {},
   "cell_type": "markdown",
   "metadata": {},
   "source": [
    "## 입력"
   ]
  },
  {
   "attachments": {},
   "cell_type": "markdown",
   "metadata": {},
   "source": [
    "* 첫째 줄에 삼각형의 크기 n(1 ≤ n ≤ 500)이 주어지고, 둘째 줄부터 n+1번째 줄까지 정수 삼각형이 주어진다."
   ]
  },
  {
   "attachments": {},
   "cell_type": "markdown",
   "metadata": {},
   "source": [
    "## 출력"
   ]
  },
  {
   "cell_type": "markdown",
   "metadata": {},
   "source": [
    "* 첫째 줄에 N의 사이클 길이를 출력한다."
   ]
  },
  {
   "attachments": {},
   "cell_type": "markdown",
   "metadata": {},
   "source": [
    "## Code"
   ]
  },
  {
   "cell_type": "code",
   "execution_count": 1,
   "metadata": {},
   "outputs": [],
   "source": [
    "# 1110번 더하기 싸이클(풀이 1)(수학): 시간초과\n",
    "import sys\n",
    "\n",
    "def add_cycle(s_n):\n",
    "    if len(s_n) == 1:\n",
    "        s_n = '0' + s_n\n",
    "        cycle_1 = int(s_n[0]) + int(s_n[1])\n",
    "    else:\n",
    "        cycle_1 = int(s_n[0]) + int(s_n[1])\n",
    "        \n",
    "    n_from_cycle_1 = str(cycle_1)[1] if cycle_1 >=10 else str(cycle_1)[0]\n",
    "    return s_n[1] + n_from_cycle_1\n",
    "\n",
    "def solution():\n",
    "    # number = input()\n",
    "    number = sys.stdin.readline().rstrip()\n",
    "    i = 0\n",
    "    answer = number\n",
    "    while True:\n",
    "        answer = add_cycle(answer)\n",
    "        i += 1\n",
    "        if number == answer:\n",
    "            break\n",
    "    print(i)"
   ]
  },
  {
   "cell_type": "code",
   "execution_count": 2,
   "metadata": {},
   "outputs": [],
   "source": [
    "# 1110번 더하기 싸이클(풀이 2)(수학)\n",
    "import sys\n",
    "\n",
    "def get_new_num(n):\n",
    "    a, b = n//10, n%10\n",
    "    _new_num = (a+b) % 10\n",
    "    new_num = (b * 10) + _new_num\n",
    "    return new_num\n",
    "\n",
    "def solution():\n",
    "    # number = int(sys.stdin.readline())\n",
    "    number = int(input())\n",
    "    num, i = number, 0\n",
    "    while True:\n",
    "        num = get_new_num(num)\n",
    "        i += 1\n",
    "        if number == num:\n",
    "            break\n",
    "    print(i)"
   ]
  },
  {
   "attachments": {},
   "cell_type": "markdown",
   "metadata": {},
   "source": [
    "## 예제입력"
   ]
  },
  {
   "cell_type": "code",
   "execution_count": 3,
   "metadata": {},
   "outputs": [
    {
     "name": "stdout",
     "output_type": "stream",
     "text": [
      "4\n"
     ]
    }
   ],
   "source": [
    "solution()"
   ]
  },
  {
   "cell_type": "code",
   "execution_count": 4,
   "metadata": {},
   "outputs": [
    {
     "name": "stdout",
     "output_type": "stream",
     "text": [
      "3\n"
     ]
    }
   ],
   "source": [
    "solution()"
   ]
  },
  {
   "cell_type": "code",
   "execution_count": 5,
   "metadata": {},
   "outputs": [
    {
     "name": "stdout",
     "output_type": "stream",
     "text": [
      "60\n"
     ]
    }
   ],
   "source": [
    "solution()"
   ]
  },
  {
   "cell_type": "code",
   "execution_count": 6,
   "metadata": {},
   "outputs": [
    {
     "name": "stdout",
     "output_type": "stream",
     "text": [
      "1\n"
     ]
    }
   ],
   "source": [
    "solution()"
   ]
  },
  {
   "cell_type": "code",
   "execution_count": 7,
   "metadata": {},
   "outputs": [
    {
     "name": "stdout",
     "output_type": "stream",
     "text": [
      "12\n"
     ]
    }
   ],
   "source": [
    "solution()"
   ]
  },
  {
   "attachments": {},
   "cell_type": "markdown",
   "metadata": {},
   "source": [
    "## Note"
   ]
  },
  {
   "cell_type": "markdown",
   "metadata": {},
   "source": [
    "* 1. 다음과 같은 과정을 반복한다.\n",
    "    * 1\\) 모든 숫자를 문자열로 취급하여 주어진 수가 1자리 숫자이면 앞에 '0'을 붙인다\n",
    "    * 2\\) 숫자의 10의 자리수와 1의 자리수를 숫자형으로 바꿔 더하면 \"구한 합\"이 된다.\n",
    "    * 3\\) \"구한 합\"이 1의 자리 숫자이면 해당 숫자를 10의 자리 숫자이면 1의 자리수를 구하여 \"구한 합의 주어진 가장 오른쪽 자리 수\"를 구한다.\n",
    "    * 4\\) \"주어진 수의 가장 오른쪽 자리 수\"인 입력 받은 수의 1의 자리수와 3)에서 구한 \"구한 합의 주어진 가장 오른쪽 자리 수\"를 문자열로 합친다.\n",
    "* 2. 새로운 수를 반복해서 만들고 i에 1을 더한다. 새로운 수가 기존 수와 동일한 수가 되면 반복을 멈춘다."
   ]
  },
  {
   "attachments": {},
   "cell_type": "markdown",
   "metadata": {},
   "source": [
    "https://www.acmicpc.net/problem/1110"
   ]
  }
 ],
 "metadata": {
  "kernelspec": {
   "display_name": "ws1",
   "language": "python",
   "name": "python3"
  },
  "language_info": {
   "codemirror_mode": {
    "name": "ipython",
    "version": 3
   },
   "file_extension": ".py",
   "mimetype": "text/x-python",
   "name": "python",
   "nbconvert_exporter": "python",
   "pygments_lexer": "ipython3",
   "version": "3.11.5"
  },
  "orig_nbformat": 4,
  "vscode": {
   "interpreter": {
    "hash": "2856db72fb1e77597a3b14e9c1bb4d2315d342edc16fc9e25c6c6e499688b933"
   }
  }
 },
 "nbformat": 4,
 "nbformat_minor": 2
}
