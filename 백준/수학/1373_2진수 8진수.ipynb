{
 "cells": [
  {
   "attachments": {},
   "cell_type": "markdown",
   "metadata": {},
   "source": [
    "# 2진수 8진수"
   ]
  },
  {
   "attachments": {},
   "cell_type": "markdown",
   "metadata": {},
   "source": [
    "## 문제"
   ]
  },
  {
   "attachments": {},
   "cell_type": "markdown",
   "metadata": {},
   "source": [
    "* 2진수가 주어졌을 때, 8진수로 변환하는 프로그램을 작성하시오."
   ]
  },
  {
   "attachments": {},
   "cell_type": "markdown",
   "metadata": {},
   "source": [
    "## 입력"
   ]
  },
  {
   "attachments": {},
   "cell_type": "markdown",
   "metadata": {},
   "source": [
    "* 첫째 줄에 2진수가 주어진다. 주어지는 수의 길이는 1,000,000을 넘지 않는다."
   ]
  },
  {
   "attachments": {},
   "cell_type": "markdown",
   "metadata": {},
   "source": [
    "## 출력"
   ]
  },
  {
   "cell_type": "markdown",
   "metadata": {},
   "source": [
    "* 첫째 줄에 주어진 수를 8진수로 변환하여 출력한다."
   ]
  },
  {
   "attachments": {},
   "cell_type": "markdown",
   "metadata": {},
   "source": [
    "## Code"
   ]
  },
  {
   "cell_type": "code",
   "execution_count": 3,
   "metadata": {},
   "outputs": [],
   "source": [
    "# 1373_2진수 8진수\n",
    "\n",
    "import sys\n",
    "\n",
    "def bin_to_dec(n):\n",
    "    n_reverse = n[::-1]\n",
    "    shifted = 0\n",
    "    for i, num in enumerate(n_reverse):\n",
    "        shifted += (2**i) * int(num)\n",
    "    return str(shifted)\n",
    "\n",
    "def dec_to_oct(n):\n",
    "    n = int(n)\n",
    "    status = True\n",
    "    oct_num=''\n",
    "    while status:\n",
    "        a, b = n//8, n%8\n",
    "        if a != 0:\n",
    "            n = a \n",
    "            oct_num += str(b)\n",
    "        else:\n",
    "            oct_num += str(b)\n",
    "            status = False\n",
    "    oct_num = oct_num[::-1]\n",
    "    return int(oct_num)\n",
    "\n",
    "def solution():\n",
    "    # a = sys.stdin.readline().rstrip()\n",
    "    a = input()\n",
    "    return dec_to_oct(bin_to_dec(a))"
   ]
  },
  {
   "cell_type": "code",
   "execution_count": 7,
   "metadata": {},
   "outputs": [],
   "source": [
    "# 1373_2진수 8진수\n",
    "\n",
    "# 풀이 2\n",
    "import sys\n",
    "def solution():\n",
    "    # a = sys.stdin.readline().rstrip()\n",
    "    a = input()\n",
    "    print(oct(int(a, 2))[2:])\n",
    "\n",
    "# 이진수 -> 10진수 -> 8진수의 과정을 python 내장 함수를 사용하여 구현한다."
   ]
  },
  {
   "cell_type": "code",
   "execution_count": 8,
   "metadata": {},
   "outputs": [
    {
     "name": "stdout",
     "output_type": "stream",
     "text": [
      "314\n"
     ]
    }
   ],
   "source": [
    "solution()"
   ]
  },
  {
   "attachments": {},
   "cell_type": "markdown",
   "metadata": {},
   "source": [
    "## 예제입력"
   ]
  },
  {
   "attachments": {},
   "cell_type": "markdown",
   "metadata": {},
   "source": [
    "## Note"
   ]
  },
  {
   "cell_type": "markdown",
   "metadata": {},
   "source": [
    "### 풀이 1\n",
    "* 2진수를 거꾸로 뒤집에서 각 자리수마다 2의 1승, 2의 2승을 곱해서 다 더하는 방식으로 10진수로 변환한다.\n",
    "* 10진수를 8로 과정을 반복하여 8진수로 만든 뒤 출력한다.\n",
    "* 시간초과\n"
   ]
  },
  {
   "cell_type": "markdown",
   "metadata": {},
   "source": [
    "### 풀이 2\n",
    "* 내장함수를 사용하여 8진수를 10진수로 변환한 뒤, 다시 2진수로 변환한다."
   ]
  },
  {
   "attachments": {},
   "cell_type": "markdown",
   "metadata": {},
   "source": [
    "https://www.acmicpc.net/problem/1373"
   ]
  }
 ],
 "metadata": {
  "kernelspec": {
   "display_name": "ws1",
   "language": "python",
   "name": "python3"
  },
  "language_info": {
   "codemirror_mode": {
    "name": "ipython",
    "version": 3
   },
   "file_extension": ".py",
   "mimetype": "text/x-python",
   "name": "python",
   "nbconvert_exporter": "python",
   "pygments_lexer": "ipython3",
   "version": "3.11.5"
  },
  "orig_nbformat": 4,
  "vscode": {
   "interpreter": {
    "hash": "2856db72fb1e77597a3b14e9c1bb4d2315d342edc16fc9e25c6c6e499688b933"
   }
  }
 },
 "nbformat": 4,
 "nbformat_minor": 2
}
