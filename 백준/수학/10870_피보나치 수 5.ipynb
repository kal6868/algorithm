{
 "cells": [
  {
   "attachments": {},
   "cell_type": "markdown",
   "metadata": {},
   "source": [
    "# 피보나치수 5"
   ]
  },
  {
   "attachments": {},
   "cell_type": "markdown",
   "metadata": {},
   "source": [
    "## 문제"
   ]
  },
  {
   "cell_type": "markdown",
   "metadata": {},
   "source": [
    "* 피보나치 수는 0과 1로 시작한다. 0번째 피보나치 수는 0이고, 1번째 피보나치 수는 1이다. 그 다음 2번째 부터는 바로 앞 두 피보나치 수의 합이 된다.\n",
    "* 이를 식으로 써보면 Fn = Fn-1 + Fn-2 (n ≥ 2)가 된다."
   ]
  },
  {
   "cell_type": "markdown",
   "metadata": {},
   "source": [
    "* n=17일때 까지 피보나치 수를 써보면 다음과 같다.\n",
    "* 0, 1, 1, 2, 3, 5, 8, 13, 21, 34, 55, 89, 144, 233, 377, 610, 987, 1597\n",
    "* n이 주어졌을 때, n번째 피보나치 수를 구하는 프로그램을 작성하시오."
   ]
  },
  {
   "attachments": {},
   "cell_type": "markdown",
   "metadata": {},
   "source": [
    "## 입력"
   ]
  },
  {
   "cell_type": "markdown",
   "metadata": {},
   "source": [
    "* 첫째 줄에 n이 주어진다. n은 20보다 작거나 같은 자연수 또는 0이다."
   ]
  },
  {
   "attachments": {},
   "cell_type": "markdown",
   "metadata": {},
   "source": [
    "## 출력"
   ]
  },
  {
   "cell_type": "markdown",
   "metadata": {},
   "source": [
    "* 첫째 줄에 n번째 피보나치 수를 출력한다."
   ]
  },
  {
   "attachments": {},
   "cell_type": "markdown",
   "metadata": {},
   "source": [
    "## Code"
   ]
  },
  {
   "cell_type": "code",
   "execution_count": 1,
   "metadata": {},
   "outputs": [],
   "source": [
    "# 10870_피보나치 수 5\n",
    "\n",
    "import sys\n",
    "\n",
    "def return_fibonacci(n):\n",
    "    dp = [0]*21\n",
    "    dp[1], dp[2] = 1, 1\n",
    "    for i in range(3, 21):\n",
    "        dp[i] = dp[i-1] +  dp[i-2]\n",
    "    return(dp[n])\n",
    "\n",
    "def solution():\n",
    "    n = int(input())\n",
    "    print(return_fibonacci(n))"
   ]
  },
  {
   "cell_type": "code",
   "execution_count": 2,
   "metadata": {},
   "outputs": [
    {
     "name": "stdout",
     "output_type": "stream",
     "text": [
      "55\n"
     ]
    }
   ],
   "source": [
    "solution()"
   ]
  },
  {
   "attachments": {},
   "cell_type": "markdown",
   "metadata": {},
   "source": [
    "## Note"
   ]
  },
  {
   "cell_type": "markdown",
   "metadata": {},
   "source": [
    "* 1. 피보나치 수열을 구하는데 재귀적인 방법보다 동적계획법이 빠른 이유는 동일한 함수를 계속해서 호출하는 대신 그 값을 저장해 놓기 때문이다.\n",
    "    * 1\\) 재귀적 방법: f(5) = f(4) + f(3) = f(3)+f(2) + f(2)+f(1) = f(2)+f(1)+f(2)+f(2)+f(1) = f(1)+f(0)+f(1)+f(1)+f(0)+f(1)+f(0)+f(1)\n",
    "        * f(2)를 기준으로만 해도 5번이 호출된다.\n",
    "    \n",
    "* 2. 동적계획법을 사용하면 함수를 재귀적으로 매번 호출하는 것이 아닌 이미 계산해 놓은 값을 List(dp)에 저장해 놓음으로써 연산을 다시 할 필요가 없다.\n",
    "    * 1\\) 따라서 피보나치 등 수열을 구하는 문제에서는 동적계획법이 무조건 연산을 반복하는 것 보다는 빠르다."
   ]
  },
  {
   "attachments": {},
   "cell_type": "markdown",
   "metadata": {},
   "source": [
    "https://www.acmicpc.net/problem/10870"
   ]
  }
 ],
 "metadata": {
  "kernelspec": {
   "display_name": "ws1",
   "language": "python",
   "name": "python3"
  },
  "language_info": {
   "codemirror_mode": {
    "name": "ipython",
    "version": 3
   },
   "file_extension": ".py",
   "mimetype": "text/x-python",
   "name": "python",
   "nbconvert_exporter": "python",
   "pygments_lexer": "ipython3",
   "version": "3.11.5"
  },
  "orig_nbformat": 4,
  "vscode": {
   "interpreter": {
    "hash": "2856db72fb1e77597a3b14e9c1bb4d2315d342edc16fc9e25c6c6e499688b933"
   }
  }
 },
 "nbformat": 4,
 "nbformat_minor": 2
}
