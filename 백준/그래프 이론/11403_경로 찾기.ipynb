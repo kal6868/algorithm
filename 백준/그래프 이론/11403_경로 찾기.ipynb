{
 "cells": [
  {
   "attachments": {},
   "cell_type": "markdown",
   "metadata": {},
   "source": [
    "# 경로 찾기"
   ]
  },
  {
   "attachments": {},
   "cell_type": "markdown",
   "metadata": {},
   "source": [
    "## 문제"
   ]
  },
  {
   "attachments": {},
   "cell_type": "markdown",
   "metadata": {},
   "source": [
    "* 가중치 없는 방향 그래프 G가 주어졌을 때, 모든 정점 (i, j)에 대해서, i에서 j로 가는 길이가 양수인 경로가 있는지 없는지 구하는 프로그램을 작성하시오."
   ]
  },
  {
   "attachments": {},
   "cell_type": "markdown",
   "metadata": {},
   "source": [
    "## 입력"
   ]
  },
  {
   "attachments": {},
   "cell_type": "markdown",
   "metadata": {},
   "source": [
    "* 첫째 줄에 정점의 개수 N (1 ≤ N ≤ 100)이 주어진다. 둘째 줄부터 N개 줄에는 그래프의 인접 행렬이 주어진다. i번째 줄의 j번째 숫자가 1인 경우에는 i에서 j로 가는 간선이 존재한다는 뜻이고, 0인 경우는 없다는 뜻이다. i번째 줄의 i번째 숫자는 항상 0이다."
   ]
  },
  {
   "attachments": {},
   "cell_type": "markdown",
   "metadata": {},
   "source": [
    "## 출력"
   ]
  },
  {
   "attachments": {},
   "cell_type": "markdown",
   "metadata": {},
   "source": [
    "* 총 N개의 줄에 걸쳐서 문제의 정답을 인접행렬 형식으로 출력한다. 정점 i에서 j로 가는 길이가 양수인 경로가 있으면 i번째 줄의 j번째 숫자를 1로, 없으면 0으로 출력해야 한다."
   ]
  },
  {
   "attachments": {},
   "cell_type": "markdown",
   "metadata": {},
   "source": [
    "## Code"
   ]
  },
  {
   "cell_type": "code",
   "execution_count": 1,
   "metadata": {},
   "outputs": [],
   "source": [
    "# 11403 경로찾기(bfs)\n",
    "import sys\n",
    "from collections import deque\n",
    "\n",
    "def bfs(st_point, args):\n",
    "    N, graph, connected = args\n",
    "    queue = deque()\n",
    "    queue.append(st_point)\n",
    "    visited = [False] * N\n",
    "    while queue:\n",
    "        point = queue.popleft()\n",
    "\n",
    "        for i in range(N):\n",
    "            if (not visited[i]) and graph[point][i] == 1:\n",
    "                queue.append(i)\n",
    "                visited[i] = True\n",
    "                connected[st_point][i] = 1\n",
    "\n",
    "def solution():\n",
    "    N = int(input())\n",
    "    # N = int(sys.stdin.readline())\n",
    "    graph = [list(map(int, input().split())) for _ in range(N)]\n",
    "    connected = [[0]*N for _ in range(N)]\n",
    "\n",
    "    args = (N, graph, connected)\n",
    "    for i in range(N):\n",
    "        bfs(i, args)\n",
    "\n",
    "    for i in connected:\n",
    "        print(*i)"
   ]
  },
  {
   "cell_type": "code",
   "execution_count": null,
   "metadata": {},
   "outputs": [],
   "source": [
    "# 11403 경로찾기(dfs)\n",
    "import sys\n",
    "from collections import deque\n",
    "\n",
    "N = int(input())\n",
    "# N = int(sys.stdin.readline())\n",
    "graph = [list(map(int, input().split())) for _ in range(N)]\n",
    "# graph = [list(map(int, input().split())) for _ in range(N)]\n",
    "\n",
    "\n",
    "def dfs(st_point):\n",
    "    for i in range(N):\n",
    "        if (not visited[i]) and graph[st_point][i] == 1:\n",
    "            visited[i] = True\n",
    "            dfs(i)\n",
    "\n",
    "for i in range(N):\n",
    "    visited = [False] * N\n",
    "    dfs(i)\n",
    "    for j in range(N):\n",
    "        if visited[j]:\n",
    "            print(1, end=' ')\n",
    "        else:\n",
    "            print(0, end=' ')\n",
    "    print()"
   ]
  },
  {
   "attachments": {},
   "cell_type": "markdown",
   "metadata": {},
   "source": [
    "## 예제입력"
   ]
  },
  {
   "cell_type": "code",
   "execution_count": 2,
   "metadata": {},
   "outputs": [
    {
     "name": "stdout",
     "output_type": "stream",
     "text": [
      "1 1 1\n",
      "1 1 1\n",
      "1 1 1\n"
     ]
    }
   ],
   "source": [
    "solution()"
   ]
  },
  {
   "cell_type": "code",
   "execution_count": 3,
   "metadata": {},
   "outputs": [
    {
     "name": "stdout",
     "output_type": "stream",
     "text": [
      "1 0 1 1 1 1 1\n",
      "0 0 1 0 0 0 1\n",
      "0 0 0 0 0 0 0\n",
      "1 0 1 1 1 1 1\n",
      "1 0 1 1 1 1 1\n",
      "0 0 1 0 0 0 1\n",
      "0 0 1 0 0 0 0\n"
     ]
    }
   ],
   "source": [
    "solution()"
   ]
  },
  {
   "attachments": {},
   "cell_type": "markdown",
   "metadata": {},
   "source": [
    "## Note"
   ]
  },
  {
   "cell_type": "markdown",
   "metadata": {},
   "source": [
    "* graph 예시: [[0, 1, 0], [0, 0, 1], [1, 0, 0]]\n",
    "* 현재 node간 연결 상태를 나타내는 graph를 만들고, 동일한 차원 크기의 모두 0으로 이루어진 connected를 만든다. 추후 connected에 경로를 표시\n"
   ]
  },
  {
   "cell_type": "markdown",
   "metadata": {},
   "source": [
    "### BFS\n",
    "* bfs를 정의해서 각 줄을 탐색하면서, 연결된 node가 있으면 해당 node의 번호를 queue에 넣고, visitied에 방문 여부를 표시한다.\n",
    "* connected에 각 node간 연결을 1로 표시한다. ex. graph[0]: [0, 1 ,0] 일때, 0번 node와 1번 node는 연결 되어있으니 connected[0][1]은 1로 표시한다.\n",
    "* 연결된 경로를 계속해서 탐색한다. graph[1]: [0, 0, 1] 이므로 node 0 - node1 - node 2는 서로 연결되어 있으므로 connected[0][2]도 1로 표시한다.\n",
    "* visited를 설정해 주지 않으면 queue에 연결된 node 번호가 계속해서 들어가고 탐색을 계속하기 때문에 while문이 무한히 반복된다.\n",
    "* print(*[])는 defalut: end = ' '으로 list 내의 모든 요소를 print 해준다 "
   ]
  },
  {
   "cell_type": "markdown",
   "metadata": {},
   "source": [
    "### DFS\n",
    "* dfs를 정의해서 방문 여부를 체크하는 list인 visited에 연결 여부를 체크하도록 만든다. 재귀함수를 이용하여 for문을 여러번 중첩하는 효과를 낼 수 있다.\n",
    "* for문을 이용해서 먼저 시작 node에서 연결된 node가 있으면 해당 node를 visited로 표시한다.\n",
    "* 재귀함수를 이용해서 해당 graph의 해당 node의 번호 index를 탐색하고 다시 연결된 node가 있으면 visited에 표시한다.\n",
    "* 이중 for문을 사용해서, 먼저 현재 node 번호(i)와 경로로 연결이 된 node의 index를 visited에 True로 표시하고, visited를 탐색해서 True면 1, False면 0을 print 한다\n",
    "* 해당 과정을 반복해서 모든 node를 탐색할 수 있게 한다."
   ]
  },
  {
   "attachments": {},
   "cell_type": "markdown",
   "metadata": {},
   "source": [
    "https://www.acmicpc.net/problem/11403"
   ]
  }
 ],
 "metadata": {
  "kernelspec": {
   "display_name": "ws1",
   "language": "python",
   "name": "python3"
  },
  "language_info": {
   "codemirror_mode": {
    "name": "ipython",
    "version": 3
   },
   "file_extension": ".py",
   "mimetype": "text/x-python",
   "name": "python",
   "nbconvert_exporter": "python",
   "pygments_lexer": "ipython3",
   "version": "3.11.3"
  },
  "orig_nbformat": 4,
  "vscode": {
   "interpreter": {
    "hash": "2856db72fb1e77597a3b14e9c1bb4d2315d342edc16fc9e25c6c6e499688b933"
   }
  }
 },
 "nbformat": 4,
 "nbformat_minor": 2
}
