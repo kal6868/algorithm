{
 "cells": [
  {
   "attachments": {},
   "cell_type": "markdown",
   "metadata": {},
   "source": [
    "# 그림 "
   ]
  },
  {
   "attachments": {},
   "cell_type": "markdown",
   "metadata": {},
   "source": [
    "## 문제"
   ]
  },
  {
   "cell_type": "markdown",
   "metadata": {},
   "source": [
    "* 어떤 큰 도화지에 그림이 그려져 있을 때, 그 그림의 개수와, 그 그림 중 넓이가 가장 넓은 것의 넓이를 출력하여라. 단, 그림이라는 것은 1로 연결된 것을 한 그림이라고 정의하자. 가로나 세로로 연결된 것은 연결이 된 것이고 대각선으로 연결이 된 것은 떨어진 그림이다. 그림의 넓이란 그림에 포함된 1의 개수이다."
   ]
  },
  {
   "attachments": {},
   "cell_type": "markdown",
   "metadata": {},
   "source": [
    "## 입력"
   ]
  },
  {
   "cell_type": "markdown",
   "metadata": {},
   "source": [
    "* 첫째 줄에 도화지의 세로 크기 n(1 ≤ n ≤ 500)과 가로 크기 m(1 ≤ m ≤ 500)이 차례로 주어진다. 두 번째 줄부터 n+1 줄 까지 그림의 정보가 주어진다. (단 그림의 정보는 0과 1이 공백을 두고 주어지며, 0은 색칠이 안된 부분, 1은 색칠이 된 부분을 의미한다)"
   ]
  },
  {
   "attachments": {},
   "cell_type": "markdown",
   "metadata": {},
   "source": [
    "## 출력"
   ]
  },
  {
   "cell_type": "markdown",
   "metadata": {},
   "source": [
    "* 첫째 줄에는 그림의 개수, 둘째 줄에는 그 중 가장 넓은 그림의 넓이를 출력하여라. 단, 그림이 하나도 없는 경우에는 가장 넓은 그림의 넓이는 0이다."
   ]
  },
  {
   "attachments": {},
   "cell_type": "markdown",
   "metadata": {},
   "source": [
    "## Code"
   ]
  },
  {
   "cell_type": "code",
   "execution_count": 1,
   "metadata": {},
   "outputs": [],
   "source": [
    "# 1926번_그림\n",
    "import sys\n",
    "from collections import deque\n",
    "submit = False\n",
    "\n",
    "def bfs(start_y, start_x, graph):\n",
    "    stack, count = deque(), 1\n",
    "    limit_y, limit_x = len(graph), len(graph[0])\n",
    "    graph[start_y][start_x] = 0\n",
    "    stack.append((start_y, start_x))\n",
    "\n",
    "    dy, dx = [-1, 1, 0, 0], [0, 0, -1, 1]\n",
    "    while stack:\n",
    "        y, x = stack.popleft()            \n",
    "        for i in range(4):\n",
    "            ny, nx = y + dy[i], x + dx[i]\n",
    "            if (0 <= ny < limit_y) & (0 <= nx < limit_x):\n",
    "                if graph[ny][nx] == 1:\n",
    "                    stack.append((ny, nx))\n",
    "                    graph[ny][nx] = 0\n",
    "                    count += 1\n",
    "    return count\n",
    "\n",
    "def solution():\n",
    "    n, m = map(int, sys.stdin.readline().split()) if submit else map(int, input().split())\n",
    "    paper = [list(map(int, sys.stdin.readline().split())) if submit else list(map(int, input().split())) for _ in range(n)]\n",
    "\n",
    "    paint_size = []\n",
    "    for i in range(n):\n",
    "        for j in range(m):\n",
    "            if paper[i][j] == 1:\n",
    "                paint_size.append(bfs(i, j, paper))\n",
    "    print(len(paint_size), max(paint_size), sep='\\n') if paint_size else print(0, 0, sep='\\n')"
   ]
  },
  {
   "cell_type": "code",
   "execution_count": 2,
   "metadata": {},
   "outputs": [
    {
     "name": "stdout",
     "output_type": "stream",
     "text": [
      "4\n",
      "9\n"
     ]
    }
   ],
   "source": [
    "solution()"
   ]
  },
  {
   "cell_type": "markdown",
   "metadata": {},
   "source": [
    "* 1. dfs를 이용해서 1을 만났을 때 상, 하, 좌, 우로 연결된 1을 모두 찾아 0으로 바꾸고 그림의 크기를 찾는다.\n",
    "    * 1\\) 주어진 1의 좌표에서 상, 하, 좌, 우에 있는 1의 좌표를 찾아 해당 좌표를 기준으로 다시 dfs를 실행한다(재귀함수).\n",
    "    * 2\\) 인근에 1이 없을때 까지 반복한다.\n",
    "\n",
    "* 2. 찾은 그림의 크기를 빈 List(paint_size)에 추가한 뒤 줄바꿈을 사용하여 그림의 개수와 가장 큰 그림의 크기를 출력한다.\n",
    "    * 1\\) List에 아무것도 없을 경우 줄바꿈을 사용하여 0을 두번 출력한다."
   ]
  },
  {
   "attachments": {},
   "cell_type": "markdown",
   "metadata": {},
   "source": [
    "## Note"
   ]
  },
  {
   "attachments": {},
   "cell_type": "markdown",
   "metadata": {},
   "source": [
    "https://www.acmicpc.net/problem/1926"
   ]
  }
 ],
 "metadata": {
  "kernelspec": {
   "display_name": "ws1",
   "language": "python",
   "name": "python3"
  },
  "language_info": {
   "codemirror_mode": {
    "name": "ipython",
    "version": 3
   },
   "file_extension": ".py",
   "mimetype": "text/x-python",
   "name": "python",
   "nbconvert_exporter": "python",
   "pygments_lexer": "ipython3",
   "version": "3.11.5"
  },
  "orig_nbformat": 4,
  "vscode": {
   "interpreter": {
    "hash": "2856db72fb1e77597a3b14e9c1bb4d2315d342edc16fc9e25c6c6e499688b933"
   }
  }
 },
 "nbformat": 4,
 "nbformat_minor": 2
}
