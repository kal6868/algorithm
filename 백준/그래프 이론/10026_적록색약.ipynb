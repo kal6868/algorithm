{
 "cells": [
  {
   "attachments": {},
   "cell_type": "markdown",
   "metadata": {},
   "source": [
    "# 적록색약"
   ]
  },
  {
   "attachments": {},
   "cell_type": "markdown",
   "metadata": {},
   "source": [
    "## 문제"
   ]
  },
  {
   "attachments": {},
   "cell_type": "markdown",
   "metadata": {},
   "source": [
    "* 적록색약은 빨간색과 초록색의 차이를 거의 느끼지 못한다. 따라서, 적록색약인 사람이 보는 그림은 아닌 사람이 보는 그림과는 좀 다를 수 있다."
   ]
  },
  {
   "cell_type": "markdown",
   "metadata": {},
   "source": [
    "* 크기가 N×N인 그리드의 각 칸에 R(빨강), G(초록), B(파랑) 중 하나를 색칠한 그림이 있다. 그림은 몇 개의 구역으로 나뉘어져 있는데, 구역은 같은 색으로 이루어져 있다. 또, 같은 색상이 상하좌우로 인접해 있는 경우에 두 글자는 같은 구역에 속한다. (색상의 차이를 거의 느끼지 못하는 경우도 같은 색상이라 한다)"
   ]
  },
  {
   "cell_type": "markdown",
   "metadata": {},
   "source": [
    "* 예를 들어, 그림이 아래와 같은 경우에"
   ]
  },
  {
   "cell_type": "markdown",
   "metadata": {},
   "source": [
    "||||||\n",
    "|---|---|---|---|---|\n",
    "|R|R|R|B|B|\n",
    "|G|G|B|B|B|\n",
    "|B|B|B|R|R|\n",
    "|B|B|R|R|R|\n",
    "|R|R|R|R|R|"
   ]
  },
  {
   "cell_type": "markdown",
   "metadata": {},
   "source": [
    "* 적록색약이 아닌 사람이 봤을 때 구역의 수는 총 4개이다. (빨강 2, 파랑 1, 초록 1) 하지만, 적록색약인 사람은 구역을 3개 볼 수 있다. (빨강-초록 2, 파랑 1)"
   ]
  },
  {
   "cell_type": "markdown",
   "metadata": {},
   "source": [
    "* 그림이 입력으로 주어졌을 때, 적록색약인 사람이 봤을 때와 아닌 사람이 봤을 때 구역의 수를 구하는 프로그램을 작성하시오."
   ]
  },
  {
   "attachments": {},
   "cell_type": "markdown",
   "metadata": {},
   "source": [
    "## 입력"
   ]
  },
  {
   "attachments": {},
   "cell_type": "markdown",
   "metadata": {},
   "source": [
    "* 첫째 줄에 N이 주어진다. (1 ≤ N ≤ 100)"
   ]
  },
  {
   "cell_type": "markdown",
   "metadata": {},
   "source": [
    "* 둘째 줄부터 N개 줄에는 그림이 주어진다."
   ]
  },
  {
   "attachments": {},
   "cell_type": "markdown",
   "metadata": {},
   "source": [
    "## 출력"
   ]
  },
  {
   "attachments": {},
   "cell_type": "markdown",
   "metadata": {},
   "source": [
    "* 적록색약이 아닌 사람이 봤을 때의 구역의 개수와 적록색약인 사람이 봤을 때의 구역의 수를 공백으로 구분해 출력한다."
   ]
  },
  {
   "attachments": {},
   "cell_type": "markdown",
   "metadata": {},
   "source": [
    "## Code"
   ]
  },
  {
   "cell_type": "code",
   "execution_count": 1,
   "metadata": {},
   "outputs": [],
   "source": [
    "# 10026_적록색약 # bfs 풀이 2\n",
    "\n",
    "import sys\n",
    "from collections import deque\n",
    "\n",
    "submit = False\n",
    "input = sys.stdin.readline if submit else input\n",
    "\n",
    "def bfs(start_y, start_x, color, graph, visited):\n",
    "    stack = deque()\n",
    "    stack.append((start_x, start_y))\n",
    "    dx, dy = [-1, 1, 0 ,0], [0, 0, -1, 1]\n",
    "    x_range, y_range = len(graph[0]), len(graph)\n",
    "    visited[start_y][start_x] = True\n",
    "    while stack:\n",
    "        x, y = stack.popleft()\n",
    "        for i in range(4):\n",
    "            nx, ny = x + dx[i], y + dy[i]\n",
    "            if (0 <= nx < x_range) & (0 <= ny < y_range):\n",
    "                if (graph[ny][nx] == color) & (not visited[ny][nx]):\n",
    "                    stack.append((nx, ny))\n",
    "                    visited[ny][nx] = True\n",
    "\n",
    "def solution():\n",
    "    N = int(input())\n",
    "    graph = [list(input()) for _ in range(N)]\n",
    "    visited = [[False] * len(graph[0]) for _ in range(N)]\n",
    "\n",
    "    a = 0\n",
    "    for i in range(len(graph)):\n",
    "        for j in range(len(graph[0])):\n",
    "            if not visited[i][j]:\n",
    "                bfs(i, j, graph[i][j], graph, visited)\n",
    "                a += 1\n",
    "\n",
    "    for i in range(len(graph)):\n",
    "        for j in range(len(graph[0])):\n",
    "            if graph[i][j] == 'R':\n",
    "                graph[i][j] = 'G'\n",
    "\n",
    "    b = 0\n",
    "    visited = [[False] * len(graph[0]) for _ in range(N)]\n",
    "    for i in range(len(graph)):\n",
    "        for j in range(len(graph[0])):\n",
    "            if not visited[i][j]:\n",
    "                bfs(i, j, graph[i][j], graph, visited)\n",
    "                b += 1\n",
    "    print(a, b)"
   ]
  },
  {
   "cell_type": "code",
   "execution_count": null,
   "metadata": {},
   "outputs": [],
   "source": [
    "# 10026_적록색약 # 그래프 이론 # bfs 풀이 2\n",
    "\n",
    "import sys\n",
    "from collections import deque\n",
    "\n",
    "submit = False\n",
    "input = sys.stdin.readline if submit else input\n",
    "\n",
    "N = int(input())\n",
    "graph = [list(input().rstrip()) for _ in range(N)]\n",
    "visited = [[False] * len(graph[0]) for _ in range(N)]\n",
    "\n",
    "def bfs(start_y, start_x, color, graph, visited):\n",
    "    stack = deque()\n",
    "    stack.append((start_x, start_y))\n",
    "    dx, dy = [-1, 1, 0 ,0], [0, 0, -1, 1]\n",
    "    x_range, y_range = len(graph[0]), len(graph)\n",
    "    visited[start_y][start_x] = True\n",
    "    while stack:\n",
    "        x, y = stack.popleft()\n",
    "        for i in range(4):\n",
    "            nx, ny = x + dx[i], y + dy[i]\n",
    "            if (0 <= nx < x_range) & (0 <= ny < y_range):\n",
    "                if (graph[ny][nx] == color) & (not visited[ny][nx]):\n",
    "                    stack.append((nx, ny))\n",
    "                    visited[ny][nx] = True\n",
    "\n",
    "def ch_graph(start_y, start_x, graph):\n",
    "    stack = deque()\n",
    "    stack.append((start_x, start_y))\n",
    "    dx, dy = [-1, 1, 0 ,0], [0, 0, -1, 1]\n",
    "    x_range, y_range = len(graph[0]), len(graph)\n",
    "    graph[start_y][start_x] = 'G'\n",
    "\n",
    "    while stack:\n",
    "        x, y = stack.popleft()\n",
    "        for i in range(4):\n",
    "            nx, ny = x + dx[i], y + dy[i]\n",
    "            if (0 <= nx < x_range) & (0 <= ny < y_range):\n",
    "                if (graph[ny][nx] == 'R'):\n",
    "                    stack.append((nx, ny))\n",
    "                    graph[ny][nx] = 'G'\n",
    "def solution():\n",
    "    a = 0\n",
    "    for i in range(len(graph)):\n",
    "        for j in range(len(graph[0])):\n",
    "            if not visited[i][j]:\n",
    "                bfs(i, j, graph[i][j], graph, visited)\n",
    "                a += 1\n",
    "    b = 0\n",
    "    visited = [[False] * len(graph[0]) for _ in range(N)]\n",
    "    for i in range(len(graph)):\n",
    "        for j in range(len(graph[0])):\n",
    "            if graph[i][j] == 'R':\n",
    "                ch_graph(i, j, graph)\n",
    "\n",
    "    for i in range(len(graph)):\n",
    "        for j in range(len(graph[0])):\n",
    "            if not visited[i][j]:\n",
    "                bfs(i, j, graph[i][j], graph, visited)\n",
    "                b += 1\n",
    "    print(a, b)"
   ]
  },
  {
   "cell_type": "code",
   "execution_count": null,
   "metadata": {},
   "outputs": [],
   "source": [
    "# 10026_적록색약 # 풀이 2 dfs\n",
    "\n",
    "import sys\n",
    "sys.setrecursionlimit(1000000)\n",
    "\n",
    "submit = False\n",
    "input = sys.stdin.readline if submit else input\n",
    "\n",
    "N = int(input())\n",
    "graph = [list(input().rstrip()) for _ in range(N)]\n",
    "visited = [[False] * len(graph[0]) for _ in range(N)]\n",
    "\n",
    "def dfs(start_y, start_x, color, graph, visited):\n",
    "    dx, dy = [-1, 1, 0 ,0], [0, 0, -1, 1]\n",
    "    x_range, y_range = len(graph[0]), len(graph)\n",
    "    visited[start_y][start_x] = True\n",
    "    for i in range(4):\n",
    "        nx, ny = start_x + dx[i], start_y + dy[i]\n",
    "        if (0 <= nx < x_range) & (0 <= ny < y_range):\n",
    "            if (graph[ny][nx] == color) & (not visited[ny][nx]):\n",
    "                visited[ny][nx] = True\n",
    "                dfs(ny, nx, color, graph, visited)\n",
    "                \n",
    "def solution():\n",
    "    a = 0\n",
    "    for i in range(len(graph)):\n",
    "        for j in range(len(graph[0])):\n",
    "            if not visited[i][j]:\n",
    "                dfs(i, j, graph[i][j], graph, visited)\n",
    "                a += 1\n",
    "\n",
    "    for i in range(len(graph)):\n",
    "        for j in range(len(graph[0])):\n",
    "            if graph[i][j] == 'R':\n",
    "                graph[i][j] = 'G'\n",
    "\n",
    "    b = 0\n",
    "    visited = [[False] * len(graph[0]) for _ in range(N)]\n",
    "    for i in range(len(graph)):\n",
    "        for j in range(len(graph[0])):\n",
    "            if not visited[i][j]:\n",
    "                dfs(i, j, graph[i][j], graph, visited)\n",
    "                b += 1\n",
    "    print(a, b)\n"
   ]
  },
  {
   "attachments": {},
   "cell_type": "markdown",
   "metadata": {},
   "source": [
    "## 예제입력 - 출력"
   ]
  },
  {
   "cell_type": "code",
   "execution_count": 2,
   "metadata": {},
   "outputs": [
    {
     "name": "stdout",
     "output_type": "stream",
     "text": [
      "4 3\n"
     ]
    }
   ],
   "source": [
    "solution()"
   ]
  },
  {
   "attachments": {},
   "cell_type": "markdown",
   "metadata": {},
   "source": [
    "## Note"
   ]
  },
  {
   "cell_type": "markdown",
   "metadata": {},
   "source": [
    "### 풀이 1\n",
    "\n",
    "* 1. bfs를 이용하여 같은 색으로 이루어진 구역의 개수를 구한다\n",
    "    * 1\\) bfs\n",
    "        * N X N을 구현하기 위한 graph와 N X N의 index([i][j])의 방문 여부를 표시하는 visited를 만들어 index의 재방문을 막는다.\n",
    "        * bfs를 통해 상, 하, 좌, 우 index에 동일한 문자가 있는지 확인 및 방문 여부를 확인 후 동일 문자의 index를 deque에 추가한다.\n",
    "        * 인근에 동일한 문자열이 없을 때까지 진행하며, 방문한 index는 visited에 Boolen으로 표시하여 다음 bfs를 실행할때는 방문하지 않게 한다.\n",
    "\n",
    "* 2. for문으로 graph를 탐색하면서 bfs를 실행하고, 구역의 개수를 구한다\n",
    "* 3. for문으로 graph를 탐색하면서 'R'문자열을 'G'로 바꾼 후 visited를 초기화하고 다시 한번 bfs로 구역의 개수를 구한다."
   ]
  },
  {
   "cell_type": "markdown",
   "metadata": {},
   "source": [
    "### 풀이 2\n",
    "\n",
    "* 1. bfs를 이용하여 같은 색으로 이루어진 구역의 개수를 구한다\n",
    "    * 1\\) bfs\n",
    "        * N X N을 구현하기 위한 graph와 N X N의 index([i][j])의 방문 여부를 표시하는 visited를 만들어 index의 재방문을 막는다.\n",
    "        * bfs를 통해 상, 하, 좌, 우 index에 동일한 문자가 있는지 확인 및 방문 여부를 확인 후 동일 문자의 index를 deque에 추가한다.\n",
    "        * 인근에 동일한 문자열이 없을 때까지 진행하며, 방문한 index는 visited에 Boolen으로 표시하여 다음 bfs를 실행할때는 방문하지 않게 한다.\n",
    "\n",
    "* 2. for문으로 N X N의 graph를 탐색하면서 bfs를 실행하고, 구역의 개수를 구한다\n",
    "* 3. ch_graph으로 명명한 bfs를 사용하여 'R'문자열을 'G'로 바꾼 후 visited를 초기화하고 다시 한번 bfs로 구역의 개수를 구한다.\n",
    "    * graph를 탐색하면서 'R'을 만나면 해당 index 인근에 있는 'R'의 index를 탐색하면서 모두 'G'로 바꿔준다."
   ]
  },
  {
   "attachments": {},
   "cell_type": "markdown",
   "metadata": {},
   "source": [
    "https://www.acmicpc.net/problem/10026"
   ]
  }
 ],
 "metadata": {
  "kernelspec": {
   "display_name": "ws1",
   "language": "python",
   "name": "python3"
  },
  "language_info": {
   "codemirror_mode": {
    "name": "ipython",
    "version": 3
   },
   "file_extension": ".py",
   "mimetype": "text/x-python",
   "name": "python",
   "nbconvert_exporter": "python",
   "pygments_lexer": "ipython3",
   "version": "3.12.4"
  },
  "orig_nbformat": 4,
  "vscode": {
   "interpreter": {
    "hash": "2856db72fb1e77597a3b14e9c1bb4d2315d342edc16fc9e25c6c6e499688b933"
   }
  }
 },
 "nbformat": 4,
 "nbformat_minor": 2
}
