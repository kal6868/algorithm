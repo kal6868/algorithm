{
 "cells": [
  {
   "attachments": {},
   "cell_type": "markdown",
   "metadata": {},
   "source": [
    "# 녹색 옷 입은 애가 젤다지?"
   ]
  },
  {
   "attachments": {},
   "cell_type": "markdown",
   "metadata": {},
   "source": [
    "## 문제"
   ]
  },
  {
   "attachments": {},
   "cell_type": "markdown",
   "metadata": {},
   "source": [
    "* 젤다의 전설 게임에서 화폐의 단위는 루피(rupee)다. 그런데 간혹 '도둑루피'라 불리는 검정색 루피도 존재하는데, 이걸 획득하면 오히려 소지한 루피가 감소하게 된다!"
   ]
  },
  {
   "cell_type": "markdown",
   "metadata": {},
   "source": [
    "* 젤다의 전설 시리즈의 주인공, 링크는 지금 도둑루피만 가득한 N x N 크기의 동굴의 제일 왼쪽 위에 있다. [0][0]번 칸이기도 하다. 왜 이런 곳에 들어왔냐고 묻는다면 밖에서 사람들이 자꾸 \"젤다의 전설에 나오는 녹색 애가 젤다지?\"라고 물어봤기 때문이다. 링크가 녹색 옷을 입은 주인공이고 젤다는 그냥 잡혀있는 공주인데, 게임 타이틀에 젤다가 나와있다고 자꾸 사람들이 이렇게 착각하니까 정신병에 걸릴 위기에 놓인 것이다."
   ]
  },
  {
   "cell_type": "markdown",
   "metadata": {},
   "source": [
    "* 하여튼 젤다...아니 링크는 이 동굴의 반대편 출구, 제일 오른쪽 아래 칸인 [N-1][N-1]까지 이동해야 한다. 동굴의 각 칸마다 도둑루피가 있는데, 이 칸을 지나면 해당 도둑루피의 크기만큼 소지금을 잃게 된다. 링크는 잃는 금액을 최소로 하여 동굴 건너편까지 이동해야 하며, 한 번에 상하좌우 인접한 곳으로 1칸씩 이동할 수 있다."
   ]
  },
  {
   "cell_type": "markdown",
   "metadata": {},
   "source": [
    "* 링크가 잃을 수밖에 없는 최소 금액은 얼마일까?"
   ]
  },
  {
   "attachments": {},
   "cell_type": "markdown",
   "metadata": {},
   "source": [
    "## 입력"
   ]
  },
  {
   "attachments": {},
   "cell_type": "markdown",
   "metadata": {},
   "source": [
    "* 입력은 여러 개의 테스트 케이스로 이루어져 있다."
   ]
  },
  {
   "cell_type": "markdown",
   "metadata": {},
   "source": [
    "* 각 테스트 케이스의 첫째 줄에는 동굴의 크기를 나타내는 정수 N이 주어진다. (2 ≤ N ≤ 125) N = 0인 입력이 주어지면 전체 입력이 종료된다."
   ]
  },
  {
   "cell_type": "markdown",
   "metadata": {},
   "source": [
    "* 이어서 N개의 줄에 걸쳐 동굴의 각 칸에 있는 도둑루피의 크기가 공백으로 구분되어 차례대로 주어진다. 도둑루피의 크기가 k면 이 칸을 지나면 k루피를 잃는다는 뜻이다. 여기서 주어지는 모든 정수는 0 이상 9 이하인 한 자리 수다."
   ]
  },
  {
   "attachments": {},
   "cell_type": "markdown",
   "metadata": {},
   "source": [
    "## 출력"
   ]
  },
  {
   "attachments": {},
   "cell_type": "markdown",
   "metadata": {},
   "source": [
    "* 각 테스트 케이스마다 한 줄에 걸쳐 정답을 형식에 맞춰서 출력한다. 형식은 예제 출력을 참고하시오."
   ]
  },
  {
   "attachments": {},
   "cell_type": "markdown",
   "metadata": {},
   "source": [
    "## Code"
   ]
  },
  {
   "cell_type": "code",
   "execution_count": 1,
   "metadata": {},
   "outputs": [],
   "source": [
    "# 4485_녹색 옷 입은 애가 젤다지? # bfs 풀이\n",
    "\n",
    "import sys\n",
    "from collections import deque\n",
    "\n",
    "submit = False\n",
    "input = sys.stdin.readline if submit else input\n",
    "\n",
    "def bfs(st_y, st_x, graph, cost):\n",
    "    stack = deque([(st_x, st_y)])\n",
    "    x_range, y_range = len(graph[0]), len(graph)\n",
    "    dx, dy = [-1, 1, 0, 0], [0, 0, -1, 1]\n",
    "\n",
    "    while stack:\n",
    "        x, y = stack.popleft()\n",
    "        for i in range(4):\n",
    "            nx, ny = x + dx[i], y + dy[i]\n",
    "            if (0 <= nx < x_range) & (0 <= ny < y_range):\n",
    "                if cost[ny][nx] > graph[ny][nx] + cost[y][x]:\n",
    "                    cost[ny][nx] = graph[ny][nx] + cost[y][x]\n",
    "                    stack.append((nx, ny))        \n",
    "\n",
    "def solution():\n",
    "    count = 1\n",
    "    while True:\n",
    "        N = int(input())\n",
    "        if N == 0:\n",
    "            break\n",
    "        graph = [list(map(int, input().split())) for _ in range(N)]\n",
    "        cost = [[float('inf')]*len(graph[0]) for _ in range(N)]\n",
    "        cost[0][0] = graph[0][0]\n",
    "        bfs(0, 0, graph, cost)\n",
    "        print(f'Problem {count}: {cost[-1][-1]}')\n",
    "        count += 1"
   ]
  },
  {
   "cell_type": "code",
   "execution_count": null,
   "metadata": {},
   "outputs": [],
   "source": [
    "# 4485_녹색 옷 입은 애가 젤다지? # dfs 풀이 # 시간 초과\n",
    "\n",
    "import sys\n",
    "sys.setrecursionlimit(1000000)\n",
    "\n",
    "submit = False\n",
    "input = sys.stdin.readline if submit else input\n",
    "\n",
    "def dfs(y, x, graph, cost):\n",
    "    x_range, y_range = len(graph[0]), len(graph)\n",
    "    dx, dy = [-1, 1, 0, 0], [0, 0, -1, 1]\n",
    "\n",
    "    for i in range(4):\n",
    "        nx, ny = x + dx[i], y + dy[i]\n",
    "        if (0 <= nx < x_range) & (0 <= ny < y_range):\n",
    "            if cost[ny][nx] > graph[ny][nx] + cost[y][x]:\n",
    "                cost[ny][nx] = graph[ny][nx] + cost[y][x]\n",
    "                dfs(ny, nx, graph, cost)\n",
    "\n",
    "def solution():\n",
    "    count = 1\n",
    "    while True:\n",
    "        N = int(input())\n",
    "        if N == 0:\n",
    "            break\n",
    "        graph = [list(map(int, input().split())) for _ in range(N)]\n",
    "        cost = [[float('inf')]*len(graph[0]) for _ in range(N)]\n",
    "        cost[0][0] = graph[0][0]\n",
    "        dfs(0, 0, graph, cost)\n",
    "        print(f'Problem {count}: {cost[-1][-1]}')\n",
    "        count += 1"
   ]
  },
  {
   "attachments": {},
   "cell_type": "markdown",
   "metadata": {},
   "source": [
    "## 예제입력 - 출력"
   ]
  },
  {
   "cell_type": "code",
   "execution_count": 2,
   "metadata": {},
   "outputs": [
    {
     "name": "stdout",
     "output_type": "stream",
     "text": [
      "Problem 1: 20\n",
      "Problem 2: 19\n",
      "Problem 3: 36\n"
     ]
    }
   ],
   "source": [
    "solution()"
   ]
  },
  {
   "attachments": {},
   "cell_type": "markdown",
   "metadata": {},
   "source": [
    "## Note"
   ]
  },
  {
   "cell_type": "markdown",
   "metadata": {},
   "source": [
    "* 1. 엄청 큰 값(inf)으로 채워진 List(cost)를 만들고 graph를 탐색하면서 bfs로 최소값을 갱신한다.\n",
    "    * 1\\) eg. graph = [[5, 5, 4], [3, 9, 1], [3, 2, 7]], cost = [[inf, inf, inf], [inf, inf, inf], [inf, inf, inf]]를 만든다.\n",
    "        * step 1: [[5, 10, inf], [8, inf, inf], [inf, inf, inf]], stack= [(0, 1), (1, 0)]\n",
    "        * step 2: [[5, 10, inf], [8, 17, inf], [inf, inf, inf]]에서 (1, 1) index의 값은 5 + 5 + 9 = 19에서 5 + 3 + 9 = 17로 최신화된다.\n",
    "    * 2\\) 1\\)의 과정을 반복하면서 상, 하, 좌, 우를 탐색하면서 최소값으로만 최신화 시키면 graph의 마지막 값은 최소값으로 갱신된다."
   ]
  },
  {
   "attachments": {},
   "cell_type": "markdown",
   "metadata": {},
   "source": [
    "https://www.acmicpc.net/problem/4485"
   ]
  }
 ],
 "metadata": {
  "kernelspec": {
   "display_name": "ws1",
   "language": "python",
   "name": "python3"
  },
  "language_info": {
   "codemirror_mode": {
    "name": "ipython",
    "version": 3
   },
   "file_extension": ".py",
   "mimetype": "text/x-python",
   "name": "python",
   "nbconvert_exporter": "python",
   "pygments_lexer": "ipython3",
   "version": "3.12.4"
  },
  "orig_nbformat": 4,
  "vscode": {
   "interpreter": {
    "hash": "2856db72fb1e77597a3b14e9c1bb4d2315d342edc16fc9e25c6c6e499688b933"
   }
  }
 },
 "nbformat": 4,
 "nbformat_minor": 2
}
