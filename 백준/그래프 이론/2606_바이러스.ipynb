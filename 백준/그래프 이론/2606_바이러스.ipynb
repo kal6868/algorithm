{
 "cells": [
  {
   "attachments": {},
   "cell_type": "markdown",
   "metadata": {},
   "source": [
    "# 바이러스"
   ]
  },
  {
   "attachments": {},
   "cell_type": "markdown",
   "metadata": {},
   "source": [
    "## 문제"
   ]
  },
  {
   "attachments": {},
   "cell_type": "markdown",
   "metadata": {},
   "source": [
    "* 신종 바이러스인 웜 바이러스는 네트워크를 통해 전파된다. 한 컴퓨터가 웜 바이러스에 걸리면 그 컴퓨터와 네트워크 상에서 연결되어 있는 모든 컴퓨터는 웜 바이러스에 걸리게 된다."
   ]
  },
  {
   "attachments": {},
   "cell_type": "markdown",
   "metadata": {},
   "source": [
    "* 예를 들어 7대의 컴퓨터가 <그림 1>과 같이 네트워크 상에서 연결되어 있다고 하자. 1번 컴퓨터가 웜 바이러스에 걸리면 웜 바이러스는 2번과 5번 컴퓨터를 거쳐 3번과 6번 컴퓨터까지 전파되어 2, 3, 5, 6 네 대의 컴퓨터는 웜 바이러스에 걸리게 된다. 하지만 4번과 7번 컴퓨터는 1번 컴퓨터와 네트워크상에서 연결되어 있지 않기 때문에 영향을 받지 않는다."
   ]
  },
  {
   "cell_type": "code",
   "execution_count": 3,
   "metadata": {},
   "outputs": [
    {
     "data": {
      "image/png": "[encoded data removed]",
      "text/plain": [
       "<IPython.core.display.Image object>"
      ]
     },
     "execution_count": 3,
     "metadata": {},
     "output_type": "execute_result"
    }
   ],
   "source": [
    "from IPython.display import Image\n",
    "Image('../image/2606_바이러스.png')"
   ]
  },
  {
   "attachments": {},
   "cell_type": "markdown",
   "metadata": {},
   "source": [
    "* 어느 날 1번 컴퓨터가 웜 바이러스에 걸렸다. 컴퓨터의 수와 네트워크 상에서 서로 연결되어 있는 정보가 주어질 때, 1번 컴퓨터를 통해 웜 바이러스에 걸리게 되는 컴퓨터의 수를 출력하는 프로그램을 작성하시오."
   ]
  },
  {
   "attachments": {},
   "cell_type": "markdown",
   "metadata": {},
   "source": [
    "## 입력"
   ]
  },
  {
   "attachments": {},
   "cell_type": "markdown",
   "metadata": {},
   "source": [
    "* 첫째 줄에는 컴퓨터의 수가 주어진다. 컴퓨터의 수는 100 이하인 양의 정수이고 각 컴퓨터에는 1번 부터 차례대로 번호가 매겨진다. 둘째 줄에는 네트워크 상에서 직접 연결되어 있는 컴퓨터 쌍의 수가 주어진다. 이어서 그 수만큼 한 줄에 한 쌍씩 네트워크 상에서 직접 연결되어 있는 컴퓨터의 번호 쌍이 주어진다."
   ]
  },
  {
   "attachments": {},
   "cell_type": "markdown",
   "metadata": {},
   "source": [
    "## 출력"
   ]
  },
  {
   "attachments": {},
   "cell_type": "markdown",
   "metadata": {},
   "source": [
    "* 1번 컴퓨터가 웜 바이러스에 걸렸을 때, 1번 컴퓨터를 통해 웜 바이러스에 걸리게 되는 컴퓨터의 수를 첫째 줄에 출력한다."
   ]
  },
  {
   "attachments": {},
   "cell_type": "markdown",
   "metadata": {},
   "source": [
    "## Code"
   ]
  },
  {
   "cell_type": "code",
   "execution_count": 4,
   "metadata": {},
   "outputs": [],
   "source": [
    "# 2606_바이러스(깊이 우선 탐색 DFS)\n",
    "import sys\n",
    "from collections import deque\n",
    "\n",
    "def find_infected_dfs(computer, practice_args):\n",
    "    N, M, graph, v_infected = practice_args\n",
    "\n",
    "    v_infected[computer] = True\n",
    "    for i in range(1, N+1):\n",
    "        # not v_infected[i]가 없으면 find_infected_dfs가 계속해서 실행되므로 무한번 반복한다.\n",
    "        if (not v_infected[i]) and (graph[computer][i] == 1):\n",
    "            find_infected_dfs(i, practice_args)\n",
    "    return sum(v_infected)-1\n",
    "\n",
    "def solution():\n",
    "    N = int(input())\n",
    "    M = int(input())\n",
    "    graph =  [[0]*(N+1) for _ in range(N+1)]\n",
    "    v_infected = [False]*(N+1) \n",
    "    practice_args = (N, M, graph, v_infected)\n",
    "\n",
    "    for i in range(M):\n",
    "        x, y = map(int, input().split())\n",
    "        # x, y = map(int, sys.stdin.readline().split())\n",
    "        graph[x][y] = 1\n",
    "        graph[y][x] = 1\n",
    "\n",
    "    print(find_infected_dfs(1, practice_args))\n"
   ]
  },
  {
   "cell_type": "code",
   "execution_count": null,
   "metadata": {},
   "outputs": [],
   "source": [
    "# 2606_바이러스(너비 우선 탐색 BFS)\n",
    "import sys\n",
    "from collections import deque\n",
    "\n",
    "# N = int(sys.stdin.readline().rstrip())\n",
    "# M = int(sys.stdin.readline().rstrip())\n",
    "N = int(input())\n",
    "M = int(input())\n",
    "graph =  [[0]*(N+1) for _ in range(N+1)]\n",
    "v_infected = [False]*(N+1) \n",
    "practice_args = (N, M, graph, v_infected)\n",
    "\n",
    "def find_infected_bfs(computer, practice_args):\n",
    "    N, M, graph, v_infected = practice_args\n",
    "    queue = deque()\n",
    "    queue.append(computer)\n",
    "    while queue:\n",
    "        c_point = queue.popleft()\n",
    "        for i in range(N+1):\n",
    "            if (not v_infected[i]) and graph[c_point][i] == 1:\n",
    "                v_infected[i] = True\n",
    "                queue.append(i)\n",
    "    return sum(v_infected) - 1\n",
    "\n",
    "for i in range(M):\n",
    "    x, y = map(int, input().split())\n",
    "    # x, y = map(int, sys.stdin.readline().split())\n",
    "    graph[x][y] = 1\n",
    "    graph[y][x] = 1\n",
    "\n",
    "print(find_infected_bfs(1, practice_args))"
   ]
  },
  {
   "attachments": {},
   "cell_type": "markdown",
   "metadata": {},
   "source": [
    "## 예제입력"
   ]
  },
  {
   "cell_type": "code",
   "execution_count": 5,
   "metadata": {},
   "outputs": [
    {
     "name": "stdout",
     "output_type": "stream",
     "text": [
      "4\n"
     ]
    }
   ],
   "source": [
    "solution()"
   ]
  },
  {
   "attachments": {},
   "cell_type": "markdown",
   "metadata": {},
   "source": [
    "## Note"
   ]
  },
  {
   "attachments": {},
   "cell_type": "markdown",
   "metadata": {},
   "source": [
    "# DFS\n",
    "\n",
    "* 탐색 여부를 저장하는 List(v_infected)를 만든다. 탐색 여부를 저장하지 않으면 재귀함수가 무한대로 반복하게 된다.\n",
    "* for문을 사용해서 2차원 List에 컴퓨터들의 연결 상태를 저장한다. \n",
    "* ex. graph[1][2] == graph[2][1]이면 2번 컴퓨터와 1번 컴퓨터가 연결되어 있다는 뜻이다.\n",
    "* 컴퓨터가 연결 된 순서대로 탐색 여부를 False에서 True로 변환한다. 더 이상 연결된 컴퓨터가 없으면 함수가 순서대로 종료되고 for문으로 돌아온다.\n",
    "* 탐색한 컴퓨터의 대수-1를 정답으로 반환한다.\n"
   ]
  },
  {
   "cell_type": "markdown",
   "metadata": {},
   "source": [
    "# BFS\n",
    "\n",
    "* 탐색 여부를 저장하는 List(v_infected)를 만들어, 한번 탐색했던 컴퓨터는 탐색하지 않도록 한다.\n",
    "* queue에 맨 처음 컴퓨터(1)을 넣고, 해당 컴퓨터와 연결된 모든 컴퓨터를 queue에 추가하면서 해당 컴퓨터의 탐색 여부(v_infected)를 True로 바꾼다.\n",
    "* for문을 사용해서 2차원 List에 컴퓨터들의 연결 상태를 저장한다. \n",
    "* ex. graph[1][2] == graph[2][1]이면 2번 컴퓨터와 1번 컴퓨터가 연결되어 있다는 뜻이다.\n",
    "* 더 이상 탐색할 컴퓨터가 없으면 queue에는 아무것도 없게 되므로 while문이 종료된다."
   ]
  },
  {
   "attachments": {},
   "cell_type": "markdown",
   "metadata": {},
   "source": [
    "https://www.acmicpc.net/problem/2606"
   ]
  }
 ],
 "metadata": {
  "kernelspec": {
   "display_name": "ws1",
   "language": "python",
   "name": "python3"
  },
  "language_info": {
   "codemirror_mode": {
    "name": "ipython",
    "version": 3
   },
   "file_extension": ".py",
   "mimetype": "text/x-python",
   "name": "python",
   "nbconvert_exporter": "python",
   "pygments_lexer": "ipython3",
   "version": "3.9.13"
  },
  "orig_nbformat": 4,
  "vscode": {
   "interpreter": {
    "hash": "2856db72fb1e77597a3b14e9c1bb4d2315d342edc16fc9e25c6c6e499688b933"
   }
  }
 },
 "nbformat": 4,
 "nbformat_minor": 2
}
