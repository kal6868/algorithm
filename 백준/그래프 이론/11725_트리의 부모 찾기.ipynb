{
 "cells": [
  {
   "attachments": {},
   "cell_type": "markdown",
   "metadata": {},
   "source": [
    "# 트리의 부모 찾기"
   ]
  },
  {
   "attachments": {},
   "cell_type": "markdown",
   "metadata": {},
   "source": [
    "## 문제"
   ]
  },
  {
   "attachments": {},
   "cell_type": "markdown",
   "metadata": {},
   "source": [
    "* 루트 없는 트리가 주어진다. 이때, 트리의 루트를 1이라고 정했을 때, 각 노드의 부모를 구하는 프로그램을 작성하시오."
   ]
  },
  {
   "attachments": {},
   "cell_type": "markdown",
   "metadata": {},
   "source": [
    "## 입력"
   ]
  },
  {
   "attachments": {},
   "cell_type": "markdown",
   "metadata": {},
   "source": [
    "* 첫째 줄에 노드의 개수 N (2 ≤ N ≤ 100,000)이 주어진다. 둘째 줄부터 N-1개의 줄에 트리 상에서 연결된 두 정점이 주어진다."
   ]
  },
  {
   "attachments": {},
   "cell_type": "markdown",
   "metadata": {},
   "source": [
    "## 출력"
   ]
  },
  {
   "attachments": {},
   "cell_type": "markdown",
   "metadata": {},
   "source": [
    "* 첫째 줄부터 N-1개의 줄에 각 노드의 부모 노드 번호를 2번 노드부터 순서대로 출력한다."
   ]
  },
  {
   "attachments": {},
   "cell_type": "markdown",
   "metadata": {},
   "source": [
    "## Code"
   ]
  },
  {
   "cell_type": "code",
   "execution_count": 3,
   "metadata": {},
   "outputs": [],
   "source": [
    "#11725 트리의 부모 찾기(bfs)\n",
    "import sys\n",
    "from collections import deque\n",
    "\n",
    "def bfs(graph, answer, st_point, visited):\n",
    "    queue = deque()\n",
    "    queue.append(st_point)\n",
    "    visited[st_point] = True\n",
    "\n",
    "    while queue:\n",
    "        point = queue.popleft()\n",
    "        for i in graph[point]:\n",
    "            if not visited[i]:\n",
    "                answer[i] = point\n",
    "                queue.append(i)\n",
    "                visited[i] = True\n",
    "\n",
    "def solution():\n",
    "    N = int(input())\n",
    "    # N = int(sys.stdin.readline())\n",
    "\n",
    "    visited = [False] * (N+1)\n",
    "    graph = [[] for _ in range(N+1)]\n",
    "    answer = [0]*(N+1)\n",
    "    for _ in range(N-1):\n",
    "        a, b = map(int, input().split())\n",
    "        # a, b = map(int, sys.stdin.readline().split())\n",
    "        graph[a].append(b)\n",
    "        graph[b].append(a)\n",
    "\n",
    "    bfs(graph, answer, 1, visited)\n",
    "    for i in answer[2:]:\n",
    "        print(i)"
   ]
  },
  {
   "cell_type": "code",
   "execution_count": null,
   "metadata": {},
   "outputs": [],
   "source": [
    "#11725 트리의 부모 찾기(dfs)\n",
    "import sys\n",
    "from collections import deque\n",
    "sys.setrecursionlimit(1000000)\n",
    "\n",
    "def dfs(graph, st_point, visited):\n",
    "    visited[st_point] = True\n",
    "    for i in graph[st_point]:\n",
    "        if not visited[i]:\n",
    "            answer[i] = st_point\n",
    "            dfs(graph, i, visited)  \n",
    "\n",
    "N = int(input())\n",
    "# N = int(sys.stdin.readline())\n",
    "\n",
    "visited = [False] * (N+1)\n",
    "graph = [[] for _ in range(N+1)]\n",
    "answer = [0]*(N+1)\n",
    "for _ in range(N-1):\n",
    "    a, b = map(int, input().split())\n",
    "    # a, b = map(int, sys.stdin.readline().split())\n",
    "    graph[a].append(b)\n",
    "    graph[b].append(a)\n",
    "\n",
    "dfs(graph, 1, visited)\n",
    "for i in answer[2:]:\n",
    "    print(i)"
   ]
  },
  {
   "attachments": {},
   "cell_type": "markdown",
   "metadata": {},
   "source": [
    "## 예제입력"
   ]
  },
  {
   "cell_type": "code",
   "execution_count": 4,
   "metadata": {},
   "outputs": [
    {
     "name": "stdout",
     "output_type": "stream",
     "text": [
      "4\n",
      "6\n",
      "1\n",
      "3\n",
      "1\n",
      "4\n"
     ]
    }
   ],
   "source": [
    "solution()"
   ]
  },
  {
   "cell_type": "code",
   "execution_count": 5,
   "metadata": {},
   "outputs": [
    {
     "name": "stdout",
     "output_type": "stream",
     "text": [
      "1\n",
      "1\n",
      "2\n",
      "3\n",
      "3\n",
      "4\n",
      "4\n",
      "5\n",
      "5\n",
      "6\n",
      "6\n"
     ]
    }
   ],
   "source": [
    "solution()"
   ]
  },
  {
   "attachments": {},
   "cell_type": "markdown",
   "metadata": {},
   "source": [
    "## Note"
   ]
  },
  {
   "cell_type": "markdown",
   "metadata": {},
   "source": [
    "* 1번 노드부터 순서대로 해당 노드의 부모를 찾는 작업\n",
    "* graph에는 해당 node와 연결되어 있는 node 번호가 지정되어 있음\n",
    "    * ex 1. [[], [6, 4], [4], [6, 5], [1, 2, 7], [3], [1, 3], [4]]\n",
    "    * 1 - 6, 4 | 2 - 4 | 3 - 6, 5 | 4 - 1, 2, 7 | 3 - 5 | 6 - 1, 3 | 7 - 4\n",
    "    * 방향 없이 단순히 node간 연결이 표시되어 있는 List"
   ]
  },
  {
   "cell_type": "markdown",
   "metadata": {},
   "source": [
    "### bfs\n",
    "* 1번 node부터 자식 node를 찾는 과정을 bfs를 통해 구현, answer은 [[], [], [], ..., []] 형태로 되어있는 List이므로, 각 node번호를 index로 하여 해당 List에 부모 노드를 추가\n",
    "    * ex 1에서 1번 node의 자식 node는 6, 4번이므로, answer는 [[], [], [], [] ,[1] ,[], [1]]으로 업데이트\n",
    "    * queue에는 6, 4가 입력되고, 다시 answer는 [[], [6], [], [6] ,[1] ,[], [1]]으로 업데이트\n",
    "* 방향성이 없이 node간의 연결만 표시되어 있으므로 visited가 없으면 계속 반복되어 1번 노드의 부모가 6번으로 answer에 입력됨. \n",
    "* -> 자식 node가 부모 node인 것처럼 업데이트\n",
    "* 해당 과정을 반복하면 1번 노드를 제외한 모든 모드의 부모가 answer에 입력됨"
   ]
  },
  {
   "attachments": {},
   "cell_type": "markdown",
   "metadata": {},
   "source": [
    "https://www.acmicpc.net/problem/11725"
   ]
  }
 ],
 "metadata": {
  "kernelspec": {
   "display_name": "ws1",
   "language": "python",
   "name": "python3"
  },
  "language_info": {
   "codemirror_mode": {
    "name": "ipython",
    "version": 3
   },
   "file_extension": ".py",
   "mimetype": "text/x-python",
   "name": "python",
   "nbconvert_exporter": "python",
   "pygments_lexer": "ipython3",
   "version": "3.11.3"
  },
  "orig_nbformat": 4,
  "vscode": {
   "interpreter": {
    "hash": "2856db72fb1e77597a3b14e9c1bb4d2315d342edc16fc9e25c6c6e499688b933"
   }
  }
 },
 "nbformat": 4,
 "nbformat_minor": 2
}
