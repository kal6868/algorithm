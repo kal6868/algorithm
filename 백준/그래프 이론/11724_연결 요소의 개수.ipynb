{
 "cells": [
  {
   "attachments": {},
   "cell_type": "markdown",
   "metadata": {},
   "source": [
    "# 연결 요소의 개수"
   ]
  },
  {
   "attachments": {},
   "cell_type": "markdown",
   "metadata": {},
   "source": [
    "## 문제"
   ]
  },
  {
   "attachments": {},
   "cell_type": "markdown",
   "metadata": {},
   "source": [
    "* 방향 없는 그래프가 주어졌을 때, 연결 요소 (Connected Component)의 개수를 구하는 프로그램을 작성하시오."
   ]
  },
  {
   "attachments": {},
   "cell_type": "markdown",
   "metadata": {},
   "source": [
    "## 입력"
   ]
  },
  {
   "attachments": {},
   "cell_type": "markdown",
   "metadata": {},
   "source": [
    "* 첫째 줄에 정점의 개수 N과 간선의 개수 M이 주어진다. (1 ≤ N ≤ 1,000, 0 ≤ M ≤ N×(N-1)/2) 둘째 줄부터 M개의 줄에 간선의 양 끝점 u와 v가 주어진다. (1 ≤ u, v ≤ N, u ≠ v) 같은 간선은 한 번만 주어진다."
   ]
  },
  {
   "attachments": {},
   "cell_type": "markdown",
   "metadata": {},
   "source": [
    "## 출력"
   ]
  },
  {
   "attachments": {},
   "cell_type": "markdown",
   "metadata": {},
   "source": [
    "* 첫째 줄에 연결 요소의 개수를 출력한다."
   ]
  },
  {
   "attachments": {},
   "cell_type": "markdown",
   "metadata": {},
   "source": [
    "## Code"
   ]
  },
  {
   "cell_type": "code",
   "execution_count": 1,
   "metadata": {},
   "outputs": [],
   "source": [
    "# 11724_연결 요소의 개수 bfs\n",
    "import sys\n",
    "from collections import deque\n",
    "\n",
    "def bfs(st_p, visited_map, graph):\n",
    "    queue = deque([st_p])\n",
    "    visited_map[st_p] = True\n",
    "    while queue:\n",
    "        point = queue.popleft()\n",
    "        for i in graph[point]:\n",
    "            if not visited_map[i]:\n",
    "                visited_map[i] = True\n",
    "                queue.append(i)\n",
    "\n",
    "def solution():\n",
    "    N, M = map(int, input().split())\n",
    "    # N, M = map(int, sys.stdin.readline().split())\n",
    "    graph = [[] for _ in range(N+1)]\n",
    "    for _ in range(M):\n",
    "        x, y = map(int, input().split())\n",
    "        # x, y = map(int, sys.stdin.readline().split())\n",
    "\n",
    "        # 연결된 노트를 표기하기 위한 graph\n",
    "        graph[x].append(y)\n",
    "        graph[y].append(x)\n",
    "    visited_map = [False] * (N+1)\n",
    "    count = 0\n",
    "\n",
    "    for i in range(1, N+1):\n",
    "        if not visited_map[i]:\n",
    "            if not graph[i]:\n",
    "                count +=1\n",
    "                visited_map[i] = True\n",
    "            else:\n",
    "                bfs(i, visited_map, graph)\n",
    "                count +=1\n",
    "    print(count)"
   ]
  },
  {
   "cell_type": "code",
   "execution_count": null,
   "metadata": {},
   "outputs": [],
   "source": [
    "# 11724_연결 요소의 개수 dfs\n",
    "import sys\n",
    "from collections import deque\n",
    "sys.setrecursionlimit(5000)\n",
    "\n",
    "def dfs(st_p):\n",
    "    visited_map[st_p] = True\n",
    "    for i in graph[st_p]:\n",
    "        if not visited_map[i]:\n",
    "            dfs(i)\n",
    "\n",
    "N, M = map(int, input().split())\n",
    "# N, M = map(int, sys.stdin.readline().split())\n",
    "graph = [[] for _ in range(N+1)]\n",
    "for _ in range(M):\n",
    "    x, y = map(int, input().split())\n",
    "    # x, y = map(int, sys.stdin.readline().split())\n",
    "    \n",
    "    # 연결된 노트를 표기하기 위한 graph\n",
    "    graph[x].append(y)\n",
    "    graph[y].append(x)\n",
    "visited_map = [False] * (N+1)\n",
    "count = 0\n",
    "\n",
    "for i in range(1, N+1):\n",
    "    if not visited_map[i]:\n",
    "        if not graph[i]:\n",
    "            count +=1\n",
    "            visited_map[i] = True\n",
    "        else:\n",
    "            dfs(i)\n",
    "            count +=1\n",
    "print(count)"
   ]
  },
  {
   "attachments": {},
   "cell_type": "markdown",
   "metadata": {},
   "source": [
    "## 예제입력"
   ]
  },
  {
   "cell_type": "code",
   "execution_count": 2,
   "metadata": {},
   "outputs": [
    {
     "name": "stdout",
     "output_type": "stream",
     "text": [
      "2\n"
     ]
    }
   ],
   "source": [
    "solution()"
   ]
  },
  {
   "cell_type": "code",
   "execution_count": 3,
   "metadata": {},
   "outputs": [
    {
     "name": "stdout",
     "output_type": "stream",
     "text": [
      "1\n"
     ]
    }
   ],
   "source": [
    "solution()"
   ]
  },
  {
   "attachments": {},
   "cell_type": "markdown",
   "metadata": {},
   "source": [
    "## Note"
   ]
  },
  {
   "attachments": {},
   "cell_type": "markdown",
   "metadata": {},
   "source": [
    "* Breadth-First Search(BFS) -> 너비 우선 탐색\n",
    "    * 1.N+1개의 False로 이루어진 Visited_map List를 만든다. 이는 한번 방문한 노드에 재 방문하는 것을 방지하기 위한 것\n",
    "    * 2.연결된 노트를 표기하기 위한 graph를 만든다. 해당 index의 List는 index와 연결된 Node의 번호를 나타낸다\n",
    "    * 3.ex. [[1, 2], [0, 4]] -> 0번 Node는 1번, 2번과 연결되어 있고, 1번 Node는 0번과 4번에 연결되어 있다.\n",
    "    * 4.연결된 Node가 없으면 Visited_map에서 해당 Node번호 index를 True 처리하고 간선 개수(count)에 1을 더해주고\n",
    "    * 5.연결된 Node가 있으면 bfs를 통해서 연결된 모든 Node의 index를 Visited_map에서 True로 변경한다.\n",
    "\n",
    "* bfs\n",
    "    * queue에 시작 Node 번호를 먼저 넣어주고, popleft를 통해 해당 Node 번호를 추출한다.\n",
    "    * 해당 Node와 연결된 Node번호가 Visited_map에서 False경우 True로 바꿔준 다음 연결된 Node를 queue에 넣어준다.\n",
    "    * 방문하지 않은 Node가 없을 때 까지(queue에 아무것도 없을 때 까지) Visited_map에 방문한 Node를 True로 바꿔주는 작업을 반복한다."
   ]
  },
  {
   "attachments": {},
   "cell_type": "markdown",
   "metadata": {},
   "source": [
    "* Depth-First Search(DFS) -> 너비 우선 탐색\n",
    "    * 1.N+1개의 False로 이루어진 Visited_map List를 만든다. 이는 한번 방문한 노드에 재 방문하는 것을 방지하기 위한 것\n",
    "    * 2.연결된 노트를 표기하기 위한 graph를 만든다. 해당 index의 List는 index와 연결된 Node의 번호를 나타낸다\n",
    "    * 3.ex. [[1, 2], [0, 4]] -> 0번 Node는 1번, 2번과 연결되어 있고, 1번 Node는 0번과 4번에 연결되어 있다.\n",
    "    * 4.연결된 Node가 없으면 Visited_map에서 해당 Node번호 index를 True 처리하고 간선 개수(count)에 1을 더해주고\n",
    "    * 5.연결된 Node가 있으면 dfs를 통해서 연결된 모든 Node의 index를 Visited_map에서 True로 변경한다.\n",
    "\n",
    "* dfs\n",
    "    * 재귀 함수를 이용한 방법이다. 재귀 함수는 함수 안에 함수를 실행시키는 코드를 넣어서, 동일한 코드가 반복되게 실행되는 방법이다.\n",
    "    * 마지막으로 실행된 코드가 종료되면, 그 이전에 실행된 코드부터 순차적으로 종료된다.\n",
    "    * Visited_map에서 해당 Node가 방문을 하지 않았으면 해당 Node의 index를 방문 처리하고, 해당 Node와 연결된 Node를 방문했는지 안했는지 여부를 탐색하는 dfs를 반복 실행한다. \n"
   ]
  },
  {
   "attachments": {},
   "cell_type": "markdown",
   "metadata": {},
   "source": [
    "https://www.acmicpc.net/problem/11724"
   ]
  }
 ],
 "metadata": {
  "kernelspec": {
   "display_name": "ws1",
   "language": "python",
   "name": "python3"
  },
  "language_info": {
   "codemirror_mode": {
    "name": "ipython",
    "version": 3
   },
   "file_extension": ".py",
   "mimetype": "text/x-python",
   "name": "python",
   "nbconvert_exporter": "python",
   "pygments_lexer": "ipython3",
   "version": "3.9.13"
  },
  "orig_nbformat": 4,
  "vscode": {
   "interpreter": {
    "hash": "2856db72fb1e77597a3b14e9c1bb4d2315d342edc16fc9e25c6c6e499688b933"
   }
  }
 },
 "nbformat": 4,
 "nbformat_minor": 2
}
