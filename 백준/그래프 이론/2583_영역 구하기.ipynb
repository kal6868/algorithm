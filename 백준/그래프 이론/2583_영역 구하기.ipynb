{
 "cells": [
  {
   "attachments": {},
   "cell_type": "markdown",
   "metadata": {},
   "source": [
    "# 영역 구하기"
   ]
  },
  {
   "attachments": {},
   "cell_type": "markdown",
   "metadata": {},
   "source": [
    "## 문제"
   ]
  },
  {
   "attachments": {},
   "cell_type": "markdown",
   "metadata": {},
   "source": [
    "* 눈금의 간격이 1인 M×N(M,N≤100)크기의 모눈종이가 있다. 이 모눈종이 위에 눈금에 맞추어 K개의 직사각형을 그릴 때, 이들 K개의 직사각형의 내부를 제외한 나머지 부분이 몇 개의 분리된 영역으로 나누어진다."
   ]
  },
  {
   "cell_type": "markdown",
   "metadata": {},
   "source": [
    "* 예를 들어 M=5, N=7 인 모눈종이 위에 <그림 1>과 같이 직사각형 3개를 그렸다면, 그 나머지 영역은 <그림 2>와 같이 3개의 분리된 영역으로 나누어지게 된다."
   ]
  },
  {
   "cell_type": "code",
   "execution_count": 1,
   "metadata": {},
   "outputs": [
    {
     "data": {
      "image/png": "[encoded data removed]",
      "text/plain": [
       "<IPython.core.display.Image object>"
      ]
     },
     "execution_count": 1,
     "metadata": {
      "image/png": {
       "width": 800
      }
     },
     "output_type": "execute_result"
    }
   ],
   "source": [
    "from IPython.display import Image\n",
    "Image('../image/2583_영역 구하기.png', width = 800)"
   ]
  },
  {
   "cell_type": "markdown",
   "metadata": {},
   "source": [
    "* <그림 2>와 같이 분리된 세 영역의 넓이는 각각 1, 7, 13이 된다."
   ]
  },
  {
   "cell_type": "markdown",
   "metadata": {},
   "source": [
    "* M, N과 K 그리고 K개의 직사각형의 좌표가 주어질 때, K개의 직사각형 내부를 제외한 나머지 부분이 몇 개의 분리된 영역으로 나누어지는지, 그리고 분리된 각 영역의 넓이가 얼마인지를 구하여 이를 출력하는 프로그램을 작성하시오."
   ]
  },
  {
   "attachments": {},
   "cell_type": "markdown",
   "metadata": {},
   "source": [
    "## 입력"
   ]
  },
  {
   "attachments": {},
   "cell_type": "markdown",
   "metadata": {},
   "source": [
    "* 첫째 줄에 M과 N, 그리고 K가 빈칸을 사이에 두고 차례로 주어진다. M, N, K는 모두 100 이하의 자연수이다. 둘째 줄부터 K개의 줄에는 한 줄에 하나씩 직사각형의 왼쪽 아래 꼭짓점의 x, y좌표값과 오른쪽 위 꼭짓점의 x, y좌표값이 빈칸을 사이에 두고 차례로 주어진다. 모눈종이의 왼쪽 아래 꼭짓점의 좌표는 (0,0)이고, 오른쪽 위 꼭짓점의 좌표는(N,M)이다. 입력되는 K개의 직사각형들이 모눈종이 전체를 채우는 경우는 없다."
   ]
  },
  {
   "attachments": {},
   "cell_type": "markdown",
   "metadata": {},
   "source": [
    "## 출력"
   ]
  },
  {
   "attachments": {},
   "cell_type": "markdown",
   "metadata": {},
   "source": [
    "* 첫째 줄에 분리되어 나누어지는 영역의 개수를 출력한다. 둘째 줄에는 각 영역의 넓이를 오름차순으로 정렬하여 빈칸을 사이에 두고 출력한다."
   ]
  },
  {
   "attachments": {},
   "cell_type": "markdown",
   "metadata": {},
   "source": [
    "## Code"
   ]
  },
  {
   "cell_type": "code",
   "execution_count": 2,
   "metadata": {},
   "outputs": [],
   "source": [
    "# 2583 영역 구하기(bfs)\n",
    "import sys\n",
    "from collections import deque\n",
    "\n",
    "def bfs(y, x, M, N):\n",
    "    dx = [1, -1, 0, 0]\n",
    "    dy = [0, 0, 1, -1]    \n",
    "    global graph\n",
    "    queue = deque()\n",
    "    queue.append((y, x))\n",
    "    graph[y][x] = 1\n",
    "    count = 1\n",
    "    while queue:\n",
    "        y, x = queue.popleft()\n",
    "        for i in range(4):\n",
    "            nx = x + dx[i]\n",
    "            ny = y + dy[i]\n",
    "            if (0 <= nx < N) and (0 <= ny < M):\n",
    "                if graph[ny][nx] == 0:\n",
    "                    graph[ny][nx] = 1\n",
    "                    queue.append((ny, nx))\n",
    "                    count += 1\n",
    "            else:\n",
    "                continue\n",
    "\n",
    "    return count\n",
    "\n",
    "def solution():\n",
    "    M, N, K = map(int, input().split())\n",
    "    # M, N, K = map(int, sys.stdin.readline().split())\n",
    "    points = [] \n",
    "    for _ in range(K):\n",
    "        s_x, s_y, e_x, e_y = map(int, input().split())\n",
    "        # s_x, s_y, e_x, e_y = map(int, sys.stdin.readline().split())\n",
    "        height = abs(s_y - e_y)\n",
    "        points.append([(M-s_y-height, s_x), (M-e_y+height, e_x)])\n",
    "\n",
    "    global graph\n",
    "    graph = [[0]*N for _ in range(M)]\n",
    "\n",
    "    for point in points:\n",
    "        start, end = point\n",
    "        for i in range(start[0], end[0]):\n",
    "            for j in range(start[1], end[1]):\n",
    "                graph[i][j] = 1\n",
    "\n",
    "\n",
    "    area = [] \n",
    "    for i in range(N):\n",
    "        for j in range(M):\n",
    "            if graph[j][i] == 0:\n",
    "                area.append(bfs(j, i, M, N))\n",
    "    print(len(area))\n",
    "    print(*sorted(area), end=' ')"
   ]
  },
  {
   "cell_type": "code",
   "execution_count": null,
   "metadata": {},
   "outputs": [],
   "source": [
    "import sys\n",
    "sys.setrecursionlimit(100000)\n",
    "\n",
    "def dfs(y, x, M, N):\n",
    "    dx = [1, -1, 0, 0]\n",
    "    dy = [0, 0, 1, -1]\n",
    "    global count\n",
    "    global graph\n",
    "    count += 1    \n",
    "    graph[y][x] = 1\n",
    "\n",
    "    for i in range(4):\n",
    "        nx = x + dx[i]\n",
    "        ny = y + dy[i]\n",
    "        if (0 <= nx < N) and (0 <= ny < M):\n",
    "            if graph[ny][nx] == 0:\n",
    "                dfs(ny, nx, M, N)\n",
    "\n",
    "def solution():\n",
    "    M, N, K = map(int, input().split())\n",
    "    # M, N, K = map(int, sys.stdin.readline().split())\n",
    "    points = [] \n",
    "    for _ in range(K):\n",
    "        s_x, s_y, e_x, e_y = map(int, input().split())\n",
    "        # s_x, s_y, e_x, e_y = map(int, sys.stdin.readline().split())\n",
    "        height = abs(s_y - e_y)\n",
    "        points.append([(M-s_y-height, s_x), (M-e_y+height, e_x)])\n",
    "    \n",
    "    global graph\n",
    "    graph = [[0]*N for _ in range(M)]\n",
    "\n",
    "    for point in points:\n",
    "        start, end = point\n",
    "        for i in range(start[0], end[0]):\n",
    "            for j in range(start[1], end[1]):\n",
    "                graph[i][j] = 1\n",
    "\n",
    "    area = []\n",
    "    count = 0 \n",
    "    for i in range(N):\n",
    "        for j in range(M):\n",
    "            if graph[j][i] == 0:\n",
    "                dfs(j, i, M, N)\n",
    "                area.append(count)\n",
    "                count = 0\n",
    "\n",
    "    print(len(area))\n",
    "    print(*sorted(area), end=' ')"
   ]
  },
  {
   "attachments": {},
   "cell_type": "markdown",
   "metadata": {},
   "source": [
    "## 예제입력"
   ]
  },
  {
   "cell_type": "code",
   "execution_count": 3,
   "metadata": {},
   "outputs": [
    {
     "name": "stdout",
     "output_type": "stream",
     "text": [
      "3\n",
      "1 7 13 "
     ]
    }
   ],
   "source": [
    "solution()"
   ]
  },
  {
   "cell_type": "markdown",
   "metadata": {},
   "source": [
    "* 1. 가로(x)와 세로(y)길이 만큼 1으로 채워진 2차원 List를 만든다.\n",
    "* 2. 원점(0, 0)이 좌측 하단으로 되어 있어, Index을 용이하게 하기 위해 (0, 5)를 원점(0, 0)으로 해서 좌표를 새로 계산한다.\n",
    "* 3. 주어지는 왼쪽 아래 꼭지점의 x,y와 오른쪽 위 꼭지점의 x,y로 왼쪽 위 꼭지점의 x,y와 오른쪽 아래 꼭지점의 x,y를 계산한다(좌표로 Indexing을 위해서)\n",
    "* 4. 왼쪽 위 꼭지점의 x,y와 오른쪽 아래 꼭지점의 x,y의 좌표를 이용하여 K개의 직사각형 내부에 해당하는 위치를 1로 표시한다."
   ]
  },
  {
   "cell_type": "markdown",
   "metadata": {},
   "source": [
    "# BFS\n",
    "* 5. queue 이용하여 0인 부분을 만나면 인접한 모든 0을 찾아서 1로 바꾸는 함수인 bfs를 작성한다.\n",
    "    * 1\\) 우, 좌, 하, 상 순서대로 조건에 맞는(0 인) 좌표를 queue에 저장한 후, 해당 좌표의 값을 1로 바꾸고 더 이상 해당되는 좌표가 없을 때까지 작업을 반복\n",
    "* 6. bfs를 이용하여 0을 1로 바꾸는 작업을 할 때마다 count에 1을 더해 횟수를 세어주어 0인 부분의 면적을 구한다"
   ]
  },
  {
   "attachments": {},
   "cell_type": "markdown",
   "metadata": {},
   "source": [
    "## Note"
   ]
  },
  {
   "attachments": {},
   "cell_type": "markdown",
   "metadata": {},
   "source": [
    "https://www.acmicpc.net/problem/2583"
   ]
  }
 ],
 "metadata": {
  "kernelspec": {
   "display_name": "ws1",
   "language": "python",
   "name": "python3"
  },
  "language_info": {
   "codemirror_mode": {
    "name": "ipython",
    "version": 3
   },
   "file_extension": ".py",
   "mimetype": "text/x-python",
   "name": "python",
   "nbconvert_exporter": "python",
   "pygments_lexer": "ipython3",
   "version": "3.11.3"
  },
  "orig_nbformat": 4,
  "vscode": {
   "interpreter": {
    "hash": "2856db72fb1e77597a3b14e9c1bb4d2315d342edc16fc9e25c6c6e499688b933"
   }
  }
 },
 "nbformat": 4,
 "nbformat_minor": 2
}
