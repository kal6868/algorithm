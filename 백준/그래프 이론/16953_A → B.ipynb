{
 "cells": [
  {
   "attachments": {},
   "cell_type": "markdown",
   "metadata": {},
   "source": [
    "# A → B"
   ]
  },
  {
   "attachments": {},
   "cell_type": "markdown",
   "metadata": {},
   "source": [
    "## 문제"
   ]
  },
  {
   "attachments": {},
   "cell_type": "markdown",
   "metadata": {},
   "source": [
    "* 정수 A를 B로 바꾸려고 한다. 가능한 연산은 다음과 같은 두 가지이다.\n",
    "    * 2를 곱한다.\n",
    "    * 1을 수의 가장 오른쪽에 추가한다. "
   ]
  },
  {
   "cell_type": "markdown",
   "metadata": {},
   "source": [
    "* A를 B로 바꾸는데 필요한 연산의 최솟값을 구해보자."
   ]
  },
  {
   "attachments": {},
   "cell_type": "markdown",
   "metadata": {},
   "source": [
    "## 입력"
   ]
  },
  {
   "cell_type": "markdown",
   "metadata": {},
   "source": [
    "* 첫째 줄에 A, B (1 ≤ A < B ≤ 10<sup>9)가 주어진다."
   ]
  },
  {
   "attachments": {},
   "cell_type": "markdown",
   "metadata": {},
   "source": [
    "## 출력"
   ]
  },
  {
   "attachments": {},
   "cell_type": "markdown",
   "metadata": {},
   "source": [
    "* A를 B로 바꾸는데 필요한 연산의 최솟값에 1을 더한 값을 출력한다. 만들 수 없는 경우에는 -1을 출력한다."
   ]
  },
  {
   "attachments": {},
   "cell_type": "markdown",
   "metadata": {},
   "source": [
    "## Code"
   ]
  },
  {
   "cell_type": "code",
   "execution_count": 1,
   "metadata": {},
   "outputs": [],
   "source": [
    "# 16953_A->B\n",
    "import sys\n",
    "from collections import deque\n",
    "\n",
    "def solution():\n",
    "    A, B = map(int, input().split())\n",
    "    # A, B = map(int, sys.stdin.readline().split())\n",
    "    result = -1\n",
    "    queue = deque([(A, 1)])\n",
    "    while queue:\n",
    "        # print(queue)\n",
    "        i, count = queue.popleft()\n",
    "        if i == B:\n",
    "            result = count\n",
    "            break\n",
    "\n",
    "        if i*2 <= B:\n",
    "            queue.append((i*2, count+1))\n",
    "        \n",
    "        if (i*10)+1 <= B:\n",
    "            queue.append(((i*10)+1, count+1))\n",
    "    print(result)"
   ]
  },
  {
   "attachments": {},
   "cell_type": "markdown",
   "metadata": {},
   "source": [
    "## 예제입력"
   ]
  },
  {
   "cell_type": "code",
   "execution_count": 2,
   "metadata": {},
   "outputs": [
    {
     "name": "stdout",
     "output_type": "stream",
     "text": [
      "5\n"
     ]
    }
   ],
   "source": [
    "solution()"
   ]
  },
  {
   "cell_type": "code",
   "execution_count": 3,
   "metadata": {},
   "outputs": [
    {
     "name": "stdout",
     "output_type": "stream",
     "text": [
      "-1\n"
     ]
    }
   ],
   "source": [
    "solution()"
   ]
  },
  {
   "cell_type": "code",
   "execution_count": 4,
   "metadata": {},
   "outputs": [
    {
     "name": "stdout",
     "output_type": "stream",
     "text": [
      "5\n"
     ]
    }
   ],
   "source": [
    "solution()"
   ]
  },
  {
   "attachments": {},
   "cell_type": "markdown",
   "metadata": {},
   "source": [
    "## Note"
   ]
  },
  {
   "cell_type": "markdown",
   "metadata": {},
   "source": [
    "* 1. queue를 사용하여 기존 수에 2를 곱한 값과 1을 수의 오른쪽에 추가한 수 (10을 곱하고 1을 더한 수) 두가지 경우를 추가한다.\n",
    "* 2. queue 안에 있는 모든 숫자 popleft로 추출하여 queue 안의 모든 숫자를 대상으로 두 계산을 반복한다.\n",
    "    * 1\\) ex. 2 -> 4, 21 -> 21, 8, 41\n",
    "* 3. 다만, 2를 곱하거나 10을 곱해서 1을 더해준 수가 B를 넘으면 queue에 추가하지 않는다.\n",
    "    * 1\\) queue에 목표한 숫자가 존재하면 A -> B로 바꾸는 연산을 break를 통해 중지하고 계산 횟수인 count로 result를 최신화한다.\n",
    "    * 2\\) 목표한 숫자를 만들 수 없으면 숫자가 B보다 커져셔 queue에 들어갈 수 없을 것이므로 while문이 종료된다. 이때는 미리 선언한 -1를 출력한다."
   ]
  },
  {
   "attachments": {},
   "cell_type": "markdown",
   "metadata": {},
   "source": [
    "https://www.acmicpc.net/problem/16953"
   ]
  }
 ],
 "metadata": {
  "kernelspec": {
   "display_name": "ws1",
   "language": "python",
   "name": "python3"
  },
  "language_info": {
   "codemirror_mode": {
    "name": "ipython",
    "version": 3
   },
   "file_extension": ".py",
   "mimetype": "text/x-python",
   "name": "python",
   "nbconvert_exporter": "python",
   "pygments_lexer": "ipython3",
   "version": "3.11.3"
  },
  "orig_nbformat": 4,
  "vscode": {
   "interpreter": {
    "hash": "2856db72fb1e77597a3b14e9c1bb4d2315d342edc16fc9e25c6c6e499688b933"
   }
  }
 },
 "nbformat": 4,
 "nbformat_minor": 2
}
