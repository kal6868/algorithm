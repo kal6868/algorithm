{
 "cells": [
  {
   "attachments": {},
   "cell_type": "markdown",
   "metadata": {},
   "source": [
    "# 결혼식 "
   ]
  },
  {
   "attachments": {},
   "cell_type": "markdown",
   "metadata": {},
   "source": [
    "## 문제"
   ]
  },
  {
   "attachments": {},
   "cell_type": "markdown",
   "metadata": {},
   "source": [
    "* 상근이는 자신의 결혼식에 학교 동기 중 자신의 친구와 친구의 친구를 초대하기로 했다. 상근이의 동기는 모두 N명이고, 이 학생들의 학번은 모두 1부터 N까지이다. 상근이의 학번은 1이다."
   ]
  },
  {
   "cell_type": "markdown",
   "metadata": {},
   "source": [
    "* 상근이는 동기들의 친구 관계를 모두 조사한 리스트를 가지고 있다. 이 리스트를 바탕으로 결혼식에 초대할 사람의 수를 구하는 프로그램을 작성하시오."
   ]
  },
  {
   "attachments": {},
   "cell_type": "markdown",
   "metadata": {},
   "source": [
    "## 입력"
   ]
  },
  {
   "attachments": {},
   "cell_type": "markdown",
   "metadata": {},
   "source": [
    "* 첫째 줄에 상근이의 동기의 수 n (2 ≤ n ≤ 500)이 주어진다. 둘째 줄에는 리스트의 길이 m (1 ≤ m ≤ 10000)이 주어진다. 다음 줄부터 m개 줄에는 친구 관계 ai bi가 주어진다. (1 ≤ ai < bi ≤ n) ai와 bi가 친구라는 뜻이며, bi와 ai도 친구관계이다. "
   ]
  },
  {
   "attachments": {},
   "cell_type": "markdown",
   "metadata": {},
   "source": [
    "## 출력"
   ]
  },
  {
   "attachments": {},
   "cell_type": "markdown",
   "metadata": {},
   "source": [
    "* 첫째 줄에 상근이의 결혼식에 초대하는 동기의 수를 출력한다."
   ]
  },
  {
   "attachments": {},
   "cell_type": "markdown",
   "metadata": {},
   "source": [
    "## Code"
   ]
  },
  {
   "cell_type": "code",
   "execution_count": 1,
   "metadata": {},
   "outputs": [],
   "source": [
    "# 5567_결혼식\n",
    "\n",
    "import sys\n",
    "from collections import deque\n",
    "\n",
    "submit = False\n",
    "input = sys.stdin.readline if submit else input\n",
    "\n",
    "def bfs(x, visited, graph):\n",
    "    queue = deque([x])\n",
    "    visited[x] = 1\n",
    "    while queue:\n",
    "        nx = queue.popleft()\n",
    "        for i in graph[nx]:\n",
    "            if visited[i] == 0:\n",
    "                queue.append(i)\n",
    "                visited[i] = visited[nx] + 1\n",
    "\n",
    "def solution():\n",
    "    n = int(input()) \n",
    "    m = int(input())\n",
    "    graph = [[] for _ in range(n + 1)]\n",
    "    visited = [0 for _ in range(n+1)]\n",
    "\n",
    "    for i in range(m):\n",
    "        a, b = map(int, input().split())\n",
    "        graph[a].append(b)\n",
    "        graph[b].append(a)\n",
    "\n",
    "    bfs(1, visited, graph)\n",
    "    answer = 0\n",
    "    for i in range(2, n+1):\n",
    "        if (visited[i] < 4) & (visited[i] != 0):\n",
    "            answer += 1\n",
    "    print(answer)"
   ]
  },
  {
   "attachments": {},
   "cell_type": "markdown",
   "metadata": {},
   "source": [
    "## 예제입력 - 출력"
   ]
  },
  {
   "cell_type": "code",
   "execution_count": 2,
   "metadata": {},
   "outputs": [
    {
     "name": "stdout",
     "output_type": "stream",
     "text": [
      "3\n"
     ]
    }
   ],
   "source": [
    "solution()"
   ]
  },
  {
   "cell_type": "code",
   "execution_count": 3,
   "metadata": {},
   "outputs": [
    {
     "name": "stdout",
     "output_type": "stream",
     "text": [
      "0\n"
     ]
    }
   ],
   "source": [
    "solution()"
   ]
  },
  {
   "attachments": {},
   "cell_type": "markdown",
   "metadata": {},
   "source": [
    "## Note"
   ]
  },
  {
   "cell_type": "markdown",
   "metadata": {},
   "source": [
    "* 1. 각자의 친구가 표시된 graph를 만든 후 list(visited)에 해당 방문 여부를 표시 후 친구의 친구까지만을 추려낸다.\n",
    "* 2. bfs 함수를 이용하여 visited에 친구 간의 거리를 셀 수 있다.\n",
    "    * eg. 1 -> 2, 3 / 2 -> 3/ 3 -> 4/ 4 -> 5/\n",
    "        * [ [], [2, 3], [3], [4], [5] ] 의 graph와 [0, 0, 0, 0, 0, 0] 의 visited로 표현된다.\n",
    "        * visited[1]에 1을 할당한다\n",
    "        * step 1\\) 1부터 시작하면 visited의 2, 3의 index에 1+1인 2가 더해지고 deque에 2, 3이 추가된다.\n",
    "        * step 2\\) graph[2]는 3이나 이미 visited[3]이 0이 아니므로 조건에 충족되지 않아 무시된다.\n",
    "        * step 2\\) graph[3]은 4이고 visited의 4 index에 2+1인 3이 더해지고 queue에 4가 추가된다.\n",
    "        * step 3\\) graph[4]은 5이고 visited의 5 index에 3+1인 4가 더해지고 queue에 5가 추가된다.\n",
    "        * step 4\\) graph[5]는 4이나 visited[4]가 0이 아니므로 조건에 충족되지 않아 무시된다.\n",
    "* 3. visited에서 친구의 거리가 0 < 거리 < 4인 친구의 수를 세어 출력한다.\n",
    "    * 0인 경우는 아예 친구 관계가 아니므로 제외해야 한다."
   ]
  },
  {
   "attachments": {},
   "cell_type": "markdown",
   "metadata": {},
   "source": [
    "https://www.acmicpc.net/problem/5567"
   ]
  }
 ],
 "metadata": {
  "kernelspec": {
   "display_name": "ws1",
   "language": "python",
   "name": "python3"
  },
  "language_info": {
   "codemirror_mode": {
    "name": "ipython",
    "version": 3
   },
   "file_extension": ".py",
   "mimetype": "text/x-python",
   "name": "python",
   "nbconvert_exporter": "python",
   "pygments_lexer": "ipython3",
   "version": "3.12.4"
  },
  "orig_nbformat": 4,
  "vscode": {
   "interpreter": {
    "hash": "2856db72fb1e77597a3b14e9c1bb4d2315d342edc16fc9e25c6c6e499688b933"
   }
  }
 },
 "nbformat": 4,
 "nbformat_minor": 2
}
