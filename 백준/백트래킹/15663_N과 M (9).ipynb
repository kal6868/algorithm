{
 "cells": [
  {
   "attachments": {},
   "cell_type": "markdown",
   "metadata": {},
   "source": [
    "# 행렬 덧셈"
   ]
  },
  {
   "attachments": {},
   "cell_type": "markdown",
   "metadata": {},
   "source": [
    "## 문제"
   ]
  },
  {
   "attachments": {},
   "cell_type": "markdown",
   "metadata": {},
   "source": [
    "* N개의 자연수와 자연수 M이 주어졌을 때, 아래 조건을 만족하는 길이가 M인 수열을 모두 구하는 프로그램을 작성하시오.\n",
    "    * N개의 자연수 중에서 M개를 고른 수열"
   ]
  },
  {
   "attachments": {},
   "cell_type": "markdown",
   "metadata": {},
   "source": [
    "## 입력"
   ]
  },
  {
   "attachments": {},
   "cell_type": "markdown",
   "metadata": {},
   "source": [
    "* 첫째 줄에 N과 M이 주어진다. (1 ≤ M ≤ N ≤ 8)\n",
    "* 둘째 줄에 N개의 수가 주어진다. 입력으로 주어지는 수는 10,000보다 작거나 같은 자연수이다."
   ]
  },
  {
   "attachments": {},
   "cell_type": "markdown",
   "metadata": {},
   "source": [
    "## 출력"
   ]
  },
  {
   "attachments": {},
   "cell_type": "markdown",
   "metadata": {},
   "source": [
    "* 한 줄에 하나씩 문제의 조건을 만족하는 수열을 출력한다. 중복되는 수열을 여러 번 출력하면 안되며, 각 수열은 공백으로 구분해서 출력해야 한다.\n",
    "* 수열은 사전 순으로 증가하는 순서로 출력해야 한다."
   ]
  },
  {
   "attachments": {},
   "cell_type": "markdown",
   "metadata": {},
   "source": [
    "## Code"
   ]
  },
  {
   "cell_type": "code",
   "execution_count": 1,
   "metadata": {},
   "outputs": [],
   "source": [
    "# 15663_N과 M (9) # 백트래킹\n",
    "\n",
    "import sys\n",
    "from itertools import permutations\n",
    "\n",
    "submit = False\n",
    "input = sys.stdin.readline if submit else input\n",
    "\n",
    "def solution():\n",
    "    N, M = map(int, input().split())\n",
    "    numbers = list(map(int, input().split()))\n",
    "\n",
    "    for i in sorted(list(set(permutations(numbers, M)))):\n",
    "        print(*i, sep=' ')"
   ]
  },
  {
   "cell_type": "code",
   "execution_count": null,
   "metadata": {},
   "outputs": [],
   "source": [
    "# 15663_N과 M (9) # permutation(순열) 구현 풀이 1 # 백트래킹\n",
    "\n",
    "import sys\n",
    "\n",
    "submit = False\n",
    "input = sys.stdin.readline if submit else input\n",
    "\n",
    "def gen_permutations(arr, n):\n",
    "    result = []\n",
    "\n",
    "    if n == 0:\n",
    "        return [[]]\n",
    "    \n",
    "    for i, elem in enumerate(arr):\n",
    "        for P in gen_permutations(arr[:i] + arr[i+1:], n - 1):\n",
    "            result += [[elem] + P]\n",
    "            \n",
    "    return result\n",
    "\n",
    "def solution():\n",
    "    N, M = map(int, input().split())\n",
    "    numbers = list(map(int, input().split()))\n",
    "\n",
    "    p_numbers = list(set(map(tuple, gen_permutations(numbers, M))))\n",
    "    for i in sorted(p_numbers):\n",
    "        print(*i, sep=' ')"
   ]
  },
  {
   "cell_type": "code",
   "execution_count": null,
   "metadata": {},
   "outputs": [],
   "source": [
    "# 15663_N과 M(9) # permutation(순열) 구현 풀이 2 # 백트래킹\n",
    "\n",
    "import sys\n",
    "\n",
    "submit = False\n",
    "input = sys.stdin.readline if submit else input\n",
    "\n",
    "N, M = map(int, input().split())\n",
    "numbers = list(map(int, input().split()))\n",
    "visited = [False] * N # 방문 여부\n",
    "answers = []\n",
    "\n",
    "def gen_permutations(nums, N, M, arr):\n",
    "    if len(arr) == M:\n",
    "        answers.append(arr[:]) # 정답 리스트에 추가\n",
    "        return\n",
    "\n",
    "    for i in range(len(nums)):\n",
    "        if not visited[i]: # 방문하지 않은 경우만\n",
    "            visited[i] = True # 방문 처리\n",
    "            arr.append(nums[i])\n",
    "            gen_permutations(nums, N, M, arr)\n",
    "            visited[i] = False # 방문 해제\n",
    "            arr.pop()\n",
    "            \n",
    "def solution():\n",
    "    gen_permutations(numbers, N, M, [])\n",
    "    answers = sorted(list(set(map(tuple, answers)))) # 중복 제거 및 정렬\n",
    "    for answer in answers:\n",
    "        print(*answer, sep=' ')"
   ]
  },
  {
   "attachments": {},
   "cell_type": "markdown",
   "metadata": {},
   "source": [
    "## 예제입력 - 출력"
   ]
  },
  {
   "cell_type": "code",
   "execution_count": 2,
   "metadata": {},
   "outputs": [
    {
     "name": "stdout",
     "output_type": "stream",
     "text": [
      "2\n",
      "4\n"
     ]
    }
   ],
   "source": [
    "solution()"
   ]
  },
  {
   "cell_type": "code",
   "execution_count": 3,
   "metadata": {},
   "outputs": [
    {
     "name": "stdout",
     "output_type": "stream",
     "text": [
      "1 7\n",
      "1 9\n",
      "7 1\n",
      "7 9\n",
      "9 1\n",
      "9 7\n",
      "9 9\n"
     ]
    }
   ],
   "source": [
    "solution()"
   ]
  },
  {
   "cell_type": "code",
   "execution_count": 4,
   "metadata": {},
   "outputs": [
    {
     "name": "stdout",
     "output_type": "stream",
     "text": [
      "1 1 1 1\n"
     ]
    }
   ],
   "source": [
    "solution()"
   ]
  },
  {
   "attachments": {},
   "cell_type": "markdown",
   "metadata": {},
   "source": [
    "## Note"
   ]
  },
  {
   "cell_type": "markdown",
   "metadata": {},
   "source": [
    "### 풀이 1\n",
    "\n",
    "* 1. itertools패키지의 permutations 함수를 사용하여 순열의 조합(N개의 자연수 중 길이가 M인 수열을 추출)을 구한다.\n",
    "    * 주어진 N개의 자연수에 따라 중복이 발생할 수 있으므로 set 자료형을 사용하여 중복을 제거한다."
   ]
  },
  {
   "cell_type": "markdown",
   "metadata": {},
   "source": [
    "### 풀이 2\n",
    "\n",
    "* 1. 순열을 구현하여(N개의 자연수 중 길이가 M인 수열을 추출) 조합을 구한다.\n",
    "    * eg. N = 4, M = 2, [9, 7, 9, 1] 일 때,\n",
    "    * i == 0 일 때, gen_permutations:\n",
    "        * a. elem == 9, arr[:i] + arr[i+1:] == [7, 9, 1], n = 2\n",
    "        * b. elem == 7, arr[:i] + arr[i+1:] == [9, 1], n = 1\n",
    "        * c. n == 0 이므로 P == [[]], [[elem] + P] = [[7]]\n",
    "        * d. for문에 의해 [[elem] + P] == [[9] + [7]] == [[9, 7]]\n",
    "        * e. for문에 의해 [9, 7]이 result에 더해짐\n",
    "    * b ~ e가 반복되며 result == [[9, 7], [9, 9], [9, 1]]\n",
    "\n",
    "    * i == 1 일 때, gen_permutations:\n",
    "        * a. elem == 7, arr[:i] + arr[i+1:] == [9, 9, 1], n = 2\n",
    "        * b. elem == 9, arr[:i] + arr[i+1:] == [9, 1], n = 1\n",
    "        * c. n == 0 이므로 P == [[]], [[elem] + P] = [[9]]\n",
    "        * d. for문에 의해 [[elem] + P] == [[7] + [9]] == [[7, 9]]\n",
    "        * e. for문에 의해 [9, 7]이 result에 더해짐\n",
    "    * b ~ e가 반복되며 result == [[9, 7], [9, 9], [9, 1], [7, 9], [7, 1], [7, 9]]\n",
    "    * set에 의해서 중복 List가 제거되고 sorted에 의해 사전 순으로 증가하는 순서로 정렬된다."
   ]
  },
  {
   "attachments": {},
   "cell_type": "markdown",
   "metadata": {},
   "source": [
    "https://www.acmicpc.net/problem/15663"
   ]
  }
 ],
 "metadata": {
  "kernelspec": {
   "display_name": "ws1",
   "language": "python",
   "name": "python3"
  },
  "language_info": {
   "codemirror_mode": {
    "name": "ipython",
    "version": 3
   },
   "file_extension": ".py",
   "mimetype": "text/x-python",
   "name": "python",
   "nbconvert_exporter": "python",
   "pygments_lexer": "ipython3",
   "version": "3.12.4"
  },
  "orig_nbformat": 4,
  "vscode": {
   "interpreter": {
    "hash": "2856db72fb1e77597a3b14e9c1bb4d2315d342edc16fc9e25c6c6e499688b933"
   }
  }
 },
 "nbformat": 4,
 "nbformat_minor": 2
}
