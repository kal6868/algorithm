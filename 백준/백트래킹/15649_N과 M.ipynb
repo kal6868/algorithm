{
 "cells": [
  {
   "attachments": {},
   "cell_type": "markdown",
   "metadata": {},
   "source": [
    "# N과 M"
   ]
  },
  {
   "attachments": {},
   "cell_type": "markdown",
   "metadata": {},
   "source": [
    "## 문제"
   ]
  },
  {
   "attachments": {},
   "cell_type": "markdown",
   "metadata": {},
   "source": [
    "* 자연수 N과 M이 주어졌을 때, 아래 조건을 만족하는 길이가 M인 수열을 모두 구하는 프로그램을 작성하시오.\n",
    "    * 1부터 N까지 자연수 중에서 중복 없이 M개를 고른 수열"
   ]
  },
  {
   "attachments": {},
   "cell_type": "markdown",
   "metadata": {},
   "source": [
    "## 입력"
   ]
  },
  {
   "attachments": {},
   "cell_type": "markdown",
   "metadata": {},
   "source": [
    "* 첫째 줄에 자연수 N과 M이 주어진다. (1 ≤ M ≤ N ≤ 8)"
   ]
  },
  {
   "attachments": {},
   "cell_type": "markdown",
   "metadata": {},
   "source": [
    "## 출력"
   ]
  },
  {
   "attachments": {},
   "cell_type": "markdown",
   "metadata": {},
   "source": [
    "* 한 줄에 하나씩 문제의 조건을 만족하는 수열을 출력한다. 중복되는 수열을 여러 번 출력하면 안되며, 각 수열은 공백으로 구분해서 출력해야 한다. \n",
    "수열은 사전 순으로 증가하는 순서로 출력해야 한다."
   ]
  },
  {
   "attachments": {},
   "cell_type": "markdown",
   "metadata": {},
   "source": [
    "## Code"
   ]
  },
  {
   "cell_type": "code",
   "execution_count": 1,
   "metadata": {},
   "outputs": [],
   "source": [
    "# 15649_N과 M -> permutation 사용\n",
    "\n",
    "import sys\n",
    "from itertools import permutations\n",
    "\n",
    "def solution():\n",
    "    N, M = map(int, input().split())\n",
    "    # N, M = map(int, sys.stdin.readline().split())\n",
    "    numbers = list(map(list, permutations([i for i in range(1, N+1)], M))) # -> permutation 사용 \n",
    "\n",
    "    print(*[' '.join(map(str, l)) for l in numbers], sep='\\n')"
   ]
  },
  {
   "cell_type": "code",
   "execution_count": null,
   "metadata": {},
   "outputs": [],
   "source": [
    "# 15649_N과 M -> permutation 구현\n",
    "\n",
    "import sys\n",
    "from itertools import permutations\n",
    "\n",
    "def imp_permutation(arr, n):\n",
    "    result = []\n",
    "\n",
    "    if n == 0:\n",
    "        return [[]]\n",
    "\n",
    "    for i, elem in enumerate(arr):\n",
    "        for P in imp_permutation(arr[:i] + arr[i+1:], n-1): # elem 1인 경우 [[2], [3], [4]]를 반환한다. P는 [2], [3], [4]가 된다.\n",
    "            result += [[elem] + P]\n",
    "    return result\n",
    "def solution():\n",
    "    N, M = map(int, input().split())\n",
    "    numbers = imp_permutation([i for i in range(1, N+1)], M)\n",
    "    print(*[' '.join(map(str, l)) for l in numbers], sep='\\n')"
   ]
  },
  {
   "cell_type": "code",
   "execution_count": 2,
   "metadata": {},
   "outputs": [
    {
     "name": "stdout",
     "output_type": "stream",
     "text": [
      "1\n",
      "2\n",
      "3\n"
     ]
    }
   ],
   "source": [
    "solution()"
   ]
  },
  {
   "cell_type": "code",
   "execution_count": 3,
   "metadata": {},
   "outputs": [
    {
     "name": "stdout",
     "output_type": "stream",
     "text": [
      "1 2\n",
      "1 3\n",
      "1 4\n",
      "2 1\n",
      "2 3\n",
      "2 4\n",
      "3 1\n",
      "3 2\n",
      "3 4\n",
      "4 1\n",
      "4 2\n",
      "4 3\n"
     ]
    }
   ],
   "source": [
    "solution()"
   ]
  },
  {
   "cell_type": "code",
   "execution_count": 4,
   "metadata": {},
   "outputs": [
    {
     "name": "stdout",
     "output_type": "stream",
     "text": [
      "1 2 3 4\n",
      "1 2 4 3\n",
      "1 3 2 4\n",
      "1 3 4 2\n",
      "1 4 2 3\n",
      "1 4 3 2\n",
      "2 1 3 4\n",
      "2 1 4 3\n",
      "2 3 1 4\n",
      "2 3 4 1\n",
      "2 4 1 3\n",
      "2 4 3 1\n",
      "3 1 2 4\n",
      "3 1 4 2\n",
      "3 2 1 4\n",
      "3 2 4 1\n",
      "3 4 1 2\n",
      "3 4 2 1\n",
      "4 1 2 3\n",
      "4 1 3 2\n",
      "4 2 1 3\n",
      "4 2 3 1\n",
      "4 3 1 2\n",
      "4 3 2 1\n"
     ]
    }
   ],
   "source": [
    "solution()"
   ]
  },
  {
   "attachments": {},
   "cell_type": "markdown",
   "metadata": {},
   "source": [
    "## 예제입력"
   ]
  },
  {
   "attachments": {},
   "cell_type": "markdown",
   "metadata": {},
   "source": [
    "## Note"
   ]
  },
  {
   "cell_type": "markdown",
   "metadata": {},
   "source": [
    "* 1. itertools의 permutations를 사용하여 가능한 조합식을 다 만든다.\n",
    "* 2. 다만 Tuple 형태로 나오므로 이를 list바꾼 후 ' '.join()을 사용하여 문제에서 요구하는 형태로 만들어 출력한다."
   ]
  },
  {
   "cell_type": "markdown",
   "metadata": {},
   "source": [
    "* 1. 재귀함수를 사용하여 permutation을 구현한 뒤 가능한 조합식을 다 만든다.\n",
    "    * [1,2,3,4]에서 2개씩 뽑는 경우 [1]: imp_permutation([1,2,3,4], 2) -> [1] + imp_permutation([2,3,4], 1) -> [1] + [2] + imp_permutation([3,4], 0)\n",
    "    * [1] + permutation([2,3,4], 1)\n",
    "        * permutation([2,3,4], 1)에서 for 문을통해서 elem이 2일때, imp_permutation이 빈 리스트([])를 반환하므로 [2]가 되고 나머지도 [3], [4]가 된다\n",
    "        * permutation([2,3,4], 1)는 [[2], [3], [4]]를 반환하게 되고 이를 [1]과 더하게 되면 [[1,2], [1,3], [1,4]]를 반환한다\n",
    "    * index를 통해서 처음에 뽑는 숫자를 제외하고 나머지 숫자에서 n-1을 뽑는 과정을 반복하면 모든 조합의 수를 구할 수 있다.\n",
    "* 2. 숫자를 문자열로 바꾼 후 ' '.join()을 사용하여 문제에서 요구하는 형태로 만들어 출력한다."
   ]
  },
  {
   "attachments": {},
   "cell_type": "markdown",
   "metadata": {},
   "source": [
    "https://www.acmicpc.net/problem/15649"
   ]
  }
 ],
 "metadata": {
  "kernelspec": {
   "display_name": "ws1",
   "language": "python",
   "name": "python3"
  },
  "language_info": {
   "codemirror_mode": {
    "name": "ipython",
    "version": 3
   },
   "file_extension": ".py",
   "mimetype": "text/x-python",
   "name": "python",
   "nbconvert_exporter": "python",
   "pygments_lexer": "ipython3",
   "version": "3.11.5"
  },
  "orig_nbformat": 4,
  "vscode": {
   "interpreter": {
    "hash": "2856db72fb1e77597a3b14e9c1bb4d2315d342edc16fc9e25c6c6e499688b933"
   }
  }
 },
 "nbformat": 4,
 "nbformat_minor": 2
}
