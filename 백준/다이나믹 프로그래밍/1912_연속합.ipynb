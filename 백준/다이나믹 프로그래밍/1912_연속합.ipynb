{
 "cells": [
  {
   "attachments": {},
   "cell_type": "markdown",
   "metadata": {},
   "source": [
    "# 연속합"
   ]
  },
  {
   "attachments": {},
   "cell_type": "markdown",
   "metadata": {},
   "source": [
    "## 문제"
   ]
  },
  {
   "attachments": {},
   "cell_type": "markdown",
   "metadata": {},
   "source": [
    "* n개의 정수로 이루어진 임의의 수열이 주어진다. 우리는 이 중 연속된 몇 개의 수를 선택해서 구할 수 있는 합 중 가장 큰 합을 구하려고 한다. 단, 수는 한 개 이상 선택해야 한다.\n",
    "\n",
    "* 예를 들어서 10, -4, 3, 1, 5, 6, -35, 12, 21, -1 이라는 수열이 주어졌다고 하자. 여기서 정답은 12+21인 33이 정답이 된다."
   ]
  },
  {
   "attachments": {},
   "cell_type": "markdown",
   "metadata": {},
   "source": [
    "## 입력"
   ]
  },
  {
   "attachments": {},
   "cell_type": "markdown",
   "metadata": {},
   "source": [
    "* 첫째 줄에 정수 n(1 ≤ n ≤ 100,000)이 주어지고 둘째 줄에는 n개의 정수로 이루어진 수열이 주어진다. 수는 -1,000보다 크거나 같고, 1,000보다 작거나 같은 정수이다."
   ]
  },
  {
   "attachments": {},
   "cell_type": "markdown",
   "metadata": {},
   "source": [
    "## 출력"
   ]
  },
  {
   "attachments": {},
   "cell_type": "markdown",
   "metadata": {},
   "source": [
    "* 첫째 줄에 답을 출력한다."
   ]
  },
  {
   "attachments": {},
   "cell_type": "markdown",
   "metadata": {},
   "source": [
    "## Code"
   ]
  },
  {
   "cell_type": "code",
   "execution_count": 1,
   "metadata": {},
   "outputs": [],
   "source": [
    "# 1912_연속합\n",
    "import sys\n",
    "def solution():\n",
    "    # N = int(sys.stdin.readline())\n",
    "    # dp = list(map(int, sys.stdin.readline().split()))\n",
    "    N = int(input())\n",
    "    dp = list(map(int, input().split()))\n",
    "    m_dp = 0 \n",
    "    for i in range(1, N):\n",
    "        dp[i] = max(dp[i], dp[i] + dp[i-1])\n",
    "        if m_dp < dp[i]:\n",
    "            m_dp = dp[i]\n",
    "    m_dp = max(dp) if m_dp == 0 else m_dp        \n",
    "    print(m_dp)"
   ]
  },
  {
   "attachments": {},
   "cell_type": "markdown",
   "metadata": {},
   "source": [
    "## 예제입력"
   ]
  },
  {
   "cell_type": "code",
   "execution_count": 2,
   "metadata": {},
   "outputs": [
    {
     "name": "stdout",
     "output_type": "stream",
     "text": [
      "33\n"
     ]
    }
   ],
   "source": [
    "solution()"
   ]
  },
  {
   "cell_type": "code",
   "execution_count": 3,
   "metadata": {},
   "outputs": [
    {
     "name": "stdout",
     "output_type": "stream",
     "text": [
      "14\n"
     ]
    }
   ],
   "source": [
    "solution()"
   ]
  },
  {
   "cell_type": "code",
   "execution_count": 4,
   "metadata": {},
   "outputs": [
    {
     "name": "stdout",
     "output_type": "stream",
     "text": [
      "-1\n"
     ]
    }
   ],
   "source": [
    "solution()"
   ]
  },
  {
   "attachments": {},
   "cell_type": "markdown",
   "metadata": {},
   "source": [
    "## Note"
   ]
  },
  {
   "cell_type": "markdown",
   "metadata": {},
   "source": [
    "* 1. 수열을 List에 저장하고, 최초의 연속 합을 시작하는 1번 index부터 for문을 시작한다.\n",
    "* 2. i번째 이전까지의 합이 i보다 크면 dp[i]를 이전까지의 합으로 최신화하고, dp[i]보다 작으면 dp[i]를 그대로 유지한다.\n",
    "    * 1) dp: [10, 6, 9, 10, 15, 21, -14, 12, 33, 32]\n",
    "        * 8번째 요소인 12 이전까지는 연속된 수열의 합이 dp[i]보다 크지만, -14 + 12 = 2 < 12 이므로 최신화 되지 않는다.\n",
    "* 3. for문이 종료 된 후 dp에서 최대값을 찾아 반환한다.\n",
    "    * 1) 다만, m_dp를 0으로 선언하여 for문이 실행되는 동안, 연속 합이 0보다 크면 해당 값으로 업데이트 하는 방법을 사용한다\n",
    "    * 2) 연속합이 음수인 경우, max를 사용하여 dp중 가장 큰 값을 찾아서 반환한다."
   ]
  },
  {
   "attachments": {},
   "cell_type": "markdown",
   "metadata": {},
   "source": [
    "https://www.acmicpc.net/problem/1912"
   ]
  }
 ],
 "metadata": {
  "kernelspec": {
   "display_name": "ws1",
   "language": "python",
   "name": "python3"
  },
  "language_info": {
   "codemirror_mode": {
    "name": "ipython",
    "version": 3
   },
   "file_extension": ".py",
   "mimetype": "text/x-python",
   "name": "python",
   "nbconvert_exporter": "python",
   "pygments_lexer": "ipython3",
   "version": "3.11.3"
  },
  "orig_nbformat": 4,
  "vscode": {
   "interpreter": {
    "hash": "2856db72fb1e77597a3b14e9c1bb4d2315d342edc16fc9e25c6c6e499688b933"
   }
  }
 },
 "nbformat": 4,
 "nbformat_minor": 2
}
