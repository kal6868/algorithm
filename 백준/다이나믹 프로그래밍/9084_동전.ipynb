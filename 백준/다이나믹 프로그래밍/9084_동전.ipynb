{
 "cells": [
  {
   "attachments": {},
   "cell_type": "markdown",
   "metadata": {},
   "source": [
    "# 동전"
   ]
  },
  {
   "attachments": {},
   "cell_type": "markdown",
   "metadata": {},
   "source": [
    "## 문제"
   ]
  },
  {
   "attachments": {},
   "cell_type": "markdown",
   "metadata": {},
   "source": [
    "* 우리나라 화폐단위, 특히 동전에는 1원, 5원, 10원, 50원, 100원, 500원이 있다. 이 동전들로는 정수의 금액을 만들 수 있으며 그 방법도 여러 가지가 있을 수 있다. 예를 들어, 30원을 만들기 위해서는 1원짜리 30개 또는 10원짜리 2개와 5원짜리 2개 등의 방법이 가능하다."
   ]
  },
  {
   "cell_type": "markdown",
   "metadata": {},
   "source": [
    "* 동전의 종류가 주어질 때에 주어진 금액을 만드는 모든 방법을 세는 프로그램을 작성하시오."
   ]
  },
  {
   "attachments": {},
   "cell_type": "markdown",
   "metadata": {},
   "source": [
    "## 입력"
   ]
  },
  {
   "cell_type": "markdown",
   "metadata": {},
   "source": [
    "* 입력의 첫 줄에는 테스트 케이스의 개수 T(1 ≤ T ≤ 10)가 주어진다. 각 테스트 케이스의 첫 번째 줄에는 동전의 가지 수 N(1 ≤ N ≤ 20)이 주어지고 두 번째 줄에는 N가지 동전의 각 금액이 오름차순으로 정렬되어 주어진다. 각 금액은 정수로서 1원부터 10000원까지 있을 수 있으며 공백으로 구분된다. 세 번째 줄에는 주어진 N가지 동전으로 만들어야 할 금액 M(1 ≤ M ≤ 10000)이 주어진다."
   ]
  },
  {
   "attachments": {},
   "cell_type": "markdown",
   "metadata": {},
   "source": [
    "* 편의를 위해 방법의 수는 231 - 1 보다 작고, 같은 동전이 여러 번 주어지는 경우는 없다."
   ]
  },
  {
   "attachments": {},
   "cell_type": "markdown",
   "metadata": {},
   "source": [
    "## 출력"
   ]
  },
  {
   "attachments": {},
   "cell_type": "markdown",
   "metadata": {},
   "source": [
    "* 각 테스트 케이스에 대해 입력으로 주어지는 N가지 동전으로 금액 M을 만드는 모든 방법의 수를 한 줄에 하나씩 출력한다."
   ]
  },
  {
   "attachments": {},
   "cell_type": "markdown",
   "metadata": {},
   "source": [
    "## Code"
   ]
  },
  {
   "cell_type": "code",
   "execution_count": 1,
   "metadata": {},
   "outputs": [],
   "source": [
    "# 9084_동전\n",
    "import sys\n",
    "\n",
    "def solution():\n",
    "    T = int(input())\n",
    "    # T = int(sys.stdin.readline())\n",
    "    for _ in range(T):\n",
    "        N = int(input())\n",
    "        # N = int(sys.stdin.readline())\n",
    "        coins = list(map(int, input().split()))\n",
    "        # coins = list(map(int, sys.stdin.readline().split()))\n",
    "        M = int(input())\n",
    "        # M = int(sys.stdin.readline())\n",
    "        \n",
    "        dp = [0]*(M + 1)\n",
    "        dp[0] = 1\n",
    "\n",
    "        for coin in coins:\n",
    "            for i in range(coin, M+1):\n",
    "                dp[i] += dp[i-coin]\n",
    "        print(dp[M])"
   ]
  },
  {
   "attachments": {},
   "cell_type": "markdown",
   "metadata": {},
   "source": [
    "## 예제입력"
   ]
  },
  {
   "cell_type": "code",
   "execution_count": 2,
   "metadata": {},
   "outputs": [
    {
     "name": "stdout",
     "output_type": "stream",
     "text": [
      "501\n",
      "121\n",
      "1\n"
     ]
    }
   ],
   "source": [
    "solution()"
   ]
  },
  {
   "attachments": {},
   "cell_type": "markdown",
   "metadata": {},
   "source": [
    "## Note"
   ]
  },
  {
   "cell_type": "markdown",
   "metadata": {},
   "source": [
    "* 1. coin 별로 dp에 가능한 조합을 업데이트 한다\n",
    "    * 1\\) dp[0]에 1을 넣어주는 것은 이후 dp의 index 값을 업데이트 하는데 쓰인다.\n",
    "        * ex\\) coin == 2\n",
    "        * [1, 0, 0, 0, 0, 0] -> [1, 0, 1, 0, 0, 0] -> [1, 0, 1, 0, 1, 0]...\n",
    "    * 2\\) for문으로 dp 시작 인덱스를 코인의 값부터 시작하고, 코인 값만큼의 이전 인덱스의 값을 이번 인덱스에 더해주는 과정을 반복한다\n",
    "        * 만약 coin == 2, 3, 5이고 이번에는 coin == 5 라면\n",
    "        * M = 10 | [1, 0, 1, 1, 1, 1, 2, 1, 2, 2, 3] -> [1, 0, 1, 1, 1, 2, 2, 2, 3, 3, 4] 으로 진행된다\n",
    "        * coin이 5인 경우, 6을 만들 수 있는 경우의 수는 dp[6-1]의 값이다. 만약 coin이 5 밖에 없다면 해당 경우의 수는 0이 된다.\n",
    "        * coin이 2, 5인 경우, 7을 만들 수 있는 경우의 수 또한 dp[7-1]의 값이다. 만약 coin이 5 밖에 없다면 해당 경우의 수는 1이 된다. "
   ]
  },
  {
   "attachments": {},
   "cell_type": "markdown",
   "metadata": {},
   "source": [
    "https://www.acmicpc.net/problem/9084"
   ]
  }
 ],
 "metadata": {
  "kernelspec": {
   "display_name": "ws1",
   "language": "python",
   "name": "python3"
  },
  "language_info": {
   "codemirror_mode": {
    "name": "ipython",
    "version": 3
   },
   "file_extension": ".py",
   "mimetype": "text/x-python",
   "name": "python",
   "nbconvert_exporter": "python",
   "pygments_lexer": "ipython3",
   "version": "3.11.3"
  },
  "orig_nbformat": 4,
  "vscode": {
   "interpreter": {
    "hash": "2856db72fb1e77597a3b14e9c1bb4d2315d342edc16fc9e25c6c6e499688b933"
   }
  }
 },
 "nbformat": 4,
 "nbformat_minor": 2
}
