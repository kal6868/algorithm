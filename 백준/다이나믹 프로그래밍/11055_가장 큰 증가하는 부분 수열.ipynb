{
 "cells": [
  {
   "attachments": {},
   "cell_type": "markdown",
   "metadata": {},
   "source": [
    "# 구간 합 구하기 5"
   ]
  },
  {
   "attachments": {},
   "cell_type": "markdown",
   "metadata": {},
   "source": [
    "## 문제"
   ]
  },
  {
   "cell_type": "markdown",
   "metadata": {},
   "source": [
    "* 수열 A가 주어졌을 때, 그 수열의 증가하는 부분 수열 중에서 합이 가장 큰 것을 구하는 프로그램을 작성하시오."
   ]
  },
  {
   "cell_type": "markdown",
   "metadata": {},
   "source": [
    "* 예를 들어, 수열 A = {1, 100, 2, 50, 60, 3, 5, 6, 7, 8} 인 경우에 합이 가장 큰 증가하는 부분 수열은 A = {1, 100, 2, 50, 60, 3, 5, 6, 7, 8} 이고, 합은 113이다."
   ]
  },
  {
   "attachments": {},
   "cell_type": "markdown",
   "metadata": {},
   "source": [
    "## 입력"
   ]
  },
  {
   "cell_type": "markdown",
   "metadata": {},
   "source": [
    "* 첫째 줄에 수열 A의 크기 N (1 ≤ N ≤ 1,000)이 주어진다."
   ]
  },
  {
   "cell_type": "markdown",
   "metadata": {},
   "source": [
    "* 둘째 줄에는 수열 A를 이루고 있는 Ai가 주어진다. (1 ≤ Ai ≤ 1,000)"
   ]
  },
  {
   "attachments": {},
   "cell_type": "markdown",
   "metadata": {},
   "source": [
    "## 출력"
   ]
  },
  {
   "cell_type": "markdown",
   "metadata": {},
   "source": [
    "* 첫째 줄에 수열 A의 합이 가장 큰 증가하는 부분 수열의 합을 출력한다."
   ]
  },
  {
   "attachments": {},
   "cell_type": "markdown",
   "metadata": {},
   "source": [
    "## Code"
   ]
  },
  {
   "cell_type": "code",
   "execution_count": 1,
   "metadata": {},
   "outputs": [],
   "source": [
    "# 11055_가장 큰 증가하는 부분 수열\n",
    "\n",
    "import sys\n",
    "submit = False\n",
    "input = sys.stdin.readline if submit else input\n",
    "\n",
    "\n",
    "def solution():\n",
    "    N = int(input())\n",
    "    numbers = list(map(int, input().split()))\n",
    "\n",
    "    dp = numbers[:]\n",
    "\n",
    "    for i in range(N):\n",
    "        for j in range(i):\n",
    "            if numbers[i] > numbers[j]:\n",
    "                dp[i] = max(dp[i], dp[j] + numbers[i])\n",
    "    print(max(dp))"
   ]
  },
  {
   "cell_type": "code",
   "execution_count": 2,
   "metadata": {},
   "outputs": [
    {
     "name": "stdout",
     "output_type": "stream",
     "text": [
      "113\n"
     ]
    }
   ],
   "source": [
    "solution()"
   ]
  },
  {
   "attachments": {},
   "cell_type": "markdown",
   "metadata": {},
   "source": [
    "## Note"
   ]
  },
  {
   "cell_type": "markdown",
   "metadata": {},
   "source": [
    "* 1. 이중for문을 현재 값과 이전 값들을 비교한다.\n",
    "    * 1\\) ex. 1 100 2 50 60 3 5 6 7 8 일시\n",
    "        * 100: 1 | 2: 1, 100 | 50: 1, 100, 2 | 60: 1, 100, 2, 50 ...\n",
    "* 2. [:] 문법을 사용하면 dp와 number는 다른 주소값을 갖으므로 dp를 수정한다고 해도 numbers가 수정되지는 않는다.\n",
    "* 3. 비교 과정에서 기준 값(numbers[i]) 이전의 값이 현재 값보다 작으면 더한 후 이번에 비교한 값을 더한 경우가 최대 값인 경우에만 dp를 업데이트 한다. \n",
    "    * 수열: 1 100 2 50 60 3 5 6 7 8\n",
    "    * dp: [1, 101, 2, 50, 60, 3, 5, 6, 7, 8], i = 1: 1은 100보다 작아서 dp[1] 값을 101로 변경\n",
    "    * dp: [1, 101, 3, 50, 60, 3, 5, 6, 7, 8], i = 2: 1은 2보다 작아서 dp[2] 값을 3으로 변경\n",
    "    * dp: [1, 101, 3, 50, 60, 3, 5, 6, 7, 8], i = 2: 100은 2보다 커서 dp[2] 값은 변경 없음\n",
    "    * dp: [1, 101, 3, 51, 60, 3, 5, 6, 7, 8], i = 3: 1은 50보다 작아서 dp[3] 값을 51로 변경\n",
    "    * dp: [1, 101, 3, 51, 60, 3, 5, 6, 7, 8], i = 3: 100은 50보다 커서 dp[3] 값 변경 없음\n",
    "    * dp: [1, 101, 3, 53, 60, 3, 5, 6, 7, 8], i = 3: 2는 50보다 작아서 dp[3] 값 53으로 변경\n",
    "    * dp: [1, 101, 3, 53, 61, 3, 5, 6, 7, 8], i = 4: 1는 60보다 작아서 dp[4] 값 61으로 변경\n",
    "    * dp: [1, 101, 3, 53, 61, 3, 5, 6, 7, 8], i = 4: 100은 60보다 커서 dp[4] 값 변경 없음\n",
    "    * dp: [1, 101, 3, 53, 63, 3, 5, 6, 7, 8], i = 4: 2는 60보다 작아서 dp[4] 값 63으로 변경\n",
    "    * dp: [1, 101, 3, 53, 113, 3, 5, 6, 7, 8],i = 4: 50는 60보다 작아서 dp[4] 값 113으로 변경\n",
    "\n",
    "* 4. max에 의해서 수열이 증가하다가 감소하면 이전에 더한 값보다 작기 때문에 값이 변경되지 않는다.\n",
    "    * 수열: [1, 100, 4, 2, 50, 60, 3, 5, 6, 7, 8]\n",
    "    * dp: [1, 101, 4, 2, 50, 60, 3, 5, 6, 7, 8], i =  1: 1은 100보다 작아서 dp[1] 값을 101로 변경\n",
    "    * dp: [1, 101, 5, 2, 50, 60, 3, 5, 6, 7, 8], i =  2: 1은 4보다 작아서 dp[2] 값을 5으로 변경\n",
    "    * dp: [1, 101, 5, 2, 50, 60, 3, 5, 6, 7, 8], i =  2: 100은 4보다 커서 dp[2] 값 변경 없음\n",
    "    * dp: [1, 101, 5, 3, 50, 60, 3, 5, 6, 7, 8], i =  3: 1은 2보다 작아서 dp[3] 값 3으로 변경\n",
    "    * dp: [1, 101, 5, 3, 50, 60, 3, 5, 6, 7, 8], i =  3: 100은 2보다 커서 dp[3] 값 변경 없음\n",
    "    * dp: [1, 101, 5, 3, 50, 60, 3, 5, 6, 7, 8], i =  3: 4은 2보다 커서 dp[3] 값 변경 없음\n",
    "    * dp: [1, 101, 5, 3, 51, 60, 3, 5, 6, 7, 8], i =  4: 1은 50보다 작아서 dp[4] 값 51로 변경\n",
    "    * dp: [1, 101, 5, 3, 51, 60, 3, 5, 6, 7, 8], i =  4: 100은 50보다 커서 dp[4] 값 변경 없음\n",
    "    * dp: [1, 101, 5, 3, 55, 60, 3, 5, 6, 7, 8], i =  4: 4은 50보다 작아서 dp[4] 값 55로 변경\n",
    "    * dp: [1, 101, 5, 3, 55, 60, 3, 5, 6, 7, 8], i =  4: * 2은 50보다 작으나 현재 dp[4] 값은 55(1 + 4 + 50)인데 53(1 + 2 + 50)보다 더 크므로 최신화되지 않는다."
   ]
  },
  {
   "attachments": {},
   "cell_type": "markdown",
   "metadata": {},
   "source": [
    "https://www.acmicpc.net/problem/11055"
   ]
  }
 ],
 "metadata": {
  "kernelspec": {
   "display_name": "ws1",
   "language": "python",
   "name": "python3"
  },
  "language_info": {
   "codemirror_mode": {
    "name": "ipython",
    "version": 3
   },
   "file_extension": ".py",
   "mimetype": "text/x-python",
   "name": "python",
   "nbconvert_exporter": "python",
   "pygments_lexer": "ipython3",
   "version": "3.11.5"
  },
  "orig_nbformat": 4,
  "vscode": {
   "interpreter": {
    "hash": "2856db72fb1e77597a3b14e9c1bb4d2315d342edc16fc9e25c6c6e499688b933"
   }
  }
 },
 "nbformat": 4,
 "nbformat_minor": 2
}
