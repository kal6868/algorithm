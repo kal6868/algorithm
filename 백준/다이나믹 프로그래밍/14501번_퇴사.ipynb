{
 "cells": [
  {
   "attachments": {},
   "cell_type": "markdown",
   "metadata": {},
   "source": [
    "# 퇴사"
   ]
  },
  {
   "attachments": {},
   "cell_type": "markdown",
   "metadata": {},
   "source": [
    "## 문제"
   ]
  },
  {
   "attachments": {},
   "cell_type": "markdown",
   "metadata": {},
   "source": [
    "* 상담원으로 일하고 있는 백준이는 퇴사를 하려고 한다.\n",
    "\n",
    "* 오늘부터 N+1일째 되는 날 퇴사를 하기 위해서, 남은 N일 동안 최대한 많은 상담을 하려고 한다.\n",
    "\n",
    "* 백준이는 비서에게 최대한 많은 상담을 잡으라고 부탁을 했고, 비서는 하루에 하나씩 서로 다른 사람의 상담을 잡아놓았다.\n",
    "\n",
    "* 각각의 상담은 상담을 완료하는데 걸리는 기간 Ti와 상담을 했을 때 받을 수 있는 금액 Pi로 이루어져 있다.\n",
    "\n",
    "* N = 7인 경우에 다음과 같은 상담 일정표를 보자."
   ]
  },
  {
   "cell_type": "markdown",
   "metadata": {},
   "source": [
    "||1일|2일|3일|4일|5일|6일|7일|\n",
    "|---|---|---|---|---|---|---|---|\n",
    "|Ti|3|5|1|1|2|4|2|\n",
    "|Pi|10|20|10|20|15|40|200|"
   ]
  },
  {
   "cell_type": "markdown",
   "metadata": {},
   "source": [
    "* 1일에 잡혀있는 상담은 총 3일이 걸리며, 상담했을 때 받을 수 있는 금액은 10이다. 5일에 잡혀있는 상담은 총 2일이 걸리며, 받을 수 있는 금액은 15이다.\n",
    "\n",
    "* 상담을 하는데 필요한 기간은 1일보다 클 수 있기 때문에, 모든 상담을 할 수는 없다. 예를 들어서 1일에 상담을 하게 되면, 2일, 3일에 있는 상담은 할 수 없게 된다. 2일에 있는 상담을 하게 되면, 3, 4, 5, 6일에 잡혀있는 상담은 할 수 없다.\n",
    "\n",
    "* 또한, N+1일째에는 회사에 없기 때문에, 6, 7일에 있는 상담을 할 수 없다.\n",
    "\n",
    "* 퇴사 전에 할 수 있는 상담의 최대 이익은 1일, 4일, 5일에 있는 상담을 하는 것이며, 이때의 이익은 10+20+15=45이다.\n",
    "\n",
    "* 상담을 적절히 했을 때, 백준이가 얻을 수 있는 최대 수익을 구하는 프로그램을 작성하시오."
   ]
  },
  {
   "attachments": {},
   "cell_type": "markdown",
   "metadata": {},
   "source": [
    "## 입력"
   ]
  },
  {
   "cell_type": "markdown",
   "metadata": {},
   "source": [
    "* 첫째 줄에 N (1 ≤ N ≤ 15)이 주어진다.\n",
    "\n",
    "* 둘째 줄부터 N개의 줄에 Ti와 Pi가 공백으로 구분되어서 주어지며, 1일부터 N일까지 순서대로 주어진다. (1 ≤ Ti ≤ 5, 1 ≤ Pi ≤ 1,000)"
   ]
  },
  {
   "cell_type": "markdown",
   "metadata": {},
   "source": [
    "## 출력"
   ]
  },
  {
   "cell_type": "markdown",
   "metadata": {},
   "source": [
    "* 첫째 줄에 백준이가 얻을 수 있는 최대 이익을 출력한다."
   ]
  },
  {
   "attachments": {},
   "cell_type": "markdown",
   "metadata": {},
   "source": [
    "## Code"
   ]
  },
  {
   "cell_type": "code",
   "execution_count": 1,
   "metadata": {},
   "outputs": [],
   "source": [
    "#14501번 퇴사\n",
    "import sys\n",
    "def solution():\n",
    "    # N = int(sys.stdin.readline())\n",
    "    N = int(input())\n",
    "    T, P = [0] * (N+1), [0] * (N+1)\n",
    "    dp = [0] * (N+1)\n",
    "    for i in range(N):\n",
    "        t, p = map(int, input().split())\n",
    "        # t, p = map(int, sys.stdin.readline().split())\n",
    "        T[i], P[i] = t, p\n",
    "\n",
    "    for i in range(N-1, -1, -1):\n",
    "        if T[i] + i > N:\n",
    "            dp[i] = dp[i+1]\n",
    "        else:\n",
    "            dp[i] = max(dp[i+1], dp[T[i] + i] + P[i])\n",
    "    print(dp[0])"
   ]
  },
  {
   "attachments": {},
   "cell_type": "markdown",
   "metadata": {},
   "source": [
    "## 예제입력"
   ]
  },
  {
   "cell_type": "code",
   "execution_count": 2,
   "metadata": {},
   "outputs": [
    {
     "name": "stdout",
     "output_type": "stream",
     "text": [
      "45\n"
     ]
    }
   ],
   "source": [
    "solution()"
   ]
  },
  {
   "cell_type": "code",
   "execution_count": 3,
   "metadata": {},
   "outputs": [
    {
     "name": "stdout",
     "output_type": "stream",
     "text": [
      "55\n"
     ]
    }
   ],
   "source": [
    "solution()"
   ]
  },
  {
   "cell_type": "code",
   "execution_count": 4,
   "metadata": {},
   "outputs": [
    {
     "name": "stdout",
     "output_type": "stream",
     "text": [
      "20\n"
     ]
    }
   ],
   "source": [
    "solution()"
   ]
  },
  {
   "cell_type": "code",
   "execution_count": 5,
   "metadata": {},
   "outputs": [
    {
     "name": "stdout",
     "output_type": "stream",
     "text": [
      "90\n"
     ]
    }
   ],
   "source": [
    "solution()"
   ]
  },
  {
   "attachments": {},
   "cell_type": "markdown",
   "metadata": {},
   "source": [
    "## Note"
   ]
  },
  {
   "cell_type": "markdown",
   "metadata": {},
   "source": [
    "* dp를 거꾸로 적용한다. 미래에 소득을 알아야 해당 일자에 상담을 잡는 것이 유리한지 아닌지를 비교할 수 있기 때문\n",
    "* 1. for문의 dp index를 뒤에서부터 적용하면서, 해당 일자에 잡힌 상담의 완료(일자+소요시간)일자와 퇴사일을 비교한다\n",
    "    * 1\\) 퇴사일 이후라면 dp의 맨 마지막에 있는 0을 해당 일자에 해당하는 index에 복사한다.\n",
    "    * 2\\) 맨 끝에 0을 남겨두는 이유는 가장 마지막 상담이 완료된 이후 일자는 0으로 남겨 놓아야 dp 업데이트가 가능하기 때문이다.\n",
    "* 2. 기준 점을 설정하기 위해, 가장 마지막으로 진행 가능한 상담을 dp에 업데이트 한다.\n",
    "    * 1\\) 문제 예시에서는 4일에 잡은 상담 소요 시간이 1일이므로 5일에 받은 상담을 무조건 진행한다.\n",
    "    * 2\\) 이 경우, 맨 처음 업데이트 되는 dp는 [0, 0, 0, 0, 15, 0, 0, 0]이 된다\n",
    "    * 3\\) 만약 4일에 잡은 상담이 1일이 아니라 2일이 소요된다고 했을 경우 진행할 수는 있으므로 dp는 [0, 0, 0, 20, 15, 0, 0, 0]이 된다.\n",
    "* 3. dp를 거꾸로 탐색하면서 해당 index의 일자에 잡은 상담을 진행할 때의 소득과, 해당 업무를 하지 않고 다음날 잡힌 업무를 진행할 때의 소득을 비교한다.\n",
    "    * 예를 들면 오늘 진행하면 3일이 소요되는데 소득은 10인 것과, 내일 진행하면 2일이 소요되는데 소득은 20인 것\n",
    "    * 10 + (i+3의 소득), 20 + 10 + (i+2의 소득), 다만 for문이 탐색 중인 상황이므로 i+3과 i+2가 가르키는 index는 동일하다\n",
    "* 4. 더 소득이 큰 것을 dp의 index에 업데이트하고, dp의 0번 index까지 해당 과정을 반복한다\n",
    "    * for문은 start 이상 ~ end 미만이므로 -1까지면 N-1에서 0까지를 반환한다."
   ]
  },
  {
   "attachments": {},
   "cell_type": "markdown",
   "metadata": {},
   "source": [
    "https://www.acmicpc.net/problem/14501"
   ]
  }
 ],
 "metadata": {
  "kernelspec": {
   "display_name": "ws1",
   "language": "python",
   "name": "python3"
  },
  "language_info": {
   "codemirror_mode": {
    "name": "ipython",
    "version": 3
   },
   "file_extension": ".py",
   "mimetype": "text/x-python",
   "name": "python",
   "nbconvert_exporter": "python",
   "pygments_lexer": "ipython3",
   "version": "3.11.3"
  },
  "orig_nbformat": 4,
  "vscode": {
   "interpreter": {
    "hash": "2856db72fb1e77597a3b14e9c1bb4d2315d342edc16fc9e25c6c6e499688b933"
   }
  }
 },
 "nbformat": 4,
 "nbformat_minor": 2
}
