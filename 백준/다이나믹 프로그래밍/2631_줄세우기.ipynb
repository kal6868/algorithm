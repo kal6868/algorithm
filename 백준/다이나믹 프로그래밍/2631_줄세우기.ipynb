{
 "cells": [
  {
   "attachments": {},
   "cell_type": "markdown",
   "metadata": {},
   "source": [
    "# 줄세우기"
   ]
  },
  {
   "attachments": {},
   "cell_type": "markdown",
   "metadata": {},
   "source": [
    "## 문제"
   ]
  },
  {
   "attachments": {},
   "cell_type": "markdown",
   "metadata": {},
   "source": [
    "* KOI 어린이집에는 N명의 아이들이 있다. 오늘은 소풍을 가는 날이다. 선생님은 1번부터 N번까지 번호가 적혀있는 번호표를 아이들의 가슴에 붙여주었다. 선생님은 아이들을 효과적으로 보호하기 위해 목적지까지 번호순서대로 일렬로 서서 걸어가도록 하였다. 이동 도중에 보니 아이들의 번호순서가 바뀌었다. 그래서 선생님은 다시 번호 순서대로 줄을 세우기 위해서 아이들의 위치를 옮기려고 한다. 그리고 아이들이 혼란스러워하지 않도록 하기 위해 위치를 옮기는 아이들의 수를 최소로 하려고 한다."
   ]
  },
  {
   "cell_type": "markdown",
   "metadata": {},
   "source": [
    "* 예를 들어, 7명의 아이들이 다음과 같은 순서대로 줄을 서 있다고 하자.\n",
    "    * 3 7 5 2 6 1 4\n",
    "* 아이들을 순서대로 줄을 세우기 위해, 먼저 4번 아이를 7번 아이의 뒤로 옮겨보자. 그러면 다음과 같은 순서가 된다.\n",
    "    * 3 7 4 5 2 6 1\n",
    "* 이제, 7번 아이를 맨 뒤로 옮긴다.\n",
    "    * 3 4 5 2 6 1 7\n",
    "* 다음 1번 아이를 맨 앞으로 옮긴다.\n",
    "    * 1 3 4 5 2 6 7\n",
    "* 마지막으로 2번 아이를 1번 아이의 뒤로 옮기면 번호 순서대로 배치된다.\n",
    "    * 1 2 3 4 5 6 7"
   ]
  },
  {
   "cell_type": "markdown",
   "metadata": {},
   "source": [
    "* 위의 방법으로 모두 4명의 아이를 옮겨 번호 순서대로 줄을 세운다. 위의 예에서 3명의 아이만을 옮겨서는 순서대로 배치할 수가 없다. 따라서, 4명을 옮기는 것이 가장 적은 수의 아이를 옮기는 것이다."
   ]
  },
  {
   "cell_type": "markdown",
   "metadata": {},
   "source": [
    "* N명의 아이들이 임의의 순서로 줄을 서 있을 때, 번호 순서대로 배치하기 위해 옮겨지는 아이의 최소 수를 구하는 프로그램을 작성하시오."
   ]
  },
  {
   "attachments": {},
   "cell_type": "markdown",
   "metadata": {},
   "source": [
    "## 입력"
   ]
  },
  {
   "attachments": {},
   "cell_type": "markdown",
   "metadata": {},
   "source": [
    "* 첫째 줄에는 아이들의 수 N이 주어진다. 둘째 줄부터는 1부터 N까지의 숫자가 한 줄에 하나씩 주어진다. N은 2 이상 200 이하의 정수이다."
   ]
  },
  {
   "attachments": {},
   "cell_type": "markdown",
   "metadata": {},
   "source": [
    "## 출력"
   ]
  },
  {
   "attachments": {},
   "cell_type": "markdown",
   "metadata": {},
   "source": [
    "* 첫째 줄에는 번호 순서대로 줄을 세우는데 옮겨지는 아이들의 최소 수를 출력한다."
   ]
  },
  {
   "attachments": {},
   "cell_type": "markdown",
   "metadata": {},
   "source": [
    "## Code"
   ]
  },
  {
   "cell_type": "code",
   "execution_count": 1,
   "metadata": {},
   "outputs": [],
   "source": [
    "# 2631_줄세우기 \n",
    "import sys\n",
    "def solution():\n",
    "    N = int(input())\n",
    "    koi_line = [int(input()) for _ in range(N)]\n",
    "\n",
    "    # N = int(sys.stdin.readline())\n",
    "    # koi_line = [int(sys.stdin.readline()) for _ in range(N)]\n",
    "    dp = [1]*len(koi_line)\n",
    "    for i in range(N):\n",
    "        for j in range(i):\n",
    "            # print(i, j)\n",
    "            if koi_line[i] > koi_line[j]:\n",
    "                dp[i] = max(dp[i], dp[j]+1)\n",
    "    # print(dp)\n",
    "    print(N-max(dp))"
   ]
  },
  {
   "attachments": {},
   "cell_type": "markdown",
   "metadata": {},
   "source": [
    "## 예제입력"
   ]
  },
  {
   "cell_type": "code",
   "execution_count": 2,
   "metadata": {},
   "outputs": [
    {
     "name": "stdout",
     "output_type": "stream",
     "text": [
      "4\n"
     ]
    }
   ],
   "source": [
    "solution()"
   ]
  },
  {
   "attachments": {},
   "cell_type": "markdown",
   "metadata": {},
   "source": [
    "## Note"
   ]
  },
  {
   "cell_type": "markdown",
   "metadata": {},
   "source": [
    "* 1. 아이들이 줄을 서있는 상태를 나타내는 List(koi_line)과 아이들의 수만큼 1로 채워진 List(dp)를 선언한다.\n",
    "* 2. 가장 긴 수열의 길이를 찾는다.\n",
    "    * 이중 for문을 사용하여 아이가 7명일 경우 아래와 같은 순서로 비교한다.\n",
    "        * (1, 0)\n",
    "        * (2, 0), (2, 1)\n",
    "        * (3, 0), (3, 1), (3, 2)\n",
    "        * (4, 0), (4, 1), (4, 2), (4, 3)\n",
    "        * (5, 0), (5, 1), (5, 2), (5, 3), (5, 4)\n",
    "        * (6, 0), (6, 1), (6, 2), (6, 3), (6, 4), (6, 5)\n",
    "    * 두번째 index인 1부터 해당 index에서 이전 index의 값을 비교하며 연속된 수열이 있는 경우 dp를 업데이트 하는 과정 반복한다.\n",
    "    * 연속된 수열이 발견된 경우, dp[i] 값은 1이므로 max를 사용해서 이전에 연속된 수열의 길이에 1일 더해서 dp를 업데이트 한다.\n",
    "    * [3, 7, 5, 2, 6, 1, 4] 에서\n",
    "        * 3(j==0), 7(i==1)을 비교했을때, 7이 더 크므로 dp[1]은 dp[0]에서 1을 더한 값이 된다.\n",
    "        * 3(j==0), 5(i==2)을 비교했을때, 5가 더 크므로 dp[2]은 dp[0]에서 1을 더한 값이 된다.\n",
    "        * 5(j==2), 6(i==4)을 비교했을때, 6가 더 크므로 dp[2]은 dp[0]에서 1을 더한 값이 된다.\n",
    "    * 최종 dp는 [1, 2, 2, 1, 3, 1, 2]가 되는데,\n",
    "        * 7, 5는 모두 3보다 크므로 수열의 길이를 표시하는 dp에서 2 값을 갖는다.\n",
    "        * 3,7,5 모두 2보다 크므로 1 값을 갖는다.\n",
    "        * 6은 7보다는 작지만 3, 5보다는 크므로 연속된 수열로 인정되어 3 값을 같는다.\n",
    "        * 1은 앞에 위치한 숫자가 모두 다 크므로 연속된 수열로 인정되지 않아 1을 그대로 갖는다.\n",
    "        * 4는 3보다는 커서 2 값을 갖지만, 2, 1의 dp 값이 모두 1이므로 dp[j]+1는 모두 2가 된다. 따라서 2 이상 값을 갖지 않는다.\n"
   ]
  },
  {
   "attachments": {},
   "cell_type": "markdown",
   "metadata": {},
   "source": [
    "https://www.acmicpc.net/problem/2631"
   ]
  }
 ],
 "metadata": {
  "kernelspec": {
   "display_name": "ws1",
   "language": "python",
   "name": "python3"
  },
  "language_info": {
   "codemirror_mode": {
    "name": "ipython",
    "version": 3
   },
   "file_extension": ".py",
   "mimetype": "text/x-python",
   "name": "python",
   "nbconvert_exporter": "python",
   "pygments_lexer": "ipython3",
   "version": "3.11.3"
  },
  "orig_nbformat": 4,
  "vscode": {
   "interpreter": {
    "hash": "2856db72fb1e77597a3b14e9c1bb4d2315d342edc16fc9e25c6c6e499688b933"
   }
  }
 },
 "nbformat": 4,
 "nbformat_minor": 2
}
