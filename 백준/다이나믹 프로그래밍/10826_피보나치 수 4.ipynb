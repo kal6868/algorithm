{
 "cells": [
  {
   "attachments": {},
   "cell_type": "markdown",
   "metadata": {},
   "source": [
    "# 단지번호붙이기"
   ]
  },
  {
   "attachments": {},
   "cell_type": "markdown",
   "metadata": {},
   "source": [
    "## 문제"
   ]
  },
  {
   "attachments": {},
   "cell_type": "markdown",
   "metadata": {},
   "source": [
    "* 피보나치 수는 0과 1로 시작한다. 0번째 피보나치 수는 0이고, 1번째 피보나치 수는 1이다. 그 다음 2번째 부터는 바로 앞 두 피보나치 수의 합이 된다.\n",
    "* 이를 식으로 써보면 Fn = Fn-1 + Fn-2 (n ≥ 2)가 된다.\n",
    "* n=17일때 까지 피보나치 수를 써보면 다음과 같다.\n",
    "* 0, 1, 1, 2, 3, 5, 8, 13, 21, 34, 55, 89, 144, 233, 377, 610, 987, 1597\n",
    "* n이 주어졌을 때, n번째 피보나치 수를 구하는 프로그램을 작성하시오."
   ]
  },
  {
   "attachments": {},
   "cell_type": "markdown",
   "metadata": {},
   "source": [
    "## 입력"
   ]
  },
  {
   "attachments": {},
   "cell_type": "markdown",
   "metadata": {},
   "source": [
    "* 첫째 줄에 n이 주어진다. n은 10,000보다 작거나 같은 자연수 또는 0이다."
   ]
  },
  {
   "attachments": {},
   "cell_type": "markdown",
   "metadata": {},
   "source": [
    "## 출력"
   ]
  },
  {
   "attachments": {},
   "cell_type": "markdown",
   "metadata": {},
   "source": [
    "* 첫째 줄에 n번째 피보나치 수를 출력한다."
   ]
  },
  {
   "attachments": {},
   "cell_type": "markdown",
   "metadata": {},
   "source": [
    "## Code"
   ]
  },
  {
   "cell_type": "code",
   "execution_count": 1,
   "metadata": {},
   "outputs": [],
   "source": [
    "# 10826번 피보나치 수 4\n",
    "import sys\n",
    "from collections import deque\n",
    "\n",
    "def solution():\n",
    "    dp = [0]*10001\n",
    "    dp[1], dp[2] = 1, 1\n",
    "    N = int(input())\n",
    "    # N = int(sys.stdin.readline())\n",
    "    for i in range(3, N+1):\n",
    "        dp[i] = dp[i-1] + dp[i-2]\n",
    "    print(dp[N])\n"
   ]
  },
  {
   "attachments": {},
   "cell_type": "markdown",
   "metadata": {},
   "source": [
    "## 예제입력"
   ]
  },
  {
   "cell_type": "code",
   "execution_count": 2,
   "metadata": {},
   "outputs": [
    {
     "name": "stdout",
     "output_type": "stream",
     "text": [
      "55\n"
     ]
    }
   ],
   "source": [
    "solution()"
   ]
  },
  {
   "attachments": {},
   "cell_type": "markdown",
   "metadata": {},
   "source": [
    "## Note"
   ]
  },
  {
   "cell_type": "markdown",
   "metadata": {},
   "source": [
    "* 1. 피보나치 수열의 첫번째, 두번째는 숫자는 1이므로 DP(List)의 0, 1번째 수를 1으로 설정한다.\n",
    "* 2. 수열의 세번째 수 부터는 DP에서 index-2, index-1에 위치한 수들을 더한 수로 업데이트한다.\n",
    "* 3. DP의 N번째 숫자를 출력한다. "
   ]
  },
  {
   "attachments": {},
   "cell_type": "markdown",
   "metadata": {},
   "source": [
    "https://www.acmicpc.net/problem/10826"
   ]
  }
 ],
 "metadata": {
  "kernelspec": {
   "display_name": "ws1",
   "language": "python",
   "name": "python3"
  },
  "language_info": {
   "codemirror_mode": {
    "name": "ipython",
    "version": 3
   },
   "file_extension": ".py",
   "mimetype": "text/x-python",
   "name": "python",
   "nbconvert_exporter": "python",
   "pygments_lexer": "ipython3",
   "version": "3.11.3"
  },
  "orig_nbformat": 4,
  "vscode": {
   "interpreter": {
    "hash": "2856db72fb1e77597a3b14e9c1bb4d2315d342edc16fc9e25c6c6e499688b933"
   }
  }
 },
 "nbformat": 4,
 "nbformat_minor": 2
}
