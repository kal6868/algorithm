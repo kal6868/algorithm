{
 "cells": [
  {
   "attachments": {},
   "cell_type": "markdown",
   "metadata": {},
   "source": [
    "# 포도주 시식"
   ]
  },
  {
   "attachments": {},
   "cell_type": "markdown",
   "metadata": {},
   "source": [
    "## 문제"
   ]
  },
  {
   "attachments": {},
   "cell_type": "markdown",
   "metadata": {},
   "source": [
    "* 효주는 포도주 시식회에 갔다. 그 곳에 갔더니, 테이블 위에 다양한 포도주가 들어있는 포도주 잔이 일렬로 놓여 있었다. 효주는 포도주 시식을 하려고 하는데, 여기에는 다음과 같은 두 가지 규칙이 있다.\n",
    "    * 1. 포도주 잔을 선택하면 그 잔에 들어있는 포도주는 모두 마셔야 하고, 마신 후에는 원래 위치에 다시 놓아야 한다.\n",
    "    * 2. 연속으로 놓여 있는 3잔을 모두 마실 수는 없다.\n",
    "\n",
    "* 효주는 될 수 있는 대로 많은 양의 포도주를 맛보기 위해서 어떤 포도주 잔을 선택해야 할지 고민하고 있다. 1부터 n까지의 번호가 붙어 있는 n개의 포도주 잔이 순서대로 테이블 위에 놓여 있고, 각 포도주 잔에 들어있는 포도주의 양이 주어졌을 때, 효주를 도와 가장 많은 양의 포도주를 마실 수 있도록 하는 프로그램을 작성하시오. \n",
    "\n",
    "* 예를 들어 6개의 포도주 잔이 있고, 각각의 잔에 순서대로 6, 10, 13, 9, 8, 1 만큼의 포도주가 들어 있을 때, 첫 번째, 두 번째, 네 번째, 다섯 번째 포도주 잔을 선택하면 총 포도주 양이 33으로 최대로 마실 수 있다."
   ]
  },
  {
   "attachments": {},
   "cell_type": "markdown",
   "metadata": {},
   "source": [
    "## 입력"
   ]
  },
  {
   "attachments": {},
   "cell_type": "markdown",
   "metadata": {},
   "source": [
    "* 첫째 줄에 포도주 잔의 개수 n이 주어진다. (1 ≤ n ≤ 10,000) 둘째 줄부터 n+1번째 줄까지 포도주 잔에 들어있는 포도주의 양이 순서대로 주어진다. 포도주의 양은 1,000 이하의 음이 아닌 정수이다."
   ]
  },
  {
   "attachments": {},
   "cell_type": "markdown",
   "metadata": {},
   "source": [
    "## 출력"
   ]
  },
  {
   "attachments": {},
   "cell_type": "markdown",
   "metadata": {},
   "source": [
    "* 첫째 줄에 최대로 마실 수 있는 포도주의 양을 출력한다."
   ]
  },
  {
   "attachments": {},
   "cell_type": "markdown",
   "metadata": {},
   "source": [
    "## Code"
   ]
  },
  {
   "cell_type": "code",
   "execution_count": 1,
   "metadata": {},
   "outputs": [],
   "source": [
    "# 2156_포도주 시식\n",
    "import sys\n",
    "def solution():\n",
    "    # N = int(sys.stdin.readline())\n",
    "    # wine = [int(sys.stdin.readline()) for _ in range(N)] + ([0] * 2) \n",
    "    N = int(input())\n",
    "    wine = [int(input()) for _ in range(N)] + ([0] * 2) \n",
    "    dp = [0] * (N+2)\n",
    "\n",
    "    dp[0] = wine[0]\n",
    "    dp[1] = wine[0] + wine[1]\n",
    "    dp[2] = max(wine[0] + wine[2], wine[1] + wine[2], dp[1])\n",
    "    for i in range(3, N):\n",
    "        dp[i] = max((wine[i] + dp[i-2]), (wine[i] + wine[i-1] + dp[i-3]), dp[i-1])\n",
    "    print(max(dp))"
   ]
  },
  {
   "attachments": {},
   "cell_type": "markdown",
   "metadata": {},
   "source": [
    "## 예제입력"
   ]
  },
  {
   "cell_type": "code",
   "execution_count": 2,
   "metadata": {},
   "outputs": [
    {
     "name": "stdout",
     "output_type": "stream",
     "text": [
      "33\n"
     ]
    }
   ],
   "source": [
    "solution()"
   ]
  },
  {
   "attachments": {},
   "cell_type": "markdown",
   "metadata": {},
   "source": [
    "## Note"
   ]
  },
  {
   "cell_type": "markdown",
   "metadata": {},
   "source": [
    "* 1. 포도주의 양을 저장할 List(wine)을 선언 후 포도주의 양을 저장한다\n",
    "    * 1\\) 다만, N의 범위는 1부터 시작이지만 추후 for문을 실행할때 최소 길이가 3이 되어야 하므로 [0, 0] 뒤에 붙여준다.\n",
    "* 2. 포도주의 최대값을 저장 할 0으로 채워진 List(dp)를 선언한다.\n",
    "    * 1\\) dp[1], dp[2]는 직접 값을 입력해야하므로 최소 길이가 3이 될 수 있게 0을 2개 더 해준다.\n",
    "* 3. dp는 마실 수 있는 최대값을 저장하는 값이고, 선택은 최대 3잔까지 가능하므로 dp[0], dp[1], dp[2]는 값을 직접 입력한다.\n",
    "    * 1\\) dp[0]은 선택할 수 있는 경우의 수가 1개 뿐이므로 wine[0]의 값을 그대로 입력한다.\n",
    "    * 2\\) dp[1]도 선택할 수 있는 경우의 수가 1개 뿐이므로 wine[0] + wine[1]의 값을 입력한다.\n",
    "    * 3\\) dp[2]는 (wine[2-2] + wine[2])와, (wine[2-1] + wine[2]), dp[2-1] 중 최대값을 고른다.\n",
    "        * 3번 잔을 선택하고 1번 잔을 선택하는 경우(3잔을 연속으로 선택할 수 없으므로)\n",
    "        * 3번 잔을 선택하고 2번 잔을 선택하는 경우(3잔을 연속으로 선택할 수 없으므로)\n",
    "        * 3번 잔을 선택하지 않고 1, 2번 잔을 선택하는 경우\n",
    "* 4. dp[2]에 값을 입력한 방법과 동일하게 dp[3]부터 최대로 마실 수 있는 양을 dp에 업데이트 한다.\n",
    "    * 각 잔을 기준으로 이번 잔을 선택하지 않는 경우, 이번 잔을 선택하고 이전 잔을 선택하지 않는 경우, 이번 잔과 이전 잔을 선택하는 경우를 비교한다\n",
    "    * ex\\) dp[2]는 (0, 2), (1, 2), (0, 1) index의 합 중 최대 값\n",
    "    * (wine[3] + dp[1]): 3번 잔을 마시지 않고 1, 2, 4번 잔을 마시는 경우\n",
    "    * (wine[3] + wine[2] + dp[0]): 2번 잔을 마시지 않고 1, 3, 4번 잔을 마시는 경우\n",
    "    * dp[2]: 이번 잔을 마시지 않는 경우"
   ]
  },
  {
   "attachments": {},
   "cell_type": "markdown",
   "metadata": {},
   "source": [
    "https://www.acmicpc.net/problem/2156"
   ]
  }
 ],
 "metadata": {
  "kernelspec": {
   "display_name": "ws1",
   "language": "python",
   "name": "python3"
  },
  "language_info": {
   "codemirror_mode": {
    "name": "ipython",
    "version": 3
   },
   "file_extension": ".py",
   "mimetype": "text/x-python",
   "name": "python",
   "nbconvert_exporter": "python",
   "pygments_lexer": "ipython3",
   "version": "3.11.3"
  },
  "orig_nbformat": 4,
  "vscode": {
   "interpreter": {
    "hash": "2856db72fb1e77597a3b14e9c1bb4d2315d342edc16fc9e25c6c6e499688b933"
   }
  }
 },
 "nbformat": 4,
 "nbformat_minor": 2
}
