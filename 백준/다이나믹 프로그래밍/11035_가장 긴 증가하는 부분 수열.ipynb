{
 "cells": [
  {
   "attachments": {},
   "cell_type": "markdown",
   "metadata": {},
   "source": [
    "# 가장 긴 증가하는 부분 수열"
   ]
  },
  {
   "attachments": {},
   "cell_type": "markdown",
   "metadata": {},
   "source": [
    "## 문제"
   ]
  },
  {
   "attachments": {},
   "cell_type": "markdown",
   "metadata": {},
   "source": [
    "* 수열 A가 주어졌을 때, 가장 긴 증가하는 부분 수열을 구하는 프로그램을 작성하시오.\n",
    "\n",
    "* 예를 들어, 수열 A = {10, 20, 10, 30, 20, 50} 인 경우에 가장 긴 증가하는 부분 수열은 A = {10, 20, 10, 30, 20, 50} 이고, 길이는 4이다."
   ]
  },
  {
   "attachments": {},
   "cell_type": "markdown",
   "metadata": {},
   "source": [
    "## 입력"
   ]
  },
  {
   "attachments": {},
   "cell_type": "markdown",
   "metadata": {},
   "source": [
    "* 첫째 줄에 수열 A의 크기 N (1 ≤ N ≤ 1,000)이 주어진다.\n",
    "\n",
    "* 둘째 줄에는 수열 A를 이루고 있는 Ai가 주어진다. (1 ≤ Ai ≤ 1,000)"
   ]
  },
  {
   "attachments": {},
   "cell_type": "markdown",
   "metadata": {},
   "source": [
    "## 출력"
   ]
  },
  {
   "attachments": {},
   "cell_type": "markdown",
   "metadata": {},
   "source": [
    "* 첫째 줄에 수열 A의 가장 긴 증가하는 부분 수열의 길이를 출력한다."
   ]
  },
  {
   "attachments": {},
   "cell_type": "markdown",
   "metadata": {},
   "source": [
    "## Code"
   ]
  },
  {
   "cell_type": "code",
   "execution_count": 1,
   "metadata": {},
   "outputs": [],
   "source": [
    "# 11035_가장 긴 증가하느 부분 수열\n",
    "import sys\n",
    "def solution():\n",
    "    N = int(input())\n",
    "    numbers = list(map(int, input().split()))\n",
    "    # N = int(sys.stdin.readline())\n",
    "    # numbers = list(map(int, sys.stdin.realine().split()))\n",
    "    dp = [1] * len(numbers)\n",
    "\n",
    "    for i in range(N):\n",
    "        for j in range(i):\n",
    "            if numbers[i] > numbers[j]:\n",
    "                dp[i] = max(dp[i], dp[j]+1)\n",
    "    print(max(dp))"
   ]
  },
  {
   "attachments": {},
   "cell_type": "markdown",
   "metadata": {},
   "source": [
    "## 예제입력"
   ]
  },
  {
   "cell_type": "code",
   "execution_count": 2,
   "metadata": {},
   "outputs": [
    {
     "name": "stdout",
     "output_type": "stream",
     "text": [
      "4\n"
     ]
    }
   ],
   "source": [
    "solution()"
   ]
  },
  {
   "attachments": {},
   "cell_type": "markdown",
   "metadata": {},
   "source": [
    "## Note"
   ]
  },
  {
   "cell_type": "markdown",
   "metadata": {},
   "source": [
    "* 1. 가장 긴 수열의 길이를 찾는다.\n",
    "    * 1\\) 이중 for문을 사용하여 아래와 같은 순서로 비교한다.\n",
    "        * (10, 20)\n",
    "        * (10, 10), (20, 10)\n",
    "        * (10, 30), (20, 30), (10, 30)\n",
    "        * (10, 20), (20, 20), (10, 20), (30, 20)\n",
    "        * (10, 50), (20, 50), (10, 50), (30, 50), (20, 50)\n",
    "    * 2\\) 수열의 길이만큼 1로 채워진 List(dp)를 만든다.\n",
    "        * 두번째 index인 1부터 해당 index에서 이전 index의 값을 비교하며 연속된 수열이 있는 경우 dp를 업데이트 하는 과정을 반복한다.\n",
    "        * 연속된 수열이 발견된 경우, dp[i] 값은 1이므로 max를 사용해서 이전에 연속된 수열의 길이에 1일 더해서 dp를 업데이트 한다.\n",
    "            * (10, 20)의 경우 20이 10보다 크므로 dp는 [1, 2, 1, 1, 1, 1]로 업데이트 된다.\n",
    "            * (10, 10)의 경우 10이 10보다 크지 않으므로 dp는 [1, 2, 1, 1, 1, 1]로 유지된다.\n",
    "            * (20, 10)의 경우 10이 20보다 크지 않으므로 dp는 [1, 2, 1, 1, 1, 1]로 유지된다."
   ]
  },
  {
   "attachments": {},
   "cell_type": "markdown",
   "metadata": {},
   "source": [
    "https://www.acmicpc.net/problem/11053"
   ]
  }
 ],
 "metadata": {
  "kernelspec": {
   "display_name": "ws1",
   "language": "python",
   "name": "python3"
  },
  "language_info": {
   "codemirror_mode": {
    "name": "ipython",
    "version": 3
   },
   "file_extension": ".py",
   "mimetype": "text/x-python",
   "name": "python",
   "nbconvert_exporter": "python",
   "pygments_lexer": "ipython3",
   "version": "3.11.3"
  },
  "orig_nbformat": 4,
  "vscode": {
   "interpreter": {
    "hash": "2856db72fb1e77597a3b14e9c1bb4d2315d342edc16fc9e25c6c6e499688b933"
   }
  }
 },
 "nbformat": 4,
 "nbformat_minor": 2
}
