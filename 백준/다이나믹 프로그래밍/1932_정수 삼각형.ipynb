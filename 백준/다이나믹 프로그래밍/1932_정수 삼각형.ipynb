{
 "cells": [
  {
   "attachments": {},
   "cell_type": "markdown",
   "metadata": {},
   "source": [
    "# 정수 삼각형"
   ]
  },
  {
   "attachments": {},
   "cell_type": "markdown",
   "metadata": {},
   "source": [
    "## 문제"
   ]
  },
  {
   "cell_type": "code",
   "execution_count": 1,
   "metadata": {},
   "outputs": [
    {
     "name": "stdout",
     "output_type": "stream",
     "text": [
      "    7    \n",
      "   3  8   \n",
      "  8  1  0  \n",
      " 2  7  4  4 \n",
      "4  5  2  6  5\n"
     ]
    }
   ],
   "source": [
    "print(\"    7    \")\n",
    "print(\"   3  8   \")\n",
    "print(\"  8  1  0  \")\n",
    "print(\" 2  7  4  4 \")\n",
    "print(\"4  5  2  6  5\")"
   ]
  },
  {
   "cell_type": "markdown",
   "metadata": {},
   "source": [
    "* 위 그림은 크기가 5인 정수 삼각형의 한 모습이다."
   ]
  },
  {
   "cell_type": "markdown",
   "metadata": {},
   "source": [
    "* 맨 위층 7부터 시작해서 아래에 있는 수 중 하나를 선택하여 아래층으로 내려올 때, 이제까지 선택된 수의 합이 최대가 되는 경로를 구하는 프로그램을 작성하라. 아래층에 있는 수는 현재 층에서 선택된 수의 대각선 왼쪽 또는 대각선 오른쪽에 있는 것 중에서만 선택할 수 있다."
   ]
  },
  {
   "cell_type": "markdown",
   "metadata": {},
   "source": [
    "* 삼각형의 크기는 1 이상 500 이하이다. 삼각형을 이루고 있는 각 수는 모두 정수이며, 범위는 0 이상 9999 이하이다."
   ]
  },
  {
   "attachments": {},
   "cell_type": "markdown",
   "metadata": {},
   "source": [
    "## 입력"
   ]
  },
  {
   "attachments": {},
   "cell_type": "markdown",
   "metadata": {},
   "source": [
    "* 첫째 줄에 삼각형의 크기 n(1 ≤ n ≤ 500)이 주어지고, 둘째 줄부터 n+1번째 줄까지 정수 삼각형이 주어진다."
   ]
  },
  {
   "attachments": {},
   "cell_type": "markdown",
   "metadata": {},
   "source": [
    "## 출력"
   ]
  },
  {
   "cell_type": "markdown",
   "metadata": {},
   "source": [
    "* 첫째 줄에 합이 최대가 되는 경로에 있는 수의 합을 출력한다."
   ]
  },
  {
   "attachments": {},
   "cell_type": "markdown",
   "metadata": {},
   "source": [
    "## Code"
   ]
  },
  {
   "cell_type": "code",
   "execution_count": 2,
   "metadata": {},
   "outputs": [],
   "source": [
    "#1932_정수삼각형\n",
    "import sys\n",
    "def update_triangle(triangle, N): \n",
    "    for i in range(1, N):\n",
    "        for j in range(N):\n",
    "            list_limit = len(triangle[i])\n",
    "            if j == 0:\n",
    "                triangle[i][j] = triangle[i][j]+triangle[i-1][j]\n",
    "            elif 0 < j < list_limit-1:\n",
    "                triangle[i][j] = max(triangle[i][j]+triangle[i-1][j-1], triangle[i][j]+triangle[i-1][j])\n",
    "            elif j == list_limit-1:\n",
    "                triangle[i][j] = triangle[i][j] + triangle[i-1][j-1]\n",
    "    return triangle\n",
    "\n",
    "def solution():\n",
    "    submit = False\n",
    "    N = sys.stdin.readline() if submit else int(input())\n",
    "    triangle = []\n",
    "    for i in range(N):\n",
    "        numbers = list(map(int, sys.stdin.readline().split())) if submit else list(map(int, input().split()))\n",
    "        triangle.append(numbers)\n",
    "\n",
    "    print(max(update_triangle(triangle, N)[-1]))"
   ]
  },
  {
   "cell_type": "code",
   "execution_count": 3,
   "metadata": {},
   "outputs": [
    {
     "name": "stdout",
     "output_type": "stream",
     "text": [
      "30\n"
     ]
    }
   ],
   "source": [
    "solution()"
   ]
  },
  {
   "attachments": {},
   "cell_type": "markdown",
   "metadata": {},
   "source": [
    "## 예제입력"
   ]
  },
  {
   "attachments": {},
   "cell_type": "markdown",
   "metadata": {},
   "source": [
    "## Note"
   ]
  },
  {
   "cell_type": "markdown",
   "metadata": {},
   "source": [
    "* 1. 삼각형(triangle)을 생성할 때, 모든 List 앞, 뒤로 0을 붙여준다.\n",
    "    * ex.\n",
    "    * [0, 7, 0],\n",
    "    * [0, 10, 15, 0], i=1, range(1, 3)\n",
    "    * [0, 8, 1, 0, 0], i=2, range(1, 4)\n",
    "    * [0, 2, 7, 4, 4, 0], i=3, range(1, 5)\n",
    "    * [0, 4, 5, 2, 6, 5, 0] i=4, range(1, 6)\n",
    "* 2. 이중 for문을 통해 탐색할 index를 설정할 때, j 값의 범위를 (1, i+1)로 설정하면 추가한 0이 아닌 기존의 숫자 부분만 탐색하게 된다.\n",
    "    * 1\\) 앞, 뒤로 0을 추가하였으므로 처음, 마지막 숫자를 고려하지 않아도 out of index 오류가 생기지 않는다.\n",
    "* 3. 둘째 줄 부터 선택 가능한 대각선 위의 숫자 중 더 큰 값을 더한다.\n",
    "    * 1\\) max 함수를 사용하여 최대 값을 가져오게 되므로 0은 더해지지 않는다. \n",
    "* 4. 입력 받은 삼각형(triangle)의 값을 모두 업데이트하고 마지막 List의 최대값을 출력한다."
   ]
  },
  {
   "attachments": {},
   "cell_type": "markdown",
   "metadata": {},
   "source": [
    "https://www.acmicpc.net/problem/1932"
   ]
  }
 ],
 "metadata": {
  "kernelspec": {
   "display_name": "ws1",
   "language": "python",
   "name": "python3"
  },
  "language_info": {
   "codemirror_mode": {
    "name": "ipython",
    "version": 3
   },
   "file_extension": ".py",
   "mimetype": "text/x-python",
   "name": "python",
   "nbconvert_exporter": "python",
   "pygments_lexer": "ipython3",
   "version": "3.11.5"
  },
  "orig_nbformat": 4,
  "vscode": {
   "interpreter": {
    "hash": "2856db72fb1e77597a3b14e9c1bb4d2315d342edc16fc9e25c6c6e499688b933"
   }
  }
 },
 "nbformat": 4,
 "nbformat_minor": 2
}
