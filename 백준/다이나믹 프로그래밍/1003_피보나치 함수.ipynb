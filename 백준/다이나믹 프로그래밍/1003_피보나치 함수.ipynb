{
 "cells": [
  {
   "attachments": {},
   "cell_type": "markdown",
   "metadata": {},
   "source": [
    "# 피보나치 함수"
   ]
  },
  {
   "attachments": {},
   "cell_type": "markdown",
   "metadata": {},
   "source": [
    "## 문제"
   ]
  },
  {
   "attachments": {},
   "cell_type": "markdown",
   "metadata": {},
   "source": [
    "* 다음 소스는 N번째 피보나치 수를 구하는 C++ 함수이다."
   ]
  },
  {
   "cell_type": "code",
   "execution_count": 1,
   "metadata": {},
   "outputs": [],
   "source": [
    "# int fibonacci(int n) {\n",
    "#     if (n == 0) {\n",
    "#         printf(\"0\");\n",
    "#         return 0;\n",
    "#     } else if (n == 1) {\n",
    "#         printf(\"1\");\n",
    "#         return 1;\n",
    "#     } else {\n",
    "#         return fibonacci(n‐1) + fibonacci(n‐2);\n",
    "#     }\n",
    "# }"
   ]
  },
  {
   "cell_type": "markdown",
   "metadata": {},
   "source": [
    "fibonacci(3)을 호출하면 다음과 같은 일이 일어난다.\n",
    "* fibonacci(3)은 fibonacci(2)와 fibonacci(1) (첫 번째 호출)을 호출한다.\n",
    "* fibonacci(2)는 fibonacci(1) (두 번째 호출)과 fibonacci(0)을 호출한다.\n",
    "* 두 번째 호출한 fibonacci(1)은 1을 출력하고 1을 리턴한다.\n",
    "* fibonacci(0)은 0을 출력하고, 0을 리턴한다.\n",
    "* fibonacci(2)는 fibonacci(1)과 fibonacci(0)의 결과를 얻고, 1을 리턴한다.\n",
    "* 첫 번째 호출한 fibonacci(1)은 1을 출력하고, 1을 리턴한다.\n",
    "* fibonacci(3)은 fibonacci(2)와 fibonacci(1)의 결과를 얻고, 2를 리턴한다.\n",
    "\n",
    "1은 2번 출력되고, 0은 1번 출력된다. N이 주어졌을 때, fibonacci(N)을 호출했을 때, 0과 1이 각각 몇 번 출력되는지 구하는 프로그램을 작성하시오."
   ]
  },
  {
   "attachments": {},
   "cell_type": "markdown",
   "metadata": {},
   "source": [
    "## 입력"
   ]
  },
  {
   "attachments": {},
   "cell_type": "markdown",
   "metadata": {},
   "source": [
    "* 첫째 줄에 테스트 케이스의 개수 T가 주어진다."
   ]
  },
  {
   "cell_type": "markdown",
   "metadata": {},
   "source": [
    "* 각 테스트 케이스는 한 줄로 이루어져 있고, N이 주어진다. N은 40보다 작거나 같은 자연수 또는 0이다."
   ]
  },
  {
   "attachments": {},
   "cell_type": "markdown",
   "metadata": {},
   "source": [
    "## 출력"
   ]
  },
  {
   "attachments": {},
   "cell_type": "markdown",
   "metadata": {},
   "source": [
    "* 각 테스트 케이스마다 0이 출력되는 횟수와 1이 출력되는 횟수를 공백으로 구분해서 출력한다."
   ]
  },
  {
   "attachments": {},
   "cell_type": "markdown",
   "metadata": {},
   "source": [
    "## Code"
   ]
  },
  {
   "cell_type": "code",
   "execution_count": 2,
   "metadata": {},
   "outputs": [],
   "source": [
    "# 1003번 피보나치 함수\n",
    "import sys\n",
    "\n",
    "def fib(n):\n",
    "    zero_used = [1, 0, 1]\n",
    "    one_used = [0, 1, 1]\n",
    "    for i in range(3, n+1):\n",
    "        zero_used.append(zero_used[i-1] + zero_used[i-2])\n",
    "        one_used.append(one_used[i-1] + one_used[i-2])\n",
    "    print(zero_used[n], one_used[n])\n",
    "    \n",
    "def solution():\n",
    "    # T = int(sys.stdin.readline())\n",
    "    T = int(input())\n",
    "    for _ in range(T):\n",
    "        # N = int(sys.stdin.readline())\n",
    "        N = int(input())\n",
    "        fib(N)"
   ]
  },
  {
   "attachments": {},
   "cell_type": "markdown",
   "metadata": {},
   "source": [
    "## 예제입력"
   ]
  },
  {
   "cell_type": "code",
   "execution_count": 3,
   "metadata": {},
   "outputs": [
    {
     "name": "stdout",
     "output_type": "stream",
     "text": [
      "1 0\n",
      "0 1\n",
      "1 2\n"
     ]
    }
   ],
   "source": [
    "solution()"
   ]
  },
  {
   "cell_type": "code",
   "execution_count": 4,
   "metadata": {},
   "outputs": [
    {
     "name": "stdout",
     "output_type": "stream",
     "text": [
      "5 8\n",
      "10946 17711\n"
     ]
    }
   ],
   "source": [
    "solution()"
   ]
  },
  {
   "attachments": {},
   "cell_type": "markdown",
   "metadata": {},
   "source": [
    "## Note"
   ]
  },
  {
   "cell_type": "markdown",
   "metadata": {},
   "source": [
    "* fibonacci(4) = fibonacci(3) +  fibonacci(2) = fibonacci(2) + fibonacci(1) + fibonacci(1) + fibonacci(0) \n",
    "* = fibonacci(1) + fibonacci(0) + fibonacci(1) + fibonacci(1) + fibonacci(0)\n",
    "* fibonacci(0)과 fibonacci(1)을 호출하는 횟수도 f(n) = f(n-1) + f(n-2)의 규칙을 이루게 되므로 \n",
    "* fibonacci(0)과 fibonacci(1)을 호출하는 횟수를 따로 List를 통해서 DP로 계산한 뒤에 반환한다. "
   ]
  },
  {
   "attachments": {},
   "cell_type": "markdown",
   "metadata": {},
   "source": [
    "https://www.acmicpc.net/problem/1003"
   ]
  }
 ],
 "metadata": {
  "kernelspec": {
   "display_name": "ws1",
   "language": "python",
   "name": "python3"
  },
  "language_info": {
   "codemirror_mode": {
    "name": "ipython",
    "version": 3
   },
   "file_extension": ".py",
   "mimetype": "text/x-python",
   "name": "python",
   "nbconvert_exporter": "python",
   "pygments_lexer": "ipython3",
   "version": "3.11.3"
  },
  "orig_nbformat": 4,
  "vscode": {
   "interpreter": {
    "hash": "2856db72fb1e77597a3b14e9c1bb4d2315d342edc16fc9e25c6c6e499688b933"
   }
  }
 },
 "nbformat": 4,
 "nbformat_minor": 2
}
