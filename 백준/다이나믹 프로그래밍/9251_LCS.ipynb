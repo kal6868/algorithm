{
 "cells": [
  {
   "attachments": {},
   "cell_type": "markdown",
   "metadata": {},
   "source": [
    "# LCS"
   ]
  },
  {
   "attachments": {},
   "cell_type": "markdown",
   "metadata": {},
   "source": [
    "## 문제"
   ]
  },
  {
   "attachments": {},
   "cell_type": "markdown",
   "metadata": {},
   "source": [
    "* LCS(Longest Common Subsequence, 최장 공통 부분 수열)문제는 두 수열이 주어졌을 때, 모두의 부분 수열이 되는 수열 중 가장 긴 것을 찾는 문제이다.\n",
    "* 예를 들어, ACAYKP와 CAPCAK의 LCS는 ACAK가 된다."
   ]
  },
  {
   "attachments": {},
   "cell_type": "markdown",
   "metadata": {},
   "source": [
    "## 입력"
   ]
  },
  {
   "attachments": {},
   "cell_type": "markdown",
   "metadata": {},
   "source": [
    "* 첫째 줄과 둘째 줄에 두 문자열이 주어진다. 문자열은 알파벳 대문자로만 이루어져 있으며, 최대 1000글자로 이루어져 있다."
   ]
  },
  {
   "attachments": {},
   "cell_type": "markdown",
   "metadata": {},
   "source": [
    "## 출력"
   ]
  },
  {
   "attachments": {},
   "cell_type": "markdown",
   "metadata": {},
   "source": [
    "* 첫째 줄에 입력으로 주어진 두 문자열의 LCS의 길이를 출력한다."
   ]
  },
  {
   "attachments": {},
   "cell_type": "markdown",
   "metadata": {},
   "source": [
    "## Code"
   ]
  },
  {
   "cell_type": "code",
   "execution_count": 1,
   "metadata": {},
   "outputs": [],
   "source": [
    "# 9251_LCS(풀이 1)\n",
    "import sys\n",
    "def solution():\n",
    "    seq1, seq2 = input(), input()\n",
    "    # seq1, seq2 = sys.stdin.readline(), sys.stdin.readline()\n",
    "    dp = [[0] * (len(seq2)+1) for _ in range(len(seq1)+1)]\n",
    "\n",
    "    for i in range(1, len(seq1)+1):\n",
    "        for j in range(1, len(seq2)+1):\n",
    "            if seq1[i-1] == seq2[j-1]:\n",
    "                dp[i][j] = dp[i-1][j-1] + 1\n",
    "            else:\n",
    "                dp[i][j] = max(dp[i][j-1], dp[i-1][j])\n",
    "    print(dp[-1][-1])"
   ]
  },
  {
   "cell_type": "code",
   "execution_count": null,
   "metadata": {},
   "outputs": [],
   "source": [
    "# 9251_LCS(풀이 1)\n",
    "import sys\n",
    "def solution():\n",
    "    seq1, seq2 = input(), input()\n",
    "    # seq1, seq2 = sys.stdin.readline().strip(), sys.stdin.readline().strip()\n",
    "    dp = [0] * len(seq2)\n",
    "\n",
    "    for i in range(len(seq1)):\n",
    "        count = 0\n",
    "        for j in range(len(seq2)):\n",
    "            if count < dp[j]:\n",
    "                count = dp[j]\n",
    "            elif seq1[i] == seq2[j]:\n",
    "                dp[j] = count + 1\n",
    "        # print(dp)\n",
    "    print(max(dp))"
   ]
  },
  {
   "attachments": {},
   "cell_type": "markdown",
   "metadata": {},
   "source": [
    "## 예제입력"
   ]
  },
  {
   "cell_type": "code",
   "execution_count": 2,
   "metadata": {},
   "outputs": [
    {
     "name": "stdout",
     "output_type": "stream",
     "text": [
      "4\n"
     ]
    }
   ],
   "source": [
    "solution()"
   ]
  },
  {
   "attachments": {},
   "cell_type": "markdown",
   "metadata": {},
   "source": [
    "## Note"
   ]
  },
  {
   "cell_type": "markdown",
   "metadata": {},
   "source": [
    "### 풀이 1\n",
    "* 1. (seq2 길이) 크기의 1차원 List dp를 만든다.\n",
    "    * 1\\) 이중 for문을 통해 seq1의 알파벳과 seq2의 알파벳을 비교한다\n",
    "* 2. 두 문자열의 알파벳을 비교하면서 가장 긴 공통수열을 찾는다\n",
    "    * 1\\) 'ACAYKP'를 기준으로 'CAPCAK'와 비교하는 경우 'A' 부터 CAPCACK에 있는지 찾는다.\n",
    "    * 2\\) count를 통해 수열이 누적된 횟수를 저장한다.\n",
    "    * 3\\) count가 dp[j] 보다 작을 경우 count를 dp[j]로 업데이트하고 알파벳이 같을 경우는 count에 1을 더해서 수열의 누적 횟수를 count에 업데이트 해준다.\n",
    "    * 4\\) dp의 맨 처음 'A'에 해당하는 dp의 첫번째 List는 [0, 1, 0, 0, 1, 0] 이고, seq2의 2, 5번째 알파벳이 'A'라는 뜻이 된다.\n",
    "    * 5\\) dp의 두번째 'C'에 해당하는 dp의 첫번째 List는 [1, 1, 0, 2, 1, 0] 이고, seq2의 4번째 C가 A이후에 나타난 C라는 뜻이다. seq1, seq2에서 AC가 동일한 수열이라는 뜻이다.\n",
    "        * count는 처음에는 0이었으나, 두번째 1을 만나면서 0->1로 업데이트 된다. \n",
    "        * seq2의 네번째 'C'를 만나면 count(누적된 동일 수열)에서 1을 더한 값인 2가 되고, 이는 AC가 seq1, seq2에 동일하게 존재한다는 뜻이 된다.\n",
    "    * 6\\) 위 과정을 반복하면 마지막 dp의 가장 큰 값이 가장 길이가 긴 공통 문자열이 된다."
   ]
  },
  {
   "cell_type": "markdown",
   "metadata": {},
   "source": [
    "* 1. (seq2 길이) 크기의 1차원 List dp를 만든다.\n",
    "    * 1\\) 이중 for문을 통해 seq1의 알파벳과 seq2의 알파벳을 비교한다\n",
    "* 2. 두 문자열의 알파벳을 비교하면서 가장 긴 공통수열을 찾는다\n",
    "    * 1\\) 'ACAYKP'를 기준으로 'CAPCAK'와 비교하는 경우 'A' 부터 CAPCACK에 있는지 찾는다.\n",
    "    * 2\\) count를 통해 수열이 누적된 횟수를 저장한다.\n",
    "    * 3\\) count가 dp[j] 보다 작을 경우 count를 dp[j]로 업데이트하고 알파벳이 같을 경우는 count에 1을 더해서 수열의 누적 횟수를 count에 업데이트 해준다.\n",
    "    * 4\\) dp의 맨 처음 'A'에 해당하는 dp의 첫번째 List는 [0, 1, 0, 0, 1, 0] 이고, seq2의 2, 5번째 알파벳이 'A'라는 뜻이 된다.\n",
    "    * 5\\) dp의 두번째 'C'에 해당하는 dp의 첫번째 List는 [1, 1, 0, 2, 1, 0] 이고, seq2의 4번째 C가 A이후에 나타난 C라는 뜻이다. seq1, seq2에서 AC가 동일한 수열이라는 뜻이다.\n",
    "        * count는 처음에는 0이었으나, 두번째 1을 만나면서 0->1로 업데이트 된다. \n",
    "        * seq2의 네번째 'C'를 만나면 count(누적된 동일 수열)에서 1을 더한 값인 2가 되고, 이는 AC가 seq1, seq2에 동일하게 존재한다는 뜻이 된다.\n",
    "    * 6\\) 위 과정을 반복하면 마지막 dp의 가장 큰 값이 가장 길이가 긴 공통 문자열이 된다."
   ]
  },
  {
   "attachments": {},
   "cell_type": "markdown",
   "metadata": {},
   "source": [
    "https://www.acmicpc.net/problem/9251"
   ]
  }
 ],
 "metadata": {
  "kernelspec": {
   "display_name": "ws1",
   "language": "python",
   "name": "python3"
  },
  "language_info": {
   "codemirror_mode": {
    "name": "ipython",
    "version": 3
   },
   "file_extension": ".py",
   "mimetype": "text/x-python",
   "name": "python",
   "nbconvert_exporter": "python",
   "pygments_lexer": "ipython3",
   "version": "3.11.3"
  },
  "orig_nbformat": 4,
  "vscode": {
   "interpreter": {
    "hash": "2856db72fb1e77597a3b14e9c1bb4d2315d342edc16fc9e25c6c6e499688b933"
   }
  }
 },
 "nbformat": 4,
 "nbformat_minor": 2
}
