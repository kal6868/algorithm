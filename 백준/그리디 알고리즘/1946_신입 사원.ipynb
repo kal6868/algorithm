{
 "cells": [
  {
   "attachments": {},
   "cell_type": "markdown",
   "metadata": {},
   "source": [
    "# 신입 사원"
   ]
  },
  {
   "attachments": {},
   "cell_type": "markdown",
   "metadata": {},
   "source": [
    "## 문제"
   ]
  },
  {
   "attachments": {},
   "cell_type": "markdown",
   "metadata": {},
   "source": [
    "* 언제나 최고만을 지향하는 굴지의 대기업 진영 주식회사가 신규 사원 채용을 실시한다. 인재 선발 시험은 1차 서류심사와 2차 면접시험으로 이루어진다. 최고만을 지향한다는 기업의 이념에 따라 그들은 최고의 인재들만을 사원으로 선발하고 싶어 한다."
   ]
  },
  {
   "cell_type": "markdown",
   "metadata": {},
   "source": [
    "* 그래서 진영 주식회사는, 다른 모든 지원자와 비교했을 때 서류심사 성적과 면접시험 성적 중 적어도 하나가 다른 지원자보다 떨어지지 않는 자만 선발한다는 원칙을 세웠다. 즉, 어떤 지원자 A의 성적이 다른 어떤 지원자 B의 성적에 비해 서류 심사 결과와 면접 성적이 모두 떨어진다면 A는 결코 선발되지 않는다."
   ]
  },
  {
   "cell_type": "markdown",
   "metadata": {},
   "source": [
    "* 이러한 조건을 만족시키면서, 진영 주식회사가 이번 신규 사원 채용에서 선발할 수 있는 신입사원의 최대 인원수를 구하는 프로그램을 작성하시오."
   ]
  },
  {
   "cell_type": "markdown",
   "metadata": {},
   "source": [
    "# 입력"
   ]
  },
  {
   "cell_type": "markdown",
   "metadata": {},
   "source": [
    "* 첫째 줄에는 테스트 케이스의 개수 T(1 ≤ T ≤ 20)가 주어진다. 각 테스트 케이스의 첫째 줄에 지원자의 숫자 N(1 ≤ N ≤ 100,000)이 주어진다. 둘째 줄부터 N개 줄에는 각각의 지원자의 서류심사 성적, 면접 성적의 순위가 공백을 사이에 두고 한 줄에 주어진다. 두 성적 순위는 모두 1위부터 N위까지 동석차 없이 결정된다고 가정한다."
   ]
  },
  {
   "cell_type": "markdown",
   "metadata": {},
   "source": [
    "## 출력\n"
   ]
  },
  {
   "cell_type": "markdown",
   "metadata": {},
   "source": [
    "* 각 테스트 케이스에 대해서 진영 주식회사가 선발할 수 있는 신입사원의 최대 인원수를 한 줄에 하나씩 출력한다."
   ]
  },
  {
   "attachments": {},
   "cell_type": "markdown",
   "metadata": {},
   "source": [
    "## Code"
   ]
  },
  {
   "cell_type": "code",
   "execution_count": 1,
   "metadata": {},
   "outputs": [],
   "source": [
    "#1946_신입 사원\n",
    "import sys\n",
    "\n",
    "def get_successful_appl():\n",
    "    num_appl = int(input())\n",
    "    # num_appl = int(sys.stdin.readline())\n",
    "    list_appl = sorted([tuple(map(int, input().split())) for _ in range(num_appl)])\n",
    "    # list_appl = sorted([tuple(map(int, sys.stdin.readline().split())) for _ in range(num_appl)])\n",
    "    standard = list_appl[0][1]\n",
    "    result = 1\n",
    "    for i in range(1, num_appl):\n",
    "        if list_appl[i][1] < standard:\n",
    "            standard = list_appl[i][1]\n",
    "            result += 1\n",
    "    print(result)\n",
    "\n",
    "def solution():\n",
    "    T = int(input())\n",
    "    # T = int(sys.stdin.readline())\n",
    "    for _ in range(T):\n",
    "        get_successful_appl()"
   ]
  },
  {
   "attachments": {},
   "cell_type": "markdown",
   "metadata": {},
   "source": [
    "## 예제입력"
   ]
  },
  {
   "cell_type": "code",
   "execution_count": 2,
   "metadata": {},
   "outputs": [
    {
     "name": "stdout",
     "output_type": "stream",
     "text": [
      "4\n",
      "3\n"
     ]
    }
   ],
   "source": [
    "solution()"
   ]
  },
  {
   "attachments": {},
   "cell_type": "markdown",
   "metadata": {},
   "source": [
    "## Note"
   ]
  },
  {
   "cell_type": "markdown",
   "metadata": {},
   "source": [
    "* 1. 서류 점수와 면접 접수를 입력받아 Tuple 자료형으로 만든 뒤 List에 저장 후 서류 점수를 기준으로 정렬한다.\n",
    "* 2. 서류 점수 1등은 다른 지원자 보다 서류 등수가 가장 높으므로 면접 점수에 상관없이 합격된다.(두 점수 중 한가지만 다른 지원자 보다 높으면 합격이기 때문)\n",
    "* 3. 서류 점수 1등의 면접 점수를 기준으로 다음 합격자를 선별한다. (서류 점수 1등 보다 면접 점수가 높은 사람)\n",
    "* 4. 다음 합격자의 면접 점수를 기준으로 면접 점수 기준을 업데이트 하고, 새로운 합격자가 나올 때 마다 면접 점수를 업데이트 한다.\n",
    "    * 다른 지원자 보다 서류 점수, 면접 점수 모두 낮으면 합격될 수 없는데, 이미 서류 점수는 1등이 아닌 이상 다른 지원자 보다 낮다.\n",
    "    * 따라서, 면접 점수가 다른 지원자 보다 높아야 하는데, 면접 점수마저 낮다면, 해당 지원자보다 서류, 면접 점수가 모두 낮기 때문이다."
   ]
  },
  {
   "attachments": {},
   "cell_type": "markdown",
   "metadata": {},
   "source": [
    "https://www.acmicpc.net/problem/1946"
   ]
  }
 ],
 "metadata": {
  "kernelspec": {
   "display_name": "ws1",
   "language": "python",
   "name": "python3"
  },
  "language_info": {
   "codemirror_mode": {
    "name": "ipython",
    "version": 3
   },
   "file_extension": ".py",
   "mimetype": "text/x-python",
   "name": "python",
   "nbconvert_exporter": "python",
   "pygments_lexer": "ipython3",
   "version": "3.11.3"
  },
  "orig_nbformat": 4,
  "vscode": {
   "interpreter": {
    "hash": "2856db72fb1e77597a3b14e9c1bb4d2315d342edc16fc9e25c6c6e499688b933"
   }
  }
 },
 "nbformat": 4,
 "nbformat_minor": 2
}
