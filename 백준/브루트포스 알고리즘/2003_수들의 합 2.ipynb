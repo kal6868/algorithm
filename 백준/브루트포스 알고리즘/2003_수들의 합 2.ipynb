{
 "cells": [
  {
   "attachments": {},
   "cell_type": "markdown",
   "metadata": {},
   "source": [
    "# 수들의 합 2"
   ]
  },
  {
   "attachments": {},
   "cell_type": "markdown",
   "metadata": {},
   "source": [
    "## 문제"
   ]
  },
  {
   "cell_type": "markdown",
   "metadata": {},
   "source": [
    "* N개의 수로 된 수열 A[1], A[2], …, A[N] 이 있다. 이 수열의 i번째 수부터 j번째 수까지의 합 A[i] + A[i+1] + … + A[j-1] + A[j]가 M이 되는 경우의 수를 구하는 프로그램을 작성하시오."
   ]
  },
  {
   "attachments": {},
   "cell_type": "markdown",
   "metadata": {},
   "source": [
    "## 입력"
   ]
  },
  {
   "cell_type": "markdown",
   "metadata": {},
   "source": [
    "* 첫째 줄에 N(1 ≤ N ≤ 10,000), M(1 ≤ M ≤ 300,000,000)이 주어진다. 다음 줄에는 A[1], A[2], …, A[N]이 공백으로 분리되어 주어진다. 각각의 A[x]는 30,000을 넘지 않는 자연수이다."
   ]
  },
  {
   "attachments": {},
   "cell_type": "markdown",
   "metadata": {},
   "source": [
    "## 출력"
   ]
  },
  {
   "cell_type": "markdown",
   "metadata": {},
   "source": [
    "* 첫째 줄에 경우의 수를 출력한다.\n"
   ]
  },
  {
   "attachments": {},
   "cell_type": "markdown",
   "metadata": {},
   "source": [
    "## Code"
   ]
  },
  {
   "cell_type": "code",
   "execution_count": 1,
   "metadata": {},
   "outputs": [],
   "source": [
    "# 2003_수들의 합 2 (시간 초과 풀이)\n",
    "import sys\n",
    "submit = False\n",
    "\n",
    "def solution():\n",
    "    N, M = map(int, sys.stdin.readline().split()) if submit else map(int, input().split())\n",
    "    numbers = list(map(int, sys.stdin.readline().split())) if submit else list(map(int, input().split()))\n",
    "\n",
    "    answer = 0\n",
    "    for i in range(1, len(numbers)+1):\n",
    "        for j in range(len(numbers)-i+1):\n",
    "            if sum(numbers[j:j+i]) == M:\n",
    "                answer += 1\n",
    "    print(answer)"
   ]
  },
  {
   "cell_type": "code",
   "execution_count": null,
   "metadata": {},
   "outputs": [],
   "source": [
    "# 2003_수들의 합 2 # 투포인터\n",
    "import sys\n",
    "submit = False\n",
    "\n",
    "def solution():\n",
    "    N, M = map(int, sys.stdin.readline().split()) if submit else map(int, input().split())\n",
    "    numbers = list(map(int, sys.stdin.readline().split())) if submit else list(map(int, input().split()))\n",
    "\n",
    "    start, end, answer = 0, 1, 0\n",
    "    while ((start <= end) & (end<=N)):\n",
    "        total = sum(numbers[start:end])\n",
    "        if (total < M):\n",
    "            end += 1\n",
    "        elif (total > M):\n",
    "            start += 1\n",
    "        else:\n",
    "            answer += 1\n",
    "            end += 1\n",
    "    print(answer)"
   ]
  },
  {
   "cell_type": "code",
   "execution_count": 2,
   "metadata": {},
   "outputs": [
    {
     "name": "stdout",
     "output_type": "stream",
     "text": [
      "3\n"
     ]
    }
   ],
   "source": [
    "solution()"
   ]
  },
  {
   "cell_type": "code",
   "execution_count": 3,
   "metadata": {},
   "outputs": [
    {
     "name": "stdout",
     "output_type": "stream",
     "text": [
      "3\n"
     ]
    }
   ],
   "source": [
    "solution()"
   ]
  },
  {
   "attachments": {},
   "cell_type": "markdown",
   "metadata": {},
   "source": [
    "## Note"
   ]
  },
  {
   "cell_type": "markdown",
   "metadata": {},
   "source": [
    "* 1. 이중for문을 사용하여 주어진 범위만큼의 수열이 합이 주어진 숫자(M)을 만족하는 지 확인하고 갯수를 센다\n",
    "    * 1\\) [1, 2, 3, 4, 2, 5, 3, 1, 1, 2]의 수열에서 범위가 1, 2, 3,...,10인 수열의 합을 확인한다\n",
    "        * 범위 1 -> [1], [2], [3], [4], [2], [5], [3], [1], [1], [2] 인 각 수열의 합\n",
    "        * 범위 2 -> [1,2], [2,3], [3,4], [4,2], [2,5], [5,3], [3,1], [1,1], [1,2]인 각 수열의 합\n",
    "        * ...\n",
    "        * 범위 10 -> [1, 2, 3, 4, 2, 5, 3, 1, 1, 2]인 수열의 합"
   ]
  },
  {
   "cell_type": "markdown",
   "metadata": {},
   "source": [
    "* 1. 투 포인터를 사용하여 시작 index 값과 끝 index 값을 조정하며 해당 index 수열의 값이 목표값이면 세어준다\n",
    "    * 1\\) 먼저 반복문을 시작 index와 끝 index 값이 같거나 작을 때, 혹은 끝 값이 주어진 수열이 보다 같거나 작을 때까지 반복한다\n",
    "    * 2\\) indexing된 수열이 목표 숫자보다 작으면 수열의 길이를 늘리기 위해서 끝 index 값을 늘린다\n",
    "    * 3\\) 반대로 indexing된 수열이 목표 숫자보다 크면 수열의 길이를 줄이기 위해서 시작 index 값을 늘린다\n",
    "    * 4\\) indexing된 수열이 목표 숫자와 일치하면 해당 수열을 센 다음 끝 index 값을 늘린다"
   ]
  },
  {
   "attachments": {},
   "cell_type": "markdown",
   "metadata": {},
   "source": [
    "https://www.acmicpc.net/problem/2003"
   ]
  }
 ],
 "metadata": {
  "kernelspec": {
   "display_name": "ws1",
   "language": "python",
   "name": "python3"
  },
  "language_info": {
   "codemirror_mode": {
    "name": "ipython",
    "version": 3
   },
   "file_extension": ".py",
   "mimetype": "text/x-python",
   "name": "python",
   "nbconvert_exporter": "python",
   "pygments_lexer": "ipython3",
   "version": "3.11.5"
  },
  "orig_nbformat": 4,
  "vscode": {
   "interpreter": {
    "hash": "2856db72fb1e77597a3b14e9c1bb4d2315d342edc16fc9e25c6c6e499688b933"
   }
  }
 },
 "nbformat": 4,
 "nbformat_minor": 2
}
