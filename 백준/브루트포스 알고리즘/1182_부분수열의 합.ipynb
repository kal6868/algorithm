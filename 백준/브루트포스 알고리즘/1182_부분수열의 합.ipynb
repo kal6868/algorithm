{
 "cells": [
  {
   "attachments": {},
   "cell_type": "markdown",
   "metadata": {},
   "source": [
    "# 부분수열의 합"
   ]
  },
  {
   "attachments": {},
   "cell_type": "markdown",
   "metadata": {},
   "source": [
    "## 문제"
   ]
  },
  {
   "cell_type": "markdown",
   "metadata": {},
   "source": [
    "* N개의 정수로 이루어진 수열이 있을 때, 크기가 양수인 부분수열 중에서 그 수열의 원소를 다 더한 값이 S가 되는 경우의 수를 구하는 프로그램을 작성하시오."
   ]
  },
  {
   "attachments": {},
   "cell_type": "markdown",
   "metadata": {},
   "source": [
    "## 입력"
   ]
  },
  {
   "cell_type": "markdown",
   "metadata": {},
   "source": [
    "* 첫째 줄에 정수의 개수를 나타내는 N과 정수 S가 주어진다. (1 ≤ N ≤ 20, |S| ≤ 1,000,000) 둘째 줄에 N개의 정수가 빈 칸을 사이에 두고 주어진다. 주어지는 정수의 절댓값은 100,000을 넘지 않는다."
   ]
  },
  {
   "attachments": {},
   "cell_type": "markdown",
   "metadata": {},
   "source": [
    "## 출력"
   ]
  },
  {
   "cell_type": "markdown",
   "metadata": {},
   "source": [
    "* 첫째 줄에 합이 S가 되는 부분수열의 개수를 출력한다.\n"
   ]
  },
  {
   "attachments": {},
   "cell_type": "markdown",
   "metadata": {},
   "source": [
    "## Code"
   ]
  },
  {
   "cell_type": "code",
   "execution_count": 1,
   "metadata": {},
   "outputs": [],
   "source": [
    "# 1182번 부분수열의 합(풀이 1)\n",
    "import sys\n",
    "from itertools import combinations\n",
    "submit = False\n",
    "\n",
    "def solution():\n",
    "    N, S = map(int, sys.stdin.readline().split()) if submit else map(int, input().split())\n",
    "    numbers = list(map(int, sys.stdin.readline().split())) if submit else list(map(int, input().split()))\n",
    "\n",
    "    answer = 0\n",
    "    for i in range(1, len(numbers)+1):\n",
    "        _answer = sum([True if sum(t) == S else False for t in combinations(numbers, i)])\n",
    "        answer += _answer\n",
    "    print(answer)"
   ]
  },
  {
   "cell_type": "code",
   "execution_count": null,
   "metadata": {},
   "outputs": [],
   "source": [
    "# 1182번 부분수열의 합(풀이 2) # combinations 구현\n",
    "import sys\n",
    "submit = False\n",
    "\n",
    "def gen_combinations(arr, n):\n",
    "    if n == 0:\n",
    "        return [[]]\n",
    "    result = []\n",
    "    for i in range(len(arr)):\n",
    "        elem = arr[i]\n",
    "        rest_arr = arr[i + 1:]\n",
    "        for C in gen_combinations(rest_arr, n - 1):\n",
    "            result.append([elem] + C)\n",
    "    return result\n",
    "\n",
    "def solution():\n",
    "    N, S = map(int, sys.stdin.readline().split()) if submit else map(int, input().split())\n",
    "    numbers = list(map(int, sys.stdin.readline().split())) if submit else list(map(int, input().split()))\n",
    "    answer = 0\n",
    "    for i in range(1, len(numbers)+1):\n",
    "        _answer = sum([True if sum(t) == S else False for t in gen_combinations(numbers, i)])\n",
    "        answer += _answer\n",
    "    print(answer)"
   ]
  },
  {
   "cell_type": "code",
   "execution_count": 2,
   "metadata": {},
   "outputs": [
    {
     "name": "stdout",
     "output_type": "stream",
     "text": [
      "1\n"
     ]
    }
   ],
   "source": [
    "solution()"
   ]
  },
  {
   "attachments": {},
   "cell_type": "markdown",
   "metadata": {},
   "source": [
    "## Note"
   ]
  },
  {
   "cell_type": "markdown",
   "metadata": {},
   "source": [
    "* 1. collections 패키지를 사용하여 수열(numbers)에서 크기가 양수(1 ~ len(numbers))인 부분수열을 추출하고 합이 S인 경우만 세어준다.\n",
    "    *1\\) combination(list, i) list에서 i개의 원소를 추출하는 모든 경우의 수를 반환한다."
   ]
  },
  {
   "attachments": {},
   "cell_type": "markdown",
   "metadata": {},
   "source": [
    "https://www.acmicpc.net/problem/1182"
   ]
  }
 ],
 "metadata": {
  "kernelspec": {
   "display_name": "ws1",
   "language": "python",
   "name": "python3"
  },
  "language_info": {
   "codemirror_mode": {
    "name": "ipython",
    "version": 3
   },
   "file_extension": ".py",
   "mimetype": "text/x-python",
   "name": "python",
   "nbconvert_exporter": "python",
   "pygments_lexer": "ipython3",
   "version": "3.11.5"
  },
  "orig_nbformat": 4,
  "vscode": {
   "interpreter": {
    "hash": "2856db72fb1e77597a3b14e9c1bb4d2315d342edc16fc9e25c6c6e499688b933"
   }
  }
 },
 "nbformat": 4,
 "nbformat_minor": 2
}
