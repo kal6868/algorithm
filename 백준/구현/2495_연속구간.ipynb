{
 "cells": [
  {
   "attachments": {},
   "cell_type": "markdown",
   "metadata": {},
   "source": [
    "# 연속구간"
   ]
  },
  {
   "attachments": {},
   "cell_type": "markdown",
   "metadata": {},
   "source": [
    "## 문제"
   ]
  },
  {
   "cell_type": "markdown",
   "metadata": {},
   "source": [
    "* 여덟 자리의 양의 정수가 주어질 때, 그 안에서 연속하여 같은 숫자가 나오는 것이 없으면 1을 출력하고, 있으면 같은 숫자가 연속해서 나오는 구간 중 가장 긴 것의 길이를 출력하는 프로그램을 작성하라. "
   ]
  },
  {
   "cell_type": "markdown",
   "metadata": {},
   "source": [
    "* 예를 들어 세 개의 숫자 12345123, 17772345, 22233331이 주어졌다고 하자. 12345123은 연속하여 같은 숫자가 나오는 것이 없으므로 1을 출력하고, 17772345는 7이 세 개 연속하여 나오므로 3을 출력하며, 22233331의 경우에는 2가 세 개, 3이 네 개 연속해서 나오므로 그 중 큰 값인 4를 출력하여야 한다.  "
   ]
  },
  {
   "attachments": {},
   "cell_type": "markdown",
   "metadata": {},
   "source": [
    "## 입력"
   ]
  },
  {
   "cell_type": "markdown",
   "metadata": {},
   "source": [
    "* 첫째 줄부터 셋째 줄까지 각 줄에 하나씩 세 개의 여덟 자리 양의 정수가 주어진다."
   ]
  },
  {
   "attachments": {},
   "cell_type": "markdown",
   "metadata": {},
   "source": [
    "## 출력"
   ]
  },
  {
   "cell_type": "markdown",
   "metadata": {},
   "source": [
    "* 첫째 줄에서 셋째 줄까지 한 줄에 하나씩 각 입력된  수 내에서 같은 숫자가 연속하여 나오는 가장 긴 길이를 입력 순서대로 출력한다."
   ]
  },
  {
   "attachments": {},
   "cell_type": "markdown",
   "metadata": {},
   "source": [
    "## Code"
   ]
  },
  {
   "cell_type": "code",
   "execution_count": 2,
   "metadata": {},
   "outputs": [],
   "source": [
    "import sys\n",
    "import re\n",
    "\n",
    "SUBMIT = False\n",
    "input = sys.stdin.readline if SUBMIT else input\n",
    "\n",
    "def find_longgest_countinues(number):\n",
    "    temp_count, longgest = 1, 1\n",
    "    for i in range(1, len(number)):\n",
    "        if number[i] == number[i-1]:\n",
    "            temp_count += 1\n",
    "        else:\n",
    "            temp_count = 1\n",
    "        \n",
    "        if temp_count >= longgest:\n",
    "            longgest = temp_count\n",
    "    return str(longgest)\n",
    "\n",
    "def solution():\n",
    "    for _ in range(3):\n",
    "        number = input().rstrip()\n",
    "        print(find_longgest_countinues(number))\n",
    "\n",
    "# 1. for 반복문을 사용하여 동일한 숫자가 연속된 구간을 찾는다.\n",
    "    # 1) 가장 긴 연속된 숫자의 기본 길이를 1로 설정한다(연속된 길이는 최소 2)\n",
    "        # eg. '1': 길이 1, '11': 길이 2\n",
    "    # 2) index를 1부터 문자열의 끝 index까지 탐색하여 현재 index와 이전 index가 같은 숫자인지 확인한다.\n",
    "    # 3) 같은 숫자열인 경우 현재 연속된 길이(temp_count)를 +1씩 하면서 연속된 길이를 계산한다.\n",
    "    # 4) 다른 숫자열인 경우 temp_count를 1로 초기화한다.\n",
    "    # 5) 현재 계산하고 있는 현재 연속된 길이(temp_count)가 지금까지 나타난 가장 긴 연속된 길이(longgest)보다 크면 temp_count를 longgest로 업데이트 한다.\n",
    "\n",
    "# 2. (숫자가 연속된 문자열, 문자열의 길이)의 Tuple 형태로 List에 저장하고 문자열의 길이를 기준으로 내림차순 정렬한다.\n",
    "    # 1) 가장 길이가 긴 문자열의 길이를 출력한다\n",
    "    # 2) 숫자가 연속된 문자열이 없는 경우는 1을 출력한다.\n"
   ]
  },
  {
   "attachments": {},
   "cell_type": "markdown",
   "metadata": {},
   "source": [
    "## 예제입력 - 출력"
   ]
  },
  {
   "cell_type": "code",
   "execution_count": 3,
   "metadata": {},
   "outputs": [
    {
     "name": "stdout",
     "output_type": "stream",
     "text": [
      "1\n",
      "3\n",
      "4\n"
     ]
    }
   ],
   "source": [
    "solution()"
   ]
  },
  {
   "cell_type": "markdown",
   "metadata": {},
   "source": [
    "## Note"
   ]
  },
  {
   "attachments": {},
   "cell_type": "markdown",
   "metadata": {},
   "source": [
    "https://www.acmicpc.net/problem/1371"
   ]
  }
 ],
 "metadata": {
  "kernelspec": {
   "display_name": "ws1",
   "language": "python",
   "name": "python3"
  },
  "language_info": {
   "codemirror_mode": {
    "name": "ipython",
    "version": 3
   },
   "file_extension": ".py",
   "mimetype": "text/x-python",
   "name": "python",
   "nbconvert_exporter": "python",
   "pygments_lexer": "ipython3",
   "version": "3.12.4"
  },
  "orig_nbformat": 4,
  "vscode": {
   "interpreter": {
    "hash": "2856db72fb1e77597a3b14e9c1bb4d2315d342edc16fc9e25c6c6e499688b933"
   }
  }
 },
 "nbformat": 4,
 "nbformat_minor": 2
}
