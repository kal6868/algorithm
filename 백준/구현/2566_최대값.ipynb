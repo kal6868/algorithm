{
 "cells": [
  {
   "attachments": {},
   "cell_type": "markdown",
   "metadata": {},
   "source": [
    "# 최댓값"
   ]
  },
  {
   "attachments": {},
   "cell_type": "markdown",
   "metadata": {},
   "source": [
    "## 문제"
   ]
  },
  {
   "cell_type": "markdown",
   "metadata": {},
   "source": [
    "* <그림 1>과 같이 9×9 격자판에 쓰여진 81개의 자연수 또는 0이 주어질 때, 이들 중 최댓값을 찾고 그 최댓값이 몇 행 몇 열에 위치한 수인지 구하는 프로그램을 작성하시오."
   ]
  },
  {
   "cell_type": "markdown",
   "metadata": {},
   "source": [
    "* 예를 들어, 다음과 같이 81개의 수가 주어지면\n",
    "\n",
    "|1열|2열|3열|4열|5열|6열|7열|8열|9열|\n",
    "|---|---|---|---|---|---|---|---|---|\n",
    "|1행|3|23|85|34|17|74|25|52|65|\n",
    "|2행|10|7|39|42|88|52|14|72|63|\n",
    "|3행|87|42|18|78|53|45|18|84|53|\n",
    "|4행|34|28|64|85|12|16|75|36|55|\n",
    "|5행|21|77|45|35|28|75|90|76|1|\n",
    "|6행|25|87|65|15|28|11|37|28|74|\n",
    "|7행|65|27|75|41|7|89|78|64|39|\n",
    "|8행|47|47|70|45|23|65|3|41|44|\n",
    "|9행|87|13|82|38|31|12|29|29|80|"
   ]
  },
  {
   "cell_type": "markdown",
   "metadata": {},
   "source": [
    "* 이들 중 최댓값은 90이고, 이 값은 5행 7열에 위치한다."
   ]
  },
  {
   "attachments": {},
   "cell_type": "markdown",
   "metadata": {},
   "source": [
    "## 입력"
   ]
  },
  {
   "cell_type": "markdown",
   "metadata": {},
   "source": [
    "* 첫째 줄부터 아홉 번째 줄까지 한 줄에 아홉 개씩 수가 주어진다. 주어지는 수는 100보다 작은 자연수 또는 0이다."
   ]
  },
  {
   "attachments": {},
   "cell_type": "markdown",
   "metadata": {},
   "source": [
    "## 출력"
   ]
  },
  {
   "cell_type": "markdown",
   "metadata": {},
   "source": [
    "* 첫째 줄에 최댓값을 출력하고, 둘째 줄에 최댓값이 위치한 행 번호와 열 번호를 빈칸을 사이에 두고 차례로 출력한다. 최댓값이 두 개 이상인 경우 그 중 한 곳의 위치를 출력한다."
   ]
  },
  {
   "attachments": {},
   "cell_type": "markdown",
   "metadata": {},
   "source": [
    "## Code"
   ]
  },
  {
   "cell_type": "code",
   "execution_count": 1,
   "metadata": {},
   "outputs": [],
   "source": [
    "# 2566_최댓값\n",
    "import sys\n",
    "submit = False\n",
    "input = sys.stdin.readline if submit else input\n",
    "\n",
    "def solution():\n",
    "    numbers = []\n",
    "    for _ in range(9):\n",
    "        numbers.extend(list(map(int, input().split())))\n",
    "\n",
    "    max_number, max_index = float('-inf'), 0\n",
    "    for i, n in enumerate(numbers):\n",
    "        if n > max_number:\n",
    "            max_index, max_number =  i, n\n",
    "    print(max_number)\n",
    "    print((max_index // 9) + 1, (max_index % 9) + 1)"
   ]
  },
  {
   "cell_type": "code",
   "execution_count": 2,
   "metadata": {},
   "outputs": [
    {
     "name": "stdout",
     "output_type": "stream",
     "text": [
      "90\n",
      "5 7\n"
     ]
    }
   ],
   "source": [
    "solution()"
   ]
  },
  {
   "attachments": {},
   "cell_type": "markdown",
   "metadata": {},
   "source": [
    "## Note"
   ]
  },
  {
   "cell_type": "markdown",
   "metadata": {},
   "source": [
    "* 1. 입력받은 숫자를 1차원 List에 저장하고 최대 값과 해당하는 Index를 찾은 뒤 9로 나눠 몫과 나머지를 구한 뒤 최댓값과 함께 출력한다.\n",
    "    * 1\\) List의 extend 메소드를 사용해서 입력받은 숫자를 1차원 List(numbers)에 저장한다\n",
    "    * 2\\) 변수(max_number)에 아주 작은 값을 할당한 뒤, for문을 사용하여 numbers에 있는 숫자를 탐색하면서 최댓값이 나올 때 마다 max_number에 갱신하고 해당 Index도 저장한다.\n",
    "    * 3\\) 최댓값을 출력하고 Index를 9로 나눈 몫과 나머지에 1을 더해서 출력한다\n",
    "        *  1을 더하는 이유는 Index를 0부터 세었기 때문"
   ]
  },
  {
   "cell_type": "markdown",
   "metadata": {},
   "source": [
    "https://www.acmicpc.net/problem/2566"
   ]
  }
 ],
 "metadata": {
  "kernelspec": {
   "display_name": "ws1",
   "language": "python",
   "name": "python3"
  },
  "language_info": {
   "codemirror_mode": {
    "name": "ipython",
    "version": 3
   },
   "file_extension": ".py",
   "mimetype": "text/x-python",
   "name": "python",
   "nbconvert_exporter": "python",
   "pygments_lexer": "ipython3",
   "version": "3.11.5"
  },
  "orig_nbformat": 4,
  "vscode": {
   "interpreter": {
    "hash": "2856db72fb1e77597a3b14e9c1bb4d2315d342edc16fc9e25c6c6e499688b933"
   }
  }
 },
 "nbformat": 4,
 "nbformat_minor": 2
}
