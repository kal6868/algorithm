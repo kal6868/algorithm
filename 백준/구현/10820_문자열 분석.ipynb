{
 "cells": [
  {
   "attachments": {},
   "cell_type": "markdown",
   "metadata": {},
   "source": [
    "# 문자열 분석"
   ]
  },
  {
   "attachments": {},
   "cell_type": "markdown",
   "metadata": {},
   "source": [
    "## 문제"
   ]
  },
  {
   "cell_type": "markdown",
   "metadata": {},
   "source": [
    "* 문자열 N개가 주어진다. 이때, 문자열에 포함되어 있는 소문자, 대문자, 숫자, 공백의 개수를 구하는 프로그램을 작성하시오."
   ]
  },
  {
   "cell_type": "markdown",
   "metadata": {},
   "source": [
    "* 각 문자열은 알파벳 소문자, 대문자, 숫자, 공백으로만 이루어져 있다."
   ]
  },
  {
   "attachments": {},
   "cell_type": "markdown",
   "metadata": {},
   "source": [
    "## 입력"
   ]
  },
  {
   "cell_type": "markdown",
   "metadata": {},
   "source": [
    "* 첫째 줄부터 N번째 줄까지 문자열이 주어진다. (1 ≤ N ≤ 100) 문자열의 길이는 100을 넘지 않는다."
   ]
  },
  {
   "attachments": {},
   "cell_type": "markdown",
   "metadata": {},
   "source": [
    "## 출력"
   ]
  },
  {
   "cell_type": "markdown",
   "metadata": {},
   "source": [
    "* 첫째 줄부터 N번째 줄까지 각각의 문자열에 대해서 소문자, 대문자, 숫자, 공백의 개수를 공백으로 구분해 출력한다.\n"
   ]
  },
  {
   "attachments": {},
   "cell_type": "markdown",
   "metadata": {},
   "source": [
    "## Code"
   ]
  },
  {
   "cell_type": "code",
   "execution_count": 1,
   "metadata": {},
   "outputs": [],
   "source": [
    "#10820_문자열 분석\n",
    "\n",
    "import sys\n",
    "submit = False\n",
    "\n",
    "def char_analysis(s):\n",
    "    char_count = {\n",
    "        'lower':0,\n",
    "        'upper':0,\n",
    "        'number':0,\n",
    "        'white_space':0\n",
    "    }\n",
    "    for c in s:\n",
    "        if 97 <= ord(c) <=122:\n",
    "            char_count['lower'] += 1\n",
    "        elif 65 <= ord(c) <= 90:\n",
    "            char_count['upper'] += 1\n",
    "        elif 48 <= ord(c) <= 57:\n",
    "            char_count['number'] += 1\n",
    "        else:\n",
    "            char_count['white_space'] += 1\n",
    "\n",
    "    print(*char_count.values()) #sys.stdin.readline() 사용불가\n",
    "\n",
    "def solution():\n",
    "    while True:\n",
    "        try:\n",
    "            s = sys.stdin.readline().strip() if submit else input()\n",
    "            if s == 'quit':\n",
    "                break\n",
    "            char_analysis(s)\n",
    "        except EOFError:\n",
    "            break\n"
   ]
  },
  {
   "cell_type": "code",
   "execution_count": 2,
   "metadata": {},
   "outputs": [
    {
     "name": "stdout",
     "output_type": "stream",
     "text": [
      "10 2 0 2\n",
      "0 10 1 8\n",
      "5 6 0 11\n",
      "0 8 9 0\n"
     ]
    }
   ],
   "source": [
    "solution()"
   ]
  },
  {
   "attachments": {},
   "cell_type": "markdown",
   "metadata": {},
   "source": [
    "## Note"
   ]
  },
  {
   "cell_type": "markdown",
   "metadata": {},
   "source": [
    "* 1. 문자열을 입력받고 문자를 ord를 통해 유니코드로 변환 후 소문자, 대문자, 숫자 유니 코드 범위와 대조하여 문자의 종류를 확인하고 공백의 유니코드와 대조하여 확인한다.\n",
    "* 2. dictionary 자료형을 만들어서 문자의 유니코드에 따라 종류에 맞게 세어준다.\n",
    "* 3. 문제에 입력을 몇개 받을지에 대한 기준이 없으므로 EOF(End of File Error)(더 이상 파일에서 읽을 내용이 없는 경우) 에러가 발생하면 멈출 수 있도록 try~except문을 사용한다."
   ]
  },
  {
   "attachments": {},
   "cell_type": "markdown",
   "metadata": {},
   "source": [
    "https://www.acmicpc.net/problem/10820"
   ]
  }
 ],
 "metadata": {
  "kernelspec": {
   "display_name": "ws1",
   "language": "python",
   "name": "python3"
  },
  "language_info": {
   "codemirror_mode": {
    "name": "ipython",
    "version": 3
   },
   "file_extension": ".py",
   "mimetype": "text/x-python",
   "name": "python",
   "nbconvert_exporter": "python",
   "pygments_lexer": "ipython3",
   "version": "3.11.5"
  },
  "orig_nbformat": 4,
  "vscode": {
   "interpreter": {
    "hash": "2856db72fb1e77597a3b14e9c1bb4d2315d342edc16fc9e25c6c6e499688b933"
   }
  }
 },
 "nbformat": 4,
 "nbformat_minor": 2
}
