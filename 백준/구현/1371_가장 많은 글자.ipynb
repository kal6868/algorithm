{
 "cells": [
  {
   "attachments": {},
   "cell_type": "markdown",
   "metadata": {},
   "source": [
    "# 가장 많은 글자"
   ]
  },
  {
   "attachments": {},
   "cell_type": "markdown",
   "metadata": {},
   "source": [
    "## 문제"
   ]
  },
  {
   "cell_type": "markdown",
   "metadata": {},
   "source": [
    "* 영어에서는 어떤 글자가 다른 글자보다 많이 쓰인다. 예를 들어, 긴 글에서 약 12.31% 글자는 e이다."
   ]
  },
  {
   "cell_type": "markdown",
   "metadata": {},
   "source": [
    "* 어떤 글이 주어졌을 때, 가장 많이 나온 글자를 출력하는 프로그램을 작성하시오."
   ]
  },
  {
   "attachments": {},
   "cell_type": "markdown",
   "metadata": {},
   "source": [
    "## 입력"
   ]
  },
  {
   "cell_type": "markdown",
   "metadata": {},
   "source": [
    "* 첫째 줄부터 글이 주어진다. 글은 최대 50개의 줄로 이루어져 있고, 각 줄은 최대 50개의 글자로 이루어져 있다. 각 줄에는 공백과 알파벳 소문자만 있다. 글에 알파벳은 적어도 하나 이상 있다."
   ]
  },
  {
   "attachments": {},
   "cell_type": "markdown",
   "metadata": {},
   "source": [
    "## 출력"
   ]
  },
  {
   "cell_type": "markdown",
   "metadata": {},
   "source": [
    "* 첫째 줄에 가장 많이 나온 문자를 출력한다. 여러 개일 경우에는 알파벳 순으로 앞서는 것부터 모두 공백없이 출력한다."
   ]
  },
  {
   "attachments": {},
   "cell_type": "markdown",
   "metadata": {},
   "source": [
    "## Code"
   ]
  },
  {
   "cell_type": "code",
   "execution_count": 1,
   "metadata": {},
   "outputs": [],
   "source": [
    "# 1371_가장 많은 글자\n",
    "\n",
    "import sys\n",
    "\n",
    "submit = False\n",
    "input = sys.stdin.readline if submit else input\n",
    "\n",
    "def solution():\n",
    "    sentences, result = [], {}\n",
    "    # while True:\n",
    "    #     try:\n",
    "    #         sentences.append(input().rstrip())\n",
    "    #     except EOFError:\n",
    "    #         break\n",
    "    while True:\n",
    "        temp = input().rstrip()\n",
    "        if temp == '':\n",
    "            break\n",
    "        sentences.append(temp)\n",
    "\n",
    "    for sentence in sentences:\n",
    "        sentence = sentence.replace(' ', '')\n",
    "        for alpha in sentence:\n",
    "            if alpha in result:\n",
    "                result[alpha] += 1\n",
    "            else:\n",
    "                result[alpha] = 1\n",
    "\n",
    "    result = sorted(result.items(), key=lambda x: (-x[1], x[0]))\n",
    "    first_most = result[0]\n",
    "    result = [s[0] for s in result if s[1] == first_most[1]] \n",
    "    print(''.join(result))"
   ]
  },
  {
   "cell_type": "code",
   "execution_count": null,
   "metadata": {},
   "outputs": [],
   "source": [
    "import sys\n",
    "from collections import Counter\n",
    "\n",
    "submit = False\n",
    "input = sys.stdin.readline if submit else input\n",
    "\n",
    "def solution():\n",
    "    sentences, result = [], {}\n",
    "\n",
    "    if submit:\n",
    "        while True:\n",
    "            temp = input().rstrip()\n",
    "            sentences.append(temp)\n",
    "            if temp == '':\n",
    "                break\n",
    "\n",
    "    else:\n",
    "        while True:\n",
    "            try:\n",
    "                sentences.append(input().rstrip())\n",
    "            except EOFError:\n",
    "                break\n",
    "        \n",
    "    for sentence in sentences:\n",
    "        sentence = sentence.replace('\\n', '').replace(' ', '')\n",
    "        sentence = Counter(sentence).items()\n",
    "        for k, v in sentence:\n",
    "            if k in result:\n",
    "                result[k] += v\n",
    "            else:\n",
    "                result[k] = v\n",
    "\n",
    "    result = sorted(result.items(), key=lambda x: (-x[1], x[0]))\n",
    "    first_most = result[0]\n",
    "    result = [s[0] for s in result if s[1] == first_most[1]] \n",
    "    print(''.join(result))"
   ]
  },
  {
   "cell_type": "code",
   "execution_count": null,
   "metadata": {},
   "outputs": [],
   "source": [
    "# 1371_가장 많은 글자\n",
    "\n",
    "import sys\n",
    "from collections import Counter\n",
    "\n",
    "submit = False\n",
    "input = sys.stdin.readline if submit else input\n",
    "\n",
    "sentences = sys.stdin.read().replace('\\n', '').replace(' ', '')\n",
    "result = Counter(sentences) \n",
    "result = sorted(result.items(), key=lambda x: (-x[1], x[0]))\n",
    "first_most = result[0]\n",
    "result = [s[0] for s in result if s[1] == first_most[1]] \n",
    "print(''.join(result))"
   ]
  },
  {
   "attachments": {},
   "cell_type": "markdown",
   "metadata": {},
   "source": [
    "## 예제입력 - 출력"
   ]
  },
  {
   "cell_type": "code",
   "execution_count": 2,
   "metadata": {},
   "outputs": [
    {
     "name": "stdout",
     "output_type": "stream",
     "text": [
      "a\n"
     ]
    }
   ],
   "source": [
    "solution()"
   ]
  },
  {
   "cell_type": "code",
   "execution_count": 3,
   "metadata": {},
   "outputs": [
    {
     "name": "stdout",
     "output_type": "stream",
     "text": [
      "eno\n"
     ]
    }
   ],
   "source": [
    "solution()"
   ]
  },
  {
   "cell_type": "code",
   "execution_count": 4,
   "metadata": {},
   "outputs": [
    {
     "name": "stdout",
     "output_type": "stream",
     "text": [
      "a\n"
     ]
    }
   ],
   "source": [
    "solution()"
   ]
  },
  {
   "cell_type": "code",
   "execution_count": 5,
   "metadata": {},
   "outputs": [
    {
     "name": "stdout",
     "output_type": "stream",
     "text": [
      "ab\n"
     ]
    }
   ],
   "source": [
    "solution()"
   ]
  },
  {
   "cell_type": "code",
   "execution_count": 7,
   "metadata": {},
   "outputs": [
    {
     "name": "stdout",
     "output_type": "stream",
     "text": [
      "e\n"
     ]
    }
   ],
   "source": [
    "solution()"
   ]
  },
  {
   "cell_type": "markdown",
   "metadata": {},
   "source": [
    "## Note"
   ]
  },
  {
   "cell_type": "code",
   "execution_count": null,
   "metadata": {},
   "outputs": [],
   "source": []
  },
  {
   "cell_type": "markdown",
   "metadata": {},
   "source": [
    "### 풀이 1\n",
    "\n",
    "* 1. 주어진 입력의 개수나 끝을 표시하는 값이 없으므로 EOFError를 기준으로 입력의 끝을 확인한다\n",
    "\n",
    "* 2. 단어 사이의 공백을 지우고 dictionary에 문장에 포함된 알파벳의 개수를 저장한다\n",
    "\n",
    "* 3. 정렬을 통해 가장 많이 나타난 알파벳을 찾고, 동일한 빈도로 나타난 알파벳이 있는지 찾아 모두 List(result)에 저장한다.\n",
    "    * items()를 사용하여 [(알파벳, 빈도)] 순으로 나타낸 후 정렬한다.\n",
    "    * 빈도는 최대값, 알파벳은 사전 순서로 정렬해야 하므로 (-빈도, 사전 순서)에 따라 정렬한다.\n",
    "    \n",
    "* 4. result에 저장된 알파벳만들 모두 이어붙여 출력한다"
   ]
  },
  {
   "cell_type": "markdown",
   "metadata": {},
   "source": [
    "### 풀이 2\n",
    "\n",
    "* 1-1. sys.stdin.readline은 EOF를 입력으로 받으면 빈 값으로 입력하므로 빈 값을 받으면 while문을 중지하는 방법으로 모든 입력을 받는다.\n",
    "* 1-2. input은 EOF를 입력으로 받으면 EOFError을 발생시키므로 EOFError를 받으면 while문을 중지하는 방법으로 모든 입력을 받는다\n",
    "\n",
    "* 2. 단어 사이의 공백을 지우고 dictionary에 문장에 포함된 알파벳의 개수를 저장한다\n",
    "    * 1) Counter를 통해 입력받은 문장의 알파벳 빈도를 계산한 dictionary 형태의 자료형으로 바꾼다\n",
    "    * eg) Counter(abc) == {'a':1, 'b':2, 'c':3}\n",
    "\n",
    "* 3. 정렬을 통해 가장 많이 나타난 알파벳을 찾고, 동일한 빈도로 나타난 알파벳이 있는지 찾아 모두 List(result)에 저장한다.\n",
    "    * 1) items()를 사용하여 [(알파벳, 빈도)] 순으로 나타낸 후 정렬한다.\n",
    "    * 2) 빈도는 최대값, 알파벳은 사전 순서로 정렬해야 하므로 (-빈도, 사전 순서)에 따라 정렬한다.\n",
    "    \n",
    "* 4. result에 저장된 알파벳만들 모두 이어붙여 출력한다"
   ]
  },
  {
   "cell_type": "markdown",
   "metadata": {},
   "source": [
    "### 풀이 3\n",
    "\n",
    "* 1. sys.stdin.read을 사용하면 입력된 모든 데이터를 EOF에 도달할 때까지 읽어온다\n",
    "    * sys.stdin.read을 사용해서 모든 줄의 입력을 한번에 입력받을 수 있다.\n",
    "\n",
    "* 2. 문장 사이의 줄바꿈을 지우고 단어 사이의 공백을 지우고 dictionary에 문장에 포함된 알파벳의 개수를 저장한다\n",
    "    * 1) Counter를 통해 입력받은 문장의 알파벳 빈도를 계산한 dictionary 형태의 자료형으로 바꾼다\n",
    "    * eg) Counter(abc) == {'a':1, 'b':2, 'c':3}\n",
    "    \n",
    "* 3. 정렬을 통해 가장 많이 나타난 알파벳을 찾고, 동일한 빈도로 나타난 알파벳이 있는지 찾아 모두 List(result)에 저장한다.\n",
    "    * 1) items()를 사용하여 [(알파벳, 빈도)] 순으로 나타낸 후 정렬한다.\n",
    "    * 2) 빈도는 최대값, 알파벳은 사전 순서로 정렬해야 하므로 (-빈도, 사전 순서)에 따라 정렬한다.\n",
    "\n",
    "* 4. result에 저장된 알파벳만들 모두 이어붙여 출력한다"
   ]
  },
  {
   "attachments": {},
   "cell_type": "markdown",
   "metadata": {},
   "source": [
    "https://www.acmicpc.net/problem/1371"
   ]
  }
 ],
 "metadata": {
  "kernelspec": {
   "display_name": "ws1",
   "language": "python",
   "name": "python3"
  },
  "language_info": {
   "codemirror_mode": {
    "name": "ipython",
    "version": 3
   },
   "file_extension": ".py",
   "mimetype": "text/x-python",
   "name": "python",
   "nbconvert_exporter": "python",
   "pygments_lexer": "ipython3",
   "version": "3.12.4"
  },
  "orig_nbformat": 4,
  "vscode": {
   "interpreter": {
    "hash": "2856db72fb1e77597a3b14e9c1bb4d2315d342edc16fc9e25c6c6e499688b933"
   }
  }
 },
 "nbformat": 4,
 "nbformat_minor": 2
}
