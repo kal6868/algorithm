{
 "cells": [
  {
   "attachments": {},
   "cell_type": "markdown",
   "metadata": {},
   "source": [
    "# AC"
   ]
  },
  {
   "attachments": {},
   "cell_type": "markdown",
   "metadata": {},
   "source": [
    "## 문제"
   ]
  },
  {
   "cell_type": "markdown",
   "metadata": {},
   "source": [
    "* 선영이는 주말에 할 일이 없어서 새로운 언어 AC를 만들었다. AC는 정수 배열에 연산을 하기 위해 만든 언어이다. 이 언어에는 두 가지 함수 R(뒤집기)과 D(버리기)가 있다."
   ]
  },
  {
   "cell_type": "markdown",
   "metadata": {},
   "source": [
    "* 함수 R은 배열에 있는 수의 순서를 뒤집는 함수이고, D는 첫 번째 수를 버리는 함수이다. 배열이 비어있는데 D를 사용한 경우에는 에러가 발생한다."
   ]
  },
  {
   "cell_type": "markdown",
   "metadata": {},
   "source": [
    "* 함수는 조합해서 한 번에 사용할 수 있다. 예를 들어, \"AB\"는 A를 수행한 다음에 바로 이어서 B를 수행하는 함수이다. 예를 들어, \"RDD\"는 배열을 뒤집은 다음 처음 두 수를 버리는 함수이다."
   ]
  },
  {
   "cell_type": "markdown",
   "metadata": {},
   "source": [
    "* 배열의 초기값과 수행할 함수가 주어졌을 때, 최종 결과를 구하는 프로그램을 작성하시오."
   ]
  },
  {
   "attachments": {},
   "cell_type": "markdown",
   "metadata": {},
   "source": [
    "## 입력"
   ]
  },
  {
   "cell_type": "markdown",
   "metadata": {},
   "source": [
    "* 첫째 줄에 테스트 케이스의 개수 T가 주어진다. T는 최대 100이다."
   ]
  },
  {
   "cell_type": "markdown",
   "metadata": {},
   "source": [
    "* 각 테스트 케이스의 첫째 줄에는 수행할 함수 p가 주어진다. p의 길이는 1보다 크거나 같고, 100,000보다 작거나 같다."
   ]
  },
  {
   "cell_type": "markdown",
   "metadata": {},
   "source": [
    "* 다음 줄에는 배열에 들어있는 수의 개수 n이 주어진다. (0 ≤ n ≤ 100,000)"
   ]
  },
  {
   "cell_type": "markdown",
   "metadata": {},
   "source": [
    "* 다음 줄에는 [x1,...,xn]과 같은 형태로 배열에 들어있는 정수가 주어진다. (1 ≤ xi ≤ 100)"
   ]
  },
  {
   "attachments": {},
   "cell_type": "markdown",
   "metadata": {},
   "source": [
    "* 전체 테스트 케이스에 주어지는 p의 길이의 합과 n의 합은 70만을 넘지 않는다."
   ]
  },
  {
   "attachments": {},
   "cell_type": "markdown",
   "metadata": {},
   "source": [
    "## 출력"
   ]
  },
  {
   "attachments": {},
   "cell_type": "markdown",
   "metadata": {},
   "source": [
    "* 각 테스트 케이스에 대해서, 입력으로 주어진 정수 배열에 함수를 수행한 결과를 출력한다. 만약, 에러가 발생한 경우에는 error를 출력한다."
   ]
  },
  {
   "attachments": {},
   "cell_type": "markdown",
   "metadata": {},
   "source": [
    "## Code"
   ]
  },
  {
   "cell_type": "code",
   "execution_count": null,
   "metadata": {},
   "outputs": [],
   "source": [
    "# 5430_AC # 시간초과 풀이\n",
    "\n",
    "import sys\n",
    "from collections import deque\n",
    "\n",
    "submit = False\n",
    "input = sys.stdin.readline if submit else input\n",
    "\n",
    "def str_to_list(s):\n",
    "    prep = s[1:-1].split(',')\n",
    "    return deque([i for i in prep if i.isdigit()])\n",
    "\n",
    "def solution():\n",
    "    result = []\n",
    "    T = int(input())\n",
    "    for _ in range(T):\n",
    "        p = input().rstrip()\n",
    "        n = int(input())\n",
    "        array = str_to_list(input().rstrip())\n",
    "        for c in p:\n",
    "            if c == 'R':\n",
    "                array = array[::-1]\n",
    "            elif c == 'D':\n",
    "                if array:\n",
    "                    array = array[1:]\n",
    "                else:\n",
    "                    result.append('error')\n",
    "                    break\n",
    "        else:\n",
    "            result.append('[' + ','.join(list(array)) + ']')\n",
    "    print(*result, sep='\\n')"
   ]
  },
  {
   "cell_type": "code",
   "execution_count": null,
   "metadata": {},
   "outputs": [],
   "source": [
    "# 5430_AC # 시간초과 풀이\n",
    "\n",
    "import sys\n",
    "from collections import deque\n",
    "\n",
    "submit = False\n",
    "input = sys.stdin.readline if submit else input\n",
    "\n",
    "def str_to_list(s):\n",
    "    prep = s[1:-1].split(',')\n",
    "    return deque([i for i in prep if i.isdigit()])\n",
    "\n",
    "def solution():\n",
    "    result = []\n",
    "    T = int(input())\n",
    "    for _ in range(T):\n",
    "        p = input().rstrip()\n",
    "        n = int(input())\n",
    "        array = str_to_list(input().rstrip())\n",
    "        cnt_rev = 0\n",
    "\n",
    "        for c in p:\n",
    "            if c == 'R':\n",
    "                cnt_rev += 1\n",
    "            elif c == 'D':\n",
    "                if array:\n",
    "                    if cnt_rev % 2 == 0:\n",
    "                        array.popleft()\n",
    "                    else:\n",
    "                        array.pop()\n",
    "                else:\n",
    "                    result.append('error')\n",
    "                    break\n",
    "        else:\n",
    "            if cnt_rev % 2 == 0:\n",
    "                result.append('[' + ','.join(list(array)) + ']')\n",
    "            else:\n",
    "                array.reverse()\n",
    "                result.append('[' + ','.join(list(array)) + ']')\n",
    "\n",
    "    print(*result, sep='\\n')"
   ]
  },
  {
   "attachments": {},
   "cell_type": "markdown",
   "metadata": {},
   "source": [
    "## 예제입력 - 출력"
   ]
  },
  {
   "cell_type": "code",
   "execution_count": 2,
   "metadata": {},
   "outputs": [
    {
     "name": "stdout",
     "output_type": "stream",
     "text": [
      "31 35\n"
     ]
    }
   ],
   "source": [
    "solution()"
   ]
  },
  {
   "attachments": {},
   "cell_type": "markdown",
   "metadata": {},
   "source": [
    "## Note"
   ]
  },
  {
   "cell_type": "markdown",
   "metadata": {},
   "source": [
    "* 1. 테스트 케이스, 수행할 함수(p), 배열의 개수(n), 배열(array)을 입력으로 받은 후 array는 전처리 후 str에서 list 자료형으로 변경해준다\n",
    "    * indexing을 사용하여 앞, 뒤의 '[', ']'을 제거하고 split 메서드를 사용해 ','을 기준으로 분리 후, 숫자형태의 문자열 값만 list에 저장한다.\n",
    "* 2. p에 있는 함수를 실행하면서 실행이 완료되면 결과를 List(result)에 추가하고, 불가능 할 경우 error를 result에 추가한다.\n",
    "    * R: list 안의 값들을 뒤집는다\n",
    "    * D: list의 맨 처음 값을 제거한다\n",
    "* 3. result에 저장된 실행 결과를 출력한다."
   ]
  },
  {
   "attachments": {},
   "cell_type": "markdown",
   "metadata": {},
   "source": [
    "https://www.acmicpc.net/problem/5430"
   ]
  }
 ],
 "metadata": {
  "kernelspec": {
   "display_name": "ws1",
   "language": "python",
   "name": "python3"
  },
  "language_info": {
   "codemirror_mode": {
    "name": "ipython",
    "version": 3
   },
   "file_extension": ".py",
   "mimetype": "text/x-python",
   "name": "python",
   "nbconvert_exporter": "python",
   "pygments_lexer": "ipython3",
   "version": "3.12.4"
  },
  "orig_nbformat": 4,
  "vscode": {
   "interpreter": {
    "hash": "2856db72fb1e77597a3b14e9c1bb4d2315d342edc16fc9e25c6c6e499688b933"
   }
  }
 },
 "nbformat": 4,
 "nbformat_minor": 2
}
