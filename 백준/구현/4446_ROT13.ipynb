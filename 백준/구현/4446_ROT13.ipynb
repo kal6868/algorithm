{
 "cells": [
  {
   "attachments": {},
   "cell_type": "markdown",
   "metadata": {},
   "source": [
    "# ROT13"
   ]
  },
  {
   "attachments": {},
   "cell_type": "markdown",
   "metadata": {},
   "source": [
    "## 문제"
   ]
  },
  {
   "cell_type": "markdown",
   "metadata": {},
   "source": [
    "* ROT13은 카이사르 암호의 일종으로 영어 알파벳을 13글자씩 밀어서 만든다."
   ]
  },
  {
   "cell_type": "markdown",
   "metadata": {},
   "source": [
    "* 예를 들어, \"Baekjoon Online Judge\"를 ROT13으로 암호화하면 \"Onrxwbba Bayvar Whqtr\"가 된다. ROT13으로 암호화한 내용을 원래 내용으로 바꾸려면 암호화한 문자열을 다시 ROT13하면 된다. 앞에서 암호화한 문자열 \"Onrxwbba Bayvar Whqtr\"에 다시 ROT13을 적용하면 \"Baekjoon Online Judge\"가 된다."
   ]
  },
  {
   "cell_type": "markdown",
   "metadata": {},
   "source": [
    "* ROT13은 알파벳 대문자와 소문자에만 적용할 수 있다. 알파벳이 아닌 글자는 원래 글자 그대로 남아 있어야 한다. 예를 들어, \"One is 1\"을 ROT13으로 암호화하면 \"Bar vf 1\"이 된다."
   ]
  },
  {
   "cell_type": "markdown",
   "metadata": {},
   "source": [
    "* 문자열이 주어졌을 때, \"ROT13\"으로 암호화한 다음 출력하는 프로그램을 작성하시오."
   ]
  },
  {
   "attachments": {},
   "cell_type": "markdown",
   "metadata": {},
   "source": [
    "## 입력"
   ]
  },
  {
   "cell_type": "markdown",
   "metadata": {},
   "source": [
    "* 첫째 줄에 알파벳 대문자, 소문자, 공백, 숫자로만 이루어진 문자열 S가 주어진다. S의 길이는 100을 넘지 않는다."
   ]
  },
  {
   "attachments": {},
   "cell_type": "markdown",
   "metadata": {},
   "source": [
    "## 출력"
   ]
  },
  {
   "cell_type": "markdown",
   "metadata": {},
   "source": [
    "* 첫째 줄에 S를 ROT13으로 암호화한 내용을 출력한다."
   ]
  },
  {
   "attachments": {},
   "cell_type": "markdown",
   "metadata": {},
   "source": [
    "## Code"
   ]
  },
  {
   "cell_type": "code",
   "execution_count": 1,
   "metadata": {},
   "outputs": [],
   "source": [
    "# 11655번 ROT13(구현. 풀이 1)\n",
    "\n",
    "import sys\n",
    "\n",
    "def make_ROT13(original_S):\n",
    "    ROT13 = ''\n",
    "    for s in original_S:\n",
    "        if (s == ' ') or (s.isdigit()):\n",
    "            ROT13 += s\n",
    "        else:\n",
    "            if 65 <= ord(s) <= 90: #대문자\n",
    "                new_s = ord(s) + 13\n",
    "                if new_s > 90:\n",
    "                    new_s = 65 + (new_s - 90) - 1\n",
    "                    ROT13 += chr(new_s)\n",
    "                else:\n",
    "                    ROT13 += chr(new_s)\n",
    "            elif 97 <= ord(s) <= 122:\n",
    "                new_s = ord(s) + 13\n",
    "                if new_s > 122:\n",
    "                    new_s = 97 + (new_s - 122) - 1\n",
    "                    ROT13 += chr(new_s)\n",
    "                else:\n",
    "                    ROT13 += chr(new_s)\n",
    "    return ROT13\n",
    "\n",
    "def solution():\n",
    "    submit = False\n",
    "    S = sys.stdin.readline().rstrip() if submit else input()\n",
    "    print(make_ROT13(S))"
   ]
  },
  {
   "cell_type": "code",
   "execution_count": null,
   "metadata": {},
   "outputs": [],
   "source": [
    "# 11655번 ROT13(구현. 풀이 2)\n",
    "import sys\n",
    "\n",
    "def imp_isdigit(s):\n",
    "    num_s = '0123456789'\n",
    "    for ch in s:\n",
    "        if ch not in num_s:\n",
    "            return False\n",
    "    return True\n",
    "\n",
    "\n",
    "def make_ROT13(original_S):\n",
    "    ROT13 = ''\n",
    "    for s in original_S:\n",
    "        if (s == ' ') or (imp_isdigit(s)):\n",
    "            ROT13 += s\n",
    "        else:\n",
    "            if 65 <= ord(s) <= 90: #대문자\n",
    "                new_s = ord(s) + 13\n",
    "                if new_s > 90:\n",
    "                    new_s = 65 + (new_s - 90) - 1\n",
    "                    ROT13 += chr(new_s)\n",
    "                else:\n",
    "                    ROT13 += chr(new_s)\n",
    "            elif 97 <= ord(s) <= 122:\n",
    "                new_s = ord(s) + 13\n",
    "                if new_s > 122:\n",
    "                    new_s = 97 + (new_s - 122) - 1\n",
    "                    ROT13 += chr(new_s)\n",
    "                else:\n",
    "                    ROT13 += chr(new_s)\n",
    "    return ROT13\n",
    "\n",
    "def solution():\n",
    "    submit = False\n",
    "    S = sys.stdin.readline().rstrip() if submit else input()\n",
    "    print(make_ROT13(S))"
   ]
  },
  {
   "cell_type": "code",
   "execution_count": 2,
   "metadata": {},
   "outputs": [
    {
     "name": "stdout",
     "output_type": "stream",
     "text": [
      "Onrxwbba Bayvar Whqtr\n"
     ]
    }
   ],
   "source": [
    "solution()"
   ]
  },
  {
   "cell_type": "code",
   "execution_count": 3,
   "metadata": {},
   "outputs": [
    {
     "name": "stdout",
     "output_type": "stream",
     "text": [
      "Bar vf 1\n"
     ]
    }
   ],
   "source": [
    "solution()"
   ]
  },
  {
   "attachments": {},
   "cell_type": "markdown",
   "metadata": {},
   "source": [
    "## Note"
   ]
  },
  {
   "cell_type": "markdown",
   "metadata": {},
   "source": [
    "### 풀이 1\n",
    "\n",
    "* 1. for문을 통해 주어진 문장을 탐색하면서 알파벳이 소문자일시 소문자 알파벳 내에서 +13을 하고 대문자일시 대문자 알파벳 내에서 +13을 해준다.\n",
    "    * 1) 범위가 벗어난 경우 다시 a 혹은 A로 돌아와서 남은 숫자만큼 +를 해주면 된다.\n",
    "* 2. ord 함수를 통해서 문자을 ascii 코드표 상의 숫자로 변환하고 13을 더한다. \n",
    "    * 1\\) 범위가 대소문자 알파벳을 벗어날 경우 z, Z에 해당하는 ascii 숫자를 뺀 다음 a, A에 해당하는 ascii 코드에 다시 더 해준다.\n",
    "    * 2\\) 다만, z->a, Z->a 순서대로 알파벳이 이동하므로 실제로는 z, Z에 해당하는 ascii 숫자를 뺄때 1만큼 더 빼준다.\n",
    "* 3. 문장 내에서 탐색을 할 때, 숫자나, 공백(' ')이면 +13을 하지 않고 그대로 사용한다\n",
    "* 4. 알파벳만 +13을 한 결과물을 순서대로 모두 합쳐서 반환한다.  "
   ]
  },
  {
   "cell_type": "markdown",
   "metadata": {},
   "source": [
    "### 풀이 2\n",
    "\n",
    "* 1. for문을 통해 주어진 문장을 탐색하면서 알파벳이 소문자일시 소문자 알파벳 내에서 +13을 하고 대문자일시 대문자 알파벳 내에서 +13을 해준다.\n",
    "    * 1\\) 범위가 벗어난 경우 다시 a 혹은 A로 돌아와서 남은 숫자만큼 +를 해주면 된다.\n",
    "* 2. ord 함수를 통해서 문자을 ascii 코드표 상의 숫자로 변환하고 13을 더한다. \n",
    "    * 1\\) 범위가 대소문자 알파벳을 벗어날 경우 z, Z에 해당하는 ascii 숫자를 뺀 다음 a, A에 해당하는 ascii 코드에 다시 더 해준다.\n",
    "    * 2\\) 다만, z->a, Z->a 순서대로 알파벳이 이동하므로 실제로는 z, Z에 해당하는 ascii 숫자를 뺄때 1만큼 더 빼준다.\n",
    "* 3. 문장 내에서 탐색을 할 때, 숫자나, 공백(' ')이면 +13을 하지 않고 그대로 사용한다.\n",
    "    * 1\\) 탐색을 할 때, 내장함수인 .isdigit()을 사용할 수도 있지만 구현 할 수도 있다.\n",
    "        * 주어진 문자열이 '0123456789'에 포함되면 True를 포함되지 않으면 False를 반환한다.\n",
    "        * for문을 사용하여 모든 문자열을 탐색하면 두자리수 이상도 숫자인지 문자인지 구별이 가능하다\n",
    "        * ex\\) 1342 -> 1, 3, 4, 2를 탐색하고 모두 '0123456789'에 포함되므로 True를 반환한다. 중간에 문자열이 있으면 False를 반환한다.\n",
    "* 4. 알파벳만 +13을 한 결과물을 순서대로 모두 합쳐서 반환한다."
   ]
  },
  {
   "attachments": {},
   "cell_type": "markdown",
   "metadata": {},
   "source": [
    "https://www.acmicpc.net/problem/11655"
   ]
  }
 ],
 "metadata": {
  "kernelspec": {
   "display_name": "ws1",
   "language": "python",
   "name": "python3"
  },
  "language_info": {
   "codemirror_mode": {
    "name": "ipython",
    "version": 3
   },
   "file_extension": ".py",
   "mimetype": "text/x-python",
   "name": "python",
   "nbconvert_exporter": "python",
   "pygments_lexer": "ipython3",
   "version": "3.11.5"
  },
  "orig_nbformat": 4,
  "vscode": {
   "interpreter": {
    "hash": "2856db72fb1e77597a3b14e9c1bb4d2315d342edc16fc9e25c6c6e499688b933"
   }
  }
 },
 "nbformat": 4,
 "nbformat_minor": 2
}
