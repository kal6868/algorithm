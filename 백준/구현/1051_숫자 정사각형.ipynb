{
 "cells": [
  {
   "attachments": {},
   "cell_type": "markdown",
   "metadata": {},
   "source": [
    "# 숫자 정사각형"
   ]
  },
  {
   "attachments": {},
   "cell_type": "markdown",
   "metadata": {},
   "source": [
    "## 문제"
   ]
  },
  {
   "cell_type": "markdown",
   "metadata": {},
   "source": [
    "* N×M크기의 직사각형이 있다. 각 칸에는 한 자리 숫자가 적혀 있다. 이 직사각형에서 꼭짓점에 쓰여 있는 수가 모두 같은 가장 큰 정사각형을 찾는 프로그램을 작성하시오. 이때, 정사각형은 행 또는 열에 평행해야 한다."
   ]
  },
  {
   "attachments": {},
   "cell_type": "markdown",
   "metadata": {},
   "source": [
    "## 입력"
   ]
  },
  {
   "cell_type": "markdown",
   "metadata": {},
   "source": [
    "* 첫째 줄에 N과 M이 주어진다. N과 M은 50보다 작거나 같은 자연수이다. 둘째 줄부터 N개의 줄에 수가 주어진다."
   ]
  },
  {
   "attachments": {},
   "cell_type": "markdown",
   "metadata": {},
   "source": [
    "## 출력"
   ]
  },
  {
   "cell_type": "markdown",
   "metadata": {},
   "source": [
    "* 첫째 줄에 정답 정사각형의 크기를 출력한다."
   ]
  },
  {
   "attachments": {},
   "cell_type": "markdown",
   "metadata": {},
   "source": [
    "## Code"
   ]
  },
  {
   "cell_type": "code",
   "execution_count": 1,
   "metadata": {},
   "outputs": [],
   "source": [
    "# 1051_숫자 정사각형\n",
    "import sys\n",
    "\n",
    "submit = False\n",
    "input = sys.stdin.readline if submit else input\n",
    "\n",
    "def get_max_area(graph, width):\n",
    "    max_length = -1\n",
    "    for i in range(1, width):\n",
    "        for j in range(len(graph)-i):\n",
    "            for k in range(len(graph[0])-i):\n",
    "                if (graph[j][k] == graph[j][k + i] == graph[j + i][k] == graph[j + i][k + i]):\n",
    "                    if max_length < i:\n",
    "                        max_length = i\n",
    "    return 1 if max_length == -1 else ((max_length+1)**2)\n",
    "\n",
    "def solution():\n",
    "    N, M = map(int, input().split())\n",
    "    graph = [[int(i) for i in input().rstrip()] for _ in range(N)]\n",
    "    width = min(N, M)\n",
    "    print(get_max_area(graph, width))"
   ]
  },
  {
   "cell_type": "code",
   "execution_count": 2,
   "metadata": {},
   "outputs": [
    {
     "name": "stdout",
     "output_type": "stream",
     "text": [
      "9\n"
     ]
    }
   ],
   "source": [
    "solution()"
   ]
  },
  {
   "cell_type": "code",
   "execution_count": 3,
   "metadata": {},
   "outputs": [
    {
     "name": "stdout",
     "output_type": "stream",
     "text": [
      "1\n"
     ]
    }
   ],
   "source": [
    "solution()"
   ]
  },
  {
   "cell_type": "code",
   "execution_count": 4,
   "metadata": {},
   "outputs": [
    {
     "name": "stdout",
     "output_type": "stream",
     "text": [
      "4\n"
     ]
    }
   ],
   "source": [
    "solution()"
   ]
  },
  {
   "cell_type": "code",
   "execution_count": 5,
   "metadata": {},
   "outputs": [
    {
     "name": "stdout",
     "output_type": "stream",
     "text": [
      "1\n"
     ]
    }
   ],
   "source": [
    "solution()"
   ]
  },
  {
   "cell_type": "code",
   "execution_count": 7,
   "metadata": {},
   "outputs": [
    {
     "name": "stdout",
     "output_type": "stream",
     "text": [
      "49\n"
     ]
    }
   ],
   "source": [
    "solution()"
   ]
  },
  {
   "attachments": {},
   "cell_type": "markdown",
   "metadata": {},
   "source": [
    "## Note"
   ]
  },
  {
   "cell_type": "markdown",
   "metadata": {},
   "source": [
    "* 1. NxM 크기의 직사각형을 입력받아 2차원 List로 형태를 변환한다\n",
    "    * ex. [[4, 2, 1, 0, 1], [2, 2, 1, 0, 0], [2, 2, 1, 0, 1]]\n",
    "* 2. 가장 큰 정사각형을 찾아야 하므로 정사각형의 한 변의 길이는 N, M 중 작은 값이 된다.\n",
    "    * 다만, 처음 값을 포함해야 하므로 사용되는 길이는 (한 변의 길이 -1)이 된다.\n",
    "    * ex. 길이는 2이지만 index로는 +1을 해서 찾는 경우\n",
    "    * 4 2\n",
    "    * 2 2\n",
    "* 3. 3중 for문과 indexing을 사용하여 가능한 길이 모든 길이의 정사각형 중 꼭지점에 해당하는 값이 똑같은 정사각형을 찾고 그 최대값을 찾는다.\n",
    "    * range 값을 각각 N-i, M-i로 두면 out of range 없이 모든 직사각형을 정사각형으로 탐색 할 수 있다.\n",
    "    * 길이가 2일 때, i == 1 [4, 2, 2, 2], [2, 1, 2, 1] ... [0, 0, 0, 1]\n",
    "    * 길이가 3일 때, i == 2 [4, 1, 2, 1], [2, 0, 2, 0] ... [1, 1, 1, 1]\n",
    "* 4. 정사각형의 넒이를 구해야 하므로 (최대값+1)의 제곱 값을 출력한다\n",
    "    * 다만, 하나의 숫자로만 조건이 충족하는 경우에는 (ex. [[1, 2]]) 1을 출력해야 하므로 최대값이 기본 값인 -1인 경우 1를 출력한다."
   ]
  },
  {
   "cell_type": "markdown",
   "metadata": {},
   "source": [
    "https://www.acmicpc.net/problem/1051"
   ]
  }
 ],
 "metadata": {
  "kernelspec": {
   "display_name": "ws1",
   "language": "python",
   "name": "python3"
  },
  "language_info": {
   "codemirror_mode": {
    "name": "ipython",
    "version": 3
   },
   "file_extension": ".py",
   "mimetype": "text/x-python",
   "name": "python",
   "nbconvert_exporter": "python",
   "pygments_lexer": "ipython3",
   "version": "3.11.5"
  },
  "orig_nbformat": 4,
  "vscode": {
   "interpreter": {
    "hash": "2856db72fb1e77597a3b14e9c1bb4d2315d342edc16fc9e25c6c6e499688b933"
   }
  }
 },
 "nbformat": 4,
 "nbformat_minor": 2
}
