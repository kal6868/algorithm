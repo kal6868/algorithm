{
 "cells": [
  {
   "attachments": {},
   "cell_type": "markdown",
   "metadata": {},
   "source": [
    "# 단어 나누기"
   ]
  },
  {
   "attachments": {},
   "cell_type": "markdown",
   "metadata": {},
   "source": [
    "## 문제"
   ]
  },
  {
   "attachments": {},
   "cell_type": "markdown",
   "metadata": {},
   "source": [
    "* 알파벳 소문자로 이루어진 단어를 가지고 아래와 같은 과정을 해 보려고 한다."
   ]
  },
  {
   "cell_type": "markdown",
   "metadata": {},
   "source": [
    "* 먼저 단어에서 임의의 두 부분을 골라서 단어를 쪼갠다. 즉, 주어진 단어를 세 개의 더 작은 단어로 나누는 것이다. 각각은 적어도 길이가 1 이상인 단어여야 한다. 이제 이렇게 나눈 세 개의 작은 단어들을 앞뒤를 뒤집고, 이를 다시 원래의 순서대로 합친다."
   ]
  },
  {
   "cell_type": "markdown",
   "metadata": {},
   "source": [
    "* 예를 들어,\n",
    "    * 단어 : arrested\n",
    "    * 세 단어로 나누기 : ar / rest / ed\n",
    "    * 각각 뒤집기 : ra / tser / de\n",
    "    * 합치기 : ratserde"
   ]
  },
  {
   "cell_type": "markdown",
   "metadata": {},
   "source": [
    "* 단어가 주어지면, 이렇게 만들 수 있는 단어 중에서 사전순으로 가장 앞서는 단어를 출력하는 프로그램을 작성하시오."
   ]
  },
  {
   "attachments": {},
   "cell_type": "markdown",
   "metadata": {},
   "source": [
    "## 입력"
   ]
  },
  {
   "attachments": {},
   "cell_type": "markdown",
   "metadata": {},
   "source": [
    "* 첫째 줄에 영어 소문자로 된 단어가 주어진다. 길이는 3 이상 50 이하이다."
   ]
  },
  {
   "attachments": {},
   "cell_type": "markdown",
   "metadata": {},
   "source": [
    "## 출력"
   ]
  },
  {
   "cell_type": "markdown",
   "metadata": {},
   "source": [
    "* 첫째 줄에 구하고자 하는 단어를 출력하면 된다."
   ]
  },
  {
   "attachments": {},
   "cell_type": "markdown",
   "metadata": {},
   "source": [
    "## Code"
   ]
  },
  {
   "cell_type": "code",
   "execution_count": 2,
   "metadata": {},
   "outputs": [],
   "source": [
    "#1251번_단어 나누기(구현)\n",
    "import sys\n",
    "\n",
    "def solution():\n",
    "    word = input()\n",
    "    # word = sys.stdin.readline().strip()\n",
    "    word_len = len(word)\n",
    "    answer = \"z\"*word_len\n",
    "    result = []\n",
    "    for i in range(1, word_len-1):\n",
    "        for j in range(i+1, word_len):\n",
    "            # prefix, base_word, suffix = word[:i:-1], word[i:j:-1], word[j::-1]\n",
    "            prefix, base_word, suffix = word[:i][::-1], word[i:j][::-1], word[j::][::-1]\n",
    "            new_string = prefix + base_word + suffix\n",
    "            answer = min(answer, new_string)\n",
    "    print(answer)"
   ]
  },
  {
   "cell_type": "code",
   "execution_count": 3,
   "metadata": {},
   "outputs": [
    {
     "name": "stdout",
     "output_type": "stream",
     "text": [
      "bometil\n"
     ]
    }
   ],
   "source": [
    "solution()"
   ]
  },
  {
   "attachments": {},
   "cell_type": "markdown",
   "metadata": {},
   "source": [
    "## 예제입력"
   ]
  },
  {
   "attachments": {},
   "cell_type": "markdown",
   "metadata": {},
   "source": [
    "## Note"
   ]
  },
  {
   "cell_type": "markdown",
   "metadata": {},
   "source": [
    "* 이중 for문을 사용하여 단어를 나눌 기준 index들을 구할 수 있다.\n",
    "    * [:1], [1:2], [2:]: m, o, tibel | [:1], [1:3], [3:]: m, ot, ibel | [:1], [1:4], [4:]: m, oti, bel\n",
    "    * *index에서 end에 포함하는 숫자의 index는 포함하지 않는다.  \n",
    "* 알파벳의 개수만큼 z를 채운 것이 순서 상 가장 늦은 단어이므로 이를 임의로 생성하고(answer), 분리 후 뒤집어서 합친 단어랑 비교하여(min) 더 빠른 순서의 단어로 갱신한다\n",
    "    * 최소값을 갱신할 때 최초값으로 가장 큰수(ex. float(\"inf\"))를 생성하는 것과 동일한 논리"
   ]
  },
  {
   "attachments": {},
   "cell_type": "markdown",
   "metadata": {},
   "source": [
    "https://www.acmicpc.net/problem/1251"
   ]
  }
 ],
 "metadata": {
  "kernelspec": {
   "display_name": "ws1",
   "language": "python",
   "name": "python3"
  },
  "language_info": {
   "codemirror_mode": {
    "name": "ipython",
    "version": 3
   },
   "file_extension": ".py",
   "mimetype": "text/x-python",
   "name": "python",
   "nbconvert_exporter": "python",
   "pygments_lexer": "ipython3",
   "version": "3.11.5"
  },
  "orig_nbformat": 4,
  "vscode": {
   "interpreter": {
    "hash": "2856db72fb1e77597a3b14e9c1bb4d2315d342edc16fc9e25c6c6e499688b933"
   }
  }
 },
 "nbformat": 4,
 "nbformat_minor": 2
}
