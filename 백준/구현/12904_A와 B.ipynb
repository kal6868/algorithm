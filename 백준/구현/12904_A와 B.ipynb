{
 "cells": [
  {
   "attachments": {},
   "cell_type": "markdown",
   "metadata": {},
   "source": [
    "# A와 B"
   ]
  },
  {
   "attachments": {},
   "cell_type": "markdown",
   "metadata": {},
   "source": [
    "## 문제"
   ]
  },
  {
   "cell_type": "markdown",
   "metadata": {},
   "source": [
    "* 수빈이는 A와 B로만 이루어진 영어 단어가 존재한다는 사실에 놀랐다. 대표적인 예로 AB (Abdominal의 약자), BAA (양의 울음 소리), AA (용암의 종류), ABBA (스웨덴 팝 그룹)이 있다."
   ]
  },
  {
   "cell_type": "markdown",
   "metadata": {},
   "source": [
    "* 이런 사실에 놀란 수빈이는 간단한 게임을 만들기로 했다. 두 문자열 S와 T가 주어졌을 때, S를 T로 바꾸는 게임이다. 문자열을 바꿀 때는 다음과 같은 두 가지 연산만 가능하다.\n",
    "\n",
    "    * 문자열의 뒤에 A를 추가한다.\n",
    "    * 문자열을 뒤집고 뒤에 B를 추가한다.\n",
    "* 주어진 조건을 이용해서 S를 T로 만들 수 있는지 없는지 알아내는 프로그램을 작성하시오. "
   ]
  },
  {
   "attachments": {},
   "cell_type": "markdown",
   "metadata": {},
   "source": [
    "## 입력"
   ]
  },
  {
   "cell_type": "markdown",
   "metadata": {},
   "source": [
    "* 첫째 줄에 S가 둘째 줄에 T가 주어진다. (1 ≤ S의 길이 ≤ 999, 2 ≤ T의 길이 ≤ 1000, S의 길이 < T의 길이)"
   ]
  },
  {
   "attachments": {},
   "cell_type": "markdown",
   "metadata": {},
   "source": [
    "## 출력"
   ]
  },
  {
   "cell_type": "markdown",
   "metadata": {},
   "source": [
    "* S를 T로 바꿀 수 있으면 1을 없으면 0을 출력한다."
   ]
  },
  {
   "attachments": {},
   "cell_type": "markdown",
   "metadata": {},
   "source": [
    "## Code"
   ]
  },
  {
   "cell_type": "code",
   "execution_count": 1,
   "metadata": {},
   "outputs": [],
   "source": [
    "# 12904번 A와 B\n",
    "import sys\n",
    "\n",
    "def solution():\n",
    "    S, T = list(input()), list(input())\n",
    "    # S, T = list(sys.stdin.readline().rstrip()), list(sys.stdin.readline().rstrip())\n",
    "\n",
    "    while len(S) != len(T):\n",
    "        if T[-1] == 'A':\n",
    "            T.pop()\n",
    "        elif T[-1] == 'B':\n",
    "            T.pop()\n",
    "            T = T[::-1]\n",
    "    print(1 if S == T else 0)"
   ]
  },
  {
   "cell_type": "code",
   "execution_count": 2,
   "metadata": {},
   "outputs": [
    {
     "name": "stdout",
     "output_type": "stream",
     "text": [
      "1\n"
     ]
    }
   ],
   "source": [
    "solution()"
   ]
  },
  {
   "cell_type": "code",
   "execution_count": 3,
   "metadata": {},
   "outputs": [
    {
     "name": "stdout",
     "output_type": "stream",
     "text": [
      "0\n"
     ]
    }
   ],
   "source": [
    "solution()"
   ]
  },
  {
   "attachments": {},
   "cell_type": "markdown",
   "metadata": {},
   "source": [
    "## Note"
   ]
  },
  {
   "cell_type": "markdown",
   "metadata": {},
   "source": [
    "* 1. A->B(숫자) 문제와는 달리 S에서 T로 가는 모든 경우의 수를 만들면 메모리 초과가 발생한다.\n",
    "* 2. 따라서, 거꾸로 T->S를 만들 수 있는지를 확인해 보면 된다.\n",
    "    * 1\\) 기존 연산이 [1. 문자열의 뒤에 A를 추가한다., 2. 문자열을 뒤집고 뒤에 B를 추가한다.] 이므로 이를 거꾸로 뒤집는다.\n",
    "    * 2\\) [1. 문자열의 맨 끝이 A면 맨 끝 A를 제거한다., 2. 문자열의 끝이 B면 B를 제거하고 문자열을 뒤집는다.]\n",
    "    * 3\\) T에 해당 연산을 S와 글자수가 같을때 까지 적용해본다.\n",
    "        *#* S에서 시작해서 T를 만들 수 있는 문자인지 확인하는 작업이기 때문이다.\n",
    "* 3. T에서 S를 만들수 있으면 1를 출력하고 아니면 0을 출력한다"
   ]
  },
  {
   "attachments": {},
   "cell_type": "markdown",
   "metadata": {},
   "source": [
    "https://www.acmicpc.net/problem/12904"
   ]
  }
 ],
 "metadata": {
  "kernelspec": {
   "display_name": "ws1",
   "language": "python",
   "name": "python3"
  },
  "language_info": {
   "codemirror_mode": {
    "name": "ipython",
    "version": 3
   },
   "file_extension": ".py",
   "mimetype": "text/x-python",
   "name": "python",
   "nbconvert_exporter": "python",
   "pygments_lexer": "ipython3",
   "version": "3.11.5"
  },
  "orig_nbformat": 4,
  "vscode": {
   "interpreter": {
    "hash": "2856db72fb1e77597a3b14e9c1bb4d2315d342edc16fc9e25c6c6e499688b933"
   }
  }
 },
 "nbformat": 4,
 "nbformat_minor": 2
}
