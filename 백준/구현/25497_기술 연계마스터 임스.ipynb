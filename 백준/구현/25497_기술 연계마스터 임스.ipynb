{
 "cells": [
  {
   "attachments": {},
   "cell_type": "markdown",
   "metadata": {},
   "source": [
    "# 기술 연계마스터 임스"
   ]
  },
  {
   "attachments": {},
   "cell_type": "markdown",
   "metadata": {},
   "source": [
    "## 문제"
   ]
  },
  {
   "attachments": {},
   "cell_type": "markdown",
   "metadata": {},
   "source": [
    "* 임스는 연계 기술을 사용하는 게임을 플레이 중에 있다. 연계 기술은 사전 기술과 본 기술의 두 개의 개별 기술을 순서대로 사용해야만 정상적으로 사용 가능한 기술을 말한다."
   ]
  },
  {
   "attachments": {},
   "cell_type": "markdown",
   "metadata": {},
   "source": [
    "* 하나의 사전 기술은 하나의 본 기술과만 연계해서 사용할 수 있으며, 연계할 사전 기술 없이 본 기술을 사용했을 경우에는 게임의 스크립트가 꼬여서 이후 사용하는 기술들이 정상적으로 발동되지 않는다. 그렇지만 반드시 사전 기술을 사용한 직후에 본 기술을 사용할 필요는 없으며, 중간에 다른 기술을 사용하여도 연계는 정상적으로 이루어진다."
   ]
  },
  {
   "attachments": {},
   "cell_type": "markdown",
   "metadata": {},
   "source": [
    "* 임스가 사용할 수 있는 기술에는 \n",
    "$1$~\n",
    "$9$, \n",
    "$L$, \n",
    "$R$, \n",
    "$S$, \n",
    "$K$가 있다. \n",
    "$1$~\n",
    "$9$는 연계 없이 사용할 수 있는 기술이고, \n",
    "$L$은 \n",
    "$R$의 사전 기술, \n",
    "$S$은 \n",
    "$K$의 사전 기술이다."
   ]
  },
  {
   "attachments": {},
   "cell_type": "markdown",
   "metadata": {},
   "source": [
    "* 임스가 정해진 순서대로 \n",
    "$N$개의 기술을 사용할 때, 기술이 몇 번이나 정상적으로 발동하는지를 구해보자."
   ]
  },
  {
   "cell_type": "markdown",
   "metadata": {},
   "source": [
    "* 단, 연계 기술은 사전 기술과 본 기술 모두 정상적으로 발동되었을 때만 하나의 기술이 발동된 것으로 친다."
   ]
  },
  {
   "attachments": {},
   "cell_type": "markdown",
   "metadata": {},
   "source": [
    "## 입력"
   ]
  },
  {
   "attachments": {},
   "cell_type": "markdown",
   "metadata": {},
   "source": [
    "* 첫 번째 줄에는 총 기술 사용 횟수 \n",
    "$N$이 주어진다. (\n",
    "$1 \\le N \\le 200\\,000$)"
   ]
  },
  {
   "attachments": {},
   "cell_type": "markdown",
   "metadata": {},
   "source": [
    "* 두 번째 줄에는 임스가 사용할 \n",
    "$N$개의 기술이 공백 없이 주어진다."
   ]
  },
  {
   "attachments": {},
   "cell_type": "markdown",
   "metadata": {},
   "source": [
    "## 출력"
   ]
  },
  {
   "attachments": {},
   "cell_type": "markdown",
   "metadata": {},
   "source": [
    "* 임스가 정상적으로 기술을 사용한 총 횟수를 출력한다."
   ]
  },
  {
   "attachments": {},
   "cell_type": "markdown",
   "metadata": {},
   "source": [
    "## Code"
   ]
  },
  {
   "cell_type": "code",
   "execution_count": 1,
   "metadata": {},
   "outputs": [],
   "source": [
    "# 25497_기술 연계마스터 임스\n",
    "import sys\n",
    "from collections import deque\n",
    "def solution():\n",
    "    N = int(input())\n",
    "    # N = int(sys.stdin.readline())\n",
    "    skills = deque(list(input()))\n",
    "    # skills = deque(list(sys.stdin.readline().split()))\n",
    "    stack_1 = deque()\n",
    "    stack_2 = deque()\n",
    "    answer = 0\n",
    "\n",
    "    while skills:\n",
    "        skill = skills.popleft()\n",
    "        if skill.isdigit():\n",
    "            answer +=1\n",
    "        elif skill == \"L\":\n",
    "            stack_1.append(skill) \n",
    "\n",
    "        elif skill == \"S\":\n",
    "            stack_2.append(skill)\n",
    "\n",
    "        elif skill == \"R\":\n",
    "            if not stack_1:\n",
    "                break\n",
    "            else:\n",
    "                privious_skill = stack_1.pop()\n",
    "                if privious_skill == \"L\":\n",
    "                    answer +=1\n",
    "                else:\n",
    "                    break\n",
    "\n",
    "        elif skill == \"K\":\n",
    "            if not stack_2:\n",
    "                break\n",
    "            else:\n",
    "                privious_skill = stack_2.pop()\n",
    "                if privious_skill == \"S\":\n",
    "                    answer +=1\n",
    "                else:\n",
    "                    break\n",
    "    print(answer)    "
   ]
  },
  {
   "attachments": {},
   "cell_type": "markdown",
   "metadata": {},
   "source": [
    "## 예제입력 - 출력"
   ]
  },
  {
   "cell_type": "code",
   "execution_count": 2,
   "metadata": {},
   "outputs": [
    {
     "name": "stdout",
     "output_type": "stream",
     "text": [
      "4\n"
     ]
    }
   ],
   "source": [
    "solution()"
   ]
  },
  {
   "cell_type": "code",
   "execution_count": 3,
   "metadata": {},
   "outputs": [
    {
     "name": "stdout",
     "output_type": "stream",
     "text": [
      "1\n"
     ]
    }
   ],
   "source": [
    "solution()"
   ]
  },
  {
   "cell_type": "code",
   "execution_count": 4,
   "metadata": {},
   "outputs": [
    {
     "name": "stdout",
     "output_type": "stream",
     "text": [
      "2\n"
     ]
    }
   ],
   "source": [
    "solution()"
   ]
  },
  {
   "attachments": {},
   "cell_type": "markdown",
   "metadata": {},
   "source": [
    "## Note"
   ]
  },
  {
   "attachments": {},
   "cell_type": "markdown",
   "metadata": {},
   "source": [
    "* 숫자는 단독 기술이므로 isdigit()을 사용해서 숫자가 나올 경우는 answer에 1을 더해준다\n",
    "* 선행 기술인 L,S가 나타나면 각자의 stack(stack1, stack2)에 각각 담아준다\n",
    "* R이 나타난 경우 stack에 이전 스킬이 없으면 더 이상 기술 횟수 세는 것을 멈춘다. 다만 stack에 이전 기술인 L이 있으면 answer에 1을 더해준다\n",
    "* K가 나타난 경우도 동일한 방식으로 진행한다."
   ]
  },
  {
   "attachments": {},
   "cell_type": "markdown",
   "metadata": {},
   "source": [
    "https://www.acmicpc.net/problem/25192"
   ]
  }
 ],
 "metadata": {
  "kernelspec": {
   "display_name": "ws1",
   "language": "python",
   "name": "python3"
  },
  "language_info": {
   "codemirror_mode": {
    "name": "ipython",
    "version": 3
   },
   "file_extension": ".py",
   "mimetype": "text/x-python",
   "name": "python",
   "nbconvert_exporter": "python",
   "pygments_lexer": "ipython3",
   "version": "3.9.13"
  },
  "orig_nbformat": 4,
  "vscode": {
   "interpreter": {
    "hash": "2856db72fb1e77597a3b14e9c1bb4d2315d342edc16fc9e25c6c6e499688b933"
   }
  }
 },
 "nbformat": 4,
 "nbformat_minor": 2
}
