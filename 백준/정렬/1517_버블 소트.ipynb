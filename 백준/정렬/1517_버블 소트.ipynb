{
 "cells": [
  {
   "attachments": {},
   "cell_type": "markdown",
   "metadata": {},
   "source": [
    "# 버블 소트"
   ]
  },
  {
   "attachments": {},
   "cell_type": "markdown",
   "metadata": {},
   "source": [
    "## 문제"
   ]
  },
  {
   "attachments": {},
   "cell_type": "markdown",
   "metadata": {},
   "source": [
    "* N개의 수로 이루어진 수열 A[1], A[2], …, A[N]이 있다. 이 수열에 대해서 버블 소트를 수행할 때, Swap이 총 몇 번 발생하는지 알아내는 프로그램을 작성하시오."
   ]
  },
  {
   "cell_type": "markdown",
   "metadata": {},
   "source": [
    "* 버블 소트는 서로 인접해 있는 두 수를 바꿔가며 정렬하는 방법이다. 예를 들어 수열이 3 2 1 이었다고 하자. 이 경우에는 인접해 있는 3, 2가 바뀌어야 하므로 2 3 1 이 된다. 다음으로는 3, 1이 바뀌어야 하므로 2 1 3 이 된다. 다음에는 2, 1이 바뀌어야 하므로 1 2 3 이 된다. 그러면 더 이상 바꿔야 할 경우가 없으므로 정렬이 완료된다."
   ]
  },
  {
   "attachments": {},
   "cell_type": "markdown",
   "metadata": {},
   "source": [
    "## 입력"
   ]
  },
  {
   "attachments": {},
   "cell_type": "markdown",
   "metadata": {},
   "source": [
    "* 첫째 줄에 N(1 ≤ N ≤ 500,000)이 주어진다. 다음 줄에는 N개의 정수로 A[1], A[2], …, A[N]이 주어진다. 각각의 A[i]는 0 ≤ |A[i]| ≤ 1,000,000,000의 범위에 들어있다."
   ]
  },
  {
   "attachments": {},
   "cell_type": "markdown",
   "metadata": {},
   "source": [
    "## 출력"
   ]
  },
  {
   "attachments": {},
   "cell_type": "markdown",
   "metadata": {},
   "source": [
    "* 첫째 줄에 Swap 횟수를 출력한다"
   ]
  },
  {
   "attachments": {},
   "cell_type": "markdown",
   "metadata": {},
   "source": [
    "## Code"
   ]
  },
  {
   "cell_type": "code",
   "execution_count": 1,
   "metadata": {},
   "outputs": [],
   "source": [
    "# 1517_버블 소트(시간 초과 풀이)\n",
    "import sys\n",
    "# N = int(input())\n",
    "# numbers = list(map(int, input().split()))\n",
    "\n",
    "N = int(sys.stdin.readline())\n",
    "numbers = list(map(int, sys.stdin.readline().split()))\n",
    "\n",
    "swap_count = 0\n",
    "sort_process_done = False\n",
    "\n",
    "def sorted_check(numbers):\n",
    "    for i in range(len(numbers)-1):\n",
    "        if numbers[i] > numbers[i+1]:\n",
    "            return False\n",
    "    return True\n",
    "\n",
    "while not sort_process_done:\n",
    "    for i in range(len(numbers)-1):\n",
    "        if numbers[i] > numbers[i+1]:\n",
    "            temp = numbers[i]\n",
    "            numbers[i], numbers[i+1] = numbers[i+1], temp\n",
    "            swap_count += 1\n",
    "\n",
    "    if sorted_check(numbers):\n",
    "        sort_process_done = True\n",
    "print(swap_count)"
   ]
  },
  {
   "cell_type": "code",
   "execution_count": 2,
   "metadata": {},
   "outputs": [],
   "source": [
    "# 1517_버블 소트(병합 정렬)\n",
    "import sys\n",
    "# input = sys.stdin.readline\n",
    "\n",
    "def merge_sort(start, end):\n",
    "    global answer, arr\n",
    "    if start < end:\n",
    "        mid = (start + end) // 2\n",
    "        merge_sort(start, mid)\n",
    "        merge_sort(mid + 1, end)\n",
    "        temp = []\n",
    "        x, y = start, mid + 1\n",
    "\n",
    "        while x <= mid and y <= end:\n",
    "            if arr[x] <= arr[y]:\n",
    "                temp.append(arr[x])\n",
    "                x += 1\n",
    "            else:\n",
    "                temp.append(arr[y])\n",
    "                y += 1\n",
    "                answer += (mid - x) + 1\n",
    "\n",
    "        if x <= mid:\n",
    "            temp = temp + arr[x:mid + 1]\n",
    "        \n",
    "        if y <= end:\n",
    "            temp = temp + arr[y:end + 1]\n",
    "        \n",
    "        for i in range(len(temp)):\n",
    "            arr[start + i] = temp[i]\n",
    "\n",
    "def solution():\n",
    "    global answer, arr\n",
    "    n = int(input())\n",
    "    arr = list(map(int, input().split()))\n",
    "    answer = 0\n",
    "    merge_sort(0, n-1)\n",
    "    print(answer)"
   ]
  },
  {
   "attachments": {},
   "cell_type": "markdown",
   "metadata": {},
   "source": [
    "## 예제입력"
   ]
  },
  {
   "cell_type": "code",
   "execution_count": 3,
   "metadata": {},
   "outputs": [
    {
     "name": "stdout",
     "output_type": "stream",
     "text": [
      "3\n"
     ]
    }
   ],
   "source": [
    "solution()"
   ]
  },
  {
   "attachments": {},
   "cell_type": "markdown",
   "metadata": {},
   "source": [
    "## Note"
   ]
  },
  {
   "cell_type": "markdown",
   "metadata": {},
   "source": [
    "* 1. for문을 이용하여 현재 index의 원소가 다음 index의 원소보다 크면 서로 자리를 바꿔준다(swap)\n",
    "    * temp라는 변수에 현재 index의 원소를 할당한 뒤 현재 index에 다음 index의 원소를 할당하고 다음 index에 현재 index의 원소(temp)를 할당한다.\n",
    "* 2. sorted_check라는 정렬이 완료되었는지 체크하는 함수를 만들어서 정렬이 완료되었으면 while문을 멈추게 한다.\n",
    "    * 현재 index와 다음 index와 비교하는 작업을 진행하여 현재 index가 더 크면 False를 for문이 완료될 때까지 다음 index보다 큰 값이 없으면 True를 반환한다.\n",
    "    \n",
    "* 시간초과\n"
   ]
  },
  {
   "cell_type": "markdown",
   "metadata": {},
   "source": [
    "* 1. 재귀함수를 통해 입력 받은 수열을 mid 인덱스를 통해서 2개의 숫자로 나눌 때 까지 수열을 나눈다.\n",
    "    * n = 4, [1, 3, 2, 4] -> [1, 3], [2, 4]\n",
    "    * n = 6, [1, 4, 2, 6, 5, 8] -> [1, 4, 2], [6, 5, 8] -> [1, 4], [2], [6, 5], [8]\n",
    "    * n = 7, [1, 4, 2, 6, 5, 8, 7] -> [1, 4, 2, 6], [5, 8, 7] -> [1, 4], [2, 6], [5, 8], [7] \n",
    "* 2. 2개로 나눠진 수열을 비교 후 정렬한다.\n",
    "    * x, y를 start와 mid+1로 할당하는 이유는 수열을 반으로 나눴을때, 앞의 수열의 처음 index와 뒤의 수열의 처음 index를 할당하기 위함이다.\n",
    "    * 수열에 2개의 원소만 있을 때는 앞의 수와 뒤의 수를 비교하여 더 작은 수를 찾고 temp에 저장하고 해당 수열의 index에 1을 추가한다.\n",
    "    * 다만, 수열에 2개의 원소만 있는 단계에서는 index가 하나밖에 없으므로 1을 더하면 x <= mid and y <= end 조건에 의해서 while 문이 종료된다.\n",
    "    * (mid - x) + 1은 두 수열의 중간 위치가 mid이므로 mid에서 해당 위치(x)까지 가기 위해서 swap을 몇번 해야 될지를 계산하는 수식이다.\n",
    "        * [2, 3, 4], [1, 5]에서 1이 맨 앞으로 가려면 2(mid) - 0(x) + 1로 총 3번 swap을 해야 가능하다.\n",
    "    * 정렬이 완료되었으면 index를 통해 기존 수열인 arr에서 부분적으로 정렬된 수열의 위치를 업데이트 한다.\n",
    "* 3. 재귀 함수를 통해 나누어진 수열들이 부분적으로 정렬 되었으면 가장 크게 2 부분으로 나눈 수열을 다시 정렬한다.\n",
    "    * mid와 end는 각각 수열의 마지막 index이고 start와 mid+1은 각 수열의 첫번째 index가 된다.\n",
    "    * [1, 3], [2, 4]의 예시에서 1, 2를 먼저 비교하고 1을 temp에 넣은 뒤 앞 수열의 index인 x에 1을 더한다.\n",
    "    * 그 다음 3, 2를 비교하고 2을 temp에 넣은 뒤 뒷 수열의 index인 y에 다시 1을 더한다.\n",
    "    * 다시 3, 4를 비교하고 3을 temp에 넣고 x에 1를 더한다.\n",
    "    * x가 2로 mid((0+3)//2 == 1) 값을 넘어 버렸으므로 temp에는 [1, 2, 3]이 남고 y가 3으로 end인 3과 작거나 같으므로 arr에서 [3:4]에 해당하는 숫자를 temp에 더한다.\n",
    "* 4. 정렬된 temp로 arr을 업데이트하여 정렬을 하고, 재귀 함수가 실행되면서 계산된 answer을 통해 swap한 횟수를 반환한다."
   ]
  },
  {
   "attachments": {},
   "cell_type": "markdown",
   "metadata": {},
   "source": [
    "https://www.acmicpc.net/problem/1517"
   ]
  }
 ],
 "metadata": {
  "kernelspec": {
   "display_name": "ws1",
   "language": "python",
   "name": "python3"
  },
  "language_info": {
   "codemirror_mode": {
    "name": "ipython",
    "version": 3
   },
   "file_extension": ".py",
   "mimetype": "text/x-python",
   "name": "python",
   "nbconvert_exporter": "python",
   "pygments_lexer": "ipython3",
   "version": "3.11.3"
  },
  "orig_nbformat": 4,
  "vscode": {
   "interpreter": {
    "hash": "2856db72fb1e77597a3b14e9c1bb4d2315d342edc16fc9e25c6c6e499688b933"
   }
  }
 },
 "nbformat": 4,
 "nbformat_minor": 2
}
