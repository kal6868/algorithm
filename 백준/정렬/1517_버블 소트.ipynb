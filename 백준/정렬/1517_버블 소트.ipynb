{
 "cells": [
  {
   "attachments": {},
   "cell_type": "markdown",
   "metadata": {},
   "source": [
    "# 버블 소트"
   ]
  },
  {
   "attachments": {},
   "cell_type": "markdown",
   "metadata": {},
   "source": [
    "## 문제"
   ]
  },
  {
   "attachments": {},
   "cell_type": "markdown",
   "metadata": {},
   "source": [
    "* N개의 수로 이루어진 수열 A[1], A[2], …, A[N]이 있다. 이 수열에 대해서 버블 소트를 수행할 때, Swap이 총 몇 번 발생하는지 알아내는 프로그램을 작성하시오."
   ]
  },
  {
   "cell_type": "markdown",
   "metadata": {},
   "source": [
    "* 버블 소트는 서로 인접해 있는 두 수를 바꿔가며 정렬하는 방법이다. 예를 들어 수열이 3 2 1 이었다고 하자. 이 경우에는 인접해 있는 3, 2가 바뀌어야 하므로 2 3 1 이 된다. 다음으로는 3, 1이 바뀌어야 하므로 2 1 3 이 된다. 다음에는 2, 1이 바뀌어야 하므로 1 2 3 이 된다. 그러면 더 이상 바꿔야 할 경우가 없으므로 정렬이 완료된다."
   ]
  },
  {
   "attachments": {},
   "cell_type": "markdown",
   "metadata": {},
   "source": [
    "## 입력"
   ]
  },
  {
   "attachments": {},
   "cell_type": "markdown",
   "metadata": {},
   "source": [
    "* 첫째 줄에 N(1 ≤ N ≤ 500,000)이 주어진다. 다음 줄에는 N개의 정수로 A[1], A[2], …, A[N]이 주어진다. 각각의 A[i]는 0 ≤ |A[i]| ≤ 1,000,000,000의 범위에 들어있다."
   ]
  },
  {
   "attachments": {},
   "cell_type": "markdown",
   "metadata": {},
   "source": [
    "## 출력"
   ]
  },
  {
   "attachments": {},
   "cell_type": "markdown",
   "metadata": {},
   "source": [
    "* 첫째 줄에 Swap 횟수를 출력한다"
   ]
  },
  {
   "attachments": {},
   "cell_type": "markdown",
   "metadata": {},
   "source": [
    "## Code"
   ]
  },
  {
   "cell_type": "code",
   "execution_count": 1,
   "metadata": {},
   "outputs": [],
   "source": [
    "# 1517_버블 소트(시간 초과 풀이)\n",
    "import sys\n",
    "# N = int(input())\n",
    "# numbers = list(map(int, input().split()))\n",
    "\n",
    "N = int(sys.stdin.readline())\n",
    "numbers = list(map(int, sys.stdin.readline().split()))\n",
    "\n",
    "swap_count = 0\n",
    "sort_process_done = False\n",
    "\n",
    "def sorted_check(numbers):\n",
    "    for i in range(len(numbers)-1):\n",
    "        if numbers[i] > numbers[i+1]:\n",
    "            return False\n",
    "    return True\n",
    "\n",
    "while not sort_process_done:\n",
    "    for i in range(len(numbers)-1):\n",
    "        if numbers[i] > numbers[i+1]:\n",
    "            temp = numbers[i]\n",
    "            numbers[i], numbers[i+1] = numbers[i+1], temp\n",
    "            swap_count += 1\n",
    "\n",
    "    if sorted_check(numbers):\n",
    "        sort_process_done = True\n",
    "print(swap_count)"
   ]
  },
  {
   "cell_type": "code",
   "execution_count": 2,
   "metadata": {},
   "outputs": [],
   "source": [
    "# 1517_버블 소트(병합 정렬)\n",
    "import sys\n",
    "# input = sys.stdin.readline\n",
    "\n",
    "def merge_sort(start, end):\n",
    "    global answer, arr\n",
    "    if start < end:\n",
    "        mid = (start + end) // 2\n",
    "        merge_sort(start, mid)\n",
    "        merge_sort(mid + 1, end)\n",
    "        temp = []\n",
    "        x, y = start, mid + 1\n",
    "\n",
    "        while x <= mid and y <= end:\n",
    "            if arr[x] <= arr[y]:\n",
    "                temp.append(arr[x])\n",
    "                x += 1\n",
    "            else:\n",
    "                temp.append(arr[y])\n",
    "                y += 1\n",
    "                answer += (mid - x) + 1\n",
    "\n",
    "        if x <= mid:\n",
    "            temp = temp + arr[x:mid + 1]\n",
    "        \n",
    "        if y <= end:\n",
    "            temp = temp + arr[y:end + 1]\n",
    "        \n",
    "        for i in range(len(temp)):\n",
    "            arr[start + i] = temp[i]\n",
    "\n",
    "def solution():\n",
    "    global answer, arr\n",
    "    n = int(input())\n",
    "    arr = list(map(int, input().split()))\n",
    "    answer = 0\n",
    "    merge_sort(0, n-1)\n",
    "    print(answer)"
   ]
  },
  {
   "attachments": {},
   "cell_type": "markdown",
   "metadata": {},
   "source": [
    "## 예제입력"
   ]
  },
  {
   "cell_type": "code",
   "execution_count": 3,
   "metadata": {},
   "outputs": [
    {
     "name": "stdout",
     "output_type": "stream",
     "text": [
      "3\n"
     ]
    }
   ],
   "source": [
    "solution()"
   ]
  },
  {
   "attachments": {},
   "cell_type": "markdown",
   "metadata": {},
   "source": [
    "## Note"
   ]
  },
  {
   "cell_type": "markdown",
   "metadata": {},
   "source": [
    "* 1. for문을 이용하여 현재 index의 원소가 다음 index의 원소보다 크면 서로 자리를 바꿔준다(swap)\n",
    "    * temp라는 변수에 현재 index의 원소를 할당한 뒤 현재 index에 다음 index의 원소를 할당하고 다음 index에 현재 index의 원소(temp)를 할당한다.\n",
    "* 2. sorted_check라는 정렬이 완료되었는지 체크하는 함수를 만들어서 정렬이 완료되었으면 while문을 멈추게 한다.\n",
    "    * 현재 index와 다음 index와 비교하는 작업을 진행하여 현재 index가 더 크면 False를 for문이 완료될 때까지 다음 index보다 큰 값이 없으면 True를 반환한다.\n",
    "    \n",
    "* 시간초과\n"
   ]
  },
  {
   "attachments": {},
   "cell_type": "markdown",
   "metadata": {},
   "source": [
    "https://www.acmicpc.net/problem/1517"
   ]
  }
 ],
 "metadata": {
  "kernelspec": {
   "display_name": "ws1",
   "language": "python",
   "name": "python3"
  },
  "language_info": {
   "codemirror_mode": {
    "name": "ipython",
    "version": 3
   },
   "file_extension": ".py",
   "mimetype": "text/x-python",
   "name": "python",
   "nbconvert_exporter": "python",
   "pygments_lexer": "ipython3",
   "version": "3.11.3"
  },
  "orig_nbformat": 4,
  "vscode": {
   "interpreter": {
    "hash": "2856db72fb1e77597a3b14e9c1bb4d2315d342edc16fc9e25c6c6e499688b933"
   }
  }
 },
 "nbformat": 4,
 "nbformat_minor": 2
}
