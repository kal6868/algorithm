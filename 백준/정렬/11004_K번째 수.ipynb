{
 "cells": [
  {
   "attachments": {},
   "cell_type": "markdown",
   "metadata": {},
   "source": [
    "# K번째 수"
   ]
  },
  {
   "attachments": {},
   "cell_type": "markdown",
   "metadata": {},
   "source": [
    "## 문제"
   ]
  },
  {
   "attachments": {},
   "cell_type": "markdown",
   "metadata": {},
   "source": [
    "* 수 N개 A1, A2, ..., AN이 주어진다. A를 오름차순 정렬했을 때, 앞에서부터 K번째 있는 수를 구하는 프로그램을 작성하시오."
   ]
  },
  {
   "attachments": {},
   "cell_type": "markdown",
   "metadata": {},
   "source": [
    "## 입력"
   ]
  },
  {
   "cell_type": "markdown",
   "metadata": {},
   "source": [
    "* 첫째 줄에 N(1 ≤ N ≤ 5,000,000)과 K (1 ≤ K ≤ N)이 주어진다."
   ]
  },
  {
   "attachments": {},
   "cell_type": "markdown",
   "metadata": {},
   "source": [
    "* 둘째에는 A1, A2, ..., AN이 주어진다. (-109 ≤ Ai ≤ 109)"
   ]
  },
  {
   "attachments": {},
   "cell_type": "markdown",
   "metadata": {},
   "source": [
    "## 출력"
   ]
  },
  {
   "attachments": {},
   "cell_type": "markdown",
   "metadata": {},
   "source": [
    "* A를 정렬했을 때, 앞에서부터 K번째 있는 수를 출력한다."
   ]
  },
  {
   "attachments": {},
   "cell_type": "markdown",
   "metadata": {},
   "source": [
    "## Code"
   ]
  },
  {
   "cell_type": "code",
   "execution_count": 1,
   "metadata": {},
   "outputs": [],
   "source": [
    "# 11004번_K 번째 수\n",
    "import sys\n",
    "import heapq\n",
    "\n",
    "def solution():\n",
    "    T, K = map(int, input().split())\n",
    "    # T, K = map(int, sys.stdin.readline().split())\n",
    "    A = list(map(int, input().split()))\n",
    "    # A = list(map(int, sys.stdin.readline().split()))\n",
    "\n",
    "    numbers = []\n",
    "    for i in A:\n",
    "        heapq.heappush(numbers, i)\n",
    "\n",
    "    for i in range(K):\n",
    "        k_number = heapq.heappop(numbers)\n",
    "\n",
    "    print(k_number)\n"
   ]
  },
  {
   "cell_type": "code",
   "execution_count": null,
   "metadata": {},
   "outputs": [],
   "source": [
    "# 11004번_K 번째 수\n",
    "import sys\n",
    "import heapq\n",
    "\n",
    "def solution():\n",
    "    # T, K = map(int, input().split())\n",
    "    T, K = map(int, sys.stdin.readline().split())\n",
    "    # A = list(map(int, input().split()))\n",
    "    A = list(map(int, sys.stdin.readline().split()))\n",
    "    print(sorted(A)[K-1])\n"
   ]
  },
  {
   "attachments": {},
   "cell_type": "markdown",
   "metadata": {},
   "source": [
    "## 예제입력"
   ]
  },
  {
   "cell_type": "code",
   "execution_count": 2,
   "metadata": {},
   "outputs": [
    {
     "name": "stdout",
     "output_type": "stream",
     "text": [
      "2\n"
     ]
    }
   ],
   "source": [
    "solution()"
   ]
  },
  {
   "attachments": {},
   "cell_type": "markdown",
   "metadata": {},
   "source": [
    "## Note"
   ]
  },
  {
   "cell_type": "markdown",
   "metadata": {},
   "source": [
    "* 1. 숫자를 input 대신 sys.stdin.readline()을 사용해서 입력을 좀 더 빠르게 받은 뒤 정렬한다.\n",
    "* 2. heapq를 이용해서 List(numbers)에 숫자를 입력하면서 최소값이 0번째 index에 올 수 있도록 업데이트한다.\n",
    "* 3. for문으로 K번만 최소값을 업데이트 하는 과정을 반복하여 K번째로 작은 수를 찾아 출력한다."
   ]
  },
  {
   "attachments": {},
   "cell_type": "markdown",
   "metadata": {},
   "source": [
    "https://www.acmicpc.net/problem/11004"
   ]
  }
 ],
 "metadata": {
  "kernelspec": {
   "display_name": "ws1",
   "language": "python",
   "name": "python3"
  },
  "language_info": {
   "codemirror_mode": {
    "name": "ipython",
    "version": 3
   },
   "file_extension": ".py",
   "mimetype": "text/x-python",
   "name": "python",
   "nbconvert_exporter": "python",
   "pygments_lexer": "ipython3",
   "version": "3.11.3"
  },
  "orig_nbformat": 4,
  "vscode": {
   "interpreter": {
    "hash": "2856db72fb1e77597a3b14e9c1bb4d2315d342edc16fc9e25c6c6e499688b933"
   }
  }
 },
 "nbformat": 4,
 "nbformat_minor": 2
}
